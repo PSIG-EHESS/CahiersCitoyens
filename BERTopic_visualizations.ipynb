{
 "cells": [
  {
   "cell_type": "code",
   "execution_count": 1,
   "metadata": {},
   "outputs": [
    {
     "name": "stderr",
     "output_type": "stream",
     "text": [
      "/home/cahierscitoyens/projet_cahiers_citoyens/lib/python3.10/site-packages/umap/distances.py:1063: NumbaDeprecationWarning: The 'nopython' keyword argument was not supplied to the 'numba.jit' decorator. The implicit default value for this argument is currently False, but it will be changed to True in Numba 0.59.0. See https://numba.readthedocs.io/en/stable/reference/deprecation.html#deprecation-of-object-mode-fall-back-behaviour-when-using-jit for details.\n",
      "  @numba.jit()\n",
      "/home/cahierscitoyens/projet_cahiers_citoyens/lib/python3.10/site-packages/umap/distances.py:1071: NumbaDeprecationWarning: The 'nopython' keyword argument was not supplied to the 'numba.jit' decorator. The implicit default value for this argument is currently False, but it will be changed to True in Numba 0.59.0. See https://numba.readthedocs.io/en/stable/reference/deprecation.html#deprecation-of-object-mode-fall-back-behaviour-when-using-jit for details.\n",
      "  @numba.jit()\n",
      "/home/cahierscitoyens/projet_cahiers_citoyens/lib/python3.10/site-packages/umap/distances.py:1086: NumbaDeprecationWarning: The 'nopython' keyword argument was not supplied to the 'numba.jit' decorator. The implicit default value for this argument is currently False, but it will be changed to True in Numba 0.59.0. See https://numba.readthedocs.io/en/stable/reference/deprecation.html#deprecation-of-object-mode-fall-back-behaviour-when-using-jit for details.\n",
      "  @numba.jit()\n",
      "/home/cahierscitoyens/projet_cahiers_citoyens/lib/python3.10/site-packages/umap/umap_.py:660: NumbaDeprecationWarning: The 'nopython' keyword argument was not supplied to the 'numba.jit' decorator. The implicit default value for this argument is currently False, but it will be changed to True in Numba 0.59.0. See https://numba.readthedocs.io/en/stable/reference/deprecation.html#deprecation-of-object-mode-fall-back-behaviour-when-using-jit for details.\n",
      "  @numba.jit()\n"
     ]
    }
   ],
   "source": [
    "from bertopic import BERTopic\n",
    "import pandas as pd\n",
    "# surveillance des GPU/RAm/etc.\n",
    "import GPUtil"
   ]
  },
  {
   "cell_type": "code",
   "execution_count": 2,
   "metadata": {},
   "outputs": [
    {
     "name": "stdout",
     "output_type": "stream",
     "text": [
      "<class 'pandas.core.frame.DataFrame'>\n",
      "RangeIndex: 89581 entries, 0 to 89580\n",
      "Data columns (total 2 columns):\n",
      " #   Column               Non-Null Count  Dtype \n",
      "---  ------               --------------  ----- \n",
      " 0   Unnamed: 0           89581 non-null  object\n",
      " 1   lemmas_no_stopwords  89581 non-null  object\n",
      "dtypes: object(2)\n",
      "memory usage: 1.4+ MB\n",
      "None\n"
     ]
    }
   ],
   "source": [
    "# topic_model = BERTopic.load(\"echantillon_10000_dossier_topics/size_30_cluster_model_saved\")\n",
    "topic_model = BERTopic.load(\"echantillon_10000_dossier_topics/size_100_cluster_model_saved\")\n",
    "# df_used_by_model = pd.read_csv(\"echantillon_10000_dossier_topics/40_percent_for_30_clustersize_randomized_corpus.csv\", sep = \",\", encoding = \"utf-8\", dtype= str)\n",
    "df_used_by_model = pd.read_csv(\"echantillon_10000_dossier_topics/40_percent_for_100_clustersize_randomized_corpus.csv\", sep = \",\", encoding = \"utf-8\", dtype= str)\n",
    "\n",
    "\n",
    "print(df_used_by_model.info())\n",
    "\n"
   ]
  },
  {
   "cell_type": "code",
   "execution_count": 3,
   "metadata": {},
   "outputs": [
    {
     "name": "stdout",
     "output_type": "stream",
     "text": [
      "    Topic  Count                                               Name\n",
      "0      -1  58872                             -1_est_qu_faire_france\n",
      "1       0   3046                    0_vote_référendum_démocratie_il\n",
      "2       1   2692                 1_est_énergie_pollution_transition\n",
      "3       2   2311              2_retraites_retraite_augmentation_csg\n",
      "4       3   1189  3_souhaite soient_soient traités_priorité prob...\n",
      "5       4   1130                         4_impôt_fiscale_impôts_est\n",
      "6       5   1071                       5_médecins_santé_médecin_est\n",
      "7       6   1066              6_communes_commune_habitants_services\n",
      "8       7   1037      7_pensions_pension_retraite_pensions retraite\n",
      "9       8    990  8_inflation_retraites_retraites inflation_inde...\n",
      "10      9    964         9_suppression_députés_avantages_présidents\n"
     ]
    }
   ],
   "source": [
    "text_list = df_used_by_model.lemmas_no_stopwords.tolist()\n",
    "freq = topic_model.get_topic_info()\n",
    "print(freq.head(11))"
   ]
  },
  {
   "cell_type": "code",
   "execution_count": null,
   "metadata": {},
   "outputs": [],
   "source": [
    "heatmap = topic_model.visualize_heatmap()\n",
    "heatmap.show()\n",
    "heatmap.write_html(\"echantillon_10000_dossier_topics/size_100_heatmap_topics_40_percent.html\")"
   ]
  },
  {
   "cell_type": "code",
   "execution_count": null,
   "metadata": {},
   "outputs": [],
   "source": [
    "# listes de mots des topics avec des barres\n",
    "\n",
    "fig = topic_model.visualize_barchart(top_n_topics=12)\n",
    "fig.show()\n",
    "fig.write_html(\"echantillon_10000_dossier_topics/size_100_cluster_barchart_topics_40_percent.html\")"
   ]
  },
  {
   "cell_type": "code",
   "execution_count": 9,
   "metadata": {},
   "outputs": [],
   "source": [
    "# map of the topics on similarity\n",
    "# cluster/docs map : SANS reduced embedding ==> elle est très lourde. \n",
    "# reduced_embeddings = UMAP(n_neighbors=10, n_components=2, min_dist=0.0, metric='cosine').fit_transform(embeddings)\n",
    "figure_topic = topic_model.visualize_documents(text_list)\n",
    "figure_topic.write_html(\"echantillon_10000_dossier_topics/100_figure_topic_40_percents_docs.html\")\n"
   ]
  },
  {
   "cell_type": "code",
   "execution_count": null,
   "metadata": {},
   "outputs": [],
   "source": [
    "figure_topic.show()"
   ]
  },
  {
   "cell_type": "code",
   "execution_count": null,
   "metadata": {},
   "outputs": [],
   "source": []
  },
  {
   "cell_type": "code",
   "execution_count": null,
   "metadata": {},
   "outputs": [],
   "source": [
    "# hierarchical_topics = topic_model.hierarchical_topics(text_list)  ==> ça fait quoi déjà?\n",
    "hierarchie = topic_model.visualize_hierarchy()\n",
    "hierarchie.show()\n",
    "hierarchie.write_html(\"hierarchy_BERTopics.html\")"
   ]
  },
  {
   "cell_type": "code",
   "execution_count": null,
   "metadata": {},
   "outputs": [],
   "source": [
    "fig = topic_model.visualize_topics()\n",
    "fig.show()\n",
    "fig.write_html(\"echantillon_10000_dossier_topics/100_clustersize_40percent_intertopic_distancemap_BERTopics.html\")"
   ]
  },
  {
   "cell_type": "code",
   "execution_count": null,
   "metadata": {},
   "outputs": [],
   "source": []
  }
 ],
 "metadata": {
  "kernelspec": {
   "display_name": "projet_cahiers_citoyens",
   "language": "python",
   "name": "python3"
  },
  "language_info": {
   "codemirror_mode": {
    "name": "ipython",
    "version": 3
   },
   "file_extension": ".py",
   "mimetype": "text/x-python",
   "name": "python",
   "nbconvert_exporter": "python",
   "pygments_lexer": "ipython3",
   "version": "3.10.6"
  },
  "orig_nbformat": 4
 },
 "nbformat": 4,
 "nbformat_minor": 2
}

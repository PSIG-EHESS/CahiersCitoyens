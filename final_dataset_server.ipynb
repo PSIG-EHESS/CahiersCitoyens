{
 "cells": [
  {
   "cell_type": "code",
   "execution_count": 1,
   "metadata": {},
   "outputs": [
    {
     "name": "stdout",
     "output_type": "stream",
     "text": [
      "dossier firstiteration_output_lemmas : 3516 fichiers\n",
      "dossier firstiteration_output_pos : 3516 fichiers\n"
     ]
    }
   ],
   "source": [
    "import pandas as pd\n",
    "import os\n",
    "\n",
    "list_dir = [\"firstiteration_output_lemmas\", \"firstiteration_output_pos\"]\n",
    "for dir_path in list_dir :\n",
    "    nb_of_file = 0\n",
    "    for path in os.listdir(dir_path):\n",
    "        # check if current path is a file\n",
    "        nb_of_file += 1\n",
    "    print(f\"dossier {dir_path} : {nb_of_file} fichiers\")"
   ]
  },
  {
   "cell_type": "code",
   "execution_count": 6,
   "metadata": {},
   "outputs": [
    {
     "data": {
      "text/plain": [
       "(5, 1)"
      ]
     },
     "execution_count": 6,
     "metadata": {},
     "output_type": "execute_result"
    }
   ],
   "source": [
    "# debugging : the batches all miss one line\n",
    "\n",
    "test = pd.read_csv(f\"test_batchLEM_0.csv\", sep = \",\", names=[\"col\"])\n",
    "test = test.T\n",
    "temp0 = [i for i in test]\n",
    "one_concat_lemma = pd.DataFrame(temp0)\n",
    "\n",
    "s_lemma = one_concat_lemma.T\n",
    "s_lemma = s_lemma.rename(columns = {0 : \"lemma\"})\n",
    "\n",
    "temp = [i for i in s_lemma[\"lemma\"]]\n",
    "df_lemma = pd.DataFrame(temp)\n",
    "\n",
    "df_lemma.shape\n"
   ]
  },
  {
   "cell_type": "code",
   "execution_count": 2,
   "metadata": {},
   "outputs": [],
   "source": [
    "s_lemma = pd.DataFrame()\n",
    "s_postag = pd.DataFrame()\n",
    "# go through all the files saved after lemmatization\n",
    "# create a dataframe where each line is the list of lemmas for one contribution\n",
    "\n",
    "for i in range(nb_of_file) :\n",
    "    one_concat_lemma = pd.read_csv(f\"firstiteration_output_lemmas/lemma_temp_{i}.csv\", sep = \",\", names=[\"col\"])\n",
    "    one_concat_lemma = one_concat_lemma.T\n",
    "    temp0 = [i for i in one_concat_lemma]\n",
    "    one_concat_lemma = pd.DataFrame(temp0)\n",
    "    # dtype is objects. list is a python object.\n",
    "\n",
    "    one_concat_postag = pd.read_csv(f\"firstiteration_output_pos/pos_temp_{i}.csv\", sep = \",\", names=[\"col\"])\n",
    "    one_concat_postag = one_concat_postag.T\n",
    "    temp = [i for i in one_concat_postag]\n",
    "    one_concat_postag = pd.DataFrame(temp)\n",
    "    s_lemma = pd.concat([s_lemma,one_concat_lemma], axis=1)\n",
    "    s_postag = pd.concat([s_postag,one_concat_postag], axis=1)\n",
    "\n",
    "\n",
    "s_lemma = s_lemma.T\n",
    "s_lemma = s_lemma.rename(columns = {0 : \"lemma\"})\n",
    "\n",
    "s_postag = s_postag.T\n",
    "s_postag = s_postag.rename(columns = {0 : \"postag\"})\n",
    "\n",
    "# def print_full(df):\n",
    "#     import pandas as pd\n",
    "#     pd.set_option('display.max_rows', 99)\n",
    "#     pd.set_option('display.max_columns', 99)\n",
    "\n",
    "#     print(df)\n",
    "#     pd.reset_option('display.max_rows')\n",
    "\n",
    "#     pd.reset_option('display.max_columns')\n"
   ]
  },
  {
   "cell_type": "code",
   "execution_count": 7,
   "metadata": {},
   "outputs": [],
   "source": [
    "# flatten the dataframe\n",
    "temp = [i for i in s_lemma[\"lemma\"]]\n",
    "df_lemma = pd.DataFrame(temp)"
   ]
  },
  {
   "cell_type": "code",
   "execution_count": 8,
   "metadata": {},
   "outputs": [
    {
     "data": {
      "text/html": [
       "<div>\n",
       "<style scoped>\n",
       "    .dataframe tbody tr th:only-of-type {\n",
       "        vertical-align: middle;\n",
       "    }\n",
       "\n",
       "    .dataframe tbody tr th {\n",
       "        vertical-align: top;\n",
       "    }\n",
       "\n",
       "    .dataframe thead th {\n",
       "        text-align: right;\n",
       "    }\n",
       "</style>\n",
       "<table border=\"1\" class=\"dataframe\">\n",
       "  <thead>\n",
       "    <tr style=\"text-align: right;\">\n",
       "      <th></th>\n",
       "      <th>0</th>\n",
       "    </tr>\n",
       "  </thead>\n",
       "  <tbody>\n",
       "    <tr>\n",
       "      <th>0</th>\n",
       "      <td>['bien', 'que', 'nous', 'penser', 'que', 'ce',...</td>\n",
       "    </tr>\n",
       "    <tr>\n",
       "      <th>1</th>\n",
       "      <td>['oubli', 'systématique', 'de', 'le', 'fonctio...</td>\n",
       "    </tr>\n",
       "    <tr>\n",
       "      <th>2</th>\n",
       "      <td>['article', '1', 'de', 'code', 'de', 'le', 'co...</td>\n",
       "    </tr>\n",
       "    <tr>\n",
       "      <th>3</th>\n",
       "      <td>['MR', 'gravion', 'gille', 'retour', 'de', 'L....</td>\n",
       "    </tr>\n",
       "    <tr>\n",
       "      <th>4</th>\n",
       "      <td>['commune', 'de', 'caumont', 'aure', 'retour',...</td>\n",
       "    </tr>\n",
       "    <tr>\n",
       "      <th>...</th>\n",
       "      <td>...</td>\n",
       "    </tr>\n",
       "    <tr>\n",
       "      <th>221524</th>\n",
       "      <td>['le', 'un', 'de', 'cause', 'de', 'le', 'révol...</td>\n",
       "    </tr>\n",
       "    <tr>\n",
       "      <th>221525</th>\n",
       "      <td>['1', 'le', 'élu', ',', 'justement', 'parce', ...</td>\n",
       "    </tr>\n",
       "    <tr>\n",
       "      <th>221526</th>\n",
       "      <td>['quelle', 'être', 'tout', 'le', 'chose', 'qui...</td>\n",
       "    </tr>\n",
       "    <tr>\n",
       "      <th>221527</th>\n",
       "      <td>['1', 'publier', 'le', 'budget', 'de', 'minist...</td>\n",
       "    </tr>\n",
       "    <tr>\n",
       "      <th>221528</th>\n",
       "      <td>['1', 'maire', '2', 'non', '3', 'cahier', 'de'...</td>\n",
       "    </tr>\n",
       "  </tbody>\n",
       "</table>\n",
       "<p>221529 rows × 1 columns</p>\n",
       "</div>"
      ],
      "text/plain": [
       "                                                        0\n",
       "0       ['bien', 'que', 'nous', 'penser', 'que', 'ce',...\n",
       "1       ['oubli', 'systématique', 'de', 'le', 'fonctio...\n",
       "2       ['article', '1', 'de', 'code', 'de', 'le', 'co...\n",
       "3       ['MR', 'gravion', 'gille', 'retour', 'de', 'L....\n",
       "4       ['commune', 'de', 'caumont', 'aure', 'retour',...\n",
       "...                                                   ...\n",
       "221524  ['le', 'un', 'de', 'cause', 'de', 'le', 'révol...\n",
       "221525  ['1', 'le', 'élu', ',', 'justement', 'parce', ...\n",
       "221526  ['quelle', 'être', 'tout', 'le', 'chose', 'qui...\n",
       "221527  ['1', 'publier', 'le', 'budget', 'de', 'minist...\n",
       "221528  ['1', 'maire', '2', 'non', '3', 'cahier', 'de'...\n",
       "\n",
       "[221529 rows x 1 columns]"
      ]
     },
     "execution_count": 8,
     "metadata": {},
     "output_type": "execute_result"
    }
   ],
   "source": [
    "df_lemma"
   ]
  },
  {
   "cell_type": "code",
   "execution_count": 9,
   "metadata": {},
   "outputs": [],
   "source": [
    "temp = [i for i in s_postag[\"postag\"]]\n",
    "df_postag = pd.DataFrame(temp)"
   ]
  },
  {
   "cell_type": "code",
   "execution_count": 10,
   "metadata": {},
   "outputs": [
    {
     "data": {
      "text/html": [
       "<div>\n",
       "<style scoped>\n",
       "    .dataframe tbody tr th:only-of-type {\n",
       "        vertical-align: middle;\n",
       "    }\n",
       "\n",
       "    .dataframe tbody tr th {\n",
       "        vertical-align: top;\n",
       "    }\n",
       "\n",
       "    .dataframe thead th {\n",
       "        text-align: right;\n",
       "    }\n",
       "</style>\n",
       "<table border=\"1\" class=\"dataframe\">\n",
       "  <thead>\n",
       "    <tr style=\"text-align: right;\">\n",
       "      <th></th>\n",
       "      <th>0</th>\n",
       "    </tr>\n",
       "  </thead>\n",
       "  <tbody>\n",
       "    <tr>\n",
       "      <th>0</th>\n",
       "      <td>['ADV', 'SCONJ', 'PRON', 'VERB', 'SCONJ', 'PRO...</td>\n",
       "    </tr>\n",
       "    <tr>\n",
       "      <th>1</th>\n",
       "      <td>['NOUN', 'ADJ', 'ADP', 'DET', 'NOUN', 'ADJ', '...</td>\n",
       "    </tr>\n",
       "    <tr>\n",
       "      <th>2</th>\n",
       "      <td>['NOUN', 'NUM', 'ADP', 'NOUN', 'ADP', 'DET', '...</td>\n",
       "    </tr>\n",
       "    <tr>\n",
       "      <th>3</th>\n",
       "      <td>['PROPN', 'VERB', 'ADJ', 'NOUN', 'ADP', 'PROPN...</td>\n",
       "    </tr>\n",
       "    <tr>\n",
       "      <th>4</th>\n",
       "      <td>['NOUN', 'ADP', 'PROPN', 'VERB', 'NOUN', 'PROP...</td>\n",
       "    </tr>\n",
       "    <tr>\n",
       "      <th>...</th>\n",
       "      <td>...</td>\n",
       "    </tr>\n",
       "    <tr>\n",
       "      <th>221524</th>\n",
       "      <td>['DET', 'PRON', 'ADP', 'NOUN', 'ADP', 'DET', '...</td>\n",
       "    </tr>\n",
       "    <tr>\n",
       "      <th>221525</th>\n",
       "      <td>['NUM', 'DET', 'NOUN', 'PUNCT', 'ADV', 'SCONJ'...</td>\n",
       "    </tr>\n",
       "    <tr>\n",
       "      <th>221526</th>\n",
       "      <td>['ADJ', 'AUX', 'ADJ', 'DET', 'NOUN', 'PRON', '...</td>\n",
       "    </tr>\n",
       "    <tr>\n",
       "      <th>221527</th>\n",
       "      <td>['NUM', 'VERB', 'DET', 'NOUN', 'ADP', 'NOUN', ...</td>\n",
       "    </tr>\n",
       "    <tr>\n",
       "      <th>221528</th>\n",
       "      <td>['NUM', 'NOUN', 'NUM', 'ADV', 'NUM', 'NOUN', '...</td>\n",
       "    </tr>\n",
       "  </tbody>\n",
       "</table>\n",
       "<p>221529 rows × 1 columns</p>\n",
       "</div>"
      ],
      "text/plain": [
       "                                                        0\n",
       "0       ['ADV', 'SCONJ', 'PRON', 'VERB', 'SCONJ', 'PRO...\n",
       "1       ['NOUN', 'ADJ', 'ADP', 'DET', 'NOUN', 'ADJ', '...\n",
       "2       ['NOUN', 'NUM', 'ADP', 'NOUN', 'ADP', 'DET', '...\n",
       "3       ['PROPN', 'VERB', 'ADJ', 'NOUN', 'ADP', 'PROPN...\n",
       "4       ['NOUN', 'ADP', 'PROPN', 'VERB', 'NOUN', 'PROP...\n",
       "...                                                   ...\n",
       "221524  ['DET', 'PRON', 'ADP', 'NOUN', 'ADP', 'DET', '...\n",
       "221525  ['NUM', 'DET', 'NOUN', 'PUNCT', 'ADV', 'SCONJ'...\n",
       "221526  ['ADJ', 'AUX', 'ADJ', 'DET', 'NOUN', 'PRON', '...\n",
       "221527  ['NUM', 'VERB', 'DET', 'NOUN', 'ADP', 'NOUN', ...\n",
       "221528  ['NUM', 'NOUN', 'NUM', 'ADV', 'NUM', 'NOUN', '...\n",
       "\n",
       "[221529 rows x 1 columns]"
      ]
     },
     "execution_count": 10,
     "metadata": {},
     "output_type": "execute_result"
    }
   ],
   "source": [
    "df_postag"
   ]
  },
  {
   "cell_type": "code",
   "execution_count": 5,
   "metadata": {},
   "outputs": [
    {
     "data": {
      "text/plain": [
       "(225045, 10)"
      ]
     },
     "execution_count": 5,
     "metadata": {},
     "output_type": "execute_result"
    }
   ],
   "source": [
    "df = pd.read_csv(\"contrib_from_csv.csv\", sep = \",\", encoding = \"utf-8\", dtype= str)\n",
    "df.shape"
   ]
  },
  {
   "cell_type": "code",
   "execution_count": null,
   "metadata": {},
   "outputs": [],
   "source": [
    "first_step_df = pd.concat(df, df_lemma, ignore_index=True)"
   ]
  },
  {
   "cell_type": "code",
   "execution_count": null,
   "metadata": {},
   "outputs": [],
   "source": [
    "second_step_df = pd.concat(first_step_df, df_postag, ignore_index=True)"
   ]
  },
  {
   "cell_type": "code",
   "execution_count": null,
   "metadata": {},
   "outputs": [],
   "source": [
    "second_step_df"
   ]
  },
  {
   "cell_type": "code",
   "execution_count": null,
   "metadata": {},
   "outputs": [],
   "source": [
    "second_step_df.to_csv(\"final_dataset_server.csv\", index = False)"
   ]
  }
 ],
 "metadata": {
  "kernelspec": {
   "display_name": "my4env",
   "language": "python",
   "name": "python3"
  },
  "language_info": {
   "codemirror_mode": {
    "name": "ipython",
    "version": 3
   },
   "file_extension": ".py",
   "mimetype": "text/x-python",
   "name": "python",
   "nbconvert_exporter": "python",
   "pygments_lexer": "ipython3",
   "version": "3.10.10"
  },
  "orig_nbformat": 4
 },
 "nbformat": 4,
 "nbformat_minor": 2
}

{
 "cells": [
  {
   "cell_type": "code",
   "execution_count": null,
   "metadata": {},
   "outputs": [],
   "source": [
    "from bertopic import BERTopic\n",
    "from bertopic.vectorizers import ClassTfidfTransformer\n",
    "from sentence_transformers import SentenceTransformer\n",
    "from umap import UMAP\n",
    "from hdbscan import HDBSCAN\n",
    "\n",
    "# possible variation de modèle :\n",
    "# from bertopic.representation import KeyBERTInspired\n"
   ]
  },
  {
   "cell_type": "code",
   "execution_count": 2,
   "metadata": {},
   "outputs": [],
   "source": [
    "import pandas as pd\n",
    "# surveillance des GPU/RAm/etc.\n",
    "import GPUtil\n",
    "\n",
    "# vectorisation des textes\n",
    "from sklearn.feature_extraction.text import CountVectorizer\n",
    "import torch\n",
    "\n",
    "# error ou warning : c:\\Users\\ehess\\anaconda3\\envs\\my4env\\lib\\site-packages\\umap\\distances.py:1063: \n",
    "# NumbaDeprecationWarning: The 'nopython' keyword argument was not supplied to the 'numba.jit' decorator. \n",
    "# The implicit default value for this argument is currently False, but it will be changed to True in Numba 0.59.0. \n",
    "# See https://numba.readthedocs.io/en/stable/reference/deprecation.html#deprecation-of-object-mode-fall-back-behaviour-when-using-jit for details.@numba.jit()"
   ]
  },
  {
   "cell_type": "code",
   "execution_count": 3,
   "metadata": {},
   "outputs": [
    {
     "name": "stdout",
     "output_type": "stream",
     "text": [
      "Using GPU!\n",
      "GPU Usage\n",
      "| ID | GPU | MEM |\n",
      "------------------\n",
      "|  0 |  4% |  9% |\n"
     ]
    }
   ],
   "source": [
    "import spacy\n",
    "from thinc.api import set_gpu_allocator, require_gpu, prefer_gpu, use_pytorch_for_gpu_memory, set_active_gpu\n",
    "set_gpu_allocator(\"pytorch\")\n",
    "require_gpu() \n",
    "set_active_gpu(0)\n",
    "if prefer_gpu():\n",
    "    print(\"Using GPU!\")\n",
    "    torch.set_default_tensor_type(\"torch.cuda.FloatTensor\")\n",
    "    use_pytorch_for_gpu_memory()\n",
    "\n",
    "    print(\"GPU Usage\")\n",
    "    GPUtil.showUtilization()"
   ]
  },
  {
   "cell_type": "code",
   "execution_count": 4,
   "metadata": {},
   "outputs": [
    {
     "name": "stdout",
     "output_type": "stream",
     "text": [
      "Using GPU with spacy!\n",
      "GPU Usage\n",
      "| ID | GPU | MEM |\n",
      "------------------\n",
      "|  0 |  3% |  9% |\n"
     ]
    }
   ],
   "source": [
    "# pour un ordi avec GPU\n",
    "is_using_gpu = spacy.prefer_gpu()\n",
    "if is_using_gpu:\n",
    "    print(\"Using GPU with spacy!\")\n",
    "    torch.set_default_tensor_type(\"torch.cuda.FloatTensor\")\n",
    "    print(\"GPU Usage\")\n",
    "    GPUtil.showUtilization()"
   ]
  },
  {
   "cell_type": "code",
   "execution_count": 2,
   "metadata": {},
   "outputs": [],
   "source": [
    "# df = pd.read_pickle(\"pickle_sentences_sentences.pkl\") \n",
    "df = pd.read_csv(\"df_CC_cleaned.csv\", sep = \",\", encoding = \"utf-8\", dtype= str)\n",
    "# df = pd.read_csv(\"df_CC_lemmas_postag.csv\", sep = \",\", encoding = \"utf-8\", dtype= str)"
   ]
  },
  {
   "cell_type": "code",
   "execution_count": null,
   "metadata": {},
   "outputs": [],
   "source": [
    "# après recherches, les NaN qu'on retrouve ici sont produites au moment du split et sont des espaces.\n",
    "\n",
    "print(\"y a t il des nan? ->\",df.isnull().values.any())\n",
    "print(\"combien y a t il de nan? ->\",df.isnull().values.sum())\n",
    "print(\"où sont les null? ->\\n\",df.isnull().sum())\n",
    "df[df.isnull().T.any()] # pour afficher les lignes qui contiennent des null\n",
    "\n",
    "# on choisit de supprimer les rangs contenant une NaN.\n",
    "# l'index est remis à jour, on conserve les information liées aux contributions\n",
    "df.dropna(inplace = True, ignore_index = True)\n",
    "\n",
    "print(\"y a t il des nan? ->\",df.isnull().values.any())\n",
    "print(\"combien y a t il de nan? ->\",df.isnull().values.sum())\n",
    "print(\"où sont les null? ->\\n\",df.isnull().sum())\n"
   ]
  },
  {
   "cell_type": "code",
   "execution_count": 8,
   "metadata": {},
   "outputs": [
    {
     "name": "stdout",
     "output_type": "stream",
     "text": [
      "| ID | GPU | MEM |\n",
      "------------------\n",
      "|  0 |  0% |  4% |\n"
     ]
    }
   ],
   "source": [
    "# randomize all lines or a portion (0.02% ~= 480 000 sentences)\n",
    "df = df.sample(frac= 0.4)\n",
    "df = df.astype(str)\n",
    "df[\"lemmas_no_stopwords\"].to_csv(\"40_percent_for_100_clustersize_randomized_corpus.csv\")\n",
    "# turn sentences column into a list\n",
    "# text_list = df.phrases.tolist()\n",
    "text_list = df.lemmas_no_stopwords.tolist()\n",
    "\n",
    "\n",
    "# delete dataframe\n",
    "del df\n",
    "\n",
    "GPUtil.showUtilization()"
   ]
  },
  {
   "cell_type": "code",
   "execution_count": 9,
   "metadata": {},
   "outputs": [],
   "source": [
    "device = \"cuda:0\" if torch.cuda.is_available() else \"cpu\""
   ]
  },
  {
   "cell_type": "code",
   "execution_count": 10,
   "metadata": {},
   "outputs": [
    {
     "name": "stdout",
     "output_type": "stream",
     "text": [
      "cuda:0\n"
     ]
    }
   ],
   "source": [
    "print(device)"
   ]
  },
  {
   "cell_type": "code",
   "execution_count": 11,
   "metadata": {},
   "outputs": [],
   "source": [
    "# dl embeddings\n",
    "embedding_model = SentenceTransformer(\"all-MiniLM-L6-v2\", device = \"cuda\") # il trouve la device\n",
    "\n",
    "# commande bash:  nvidia-smi -l 2 pour connaitre l'activité du gpu en temps réel"
   ]
  },
  {
   "cell_type": "code",
   "execution_count": 12,
   "metadata": {},
   "outputs": [],
   "source": [
    "# Step 1 - Extract embeddings\n",
    "# the trained Stence Transformer embedding produced with the La Javaness procedure, from CamemBert didn t work :\n",
    "\n",
    "# embedding_model = SentenceTransformer(os.path.join('/Users/ehess/.cache/torch/sentence_transformers/dangvantuan_sentence-camembert-large/', 'sentence_bert_config.json'))\n",
    "# '/Users/ehess/.cache/torch/sentence_transformers/dangvantuan_sentence-camembert-large'\n",
    "\n",
    "# pour telecharger :\n",
    "# from transformers.pipelines import pipeline\n",
    "# embedding_model = pipeline(\"feature-extraction\", model=\"dangvantuan/sentence-camembert-large\")\n"
   ]
  },
  {
   "cell_type": "code",
   "execution_count": 13,
   "metadata": {},
   "outputs": [
    {
     "data": {
      "application/vnd.jupyter.widget-view+json": {
       "model_id": "a721125d064146cab1296578611f0ef0",
       "version_major": 2,
       "version_minor": 0
      },
      "text/plain": [
       "Batches:   0%|          | 0/700 [00:00<?, ?it/s]"
      ]
     },
     "metadata": {},
     "output_type": "display_data"
    }
   ],
   "source": [
    "# Step 1 - Extract embeddings\n",
    "# WARNING : execute in ~15mn on sentences or 1 hour on contributions\n",
    "\n",
    "embeddings = embedding_model.encode(text_list, batch_size=128, show_progress_bar=True)"
   ]
  },
  {
   "cell_type": "code",
   "execution_count": 14,
   "metadata": {},
   "outputs": [
    {
     "name": "stdout",
     "output_type": "stream",
     "text": [
      "| ID | GPU | MEM |\n",
      "------------------\n",
      "|  0 |  0% | 17% |\n"
     ]
    }
   ],
   "source": [
    "GPUtil.showUtilization()"
   ]
  },
  {
   "cell_type": "code",
   "execution_count": 15,
   "metadata": {},
   "outputs": [],
   "source": [
    "# Step 2 - Reduce dimensionality\n",
    "umap_model = UMAP(n_neighbors=15, n_components=5, min_dist=0.0, metric='cosine')\n"
   ]
  },
  {
   "cell_type": "code",
   "execution_count": 16,
   "metadata": {},
   "outputs": [],
   "source": [
    "\n",
    "# Step 3 - Cluster reduced embeddings\n",
    "# min_cluster_size parameter allow us to choose how cluster are precise or larges\n",
    "hdbscan_model = HDBSCAN(min_cluster_size=30, metric='euclidean', cluster_selection_method='eom')\n",
    "#hdbscan_model = HDBSCAN(min_cluster_size=30, metric='euclidean', cluster_selection_method='eom', prediction_data=True)"
   ]
  },
  {
   "cell_type": "code",
   "execution_count": 17,
   "metadata": {},
   "outputs": [],
   "source": [
    "# Step 4 - Tokenize topics\n",
    "\n",
    "# vectorizer_model= CountVectorizer(tokenizer=lemmatize)\n",
    "vectorizer_model = CountVectorizer(ngram_range=(1,2))\n"
   ]
  },
  {
   "cell_type": "code",
   "execution_count": 18,
   "metadata": {},
   "outputs": [],
   "source": [
    "\n",
    "# Step 5 - Create topic representation\n",
    "ctfidf_model = ClassTfidfTransformer()\n"
   ]
  },
  {
   "cell_type": "code",
   "execution_count": 19,
   "metadata": {},
   "outputs": [],
   "source": [
    "# Step 6 - (Optional) Fine-tune topic representations with a `bertopic.representation` model = the previous model\n",
    "\n",
    "# representation_model = KeyBERTInspired()"
   ]
  },
  {
   "cell_type": "code",
   "execution_count": 20,
   "metadata": {},
   "outputs": [],
   "source": [
    "import os\n",
    "os.environ[\"TOKENIZERS_PARALLELISM\"] = \"true\"\n"
   ]
  },
  {
   "cell_type": "code",
   "execution_count": 21,
   "metadata": {},
   "outputs": [
    {
     "name": "stdout",
     "output_type": "stream",
     "text": [
      "run 100 cluster size try\n",
      "| ID | GPU | MEM |\n",
      "------------------\n",
      "|  0 |  0% | 17% |\n",
      "1\n"
     ]
    },
    {
     "data": {
      "application/vnd.jupyter.widget-view+json": {
       "model_id": "cebf9a22be2741b1aeff2f0223771999",
       "version_major": 2,
       "version_minor": 0
      },
      "text/plain": [
       "Batches:   0%|          | 0/2800 [00:00<?, ?it/s]"
      ]
     },
     "metadata": {},
     "output_type": "display_data"
    },
    {
     "name": "stderr",
     "output_type": "stream",
     "text": [
      "2023-07-03 17:24:54,819 - BERTopic - Transformed documents to Embeddings\n",
      "2023-07-03 17:25:48,174 - BERTopic - Reduced dimensionality\n",
      "2023-07-03 17:25:52,722 - BERTopic - Clustered reduced embeddings\n",
      "2023-07-03 17:27:04,464 - BERTopic - Reduced number of topics from 59 to 59\n"
     ]
    },
    {
     "name": "stdout",
     "output_type": "stream",
     "text": [
      "| ID | GPU | MEM |\n",
      "------------------\n",
      "|  0 |  0% | 17% |\n",
      "2\n",
      "| ID | GPU | MEM |\n",
      "------------------\n",
      "|  0 |  0% | 17% |\n",
      "3\n",
      "| ID | GPU | MEM |\n",
      "------------------\n",
      "|  0 |  0% | 17% |\n",
      "4\n",
      "| ID | GPU | MEM |\n",
      "------------------\n",
      "|  0 |  0% | 17% |\n",
      "5\n"
     ]
    },
    {
     "name": "stderr",
     "output_type": "stream",
     "text": [
      "/home/cahierscitoyens/projet_cahiers_citoyens/lib/python3.10/site-packages/scipy/sparse/_index.py:146: SparseEfficiencyWarning: Changing the sparsity structure of a csr_matrix is expensive. lil_matrix is more efficient.\n",
      "  self._set_arrayXarray(i, j, x)\n"
     ]
    },
    {
     "ename": "",
     "evalue": "",
     "output_type": "error",
     "traceback": [
      "\u001b[1;31mThe Kernel crashed while executing code in the the current cell or a previous cell. Please review the code in the cell(s) to identify a possible cause of the failure. Click <a href='https://aka.ms/vscodeJupyterKernelCrash'>here</a> for more info. View Jupyter <a href='command:jupyter.viewOutput'>log</a> for further details."
     ]
    }
   ],
   "source": [
    "# HDBscan : test avec 5 taille de clusters\n",
    "\n",
    "# taille 1 pour avoir tous les topics générés\n",
    "\n",
    "# grid_parametres = [None,40,50,80,100]\n",
    "grid_parametres = [100]\n",
    "\n",
    "\n",
    "\n",
    "for size in grid_parametres : \n",
    "    print(f\"run {size} cluster size try\")\n",
    "    # new HDBSCAN with new size cluster limit\n",
    "    if size == None : \n",
    "        hdbscan_model = HDBSCAN(metric='euclidean', cluster_selection_method='eom')\n",
    "    else :\n",
    "        hdbscan_model = HDBSCAN(min_cluster_size= size, metric='euclidean', cluster_selection_method='eom')\n",
    "\n",
    "    topic_model = BERTopic(\n",
    "    top_n_words = 40, # 10 is default, we ask more words for qualitative evaluation\n",
    "    n_gram_range = (1,3), # (1,1) is default, we ask a larger range\n",
    "    nr_topics= \"auto\",\n",
    "    low_memory = True, \n",
    "    calculate_probabilities = False,\n",
    "    embedding_model=embedding_model,          # Step 1 - Extract embeddings\n",
    "    umap_model=umap_model,                    # Step 2 - Reduce dimensionality\n",
    "    hdbscan_model=hdbscan_model,              # Step 3 - Cluster reduced embeddings\n",
    "    vectorizer_model=vectorizer_model,        # Step 4 - Tokenize topics\n",
    "    ctfidf_model=ctfidf_model,                # Step 5 - Extract topic words\n",
    "    verbose = True\n",
    ")\n",
    "    GPUtil.showUtilization()\n",
    "    print(1)\n",
    "    topics, probs = topic_model.fit_transform(text_list)\n",
    "    GPUtil.showUtilization()\n",
    "    print(2)\n",
    "\n",
    "    dd = [[item[0] if item[0] else pd.NA for item in topics]for topics in topic_model.get_topics().values()]\n",
    "    GPUtil.showUtilization()\n",
    "    print(3)\n",
    "\n",
    "    ded = pd.DataFrame(dd)\n",
    "    freq = topic_model.get_topic_info()\n",
    "    GPUtil.showUtilization()\n",
    "    print(4)\n",
    "\n",
    "\n",
    "    output = pd.concat([freq, ded], axis=1)\n",
    "    output.to_csv(f'echantillon_10000_dossier_topics/words_size_{size}_cluster_BERTopic.csv', index=False)\n",
    "    GPUtil.showUtilization()\n",
    "    print(5)\n",
    "\n",
    "\n",
    "    topic_model.save(f\"echantillon_10000_dossier_topics/size_{size}_cluster_model_saved\")\n",
    "    \n",
    "\n",
    "\n"
   ]
  },
  {
   "cell_type": "code",
   "execution_count": null,
   "metadata": {},
   "outputs": [],
   "source": [
    "topic_model = BERTopic.load(\"echantillon_10000_dossier_topics/size_30_cluster_model_saved\")\n",
    "df_used_by_model = pd.read_csv(\"randomized_40_percent_of_corpus.csv\", sep = \",\", encoding = \"utf-8\", dtype= str)\n",
    "text_list = df_used_by_model.tolist()\n",
    "freq = topic_model.get_topic_info()\n",
    "print(freq.head(11))"
   ]
  },
  {
   "cell_type": "code",
   "execution_count": 32,
   "metadata": {},
   "outputs": [
    {
     "data": {
      "application/vnd.plotly.v1+json": {
       "config": {
        "plotlyServerURL": "https://plot.ly"
       },
       "data": [
        {
         "marker": {
          "color": "#D55E00"
         },
         "orientation": "h",
         "type": "bar",
         "x": [
          0.004507410099045476,
          0.0045349400210977255,
          0.005641509961233225,
          0.0066121358873354255,
          0.007070121588766829
         ],
         "xaxis": "x",
         "y": [
          "qu  ",
          "est  ",
          "faut il  ",
          "faut  ",
          "il  "
         ],
         "yaxis": "y"
        },
        {
         "marker": {
          "color": "#0072B2"
         },
         "orientation": "h",
         "type": "bar",
         "x": [
          0.015282046528962919,
          0.015700743293322435,
          0.01631936451874477,
          0.019187669160536217,
          0.029250379631553487
         ],
         "xaxis": "x2",
         "y": [
          "retraites inflation  ",
          "indexation  ",
          "pensions  ",
          "retraites  ",
          "inflation  "
         ],
         "yaxis": "y2"
        },
        {
         "marker": {
          "color": "#CC79A7"
         },
         "orientation": "h",
         "type": "bar",
         "x": [
          0.01430104166036253,
          0.01659099930038256,
          0.020470180968618575,
          0.023771483925865724,
          0.028691642426814695
         ],
         "xaxis": "x3",
         "y": [
          "retraités  ",
          "csg  ",
          "augmentation  ",
          "retraite  ",
          "retraites  "
         ],
         "yaxis": "y3"
        },
        {
         "marker": {
          "color": "#E69F00"
         },
         "orientation": "h",
         "type": "bar",
         "x": [
          0.004174807333833655,
          0.005098845258594452,
          0.00513550114416517,
          0.0076887753307034795,
          0.016278201298070425
         ],
         "xaxis": "x4",
         "y": [
          "élus  ",
          "services  ",
          "habitants  ",
          "commune  ",
          "communes  "
         ],
         "yaxis": "y4"
        },
        {
         "marker": {
          "color": "#56B4E9"
         },
         "orientation": "h",
         "type": "bar",
         "x": [
          0.004646818906949295,
          0.005104007510000392,
          0.007379021279199491,
          0.007596406099367301,
          0.011014507416988888
         ],
         "xaxis": "x5",
         "y": [
          "patients  ",
          "médical  ",
          "médecin  ",
          "santé  ",
          "médecins  "
         ],
         "yaxis": "y5"
        },
        {
         "marker": {
          "color": "#009E73"
         },
         "orientation": "h",
         "type": "bar",
         "x": [
          0.027862636559474494,
          0.02853678511421438,
          0.02880476314123609,
          0.028981299086792315,
          0.030111363828159522
         ],
         "xaxis": "x6",
         "y": [
          "habitant  ",
          "priorité problèmes  ",
          "traités ordre  ",
          "soient traités  ",
          "souhaite soient  "
         ],
         "yaxis": "y6"
        },
        {
         "marker": {
          "color": "#F0E442"
         },
         "orientation": "h",
         "type": "bar",
         "x": [
          0.011833945021136062,
          0.011903251707156276,
          0.01223266722153548,
          0.012778874024364333,
          0.04790021874352672
         ],
         "xaxis": "x7",
         "y": [
          "avantages  ",
          "présidents  ",
          "suppression avantages  ",
          "anciens  ",
          "suppression  "
         ],
         "yaxis": "y7"
        },
        {
         "marker": {
          "color": "#D55E00"
         },
         "orientation": "h",
         "type": "bar",
         "x": [
          0.02503843506110431,
          0.026573270165722588,
          0.026660233219104535,
          0.02972097076033156,
          0.03260621503436705
         ],
         "xaxis": "x8",
         "y": [
          "légalisation  ",
          "active mourir  ",
          "aide active  ",
          "active  ",
          "mourir  "
         ],
         "yaxis": "y8"
        },
        {
         "marker": {
          "color": "#0072B2"
         },
         "orientation": "h",
         "type": "bar",
         "x": [
          0.012873548987980172,
          0.014200226507325619,
          0.014668620278404898,
          0.015444776421007576,
          0.02085124996084477
         ],
         "xaxis": "x9",
         "y": [
          "personnes handicapées  ",
          "handicapés  ",
          "personnes  ",
          "handicapées  ",
          "handicap  "
         ],
         "yaxis": "y9"
        },
        {
         "marker": {
          "color": "#CC79A7"
         },
         "orientation": "h",
         "type": "bar",
         "x": [
          0.011587568868775908,
          0.012191018512499537,
          0.0147654126335624,
          0.016507562732050167,
          0.01996775227760354
         ],
         "xaxis": "x10",
         "y": [
          "80 km  ",
          "80  ",
          "routes  ",
          "vitesse  ",
          "km  "
         ],
         "yaxis": "y10"
        },
        {
         "marker": {
          "color": "#E69F00"
         },
         "orientation": "h",
         "type": "bar",
         "x": [
          0.024232937897636343,
          0.02448573550582043,
          0.02797239292714438,
          0.028163477536583412,
          0.031127968201854133
         ],
         "xaxis": "x11",
         "y": [
          "petits  ",
          "patrons  ",
          "petits patrons  ",
          "patrons artisans  ",
          "artisans  "
         ],
         "yaxis": "y11"
        },
        {
         "marker": {
          "color": "#56B4E9"
         },
         "orientation": "h",
         "type": "bar",
         "x": [
          0.026485860109205613,
          0.027081404436527647,
          0.030579424723774833,
          0.03414012838882968,
          0.03575634586463056
         ],
         "xaxis": "x12",
         "y": [
          "ordre priorité  ",
          "paris  ",
          "ville paris  ",
          "par ordre  ",
          "souhaitez  "
         ],
         "yaxis": "y12"
        },
        {
         "marker": {
          "color": "#009E73"
         },
         "orientation": "h",
         "type": "bar",
         "x": [
          0.005828404603145131,
          0.006885394188480485,
          0.007832671337013077,
          0.010074349455910873,
          0.01646251130693449
         ],
         "xaxis": "x13",
         "y": [
          "agriculteurs  ",
          "produits  ",
          "bio  ",
          "agriculture  ",
          "pesticides  "
         ],
         "yaxis": "y13"
        },
        {
         "marker": {
          "color": "#F0E442"
         },
         "orientation": "h",
         "type": "bar",
         "x": [
          0.03277013045174982,
          0.034824075567760376,
          0.044667072437027076,
          0.04652626868062452,
          0.07483119173483228
         ],
         "xaxis": "x14",
         "y": [
          "jointes  ",
          "ko  ",
          "mairie mairie  ",
          "pdf  ",
          "mairie  "
         ],
         "yaxis": "y14"
        },
        {
         "marker": {
          "color": "#D55E00"
         },
         "orientation": "h",
         "type": "bar",
         "x": [
          0.007952979747304849,
          0.009674106614579792,
          0.016362988412842096,
          0.01663593381018355,
          0.017251040080894172
         ],
         "xaxis": "x15",
         "y": [
          "transports commun  ",
          "commun  ",
          "bus  ",
          "transport  ",
          "transports  "
         ],
         "yaxis": "y15"
        },
        {
         "marker": {
          "color": "#0072B2"
         },
         "orientation": "h",
         "type": "bar",
         "x": [
          0.006765658717041691,
          0.0070414032048263745,
          0.013680072409632744,
          0.024355703156131656,
          0.027824567719701033
         ],
         "xaxis": "x16",
         "y": [
          "famille  ",
          "familles  ",
          "enfant  ",
          "parents  ",
          "enfants  "
         ],
         "yaxis": "y16"
        },
        {
         "marker": {
          "color": "#CC79A7"
         },
         "orientation": "h",
         "type": "bar",
         "x": [
          0.014543991707194349,
          0.016017486795878205,
          0.016410304475789422,
          0.03022954791933629,
          0.037050769889784514
         ],
         "xaxis": "x17",
         "y": [
          "baisse  ",
          "habitation  ",
          "taxe habitation  ",
          "taxe  ",
          "taxes  "
         ],
         "yaxis": "y17"
        },
        {
         "marker": {
          "color": "#E69F00"
         },
         "orientation": "h",
         "type": "bar",
         "x": [
          0.03398456033730699,
          0.039650141510582694,
          0.04038620950623753,
          0.04232531726614482,
          0.04894610052805219
         ],
         "xaxis": "x18",
         "y": [
          "démarches  ",
          "publics  ",
          "services  ",
          "services publics  ",
          "vous  "
         ],
         "yaxis": "y18"
        },
        {
         "marker": {
          "color": "#56B4E9"
         },
         "orientation": "h",
         "type": "bar",
         "x": [
          0.006379897228032254,
          0.006967204420208375,
          0.007134743454096545,
          0.007418234562228204,
          0.00931758790557938
         ],
         "xaxis": "x19",
         "y": [
          "nucléaire  ",
          "énergie  ",
          "électricité  ",
          "batteries  ",
          "électrique  "
         ],
         "yaxis": "y19"
        },
        {
         "marker": {
          "color": "#009E73"
         },
         "orientation": "h",
         "type": "bar",
         "x": [
          0.005840465840207907,
          0.007331583263348202,
          0.014979423364964587,
          0.015090518926845221,
          0.028239400332413567
         ],
         "xaxis": "x20",
         "y": [
          "dette  ",
          "millions  ",
          "euros  ",
          "milliards euros  ",
          "milliards  "
         ],
         "yaxis": "y20"
        },
        {
         "marker": {
          "color": "#F0E442"
         },
         "orientation": "h",
         "type": "bar",
         "x": [
          0.009416095613376927,
          0.01068858934891558,
          0.023091005677780132,
          0.03041028164631488,
          0.05192584385290383
         ],
         "xaxis": "x21",
         "y": [
          "fiscale  ",
          "justice fiscale  ",
          "sociale  ",
          "justice sociale  ",
          "justice  "
         ],
         "yaxis": "y21"
        },
        {
         "marker": {
          "color": "#D55E00"
         },
         "orientation": "h",
         "type": "bar",
         "x": [
          0.044063111487092514,
          0.05255820217487085,
          0.05605500367772978,
          0.05892180606969019,
          0.06278258690715804
         ],
         "xaxis": "x22",
         "y": [
          "sociales  ",
          "cotisations  ",
          "taxe cahuzac  ",
          "cahuzac  ",
          "cotisations sociales  "
         ],
         "yaxis": "y22"
        },
        {
         "marker": {
          "color": "#0072B2"
         },
         "orientation": "h",
         "type": "bar",
         "x": [
          0.007861026571262343,
          0.008551146937422403,
          0.008960716997980426,
          0.011083334497658963,
          0.01672170770102983
         ],
         "xaxis": "x23",
         "y": [
          "enfants  ",
          "école  ",
          "enseignement  ",
          "élèves  ",
          "éducation  "
         ],
         "yaxis": "y23"
        },
        {
         "marker": {
          "color": "#CC79A7"
         },
         "orientation": "h",
         "type": "bar",
         "x": [
          0.013170678386928111,
          0.01790610031712935,
          0.0243615453686372,
          0.027301236149046174,
          0.040101388143175355
         ],
         "xaxis": "x24",
         "y": [
          "contre  ",
          "contre fraude  ",
          "fraude fiscale  ",
          "fiscale  ",
          "fraude  "
         ],
         "yaxis": "y24"
        },
        {
         "marker": {
          "color": "#E69F00"
         },
         "orientation": "h",
         "type": "bar",
         "x": [
          0.02929560757029589,
          0.02935507556779757,
          0.0374427830162401,
          0.04444427511261751,
          0.049002053386040544
         ],
         "xaxis": "x25",
         "y": [
          "acquittement  ",
          "cas relaxe  ",
          "relaxe  ",
          "appel  ",
          "victime  "
         ],
         "yaxis": "y25"
        },
        {
         "marker": {
          "color": "#56B4E9"
         },
         "orientation": "h",
         "type": "bar",
         "x": [
          0.009251909298743638,
          0.0094021555342107,
          0.009582979990095615,
          0.01054783178129269,
          0.028689472016523946
         ],
         "xaxis": "x26",
         "y": [
          "débit  ",
          "téléphone  ",
          "services  ",
          "difficultés  ",
          "internet  "
         ],
         "yaxis": "y26"
        },
        {
         "marker": {
          "color": "#009E73"
         },
         "orientation": "h",
         "type": "bar",
         "x": [
          0.015153110103046328,
          0.018649772381387722,
          0.01874553959613131,
          0.019705017591888755,
          0.0200427438544647
         ],
         "xaxis": "x27",
         "y": [
          "doléances adressés  ",
          "cahiers  ",
          "web  ",
          "cahiers doléances  ",
          "doléances  "
         ],
         "yaxis": "y27"
        },
        {
         "marker": {
          "color": "#F0E442"
         },
         "orientation": "h",
         "type": "bar",
         "x": [
          0.04978036388895165,
          0.051128631850606794,
          0.05295499470387748,
          0.05558302150853153,
          0.06267753298691144
         ],
         "xaxis": "x28",
         "y": [
          "amand les  ",
          "saint amand  ",
          "les eaux  ",
          "eaux  ",
          "amand  "
         ],
         "yaxis": "y28"
        },
        {
         "marker": {
          "color": "#D55E00"
         },
         "orientation": "h",
         "type": "bar",
         "x": [
          0.026951224440455,
          0.02894244835073375,
          0.029840437294796768,
          0.030648923855344352,
          0.030653191145314305
         ],
         "xaxis": "x29",
         "y": [
          "environnement  ",
          "changement climatique  ",
          "oui  ",
          "touchée changement  ",
          "touchée  "
         ],
         "yaxis": "y29"
        },
        {
         "marker": {
          "color": "#0072B2"
         },
         "orientation": "h",
         "type": "bar",
         "x": [
          0.038714324720740004,
          0.03953551260319888,
          0.040157624327684605,
          0.0428032385196286,
          0.045394321046879696
         ],
         "xaxis": "x30",
         "y": [
          "inciter changer  ",
          "pensez  ",
          "vous  ",
          "pensez vous  ",
          "chauffage  "
         ],
         "yaxis": "y30"
        }
       ],
       "layout": {
        "annotations": [
         {
          "font": {
           "size": 16
          },
          "showarrow": false,
          "text": "Topic 0",
          "x": 0.0875,
          "xanchor": "center",
          "xref": "paper",
          "y": 1,
          "yanchor": "bottom",
          "yref": "paper"
         },
         {
          "font": {
           "size": 16
          },
          "showarrow": false,
          "text": "Topic 1",
          "x": 0.36250000000000004,
          "xanchor": "center",
          "xref": "paper",
          "y": 1,
          "yanchor": "bottom",
          "yref": "paper"
         },
         {
          "font": {
           "size": 16
          },
          "showarrow": false,
          "text": "Topic 2",
          "x": 0.6375000000000001,
          "xanchor": "center",
          "xref": "paper",
          "y": 1,
          "yanchor": "bottom",
          "yref": "paper"
         },
         {
          "font": {
           "size": 16
          },
          "showarrow": false,
          "text": "Topic 3",
          "x": 0.9125,
          "xanchor": "center",
          "xref": "paper",
          "y": 1,
          "yanchor": "bottom",
          "yref": "paper"
         },
         {
          "font": {
           "size": 16
          },
          "showarrow": false,
          "text": "Topic 4",
          "x": 0.0875,
          "xanchor": "center",
          "xref": "paper",
          "y": 0.8687499999999999,
          "yanchor": "bottom",
          "yref": "paper"
         },
         {
          "font": {
           "size": 16
          },
          "showarrow": false,
          "text": "Topic 5",
          "x": 0.36250000000000004,
          "xanchor": "center",
          "xref": "paper",
          "y": 0.8687499999999999,
          "yanchor": "bottom",
          "yref": "paper"
         },
         {
          "font": {
           "size": 16
          },
          "showarrow": false,
          "text": "Topic 6",
          "x": 0.6375000000000001,
          "xanchor": "center",
          "xref": "paper",
          "y": 0.8687499999999999,
          "yanchor": "bottom",
          "yref": "paper"
         },
         {
          "font": {
           "size": 16
          },
          "showarrow": false,
          "text": "Topic 7",
          "x": 0.9125,
          "xanchor": "center",
          "xref": "paper",
          "y": 0.8687499999999999,
          "yanchor": "bottom",
          "yref": "paper"
         },
         {
          "font": {
           "size": 16
          },
          "showarrow": false,
          "text": "Topic 8",
          "x": 0.0875,
          "xanchor": "center",
          "xref": "paper",
          "y": 0.7375,
          "yanchor": "bottom",
          "yref": "paper"
         },
         {
          "font": {
           "size": 16
          },
          "showarrow": false,
          "text": "Topic 9",
          "x": 0.36250000000000004,
          "xanchor": "center",
          "xref": "paper",
          "y": 0.7375,
          "yanchor": "bottom",
          "yref": "paper"
         },
         {
          "font": {
           "size": 16
          },
          "showarrow": false,
          "text": "Topic 10",
          "x": 0.6375000000000001,
          "xanchor": "center",
          "xref": "paper",
          "y": 0.7375,
          "yanchor": "bottom",
          "yref": "paper"
         },
         {
          "font": {
           "size": 16
          },
          "showarrow": false,
          "text": "Topic 11",
          "x": 0.9125,
          "xanchor": "center",
          "xref": "paper",
          "y": 0.7375,
          "yanchor": "bottom",
          "yref": "paper"
         },
         {
          "font": {
           "size": 16
          },
          "showarrow": false,
          "text": "Topic 12",
          "x": 0.0875,
          "xanchor": "center",
          "xref": "paper",
          "y": 0.60625,
          "yanchor": "bottom",
          "yref": "paper"
         },
         {
          "font": {
           "size": 16
          },
          "showarrow": false,
          "text": "Topic 13",
          "x": 0.36250000000000004,
          "xanchor": "center",
          "xref": "paper",
          "y": 0.60625,
          "yanchor": "bottom",
          "yref": "paper"
         },
         {
          "font": {
           "size": 16
          },
          "showarrow": false,
          "text": "Topic 14",
          "x": 0.6375000000000001,
          "xanchor": "center",
          "xref": "paper",
          "y": 0.60625,
          "yanchor": "bottom",
          "yref": "paper"
         },
         {
          "font": {
           "size": 16
          },
          "showarrow": false,
          "text": "Topic 15",
          "x": 0.9125,
          "xanchor": "center",
          "xref": "paper",
          "y": 0.60625,
          "yanchor": "bottom",
          "yref": "paper"
         },
         {
          "font": {
           "size": 16
          },
          "showarrow": false,
          "text": "Topic 16",
          "x": 0.0875,
          "xanchor": "center",
          "xref": "paper",
          "y": 0.475,
          "yanchor": "bottom",
          "yref": "paper"
         },
         {
          "font": {
           "size": 16
          },
          "showarrow": false,
          "text": "Topic 17",
          "x": 0.36250000000000004,
          "xanchor": "center",
          "xref": "paper",
          "y": 0.475,
          "yanchor": "bottom",
          "yref": "paper"
         },
         {
          "font": {
           "size": 16
          },
          "showarrow": false,
          "text": "Topic 18",
          "x": 0.6375000000000001,
          "xanchor": "center",
          "xref": "paper",
          "y": 0.475,
          "yanchor": "bottom",
          "yref": "paper"
         },
         {
          "font": {
           "size": 16
          },
          "showarrow": false,
          "text": "Topic 19",
          "x": 0.9125,
          "xanchor": "center",
          "xref": "paper",
          "y": 0.475,
          "yanchor": "bottom",
          "yref": "paper"
         },
         {
          "font": {
           "size": 16
          },
          "showarrow": false,
          "text": "Topic 20",
          "x": 0.0875,
          "xanchor": "center",
          "xref": "paper",
          "y": 0.34374999999999994,
          "yanchor": "bottom",
          "yref": "paper"
         },
         {
          "font": {
           "size": 16
          },
          "showarrow": false,
          "text": "Topic 21",
          "x": 0.36250000000000004,
          "xanchor": "center",
          "xref": "paper",
          "y": 0.34374999999999994,
          "yanchor": "bottom",
          "yref": "paper"
         },
         {
          "font": {
           "size": 16
          },
          "showarrow": false,
          "text": "Topic 22",
          "x": 0.6375000000000001,
          "xanchor": "center",
          "xref": "paper",
          "y": 0.34374999999999994,
          "yanchor": "bottom",
          "yref": "paper"
         },
         {
          "font": {
           "size": 16
          },
          "showarrow": false,
          "text": "Topic 23",
          "x": 0.9125,
          "xanchor": "center",
          "xref": "paper",
          "y": 0.34374999999999994,
          "yanchor": "bottom",
          "yref": "paper"
         },
         {
          "font": {
           "size": 16
          },
          "showarrow": false,
          "text": "Topic 24",
          "x": 0.0875,
          "xanchor": "center",
          "xref": "paper",
          "y": 0.21249999999999997,
          "yanchor": "bottom",
          "yref": "paper"
         },
         {
          "font": {
           "size": 16
          },
          "showarrow": false,
          "text": "Topic 25",
          "x": 0.36250000000000004,
          "xanchor": "center",
          "xref": "paper",
          "y": 0.21249999999999997,
          "yanchor": "bottom",
          "yref": "paper"
         },
         {
          "font": {
           "size": 16
          },
          "showarrow": false,
          "text": "Topic 26",
          "x": 0.6375000000000001,
          "xanchor": "center",
          "xref": "paper",
          "y": 0.21249999999999997,
          "yanchor": "bottom",
          "yref": "paper"
         },
         {
          "font": {
           "size": 16
          },
          "showarrow": false,
          "text": "Topic 27",
          "x": 0.9125,
          "xanchor": "center",
          "xref": "paper",
          "y": 0.21249999999999997,
          "yanchor": "bottom",
          "yref": "paper"
         },
         {
          "font": {
           "size": 16
          },
          "showarrow": false,
          "text": "Topic 28",
          "x": 0.0875,
          "xanchor": "center",
          "xref": "paper",
          "y": 0.08124999999999999,
          "yanchor": "bottom",
          "yref": "paper"
         },
         {
          "font": {
           "size": 16
          },
          "showarrow": false,
          "text": "Topic 29",
          "x": 0.36250000000000004,
          "xanchor": "center",
          "xref": "paper",
          "y": 0.08124999999999999,
          "yanchor": "bottom",
          "yref": "paper"
         }
        ],
        "height": 2000,
        "hoverlabel": {
         "bgcolor": "white",
         "font": {
          "family": "Rockwell",
          "size": 16
         }
        },
        "showlegend": false,
        "template": {
         "data": {
          "bar": [
           {
            "error_x": {
             "color": "#2a3f5f"
            },
            "error_y": {
             "color": "#2a3f5f"
            },
            "marker": {
             "line": {
              "color": "white",
              "width": 0.5
             },
             "pattern": {
              "fillmode": "overlay",
              "size": 10,
              "solidity": 0.2
             }
            },
            "type": "bar"
           }
          ],
          "barpolar": [
           {
            "marker": {
             "line": {
              "color": "white",
              "width": 0.5
             },
             "pattern": {
              "fillmode": "overlay",
              "size": 10,
              "solidity": 0.2
             }
            },
            "type": "barpolar"
           }
          ],
          "carpet": [
           {
            "aaxis": {
             "endlinecolor": "#2a3f5f",
             "gridcolor": "#C8D4E3",
             "linecolor": "#C8D4E3",
             "minorgridcolor": "#C8D4E3",
             "startlinecolor": "#2a3f5f"
            },
            "baxis": {
             "endlinecolor": "#2a3f5f",
             "gridcolor": "#C8D4E3",
             "linecolor": "#C8D4E3",
             "minorgridcolor": "#C8D4E3",
             "startlinecolor": "#2a3f5f"
            },
            "type": "carpet"
           }
          ],
          "choropleth": [
           {
            "colorbar": {
             "outlinewidth": 0,
             "ticks": ""
            },
            "type": "choropleth"
           }
          ],
          "contour": [
           {
            "colorbar": {
             "outlinewidth": 0,
             "ticks": ""
            },
            "colorscale": [
             [
              0,
              "#0d0887"
             ],
             [
              0.1111111111111111,
              "#46039f"
             ],
             [
              0.2222222222222222,
              "#7201a8"
             ],
             [
              0.3333333333333333,
              "#9c179e"
             ],
             [
              0.4444444444444444,
              "#bd3786"
             ],
             [
              0.5555555555555556,
              "#d8576b"
             ],
             [
              0.6666666666666666,
              "#ed7953"
             ],
             [
              0.7777777777777778,
              "#fb9f3a"
             ],
             [
              0.8888888888888888,
              "#fdca26"
             ],
             [
              1,
              "#f0f921"
             ]
            ],
            "type": "contour"
           }
          ],
          "contourcarpet": [
           {
            "colorbar": {
             "outlinewidth": 0,
             "ticks": ""
            },
            "type": "contourcarpet"
           }
          ],
          "heatmap": [
           {
            "colorbar": {
             "outlinewidth": 0,
             "ticks": ""
            },
            "colorscale": [
             [
              0,
              "#0d0887"
             ],
             [
              0.1111111111111111,
              "#46039f"
             ],
             [
              0.2222222222222222,
              "#7201a8"
             ],
             [
              0.3333333333333333,
              "#9c179e"
             ],
             [
              0.4444444444444444,
              "#bd3786"
             ],
             [
              0.5555555555555556,
              "#d8576b"
             ],
             [
              0.6666666666666666,
              "#ed7953"
             ],
             [
              0.7777777777777778,
              "#fb9f3a"
             ],
             [
              0.8888888888888888,
              "#fdca26"
             ],
             [
              1,
              "#f0f921"
             ]
            ],
            "type": "heatmap"
           }
          ],
          "heatmapgl": [
           {
            "colorbar": {
             "outlinewidth": 0,
             "ticks": ""
            },
            "colorscale": [
             [
              0,
              "#0d0887"
             ],
             [
              0.1111111111111111,
              "#46039f"
             ],
             [
              0.2222222222222222,
              "#7201a8"
             ],
             [
              0.3333333333333333,
              "#9c179e"
             ],
             [
              0.4444444444444444,
              "#bd3786"
             ],
             [
              0.5555555555555556,
              "#d8576b"
             ],
             [
              0.6666666666666666,
              "#ed7953"
             ],
             [
              0.7777777777777778,
              "#fb9f3a"
             ],
             [
              0.8888888888888888,
              "#fdca26"
             ],
             [
              1,
              "#f0f921"
             ]
            ],
            "type": "heatmapgl"
           }
          ],
          "histogram": [
           {
            "marker": {
             "pattern": {
              "fillmode": "overlay",
              "size": 10,
              "solidity": 0.2
             }
            },
            "type": "histogram"
           }
          ],
          "histogram2d": [
           {
            "colorbar": {
             "outlinewidth": 0,
             "ticks": ""
            },
            "colorscale": [
             [
              0,
              "#0d0887"
             ],
             [
              0.1111111111111111,
              "#46039f"
             ],
             [
              0.2222222222222222,
              "#7201a8"
             ],
             [
              0.3333333333333333,
              "#9c179e"
             ],
             [
              0.4444444444444444,
              "#bd3786"
             ],
             [
              0.5555555555555556,
              "#d8576b"
             ],
             [
              0.6666666666666666,
              "#ed7953"
             ],
             [
              0.7777777777777778,
              "#fb9f3a"
             ],
             [
              0.8888888888888888,
              "#fdca26"
             ],
             [
              1,
              "#f0f921"
             ]
            ],
            "type": "histogram2d"
           }
          ],
          "histogram2dcontour": [
           {
            "colorbar": {
             "outlinewidth": 0,
             "ticks": ""
            },
            "colorscale": [
             [
              0,
              "#0d0887"
             ],
             [
              0.1111111111111111,
              "#46039f"
             ],
             [
              0.2222222222222222,
              "#7201a8"
             ],
             [
              0.3333333333333333,
              "#9c179e"
             ],
             [
              0.4444444444444444,
              "#bd3786"
             ],
             [
              0.5555555555555556,
              "#d8576b"
             ],
             [
              0.6666666666666666,
              "#ed7953"
             ],
             [
              0.7777777777777778,
              "#fb9f3a"
             ],
             [
              0.8888888888888888,
              "#fdca26"
             ],
             [
              1,
              "#f0f921"
             ]
            ],
            "type": "histogram2dcontour"
           }
          ],
          "mesh3d": [
           {
            "colorbar": {
             "outlinewidth": 0,
             "ticks": ""
            },
            "type": "mesh3d"
           }
          ],
          "parcoords": [
           {
            "line": {
             "colorbar": {
              "outlinewidth": 0,
              "ticks": ""
             }
            },
            "type": "parcoords"
           }
          ],
          "pie": [
           {
            "automargin": true,
            "type": "pie"
           }
          ],
          "scatter": [
           {
            "fillpattern": {
             "fillmode": "overlay",
             "size": 10,
             "solidity": 0.2
            },
            "type": "scatter"
           }
          ],
          "scatter3d": [
           {
            "line": {
             "colorbar": {
              "outlinewidth": 0,
              "ticks": ""
             }
            },
            "marker": {
             "colorbar": {
              "outlinewidth": 0,
              "ticks": ""
             }
            },
            "type": "scatter3d"
           }
          ],
          "scattercarpet": [
           {
            "marker": {
             "colorbar": {
              "outlinewidth": 0,
              "ticks": ""
             }
            },
            "type": "scattercarpet"
           }
          ],
          "scattergeo": [
           {
            "marker": {
             "colorbar": {
              "outlinewidth": 0,
              "ticks": ""
             }
            },
            "type": "scattergeo"
           }
          ],
          "scattergl": [
           {
            "marker": {
             "colorbar": {
              "outlinewidth": 0,
              "ticks": ""
             }
            },
            "type": "scattergl"
           }
          ],
          "scattermapbox": [
           {
            "marker": {
             "colorbar": {
              "outlinewidth": 0,
              "ticks": ""
             }
            },
            "type": "scattermapbox"
           }
          ],
          "scatterpolar": [
           {
            "marker": {
             "colorbar": {
              "outlinewidth": 0,
              "ticks": ""
             }
            },
            "type": "scatterpolar"
           }
          ],
          "scatterpolargl": [
           {
            "marker": {
             "colorbar": {
              "outlinewidth": 0,
              "ticks": ""
             }
            },
            "type": "scatterpolargl"
           }
          ],
          "scatterternary": [
           {
            "marker": {
             "colorbar": {
              "outlinewidth": 0,
              "ticks": ""
             }
            },
            "type": "scatterternary"
           }
          ],
          "surface": [
           {
            "colorbar": {
             "outlinewidth": 0,
             "ticks": ""
            },
            "colorscale": [
             [
              0,
              "#0d0887"
             ],
             [
              0.1111111111111111,
              "#46039f"
             ],
             [
              0.2222222222222222,
              "#7201a8"
             ],
             [
              0.3333333333333333,
              "#9c179e"
             ],
             [
              0.4444444444444444,
              "#bd3786"
             ],
             [
              0.5555555555555556,
              "#d8576b"
             ],
             [
              0.6666666666666666,
              "#ed7953"
             ],
             [
              0.7777777777777778,
              "#fb9f3a"
             ],
             [
              0.8888888888888888,
              "#fdca26"
             ],
             [
              1,
              "#f0f921"
             ]
            ],
            "type": "surface"
           }
          ],
          "table": [
           {
            "cells": {
             "fill": {
              "color": "#EBF0F8"
             },
             "line": {
              "color": "white"
             }
            },
            "header": {
             "fill": {
              "color": "#C8D4E3"
             },
             "line": {
              "color": "white"
             }
            },
            "type": "table"
           }
          ]
         },
         "layout": {
          "annotationdefaults": {
           "arrowcolor": "#2a3f5f",
           "arrowhead": 0,
           "arrowwidth": 1
          },
          "autotypenumbers": "strict",
          "coloraxis": {
           "colorbar": {
            "outlinewidth": 0,
            "ticks": ""
           }
          },
          "colorscale": {
           "diverging": [
            [
             0,
             "#8e0152"
            ],
            [
             0.1,
             "#c51b7d"
            ],
            [
             0.2,
             "#de77ae"
            ],
            [
             0.3,
             "#f1b6da"
            ],
            [
             0.4,
             "#fde0ef"
            ],
            [
             0.5,
             "#f7f7f7"
            ],
            [
             0.6,
             "#e6f5d0"
            ],
            [
             0.7,
             "#b8e186"
            ],
            [
             0.8,
             "#7fbc41"
            ],
            [
             0.9,
             "#4d9221"
            ],
            [
             1,
             "#276419"
            ]
           ],
           "sequential": [
            [
             0,
             "#0d0887"
            ],
            [
             0.1111111111111111,
             "#46039f"
            ],
            [
             0.2222222222222222,
             "#7201a8"
            ],
            [
             0.3333333333333333,
             "#9c179e"
            ],
            [
             0.4444444444444444,
             "#bd3786"
            ],
            [
             0.5555555555555556,
             "#d8576b"
            ],
            [
             0.6666666666666666,
             "#ed7953"
            ],
            [
             0.7777777777777778,
             "#fb9f3a"
            ],
            [
             0.8888888888888888,
             "#fdca26"
            ],
            [
             1,
             "#f0f921"
            ]
           ],
           "sequentialminus": [
            [
             0,
             "#0d0887"
            ],
            [
             0.1111111111111111,
             "#46039f"
            ],
            [
             0.2222222222222222,
             "#7201a8"
            ],
            [
             0.3333333333333333,
             "#9c179e"
            ],
            [
             0.4444444444444444,
             "#bd3786"
            ],
            [
             0.5555555555555556,
             "#d8576b"
            ],
            [
             0.6666666666666666,
             "#ed7953"
            ],
            [
             0.7777777777777778,
             "#fb9f3a"
            ],
            [
             0.8888888888888888,
             "#fdca26"
            ],
            [
             1,
             "#f0f921"
            ]
           ]
          },
          "colorway": [
           "#636efa",
           "#EF553B",
           "#00cc96",
           "#ab63fa",
           "#FFA15A",
           "#19d3f3",
           "#FF6692",
           "#B6E880",
           "#FF97FF",
           "#FECB52"
          ],
          "font": {
           "color": "#2a3f5f"
          },
          "geo": {
           "bgcolor": "white",
           "lakecolor": "white",
           "landcolor": "white",
           "showlakes": true,
           "showland": true,
           "subunitcolor": "#C8D4E3"
          },
          "hoverlabel": {
           "align": "left"
          },
          "hovermode": "closest",
          "mapbox": {
           "style": "light"
          },
          "paper_bgcolor": "white",
          "plot_bgcolor": "white",
          "polar": {
           "angularaxis": {
            "gridcolor": "#EBF0F8",
            "linecolor": "#EBF0F8",
            "ticks": ""
           },
           "bgcolor": "white",
           "radialaxis": {
            "gridcolor": "#EBF0F8",
            "linecolor": "#EBF0F8",
            "ticks": ""
           }
          },
          "scene": {
           "xaxis": {
            "backgroundcolor": "white",
            "gridcolor": "#DFE8F3",
            "gridwidth": 2,
            "linecolor": "#EBF0F8",
            "showbackground": true,
            "ticks": "",
            "zerolinecolor": "#EBF0F8"
           },
           "yaxis": {
            "backgroundcolor": "white",
            "gridcolor": "#DFE8F3",
            "gridwidth": 2,
            "linecolor": "#EBF0F8",
            "showbackground": true,
            "ticks": "",
            "zerolinecolor": "#EBF0F8"
           },
           "zaxis": {
            "backgroundcolor": "white",
            "gridcolor": "#DFE8F3",
            "gridwidth": 2,
            "linecolor": "#EBF0F8",
            "showbackground": true,
            "ticks": "",
            "zerolinecolor": "#EBF0F8"
           }
          },
          "shapedefaults": {
           "line": {
            "color": "#2a3f5f"
           }
          },
          "ternary": {
           "aaxis": {
            "gridcolor": "#DFE8F3",
            "linecolor": "#A2B1C6",
            "ticks": ""
           },
           "baxis": {
            "gridcolor": "#DFE8F3",
            "linecolor": "#A2B1C6",
            "ticks": ""
           },
           "bgcolor": "white",
           "caxis": {
            "gridcolor": "#DFE8F3",
            "linecolor": "#A2B1C6",
            "ticks": ""
           }
          },
          "title": {
           "x": 0.05
          },
          "xaxis": {
           "automargin": true,
           "gridcolor": "#EBF0F8",
           "linecolor": "#EBF0F8",
           "ticks": "",
           "title": {
            "standoff": 15
           },
           "zerolinecolor": "#EBF0F8",
           "zerolinewidth": 2
          },
          "yaxis": {
           "automargin": true,
           "gridcolor": "#EBF0F8",
           "linecolor": "#EBF0F8",
           "ticks": "",
           "title": {
            "standoff": 15
           },
           "zerolinecolor": "#EBF0F8",
           "zerolinewidth": 2
          }
         }
        },
        "title": {
         "font": {
          "color": "Black",
          "size": 22
         },
         "text": "Topic Word Scores",
         "x": 0.5,
         "xanchor": "center",
         "yanchor": "top"
        },
        "width": 1000,
        "xaxis": {
         "anchor": "y",
         "domain": [
          0,
          0.175
         ],
         "showgrid": true
        },
        "xaxis10": {
         "anchor": "y10",
         "domain": [
          0.275,
          0.45
         ],
         "showgrid": true
        },
        "xaxis11": {
         "anchor": "y11",
         "domain": [
          0.55,
          0.7250000000000001
         ],
         "showgrid": true
        },
        "xaxis12": {
         "anchor": "y12",
         "domain": [
          0.825,
          1
         ],
         "showgrid": true
        },
        "xaxis13": {
         "anchor": "y13",
         "domain": [
          0,
          0.175
         ],
         "showgrid": true
        },
        "xaxis14": {
         "anchor": "y14",
         "domain": [
          0.275,
          0.45
         ],
         "showgrid": true
        },
        "xaxis15": {
         "anchor": "y15",
         "domain": [
          0.55,
          0.7250000000000001
         ],
         "showgrid": true
        },
        "xaxis16": {
         "anchor": "y16",
         "domain": [
          0.825,
          1
         ],
         "showgrid": true
        },
        "xaxis17": {
         "anchor": "y17",
         "domain": [
          0,
          0.175
         ],
         "showgrid": true
        },
        "xaxis18": {
         "anchor": "y18",
         "domain": [
          0.275,
          0.45
         ],
         "showgrid": true
        },
        "xaxis19": {
         "anchor": "y19",
         "domain": [
          0.55,
          0.7250000000000001
         ],
         "showgrid": true
        },
        "xaxis2": {
         "anchor": "y2",
         "domain": [
          0.275,
          0.45
         ],
         "showgrid": true
        },
        "xaxis20": {
         "anchor": "y20",
         "domain": [
          0.825,
          1
         ],
         "showgrid": true
        },
        "xaxis21": {
         "anchor": "y21",
         "domain": [
          0,
          0.175
         ],
         "showgrid": true
        },
        "xaxis22": {
         "anchor": "y22",
         "domain": [
          0.275,
          0.45
         ],
         "showgrid": true
        },
        "xaxis23": {
         "anchor": "y23",
         "domain": [
          0.55,
          0.7250000000000001
         ],
         "showgrid": true
        },
        "xaxis24": {
         "anchor": "y24",
         "domain": [
          0.825,
          1
         ],
         "showgrid": true
        },
        "xaxis25": {
         "anchor": "y25",
         "domain": [
          0,
          0.175
         ],
         "showgrid": true
        },
        "xaxis26": {
         "anchor": "y26",
         "domain": [
          0.275,
          0.45
         ],
         "showgrid": true
        },
        "xaxis27": {
         "anchor": "y27",
         "domain": [
          0.55,
          0.7250000000000001
         ],
         "showgrid": true
        },
        "xaxis28": {
         "anchor": "y28",
         "domain": [
          0.825,
          1
         ],
         "showgrid": true
        },
        "xaxis29": {
         "anchor": "y29",
         "domain": [
          0,
          0.175
         ],
         "showgrid": true
        },
        "xaxis3": {
         "anchor": "y3",
         "domain": [
          0.55,
          0.7250000000000001
         ],
         "showgrid": true
        },
        "xaxis30": {
         "anchor": "y30",
         "domain": [
          0.275,
          0.45
         ],
         "showgrid": true
        },
        "xaxis31": {
         "anchor": "y31",
         "domain": [
          0.55,
          0.7250000000000001
         ],
         "showgrid": true
        },
        "xaxis32": {
         "anchor": "y32",
         "domain": [
          0.825,
          1
         ],
         "showgrid": true
        },
        "xaxis4": {
         "anchor": "y4",
         "domain": [
          0.825,
          1
         ],
         "showgrid": true
        },
        "xaxis5": {
         "anchor": "y5",
         "domain": [
          0,
          0.175
         ],
         "showgrid": true
        },
        "xaxis6": {
         "anchor": "y6",
         "domain": [
          0.275,
          0.45
         ],
         "showgrid": true
        },
        "xaxis7": {
         "anchor": "y7",
         "domain": [
          0.55,
          0.7250000000000001
         ],
         "showgrid": true
        },
        "xaxis8": {
         "anchor": "y8",
         "domain": [
          0.825,
          1
         ],
         "showgrid": true
        },
        "xaxis9": {
         "anchor": "y9",
         "domain": [
          0,
          0.175
         ],
         "showgrid": true
        },
        "yaxis": {
         "anchor": "x",
         "domain": [
          0.91875,
          1
         ],
         "showgrid": true
        },
        "yaxis10": {
         "anchor": "x10",
         "domain": [
          0.65625,
          0.7375
         ],
         "showgrid": true
        },
        "yaxis11": {
         "anchor": "x11",
         "domain": [
          0.65625,
          0.7375
         ],
         "showgrid": true
        },
        "yaxis12": {
         "anchor": "x12",
         "domain": [
          0.65625,
          0.7375
         ],
         "showgrid": true
        },
        "yaxis13": {
         "anchor": "x13",
         "domain": [
          0.5249999999999999,
          0.60625
         ],
         "showgrid": true
        },
        "yaxis14": {
         "anchor": "x14",
         "domain": [
          0.5249999999999999,
          0.60625
         ],
         "showgrid": true
        },
        "yaxis15": {
         "anchor": "x15",
         "domain": [
          0.5249999999999999,
          0.60625
         ],
         "showgrid": true
        },
        "yaxis16": {
         "anchor": "x16",
         "domain": [
          0.5249999999999999,
          0.60625
         ],
         "showgrid": true
        },
        "yaxis17": {
         "anchor": "x17",
         "domain": [
          0.39375,
          0.475
         ],
         "showgrid": true
        },
        "yaxis18": {
         "anchor": "x18",
         "domain": [
          0.39375,
          0.475
         ],
         "showgrid": true
        },
        "yaxis19": {
         "anchor": "x19",
         "domain": [
          0.39375,
          0.475
         ],
         "showgrid": true
        },
        "yaxis2": {
         "anchor": "x2",
         "domain": [
          0.91875,
          1
         ],
         "showgrid": true
        },
        "yaxis20": {
         "anchor": "x20",
         "domain": [
          0.39375,
          0.475
         ],
         "showgrid": true
        },
        "yaxis21": {
         "anchor": "x21",
         "domain": [
          0.26249999999999996,
          0.34374999999999994
         ],
         "showgrid": true
        },
        "yaxis22": {
         "anchor": "x22",
         "domain": [
          0.26249999999999996,
          0.34374999999999994
         ],
         "showgrid": true
        },
        "yaxis23": {
         "anchor": "x23",
         "domain": [
          0.26249999999999996,
          0.34374999999999994
         ],
         "showgrid": true
        },
        "yaxis24": {
         "anchor": "x24",
         "domain": [
          0.26249999999999996,
          0.34374999999999994
         ],
         "showgrid": true
        },
        "yaxis25": {
         "anchor": "x25",
         "domain": [
          0.13124999999999998,
          0.21249999999999997
         ],
         "showgrid": true
        },
        "yaxis26": {
         "anchor": "x26",
         "domain": [
          0.13124999999999998,
          0.21249999999999997
         ],
         "showgrid": true
        },
        "yaxis27": {
         "anchor": "x27",
         "domain": [
          0.13124999999999998,
          0.21249999999999997
         ],
         "showgrid": true
        },
        "yaxis28": {
         "anchor": "x28",
         "domain": [
          0.13124999999999998,
          0.21249999999999997
         ],
         "showgrid": true
        },
        "yaxis29": {
         "anchor": "x29",
         "domain": [
          0,
          0.08124999999999999
         ],
         "showgrid": true
        },
        "yaxis3": {
         "anchor": "x3",
         "domain": [
          0.91875,
          1
         ],
         "showgrid": true
        },
        "yaxis30": {
         "anchor": "x30",
         "domain": [
          0,
          0.08124999999999999
         ],
         "showgrid": true
        },
        "yaxis31": {
         "anchor": "x31",
         "domain": [
          0,
          0.08124999999999999
         ],
         "showgrid": true
        },
        "yaxis32": {
         "anchor": "x32",
         "domain": [
          0,
          0.08124999999999999
         ],
         "showgrid": true
        },
        "yaxis4": {
         "anchor": "x4",
         "domain": [
          0.91875,
          1
         ],
         "showgrid": true
        },
        "yaxis5": {
         "anchor": "x5",
         "domain": [
          0.7875,
          0.8687499999999999
         ],
         "showgrid": true
        },
        "yaxis6": {
         "anchor": "x6",
         "domain": [
          0.7875,
          0.8687499999999999
         ],
         "showgrid": true
        },
        "yaxis7": {
         "anchor": "x7",
         "domain": [
          0.7875,
          0.8687499999999999
         ],
         "showgrid": true
        },
        "yaxis8": {
         "anchor": "x8",
         "domain": [
          0.7875,
          0.8687499999999999
         ],
         "showgrid": true
        },
        "yaxis9": {
         "anchor": "x9",
         "domain": [
          0.65625,
          0.7375
         ],
         "showgrid": true
        }
       }
      }
     },
     "metadata": {},
     "output_type": "display_data"
    }
   ],
   "source": [
    "# WARNING : all visualization tools are very heavy on RAM\n",
    "\n",
    "\n",
    "fig = topic_model.visualize_barchart(top_n_topics=30)\n",
    "fig.show()\n",
    "fig.write_html(\"echantillon_10000_dossier_topics/size_30_cluster_barchart_topics.html\")"
   ]
  },
  {
   "cell_type": "code",
   "execution_count": 34,
   "metadata": {},
   "outputs": [
    {
     "data": {
      "text/plain": [
       "[('il', 0.007070121588766829),\n",
       " ('faut', 0.0066121358873354255),\n",
       " ('faut il', 0.005641509961233225),\n",
       " ('est', 0.0045349400210977255),\n",
       " ('qu', 0.004507410099045476),\n",
       " ('faire', 0.004433543258651229),\n",
       " ('vous', 0.004392656876228051),\n",
       " ('comment', 0.0041767477362925414),\n",
       " ('citoyens', 0.0038521590783650163),\n",
       " ('non', 0.003598917636373227),\n",
       " ('pays', 0.003555641536660977),\n",
       " ('france', 0.0035445696091787656),\n",
       " ('français', 0.003302800299405365),\n",
       " ('vote', 0.0033000332571366964),\n",
       " ('élus', 0.003198314564655236),\n",
       " ('impôts', 0.0031251215453745934),\n",
       " ('président', 0.003088044927521465),\n",
       " ('qu il', 0.0029506933504021707),\n",
       " ('un', 0.002950087420717281),\n",
       " ('référendum', 0.002901842082570292),\n",
       " ('on', 0.002893446803246412),\n",
       " ('impôt', 0.0028393993462230973),\n",
       " ('dépenses', 0.0028163000204135683),\n",
       " ('nombre', 0.002799589193040574),\n",
       " ('république', 0.0027981434454988677),\n",
       " ('une', 0.0027587089100708853),\n",
       " ('démocratie', 0.0027575791773963923),\n",
       " ('trop', 0.002710687720352136),\n",
       " ('bien', 0.002685481753811859),\n",
       " ('oui', 0.0026757581754587767),\n",
       " ('etat', 0.002662945153844685),\n",
       " ('vie', 0.002590337620228904),\n",
       " ('peuple', 0.0025867419472361134),\n",
       " ('état', 0.0025784372324814367),\n",
       " ('exemple', 0.0024998202562186078),\n",
       " ('publique', 0.0024796678285325083),\n",
       " ('réduire', 0.002393806868959925),\n",
       " ('fiscalité', 0.002368971523199807),\n",
       " ('transition', 0.002365156571443375),\n",
       " ('en', 0.0023515956554525357)]"
      ]
     },
     "execution_count": 34,
     "metadata": {},
     "output_type": "execute_result"
    }
   ],
   "source": [
    "# voir le détail des mots associés à un topic (defini par son num)\n",
    "topic_model.get_topic(0)"
   ]
  },
  {
   "cell_type": "code",
   "execution_count": 35,
   "metadata": {},
   "outputs": [],
   "source": [
    "\n",
    "# Two options :\n",
    "\n",
    "# Run the visualization with the original embeddings\n",
    "# topic_model.visualize_documents(text_list, embeddings=embeddings)\n",
    "\n",
    "# Reduce dimensionality of embeddings, this step is optional but much faster to perform iteratively: \n",
    "# reduced_embeddings = reducer(n_neighbors=10, n_components=2, min_dist=0.0, metric='cosine').fit_transform(embeddings)\n",
    "\n",
    "# here i am reducing embeddings and creating a list of topics id for lowering the time of the map computation\n",
    "reduced_embeddings = UMAP(n_neighbors=10, n_components=2, min_dist=0.0, metric='cosine').fit_transform(embeddings)"
   ]
  },
  {
   "cell_type": "code",
   "execution_count": 36,
   "metadata": {},
   "outputs": [],
   "source": [
    "# map of the topics on similarity\n",
    "\n",
    "figure_topic = topic_model.visualize_documents(text_list, reduced_embeddings=reduced_embeddings)\n",
    "# images_topic_echantillon\n",
    "\n",
    "# topic_model.visualize_documents(text_list, embeddings)\n",
    "\n",
    "figure_topic.write_html(\"echantillon_10000_dossier_topics/30_figure_topic_docs.html\")"
   ]
  },
  {
   "cell_type": "code",
   "execution_count": null,
   "metadata": {},
   "outputs": [],
   "source": [
    "figure_topic.show()"
   ]
  },
  {
   "cell_type": "code",
   "execution_count": 33,
   "metadata": {},
   "outputs": [
    {
     "data": {
      "text/plain": [
       "{-1: [('est', 0.004197167521441983),\n",
       "  ('qu', 0.0040315089696356336),\n",
       "  ('faire', 0.0033999225234716455),\n",
       "  ('france', 0.0033296646230078428),\n",
       "  ('il', 0.0031385060467027143),\n",
       "  ('vie', 0.0029432352353566385),\n",
       "  ('retraites', 0.0028619389988845624),\n",
       "  ('un', 0.0027680181013419927),\n",
       "  ('français', 0.0027037239917640384),\n",
       "  ('non', 0.0026813025962449384),\n",
       "  ('état', 0.0026685227422978746),\n",
       "  ('retraite', 0.0026169766146064053),\n",
       "  ('pays', 0.0026087921468878287),\n",
       "  ('bien', 0.0025465368154685515),\n",
       "  ('une', 0.0025341062469401094),\n",
       "  ('ans', 0.002533949282115569),\n",
       "  ('faut', 0.002488050047001365),\n",
       "  ('travail', 0.0024683884391676248),\n",
       "  ('pouvoir', 0.0024542533868702645),\n",
       "  ('suppression', 0.00241944089991349),\n",
       "  ('salaires', 0.0023258895166473298),\n",
       "  ('on', 0.002300697266687274),\n",
       "  ('personnes', 0.0022194810484827375),\n",
       "  ('en', 0.002216885399860198),\n",
       "  ('services', 0.0022106151853563774),\n",
       "  ('président', 0.0022102157655341857),\n",
       "  ('2019', 0.0021641705654279956),\n",
       "  ('impôts', 0.0021552692662393947),\n",
       "  ('trop', 0.002142512924238427),\n",
       "  ('élus', 0.002119466308892875),\n",
       "  ('nombre', 0.002060708106785896),\n",
       "  ('supprimer', 0.0020569742792065572),\n",
       "  ('taxes', 0.002016663687366327),\n",
       "  ('etc', 0.0020154950575916163),\n",
       "  ('augmentation', 0.0020105647097531302),\n",
       "  ('citoyens', 0.0020053320870200893),\n",
       "  ('entreprises', 0.001990420392186318),\n",
       "  ('place', 0.001987652316736902),\n",
       "  ('impôt', 0.0019687252627374557),\n",
       "  ('isf', 0.0019558460069197467)],\n",
       " 0: [('il', 0.004976507651919317),\n",
       "  ('est', 0.004525596941095726),\n",
       "  ('faut', 0.004381552674115264),\n",
       "  ('qu', 0.0041677261554824985),\n",
       "  ('faire', 0.003538344509536514),\n",
       "  ('non', 0.0032464998144390842),\n",
       "  ('france', 0.0031248319465793386),\n",
       "  ('un', 0.0028729507578989367),\n",
       "  ('pays', 0.0027807576582920624),\n",
       "  ('une', 0.0026606406961691468),\n",
       "  ('français', 0.002657923556278293),\n",
       "  ('vous', 0.002635719143745179),\n",
       "  ('citoyens', 0.0026309279360393627),\n",
       "  ('vote', 0.002619794091398981),\n",
       "  ('vie', 0.0025280991381531597),\n",
       "  ('faut il', 0.002476483050496788),\n",
       "  ('élus', 0.0024703374393135373),\n",
       "  ('ans', 0.0024507624939265034),\n",
       "  ('président', 0.002433591077851155),\n",
       "  ('bien', 0.002390458695232146),\n",
       "  ('on', 0.0023625935751040755),\n",
       "  ('nombre', 0.0023497070011469657),\n",
       "  ('état', 0.002335953726455659),\n",
       "  ('impôts', 0.0023198245871449436),\n",
       "  ('pouvoir', 0.0022504588865694185),\n",
       "  ('impôt', 0.0022452128902425814),\n",
       "  ('retraite', 0.0022266529154510283),\n",
       "  ('trop', 0.00221433311566796),\n",
       "  ('en', 0.002203872515476722),\n",
       "  ('oui', 0.0021874057345979982),\n",
       "  ('retraites', 0.002174013076244212),\n",
       "  ('référendum', 0.002078276373015085),\n",
       "  ('république', 0.002076482069145761),\n",
       "  ('travail', 0.0020711264672283597),\n",
       "  ('qu il', 0.0020465715023017987),\n",
       "  ('la', 0.002001344040854372),\n",
       "  ('exemple', 0.001989322481651661),\n",
       "  ('démocratie', 0.001977559877100591),\n",
       "  ('les', 0.0019607667318350653),\n",
       "  ('députés', 0.0019378133046234886)],\n",
       " 1: [('inflation', 0.03918944046534328),\n",
       "  ('retraites', 0.025501310586487882),\n",
       "  ('retraites inflation', 0.02152043862293283),\n",
       "  ('indexation', 0.018502173904040783),\n",
       "  ('indexation retraites', 0.014748029817000557),\n",
       "  ('indexation retraites inflation', 0.013090003149716764),\n",
       "  ('csg', 0.011937856838551288),\n",
       "  ('suppression', 0.011312128927003553),\n",
       "  ('augmentation', 0.008228202950694203),\n",
       "  ('retraités', 0.007740147717267574),\n",
       "  ('isf', 0.00710043126880662),\n",
       "  ('inflation suppression', 0.00617599473398882),\n",
       "  ('baisse', 0.006167635355272014),\n",
       "  ('taux', 0.006141817829637799),\n",
       "  ('pouvoir achat', 0.00607625903056943),\n",
       "  ('achat', 0.006057995867375553),\n",
       "  ('indexer', 0.0059351421461580536),\n",
       "  ('pouvoir', 0.005680860354811337),\n",
       "  ('retraite', 0.005660249325491431),\n",
       "  ('salaires', 0.005652783465106108),\n",
       "  ('revalorisation', 0.005101247409446764),\n",
       "  ('2019', 0.004929272529144714),\n",
       "  ('csg retraites', 0.004543175311569326),\n",
       "  ('députés', 0.004446897877009332),\n",
       "  ('rétablissement', 0.0044174835448512065),\n",
       "  ('indexer retraites', 0.004358557409260969),\n",
       "  ('csg retraités', 0.004344517787601462),\n",
       "  ('indexer retraites inflation', 0.004318370663699373),\n",
       "  ('tva', 0.004258933649741061),\n",
       "  ('hausse', 0.004252381409922729),\n",
       "  ('suppression csg', 0.004235450266715823),\n",
       "  ('livret', 0.004133114784644023),\n",
       "  ('fonctionnaires', 0.00394915471445141),\n",
       "  ('smic', 0.0038903223483591535),\n",
       "  ('taxes', 0.0038286255963777566),\n",
       "  ('remettre', 0.003812027731649223),\n",
       "  ('taux inflation', 0.003797191472456793),\n",
       "  ('retraites inflation suppression', 0.003718382847273917),\n",
       "  ('impôts', 0.0037062366716467676),\n",
       "  ('fiscale', 0.0037049657480210697)],\n",
       " 2: [('pensions', 0.03733573018499615),\n",
       "  ('pension', 0.020085692138117336),\n",
       "  ('pensions retraite', 0.017365317006913142),\n",
       "  ('retraite', 0.017015325925099068),\n",
       "  ('csg', 0.013124577428720082),\n",
       "  ('retraites', 0.011663119027344501),\n",
       "  ('indexation', 0.01085016315570412),\n",
       "  ('coût vie', 0.00985743168287311),\n",
       "  ('augmentation', 0.009647760500552546),\n",
       "  ('réversion', 0.009180445170760308),\n",
       "  ('coût', 0.00904132980298967),\n",
       "  ('vie', 0.008905767919656419),\n",
       "  ('inflation', 0.008712805332350483),\n",
       "  ('indexation pensions', 0.007516410863588095),\n",
       "  ('suppression', 0.007398501017855385),\n",
       "  ('retraités', 0.007267764567052349),\n",
       "  ('isf', 0.007019112534523451),\n",
       "  ('revalorisation', 0.006506870480762578),\n",
       "  ('pouvoir achat', 0.006163785890537175),\n",
       "  ('pension réversion', 0.006081693077307677),\n",
       "  ('achat', 0.006069543018215712),\n",
       "  ('rétablissement', 0.006018237251646059),\n",
       "  ('invalidité', 0.005844853193797651),\n",
       "  ('pouvoir', 0.005662991057526325),\n",
       "  ('2019', 0.005317560754873186),\n",
       "  ('salaires', 0.005171325655255082),\n",
       "  ('veuves', 0.0051439356916756366),\n",
       "  ('smic', 0.004912241298906829),\n",
       "  ('indexation pensions retraite', 0.0047482813280417474),\n",
       "  ('pensions retraites', 0.004704536307527121),\n",
       "  ('ans', 0.004604739013070171),\n",
       "  ('revalorisation pensions', 0.004252635381475945),\n",
       "  ('hausse', 0.0040535489435260166),\n",
       "  ('pensions invalidité', 0.004003412217284777),\n",
       "  ('remettre', 0.003835662242977662),\n",
       "  ('pension retraite', 0.003827705710672666),\n",
       "  ('indexer', 0.003776356849926893),\n",
       "  ('csg pensions', 0.0037440976825576983),\n",
       "  ('indexer pensions', 0.0036545575779708484),\n",
       "  ('retraité', 0.0036406027002671175)],\n",
       " 3: [('suppression', 0.03603205373504785),\n",
       "  ('avantages', 0.007643295206592807),\n",
       "  ('anciens', 0.0073172888983037395),\n",
       "  ('suppression avantages', 0.007014684585641077),\n",
       "  ('députés', 0.006977856778574695),\n",
       "  ('présidents', 0.006763170776923103),\n",
       "  ('privilèges', 0.0060460626695877364),\n",
       "  ('suppression privilèges', 0.006014089735669226),\n",
       "  ('retraites', 0.005724370224812721),\n",
       "  ('sénat', 0.005672560800170865),\n",
       "  ('anciens présidents', 0.005594711379195004),\n",
       "  ('suppression csg', 0.005489204820438532),\n",
       "  ('suppression sénat', 0.0053418385641402465),\n",
       "  ('csg', 0.005192336351322684),\n",
       "  ('isf', 0.005123130460884659),\n",
       "  ('salaires', 0.005063709418403757),\n",
       "  ('diminution', 0.004898258919156887),\n",
       "  ('sénateurs', 0.004765227426676482),\n",
       "  ('réduction', 0.004610882574418223),\n",
       "  ('nombre', 0.004092512166603952),\n",
       "  ('etc', 0.00402304947800529),\n",
       "  ('élus', 0.003899803834233208),\n",
       "  ('ministres', 0.0038645209519754154),\n",
       "  ('vie', 0.0038131345914066864),\n",
       "  ('ex', 0.0038070403819868777),\n",
       "  ('sannois', 0.0037194889049432718),\n",
       "  ('ex sannois', 0.0036899431751006907),\n",
       "  ('république', 0.0036792446964955664),\n",
       "  ('place', 0.003607093698837984),\n",
       "  ('baisse', 0.0035823743907276552),\n",
       "  ('état', 0.003448325021608407),\n",
       "  ('adopté', 0.00339515774026181),\n",
       "  ('fonctionnaires', 0.0033659090107594175),\n",
       "  ('président', 0.0033212998148252682),\n",
       "  ('ric', 0.003230468345397667),\n",
       "  ('non', 0.0031698904301691727),\n",
       "  ('augmentation', 0.003158347578518605),\n",
       "  ('isf suppression', 0.003150107318917855),\n",
       "  ('tva', 0.0031198973130495953),\n",
       "  ('retraite', 0.00303501081892173)],\n",
       " 4: [('mairie', 0.03590671963871981),\n",
       "  ('pdf', 0.020323777424279807),\n",
       "  ('cahier', 0.018596529846497786),\n",
       "  ('doléances', 0.01653900275649365),\n",
       "  ('2019', 0.014551026813595777),\n",
       "  ('jointes', 0.014064907850752598),\n",
       "  ('pièces jointes', 0.014023073662062478),\n",
       "  ('cahier doléances', 0.013481022930916022),\n",
       "  ('pièces', 0.013471467243715923),\n",
       "  ('fr', 0.013297230212489467),\n",
       "  ('de', 0.013122543007230968),\n",
       "  ('ko', 0.012755327219871895),\n",
       "  ('ccm', 0.012739787791971938),\n",
       "  ('oh ccm', 0.012652352176064724),\n",
       "  ('oh ccm gdn', 0.012549948809778506),\n",
       "  ('ccm gdn', 0.012549948809778506),\n",
       "  ('gdn', 0.01250227909985537),\n",
       "  ('oh', 0.012222616516634862),\n",
       "  ('par internet', 0.01217892821351579),\n",
       "  ('imprimé', 0.011659330679479453),\n",
       "  ('02', 0.011586539666304485),\n",
       "  ('ccm gdn sujet', 0.011282210546597601),\n",
       "  ('gdn sujet', 0.011282210546597601),\n",
       "  ('mairie mairie', 0.01078970434400659),\n",
       "  ('date', 0.010198998854545812),\n",
       "  ('internet', 0.009724223083784799),\n",
       "  ('clotilde oh', 0.009674937082928244),\n",
       "  ('clotilde oh ccm', 0.009674937082928244),\n",
       "  ('clotilde', 0.009643649436263339),\n",
       "  ('couchy', 0.009516838158925229),\n",
       "  ('imprimé couchy', 0.009458707033472956),\n",
       "  ('couchy clotilde oh', 0.009458707033472956),\n",
       "  ('couchy clotilde', 0.009458707033472956),\n",
       "  ('joint', 0.00941652798032998),\n",
       "  ('imprimé couchy clotilde', 0.009400513271391226),\n",
       "  ('ci joint', 0.00915013619262642),\n",
       "  ('bonne réception', 0.009107799388253958),\n",
       "  ('sujet', 0.008919659271348537),\n",
       "  ('ci', 0.008735238275237837),\n",
       "  ('saint', 0.008589567361962236)],\n",
       " 5: [('communes', 0.019311154006864374),\n",
       "  ('commune', 0.006990002246543906),\n",
       "  ('habitants', 0.005032708654429039),\n",
       "  ('petites communes', 0.0042214204272146205),\n",
       "  ('communautés', 0.004211696017765333),\n",
       "  ('services', 0.004017700490140217),\n",
       "  ('petites', 0.0036863401111005244),\n",
       "  ('élus', 0.003591835253864654),\n",
       "  ('qu', 0.0034918824567211474),\n",
       "  ('communauté', 0.00347682668632662),\n",
       "  ('est', 0.0034679073448018413),\n",
       "  ('régions', 0.003315434384897184),\n",
       "  ('nombre', 0.003290660701251136),\n",
       "  ('communautés communes', 0.003242453762013366),\n",
       "  ('il', 0.003122724646307838),\n",
       "  ('état', 0.003118913606113996),\n",
       "  ('une', 0.003105179309150435),\n",
       "  ('région', 0.0030983347591800286),\n",
       "  ('un', 0.0030485981140944184),\n",
       "  ('compétences', 0.0030160337199850486),\n",
       "  ('collectivités', 0.002981592298457983),\n",
       "  ('maires', 0.002976364041938116),\n",
       "  ('départements', 0.0029202942681395084),\n",
       "  ('faut', 0.0029080861979156173),\n",
       "  ('faire', 0.0028089159643994673),\n",
       "  ('supprimer', 0.002771779169180211),\n",
       "  ('citoyens', 0.002676731238798634),\n",
       "  ('territoire', 0.0026137589360067564),\n",
       "  ('non', 0.0025572402069255927),\n",
       "  ('département', 0.002528989959195077),\n",
       "  ('fonctionnement', 0.002508227307950482),\n",
       "  ('niveau', 0.0024675890732115202),\n",
       "  ('etat', 0.002431257381292665),\n",
       "  ('publics', 0.0024014913831822337),\n",
       "  ('maire', 0.0023912476416046843),\n",
       "  ('vie', 0.0023667895533418803),\n",
       "  ('exemple', 0.0023510943282050913),\n",
       "  ('loi', 0.0023475019242734495),\n",
       "  ('rurales', 0.0023017384613030207),\n",
       "  ('été', 0.0022999387799969755)],\n",
       " 6: [('taxes', 0.02460423729761487),\n",
       "  ('taxe', 0.01897312309239082),\n",
       "  ('baisse', 0.010815800080462396),\n",
       "  ('habitation', 0.010580193690348736),\n",
       "  ('produits', 0.009956630668826951),\n",
       "  ('taxe habitation', 0.009854226198343271),\n",
       "  ('isf', 0.009075380945444512),\n",
       "  ('augmentation', 0.008499428506027204),\n",
       "  ('taxer', 0.008015450881288065),\n",
       "  ('nécessité', 0.007701396413098058),\n",
       "  ('tva', 0.007541563951841733),\n",
       "  ('baisse taxes', 0.007339201931608251),\n",
       "  ('produits nécessité', 0.007314435034174152),\n",
       "  ('taxation', 0.006735481738080472),\n",
       "  ('pouvoir', 0.006639704531760413),\n",
       "  ('taxes produits', 0.006588876611457304),\n",
       "  ('trop', 0.006512452882283468),\n",
       "  ('ric', 0.006319062521749292),\n",
       "  ('retraites', 0.006193626861912299),\n",
       "  ('diminution', 0.006073922223945413),\n",
       "  ('pouvoir achat', 0.006046011389433323),\n",
       "  ('impôts', 0.006000336782563301),\n",
       "  ('achat', 0.005964200635899326),\n",
       "  ('smic', 0.005759470654664849),\n",
       "  ('salaires', 0.005572686681268311),\n",
       "  ('payer', 0.005268392681891934),\n",
       "  ('csg', 0.0051508664901571905),\n",
       "  ('supprimer', 0.0049836910960686775),\n",
       "  ('salaire', 0.004959969964394041),\n",
       "  ('suppression', 0.004935833514845033),\n",
       "  ('retraite', 0.0048230797004028296),\n",
       "  ('baisser', 0.004813750374092956),\n",
       "  ('diminuer', 0.00461282429413171),\n",
       "  ('augmenter', 0.004326679274643136),\n",
       "  ('faire', 0.004151065877772168),\n",
       "  ('rétablissement', 0.004130470904729668),\n",
       "  ('tva produits', 0.004014257012383158),\n",
       "  ('revenus', 0.003980987101454103),\n",
       "  ('entreprises', 0.003858831184745021),\n",
       "  ('impôt', 0.003836395424083434)],\n",
       " 7: [('mourir', 0.026084808118134652),\n",
       "  ('active', 0.023067750090292324),\n",
       "  ('active mourir', 0.020360025944402088),\n",
       "  ('aide active', 0.020343616558294288),\n",
       "  ('aide active mourir', 0.020277108912059683),\n",
       "  ('légalisation', 0.019580009805728597),\n",
       "  ('euthanasie', 0.014524607433015242),\n",
       "  ('légalisation aide', 0.014184322626334367),\n",
       "  ('légalisation aide active', 0.013950828657597322),\n",
       "  ('aide', 0.013896819075723696),\n",
       "  ('administration un', 0.013879605736594977),\n",
       "  ('administration un produit', 0.013872673710540427),\n",
       "  ('un produit', 0.013670086063670718),\n",
       "  ('létal', 0.013494599546552194),\n",
       "  ('produit létal', 0.013494599546552194),\n",
       "  ('un produit létal', 0.013453469944699212),\n",
       "  ('décèdent', 0.01308024408270132),\n",
       "  ('ifop', 0.013049579511446816),\n",
       "  ('sondage ifop', 0.013048039086857439),\n",
       "  ('sondage', 0.013024460311184599),\n",
       "  ('veux', 0.01223521149978864),\n",
       "  ('existent', 0.012136949741762245),\n",
       "  ('médecin', 0.0120275312838749),\n",
       "  ('produit', 0.011174714779034797),\n",
       "  ('vie', 0.010149407268526416),\n",
       "  ('2017', 0.010088680618700276),\n",
       "  ('pays', 0.009980882895174995),\n",
       "  ('administration', 0.009950337413073275),\n",
       "  ('mal', 0.009858016993955618),\n",
       "  ('loi', 0.009463023310204996),\n",
       "  ('une', 0.009308256069189606),\n",
       "  ('tous', 0.008773644325992319),\n",
       "  ('fin vie', 0.008619821289753209),\n",
       "  ('aujourd', 0.008365562513176373),\n",
       "  ('hui', 0.008365254608628924),\n",
       "  ('aujourd hui', 0.008332780679947055),\n",
       "  ('loi fin', 0.00814202814319636),\n",
       "  ('loi fin vie', 0.008118605769270782),\n",
       "  ('palliatifs', 0.008038610180924718),\n",
       "  ('questions société', 0.008027451900332064)],\n",
       " 8: [('handicap', 0.020531169637204135),\n",
       "  ('personnes', 0.012135922310426579),\n",
       "  ('handicapés', 0.011253004826474712),\n",
       "  ('handicapées', 0.010778310332166757),\n",
       "  ('handicapé', 0.009897339633450747),\n",
       "  ('aah', 0.008561157322311263),\n",
       "  ('personnes handicapées', 0.008526185891244752),\n",
       "  ('situation handicap', 0.0066505122784117346),\n",
       "  ('situation', 0.006473294170046934),\n",
       "  ('enfants', 0.00627202785968739),\n",
       "  ('handicapée', 0.005688441580643739),\n",
       "  ('allocation', 0.005509789676383568),\n",
       "  ('bretagne', 0.004715571544645664),\n",
       "  ('qu', 0.004644380755520034),\n",
       "  ('mdph', 0.00448851314152128),\n",
       "  ('personnes situation', 0.004325199571328722),\n",
       "  ('est', 0.00416497644862771),\n",
       "  ('aide', 0.004149689412701327),\n",
       "  ('vie', 0.0040030912955859085),\n",
       "  ('personnes situation handicap', 0.004002489337736844),\n",
       "  ('enfant', 0.003966722708327933),\n",
       "  ('un', 0.003895487492949739),\n",
       "  ('ai', 0.0038746061018269965),\n",
       "  ('invalidité', 0.003870849897918724),\n",
       "  ('ans', 0.0038573047824987674),\n",
       "  ('faire', 0.003723315516626012),\n",
       "  ('une', 0.0036380351251298565),\n",
       "  ('adulte', 0.0035848058132096996),\n",
       "  ('unapei bretagne', 0.003563586889131093),\n",
       "  ('unapei', 0.0035560190231307045),\n",
       "  ('adultes', 0.0034448375527637454),\n",
       "  ('travail', 0.0034012098141130535),\n",
       "  ('il', 0.003330008366824385),\n",
       "  ('bien', 0.003085460970435321),\n",
       "  ('conjoint', 0.003071818444667526),\n",
       "  ('parents', 0.0030665012928534296),\n",
       "  ('charge', 0.003039064606009491),\n",
       "  ('loi', 0.0030153152658110925),\n",
       "  ('droit', 0.002946932998900519),\n",
       "  ('avs', 0.002915976498789701)],\n",
       " 9: [('souhaitez', 0.028903223719346418),\n",
       "  ('par ordre', 0.026391372398043407),\n",
       "  ('par ordre priorité', 0.026067673738538882),\n",
       "  ('ville paris', 0.022937558535666897),\n",
       "  ('ordre priorité', 0.02157300099551447),\n",
       "  ('paris', 0.021466795798934374),\n",
       "  ('priorité', 0.01944686718511485),\n",
       "  ('par', 0.019198084709281617),\n",
       "  ('ordre', 0.018305366952686357),\n",
       "  ('ville', 0.015168992260263955),\n",
       "  ('souhaitez voir', 0.014717055905765235),\n",
       "  ('problèmes dysfonctionnements', 0.014668186072193768),\n",
       "  ('voir approfondies', 0.01460620125842366),\n",
       "  ('approfondies', 0.0145224330040577),\n",
       "  ('approfondies par', 0.014484245269094038),\n",
       "  ('souhaitez voir approfondies', 0.014469678938740882),\n",
       "  ('idées souhaitez', 0.014462432317330626),\n",
       "  ('dysfonctionnements injustices', 0.014448011353097773),\n",
       "  ('voir approfondies par', 0.01443867638204627),\n",
       "  ('approfondies par ordre', 0.01443867638204627),\n",
       "  ('injustices souhaitez', 0.014424114284729435),\n",
       "  ('organisé autour', 0.014416869891519201),\n",
       "  ('idées souhaitez voir', 0.014371278701268884),\n",
       "  ('dysfonctionnements', 0.014307300722670961),\n",
       "  ('achat démocratie', 0.014265607534347791),\n",
       "  ('solutions proposez', 0.014263421577388498),\n",
       "  ('problèmes dysfonctionnements injustices', 0.01423433149489961),\n",
       "  ('proposez idées', 0.014179291176666064),\n",
       "  ('souhaitez faire', 0.014135538070164912),\n",
       "  ('achat démocratie citoyenneté', 0.014080380760657006),\n",
       "  ('national organisé autour', 0.014041871587738395),\n",
       "  ('citoyenneté fiscalité', 0.013937374493387592),\n",
       "  ('écologique pouvoir', 0.013882304865150462),\n",
       "  ('solutions proposez idées', 0.013872939345213725),\n",
       "  ('pouvoir achat démocratie', 0.013853489085629297),\n",
       "  ('national organisé', 0.013852173686655877),\n",
       "  ('proposez idées souhaitez', 0.01381224119207935),\n",
       "  ('écologique pouvoir achat', 0.013797638222141325),\n",
       "  ('débat national organisé', 0.013760441097674842),\n",
       "  ('exprimer cadre', 0.013754443500960712)],\n",
       " 10: [('transports', 0.01095947216250318),\n",
       "  ('transport', 0.010191217373012842),\n",
       "  ('bus', 0.008007771966480939),\n",
       "  ('trains', 0.007076150475794366),\n",
       "  ('commun', 0.006854864524746367),\n",
       "  ('train', 0.00551473232555384),\n",
       "  ('ligne', 0.005279581794024433),\n",
       "  ('transports commun', 0.004953259882505301),\n",
       "  ('gare', 0.004928936053528762),\n",
       "  ('lignes', 0.0044126049759408426),\n",
       "  ('est', 0.004306700590467023),\n",
       "  ('ville', 0.004087214547830999),\n",
       "  ('réseau', 0.0037361445752757075),\n",
       "  ('km', 0.0036063825326121063),\n",
       "  ('voiture', 0.003570206324262944),\n",
       "  ('paris', 0.003398446678468362),\n",
       "  ('faire', 0.0032277154059724873),\n",
       "  ('sncf', 0.0031970593731133344),\n",
       "  ('il', 0.003118413872362079),\n",
       "  ('qu', 0.003097061713876916),\n",
       "  ('transport commun', 0.0030875762684523544),\n",
       "  ('aller', 0.0030101229227382964),\n",
       "  ('place', 0.002721467061105468),\n",
       "  ('villes', 0.0026851910664704064),\n",
       "  ('ans', 0.0026815573724815046),\n",
       "  ('st', 0.002622398928697297),\n",
       "  ('centre', 0.0025904651740753164),\n",
       "  ('un', 0.0025668383478049117),\n",
       "  ('routes', 0.0025634789411956654),\n",
       "  ('camions', 0.002524502721017067),\n",
       "  ('personnes', 0.002507023167125983),\n",
       "  ('les', 0.0024871907149461837),\n",
       "  ('publics', 0.0024514690429880757),\n",
       "  ('2019', 0.0024512172861169143),\n",
       "  ('prendre', 0.0024394419847902256),\n",
       "  ('prix', 0.0024389084108242774),\n",
       "  ('services', 0.0024336017547364245),\n",
       "  ('parking', 0.0024027672529472327),\n",
       "  ('en', 0.002360866060761596),\n",
       "  ('commune', 0.0023046244424091995)],\n",
       " 11: [('artisans', 0.027142861796156405),\n",
       "  ('petits patrons', 0.024662756334981883),\n",
       "  ('patrons artisans', 0.024655673303321555),\n",
       "  ('petits patrons artisans', 0.024650377402191),\n",
       "  ('petits', 0.022316384721150613),\n",
       "  ('patrons', 0.02202499187975204),\n",
       "  ('sociétés', 0.020919044634263896),\n",
       "  ('collectif', 0.020615471742690624),\n",
       "  ('collectif petits patrons', 0.019198834431586646),\n",
       "  ('collectif petits', 0.019192543911800787),\n",
       "  ('entreprises', 0.015303092193262743),\n",
       "  ('mairie', 0.01380286520252443),\n",
       "  ('petites entreprises', 0.0135077638521563),\n",
       "  ('cahuzac', 0.013361976041169068),\n",
       "  ('entrepreneurs', 0.012904170961741429),\n",
       "  ('cahier doléances mairie', 0.01223910350711984),\n",
       "  ('doléances mairie', 0.011687492973434487),\n",
       "  ('cotisations sociales', 0.01107961548530742),\n",
       "  ('tpe', 0.010291813863832756),\n",
       "  ('cahier', 0.009873952765272465),\n",
       "  ('cotisations', 0.009695048052948194),\n",
       "  ('sarl', 0.009569911258642292),\n",
       "  ('petites', 0.009558254988545076),\n",
       "  ('risque', 0.00953852274170618),\n",
       "  ('cahier doléances', 0.009065597038201693),\n",
       "  ('objet cahier', 0.008905109392650205),\n",
       "  ('objet cahier doléances', 0.008816477934908007),\n",
       "  ('décembre 2018', 0.0087680823889791),\n",
       "  ('sociales', 0.008456578953727045),\n",
       "  ('sens paysan', 0.00839233948254991),\n",
       "  ('artisans remercions', 0.00838986330647239),\n",
       "  ('bon sens paysan', 0.008372215019268674),\n",
       "  ('patrons artisans remercions', 0.008369780278599609),\n",
       "  ('local collectif', 0.008366584698751312),\n",
       "  ('local collectif petits', 0.008366584698751312),\n",
       "  ('courroie', 0.008362950100047117),\n",
       "  ('êtes courroie', 0.008347572499579294),\n",
       "  ('sourd bon sens', 0.008327443097934458),\n",
       "  ('sourd bon', 0.008327443097934458),\n",
       "  ('devenu sourd', 0.00832429584752872)],\n",
       " 12: [('traités ordre', 0.035272889382510546),\n",
       "  ('soient traités ordre', 0.03500786175805596),\n",
       "  ('souhaite soient', 0.03495134771163333),\n",
       "  ('souhaite soient traités', 0.03443180901083865),\n",
       "  ('traités ordre priorité', 0.034425735336881445),\n",
       "  ('soient traités', 0.03435428989711543),\n",
       "  ('ordre priorité problèmes', 0.03305187593240367),\n",
       "  ('traités', 0.03263695218764539),\n",
       "  ('priorité problèmes', 0.03250894356164167),\n",
       "  ('habitant', 0.032212618172537656),\n",
       "  ('ordre priorité', 0.03156936359932513),\n",
       "  ('en date', 0.029849872901861682),\n",
       "  ('habitant ville', 0.028635519658709),\n",
       "  ('souhaite', 0.027857550423411384),\n",
       "  ('ordre', 0.027636913100662262),\n",
       "  ('date', 0.026880815877148554),\n",
       "  ('problèmes', 0.026348871445432357),\n",
       "  ('priorité', 0.025747472890807137),\n",
       "  ('propose', 0.025522141627699554),\n",
       "  ('soient', 0.025279659348761748),\n",
       "  ('demande', 0.023809015180307997),\n",
       "  ('attention pouvoirs', 0.021686686331453993),\n",
       "  ('attention pouvoirs publics', 0.021403707117805558),\n",
       "  ('ville', 0.021251202273384975),\n",
       "  ('pouvoirs publics', 0.01990576000746395),\n",
       "  ('doléances attention', 0.019663648918819197),\n",
       "  ('doléances attention pouvoirs', 0.019526400291075007),\n",
       "  ('publics habitant', 0.018633192707844696),\n",
       "  ('attention', 0.01851166621634354),\n",
       "  ('pouvoirs publics habitant', 0.01847722321012105),\n",
       "  ('pouvoirs', 0.018251216509995775),\n",
       "  ('publics habitant ville', 0.01798921566122098),\n",
       "  ('2019 demande', 0.017278249174159016),\n",
       "  ('en', 0.015309960796954123),\n",
       "  ('propose souhaite soient', 0.01423513012298432),\n",
       "  ('propose souhaite', 0.014223460620072449),\n",
       "  ('suivants', 0.014060919366442933),\n",
       "  ('doléances', 0.013586428760652983),\n",
       "  ('problèmes suivants', 0.013420258641747958),\n",
       "  ('priorité problèmes suivants', 0.012921515964189244)],\n",
       " 13: [('vitesse', 0.01851633369901035),\n",
       "  ('km', 0.01650023267994743),\n",
       "  ('routes', 0.01135005581358942),\n",
       "  ('80', 0.010250371424300983),\n",
       "  ('radars', 0.00983990891432161),\n",
       "  ('80 km', 0.009797040917173228),\n",
       "  ('route', 0.009612036935745178),\n",
       "  ('90', 0.006925633585813331),\n",
       "  ('limitation', 0.006170383528371062),\n",
       "  ('90 km', 0.004633648689701143),\n",
       "  ('est', 0.004527256768049764),\n",
       "  ('sécurité', 0.004281455500315031),\n",
       "  ('état', 0.004180509583894441),\n",
       "  ('accidents', 0.0040625958697154425),\n",
       "  ('qu', 0.0040578979191192395),\n",
       "  ('véhicules', 0.004010668017763964),\n",
       "  ('limitation vitesse', 0.0039049921911043263),\n",
       "  ('routière', 0.003847078400026649),\n",
       "  ('faire', 0.0035982767598564183),\n",
       "  ('limitations', 0.003511169053799113),\n",
       "  ('80km', 0.003430127452729496),\n",
       "  ('bien', 0.0033301495052794504),\n",
       "  ('radar', 0.003166986498438941),\n",
       "  ('il', 0.003140835683765473),\n",
       "  ('nombre', 0.0030917925396312727),\n",
       "  ('suppression', 0.003031163568924936),\n",
       "  ('conducteurs', 0.0030258946401849032),\n",
       "  ('autoroutes', 0.00298893681869739),\n",
       "  ('rouler', 0.00293542568792846),\n",
       "  ('une', 0.002889344320914219),\n",
       "  ('sécurité routière', 0.0028851511403646894),\n",
       "  ('vitesse 80', 0.002833419372948561),\n",
       "  ('en', 0.002807368361775865),\n",
       "  ('panneaux', 0.002801402485878562),\n",
       "  ('non', 0.002779264191676412),\n",
       "  ('mesure', 0.00277189200461422),\n",
       "  ('vitesse 80 km', 0.002763844741129082),\n",
       "  ('70', 0.0027331009815293877),\n",
       "  ('faut', 0.002682480788222769),\n",
       "  ('un', 0.0026397031988948574)],\n",
       " 14: [('cotisations sociales', 0.04913846284386939),\n",
       "  ('cahuzac', 0.044054051066801235),\n",
       "  ('cotisations', 0.04253000571544367),\n",
       "  ('taxe cahuzac', 0.04113944477303638),\n",
       "  ('sociales', 0.03670978128673464),\n",
       "  ('01', 0.03461712339731456),\n",
       "  ('économique', 0.03429365396233132),\n",
       "  ('mairie', 0.03248864395240959),\n",
       "  ('sarl', 0.032423409568554495),\n",
       "  ('dividendes sarl', 0.031813632605523876),\n",
       "  ('sarl gérant', 0.03168531112602444),\n",
       "  ('soumet dividendes', 0.03164436742295674),\n",
       "  ('soumet dividendes sarl', 0.03151580443353793),\n",
       "  ('dividendes sarl gérant', 0.03151580443353793),\n",
       "  ('soumet', 0.031188992781386704),\n",
       "  ('compter 01', 0.031029307451880626),\n",
       "  ('gérant', 0.030930438863165252),\n",
       "  ('compter 01 01', 0.030926000775264466),\n",
       "  ('gérant majoritaire', 0.030747901200527557),\n",
       "  ('revendication inscrire', 0.030693448441151766),\n",
       "  ('sarl gérant majoritaire', 0.03061854274161515),\n",
       "  ('01 01 2019', 0.030567100721356807),\n",
       "  ('revendication inscrire cahier', 0.03043409368895482),\n",
       "  ('inscrire cahier', 0.030363959492548085),\n",
       "  ('gérant majoritaire cotisations', 0.030276934611194982),\n",
       "  ('majoritaire cotisations', 0.03024964463629449),\n",
       "  ('majoritaire cotisations sociales', 0.03009231915624867),\n",
       "  ('01 01', 0.029980791778521507),\n",
       "  ('merci mairie', 0.029635099068047923),\n",
       "  ('sociales merci', 0.02954774894509185),\n",
       "  ('sociales merci mairie', 0.02942527040976792),\n",
       "  ('cotisations sociales merci', 0.02924845083569486),\n",
       "  ('confiscatoire soumet', 0.029185645695423305),\n",
       "  ('confiscatoire soumet dividendes', 0.028868336095405876),\n",
       "  ('confiscatoire', 0.028793380353244954),\n",
       "  ('cahuzac confiscatoire', 0.02864142764702939),\n",
       "  ('taxe cahuzac confiscatoire', 0.028468868016901263),\n",
       "  ('cahuzac confiscatoire soumet', 0.028377329956294852),\n",
       "  ('dividendes', 0.028377247792439036),\n",
       "  ('équipes', 0.028128281822189145)],\n",
       " 15: [('doléances', 0.04129003995851786),\n",
       "  ('cahier', 0.036652239287766994),\n",
       "  ('cahier doléances', 0.03135711411936227),\n",
       "  ('propositions', 0.02619640608261675),\n",
       "  ('doléances propositions', 0.023115086025834834),\n",
       "  ('document transmis', 0.020318816583844334),\n",
       "  ('propositions ce document', 0.019294327504162427),\n",
       "  ('ce document transmis', 0.019050505214422035),\n",
       "  ('propositions ce', 0.01893545774348726),\n",
       "  ('cahier doléances propositions', 0.01875453436245714),\n",
       "  ('document transmis préfets', 0.01815936706274111),\n",
       "  ('transmis préfets', 0.017912681431249907),\n",
       "  ('ce document', 0.017880487974558417),\n",
       "  ('transmis', 0.017172252970904998),\n",
       "  ('transmis préfets parlementaires', 0.016928606206581483),\n",
       "  ('préfets parlementaires', 0.016882403926641303),\n",
       "  ('document', 0.015525646919785863),\n",
       "  ('préfets', 0.012940619497282233),\n",
       "  ('association maires', 0.012317965451440111),\n",
       "  ('2019', 0.011822905013790512),\n",
       "  ('doléances et', 0.011610387048532641),\n",
       "  ('de doléances et', 0.011139884276115366),\n",
       "  ('doléances propositions ce', 0.011091725957257636),\n",
       "  ('de doléances', 0.010913857033691335),\n",
       "  ('cahier de', 0.010897399204278256),\n",
       "  ('cahier de doléances', 0.010755003134543823),\n",
       "  ('doléances et propositions', 0.01033877201222659),\n",
       "  ('parlementaires', 0.010182089763842618),\n",
       "  ('et propositions ce', 0.009754494088430554),\n",
       "  ('maires ruraux france', 0.009751998989175423),\n",
       "  ('association', 0.009711001178607799),\n",
       "  ('ruraux france', 0.0096581529701733),\n",
       "  ('et propositions', 0.009642687481692168),\n",
       "  ('association maires ruraux', 0.009623251115825265),\n",
       "  ('ce', 0.00961426662772635),\n",
       "  ('de', 0.009594375563230827),\n",
       "  ('maires', 0.00932735496830972),\n",
       "  ('commune', 0.009221100202972198),\n",
       "  ('maires ruraux', 0.009036937425955358),\n",
       "  ('amrf', 0.008431522049336568)],\n",
       " 16: [('victime', 0.04000345481661433),\n",
       "  ('appel', 0.03659505783711937),\n",
       "  ('relaxe', 0.02991544682850796),\n",
       "  ('victimes', 0.023335006704411625),\n",
       "  ('acquittement', 0.02326062309283),\n",
       "  ('cas relaxe', 0.023234732171467532),\n",
       "  ('relaxe acquittement', 0.023093209793546312),\n",
       "  ('cas relaxe acquittement', 0.022878122938707095),\n",
       "  ('faire appel', 0.02185236445401018),\n",
       "  ('peine', 0.020219486878978676),\n",
       "  ('cas', 0.019528999671385234),\n",
       "  ('droit appel', 0.016596069035591344),\n",
       "  ('mis cause', 0.01621158532197325),\n",
       "  ('droit', 0.01601338036043669),\n",
       "  ('pénale', 0.015808726003391217),\n",
       "  ('détenus', 0.015740790235262703),\n",
       "  ('tribunal', 0.015468311520891688),\n",
       "  ('second', 0.015006187244734532),\n",
       "  ('réductions peine', 0.01187489618628453),\n",
       "  ('puisse', 0.01153452805284194),\n",
       "  ('solliciter libération', 0.011359700718030776),\n",
       "  ('libération', 0.011181138271695422),\n",
       "  ('réductions', 0.01115337909580483),\n",
       "  ('pénal', 0.011133736446680429),\n",
       "  ('libération conditionnelle', 0.011095229175966162),\n",
       "  ('cause', 0.01104175879764874),\n",
       "  ('conditionnelle', 0.011034767240950719),\n",
       "  ('mis', 0.011025179837277846),\n",
       "  ('solliciter libération conditionnelle', 0.010914421259266623),\n",
       "  ('propositions', 0.010833492130873406),\n",
       "  ('réservé', 0.010816356748597543),\n",
       "  ('faire', 0.010672736665141973),\n",
       "  ('solliciter', 0.010647066886699568),\n",
       "  ('terroristes', 0.010345919843094907),\n",
       "  ('droits', 0.009792599257303039),\n",
       "  ('madame monsieur', 0.009712493380122027),\n",
       "  ('elle', 0.009707372346301526),\n",
       "  ('grand débat national', 0.009666374404885774),\n",
       "  ('sécurité', 0.00963451762333167),\n",
       "  ('droits parties', 0.009392064218879673)],\n",
       " 17: [('vous', 0.033958418685664925),\n",
       "  ('organisation', 0.030062409624560842),\n",
       "  ('services publics', 0.025842297542457877),\n",
       "  ('services', 0.025169464541938517),\n",
       "  ('publics', 0.023990073235417755),\n",
       "  ('oui', 0.023986637224433897),\n",
       "  ('collectivités territoriales', 0.022421270237146837),\n",
       "  ('territoriales', 0.021595097765714038),\n",
       "  ('échelons', 0.020093897004055918),\n",
       "  ('échelons administratifs', 0.019981999764257827),\n",
       "  ('pensez', 0.01957191178344385),\n",
       "  ('collectivités', 0.018545946775665366),\n",
       "  ('pensez vous', 0.018234301266738334),\n",
       "  ('administratifs', 0.01789578890379575),\n",
       "  ('organisation état', 0.013598451423028795),\n",
       "  ('avez', 0.013404721502460878),\n",
       "  ('région commune', 0.013121808795151506),\n",
       "  ('gèrent services', 0.012529303986683333),\n",
       "  ('gèrent services publics', 0.012529303986683333),\n",
       "  ('collectivités territoriales région', 0.012490129916468095),\n",
       "  ('territoriales région', 0.012477274201377148),\n",
       "  ('niveaux collectivités territoriales', 0.012464517053271193),\n",
       "  ('emploi caf', 0.012414444650985415),\n",
       "  ('êtes attaché', 0.01240824543388163),\n",
       "  ('territoriales êtes', 0.012395300510850575),\n",
       "  ('collectivités territoriales êtes', 0.012395300510850575),\n",
       "  ('organisation devrait', 0.012366064855305066),\n",
       "  ('territoriales région commune', 0.012326318476506554),\n",
       "  ('territoriales êtes attaché', 0.012326318476506554),\n",
       "  ('commune opérateurs', 0.012326318476506554),\n",
       "  ('région commune opérateurs', 0.012326318476506554),\n",
       "  ('région', 0.012323489921976048),\n",
       "  ('manière organisation', 0.012297969805216585),\n",
       "  ('manière organisation devrait', 0.012297969805216585),\n",
       "  ('publics territoire', 0.012292345408696368),\n",
       "  ('services publics territoire', 0.012238130021619963),\n",
       "  ('opérateurs exemple', 0.012218192875835445),\n",
       "  ('france manière organisation', 0.012216384274921882),\n",
       "  ('emploi caf gèrent', 0.012162346505485776),\n",
       "  ('caf gèrent', 0.012149116349071645)],\n",
       " 18: [('fraude', 0.0326496107357206),\n",
       "  ('fiscale', 0.020241844372782414),\n",
       "  ('fraude fiscale', 0.019527713109960956),\n",
       "  ('contre fraude', 0.014223527044526002),\n",
       "  ('contre', 0.01184144579265559),\n",
       "  ('contre fraude fiscale', 0.010233774769227552),\n",
       "  ('fraudeurs', 0.008086015468751314),\n",
       "  ('fraudes', 0.007191708305839844),\n",
       "  ('lutter contre fraude', 0.006814973491468909),\n",
       "  ('justice', 0.006501583137282592),\n",
       "  ('lutter', 0.00643195803262888),\n",
       "  ('isf', 0.00635202988949589),\n",
       "  ('lutte', 0.00623579463790398),\n",
       "  ('évasion', 0.006220641554101957),\n",
       "  ('lutter contre', 0.005984186984988308),\n",
       "  ('sociale', 0.005004260801023557),\n",
       "  ('lutte contre', 0.004812604505130582),\n",
       "  ('vie', 0.004622739439044519),\n",
       "  ('lutte contre fraude', 0.004558302215235793),\n",
       "  ('fonctionnaires', 0.004488614801080519),\n",
       "  ('faire', 0.004438819482577132),\n",
       "  ('fiscaux', 0.00438216610639986),\n",
       "  ('milliards', 0.0043408025250665765),\n",
       "  ('qu', 0.004315930442167985),\n",
       "  ('fiscales', 0.004297752118396143),\n",
       "  ('évasion fiscale', 0.004216454164344883),\n",
       "  ('argent', 0.004057034333500422),\n",
       "  ('impôt', 0.004043731143611422),\n",
       "  ('fraude sociale', 0.0039854096542339176),\n",
       "  ('supprimer', 0.003836997090457833),\n",
       "  ('retraites', 0.003827078314999982),\n",
       "  ('contrôle', 0.0038040950787571297),\n",
       "  ('taxer', 0.0037614819857708557),\n",
       "  ('paradis fiscaux', 0.003548233202068077),\n",
       "  ('charge enfants', 0.0035140113413489505),\n",
       "  ('enfants', 0.003505643056534669),\n",
       "  ('députés', 0.003477299606225943),\n",
       "  ('avantages', 0.0034747949504001746),\n",
       "  ('paradis', 0.0034681518894507744),\n",
       "  ('charge', 0.0034640151779211075)],\n",
       " 19: [('internet', 0.03360210670190875),\n",
       "  ('est', 0.007557623671094117),\n",
       "  ('téléphone', 0.006543455869175637),\n",
       "  ('4g', 0.006504145296687587),\n",
       "  ('mobile', 0.00650069058544069),\n",
       "  ('personnes', 0.005927044225372257),\n",
       "  ('faire', 0.005498030805659962),\n",
       "  ('services', 0.005354574333282266),\n",
       "  ('qu', 0.0050935646949381045),\n",
       "  ('téléphonie', 0.004895659627754702),\n",
       "  ('démarches', 0.0045825857582528955),\n",
       "  ('service', 0.004562624945985574),\n",
       "  ('mhz', 0.004522402681884948),\n",
       "  ('accès', 0.004397036622559077),\n",
       "  ('bien', 0.004263680095651944),\n",
       "  ('téléphonique', 0.004245593049513272),\n",
       "  ('ai', 0.004132565066659536),\n",
       "  ('il', 0.004061915668251735),\n",
       "  ('téléphoniques', 0.004055091598695029),\n",
       "  ('réseau', 0.003983593990531928),\n",
       "  ('débit', 0.00394837800365728),\n",
       "  ('connexion', 0.0038432579190854628),\n",
       "  ('une', 0.003653634910432593),\n",
       "  ('tnt', 0.0036212381153230846),\n",
       "  ('ligne', 0.00353075168105213),\n",
       "  ('ordinateur', 0.0034589401981275905),\n",
       "  ('informatique', 0.0033973711976199054),\n",
       "  ('portable', 0.003372924527438632),\n",
       "  ('on', 0.00336854961635175),\n",
       "  ('téléphonie mobile', 0.003350603732437054),\n",
       "  ('impôts', 0.003331273543014974),\n",
       "  ('âgées', 0.0033145324672763754),\n",
       "  ('publics', 0.003286788937690195),\n",
       "  ('carte', 0.003245375091578722),\n",
       "  ('demande', 0.0032049142034247403),\n",
       "  ('réception', 0.003193353486041791),\n",
       "  ('connexion internet', 0.003177324253164516),\n",
       "  ('cas', 0.0031513346204280835),\n",
       "  ('personnes âgées', 0.0031440991403497926),\n",
       "  ('un', 0.0030925204792886275)],\n",
       " 20: [('gilets', 0.07851800526806116),\n",
       "  ('jaunes', 0.07001325032733491),\n",
       "  ('gilets jaunes', 0.06985050631342624),\n",
       "  ('macron', 0.04900989433968666),\n",
       "  ('soutiens', 0.03921564570878546),\n",
       "  ('courage', 0.03858020363315828),\n",
       "  ('démission', 0.03480569674897289),\n",
       "  ('soutiens gilets', 0.02994993564458655),\n",
       "  ('soutiens gilets jaunes', 0.027544828899973846),\n",
       "  ('jaune', 0.027511521889148672),\n",
       "  ('bon courage', 0.02524971892486881),\n",
       "  ('bon', 0.02223297171654742),\n",
       "  ('gilet', 0.01957483249277965),\n",
       "  ('gilet jaune', 0.018504276698440337),\n",
       "  ('macron démission', 0.018414669239532593),\n",
       "  ('démission macron', 0.015091758994287753),\n",
       "  ('anonyme je soutiens', 0.014628344344290447),\n",
       "  ('luttent', 0.014366743800652152),\n",
       "  ('je soutiens', 0.01407621210741148),\n",
       "  ('jaunes luttent', 0.013882207148967624),\n",
       "  ('gilets jaunes luttent', 0.013882207148967624),\n",
       "  ('bravo', 0.013520546112461434),\n",
       "  ('anonyme je', 0.012780020615832076),\n",
       "  ('macron demission', 0.012622988026784701),\n",
       "  ('je soutiens gilets', 0.01248251879763693),\n",
       "  ('mouvement', 0.012288976261185282),\n",
       "  ('soutien gilets', 0.011736450348554382),\n",
       "  ('gilets jaune', 0.01160053661733372),\n",
       "  ('demission', 0.011063122172463535),\n",
       "  ('gouvernement macron', 0.010911236590394781),\n",
       "  ('soutien', 0.010820487677730303),\n",
       "  ('cœur vous', 0.01074811900406986),\n",
       "  ('démission gouvernement macron', 0.010565801744423673),\n",
       "  ('cœur', 0.01002975312563512),\n",
       "  ('je', 0.00986157417533067),\n",
       "  ('bravo gilets', 0.00952439513700228),\n",
       "  ('mouvement gilets jaunes', 0.009471006344517615),\n",
       "  ('mouvement gilets', 0.009391465878639198),\n",
       "  ('contribution', 0.008827189171690014),\n",
       "  ('anonyme', 0.008634339421001445)],\n",
       " 21: [('grand débat', 0.04330414832060275),\n",
       "  ('grand débat national', 0.04202360248277459),\n",
       "  ('débat national', 0.041747852945372144),\n",
       "  ('débat', 0.04064621503212551),\n",
       "  ('grand', 0.03749762981419169),\n",
       "  ('national', 0.03630543472801254),\n",
       "  ('prénom', 0.02020494718456431),\n",
       "  ('nom prénom', 0.0189409147372437),\n",
       "  ('15', 0.01839122920261552),\n",
       "  ('nom', 0.017098236803862094),\n",
       "  ('15 mars', 0.016394924291069517),\n",
       "  ('fr vert', 0.016134144486371096),\n",
       "  ('15 mars 2019', 0.015798466337672602),\n",
       "  ('vert 800 971111', 0.015580978640643027),\n",
       "  ('800 971111', 0.015580978640643027),\n",
       "  ('vert 800', 0.015520406582470858),\n",
       "  ('fr vert 800', 0.015520406582470858),\n",
       "  ('971111', 0.015405289569374668),\n",
       "  ('15 janvier 15', 0.015271239438853132),\n",
       "  ('janvier 15 mars', 0.01520930660789978),\n",
       "  ('adresse facultative', 0.01519580939072004),\n",
       "  ('janvier 15', 0.015091047200753886),\n",
       "  ('971111 nom prénom', 0.014963590845656075),\n",
       "  ('800 971111 nom', 0.014963590845656075),\n",
       "  ('971111 nom', 0.014963590845656075),\n",
       "  ('retrouvez informations', 0.014903544786702028),\n",
       "  ('2019 retrouvez informations', 0.014903544786702028),\n",
       "  ('granddebat fr vert', 0.014903544786702028),\n",
       "  ('mars 2019 retrouvez', 0.014903544786702028),\n",
       "  ('2019 retrouvez', 0.014903544786702028),\n",
       "  ('retrouvez informations granddebat', 0.01428342762539898),\n",
       "  ('informations granddebat', 0.01428342762539898),\n",
       "  ('informations granddebat fr', 0.01428342762539898),\n",
       "  ('débat national 15', 0.014083916320238338),\n",
       "  ('mars 2019', 0.014068913025938675),\n",
       "  ('facultative', 0.013999462723496503),\n",
       "  ('national 15', 0.013850061352158424),\n",
       "  ('national 15 janvier', 0.0136250792047761),\n",
       "  ('retrouvez', 0.013527829228530786),\n",
       "  ('granddebat fr', 0.013233456318113991)],\n",
       " 22: [('laïcité', 0.029940975820101624),\n",
       "  ('religions', 0.02155424732359725),\n",
       "  ('renforcer', 0.021002176392560058),\n",
       "  ('aujourd hui renforcer', 0.015225815396347703),\n",
       "  ('laïcité rapport', 0.015186941628774653),\n",
       "  ('hui renforcer', 0.015167789784732915),\n",
       "  ('renforcer engagement citoyen', 0.01513003793248102),\n",
       "  ('vous renforcer', 0.01513003793248102),\n",
       "  ('renforcer engagement', 0.015111430938686927),\n",
       "  ('application laïcité france', 0.015111430938686927),\n",
       "  ('laïcité france aujourd', 0.015092998740201544),\n",
       "  ('citoyen société', 0.014985900249102525),\n",
       "  ('application laïcité', 0.014951461620187803),\n",
       "  ('hui renforcer engagement', 0.014870547011508512),\n",
       "  ('aujourd hui', 0.014852954832272633),\n",
       "  ('vous application', 0.014851794164217646),\n",
       "  ('proposez vous renforcer', 0.014851794164217646),\n",
       "  ('aujourd', 0.014825028170629058),\n",
       "  ('hui', 0.014824482517711802),\n",
       "  ('engagement citoyen société', 0.014814828808887666),\n",
       "  ('valeurs', 0.014731950637630796),\n",
       "  ('engagement citoyen', 0.014723746493248015),\n",
       "  ('diriez vous application', 0.01457268715342126),\n",
       "  ('vous application laïcité', 0.014554152394242374),\n",
       "  ('compréhension réciproque', 0.014541424232796177),\n",
       "  ('religions pays', 0.014541424232796177),\n",
       "  ('garantir respect', 0.014510771934735826),\n",
       "  ('laïcité france', 0.014479804250916264),\n",
       "  ('garantir respect compréhension', 0.014408125860246599),\n",
       "  ('respect compréhension réciproque', 0.014401703306269005),\n",
       "  ('respect compréhension', 0.014376198720456028),\n",
       "  ('compréhension réciproque valeurs', 0.01431370003554536),\n",
       "  ('réciproque valeurs', 0.014301410315623203),\n",
       "  ('principes laïcité rapport', 0.014292698387569502),\n",
       "  ('vous renforcer principes', 0.014292698387569502),\n",
       "  ('réciproque', 0.014274073180338515),\n",
       "  ('valeurs intangibles', 0.014229078161144052),\n",
       "  ('intangibles', 0.014217250430305906),\n",
       "  ('principes laïcité', 0.01416479794130861),\n",
       "  ('réciproque valeurs intangibles', 0.0140668518518513)],\n",
       " 23: [('national cahier citoyen', 0.22691122960868168),\n",
       "  ('débat national cahier', 0.2084108678076161),\n",
       "  ('cahier citoyen', 0.2038607058542225),\n",
       "  ('national cahier', 0.2029837423920523),\n",
       "  ('grand débat national', 0.13937428888452016),\n",
       "  ('débat national', 0.13715472289326638),\n",
       "  ('grand débat', 0.1281292399029788),\n",
       "  ('national', 0.11901817624146063),\n",
       "  ('débat', 0.11292230975007175),\n",
       "  ('grand', 0.11175135091023194),\n",
       "  ('cahier', 0.10966238963764352),\n",
       "  ('citoyen', 0.10583996582049024),\n",
       "  ('national grand débat', 0.024594913193994674),\n",
       "  ('débat national grand', 0.02448937112762653),\n",
       "  ('citoyen ville code', 0.02437324508517572),\n",
       "  ('ville code insee', 0.02437324508517572),\n",
       "  ('national grand', 0.024104294004604877),\n",
       "  ('ville code', 0.022975057500150452),\n",
       "  ('code', 0.022528348078518945),\n",
       "  ('code insee', 0.021596053283108877),\n",
       "  ('cahier citoyen ville', 0.02108135416628115),\n",
       "  ('citoyen ville', 0.02073901779231325),\n",
       "  ('cahier citoyen saint', 0.01953162154488278),\n",
       "  ('citoyen saint', 0.018978624272131046),\n",
       "  ('national fin pages', 0.01687236948591747),\n",
       "  ('pages écrites grand', 0.01687236948591747),\n",
       "  ('débat national fin', 0.01687236948591747),\n",
       "  ('écrites grand', 0.016529210309988253),\n",
       "  ('écrites grand débat', 0.016529210309988253),\n",
       "  ('national fin', 0.015625297235906225),\n",
       "  ('insee', 0.014342547294236842),\n",
       "  ('code postal', 0.014212615291331734),\n",
       "  ('postal', 0.013998348598228889),\n",
       "  ('cecillon', 0.012986085390409362),\n",
       "  ('fin pages écrites', 0.011953846972089868),\n",
       "  ('fin pages', 0.011938240549894015),\n",
       "  ('saint', 0.011919512543271702),\n",
       "  ('pages écrites', 0.011907495335130937),\n",
       "  ('écrites', 0.01116243522235338),\n",
       "  ('ville', 0.011016029387389872)],\n",
       " 24: [('2019', 0.07941463692252483),\n",
       "  ('février 2019', 0.07373078709441697),\n",
       "  ('février', 0.06907340240661436),\n",
       "  ('20 février 2019', 0.04533671493822143),\n",
       "  ('20 février', 0.04435122849259711),\n",
       "  ('maire', 0.04340915564657486),\n",
       "  ('le maire', 0.034501378693788366),\n",
       "  ('registre', 0.03289718378093468),\n",
       "  ('02', 0.030836856150300337),\n",
       "  ('clôturé', 0.028800145231128425),\n",
       "  ('20', 0.028660667622704153),\n",
       "  ('le', 0.02649115868831655),\n",
       "  ('19', 0.025090465583964557),\n",
       "  ('cahier', 0.024832088591666017),\n",
       "  ('janvier', 0.020770277374636742),\n",
       "  ('janvier 2019', 0.01960901185878987),\n",
       "  ('02 19', 0.01951736863413369),\n",
       "  ('02 2019', 0.019306209882731216),\n",
       "  ('2019 le maire', 0.017333174945716356),\n",
       "  ('2019 maire', 0.01645831162490704),\n",
       "  ('février 2019 maire', 0.01570309143376486),\n",
       "  ('2019 le', 0.015384888723597862),\n",
       "  ('clos', 0.01500647657650348),\n",
       "  ('mercredi 20 février', 0.013474778669093036),\n",
       "  ('01', 0.013410854927541023),\n",
       "  ('mercredi 20', 0.013243807804036816),\n",
       "  ('mercredi', 0.01305744914647371),\n",
       "  ('18 février 2019', 0.012665974285303515),\n",
       "  ('18 février', 0.012476250347877813),\n",
       "  ('présent registre', 0.011453386580481268),\n",
       "  ('pages', 0.011172827292526976),\n",
       "  ('2019 12h00', 0.011022890727038808),\n",
       "  ('clôturé 18', 0.011022890727038808),\n",
       "  ('cloturé', 0.010908590517020996),\n",
       "  ('registre clos', 0.010710800484255567),\n",
       "  ('18', 0.010364604783936903),\n",
       "  ('01 2019', 0.010197030043431707),\n",
       "  ('21 février 2019', 0.010106917022646825),\n",
       "  ('21', 0.010057726608079659),\n",
       "  ('clos 20 février', 0.010053254691778158)],\n",
       " 25: [('services publics', 0.06132729449787652),\n",
       "  ('publics', 0.05445440644277247),\n",
       "  ('services', 0.05305787970658719),\n",
       "  ('raison démarches administratives', 0.04305679755346154),\n",
       "  ('vous renoncé droits', 0.04305679755346154),\n",
       "  ('vous renoncé', 0.04300249978292701),\n",
       "  ('avez vous renoncé', 0.04300249978292701),\n",
       "  ('allocations raison démarches', 0.04294872686771084),\n",
       "  ('raison démarches', 0.042895468762501),\n",
       "  ('droits allocations raison', 0.042842715707642816),\n",
       "  ('renoncé droits allocations', 0.042842715707642816),\n",
       "  ('allocations raison', 0.042842715707642816),\n",
       "  ('renoncé droits', 0.042738687074772685),\n",
       "  ('démarches administratives trop', 0.042738687074772685),\n",
       "  ('pensez évolution services', 0.04266150128420371),\n",
       "  ('pensez évolution', 0.042602667913163965),\n",
       "  ('évolution services publics', 0.04254446403811987),\n",
       "  ('droits allocations', 0.04248682117533347),\n",
       "  ('évolution services', 0.04237349823385752),\n",
       "  ('publics cours dernières', 0.042317683211886066),\n",
       "  ('services publics cours', 0.042317683211886066),\n",
       "  ('publics cours', 0.0422624350869856),\n",
       "  ('administratives trop complexes', 0.04204688867663974),\n",
       "  ('manière positive', 0.04204688867663974),\n",
       "  ('administratives trop', 0.04192515982814832),\n",
       "  ('services publics évoluer', 0.04152126551020695),\n",
       "  ('publics évoluer', 0.041465576177322334),\n",
       "  ('années évolué manière', 0.04141046418308803),\n",
       "  ('années évolué', 0.041355917684343206),\n",
       "  ('dernières années évolué', 0.041355917684343206),\n",
       "  ('cours dernières années', 0.04130707017182189),\n",
       "  ('évolué manière positive', 0.04130192519864502),\n",
       "  ('évolué manière', 0.0412484755897668),\n",
       "  ('renoncé', 0.04109924607557678),\n",
       "  ('cours dernières', 0.04057473236203784),\n",
       "  ('évolué', 0.03814522131343147),\n",
       "  ('trop complexes', 0.03793684564128748),\n",
       "  ('positive', 0.03569672000693867),\n",
       "  ('complexes', 0.034887903854072),\n",
       "  ('dernières années', 0.0333580774942237)],\n",
       " 26: [('fin pages', 0.8027268588726636),\n",
       "  ('fin pages écrites', 0.7943200431417526),\n",
       "  ('pages écrites', 0.7912400276157991),\n",
       "  ('écrites fin', 0.7580259200028563),\n",
       "  ('écrites', 0.7505617369628944),\n",
       "  ('écrites fin pages', 0.7495005516392783),\n",
       "  ('pages écrites fin', 0.7495005516392783),\n",
       "  ('pages', 0.6228530826897091),\n",
       "  ('fin', 0.3446205352578463),\n",
       "  ('pages écrites page', 0.041091007421477796),\n",
       "  ('page fin pages', 0.041091007421477796),\n",
       "  ('écrites page', 0.04004108853364173),\n",
       "  ('page fin', 0.04004108853364173),\n",
       "  ('page', 0.031490582364834),\n",
       "  ('pages fin pages', 0.02838052760192194),\n",
       "  ('écrites page fin', 0.02838052760192194),\n",
       "  ('pages fin', 0.027394004947651866),\n",
       "  ('70g', 0.026694059022427823),\n",
       "  ('écrites pages', 0.015033503318404175),\n",
       "  ('écrites fin page', 0.015033503318404175),\n",
       "  ('fin pages fin', 0.015033503318404175),\n",
       "  ('29 cm 100', 0.015033503318404175),\n",
       "  ('page 23 23', 0.015033503318404175),\n",
       "  ('50 sheets', 0.015033503318404175),\n",
       "  ('écrites pages fin', 0.015033503318404175),\n",
       "  ('pages 70g 50', 0.015033503318404175),\n",
       "  ('page écrites', 0.015033503318404175),\n",
       "  ('page écrites fin', 0.015033503318404175),\n",
       "  ('pages 70g', 0.015033503318404175),\n",
       "  ('écrites 21 29', 0.015033503318404175),\n",
       "  ('pages écrites 21', 0.015033503318404175),\n",
       "  ('pages écrites numéro', 0.015033503318404175),\n",
       "  ('pages écrites pages', 0.015033503318404175),\n",
       "  ('sheets 70g', 0.015033503318404175),\n",
       "  ('sheets 70g squared', 0.015033503318404175),\n",
       "  ('squared', 0.015033503318404175),\n",
       "  ('squared fin', 0.015033503318404175),\n",
       "  ('squared fin pages', 0.015033503318404175),\n",
       "  ('écrites 21', 0.015033503318404175),\n",
       "  ('écrites numéro', 0.015033503318404175)],\n",
       " 27: [('chauffage', 0.03830517627932846),\n",
       "  ('vous', 0.03688095489390123),\n",
       "  ('pensez vous', 0.03467400989695887),\n",
       "  ('pensez', 0.032700688350590215),\n",
       "  ('oui', 0.032538664449305844),\n",
       "  ('changer', 0.030062450220919242),\n",
       "  ('inciter changer', 0.029540291429679327),\n",
       "  ('changer comportements', 0.028398286458687194),\n",
       "  ('inciter changer comportements', 0.028350462988184954),\n",
       "  ('mode chauffage', 0.027570801319182166),\n",
       "  ('comportements', 0.025982637294420574),\n",
       "  ('solutions', 0.025787210379016094),\n",
       "  ('environnement', 0.025609587964037884),\n",
       "  ('inciter', 0.023393579025786707),\n",
       "  ('alternatives', 0.022958281475424804),\n",
       "  ('protéger environnement', 0.022371867066255907),\n",
       "  ('mode', 0.02074036109256237),\n",
       "  ('solutions alternatives', 0.018063885791149887),\n",
       "  ('protéger', 0.017617873224888857),\n",
       "  ('si oui', 0.017553971732893858),\n",
       "  ('chauffage actuel', 0.01720352736545022),\n",
       "  ('chauffage modifier', 0.016940469768319536),\n",
       "  ('conduire renoncer prendre', 0.016889898798927494),\n",
       "  ('conduire renoncer', 0.016889898798927494),\n",
       "  ('chauffage actuel pensez', 0.016856801178211187),\n",
       "  ('actuel pensez', 0.016840431922037737),\n",
       "  ('mode chauffage actuel', 0.016840431922037737),\n",
       "  ('renoncer prendre', 0.016824180079008048),\n",
       "  ('rapport mode chauffage', 0.016674780266492155),\n",
       "  ('renoncer prendre véhicule', 0.016674780266492155),\n",
       "  ('rapport mode', 0.016642309193543176),\n",
       "  ('régler chauffage modifier', 0.016575414298114),\n",
       "  ('chauffage modifier manière', 0.016575414298114),\n",
       "  ('régler chauffage', 0.016558578822300923),\n",
       "  ('modifier manière conduire', 0.016541870479653192),\n",
       "  ('manière conduire renoncer', 0.016525287365526567),\n",
       "  ('manière conduire', 0.016508827617760364),\n",
       "  ('actuel pensez vous', 0.016492489415423316),\n",
       "  ('modifier manière', 0.01647627097760534),\n",
       "  ('environnement permettre faire', 0.016471677057786963)],\n",
       " 28: [('annuités france juste', 0.013542618325007803),\n",
       "  ('000 familles françaises', 0.013542618325007803),\n",
       "  ('358 000 familles', 0.013542618325007803),\n",
       "  ('fortune 358', 0.013542618325007803),\n",
       "  ('digne retraite 60', 0.013542618325007803),\n",
       "  ('juste fraternelle solidaire', 0.013542618325007803),\n",
       "  ('1028 milliards euros', 0.013542618325007803),\n",
       "  ('richesse travail vie', 0.013542618325007803),\n",
       "  ('fortune 358 000', 0.013542618325007803),\n",
       "  ('france juste fraternelle', 0.013542618325007803),\n",
       "  ('annuités france', 0.013542618325007803),\n",
       "  ('37 annuités france', 0.013542618325007803),\n",
       "  ('travail vie digne', 0.013542618325007803),\n",
       "  ('impôt fortune 358', 0.013542618325007803),\n",
       "  ('1028 milliards', 0.013542618325007803),\n",
       "  ('euros augmenter véritablement', 0.013542618325007803),\n",
       "  ('vie digne retraite', 0.013521980253512127),\n",
       "  ('milliards euros augmenter', 0.013521980253512127),\n",
       "  ('juste fraternelle', 0.013521980253512127),\n",
       "  ('demande lutter efficacement', 0.013521980253512127),\n",
       "  ('augmenter véritablement', 0.013521980253512127),\n",
       "  ('digne retraite', 0.013481440026312574),\n",
       "  ('fraternelle solidaire', 0.013481440026312574),\n",
       "  ('1028', 0.013481440026312574),\n",
       "  ('richesse travail', 0.013461526371120719),\n",
       "  ('358 000', 0.013461526371120719),\n",
       "  ('37 annuités', 0.013422384712577297),\n",
       "  ('demande lutter', 0.013403146359089079),\n",
       "  ('habitant angres', 0.013398101065307826),\n",
       "  ('euros augmenter', 0.013384123045486687),\n",
       "  ('000 familles', 0.013384123045486687),\n",
       "  ('angres', 0.013377464442995512),\n",
       "  ('ans 37 annuités', 0.013357078055298564),\n",
       "  ('grandes entreprises génèrent', 0.013357078055298564),\n",
       "  ('358', 0.013346702684122167),\n",
       "  ('60 ans 37', 0.013317032221113639),\n",
       "  ('fiscale rétablir impôt', 0.013297361415375344),\n",
       "  ('ans 37', 0.013297361415375344),\n",
       "  ('familles françaises', 0.013256600578725465),\n",
       "  ('véritablement smic', 0.0132533275451677)],\n",
       " 29: [('ric', 0.13554040230614106),\n",
       "  ('place ric', 0.06321897435837026),\n",
       "  ('mise place ric', 0.05862760432851889),\n",
       "  ('mise place', 0.04536863135896645),\n",
       "  ('mise', 0.040984867065469124),\n",
       "  ('place', 0.03947372761285357),\n",
       "  ('ric matière', 0.03206702078974937),\n",
       "  ('ric matières', 0.023857007070769622),\n",
       "  ('matières', 0.023612690587708905),\n",
       "  ('matière', 0.019425507720376156),\n",
       "  ('place ric matière', 0.019077643181376946),\n",
       "  ('ric mise', 0.017372684469502984),\n",
       "  ('revendications ric', 0.016765950663004375),\n",
       "  ('demande', 0.016236904877392006),\n",
       "  ('2019 ric', 0.015158096772505604),\n",
       "  ('ric mise place', 0.014533737900251142),\n",
       "  ('une revendications ric', 0.014133666033130867),\n",
       "  ('01 2019 ric', 0.013240744948421299),\n",
       "  ('ric matières écrit', 0.013089017104860575),\n",
       "  ('place ric mise', 0.013089017104860575),\n",
       "  ('je', 0.012704121320876869),\n",
       "  ('une revendications', 0.012615319723938869),\n",
       "  ('matières écrit', 0.012519856052243317),\n",
       "  ('macron', 0.012141680748095296),\n",
       "  ('01 2019', 0.012108357413891371),\n",
       "  ('isf', 0.011545702030199237),\n",
       "  ('écrit', 0.011466085319760882),\n",
       "  ('12', 0.011460917996619581),\n",
       "  ('01', 0.011374700280157295),\n",
       "  ('démission', 0.011209564170361638),\n",
       "  ('sms', 0.010880163947757666),\n",
       "  ('écrit mise place', 0.010878199066169),\n",
       "  ('matières écrit mise', 0.010878199066169),\n",
       "  ('écrit mise', 0.010878199066169),\n",
       "  ('2019', 0.010575710554276908),\n",
       "  ('démission macron', 0.00972093977087778),\n",
       "  ('minimum', 0.009183250154591129),\n",
       "  ('12 2018', 0.009035857278832205),\n",
       "  ('ric pouvoir', 0.008375679083648344),\n",
       "  ('demande mise place', 0.008328547130812842)],\n",
       " 30: [('vous', 0.0509514189528341),\n",
       "  ('chose', 0.04918510007752191),\n",
       "  ('bonne chose', 0.04026101784501754),\n",
       "  ('publics', 0.039212468956178),\n",
       "  ('bonne', 0.038529356375919116),\n",
       "  ('démarches', 0.037338820920345885),\n",
       "  ('services', 0.037174633123878455),\n",
       "  ('services publics', 0.03678541258444135),\n",
       "  ('agent', 0.03345600244714136),\n",
       "  ('mauvaise chose', 0.029777358938675277),\n",
       "  ('nouvelles formes', 0.028907156676704644),\n",
       "  ('public', 0.02859108633749158),\n",
       "  ('avez vous', 0.027218757107929172),\n",
       "  ('chose les', 0.026298771307691864),\n",
       "  ('avez', 0.025599335380456237),\n",
       "  ('mauvaise', 0.025083573979018503),\n",
       "  ('chose le', 0.024866389639220287),\n",
       "  ('charge agent', 0.024622809655890487),\n",
       "  ('oui', 0.024074337485650903),\n",
       "  ('prise charge agent', 0.02397205581108972),\n",
       "  ('formes', 0.023772490784861315),\n",
       "  ('prise', 0.022014047503216155),\n",
       "  ('si', 0.021393181473889706),\n",
       "  ('nouvelles', 0.019076741894932393),\n",
       "  ('service public', 0.01887291823795196),\n",
       "  ('mauvaise chose le', 0.01841754486023661),\n",
       "  ('bonne chose les', 0.018393071462024724),\n",
       "  ('prise charge', 0.018362165148312275),\n",
       "  ('une', 0.017164291523415528),\n",
       "  ('administration concernée', 0.016988053260654716),\n",
       "  ('bonne une', 0.016876400167384262),\n",
       "  ('avez vous utilisé', 0.016846795340128968),\n",
       "  ('vous utilisé', 0.01682404048437146),\n",
       "  ('bonne une mauvaise', 0.01674673621400375),\n",
       "  ('rencontrez difficultés', 0.016720077795965523),\n",
       "  ('démarches administratives', 0.016715084372975295),\n",
       "  ('une bonne une', 0.016687456826855105),\n",
       "  ('formes services', 0.016671054858354562),\n",
       "  ('réponse', 0.016573666763971234),\n",
       "  ('agit une bonne', 0.016555096503583465)],\n",
       " 31: [('écologique', 0.04437050365688854),\n",
       "  ('transition écologique', 0.04199929783799434),\n",
       "  ('transition', 0.040029622822203556),\n",
       "  ('réponse', 0.027689621767072674),\n",
       "  ('réponse possible', 0.02724737639878863),\n",
       "  ('possible', 0.02376673756310183),\n",
       "  ('financement transition', 0.022705507275774025),\n",
       "  ('financement transition écologique', 0.0224541751187017),\n",
       "  ('agricoles industrielles compétitives', 0.02158801334667286),\n",
       "  ('industrielles compétitives', 0.02156608662616901),\n",
       "  ('activités agricoles industrielles', 0.02154432548538588),\n",
       "  ('concerné financement', 0.02154432548538588),\n",
       "  ('climat activités agricoles', 0.02154432548538588),\n",
       "  ('concerné financement transition', 0.02154432548538588),\n",
       "  ('climat activités', 0.021522727443692543),\n",
       "  ('activités agricoles', 0.02150129007578916),\n",
       "  ('agricoles industrielles', 0.021437918557900983),\n",
       "  ('environnement', 0.021322476631987074),\n",
       "  ('compétitives rapport concurrents', 0.02127774465861975),\n",
       "  ('industrielles compétitives rapport', 0.02127774465861975),\n",
       "  ('priorité concerné financement', 0.02125584411595618),\n",
       "  ('compétitives rapport', 0.02125584411595618),\n",
       "  ('priorité concerné', 0.02123411148853068),\n",
       "  ('faire protéger', 0.021148809910612285),\n",
       "  ('transition écologique financée', 0.021025486006739327),\n",
       "  ('écologique financée', 0.021005443803035685),\n",
       "  ('protéger biodiversité climat', 0.020837954157996177),\n",
       "  ('biodiversité climat', 0.020817064248817376),\n",
       "  ('points transition', 0.02067686444140701),\n",
       "  ('il faire protéger', 0.020632997548444963),\n",
       "  ('compétitives', 0.020629737607798626),\n",
       "  ('biodiversité climat activités', 0.020568486503332428),\n",
       "  ('concurrents étrangers européens', 0.020568486503332428),\n",
       "  ('protéger biodiversité', 0.020558850078300814),\n",
       "  ('étrangers européens', 0.020526307772246326),\n",
       "  ('vous transition écologique', 0.020505459415045946),\n",
       "  ('vous transition', 0.020423617025971584),\n",
       "  ('écologique souhaiteriez', 0.020408715276611925),\n",
       "  ('matière environnement niveau', 0.02029872522667045),\n",
       "  ('faire protéger biodiversité', 0.020277256211402805)],\n",
       " 32: [('alternatives', 0.0420709122246764),\n",
       "  ('solutions', 0.03171448276883189),\n",
       "  ('taxes diesel essence', 0.030321898607918032),\n",
       "  ('taxes diesel', 0.0301547855344538),\n",
       "  ('diesel essence', 0.02926404525591528),\n",
       "  ('déplacements', 0.028534024538171956),\n",
       "  ('mobilité alternatives', 0.027454223172878194),\n",
       "  ('solutions mobilité alternatives', 0.027061164333195057),\n",
       "  ('solutions mobilité', 0.026641500778306418),\n",
       "  ('déplacements quotidiens', 0.023826076860111713),\n",
       "  ('diesel', 0.02330960802558683),\n",
       "  ('essence', 0.022656052480358173),\n",
       "  ('quotidiens', 0.02262205609136542),\n",
       "  ('solutions alternatives', 0.022595686883471414),\n",
       "  ('auto partage', 0.02196600049613843),\n",
       "  ('mobilité', 0.021571828531096945),\n",
       "  ('transport demande', 0.021188591285419354),\n",
       "  ('vélo', 0.021054049504390476),\n",
       "  ('covoiturage auto', 0.021028293544169463),\n",
       "  ('transport demande vélo', 0.020838595269131514),\n",
       "  ('covoiturage auto partage', 0.020821154819784648),\n",
       "  ('demande vélo', 0.020735509406907243),\n",
       "  ('commun covoiturage auto', 0.020512141475575695),\n",
       "  ('vous', 0.020177290157043257),\n",
       "  ('commun covoiturage', 0.020035287348241376),\n",
       "  ('partage transport', 0.019731839742108),\n",
       "  ('auto partage transport', 0.019731839742108),\n",
       "  ('transports commun covoiturage', 0.01971509613392446),\n",
       "  ('partage transport demande', 0.01952205485892146),\n",
       "  ('covoiturage', 0.018943565861178745),\n",
       "  ('transports commun', 0.01879949483735849),\n",
       "  ('oui', 0.018741244859494976),\n",
       "  ('commun', 0.018649213301425646),\n",
       "  ('auto', 0.017646210597285623),\n",
       "  ('utiliser', 0.01749050018961968),\n",
       "  ('recourir solutions', 0.017447106835926228),\n",
       "  ('mobilité alternatives voiture', 0.017298023292715216),\n",
       "  ('quotidiens possibilité recourir', 0.017298023292715216),\n",
       "  ('recourir solutions mobilité', 0.017265359774344503),\n",
       "  ('possibilité recourir solutions', 0.017265359774344503)],\n",
       " 33: [('peine', 0.06673147843839161),\n",
       "  ('réductions peine', 0.052980700356265543),\n",
       "  ('réductions', 0.049445330006737315),\n",
       "  ('détenus', 0.03771074321311189),\n",
       "  ('exécution peines', 0.028964791206209158),\n",
       "  ('ces réductions', 0.02755550905215321),\n",
       "  ('ces réductions peine', 0.02755550905215321),\n",
       "  ('exécution', 0.027222272926457836),\n",
       "  ('conduite', 0.025559814204192066),\n",
       "  ('peines', 0.024258914594600382),\n",
       "  ('ces', 0.021222049751705833),\n",
       "  ('régime', 0.021025787195988833),\n",
       "  ('mois', 0.020920074132647043),\n",
       "  ('qu', 0.016721343031019513),\n",
       "  ('suppression réductions', 0.016626595879471594),\n",
       "  ('bonne conduite condamné', 0.016603175812240505),\n",
       "  ('utilité essentiellement rôle', 0.016556311649813193),\n",
       "  ('peine réductions', 0.016556311649813193),\n",
       "  ('essentiellement rôle', 0.016556311649813193),\n",
       "  ('essentiellement rôle neutralisation', 0.016556311649813193),\n",
       "  ('peine réductions peine', 0.016556311649813193),\n",
       "  ('utilité essentiellement', 0.016540905622452088),\n",
       "  ('peine élèvent', 0.016540905622452088),\n",
       "  ('trouve utilité essentiellement', 0.016540905622452088),\n",
       "  ('conduite condamné', 0.016525604822217276),\n",
       "  ('traitement indemniser', 0.016525604822217276),\n",
       "  ('peine prison trouve', 0.016510407822283198),\n",
       "  ('détenus bien conduire', 0.016510407822283198),\n",
       "  ('rôle neutralisation', 0.016510407822283198),\n",
       "  ('accordées droit', 0.016510407822283198),\n",
       "  ('trouve utilité', 0.016510407822283198),\n",
       "  ('prison trouve utilité', 0.016510407822283198),\n",
       "  ('prison trouve', 0.01649531322464949),\n",
       "  ('détenus bien', 0.01649531322464949),\n",
       "  ('bien conduire', 0.016480319659369736),\n",
       "  ('terrorisme présentent nombre', 0.016474985317310592),\n",
       "  ('présentent nombre entre', 0.016442903308341233),\n",
       "  ('présentent nombre', 0.0164270350999273),\n",
       "  ('conduire traitement indemniser', 0.01641127990111925),\n",
       "  ('bien conduire traitement', 0.0163956361145875)],\n",
       " 34: [('web', 0.025614809300874414),\n",
       "  ('cahiers doléances', 0.024800875626865136),\n",
       "  ('cahiers', 0.023318593468189697),\n",
       "  ('publics république française', 0.020414671664206033),\n",
       "  ('publics république', 0.02037043903092952),\n",
       "  ('pouvoirs publics république', 0.020154274138219658),\n",
       "  ('adressés pouvoirs', 0.01910440906602553),\n",
       "  ('adressés pouvoirs publics', 0.01910440906602553),\n",
       "  ('doléances adressés pouvoirs', 0.01884104844648009),\n",
       "  ('doléances adressés', 0.018791222032156257),\n",
       "  ('cahiers doléances adressés', 0.018791222032156257),\n",
       "  ('adressés', 0.018125142698636083),\n",
       "  ('lien web', 0.01797921867035643),\n",
       "  ('link lien web', 0.01797921867035643),\n",
       "  ('link lien', 0.01797921867035643),\n",
       "  ('web link lien', 0.01797921867035643),\n",
       "  ('web link', 0.01797921867035643),\n",
       "  ('link', 0.017907894827689997),\n",
       "  ('dernière modification', 0.01764627017646094),\n",
       "  ('page cahiers doléances', 0.017613065515418563),\n",
       "  ('page cahiers', 0.017613065515418563),\n",
       "  ('doléances q1 habitant', 0.017523049570568962),\n",
       "  ('cahiers doléances q1', 0.017523049570568962),\n",
       "  ('doléances q1', 0.017493853747983925),\n",
       "  ('q1 habitant ville', 0.017493853747983925),\n",
       "  ('q2 date', 0.017493853747983925),\n",
       "  ('q1 habitant', 0.017493853747983925),\n",
       "  ('doléances', 0.017472030386169637),\n",
       "  ('adresse ip', 0.017442794074514986),\n",
       "  ('q3 demande', 0.01740854722537367),\n",
       "  ('q2', 0.01740854722537367),\n",
       "  ('q1', 0.01740854722537367),\n",
       "  ('q3', 0.017353480635836402),\n",
       "  ('q4 propose', 0.017221623198713218),\n",
       "  ('q4', 0.017171040716526392),\n",
       "  ('ip', 0.0169027042505889),\n",
       "  ('collecteur', 0.01682866212300128),\n",
       "  ('république française', 0.015882372773077417),\n",
       "  ('temps passé', 0.015676212828802084),\n",
       "  ('terminé collecteur', 0.014972883663147711)],\n",
       " 35: [('vaccins', 0.03055472841060812),\n",
       "  ('volailles', 0.029062512035687296),\n",
       "  ('vaccins volailles', 0.016476650310737317),\n",
       "  ('élevages', 0.01253346527276085),\n",
       "  ('éleveurs', 0.012366502562068447),\n",
       "  ('conditionnements', 0.011443844506788163),\n",
       "  ('milliers', 0.011153646303701298),\n",
       "  ('petits', 0.010808763636439506),\n",
       "  ('pétition', 0.010155580963680058),\n",
       "  ('pétition vaccins', 0.009546361539136242),\n",
       "  ('pétition vaccins volailles', 0.008173073339792525),\n",
       "  ('avicoles', 0.008015898852488821),\n",
       "  ('petits élevages', 0.008015898852488821),\n",
       "  ('vétérinaires', 0.0075559661861603795),\n",
       "  ('collectif ruralité', 0.006875514050177686),\n",
       "  ('qu', 0.00679205416954661),\n",
       "  ('collectif', 0.006459245105155612),\n",
       "  ('amateurs', 0.00634657376545517),\n",
       "  ('été', 0.006215173184264513),\n",
       "  ('collectif ruralité vaccins', 0.005886347557965707),\n",
       "  ('ruralité vaccins', 0.005886347557965707),\n",
       "  ('vaccination', 0.0058542661531833795),\n",
       "  ('ruralité vaccins volailles', 0.0057384996635985765),\n",
       "  ('ruralité', 0.005729689184978361),\n",
       "  ('situation', 0.0053816236034888955),\n",
       "  ('aviculture', 0.005357580758255924),\n",
       "  ('milliers éleveurs', 0.005173548390153723),\n",
       "  ('petits conditionnements', 0.005141673592773311),\n",
       "  ('national 2019', 0.005044953613643569),\n",
       "  ('sélectionneurs', 0.005039270186406108),\n",
       "  ('races', 0.004902645769891089),\n",
       "  ('débat national 2019', 0.004859199128066789),\n",
       "  ('pharmaceutiques', 0.004727019679642597),\n",
       "  ('multinationales pharmaceutiques', 0.004687883163473933),\n",
       "  ('sélection', 0.004641018752985071),\n",
       "  ('000', 0.004479191590886518),\n",
       "  ('partout', 0.004466214708265864),\n",
       "  ('est', 0.004370170223858304),\n",
       "  ('santé', 0.004348758947734525),\n",
       "  ('face', 0.004332001003958072)],\n",
       " 36: [('touchée', 0.0468179724024583),\n",
       "  ('touchée changement', 0.045641619447760004),\n",
       "  ('touchée changement climatique', 0.04537850465973645),\n",
       "  ('changement climatique', 0.04181663930841094),\n",
       "  ('vie quotidienne', 0.0377138325857124),\n",
       "  ('quotidienne', 0.03750628568624902),\n",
       "  ('climatique', 0.03654927753834033),\n",
       "  ('problème', 0.034104626386764945),\n",
       "  ('changement', 0.03346964444750532),\n",
       "  ('important domaine', 0.03002827163904907),\n",
       "  ('important domaine environnement', 0.02965049716761059),\n",
       "  ('problème concret', 0.029566298229217546),\n",
       "  ('hui problème', 0.029271911123062534),\n",
       "  ('aujourd hui problème', 0.029271911123062534),\n",
       "  ('concret important domaine', 0.029271875143387808),\n",
       "  ('hui problème concret', 0.029243449891299133),\n",
       "  ('domaine environnement', 0.02922064029332235),\n",
       "  ('problème concret important', 0.02921522852741249),\n",
       "  ('concret important', 0.02921522852741249),\n",
       "  ('aujourd hui', 0.02896792540393988),\n",
       "  ('aujourd', 0.02891345964541523),\n",
       "  ('hui', 0.028912395450904304),\n",
       "  ('quotidienne aujourd hui', 0.028370332416051903),\n",
       "  ('hui touchée', 0.028342609265819944),\n",
       "  ('aujourd hui touchée', 0.028342609265819944),\n",
       "  ('quotidienne aujourd', 0.028342609265819944),\n",
       "  ('apporter réponses problème', 0.028315086402686467),\n",
       "  ('réponses problème', 0.028287760955113685),\n",
       "  ('faire apporter', 0.02826063011287884),\n",
       "  ('vie quotidienne aujourd', 0.02793271356199866),\n",
       "  ('faire apporter réponses', 0.02785090465838013),\n",
       "  ('apporter réponses', 0.027713861854813837),\n",
       "  ('vous vie quotidienne', 0.02752179118845711),\n",
       "  ('il faire apporter', 0.02741334338825208),\n",
       "  ('vous vie', 0.027360293382814878),\n",
       "  ('hui touchée changement', 0.027028372133119902),\n",
       "  ('diriez vous vie', 0.026615531005461348),\n",
       "  ('oui', 0.02648837575842773),\n",
       "  ('domaine environnement réponse', 0.026078404081156838),\n",
       "  ('environnement réponse', 0.025932769435963652)],\n",
       " 37: [('associations organisations', 0.02791553451586894),\n",
       "  ('organisations', 0.026324682046338425),\n",
       "  ('rôle', 0.022239776025296126),\n",
       "  ('associations', 0.021094387294613777),\n",
       "  ('représenter société', 0.020619737236383075),\n",
       "  ('élus', 0.0205567485191653),\n",
       "  ('donner rôle', 0.020127445637532142),\n",
       "  ('il donner rôle', 0.020001260748236684),\n",
       "  ('syndicales professionnelles', 0.019886097270145887),\n",
       "  ('faire représenter société', 0.019738329136990994),\n",
       "  ('donner rôle important', 0.019622008015267766),\n",
       "  ('faire représenter', 0.019510726439266365),\n",
       "  ('élus politiques faut', 0.019451011200460847),\n",
       "  ('lien citoyens élus', 0.019223227361141026),\n",
       "  ('lien citoyens', 0.01920317741965966),\n",
       "  ('confiance faire représenter', 0.01913918640234812),\n",
       "  ('important associations', 0.019023669633666494),\n",
       "  ('faire renouer', 0.01900119771082485),\n",
       "  ('il faire renouer', 0.01900119771082485),\n",
       "  ('citoyens élus', 0.018943272027710387),\n",
       "  ('institutionnelle démocratique', 0.018922442168721954),\n",
       "  ('confiance faire', 0.01891329104482978),\n",
       "  ('élus politiques', 0.018902622089751093),\n",
       "  ('faites vous confiance', 0.01878028667630702),\n",
       "  ('renouer lien', 0.018766570573103852),\n",
       "  ('citoyens élus représentent', 0.01873468528256772),\n",
       "  ('rôle important associations', 0.018712200443304187),\n",
       "  ('faire renouer lien', 0.01868992104360217),\n",
       "  ('vous confiance', 0.01868992104360217),\n",
       "  ('rôle important', 0.01866475055338136),\n",
       "  ('renouer lien citoyens', 0.018624278794152453),\n",
       "  ('syndicales', 0.018582856753792232),\n",
       "  ('associations organisations syndicales', 0.018581478921236273),\n",
       "  ('vie institutionnelle', 0.01856069936766863),\n",
       "  ('important associations organisations', 0.01846763600226573),\n",
       "  ('organisations syndicales professionnelles', 0.018356172453537847),\n",
       "  ('faudrait il', 0.018349179380979005),\n",
       "  ('il donner', 0.018341898312544982),\n",
       "  ('faudrait il faire', 0.018321748931201726),\n",
       "  ('vie institutionnelle démocratique', 0.018318297799390978)],\n",
       " 38: [('débat', 0.014653403433529735),\n",
       "  ('national', 0.013949812893190895),\n",
       "  ('grand', 0.0130980870736616),\n",
       "  ('débat national', 0.012939460132860296),\n",
       "  ('réunion', 0.012100065039132267),\n",
       "  ('grand débat', 0.011718878860088043),\n",
       "  ('grand débat national', 0.010786748105351199),\n",
       "  ('départemental réunion', 0.00907576472916894),\n",
       "  ('conseil départemental réunion', 0.00907576472916894),\n",
       "  ('départemental', 0.00893753157149074),\n",
       "  ('formulaire', 0.008890410534788812),\n",
       "  ('site', 0.008175002464578507),\n",
       "  ('conseil départemental', 0.00698808293793609),\n",
       "  ('thèmes', 0.006641445029246009),\n",
       "  ('conseil', 0.006372489907759878),\n",
       "  ('questions', 0.00619865510111518),\n",
       "  ('publiques', 0.005516882346310431),\n",
       "  ('adresse', 0.005364804587827112),\n",
       "  ('organisation', 0.004910024135320236),\n",
       "  ('rue source 97488', 0.004821366858878691),\n",
       "  ('source 97488', 0.004821366858878691),\n",
       "  ('connaissance synthèses déclinaison', 0.004821366858878691),\n",
       "  ('synthèses déclinaison', 0.004821366858878691),\n",
       "  ('déclinaison questions', 0.004821366858878691),\n",
       "  ('déclinaison questions détaillées', 0.004821366858878691),\n",
       "  ('connaissance synthèses', 0.004821366858878691),\n",
       "  ('détaillées thèmes nationaux', 0.004821366858878691),\n",
       "  ('synthèses déclinaison questions', 0.004821366858878691),\n",
       "  ('denis cedex', 0.004821366858878691),\n",
       "  ('départemental réunion cabinet', 0.004821366858878691),\n",
       "  ('réunion cabinet', 0.004821366858878691),\n",
       "  ('97488 saint denis', 0.004821366858878691),\n",
       "  ('questions détaillées thèmes', 0.004821366858878691),\n",
       "  ('source 97488 saint', 0.004821366858878691),\n",
       "  ('questions détaillées', 0.004821366858878691),\n",
       "  ('97488 saint', 0.004821366858878691),\n",
       "  ('97488', 0.004821366858878691),\n",
       "  ('prendre connaissance synthèses', 0.004821366858878691),\n",
       "  ('saint denis cedex', 0.004821366858878691),\n",
       "  ('citoyenneté organisation etat', 0.004808308938701552)],\n",
       " 39: [('justice', 0.05219725015430875),\n",
       "  ('justice sociale', 0.0222092644718655),\n",
       "  ('sociale', 0.016984564339309026),\n",
       "  ('qu', 0.007227807685349349),\n",
       "  ('justice familiale', 0.006155852808745624),\n",
       "  ('pouvoir', 0.006119987300370232),\n",
       "  ('je', 0.00611876977278058),\n",
       "  ('trop', 0.006102138421404287),\n",
       "  ('une', 0.005040521293556691),\n",
       "  ('il', 0.00494879422105213),\n",
       "  ('justice trop', 0.004923551019155642),\n",
       "  ('beaucoup', 0.004843238405853447),\n",
       "  ('justice sociale justice', 0.004669605203529526),\n",
       "  ('sociale justice', 0.004526665308937753),\n",
       "  ('faire', 0.004483763346999398),\n",
       "  ('stéphane', 0.004308015366792276),\n",
       "  ('qu il', 0.004279215364266703),\n",
       "  ('rue', 0.004242278434098908),\n",
       "  ('achat', 0.004216723387728729),\n",
       "  ('sentiment impunité', 0.004174629837007678),\n",
       "  ('france', 0.004105194993586882),\n",
       "  ('jamais', 0.004072301054091744),\n",
       "  ('impôts', 0.004040258901545222),\n",
       "  ('vivre', 0.003995294616426078),\n",
       "  ('magistrats', 0.00393450005630719),\n",
       "  ('pouvoir achat', 0.003918350379642409),\n",
       "  ('normal', 0.0038864344239041056),\n",
       "  ('sentiment', 0.003871270026070666),\n",
       "  ('fiscale', 0.0038552882805184883),\n",
       "  ('pauvres', 0.003830404672373244),\n",
       "  ('france justice', 0.0037935227670432576),\n",
       "  ('qu une', 0.0037743779753888628),\n",
       "  ('famille', 0.0036885984772762246),\n",
       "  ('enfants', 0.0036722916096230875),\n",
       "  ('pays', 0.0036396747738662357),\n",
       "  ('injustice', 0.00362021755128501),\n",
       "  ('01', 0.0035399357186314258),\n",
       "  ('tribunaux', 0.003538103225953669),\n",
       "  ('familiale', 0.0034905452578139814),\n",
       "  ('demande justice', 0.0034833938791488106)],\n",
       " 40: [('dépense', 0.05296427577536555),\n",
       "  ('fiscalité', 0.042874274627945685),\n",
       "  ('information citoyens utilisation', 0.04122131882040987),\n",
       "  ('citoyens utilisation impôts', 0.04122131882040987),\n",
       "  ('améliorer information citoyens', 0.04096127905455144),\n",
       "  ('améliorer information', 0.04067277756039906),\n",
       "  ('faites améliorer information', 0.04051638833523903),\n",
       "  ('faites améliorer', 0.04051638833523903),\n",
       "  ('france dépense', 0.04028541995413375),\n",
       "  ('france dépense qu', 0.04001004741373672),\n",
       "  ('pourraient faites améliorer', 0.039765517516092704),\n",
       "  ('information citoyens', 0.0397515263723081),\n",
       "  ('choses pourraient faites', 0.03967873995584959),\n",
       "  ('choses pourraient', 0.0394678744922093),\n",
       "  ('dépense qu', 0.03939075007795671),\n",
       "  ('public france dépense', 0.0393453065787528),\n",
       "  ('pourraient faites', 0.0393050787296891),\n",
       "  ('qu elle gagne', 0.039265156970245664),\n",
       "  ('réduire déficit', 0.03923433061667884),\n",
       "  ('elle gagne', 0.03918621334289446),\n",
       "  ('dépense qu elle', 0.03915598571765262),\n",
       "  ('public france', 0.03884496857942334),\n",
       "  ('utilisation impôts', 0.03881881362553245),\n",
       "  ('déficit public france', 0.038479853830840745),\n",
       "  ('faire fiscalité', 0.03832627116268373),\n",
       "  ('faire fiscalité efficace', 0.03825960417484623),\n",
       "  ('il faire fiscalité', 0.03821707244546113),\n",
       "  ('réduire déficit public', 0.038104170754627485),\n",
       "  ('citoyens utilisation', 0.037852378708402336),\n",
       "  ('gagne pensez vous', 0.037138812588476504),\n",
       "  ('gagne pensez', 0.03702269453007535),\n",
       "  ('elle gagne pensez', 0.03631044453283256),\n",
       "  ('déficit public', 0.03546949971002424),\n",
       "  ('fiscalité efficace', 0.03409519263751254),\n",
       "  ('réduire', 0.03196618307048412),\n",
       "  ('il faut réponse', 0.031070823146982073),\n",
       "  ('faut réponse', 0.03102989618204166),\n",
       "  ('faut réponse possible', 0.030458793835822544),\n",
       "  ('gagne', 0.029859927538099545),\n",
       "  ('vous qu il', 0.029018418354764423)],\n",
       " 41: [('amif', 0.03688516511619581),\n",
       "  ('association maires', 0.028992029318822738),\n",
       "  ('maires ile', 0.02849182521109865),\n",
       "  ('association maires ile', 0.02827747154119639),\n",
       "  ('ile', 0.027729887209110553),\n",
       "  ('de france', 0.02583227879081797),\n",
       "  ('association', 0.02501825066284694),\n",
       "  ('france amif', 0.02465608726946724),\n",
       "  ('75004', 0.02465608726946724),\n",
       "  ('contributions association', 0.024443238111881625),\n",
       "  ('rue renard', 0.024272962407251387),\n",
       "  ('26 rue', 0.02399156803810084),\n",
       "  ('rue renard 75004', 0.02385174195156189),\n",
       "  ('26 rue renard', 0.02383340174931434),\n",
       "  ('renard 75004', 0.02383340174931434),\n",
       "  ('renard', 0.023744344400407194),\n",
       "  ('envoyez contributions association', 0.02371642257111769),\n",
       "  ('envoyez', 0.023620320862484466),\n",
       "  ('de france amif', 0.023617853507664127),\n",
       "  ('envoyez contributions', 0.023603749365875046),\n",
       "  ('france amif 26', 0.023410953980469135),\n",
       "  ('amif 26 rue', 0.02337470711253065),\n",
       "  ('amif 26', 0.02335673371432805),\n",
       "  ('ile de', 0.022880065679341765),\n",
       "  ('contributions association maires', 0.02278703885141484),\n",
       "  ('ile de france', 0.022455404838409174),\n",
       "  ('maires ile de', 0.02208994905034568),\n",
       "  ('publics habitant ville', 0.02185813604175479),\n",
       "  ('pouvoirs publics habitant', 0.02177076249731388),\n",
       "  ('publics habitant', 0.02173498800723992),\n",
       "  ('75004 paris', 0.021369166988748665),\n",
       "  ('maires', 0.02115645776473191),\n",
       "  ('habitant ville', 0.020645572767645795),\n",
       "  ('renard 75004 paris', 0.020469091808277367),\n",
       "  ('attention pouvoirs publics', 0.020078384759072695),\n",
       "  ('attention pouvoirs', 0.020015715354937482),\n",
       "  ('75004 paris fr', 0.019504040740037025),\n",
       "  ('fr', 0.019460255880432816),\n",
       "  ('de', 0.018832602294840625),\n",
       "  ('en date', 0.018715713101903453)],\n",
       " 42: [('justice', 0.04165775513980524),\n",
       "  ('justice sociale', 0.026203920341738334),\n",
       "  ('sociale', 0.02518475527510281),\n",
       "  ('fiscale', 0.021437367317787517),\n",
       "  ('justice fiscale', 0.019784911111256215),\n",
       "  ('isf', 0.011839860043707497),\n",
       "  ('évasion fiscale', 0.005894441783378439),\n",
       "  ('rétablissement', 0.005880488773305862),\n",
       "  ('fiscale justice', 0.005824959263563708),\n",
       "  ('public', 0.005737250577490812),\n",
       "  ('pouvoir', 0.00567170797582082),\n",
       "  ('évasion', 0.005671447278984896),\n",
       "  ('sociale justice', 0.0055934590441651215),\n",
       "  ('classe', 0.005566775698108742),\n",
       "  ('augmentation', 0.005551997530830226),\n",
       "  ('salaires', 0.005229570091551154),\n",
       "  ('10', 0.005161355685117993),\n",
       "  ('étampes', 0.00503435925277457),\n",
       "  ('justice fiscale justice', 0.0049521735334353955),\n",
       "  ('contre', 0.004817269192244218),\n",
       "  ('riches', 0.00478030383144603),\n",
       "  ('sociale justice fiscale', 0.004770518858297348),\n",
       "  ('rétablissement isf', 0.004769681982944185),\n",
       "  ('faire', 0.004727847619222464),\n",
       "  ('équité', 0.0047247880758764915),\n",
       "  ('travail', 0.004668157284023581),\n",
       "  ('justice sociale justice', 0.0046160683285846014),\n",
       "  ('remettre isf', 0.004611025517847785),\n",
       "  ('gouvernement', 0.004601737310298783),\n",
       "  ('politique', 0.004464390722153518),\n",
       "  ('impôts', 0.0043933312081006395),\n",
       "  ('pouvoir achat', 0.004357604944494041),\n",
       "  ('priorité problèmes justice', 0.00426963622465567),\n",
       "  ('retraités', 0.004192676166594979),\n",
       "  ('revenus', 0.004173466790493719),\n",
       "  ('achat', 0.004168378788378973),\n",
       "  ('smic', 0.004142991666960464),\n",
       "  ('impôt', 0.0040963634791832135),\n",
       "  ('vie', 0.004039008169114216),\n",
       "  ('vraie politique', 0.0040262293008148054)],\n",
       " 43: [('discriminations', 0.06620772745413091),\n",
       "  ('incivilités', 0.05560033074270603),\n",
       "  ('témoin victime', 0.03739741779818106),\n",
       "  ('répandues', 0.037114078364531164),\n",
       "  ('contre discriminations construire', 0.0370761915655215),\n",
       "  ('discriminations construire', 0.037024573673770045),\n",
       "  ('discriminations construire société', 0.037024573673770045),\n",
       "  ('répandues êtes témoin', 0.036923000733067875),\n",
       "  ('discriminations répandues', 0.036873022179695264),\n",
       "  ('lutter contre discriminations', 0.036873022179695264),\n",
       "  ('êtes témoin victime', 0.036823567184010655),\n",
       "  ('êtes témoin', 0.03677462489478132),\n",
       "  ('répandues êtes', 0.03677462489478132),\n",
       "  ('société solidaire tolérante', 0.03677462489478132),\n",
       "  ('solidaire tolérante', 0.03677462489478132),\n",
       "  ('publics répondre incivilités', 0.036630770681259736),\n",
       "  ('société solidaire', 0.03655202919696666),\n",
       "  ('reculer incivilités société', 0.03653724688444379),\n",
       "  ('pouvoirs publics répondre', 0.03653724688444379),\n",
       "  ('construire société solidaire', 0.03653724688444379),\n",
       "  ('société', 0.036533397244478245),\n",
       "  ('répondre incivilités', 0.03649117074408914),\n",
       "  ('incivilités société', 0.036445539986796754),\n",
       "  ('reculer incivilités', 0.03635558076669678),\n",
       "  ('contre discriminations', 0.03631123597344312),\n",
       "  ('publics répondre', 0.03631123597344312),\n",
       "  ('discriminations répandues êtes', 0.036199020326537136),\n",
       "  ('tolérante', 0.03613790880270624),\n",
       "  ('construire société', 0.036095553502135225),\n",
       "  ('témoin', 0.03607743740551376),\n",
       "  ('faire pouvoirs publics', 0.035194269870229944),\n",
       "  ('faire pouvoirs', 0.03510441367328914),\n",
       "  ('rôle faire reculer', 0.03380151224066365),\n",
       "  ('faire reculer incivilités', 0.033714461326518244),\n",
       "  ('rôle faire', 0.03358706626234211),\n",
       "  ('faire reculer', 0.033342949747126684),\n",
       "  ('reculer', 0.03321523972992897),\n",
       "  ('faire lutter contre', 0.032773660838151156),\n",
       "  ('faire lutter', 0.0327037110649003),\n",
       "  ('faire', 0.032105639761371554)],\n",
       " 44: [('amand', 0.050909783029622555),\n",
       "  ('les eaux', 0.04762856671313063),\n",
       "  ('eaux', 0.046036788926947125),\n",
       "  ('amand les eaux', 0.043204027178032976),\n",
       "  ('amand les', 0.043165204904345916),\n",
       "  ('saint amand', 0.0422265492276309),\n",
       "  ('saint amand les', 0.04039513151038108),\n",
       "  ('saint', 0.03193092987204412),\n",
       "  ('mail', 0.025894108507523703),\n",
       "  ('mairie saint amand', 0.025477296856979626),\n",
       "  ('mairie saint', 0.02149059119403648),\n",
       "  ('les', 0.02083240583916595),\n",
       "  ('les eaux mail', 0.020627926475531074),\n",
       "  ('eaux tél', 0.02061330708007683),\n",
       "  ('eaux mail', 0.020430926584858705),\n",
       "  ('inscris ici', 0.01984143511593996),\n",
       "  ('déposer mairie saint', 0.019533210633349875),\n",
       "  ('inscris', 0.019504010598296095),\n",
       "  ('déposer mairie', 0.01930321197342678),\n",
       "  ('vivre mieux', 0.019058335112961122),\n",
       "  ('tél', 0.01867401225856022),\n",
       "  ('10 priorités', 0.018319283705270945),\n",
       "  ('renvoyer déposer', 0.018165233810230674),\n",
       "  ('10', 0.01804677785850028),\n",
       "  ('10 priorités vivre', 0.017942945336128086),\n",
       "  ('22 48', 0.01790892063305585),\n",
       "  ('03 27', 0.01780487671451683),\n",
       "  ('priorités vivre mieux', 0.017545126138453073),\n",
       "  ('priorités vivre', 0.017545126138453073),\n",
       "  ('27 22 48', 0.017320903327332934),\n",
       "  ('27 22', 0.017122140040503556),\n",
       "  ('03 27 22', 0.017122140040503556),\n",
       "  ('renvoyer déposer mairie', 0.01705635560806406),\n",
       "  ('ici mes 10', 0.01664959421273823),\n",
       "  ('ici mes', 0.01664959421273823),\n",
       "  ('mes 10', 0.01664959421273823),\n",
       "  ('déposer', 0.0163833095784178),\n",
       "  ('inscris ici mes', 0.016097259341322695),\n",
       "  ('prénom', 0.015440105041151182),\n",
       "  ('adresse', 0.015327167377934665)],\n",
       " 45: [('vous', 0.04550367870219272),\n",
       "  ('politique migratoire', 0.0410586963678493),\n",
       "  ('immigration', 0.04073811116617037),\n",
       "  ('migratoire', 0.038178054108464136),\n",
       "  ('pensez vous', 0.02844730950001242),\n",
       "  ('pensez', 0.027622808801330428),\n",
       "  ('sont vous', 0.024204333254252614),\n",
       "  ('définir politique migratoire', 0.024121891522869383),\n",
       "  ('place définir', 0.02408953865427742),\n",
       "  ('place définir politique', 0.02408953865427742),\n",
       "  ('définir politique', 0.024084193033202094),\n",
       "  ('mettre place définir', 0.0236987004435208),\n",
       "  ('hui politique', 0.02306355654428139),\n",
       "  ('migratoire sont', 0.023043283873584425),\n",
       "  ('politique migratoire sont', 0.023043283873584425),\n",
       "  ('critères mettre place', 0.022914598833634447),\n",
       "  ('immigration france aujourd', 0.02288329284946658),\n",
       "  ('critères mettre', 0.02288329284946658),\n",
       "  ('hui politique migratoire', 0.022852318284823626),\n",
       "  ('situation immigration france', 0.022821668198789138),\n",
       "  ('situation immigration', 0.022791335866234292),\n",
       "  ('aujourd hui politique', 0.022702181192175097),\n",
       "  ('vous critères', 0.022616556394443973),\n",
       "  ('sont vous critères', 0.02228648103297416),\n",
       "  ('migratoire sont vous', 0.02228648103297416),\n",
       "  ('vous critères mettre', 0.02222167933020451),\n",
       "  ('pensez vous situation', 0.022158334513695872),\n",
       "  ('vous situation immigration', 0.022158334513695872),\n",
       "  ('vous situation', 0.022065909987944284),\n",
       "  ('instaurer contreparties', 0.02203576348467152),\n",
       "  ('allocations solidarité', 0.021778045983011328),\n",
       "  ('faille instaurer contreparties', 0.021671452103176288),\n",
       "  ('faille instaurer', 0.021641565565099198),\n",
       "  ('immigration france', 0.021593961557023922),\n",
       "  ('instaurer contreparties allocations', 0.021336373957022613),\n",
       "  ('contreparties allocations solidarité', 0.021336373957022613),\n",
       "  ('contreparties allocations', 0.021306090878553723),\n",
       "  ('immigration intégration', 0.0209138117358833),\n",
       "  ('il faille instaurer', 0.020879969060982648),\n",
       "  ('politique', 0.020524431724102555)],\n",
       " 46: [('pages', 0.056732325330590666),\n",
       "  ('présent cahier expression', 0.05022425317273395),\n",
       "  ('expression citoyen commune', 0.05022425317273395),\n",
       "  ('expression citoyen', 0.04943225424851261),\n",
       "  ('cahier expression citoyen', 0.04941993815571055),\n",
       "  ('citoyen commune', 0.04880549881660035),\n",
       "  ('présent cahier', 0.04869964591810243),\n",
       "  ('le présent', 0.048455929418011114),\n",
       "  ('le présent cahier', 0.04747499370139329),\n",
       "  ('loire le présent', 0.04568661023559106),\n",
       "  ('et loire le', 0.04556445419351027),\n",
       "  ('loire le', 0.04544504397780815),\n",
       "  ('cahier', 0.044827865699113345),\n",
       "  ('cahier expression', 0.04395906726066078),\n",
       "  ('cahier clos', 0.04195545997418268),\n",
       "  ('rayées non', 0.0417852287988463),\n",
       "  ('rayées', 0.041666226904462034),\n",
       "  ('éviter rajout', 0.04083269951743061),\n",
       "  ('vierges rayées', 0.04083269951743061),\n",
       "  ('vierges rayées non', 0.04083269951743061),\n",
       "  ('et loire', 0.040195954652810145),\n",
       "  ('pages vierges', 0.03987692058552555),\n",
       "  ('non comptabilisées', 0.03987692058552555),\n",
       "  ('le cahier clos', 0.03987692058552555),\n",
       "  ('pages vierges rayées', 0.03987692058552555),\n",
       "  ('important pages', 0.03987692058552555),\n",
       "  ('clôture mairie', 0.03987692058552555),\n",
       "  ('éviter rajout contestation', 0.03987692058552555),\n",
       "  ('rajout contestation', 0.03987692058552555),\n",
       "  ('rayées non comptabilisées', 0.03987692058552555),\n",
       "  ('rajout', 0.03966600371387736),\n",
       "  ('signature représentant', 0.038917804242181386),\n",
       "  ('comptabilisées éviter rajout', 0.038917804242181386),\n",
       "  ('contestation le', 0.038917804242181386),\n",
       "  ('contestation le cahier', 0.038917804242181386),\n",
       "  ('important pages vierges', 0.038917804242181386),\n",
       "  ('non comptabilisées éviter', 0.038917804242181386),\n",
       "  ('comptabilisées éviter', 0.038917804242181386),\n",
       "  ('représentant légal', 0.03857098042970428),\n",
       "  ('comptabilisées', 0.038442845176694745)],\n",
       " 47: [('dépenses', 0.05237740629142354),\n",
       "  ('faut il', 0.03634538963396683),\n",
       "  ('domaines', 0.03427815314873343),\n",
       "  ('faut', 0.03285677148436315),\n",
       "  ('dépenses sociales', 0.030870329112863967),\n",
       "  ('baisser', 0.028829124592310164),\n",
       "  ('impôts', 0.027571506311724857),\n",
       "  ('il', 0.027409504118311036),\n",
       "  ('sociales', 0.027089610702133535),\n",
       "  ('plusieurs réponses', 0.026205368879042998),\n",
       "  ('plusieurs réponses possibles', 0.02589453302556052),\n",
       "  ('plusieurs', 0.02589255351838179),\n",
       "  ('réponses possibles', 0.025603979307939825),\n",
       "  ('priorité', 0.02558841514321914),\n",
       "  ('dépenses sociales faut', 0.024868890594000142),\n",
       "  ('impôts réduire dette', 0.024815536664097602),\n",
       "  ('réduire dette dépenses', 0.024791438860935443),\n",
       "  ('dette dépenses', 0.024767513906117575),\n",
       "  ('financer dépenses sociales', 0.02470641242051353),\n",
       "  ('baisser impôts réduire', 0.024696751786031743),\n",
       "  ('possibles', 0.024562196066575732),\n",
       "  ('sociales faut', 0.024501603645748583),\n",
       "  ('impôts réduire', 0.024280413753988234),\n",
       "  ('les dépenses', 0.024139244595208668),\n",
       "  ('prioritaires protection sociale', 0.024039156720882502),\n",
       "  ('prioritaires protection', 0.024011624338293024),\n",
       "  ('faut baisser priorité', 0.023877459521360552),\n",
       "  ('financer dépenses', 0.023596726121360385),\n",
       "  ('dette dépenses publiques', 0.023577014828927878),\n",
       "  ('domaines prioritaires protection', 0.023567800706747553),\n",
       "  ('impôts qu il', 0.023436895738314402),\n",
       "  ('domaines prioritaires', 0.023435136608968805),\n",
       "  ('territoriales domaines faut', 0.023435136608968805),\n",
       "  ('baisser impôts', 0.023321255963466455),\n",
       "  ('territoriales domaines', 0.02330793624576748),\n",
       "  ('domaines faut', 0.023258487416262567),\n",
       "  ('il faut baisser', 0.02323775209252876),\n",
       "  ('réduire dette', 0.023201673705935802),\n",
       "  ('sociales faut il', 0.023123130554817854),\n",
       "  ('réduire priorité', 0.022977348763053337)],\n",
       " 48: [('paris fr', 0.025083911880122402),\n",
       "  ('fr', 0.023612283873609335),\n",
       "  ('paris', 0.021473204183618352),\n",
       "  ('envoyé', 0.020711761762013437),\n",
       "  ('formulaire paris fr', 0.019671207746383347),\n",
       "  ('formulaire paris', 0.019671207746383347),\n",
       "  ('formulaire', 0.01958700133140013),\n",
       "  ('sampagnay', 0.0192543506768328),\n",
       "  ('sampagnay béatrice', 0.01859591041703756),\n",
       "  ('béatrice', 0.01737259813884495),\n",
       "  ('poissy', 0.016729465892601363),\n",
       "  ('marie', 0.014697892604784083),\n",
       "  ('contact', 0.013978009820815644),\n",
       "  ('objet', 0.013932093306526193),\n",
       "  ('janvier', 0.013540310311968718),\n",
       "  ('2019', 0.013405255128999548),\n",
       "  ('mairie poissy', 0.013149735784879397),\n",
       "  ('cabma15 contact', 0.01200655194923185),\n",
       "  ('cabma15', 0.01200655194923185),\n",
       "  ('de', 0.011541664770028406),\n",
       "  ('gayraud', 0.011533912553158205),\n",
       "  ('marie paule', 0.011305031175359938),\n",
       "  ('gayraud marie', 0.011296512957547324),\n",
       "  ('despres', 0.010997451504174102),\n",
       "  ('paule', 0.010919147415206928),\n",
       "  ('gayraud marie paule', 0.010819467504853238),\n",
       "  ('tr formulaire paris', 0.010819467504853238),\n",
       "  ('mairie', 0.010777059268870738),\n",
       "  ('objet tr formulaire', 0.01075858376909269),\n",
       "  ('tr formulaire', 0.010672490621539422),\n",
       "  ('de backoffice paris', 0.010579784491203201),\n",
       "  ('de backoffice', 0.010579784491203201),\n",
       "  ('despres odile', 0.010579784491203201),\n",
       "  ('fr un exemplaire', 0.010579784491203201),\n",
       "  ('paris fr un', 0.010579784491203201),\n",
       "  ('rochefoucauld marie', 0.010579784491203201),\n",
       "  ('contact objet formulaire', 0.010579784491203201),\n",
       "  ('objet formulaire paris', 0.010548980817231908),\n",
       "  ('un exemplaire', 0.010548980817231908),\n",
       "  ('fr un', 0.010518937935161855)],\n",
       " 49: [('faudrait il faire', 0.05165150732251359),\n",
       "  ('faudrait il', 0.05160718619571548),\n",
       "  ('il faire', 0.04994167043103996),\n",
       "  ('incivilités', 0.04873943026127388),\n",
       "  ('comportements civiques', 0.04356316619000037),\n",
       "  ('faudrait', 0.04345112269067033),\n",
       "  ('civiques', 0.04230208983723255),\n",
       "  ('il', 0.036225978266187196),\n",
       "  ('vie quotidienne', 0.03519691214778466),\n",
       "  ('quotidienne', 0.03467921966040608),\n",
       "  ('comportements', 0.03371267776283949),\n",
       "  ('faire', 0.028705950008427905),\n",
       "  ('faut promouvoir', 0.02547645460345555),\n",
       "  ('engagement citoyen', 0.025375754328580604),\n",
       "  ('vie', 0.02534099272827289),\n",
       "  ('il faire lutter', 0.025260817300273707),\n",
       "  ('faire lutter', 0.025078766069143),\n",
       "  ('incivilités pénibles vie', 0.024906559607186927),\n",
       "  ('incivilités pénibles', 0.024906559607186927),\n",
       "  ('faut promouvoir vie', 0.02487432755352106),\n",
       "  ('promouvoir vie quotidienne', 0.02484241635919892),\n",
       "  ('pénibles vie', 0.024810819701712776),\n",
       "  ('civiques qu', 0.02474854562534024),\n",
       "  ('faire lutter contre', 0.024727045491356958),\n",
       "  ('promouvoir vie', 0.024717856458446777),\n",
       "  ('vie quotidienne collective', 0.02462503998768798),\n",
       "  ('quotidienne collective', 0.024591707813950942),\n",
       "  ('que faudrait', 0.024589438144032513),\n",
       "  ('vie relations administration', 0.024526083757737228),\n",
       "  ('parcours vie relations', 0.024493777623930273),\n",
       "  ('citoyen parcours vie', 0.024461799614201446),\n",
       "  ('vie relations', 0.02443014313292247),\n",
       "  ('administration pouvoirs', 0.02443014313292247),\n",
       "  ('il faut promouvoir', 0.02443014313292247),\n",
       "  ('citoyen parcours', 0.02439880178135608),\n",
       "  ('relations administration pouvoirs', 0.02411220254691592),\n",
       "  ('développement comportements civiques', 0.024080154962142004),\n",
       "  ('développement comportements', 0.024080154962142004),\n",
       "  ('quotidienne faudrait', 0.024017039621215965),\n",
       "  ('quotidienne faudrait il', 0.024017039621215965)],\n",
       " 50: [('souhaitable réduire', 0.05863056751476048),\n",
       "  ('souhaitable réduire nombre', 0.05831511778675955),\n",
       "  ('il souhaitable réduire', 0.05749538701289318),\n",
       "  ('qu il souhaitable', 0.05688906550937155),\n",
       "  ('parlementaires députés sénateurs', 0.05569548559354687),\n",
       "  ('il souhaitable', 0.05447216049079983),\n",
       "  ('parlementaires députés', 0.05423045531649416),\n",
       "  ('souhaitable', 0.04851820267084992),\n",
       "  ('vous qu il', 0.04522253737680704),\n",
       "  ('vous qu', 0.04444511039060141),\n",
       "  ('pensez vous qu', 0.043921837018307326),\n",
       "  ('réduire nombre', 0.04316386919407287),\n",
       "  ('pensez vous', 0.03933035170005208),\n",
       "  ('pensez', 0.037964635098945605),\n",
       "  ('députés sénateurs', 0.03680742937345789),\n",
       "  ('il', 0.03669637497924618),\n",
       "  ('oui', 0.03655094285373932),\n",
       "  ('vous', 0.0365313667080752),\n",
       "  ('parlementaires', 0.034326845690913606),\n",
       "  ('introduire', 0.0340669275462724),\n",
       "  ('mandats instauré', 0.03247676524442816),\n",
       "  ('sénateurs', 0.03227024169047167),\n",
       "  ('mandats instauré 2017', 0.03195448048960443),\n",
       "  ('instauré 2017', 0.03195448048960443),\n",
       "  ('cumul mandats instauré', 0.03195448048960443),\n",
       "  ('925', 0.031922665061386385),\n",
       "  ('2017 parlementaires', 0.03178567769372947),\n",
       "  ('députés sénateurs 925', 0.03170381827039155),\n",
       "  ('sénateurs 925', 0.03170381827039155),\n",
       "  ('instauré 2017 parlementaires', 0.03138765806642733),\n",
       "  ('vous faut', 0.03128071939762506),\n",
       "  ('2017 parlementaires députés', 0.031260364762643225),\n",
       "  ('sensibilités politiques', 0.03124434035860322),\n",
       "  ('sensibilités', 0.031208456015723727),\n",
       "  ('il introduire', 0.030901082736506106),\n",
       "  ('faut il introduire', 0.030901082736506106),\n",
       "  ('réduire nombre autres', 0.030658411946801068),\n",
       "  ('nombre autres élus', 0.030658411946801068),\n",
       "  ('nombre autres', 0.03003874382654554),\n",
       "  ('il faire mieux', 0.03003874382654554)],\n",
       " 51: [('fraternité', 0.05587005648621738),\n",
       "  ('égalité', 0.050159490118762355),\n",
       "  ('liberté', 0.04984018142954617),\n",
       "  ('égalité fraternité', 0.039318221787038),\n",
       "  ('liberté égalité', 0.038017593718265956),\n",
       "  ('liberté égalité fraternité', 0.03657116445759657),\n",
       "  ('devise', 0.014258093405988345),\n",
       "  ('fraternite', 0.010579849675769547),\n",
       "  ('devise liberté égalité', 0.010128384599473095),\n",
       "  ('liberte', 0.010098020432487656),\n",
       "  ('devise liberté', 0.009852813485709601),\n",
       "  ('egalite', 0.009825318012707454),\n",
       "  ('egalite fraternite', 0.009614874858948748),\n",
       "  ('liberte egalite', 0.009602209998272312),\n",
       "  ('france', 0.009535552470493444),\n",
       "  ('liberte egalite fraternite', 0.008100969160828784),\n",
       "  ('pays', 0.007850367084830695),\n",
       "  ('est', 0.00707716647434364),\n",
       "  ('fraternité liberté', 0.007006456478569715),\n",
       "  ('fraternité vous avez', 0.0067765647055082374),\n",
       "  ('fraternité vous', 0.0067765647055082374),\n",
       "  ('la', 0.006134899857767086),\n",
       "  ('pères', 0.006078999048938513),\n",
       "  ('paix', 0.0059659428273412295),\n",
       "  ('en', 0.00565895407576006),\n",
       "  ('france en', 0.005570499768045169),\n",
       "  ('fraternité égalité', 0.00540257968093284),\n",
       "  ('parlons', 0.005365841026627211),\n",
       "  ('liberté fraternité', 0.005309771512937463),\n",
       "  ('egalité', 0.005267141298119009),\n",
       "  ('république liberté égalité', 0.005204403294297524),\n",
       "  ('devise république', 0.005035905302879897),\n",
       "  ('république liberté', 0.005017742675814842),\n",
       "  ('république', 0.004992752837345435),\n",
       "  ('valeurs', 0.004813826149089068),\n",
       "  ('dépenses publiques incontrôlées', 0.004803128204401859),\n",
       "  ('grand pères battus', 0.004803128204401859),\n",
       "  ('moi beaucoup travaillé', 0.004803128204401859),\n",
       "  ('non citoyens peuple', 0.004803128204401859),\n",
       "  ('imiter soviétisation', 0.004803128204401859)],\n",
       " 52: [('liberté', 0.015128934676337129),\n",
       "  ('respect', 0.013827521513454984),\n",
       "  ('droit', 0.011578043910400068),\n",
       "  ('main', 0.010849293335733558),\n",
       "  ('droits', 0.010794312810747952),\n",
       "  ('égalité', 0.010549600897137985),\n",
       "  ('citoyen', 0.010434542725439266),\n",
       "  ('libertés', 0.009479306937044293),\n",
       "  ('droit inaliénable', 0.008659124457102572),\n",
       "  ('respect citoyen', 0.008480498134253408),\n",
       "  ('inaliénable', 0.00839381543427313),\n",
       "  ('une main', 0.008156804928347569),\n",
       "  ('violences policières', 0.007728323300646055),\n",
       "  ('policières', 0.007238934071933749),\n",
       "  ('vie', 0.007203338360493137),\n",
       "  ('politique', 0.007184894032447286),\n",
       "  ('lois', 0.007041826002650396),\n",
       "  ('respecter', 0.006460756643140938),\n",
       "  ('loi', 0.006309535841455633),\n",
       "  ('judiciaire', 0.005909329419148348),\n",
       "  ('république', 0.00587660257627209),\n",
       "  ('français', 0.005793415129558564),\n",
       "  ('violences', 0.005776708315113973),\n",
       "  ('homme', 0.005716327667899294),\n",
       "  ('qu', 0.005527452717697755),\n",
       "  ('droits homme', 0.005395906464095389),\n",
       "  ('manifester', 0.005271713581156731),\n",
       "  ('protection', 0.005266297444792646),\n",
       "  ('délits gouvernementaux', 0.004893998886071391),\n",
       "  ('délits gouvernementaux abus', 0.004893998886071391),\n",
       "  ('prendre photos', 0.004893998886071391),\n",
       "  ('violences policières délits', 0.004893998886071391),\n",
       "  ('gouvernementaux abus', 0.004893998886071391),\n",
       "  ('policières délits gouvernementaux', 0.004893998886071391),\n",
       "  ('gouvernementaux abus pouvoir', 0.004893998886071391),\n",
       "  ('prendre photos vidéos', 0.004893998886071391),\n",
       "  ('devoirs', 0.004876184230215034),\n",
       "  ('citoyen égalité', 0.004872237360567631),\n",
       "  ('policières délits', 0.004872237360567631),\n",
       "  ('arrêt violences policières', 0.004811824238294707)],\n",
       " 53: [('faut il', 0.044787757230699866),\n",
       "  ('oui', 0.03753324886719656),\n",
       "  ('initiative', 0.03289339360787244),\n",
       "  ('il', 0.03238179786763168),\n",
       "  ('rip organisé', 0.030926037806881416),\n",
       "  ('consulter citoyens utilisation', 0.03076266786416448),\n",
       "  ('faire consulter citoyens', 0.03076266786416448),\n",
       "  ('soutenu partie corps', 0.030683443054929305),\n",
       "  ('corps électoral applicable', 0.030683443054929305),\n",
       "  ('faire consulter', 0.030683443054929305),\n",
       "  ('électoral applicable', 0.030644417292431645),\n",
       "  ('soutenu partie', 0.030644417292431645),\n",
       "  ('citoyens utilisation argent', 0.03060577244114555),\n",
       "  ('faciliter déclenchement', 0.03060577244114555),\n",
       "  ('partie corps électoral', 0.030567501140293028),\n",
       "  ('élus associer', 0.030529596240416807),\n",
       "  ('élus associer décision', 0.030529596240416807),\n",
       "  ('le rip', 0.030498431013430808),\n",
       "  ('le rip organisé', 0.030498431013430808),\n",
       "  ('associer décision', 0.030418011456235107),\n",
       "  ('partie corps', 0.030418011456235107),\n",
       "  ('rip organisé initiative', 0.03037241806986242),\n",
       "  ('organisé initiative membres', 0.03021051963676827),\n",
       "  ('il faire consulter', 0.03021051963676827),\n",
       "  ('électoral applicable 2015', 0.03017107809754593),\n",
       "  ('initiative membres', 0.030132033130126322),\n",
       "  ('tirer sort citoyens', 0.030100970558649336),\n",
       "  ('déclenchement référendum initiative', 0.03009337684233451),\n",
       "  ('faciliter déclenchement référendum', 0.030055101575269496),\n",
       "  ('applicable 2015', 0.030055101575269496),\n",
       "  ('non élus associer', 0.030017199894200444),\n",
       "  ('associer décision publique', 0.029905665203149297),\n",
       "  ('déclenchement référendum', 0.029869187707464186),\n",
       "  ('organisé initiative', 0.029833049697461356),\n",
       "  ('sort citoyens non', 0.029623012054311088),\n",
       "  ('parlement soutenu partie', 0.029618156506635563),\n",
       "  ('parlement soutenu', 0.02954120895110424),\n",
       "  ('tirer sort', 0.029504966437847786),\n",
       "  ('partagée le rip', 0.029427545985436624),\n",
       "  ('faut il tirer', 0.029391828019512525)],\n",
       " 54: [('citoyens transmis', 0.06584030914983265),\n",
       "  ('transmis', 0.05758799584630501),\n",
       "  ('gironde', 0.05620768844169151),\n",
       "  ('préfecture', 0.04677994799242429),\n",
       "  ('arrondissement', 0.04675964081524849),\n",
       "  ('nombre pages totales', 0.0408628833969179),\n",
       "  ('pages totales', 0.0408628833969179),\n",
       "  ('nombre pages', 0.03995989593839966),\n",
       "  ('préfecture sp', 0.039201276377933546),\n",
       "  ('nombre cahiers citoyens', 0.039201276377933546),\n",
       "  ('nombre cahiers', 0.039201276377933546),\n",
       "  ('courriers citoyens', 0.0390054796061489),\n",
       "  ('apporter référent', 0.0390054796061489),\n",
       "  ('apporter référent départemental', 0.0390054796061489),\n",
       "  ('cahiers citoyens transmis', 0.03881838864995005),\n",
       "  ('indiquer date', 0.03881838864995005),\n",
       "  ('contributions citoyens', 0.037990474234751485),\n",
       "  ('indiquer date lieu', 0.03753012266276888),\n",
       "  ('mails site courriers', 0.03753012266276888),\n",
       "  ('mails site', 0.03753012266276888),\n",
       "  ('site courriers', 0.03753012266276888),\n",
       "  ('site courriers citoyens', 0.03753012266276888),\n",
       "  ('totales', 0.037243134860258875),\n",
       "  ('citoyens', 0.03694635706950412),\n",
       "  ('date lieu', 0.03632717812581787),\n",
       "  ('référent départemental', 0.0359936645145523),\n",
       "  ('lieu transmission', 0.03584894444153009),\n",
       "  ('date lieu transmission', 0.03584894444153009),\n",
       "  ('observations souhaitez', 0.03565361652963044),\n",
       "  ('sp', 0.03551480100822894),\n",
       "  ('insee', 0.034894736231197994),\n",
       "  ('mails', 0.03485232869250691),\n",
       "  ('transmis indiquer', 0.03245434302045275),\n",
       "  ('courriers citoyens transmis', 0.03245434302045275),\n",
       "  ('transmis indiquer date', 0.03245434302045275),\n",
       "  ('souhaitez apporter référent', 0.0322595905675496),\n",
       "  ('courriers', 0.03217220151281918),\n",
       "  ('cahiers citoyens', 0.03211607068660984),\n",
       "  ('référent départemental grand', 0.031862853884582217),\n",
       "  ('départemental grand débat', 0.03175828416626261)],\n",
       " 55: [('animaux', 0.035191630178555755),\n",
       "  ('animale', 0.018631743304604886),\n",
       "  ('animal', 0.017587055360855617),\n",
       "  ('abattoirs', 0.009187054596214626),\n",
       "  ('chasse', 0.008989867164752998),\n",
       "  ('élevages', 0.008496270323263368),\n",
       "  ('interdiction', 0.008086275492410276),\n",
       "  ('protection', 0.007010912975960787),\n",
       "  ('interdire', 0.006309179386994454),\n",
       "  ('stérilisation', 0.005894550756249864),\n",
       "  ('respect', 0.005845877049082227),\n",
       "  ('obligatoire', 0.005746727248345032),\n",
       "  ('chats', 0.005504617482406149),\n",
       "  ('élevage', 0.005422928651009347),\n",
       "  ('nature', 0.005200085945067464),\n",
       "  ('cirques', 0.005157731911718631),\n",
       "  ('chiens', 0.0048956181862491914),\n",
       "  ('cause animale', 0.00463966880404659),\n",
       "  ('corridas', 0.00463966880404659),\n",
       "  ('animaux domestiques', 0.004580143838001146),\n",
       "  ('animaux cirques', 0.004064337328804864),\n",
       "  ('domestiques', 0.003994722077030739),\n",
       "  ('condition animale', 0.003964778913202755),\n",
       "  ('un', 0.0038931158519323666),\n",
       "  ('animaux sauvages', 0.0038326807407581863),\n",
       "  ('protection animale', 0.003816786531667622),\n",
       "  ('torture', 0.003816786531667622),\n",
       "  ('chasseurs', 0.003774454219440949),\n",
       "  ('corrida', 0.0037197039009673593),\n",
       "  ('est', 0.0036576138292844984),\n",
       "  ('maltraitance', 0.003591651473546815),\n",
       "  ('qu', 0.003464833987709097),\n",
       "  ('non', 0.0034256651914034444),\n",
       "  ('volailles', 0.00340212698463607),\n",
       "  ('souhaite', 0.0033850739081830858),\n",
       "  ('animales', 0.0033754784104546736),\n",
       "  ('indre', 0.0033144981226640893),\n",
       "  ('permis', 0.0032854702550921505),\n",
       "  ('obligatoire abattoirs', 0.0032297246944230674),\n",
       "  ('remettre', 0.0032088420193725313)],\n",
       " 56: [('islam', 0.014240855187668188),\n",
       "  ('salafisme', 0.008481570526071618),\n",
       "  ('religion', 0.007044516187795699),\n",
       "  ('france', 0.006822096717785024),\n",
       "  ('coran', 0.006075446691219047),\n",
       "  ('est', 0.005667088735846651),\n",
       "  ('musulmans', 0.005479586640229948),\n",
       "  ('immigration', 0.0051553559428861835),\n",
       "  ('islamique', 0.005028938409699186),\n",
       "  ('qu', 0.0049779677609474975),\n",
       "  ('république', 0.00439153167531281),\n",
       "  ('pays', 0.004379409919378201),\n",
       "  ('lois', 0.004096054739800802),\n",
       "  ('française', 0.003986663737352132),\n",
       "  ('français', 0.0037443169320840147),\n",
       "  ('wahhabisme', 0.0035805296115287285),\n",
       "  ('saoudien', 0.0035098158438794384),\n",
       "  ('loi', 0.003442373547835592),\n",
       "  ('il', 0.003423097523539793),\n",
       "  ('laïcité', 0.003415675394869104),\n",
       "  ('ibn', 0.0032195867547553255),\n",
       "  ('la', 0.003150180635293934),\n",
       "  ('un', 0.003142976135947995),\n",
       "  ('etat', 0.0030989749611660647),\n",
       "  ('faut', 0.0029313659041905094),\n",
       "  ('nombre', 0.0029003855836292245),\n",
       "  ('droit', 0.002887717609714726),\n",
       "  ('doctrine', 0.0028838579030175332),\n",
       "  ('ibn abdeiwahhab', 0.002853736933007558),\n",
       "  ('abdeiwahhab', 0.002853736933007558),\n",
       "  ('hallal', 0.0028271901753572056),\n",
       "  ('faire', 0.0026975264134843314),\n",
       "  ('islamisation', 0.0026856289933567474),\n",
       "  ('religieuse', 0.002662059854150586),\n",
       "  ('une', 0.002658346112901272),\n",
       "  ('europe', 0.002615061773850151),\n",
       "  ('politique', 0.002593521005099286),\n",
       "  ('en', 0.0025829239935126615),\n",
       "  ('on', 0.0025820403026626674),\n",
       "  ('société', 0.0025734594793381245)],\n",
       " 57: [('services', 0.05085806424459498),\n",
       "  ('publics avez', 0.046811779299027585),\n",
       "  ('services publics avez', 0.04629072356448039),\n",
       "  ('services publics', 0.04595901332835361),\n",
       "  ('publics', 0.0404849673446798),\n",
       "  ('vous', 0.04029258325876962),\n",
       "  ('avez', 0.029050737469847144),\n",
       "  ('démarches souhaitez', 0.027243544483997722),\n",
       "  ('nouveaux services démarches', 0.0271360231825119),\n",
       "  ('services démarches', 0.027100905937525382),\n",
       "  ('services démarches souhaitez', 0.026666702025119126),\n",
       "  ('internet priorité', 0.026265796564687968),\n",
       "  ('nécessaire effectuer', 0.026224870423394202),\n",
       "  ('transférer nouvelles missions', 0.02598107929843452),\n",
       "  ('transférer nouvelles', 0.025946232841902592),\n",
       "  ('distance pouvez', 0.025946232841902592),\n",
       "  ('publics avez besoin', 0.02587761629164024),\n",
       "  ('estimez', 0.025777409823102827),\n",
       "  ('nouvelles missions', 0.02574448885760031),\n",
       "  ('parcourir difficulté', 0.025648027265069262),\n",
       "  ('déplacement nécessaire effectuer', 0.025648027265069262),\n",
       "  ('nécessaire effectuer démarche', 0.025648027265069262),\n",
       "  ('avez besoins', 0.025648027265069262),\n",
       "  ('nécessaire', 0.025619968246303713),\n",
       "  ('déplacement nécessaire', 0.02561648519714573),\n",
       "  ('effectuer démarche', 0.025554284473172453),\n",
       "  ('démarches souhaitez vous', 0.025471128505334548),\n",
       "  ('souhaitez vous voir', 0.025435667313166193),\n",
       "  ('avez besoin', 0.025406912758883102),\n",
       "  ('pouvez vous parcourir', 0.025365887292186487),\n",
       "  ('vous parcourir', 0.025331552315973654),\n",
       "  ('hui transférer', 0.025297577020855024),\n",
       "  ('aujourd hui transférer', 0.025297577020855024),\n",
       "  ('estimez vous accès', 0.025263953952096664),\n",
       "  ('vous accès services', 0.025165126941987852),\n",
       "  ('vous voir', 0.025132842682071308),\n",
       "  ('vous accès', 0.025132842682071308),\n",
       "  ('estimez vous', 0.025132842682071308),\n",
       "  ('effectuer démarche administrative', 0.0251008766361603),\n",
       "  ('publics avez besoins', 0.02506922259505068)],\n",
       " 58: [('grenoble', 0.07711260962282522),\n",
       "  ('formulaire', 0.0752836795338765),\n",
       "  ('ville grenoble', 0.06521307641843353),\n",
       "  ('proposition solution', 0.05449885810912084),\n",
       "  ('formulaire formulaire', 0.05177100901719865),\n",
       "  ('formulaire formulaire doléances', 0.05140749925774161),\n",
       "  ('formulaire doléances solutions', 0.05140749925774161),\n",
       "  ('formulaire doléances', 0.05008133783299574),\n",
       "  ('doléances solutions', 0.049648925301040384),\n",
       "  ('doléance proposition solution', 0.04595332528025432),\n",
       "  ('doléance proposition', 0.04396761300122509),\n",
       "  ('solution', 0.036422290204157916),\n",
       "  ('ville grenoble formulaire', 0.03545414243121374),\n",
       "  ('grenoble formulaire', 0.03545414243121374),\n",
       "  ('grenoble formulaire formulaire', 0.03506616287411541),\n",
       "  ('ville', 0.034229754258316536),\n",
       "  ('doléance', 0.03308560616452167),\n",
       "  ('proposition', 0.03258899794951484),\n",
       "  ('facultatif', 0.031416469352315485),\n",
       "  ('solutions', 0.028423760025741537),\n",
       "  ('doléances', 0.026285491348821424),\n",
       "  ('2019', 0.02235152361894288),\n",
       "  ('grenoble fr', 0.021691441387385615),\n",
       "  ('doléances solutions été', 0.0212198883137468),\n",
       "  ('solutions été renseigné', 0.0212198883137468),\n",
       "  ('renseigné nom facultatif', 0.0212198883137468),\n",
       "  ('2019 formulaire formulaire', 0.0212198883137468),\n",
       "  ('solutions été', 0.020972173475292094),\n",
       "  ('la ville grenoble', 0.02079979720400868),\n",
       "  ('renseigné nom', 0.020704079410295895),\n",
       "  ('été renseigné nom', 0.020704079410295895),\n",
       "  ('été renseigné', 0.020620745951425278),\n",
       "  ('2019 formulaire', 0.020540101835717386),\n",
       "  ('grenoble fr no', 0.020430952426762558),\n",
       "  ('fr no', 0.020227527034697206),\n",
       "  ('fr no envoyé', 0.019955813998233193),\n",
       "  ('souhaite exprimer thématique', 0.019947050504878275),\n",
       "  ('exprimer thématique', 0.019947050504878275),\n",
       "  ('renseigné', 0.019850937066495468),\n",
       "  ('solutions grenoble', 0.019267273104575287)],\n",
       " 59: [('abrogation', 0.0150913238958313),\n",
       "  ('loi', 0.013181965707815919),\n",
       "  ('liberté', 0.01245146711473136),\n",
       "  ('lois', 0.011983491719801268),\n",
       "  ('abrogation loi', 0.010116130383057404),\n",
       "  ('respecter', 0.009330051894890957),\n",
       "  ('fin', 0.009232940625830612),\n",
       "  ('redonner', 0.009208072389442941),\n",
       "  ('droits', 0.008270085994427544),\n",
       "  ('indépendance', 0.008266365397747003),\n",
       "  ('anti', 0.00824535414556531),\n",
       "  ('favoriser', 0.008221560270800177),\n",
       "  ('garantir', 0.007801207404156608),\n",
       "  ('protection', 0.007746383452464696),\n",
       "  ('sociaux', 0.007606933016405114),\n",
       "  ('affaires', 0.007579429855331407),\n",
       "  ('aides', 0.007468885131431033),\n",
       "  ('annulation', 0.007311564023439096),\n",
       "  ('médias', 0.007262563197548985),\n",
       "  ('profit', 0.007094233796277632),\n",
       "  ('traité marrakech', 0.007088960250634356),\n",
       "  ('décent', 0.006989583821961518),\n",
       "  ('violences', 0.006965699117738606),\n",
       "  ('études', 0.006666726779317955),\n",
       "  ('information vraie transparente', 0.0065682365251376815),\n",
       "  ('vraie transparente', 0.0065682365251376815),\n",
       "  ('vraie transparente indépendance', 0.0065682365251376815),\n",
       "  ('affaires indépendance financière', 0.0065682365251376815),\n",
       "  ('faisons respecter droits', 0.0065682365251376815),\n",
       "  ('intérêts information', 0.0065682365251376815),\n",
       "  ('respecter droits libertés', 0.0065682365251376815),\n",
       "  ('bis lois', 0.0065682365251376815),\n",
       "  ('transparente indépendance', 0.0065682365251376815),\n",
       "  ('conflits intérêts information', 0.0065682365251376815),\n",
       "  ('sécurité sociale thérapies', 0.0065682365251376815),\n",
       "  ('monde affaires suppression', 0.0065682365251376815),\n",
       "  ('réversion respecter', 0.0065682365251376815),\n",
       "  ('financière politique médias', 0.0065682365251376815),\n",
       "  ('expression réunion', 0.0065682365251376815),\n",
       "  ('affaires indépendance', 0.0065682365251376815)],\n",
       " 60: [('et loire', 0.09290563591838166),\n",
       "  ('loire', 0.08926721448044489),\n",
       "  ('préfet', 0.07869351794962647),\n",
       "  ('portant', 0.07753528148267216),\n",
       "  ('cahier expression citoyenne', 0.06488139174380315),\n",
       "  ('saône et', 0.06487959746650614),\n",
       "  ('saône et loire', 0.06487959746650614),\n",
       "  ('saône', 0.06422043135212704),\n",
       "  ('cahier expression', 0.0618585320950386),\n",
       "  ('expression citoyenne', 0.05957774807991493),\n",
       "  ('et', 0.04851493934353394),\n",
       "  ('pour préfet', 0.04825675000232177),\n",
       "  ('préfet saône et', 0.04811251480189294),\n",
       "  ('préfet saône', 0.04811251480189294),\n",
       "  ('expression', 0.04054026182406082),\n",
       "  ('citoyenne attestation remise', 0.037172758065167774),\n",
       "  ('attestation remise', 0.037172758065167774),\n",
       "  ('expression citoyenne attestation', 0.037172758065167774),\n",
       "  ('citoyenne attestation', 0.037172758065167774),\n",
       "  ('république préfet saône', 0.036333333485000854),\n",
       "  ('certifie reçu', 0.036333333485000854),\n",
       "  ('certifie reçu cahier', 0.036333333485000854),\n",
       "  ('portant code', 0.036333333485000854),\n",
       "  ('reçu cahier expression', 0.036333333485000854),\n",
       "  ('portant code postal', 0.036333333485000854),\n",
       "  ('remise dans cadre', 0.036333333485000854),\n",
       "  ('remise dans', 0.036333333485000854),\n",
       "  ('et loire certifie', 0.036333333485000854),\n",
       "  ('loire certifie reçu', 0.036333333485000854),\n",
       "  ('loire certifie', 0.036333333485000854),\n",
       "  ('attestation remise dans', 0.036333333485000854),\n",
       "  ('portant insee', 0.036333333485000854),\n",
       "  ('reçu cahier', 0.03624343911353858),\n",
       "  ('président république préfet', 0.03606913746314373),\n",
       "  ('république préfet', 0.03598458480127462),\n",
       "  ('national lancé 15', 0.03582034368851521),\n",
       "  ('lancé 15 janvier', 0.03558525513730085),\n",
       "  ('lancé 15', 0.03550968396397262),\n",
       "  ('certifie', 0.03550968396397262),\n",
       "  ('citoyenne', 0.035485045441666675)],\n",
       " 61: [('équestres', 0.040812816202566014),\n",
       "  ('centres équestres', 0.025081562475280064),\n",
       "  ('clubs', 0.0210064146277719),\n",
       "  ('poney', 0.017810380313464567),\n",
       "  ('équitation', 0.01762196737189289),\n",
       "  ('centres', 0.016688320205900265),\n",
       "  ('clubs centres', 0.016330709807993272),\n",
       "  ('poney clubs centres', 0.016330709807993272),\n",
       "  ('poney clubs', 0.016330709807993272),\n",
       "  ('clubs centres équestres', 0.01570050563856988),\n",
       "  ('sportive', 0.015631580759674045),\n",
       "  ('activités', 0.0143629439686065),\n",
       "  ('sport', 0.014255180217798785),\n",
       "  ('rythmes scolaires', 0.011603056868821305),\n",
       "  ('fédération', 0.011465650771944374),\n",
       "  ('ffe', 0.01142425934952336),\n",
       "  ('équestre', 0.011246802798124228),\n",
       "  ('rythmes', 0.011018124569845604),\n",
       "  ('économique', 0.0101654761451997),\n",
       "  ('activités équestres', 0.00953384976535937),\n",
       "  ('equitation', 0.008851160952571352),\n",
       "  ('fédération française', 0.008534241015477423),\n",
       "  ('pratique', 0.007976014020066024),\n",
       "  ('activité', 0.007842388506967541),\n",
       "  ('2012', 0.0078107052465853765),\n",
       "  ('scolaires', 0.007644480859395733),\n",
       "  ('structures', 0.007478390114356647),\n",
       "  ('agricole', 0.007390577430724368),\n",
       "  ('sportives', 0.007132599924257027),\n",
       "  ('france', 0.006810313084388115),\n",
       "  ('atypique', 0.006779257313011487),\n",
       "  ('réforme rythmes', 0.006606691492480144),\n",
       "  ('réforme rythmes scolaires', 0.006606691492480144),\n",
       "  ('club', 0.006375828522228566),\n",
       "  ('modification rythmes', 0.00604002859667533),\n",
       "  ('modification rythmes scolaires', 0.00604002859667533),\n",
       "  ('économique difficile', 0.0059616894948687285),\n",
       "  ('sportif', 0.005885935494928774),\n",
       "  ('française', 0.005882789868739808),\n",
       "  ('ca', 0.005758629823813908)],\n",
       " 62: [('adresse', 0.04689995570763619),\n",
       "  ('prénom', 0.04050690995662787),\n",
       "  ('nom', 0.03947229513339297),\n",
       "  ('mail', 0.02398921611303963),\n",
       "  ('tél portable', 0.023839574033348365),\n",
       "  ('tél', 0.02179484558846436),\n",
       "  ('poissy', 0.021156090669219953),\n",
       "  ('date', 0.02082068481108015),\n",
       "  ('portable', 0.018167612411715457),\n",
       "  ('souilly', 0.01793671400565401),\n",
       "  ('rue', 0.017934668634229285),\n",
       "  ('adresse mail', 0.01770586536562208),\n",
       "  ('téléphone', 0.016615534256526582),\n",
       "  ('nom prénom', 0.01508682671475191),\n",
       "  ('feuille', 0.014402737939888449),\n",
       "  ('feuille date', 0.013667405875232743),\n",
       "  ('06', 0.013559855705629412),\n",
       "  ('souilly tél portable', 0.013525683762529061),\n",
       "  ('claye souilly tél', 0.013525683762529061),\n",
       "  ('souilly tél', 0.013525683762529061),\n",
       "  ('claye souilly', 0.013073094243413875),\n",
       "  ('claye', 0.012980292824924007),\n",
       "  ('01', 0.012352428754601807),\n",
       "  ('19 nom', 0.01141584700871375),\n",
       "  ('19', 0.011312709003849307),\n",
       "  ('tél portable 06', 0.01106067071962554),\n",
       "  ('fin collecte', 0.010820547010023248),\n",
       "  ('fin collecte date', 0.010820547010023248),\n",
       "  ('collecte date', 0.010820547010023248),\n",
       "  ('ville', 0.010599260721099395),\n",
       "  ('portable 06', 0.010314786614876574),\n",
       "  ('email', 0.009903381373422412),\n",
       "  ('renseigner', 0.009796945034821366),\n",
       "  ('ville poissy', 0.009712619032613353),\n",
       "  ('fr', 0.009524754584078596),\n",
       "  ('adresse rue', 0.00946382297506865),\n",
       "  ('courriel', 0.009424310735659943),\n",
       "  ('02', 0.009411683419313123),\n",
       "  ('05 65', 0.009384032879101488),\n",
       "  ('vermande', 0.009087115442683548)],\n",
       " 63: [('athis mons', 0.024888387708389706),\n",
       "  ('mons', 0.024831200220697854),\n",
       "  ('athis', 0.024581519793470404),\n",
       "  ('contribution', 0.018516224425741832),\n",
       "  ('juvisy', 0.017902738137004624),\n",
       "  ('ville athis mons', 0.01737723179549296),\n",
       "  ('ville athis', 0.017329805107305918),\n",
       "  ('sur orge', 0.016605280827909054),\n",
       "  ('formulaire', 0.01653097450549493),\n",
       "  ('orge', 0.015744613196139366),\n",
       "  ('utiliser', 0.014673027716030814),\n",
       "  ('sujets souhaitez', 0.014558899101741995),\n",
       "  ('91260 juvisy', 0.013663565153313127),\n",
       "  ('91260 juvisy sur', 0.013663565153313127),\n",
       "  ('juvisy sur orge', 0.0136135490951334),\n",
       "  ('juvisy sur', 0.0136135490951334),\n",
       "  ('président république', 0.013573619918290406),\n",
       "  ('91260', 0.01351818408572935),\n",
       "  ('formulaire utiliser papier', 0.013225445883738174),\n",
       "  ('déposez expédiez', 0.013225445883738174),\n",
       "  ('déposez expédiez contribution', 0.013225445883738174),\n",
       "  ('libre déposez', 0.013225445883738174),\n",
       "  ('libre déposez expédiez', 0.013225445883738174),\n",
       "  ('publics citoyenneté démocratie', 0.013225445883738174),\n",
       "  ('contribution lisible', 0.013225445883738174),\n",
       "  ('papier libre déposez', 0.013225445883738174),\n",
       "  ('une adresses', 0.013225445883738174),\n",
       "  ('expédiez', 0.013225445883738174),\n",
       "  ('formulaire utiliser', 0.013225445883738174),\n",
       "  ('êtes bien entendu', 0.013225445883738174),\n",
       "  ('utiliser papier libre', 0.013225445883738174),\n",
       "  ('utiliser formulaire utiliser', 0.013225445883738174),\n",
       "  ('expédiez contribution', 0.013225445883738174),\n",
       "  ('exprimer sujets souhaitez', 0.013225445883738174),\n",
       "  ('république améliorer politique', 0.013225445883738174),\n",
       "  ('proposons recueillir idées', 0.013175580683551943),\n",
       "  ('proposons recueillir', 0.013175580683551943),\n",
       "  ('utiliser papier', 0.013127350913164349),\n",
       "  ('président république améliorer', 0.0130806527087149),\n",
       "  ('améliorer politique', 0.0130353917969533)],\n",
       " 64: [('police', 0.04162790309083138),\n",
       "  ('gendarmerie', 0.020435551428822824),\n",
       "  ('armée', 0.009757767477473301),\n",
       "  ('police gendarmerie', 0.008282488180194347),\n",
       "  ('police municipale', 0.007477115548976678),\n",
       "  ('municipale', 0.007012423213844045),\n",
       "  ('fonctionnaire police', 0.006862539795976047),\n",
       "  ('police nationale', 0.006193500996662015),\n",
       "  ('sécurité', 0.006103207218248694),\n",
       "  ('rue pistes', 0.005990312999299938),\n",
       "  ('corps armée', 0.005611863645215416),\n",
       "  ('gendarmerie police', 0.005554408883142659),\n",
       "  ('fonctionnaires', 0.005042798815218839),\n",
       "  ('mr maire', 0.004835772239044752),\n",
       "  ('19', 0.004591792450702471),\n",
       "  ('maire', 0.004468660846239712),\n",
       "  ('article', 0.004390466648067963),\n",
       "  ('forces', 0.0043744904507636),\n",
       "  ('polices', 0.004321730479660099),\n",
       "  ('revoir', 0.004272287655930969),\n",
       "  ('contre', 0.004223315072494652),\n",
       "  ('fonctionnaire', 0.004185191401081597),\n",
       "  ('pompiers', 0.004158201591515359),\n",
       "  ('état', 0.0041576574373394315),\n",
       "  ('2019', 0.004108806465344068),\n",
       "  ('18', 0.004057088677596195),\n",
       "  ('pouvoir', 0.004011072757675084),\n",
       "  ('armée gendarmerie', 0.004010090882763123),\n",
       "  ('placé', 0.0040045361060931884),\n",
       "  ('code', 0.003999196925486471),\n",
       "  ('renseignements', 0.00395646231570408),\n",
       "  ('police route', 0.003951494547931412),\n",
       "  ('forces ordre', 0.003939208424349436),\n",
       "  ('personnel', 0.0039038939198864225),\n",
       "  ('pouvoir police', 0.0039002437088461427),\n",
       "  ('route', 0.003877907998677779),\n",
       "  ('mr', 0.0038453486761394224),\n",
       "  ('missions', 0.003800854859940563),\n",
       "  ('code déontologie', 0.00379467138089538),\n",
       "  ('cas', 0.003789344381418929)],\n",
       " 65: [('tva', 0.06099620967080392),\n",
       "  ('baisse', 0.05918667245973169),\n",
       "  ('baisse tva', 0.048166595631010285),\n",
       "  ('tva produits', 0.03712214689293485),\n",
       "  ('produits', 0.035790792099692145),\n",
       "  ('baisse tva produits', 0.025075181520229275),\n",
       "  ('baisser', 0.023239458837044383),\n",
       "  ('baisser tva', 0.017343503778113008),\n",
       "  ('salaires', 0.01706949073541645),\n",
       "  ('nécessité', 0.013841985660947593),\n",
       "  ('baisser tva produits', 0.011393630766926502),\n",
       "  ('luxe', 0.011142152869571714),\n",
       "  ('nécessités', 0.010990632050829096),\n",
       "  ('baisse charges', 0.0109791513159021),\n",
       "  ('tva produits premières', 0.010391888293378894),\n",
       "  ('ric', 0.010039191554604327),\n",
       "  ('produits premières', 0.009570474904711789),\n",
       "  ('produits luxe', 0.009474441500907293),\n",
       "  ('augmentation', 0.009060952311230202),\n",
       "  ('la baisse', 0.009005649646926945),\n",
       "  ('charges', 0.008805638582920274),\n",
       "  ('produits nécessité', 0.00834296265946721),\n",
       "  ('produits premières nécessités', 0.00821380816862606),\n",
       "  ('pouvoir', 0.008022145515350168),\n",
       "  ('premières nécessités', 0.008016275476808657),\n",
       "  ('premières', 0.007867232680685178),\n",
       "  ('tva produits nécessité', 0.007768793137766464),\n",
       "  ('tva produits luxe', 0.007585969423419516),\n",
       "  ('entreprises baisse', 0.007552940250949681),\n",
       "  ('smic', 0.006991934646789849),\n",
       "  ('mr', 0.0065920263019532965),\n",
       "  ('avantages', 0.006429801958371647),\n",
       "  ('800 brut', 0.0063687670458039405),\n",
       "  ('tva compenser baisse', 0.0063687670458039405),\n",
       "  ('nécessités manger', 0.0063687670458039405),\n",
       "  ('daniel 24 rue', 0.0063687670458039405),\n",
       "  ('cher baisser tva', 0.0063687670458039405),\n",
       "  ('800 brut baisse', 0.0063687670458039405),\n",
       "  ('24 rue stade', 0.0063687670458039405),\n",
       "  ('salaires inférieur fois', 0.0063687670458039405)],\n",
       " 66: [('zones', 0.017419575123067306),\n",
       "  ('rurales', 0.015862625287880686),\n",
       "  ('zones rurales', 0.015655035556901408),\n",
       "  ('rural', 0.011909373978961055),\n",
       "  ('ruralité', 0.011342841510411358),\n",
       "  ('rurale', 0.009645366793821188),\n",
       "  ('milieu rural', 0.009504654242858054),\n",
       "  ('services', 0.009480797978953355),\n",
       "  ('zone', 0.009347376013656053),\n",
       "  ('milieu', 0.008906107402312515),\n",
       "  ('ruraux', 0.008660134649110742),\n",
       "  ('zone rurale', 0.007548761552984495),\n",
       "  ('territoires ruraux', 0.006441067585941796),\n",
       "  ('territoires', 0.006375399381117906),\n",
       "  ('développement', 0.005912531449122851),\n",
       "  ('publics', 0.0058528362866182475),\n",
       "  ('services publics', 0.005715620680041491),\n",
       "  ('communes', 0.0054832442565232965),\n",
       "  ('service', 0.005253062942297333),\n",
       "  ('maintien', 0.005238862334625322),\n",
       "  ('habitants', 0.005121184498809916),\n",
       "  ('mobilité', 0.004857821096048764),\n",
       "  ('médecins', 0.004705418150541302),\n",
       "  ('une', 0.004574590753816158),\n",
       "  ('transport', 0.004439299778590802),\n",
       "  ('santé', 0.004332853276173868),\n",
       "  ('mots', 0.004250335178285122),\n",
       "  ('médecin', 0.004003935091041449),\n",
       "  ('poste', 0.003994551038297467),\n",
       "  ('moyens', 0.003940908182619302),\n",
       "  ('maintenir', 0.003901758646158358),\n",
       "  ('accès', 0.003829828520788036),\n",
       "  ('taxes', 0.003675364713087851),\n",
       "  ('jeunes', 0.0036488506036523602),\n",
       "  ('exonération', 0.003633626687370644),\n",
       "  ('travail', 0.0036111692755807037),\n",
       "  ('soutenir', 0.0035001383768082438),\n",
       "  ('transports', 0.003471965075504955),\n",
       "  ('dotation', 0.003465397964522305),\n",
       "  ('diminuer', 0.003453133462921934)],\n",
       " 67: [('fiscale', 0.02595629821768103),\n",
       "  ('niches', 0.024913809373338005),\n",
       "  ('fiscalité', 0.022695525283636102),\n",
       "  ('fiscales', 0.02258448266541424),\n",
       "  ('niches fiscales', 0.021226506323212085),\n",
       "  ('impôt', 0.012399660659995461),\n",
       "  ('impôts', 0.012089617895626322),\n",
       "  ('revenus', 0.011229379367738027),\n",
       "  ('revenu', 0.010858014613811121),\n",
       "  ('fiscale fiscalité', 0.010587360767948034),\n",
       "  ('isf', 0.010239761440665133),\n",
       "  ('veuves', 0.009596689990728456),\n",
       "  ('fiscal', 0.009504013420035007),\n",
       "  ('égalité fiscale', 0.00876991510840237),\n",
       "  ('conditions emploi rôle', 0.008534436526405502),\n",
       "  ('économie répartitions', 0.008459880331073324),\n",
       "  ('emploi conditions emploi', 0.008459880331073324),\n",
       "  ('économie répartitions revenus', 0.008459880331073324),\n",
       "  ('emploi rôle banques', 0.008459880331073324),\n",
       "  ('équité fiscale fiscalité', 0.008327796281537167),\n",
       "  ('achat consommation ménages', 0.008327796281537167),\n",
       "  ('fiscale fiscalité indirecte', 0.008327796281537167),\n",
       "  ('fiscalité équité fiscale', 0.008327796281537167),\n",
       "  ('indirecte directe taxation', 0.008268680108010717),\n",
       "  ('tabac héritage', 0.008268680108010717),\n",
       "  ('tabac héritage droits', 0.008268680108010717),\n",
       "  ('ménages accès emploi', 0.008268680108010717),\n",
       "  ('fiscalité indirecte directe', 0.008268680108010717),\n",
       "  ('essence alcools', 0.008268680108010717),\n",
       "  ('taxation essence alcools', 0.008268680108010717),\n",
       "  ('indirecte directe', 0.008268680108010717),\n",
       "  ('directe taxation essence', 0.008268680108010717),\n",
       "  ('essence alcools tabac', 0.008268680108010717),\n",
       "  ('ménages accès', 0.008268680108010717),\n",
       "  ('répartitions revenus', 0.008268680108010717),\n",
       "  ('accès emploi conditions', 0.008268680108010717),\n",
       "  ('alcools tabac héritage', 0.008268680108010717),\n",
       "  ('directe taxation', 0.008268680108010717),\n",
       "  ('répartitions revenus pouvoir', 0.008268680108010717),\n",
       "  ('consommation ménages accès', 0.008268680108010717)],\n",
       " 68: [('mettre place aujourd', 0.07898946345130428),\n",
       "  ('modalités intégration', 0.07887624756215629),\n",
       "  ('place aujourd', 0.07780936117842635),\n",
       "  ('place aujourd hui', 0.07780936117842635),\n",
       "  ('vous modalités intégration', 0.07749195190836686),\n",
       "  ('sont vous modalités', 0.07749195190836686),\n",
       "  ('justes mettre place', 0.07726434645957732),\n",
       "  ('justes mettre', 0.07726434645957732),\n",
       "  ('vous modalités', 0.0770419162235015),\n",
       "  ('aujourd hui société', 0.07590148830754487),\n",
       "  ('hui société', 0.07590148830754487),\n",
       "  ('modalités intégration efficaces', 0.07564690543435812),\n",
       "  ('efficaces justes mettre', 0.07564690543435812),\n",
       "  ('intégration efficaces', 0.07553516615515571),\n",
       "  ('efficaces justes', 0.07531553491868548),\n",
       "  ('intégration efficaces justes', 0.07402378956451053),\n",
       "  ('sont vous', 0.07048194826960766),\n",
       "  ('justes', 0.06256440111182052),\n",
       "  ('points démocratie citoyenneté', 0.060928031826240917),\n",
       "  ('points démocratie', 0.06081589322414957),\n",
       "  ('modalités', 0.06078732417031661),\n",
       "  ('démocratie citoyenneté souhaiteriez', 0.05947568545964595),\n",
       "  ('citoyenneté souhaiteriez', 0.05936009632146894),\n",
       "  ('citoyenneté souhaiteriez exprimer', 0.05778635433560946),\n",
       "  ('intégration', 0.05681228643699107),\n",
       "  ('efficaces', 0.05622851955301288),\n",
       "  ('33 sont', 0.053817899779151274),\n",
       "  ('sont', 0.05367153791674605),\n",
       "  ('34 il', 0.05210012169361061),\n",
       "  ('33 sont vous', 0.05196081731919543),\n",
       "  ('souhaiteriez exprimer', 0.04710244731832921),\n",
       "  ('souhaiteriez', 0.04438205962797798),\n",
       "  ('mettre place', 0.04395829109254363),\n",
       "  ('démocratie citoyenneté', 0.04160490455086818),\n",
       "  ('autres points démocratie', 0.037971366502488973),\n",
       "  ('citoyenneté', 0.03772648322402139),\n",
       "  ('34', 0.03685637467375908),\n",
       "  ('34 il autres', 0.03621422832830045),\n",
       "  ('33', 0.03553665391382652),\n",
       "  ('aujourd hui', 0.03545993348528209)],\n",
       " 69: [('soumission', 0.02668490315341146),\n",
       "  ('soumis', 0.025720128104052893),\n",
       "  ('objet soumission', 0.020206024003376833),\n",
       "  ('utilisateur anonyme', 0.01967546822997213),\n",
       "  ('objet soumission formulaire', 0.019395907851610102),\n",
       "  ('hyeres', 0.019326355736576855),\n",
       "  ('soumis utilisateur anonyme', 0.0192576459001232),\n",
       "  ('soumission formulaire', 0.019218005321057652),\n",
       "  ('soumis utilisateur', 0.019114343100948714),\n",
       "  ('valeurs soumises', 0.019023217344805887),\n",
       "  ('les valeurs soumises', 0.01895287972133069),\n",
       "  ('valeurs soumises sont', 0.01886818777180583),\n",
       "  ('soumises sont', 0.01886818777180583),\n",
       "  ('les valeurs', 0.018590871496060295),\n",
       "  ('utilisateur', 0.01819307129587987),\n",
       "  ('débat national soumis', 0.01807691990813235),\n",
       "  ('national soumis', 0.017912232146095625),\n",
       "  ('session', 0.01740058344263533),\n",
       "  ('soumission formulaire grand', 0.017328206365171482),\n",
       "  ('soumission vus', 0.01715299718372516),\n",
       "  ('résultats soumission vus', 0.01715299718372516),\n",
       "  ('soumission vus ici', 0.01715299718372516),\n",
       "  ('vus ici', 0.01715299718372516),\n",
       "  ('résultats soumission', 0.01715299718372516),\n",
       "  ('soumises sont votre', 0.017125503070862226),\n",
       "  ('sont votre', 0.017125503070862226),\n",
       "  ('les résultats soumission', 0.01702275982134171),\n",
       "  ('les résultats', 0.016621974941828946),\n",
       "  ('dll session', 0.0164264308035807),\n",
       "  ('dll', 0.0164264308035807),\n",
       "  ('number', 0.01633373422269553),\n",
       "  ('soumises', 0.016318132943687242),\n",
       "  ('formulaire grand', 0.016075412852388875),\n",
       "  ('formulaire grand débat', 0.016075412852388875),\n",
       "  ('anonyme', 0.0160489580316012),\n",
       "  ('print', 0.01588991863229808),\n",
       "  ('print yes number', 0.01567041363170493),\n",
       "  ('print yes', 0.01567041363170493),\n",
       "  ('yes number', 0.015624788287170958),\n",
       "  ('vus', 0.015575040101953224)],\n",
       " 70: [('vous prêts payer', 0.08793631709962013),\n",
       "  ('seriez vous prêts', 0.08777301857986736),\n",
       "  ('vous prêts', 0.08750543658422341),\n",
       "  ('prêts payer', 0.08739996308285437),\n",
       "  ('seriez vous', 0.08166661324036183),\n",
       "  ('seriez', 0.08067057032599895),\n",
       "  ('prêts', 0.07489090943813048),\n",
       "  ('fiscalité', 0.0492323250334651),\n",
       "  ('prêts payer impôts', 0.049215669555633466),\n",
       "  ('impôts dépenses souhaiteriez', 0.04854092292041916),\n",
       "  ('dépenses souhaiteriez', 0.04854092292041916),\n",
       "  ('publique', 0.04775407956141185),\n",
       "  ('collectivité fiscalité écologique', 0.04764986937953535),\n",
       "  ('écologique fiscalité tabac', 0.047601150690573864),\n",
       "  ('encourager comportements bénéfiques', 0.047552802697171555),\n",
       "  ('fiscalité écologique fiscalité', 0.047552802697171555),\n",
       "  ('collectivité fiscalité', 0.047552802697171555),\n",
       "  ('comportements bénéfiques', 0.04750481980384171),\n",
       "  ('fiscalité tabac alcool', 0.04750481980384171),\n",
       "  ('encourager comportements', 0.04745719654084126),\n",
       "  ('publique domaines', 0.04743357301951871),\n",
       "  ('prêts payer impôt', 0.04732023629858583),\n",
       "  ('fiscalité tabac', 0.04731643164496706),\n",
       "  ('dépenses souhaiteriez exprimer', 0.04726433873941732),\n",
       "  ('autres points impôts', 0.047154039408407185),\n",
       "  ('domaines action publique', 0.047154039408407185),\n",
       "  ('points impôts dépenses', 0.0470996200383703),\n",
       "  ('publique seriez vous', 0.04704567618444181),\n",
       "  ('action publique seriez', 0.04704567618444181),\n",
       "  ('points impôts', 0.0469921996124189),\n",
       "  ('publique seriez', 0.0469391823001436),\n",
       "  ('domaines action', 0.0467828087314189),\n",
       "  ('quelle politique', 0.04656011455466434),\n",
       "  ('bénéfiques collectivité fiscalité', 0.04633613693233704),\n",
       "  ('publique domaines action', 0.046322649166385274),\n",
       "  ('comportements bénéfiques collectivité', 0.046288444540120065),\n",
       "  ('bénéfiques collectivité', 0.04619415119153809),\n",
       "  ('tabac alcool', 0.04554590266552066),\n",
       "  ('quelle politique publique', 0.04545049513976204),\n",
       "  ('impôt encourager comportements', 0.04535709481252319)],\n",
       " 71: [('services', 0.04229567982774654),\n",
       "  ('publics', 0.039894935118984856),\n",
       "  ('millions', 0.03423675345406995),\n",
       "  ('services publics', 0.03117836053727031),\n",
       "  ('administrations', 0.029089423546818705),\n",
       "  ('202 agents', 0.023413069759793417),\n",
       "  ('480 202 agents', 0.023413069759793417),\n",
       "  ('480 202', 0.023413069759793417),\n",
       "  ('202 agents publics', 0.022794090834567807),\n",
       "  ('480', 0.02279324478559572),\n",
       "  ('publics administrations', 0.022245396814537466),\n",
       "  ('202', 0.021794009034370766),\n",
       "  ('agents', 0.021585787405905898),\n",
       "  ('agents publics', 0.021527616402142197),\n",
       "  ('missions inspection', 0.01891876677021687),\n",
       "  ('20 millions patients', 0.01833379650699435),\n",
       "  ('millions patients', 0.01833379650699435),\n",
       "  ('39 millions objets', 0.018275130233687185),\n",
       "  ('missions inspection contrôle', 0.018275130233687185),\n",
       "  ('millions élèves', 0.018275130233687185),\n",
       "  ('élèves collégiens', 0.018275130233687185),\n",
       "  ('élèves collégiens lycéens', 0.018275130233687185),\n",
       "  ('millions élèves collégiens', 0.018275130233687185),\n",
       "  ('inspection contrôle', 0.018275130233687185),\n",
       "  ('pris charge jour', 0.018275130233687185),\n",
       "  ('millions objets', 0.018275130233687185),\n",
       "  ('publics travaillent', 0.018275130233687185),\n",
       "  ('agents publics travaillent', 0.018275130233687185),\n",
       "  ('ensemble missions inspection', 0.018275130233687185),\n",
       "  ('secours sdis', 0.018218071704653283),\n",
       "  ('poste jour', 0.018162535157857207),\n",
       "  ('ensemble missions', 0.018162535157857207),\n",
       "  ('débat', 0.01813683997472839),\n",
       "  ('charge jour', 0.018108441515585),\n",
       "  ('39 millions', 0.018055717707360166),\n",
       "  ('familiales pôle', 0.018004296076477463),\n",
       "  ('familiales pôle emploi', 0.018004296076477463),\n",
       "  ('public 20 millions', 0.01774647454176798),\n",
       "  ('millions objets acheminés', 0.017686695909790724),\n",
       "  ('objets acheminés', 0.017686695909790724)],\n",
       " 72: [('climat', 0.01497219642659696),\n",
       "  ('gaz serre', 0.01438376315455036),\n",
       "  ('serre', 0.01372302325106331),\n",
       "  ('émissions', 0.013212235032474798),\n",
       "  ('émissions gaz serre', 0.012845567893231777),\n",
       "  ('émissions gaz', 0.012825884952569463),\n",
       "  ('accord', 0.01266566789165828),\n",
       "  ('saint', 0.011820897669600108),\n",
       "  ('gaz', 0.011813397832051209),\n",
       "  ('hausse températures', 0.011796430275217987),\n",
       "  ('2017', 0.011676621464135714),\n",
       "  ('novembre 2017 accord', 0.011548761014864056),\n",
       "  ('épargnés conséquences', 0.011548761014864056),\n",
       "  ('accord juridiquement', 0.011548761014864056),\n",
       "  ('pays 197 compte', 0.011548761014864056),\n",
       "  ('catastrophes naturelles est', 0.011548761014864056),\n",
       "  ('engagements atteindre', 0.011548761014864056),\n",
       "  ('tragiques saint', 0.011548761014864056),\n",
       "  ('est contexte alarmant', 0.011548761014864056),\n",
       "  ('tragiques saint martin', 0.011548761014864056),\n",
       "  ('climat accord juridiquement', 0.011548761014864056),\n",
       "  ('climat accord', 0.011548761014864056),\n",
       "  ('enregistrée france', 0.011548761014864056),\n",
       "  ('enregistrée france est', 0.011548761014864056),\n",
       "  ('fin siècle entraînant', 0.011548761014864056),\n",
       "  ('siècle entraînant', 0.011548761014864056),\n",
       "  ('contexte alarmant', 0.011548761014864056),\n",
       "  ('critique hausse température', 0.011548761014864056),\n",
       "  ('critique hausse', 0.011548761014864056),\n",
       "  ('contexte alarmant 196', 0.011548761014864056),\n",
       "  ('hausse température mondiale', 0.011548761014864056),\n",
       "  ('siècle entraînant manière', 0.011548761014864056),\n",
       "  ('contraignant engage', 0.011548761014864056),\n",
       "  ('limiter hausse températures', 0.011548761014864056),\n",
       "  ('2017 accord paris', 0.011548761014864056),\n",
       "  ('196 pays', 0.011548761014864056),\n",
       "  ('196 pays 197', 0.011548761014864056),\n",
       "  ('2017 accord', 0.011548761014864056),\n",
       "  ('197 compte', 0.011548761014864056),\n",
       "  ('entraînant manière', 0.011548761014864056)],\n",
       " 73: [('femmes', 0.029296919467284414),\n",
       "  ('femme', 0.02193282468636237),\n",
       "  ('hommes', 0.01802761826369738),\n",
       "  ('hommes femmes', 0.014426797218734464),\n",
       "  ('homme', 0.01383620654311454),\n",
       "  ('égalité', 0.013105886991788404),\n",
       "  ('homme femme', 0.010031734866274627),\n",
       "  ('foyer', 0.0092700566283774),\n",
       "  ('enfants', 0.008305467811401438),\n",
       "  ('mariage', 0.008001538189363798),\n",
       "  ('respect', 0.007990374951025345),\n",
       "  ('égalité hommes femmes', 0.007403743400403493),\n",
       "  ('égalité hommes', 0.007293374148917864),\n",
       "  ('société', 0.006571760731487864),\n",
       "  ('revenu', 0.006565441997055739),\n",
       "  ('est', 0.006561673928584931),\n",
       "  ('veux', 0.005930121047145028),\n",
       "  ('salaires hommes femmes', 0.005444267151963616),\n",
       "  ('base', 0.00536519648978491),\n",
       "  ('vie', 0.005339129321996188),\n",
       "  ('salaires hommes', 0.00527159453063205),\n",
       "  ('revenu base', 0.0052358709356411124),\n",
       "  ('humanité', 0.005062264759433711),\n",
       "  ('veux on', 0.004877294350117088),\n",
       "  ('travail', 0.004746766150205325),\n",
       "  ('femmes foyer', 0.004735112451338279),\n",
       "  ('madame', 0.004712687540214418),\n",
       "  ('un', 0.004621097728035454),\n",
       "  ('qu', 0.00452060464557486),\n",
       "  ('couple', 0.004453310982715382),\n",
       "  ('droit', 0.004430392432800443),\n",
       "  ('inégalités', 0.004398427205185433),\n",
       "  ('ans', 0.004092643449723083),\n",
       "  ('femme homme', 0.004071560848615639),\n",
       "  ('égal', 0.004064492149150707),\n",
       "  ('culture les français', 0.004029152623278036),\n",
       "  ('migrations humaines matérielles', 0.004029152623278036),\n",
       "  ('gender', 0.004029152623278036),\n",
       "  ('question source savoir', 0.004029152623278036),\n",
       "  ('les français culture', 0.004029152623278036)],\n",
       " 74: [('éoliennes', 0.02298530675255718),\n",
       "  ('éolien', 0.016722504247079502),\n",
       "  ('éoliens', 0.008198637741366017),\n",
       "  ('c02', 0.0077855839104668655),\n",
       "  ('projets éoliens', 0.007306590324446915),\n",
       "  ('projet', 0.007134870681800207),\n",
       "  ('projets', 0.006257809951023021),\n",
       "  ('aérogénérateurs', 0.00613598863629247),\n",
       "  ('terrestre', 0.00612518753351867),\n",
       "  ('production', 0.005798303720238963),\n",
       "  ('monsieur', 0.005483065493184351),\n",
       "  ('implantation', 0.00546629731573516),\n",
       "  ('éolienne', 0.00527897091403679),\n",
       "  ('projet éolien', 0.005202698372252122),\n",
       "  ('éolien terrestre', 0.005086287353225627),\n",
       "  ('énergétique', 0.005036747032509301),\n",
       "  ('double', 0.00489695254242689),\n",
       "  ('2018', 0.004852480396984126),\n",
       "  ('nombre éoliennes', 0.004532188977874033),\n",
       "  ('environnement', 0.004428446711458408),\n",
       "  ('gaz', 0.004387878033743463),\n",
       "  ('serre', 0.004147930343780694),\n",
       "  ('zones', 0.004136595575169201),\n",
       "  ('nuisances', 0.004066826224302903),\n",
       "  ('saint', 0.0040394106186972065),\n",
       "  ('industrielles', 0.0039987847799537015),\n",
       "  ('fixer', 0.00399526412027256),\n",
       "  ('fixer distance', 0.003987228689453606),\n",
       "  ('000', 0.003939599469533905),\n",
       "  ('distance', 0.0039052121799872087),\n",
       "  ('paysages', 0.0039030699281710633),\n",
       "  ('gard', 0.003902659605094713),\n",
       "  ('production c02', 0.0038395477585682312),\n",
       "  ('une', 0.003788999997562959),\n",
       "  ('gaz serre', 0.0036400879560641187),\n",
       "  ('population', 0.003567971698488738),\n",
       "  ('forêt', 0.003539207302750302),\n",
       "  ('centrale', 0.0035107415701473733),\n",
       "  ('promoteurs', 0.0034276801021536213),\n",
       "  ('développement éolien', 0.003378744118518389)],\n",
       " 75: [('doléances doléances', 0.45043878743716737),\n",
       "  ('doléances', 0.41780226843153606),\n",
       "  ('thème doléance', 0.23884708897933024),\n",
       "  ('graphique doléances', 0.23884708897933024),\n",
       "  ('doléances doléances doléances', 0.23884708897933024),\n",
       "  ('graphique', 0.23767388509928833),\n",
       "  ('thème doléance thème', 0.19504459125720597),\n",
       "  ('doléance thème', 0.19504459125720597),\n",
       "  ('doléances incompréhensibles', 0.19504459125720597),\n",
       "  ('doléance thème doléance', 0.19504459125720597),\n",
       "  ('doléance', 0.16840774056566768),\n",
       "  ('doléances graphique', 0.15011914711313223),\n",
       "  ('incompréhensibles', 0.13950341150613998),\n",
       "  ('thème', 0.12226683205815417),\n",
       "  ('doléances incompréhensibles doléances', 0.10368352750568814),\n",
       "  ('incompréhensibles doléances', 0.10368352750568814),\n",
       "  ('doléances réforme retraites', 0.054922398789903244),\n",
       "  ('graphique doléances élysée', 0.054922398789903244),\n",
       "  ('graphique doléances graphique', 0.054922398789903244),\n",
       "  ('graphique doléances doléances', 0.054922398789903244),\n",
       "  ('listet', 0.054922398789903244),\n",
       "  ('listet non', 0.054922398789903244),\n",
       "  ('incompréhensibles suite doléances', 0.054922398789903244),\n",
       "  ('respectées doléances phrase', 0.054922398789903244),\n",
       "  ('graphique graphique doléances', 0.054922398789903244),\n",
       "  ('graphique doléances incompréhensibles', 0.054922398789903244),\n",
       "  ('élysée graphique doléances', 0.054922398789903244),\n",
       "  ('doléances suite doléance', 0.054922398789903244),\n",
       "  ('graphe doléances doléances', 0.054922398789903244),\n",
       "  ('graphe doléances', 0.054922398789903244),\n",
       "  ('élysée graphique', 0.054922398789903244),\n",
       "  ('fiche doléances graphique', 0.054922398789903244),\n",
       "  ('réforme retraites doléances', 0.054922398789903244),\n",
       "  ('scannées doléances', 0.054922398789903244),\n",
       "  ('exhaustive doléances fiche', 0.054922398789903244),\n",
       "  ('scannées doléances doléances', 0.054922398789903244),\n",
       "  ('doléances élysée graphique', 0.054922398789903244),\n",
       "  ('doléances élysée', 0.054922398789903244),\n",
       "  ('doléances visibles doléances', 0.054922398789903244),\n",
       "  ('respectées doléances', 0.054922398789903244)],\n",
       " 76: [('bnri', 0.047634519076612404),\n",
       "  ('retard', 0.045769649888606066),\n",
       "  ('un calendrier', 0.038729000786113466),\n",
       "  ('réclamations', 0.0360330635557533),\n",
       "  ('calendrier', 0.034397910908007506),\n",
       "  ('équipe', 0.030585932059939227),\n",
       "  ('cas', 0.02723813409429637),\n",
       "  ('traitement', 0.025251086174015096),\n",
       "  ('gouvernement', 0.02487059483260163),\n",
       "  ('résultats', 0.024557729690029072),\n",
       "  ('dégât bénéfice', 0.022362921900835518),\n",
       "  ('casser gouvernement', 0.02224225766307607),\n",
       "  ('dégât bénéfice tous', 0.021850415908236213),\n",
       "  ('casser gouvernement démocratie', 0.021850415908236213),\n",
       "  ('gouvernement démocratie représentative', 0.021850415908236213),\n",
       "  ('bénéfice tous', 0.021615147963362676),\n",
       "  ('mairies veiller', 0.021559601153560176),\n",
       "  ('réels gens organisation', 0.021559601153560176),\n",
       "  ('mairies veiller permanence', 0.021559601153560176),\n",
       "  ('réels gens', 0.021559601153560176),\n",
       "  ('réclamations défini', 0.021559601153560176),\n",
       "  ('gens organisation', 0.021559601153560176),\n",
       "  ('effet sorte grande', 0.021559601153560176),\n",
       "  ('effet sorte', 0.021559601153560176),\n",
       "  ('ordre traitement', 0.021559601153560176),\n",
       "  ('gens organisation ordre', 0.021559601153560176),\n",
       "  ('mesure fonctionnement', 0.021559601153560176),\n",
       "  ('ordre traitement réclamations', 0.021559601153560176),\n",
       "  ('organisation ordre', 0.021559601153560176),\n",
       "  ('organisation ordre traitement', 0.021559601153560176),\n",
       "  ('vigilance constante', 0.021559601153560176),\n",
       "  ('fonctionnement vigilance constante', 0.021559601153560176),\n",
       "  ('par exemple jour', 0.021559601153560176),\n",
       "  ('créée effet sorte', 0.021559601153560176),\n",
       "  ('créée effet', 0.021559601153560176),\n",
       "  ('traitement réclamations défini', 0.021559601153560176),\n",
       "  ('traitement équipe', 0.021559601153560176),\n",
       "  ('points mairies', 0.021559601153560176),\n",
       "  ('points mairies veiller', 0.021559601153560176),\n",
       "  ('ronds points mairies', 0.021559601153560176)],\n",
       " 77: [('questionnaire', 1.4350827601532157),\n",
       "  ('questionnaire questionnaire', 1.2124618833390863),\n",
       "  ('questionnaire questionnaire questionnaire', 1.0826470150874665),\n",
       "  ('suite questionnaire', 0.4826347662576311),\n",
       "  ('questionnaire suite', 0.4412427232371553),\n",
       "  ('questionnaire suite questionnaire', 0.39684979737509496),\n",
       "  ('suite', 0.3550107069052804),\n",
       "  ('suite questionnaire suite', 0.3290130140291676),\n",
       "  ('suite suite', 0.2056808405492202),\n",
       "  ('incompréhensible', 0.14962804212346387),\n",
       "  ('suite suite suite', 0.1399494661988263),\n",
       "  ('suite questionnaire questionnaire', 0.1399494661988263),\n",
       "  ('incompréhensible questionnaire', 0.11428394018976912),\n",
       "  ('suite incompréhensible', 0.10706383610637533),\n",
       "  ('questionnaire questionnaire suite', 0.08796043776160091),\n",
       "  ('questionnaire incompréhensible', 0.08796043776160091),\n",
       "  ('suite suite questionnaire', 0.08796043776160091),\n",
       "  ('incompréhensible suite incompréhensible', 0.08571295514232684),\n",
       "  ('incompréhensible suite', 0.08396967971929578),\n",
       "  ('incompréhensible questionnaire questionnaire', 0.060752066897864145),\n",
       "  ('questionnaire incompréhensible questionnaire', 0.060752066897864145),\n",
       "  ('questionnaire questionnaire incompréhensible', 0.060752066897864145),\n",
       "  ('suite incompréhensible suite', 0.05864029184106727),\n",
       "  ('incompréhensible incompréhensible questionnaire', 0.03218109304095893),\n",
       "  ('incompréhensible questionnaire lsuite', 0.03218109304095893),\n",
       "  ('questionnaire illisible', 0.03218109304095893),\n",
       "  ('questionnaire incompréhensive', 0.03218109304095893),\n",
       "  ('incompréhensible questionnaire suite', 0.03218109304095893),\n",
       "  ('questionnaire incompréhensible suite', 0.03218109304095893),\n",
       "  ('suite questionnaire incompréhensible', 0.03218109304095893),\n",
       "  ('questionnaire incompréhensive non', 0.03218109304095893),\n",
       "  ('questionnaire lsuite', 0.03218109304095893),\n",
       "  ('questionnaire lsuite questionnaire', 0.03218109304095893),\n",
       "  ('questionnaire questionnaire incompréhensive', 0.03218109304095893),\n",
       "  ('suite questionnaire illisible', 0.03218109304095893),\n",
       "  ('questionnaire suite incompréhensible', 0.03218109304095893),\n",
       "  ('suite incompréhensible questionnaire', 0.03218109304095893),\n",
       "  ('questionnaire suite suite', 0.03218109304095893),\n",
       "  ('suite incompréhensible incompréhensible', 0.03218109304095893),\n",
       "  ('incompréhensible incompréhensible', 0.03218109304095893)],\n",
       " 78: [('cannabis', 0.02568825871313902),\n",
       "  ('légalisation cannabis', 0.01194420344792087),\n",
       "  ('légalisation', 0.010955681140475796),\n",
       "  ('orateur', 0.0059219222554214215),\n",
       "  ('légaliser', 0.005082051857498633),\n",
       "  ('cahiers', 0.0046556237634780085),\n",
       "  ('adressés pouvoirs publics', 0.004617502929294683),\n",
       "  ('adressés pouvoirs', 0.004617502929294683),\n",
       "  ('pouvoirs publics république', 0.004502219160520093),\n",
       "  ('publics république française', 0.004492323289180557),\n",
       "  ('publics république', 0.00448258973618111),\n",
       "  ('adressés', 0.0043808159266057675),\n",
       "  ('cahiers doléances', 0.00422499458933529),\n",
       "  ('légaliser cannabis', 0.0041938864315999025),\n",
       "  ('euthanasie', 0.00407171078192686),\n",
       "  ('doléances adressés pouvoirs', 0.0040510282786964755),\n",
       "  ('doléances adressés', 0.004040315063132847),\n",
       "  ('cahiers doléances adressés', 0.004040315063132847),\n",
       "  ('propose', 0.003912679626066493),\n",
       "  ('ans', 0.003910201162330413),\n",
       "  ('est', 0.003895839457116322),\n",
       "  ('doléances', 0.0038279801683700552),\n",
       "  ('état', 0.003581105475935155),\n",
       "  ('ordre', 0.0035215670068119436),\n",
       "  ('république française', 0.0034949743140391468),\n",
       "  ('dépénalisation', 0.003494905359666585),\n",
       "  ('demande', 0.00349406329061276),\n",
       "  ('république', 0.0033762809828172726),\n",
       "  ('suppression', 0.0033673812234585117),\n",
       "  ('république française page', 0.0032587089205369677),\n",
       "  ('française page', 0.0032587089205369677),\n",
       "  ('2019 q3', 0.003227942883730709),\n",
       "  ('2019 q3 demande', 0.003227942883730709),\n",
       "  ('française', 0.0031986150106830856),\n",
       "  ('vente', 0.0031966394136394636),\n",
       "  ('qu', 0.003193037587389302),\n",
       "  ('ouverture maisons closes', 0.0031924315746847437),\n",
       "  ('ville vernouillet', 0.0031924315746847437),\n",
       "  ('droit', 0.0030953036906594764),\n",
       "  ('ouverture maisons', 0.003092494352632574)],\n",
       " 79: [('réduction', 0.021102932570539523),\n",
       "  ('cumul', 0.015929015141858),\n",
       "  ('cmu', 0.015273132295605446),\n",
       "  ('réduction moitié députés', 0.011713040366005662),\n",
       "  ('protections privilèges', 0.011458795435991313),\n",
       "  ('mandats', 0.011152945980097443),\n",
       "  ('fin protections', 0.011093779654192256),\n",
       "  ('réduction moitié', 0.01083766256697068),\n",
       "  ('sénat réduction moitié', 0.010809529087237464),\n",
       "  ('fin protections privilèges', 0.010694515116787779),\n",
       "  ('aide médicale état', 0.01057469770864954),\n",
       "  ('élus collectivités', 0.010526378662429503),\n",
       "  ('médicale état', 0.01051286448077539),\n",
       "  ('collectivités territoriales conseillers', 0.010469283495831537),\n",
       "  ('territoriales conseillers', 0.01044803854826594),\n",
       "  ('non réélu', 0.01043258219800184),\n",
       "  ('élus collectivités territoriales', 0.010366459846667606),\n",
       "  ('effectifs sénat réduction', 0.010294789606892821),\n",
       "  ('effective cumul mandats', 0.010185252492178836),\n",
       "  ('effective cumul', 0.010185252492178836),\n",
       "  ('protections', 0.010172791203482455),\n",
       "  ('dernier', 0.01015155655129507),\n",
       "  ('effectifs sénat', 0.010132720604955901),\n",
       "  ('pointeuse assemblée nationale', 0.010117629610822744),\n",
       "  ('pointeuse', 0.010056374223681785),\n",
       "  ('territoriales conseillers régionaux', 0.010056374223681785),\n",
       "  ('réélu fin protections', 0.010023684473983758),\n",
       "  ('pointeuse assemblée', 0.00999326593452907),\n",
       "  ('non réélu fin', 0.009936290901118024),\n",
       "  ('fonction présence', 0.009901314237278623),\n",
       "  ('réélu fin', 0.009855377786497886),\n",
       "  ('sénat réduction', 0.00984087967603553),\n",
       "  ('diminution drastique effectifs', 0.009817064370482072),\n",
       "  ('conseillers régionaux', 0.009731163995489175),\n",
       "  ('moitié députés', 0.009694774781673708),\n",
       "  ('suppression aide médicale', 0.009684975785595046),\n",
       "  ('aide médicale', 0.009677377793876419),\n",
       "  ('régionaux pointeuse assemblée', 0.009634244721650762),\n",
       "  ('régionaux pointeuse', 0.009634244721650762),\n",
       "  ('interdiction réelle', 0.009580991519529675)],\n",
       " 80: [('observation', 0.03988407055409467),\n",
       "  ('sanchez pina fanny', 0.032117520700347825),\n",
       "  ('pina', 0.032117520700347825),\n",
       "  ('sanchez pina', 0.032117520700347825),\n",
       "  ('pina fanny', 0.032117520700347825),\n",
       "  ('registre dématérialisé', 0.03161568443940489),\n",
       "  ('fanny', 0.03153289850924407),\n",
       "  ('sanchez', 0.031435309100468316),\n",
       "  ('larios sanchez pina', 0.03122647037882865),\n",
       "  ('larios', 0.03116974509056083),\n",
       "  ('larios sanchez', 0.03116974509056083),\n",
       "  ('dématérialisé', 0.030804343373507577),\n",
       "  ('déposée', 0.028900699828448253),\n",
       "  ('registre', 0.023602022318443567),\n",
       "  ('democratie active', 0.02029140736029868),\n",
       "  ('active fr', 0.02029140736029868),\n",
       "  ('envoyé', 0.019890554375177467),\n",
       "  ('neuilly', 0.019792465087213138),\n",
       "  ('neuilly sur seine', 0.019278342145832548),\n",
       "  ('neuilly sur', 0.019066422959971636),\n",
       "  ('democratie active fr', 0.01885371505755356),\n",
       "  ('sur seine', 0.018340082277627907),\n",
       "  ('local débat', 0.017400222903712948),\n",
       "  ('local débat national', 0.017400222903712948),\n",
       "  ('enquête publique dialogue', 0.017400222903712948),\n",
       "  ('ville neuilly sur', 0.017400222903712948),\n",
       "  ('dialogue local débat', 0.017400222903712948),\n",
       "  ('seine observation', 0.017400222903712948),\n",
       "  ('dialogue local', 0.017400222903712948),\n",
       "  ('dématérialisé enquête publique', 0.017400222903712948),\n",
       "  ('dématérialisé enquête', 0.017400222903712948),\n",
       "  ('sur seine observation', 0.017400222903712948),\n",
       "  ('publique dialogue local', 0.017400222903712948),\n",
       "  ('publique dialogue', 0.017400222903712948),\n",
       "  ('été envoyé automatiquement', 0.017400222903712948),\n",
       "  ('merci répondre adresse', 0.017400222903712948),\n",
       "  ('envoyé automatiquement', 0.017400222903712948),\n",
       "  ('registre dématérialisé enquête', 0.017400222903712948),\n",
       "  ('observation déposée', 0.017400222903712948),\n",
       "  ('national ville neuilly', 0.017400222903712948)],\n",
       " 81: [('tableau', 0.13052463364591063),\n",
       "  ('isf action', 0.11586548986174013),\n",
       "  ('sat isf action', 0.1154516957093682),\n",
       "  ('sat isf', 0.08958074093705848),\n",
       "  ('sat', 0.08947070188074004),\n",
       "  ('action', 0.07905162504090502),\n",
       "  ('avez', 0.07486326178574912),\n",
       "  ('dessous pouvez vous', 0.07465892527180534),\n",
       "  ('mentionnés tableau', 0.07452997451776394),\n",
       "  ('vie mentionnés', 0.07452997451776394),\n",
       "  ('vie mentionnés tableau', 0.07452997451776394),\n",
       "  ('dessous pouvez', 0.07440280299793549),\n",
       "  ('difficulté administration concernée', 0.07403148932124116),\n",
       "  ('précisant point', 0.07391096955824822),\n",
       "  ('action difficulté administration', 0.07391096955824822),\n",
       "  ('pouvez vous indiquer', 0.0737920054434647),\n",
       "  ('isf action difficulté', 0.0737920054434647),\n",
       "  ('vous indiquer', 0.0737920054434647),\n",
       "  ('action difficulté', 0.0737920054434647),\n",
       "  ('difficulté administration', 0.0737920054434647),\n",
       "  ('difficultés avez', 0.073674557340908),\n",
       "  ('évènements vie mentionnés', 0.07285814698836798),\n",
       "  ('évènements vie', 0.07267788449381517),\n",
       "  ('avez été concerné', 0.07224656969298228),\n",
       "  ('mentionnés tableau ci', 0.07211864481810859),\n",
       "  ('ci dessous pouvez', 0.07186818971355809),\n",
       "  ('mentionnés', 0.07178219813996452),\n",
       "  ('été concerné', 0.07174556003372351),\n",
       "  ('précisant point sat', 0.07162459935638195),\n",
       "  ('avez rencontrés', 0.07150526287404695),\n",
       "  ('rencontrés précisant point', 0.07150526287404695),\n",
       "  ('avez rencontrés précisant', 0.07150526287404695),\n",
       "  ('difficultés avez rencontrés', 0.07150526287404695),\n",
       "  ('action difficultés avez', 0.07150526287404695),\n",
       "  ('rencontrés précisant', 0.07127129207402508),\n",
       "  ('isf action difficultés', 0.07127129207402508),\n",
       "  ('tableau ci dessous', 0.07127129207402508),\n",
       "  ('action difficultés', 0.07127129207402508),\n",
       "  ('éléments sat isf', 0.07127129207402508),\n",
       "  ('éléments sat', 0.07127129207402508)],\n",
       " 82: [('laïcité', 0.020526905545304695),\n",
       "  ('est', 0.018837800516793447),\n",
       "  ('nation', 0.01813476484040976),\n",
       "  ('avenir', 0.016927068173193206),\n",
       "  ('proposez vous', 0.013997037283379688),\n",
       "  ('proposez', 0.013681164790796728),\n",
       "  ('garantir', 0.01363807963784518),\n",
       "  ('asile', 0.012976556871782806),\n",
       "  ('intégration', 0.012545576599035532),\n",
       "  ('répondre', 0.011985951965300244),\n",
       "  ('parlement', 0.011859705020061279),\n",
       "  ('qu elle', 0.01154844677457347),\n",
       "  ('vous', 0.011521240069528215),\n",
       "  ('france sujet importants', 0.011497991152048644),\n",
       "  ('elle vivre choix', 0.01144638366037971),\n",
       "  ('débats laïcité', 0.011372450975160998),\n",
       "  ('vivre choix', 0.011348669336411965),\n",
       "  ('qu elle vivre', 0.011348669336411965),\n",
       "  ('sujet importants', 0.011325294341799593),\n",
       "  ('elle vivre', 0.011302312321630564),\n",
       "  ('valeur primordiale', 0.011235597318292599),\n",
       "  ('france sujet', 0.011192863477903317),\n",
       "  ('laïcité france sujet', 0.01117899042282844),\n",
       "  ('chers', 0.011155822958142821),\n",
       "  ('puissent vivre ensemble', 0.011127088211659978),\n",
       "  ('viennent invite', 0.01110188119817139),\n",
       "  ('philosophiques synonyme', 0.01110188119817139),\n",
       "  ('viennent invite débattre', 0.01110188119817139),\n",
       "  ('philosophiques synonyme liberté', 0.01110188119817139),\n",
       "  ('question laïcité france', 0.01110188119817139),\n",
       "  ('semaines viennent invite', 0.01110188119817139),\n",
       "  ('débats laïcité valeur', 0.01110188119817139),\n",
       "  ('semaines viennent', 0.011077145477786815),\n",
       "  ('liberté', 0.011055264830614508),\n",
       "  ('valeur primordiale puissent', 0.011052863753862201),\n",
       "  ('primordiale puissent vivre', 0.011052863753862201),\n",
       "  ('importants débats', 0.011052863753862201),\n",
       "  ('importants débats laïcité', 0.011052863753862201),\n",
       "  ('harmonie convictions', 0.011052863753862201),\n",
       "  ('convictions différentes', 0.011052863753862201)],\n",
       " 83: [('montivilliers', 0.08830165713646833),\n",
       "  ('ville montivilliers', 0.06213060019986314),\n",
       "  ('données', 0.05005957654654499),\n",
       "  ('ville', 0.03280116321653679),\n",
       "  ('débat national données', 0.02637273026687352),\n",
       "  ('national données', 0.026303615570657767),\n",
       "  ('cadre', 0.02599261116166443),\n",
       "  ('recueil', 0.02395118638890592),\n",
       "  ('76290', 0.023568333465044902),\n",
       "  ('données personnelles', 0.022791720905068324),\n",
       "  ('76290 montivilliers', 0.022556219550998825),\n",
       "  ('grand débat national', 0.02252749971343754),\n",
       "  ('débat national', 0.02198996416381134),\n",
       "  ('montivilliers dpo', 0.02153815867236805),\n",
       "  ('dpo', 0.02140220760766634),\n",
       "  ('grand débat', 0.02004186530199225),\n",
       "  ('personnelles', 0.019459909155007768),\n",
       "  ('national', 0.01893669545955916),\n",
       "  ('la', 0.01833161603472719),\n",
       "  ('débat', 0.01753901594259386),\n",
       "  ('grand', 0.017357143416203574),\n",
       "  ('registre recueil doléances', 0.015837903005252493),\n",
       "  ('registre recueil', 0.015837903005252493),\n",
       "  ('doléances', 0.01505193953911784),\n",
       "  ('thème', 0.01461663051030786),\n",
       "  ('recueil doléances', 0.014302690580949535),\n",
       "  ('dpo place françois', 0.014252301822372998),\n",
       "  ('ville montivilliers informe', 0.014252301822372998),\n",
       "  ('ville montivilliers ville', 0.014252301822372998),\n",
       "  ('articles règlement général', 0.014252301822372998),\n",
       "  ('ville montivilliers ensuite', 0.014252301822372998),\n",
       "  ('montivilliers informe recueil', 0.014252301822372998),\n",
       "  ('services état organisateurs', 0.014252301822372998),\n",
       "  ('personnelles cadre contexte', 0.014252301822372998),\n",
       "  ('montivilliers ville', 0.014252301822372998),\n",
       "  ('montivilliers informe', 0.014252301822372998),\n",
       "  ('personnelles document', 0.014252301822372998),\n",
       "  ('ville montivilliers dpo', 0.014252301822372998),\n",
       "  ('dpo place', 0.014252301822372998),\n",
       "  ('des données', 0.014252301822372998)]}"
      ]
     },
     "execution_count": 33,
     "metadata": {},
     "output_type": "execute_result"
    }
   ],
   "source": [
    "# affiche tous les topics et leurs mots + scores\n",
    "topic_model.get_topics()"
   ]
  },
  {
   "cell_type": "code",
   "execution_count": null,
   "metadata": {},
   "outputs": [],
   "source": [
    "fig = topic_model.visualize_topics()\n",
    "fig.show()"
   ]
  },
  {
   "cell_type": "code",
   "execution_count": 53,
   "metadata": {},
   "outputs": [],
   "source": [
    "fig.write_html(\"intertopic_distancemap_BERTopics.html\")"
   ]
  },
  {
   "cell_type": "code",
   "execution_count": 59,
   "metadata": {},
   "outputs": [],
   "source": [
    "first_100_topics = list(range(100))"
   ]
  },
  {
   "cell_type": "code",
   "execution_count": 27,
   "metadata": {},
   "outputs": [
    {
     "name": "stderr",
     "output_type": "stream",
     "text": [
      "100%|██████████| 140/140 [00:58<00:00,  2.38it/s]\n"
     ]
    }
   ],
   "source": [
    "hierarchical_topics = topic_model.hierarchical_topics(text_list)\n"
   ]
  },
  {
   "cell_type": "code",
   "execution_count": 28,
   "metadata": {},
   "outputs": [],
   "source": [
    "hierarchie = topic_model.visualize_hierarchy()"
   ]
  },
  {
   "cell_type": "code",
   "execution_count": 29,
   "metadata": {},
   "outputs": [
    {
     "data": {
      "application/vnd.plotly.v1+json": {
       "config": {
        "plotlyServerURL": "https://plot.ly"
       },
       "data": [
        {
         "hoverinfo": "text",
         "marker": {
          "color": "rgb(61,153,112)"
         },
         "mode": "lines",
         "type": "scatter",
         "x": [
          0,
          0.8927529007804585,
          0.8927529007804585,
          0
         ],
         "xaxis": "x",
         "y": [
          -15,
          -15,
          -25,
          -25
         ],
         "yaxis": "y"
        },
        {
         "hoverinfo": "text",
         "marker": {
          "color": "rgb(0,116,217)"
         },
         "mode": "lines",
         "type": "scatter",
         "x": [
          0,
          1.1249964209735936,
          1.1249964209735936,
          0.8927529007804585
         ],
         "xaxis": "x",
         "y": [
          -5,
          -5,
          -20,
          -20
         ],
         "yaxis": "y"
        },
        {
         "hoverinfo": "text",
         "marker": {
          "color": "rgb(255,65,54)"
         },
         "mode": "lines",
         "type": "scatter",
         "x": [
          0,
          0.9501907568252437,
          0.9501907568252437,
          0
         ],
         "xaxis": "x",
         "y": [
          -35,
          -35,
          -45,
          -45
         ],
         "yaxis": "y"
        },
        {
         "hoverinfo": "text",
         "marker": {
          "color": "rgb(0,116,217)"
         },
         "mode": "lines",
         "type": "scatter",
         "x": [
          0,
          1.2080156988381119,
          1.2080156988381119,
          0
         ],
         "xaxis": "x",
         "y": [
          -65,
          -65,
          -75,
          -75
         ],
         "yaxis": "y"
        },
        {
         "hoverinfo": "text",
         "marker": {
          "color": "rgb(0,116,217)"
         },
         "mode": "lines",
         "type": "scatter",
         "x": [
          0,
          1.2445244026073707,
          1.2445244026073707,
          1.2080156988381119
         ],
         "xaxis": "x",
         "y": [
          -55,
          -55,
          -70,
          -70
         ],
         "yaxis": "y"
        },
        {
         "hoverinfo": "text",
         "marker": {
          "color": "rgb(0,116,217)"
         },
         "mode": "lines",
         "type": "scatter",
         "x": [
          0,
          1.0678325304563936,
          1.0678325304563936,
          0
         ],
         "xaxis": "x",
         "y": [
          -95,
          -95,
          -105,
          -105
         ],
         "yaxis": "y"
        },
        {
         "hoverinfo": "text",
         "marker": {
          "color": "rgb(0,116,217)"
         },
         "mode": "lines",
         "type": "scatter",
         "x": [
          0,
          1.3073991153357503,
          1.3073991153357503,
          1.0678325304563936
         ],
         "xaxis": "x",
         "y": [
          -85,
          -85,
          -100,
          -100
         ],
         "yaxis": "y"
        },
        {
         "hoverinfo": "text",
         "marker": {
          "color": "rgb(0,116,217)"
         },
         "mode": "lines",
         "type": "scatter",
         "x": [
          1.2445244026073707,
          1.625277366307442,
          1.625277366307442,
          1.3073991153357503
         ],
         "xaxis": "x",
         "y": [
          -62.5,
          -62.5,
          -92.5,
          -92.5
         ],
         "yaxis": "y"
        },
        {
         "hoverinfo": "text",
         "marker": {
          "color": "rgb(0,116,217)"
         },
         "mode": "lines",
         "type": "scatter",
         "x": [
          0.9501907568252437,
          1.7482112970466936,
          1.7482112970466936,
          1.625277366307442
         ],
         "xaxis": "x",
         "y": [
          -40,
          -40,
          -77.5,
          -77.5
         ],
         "yaxis": "y"
        },
        {
         "hoverinfo": "text",
         "marker": {
          "color": "rgb(0,116,217)"
         },
         "mode": "lines",
         "type": "scatter",
         "x": [
          0,
          1.071607658555144,
          1.071607658555144,
          0
         ],
         "xaxis": "x",
         "y": [
          -115,
          -115,
          -125,
          -125
         ],
         "yaxis": "y"
        },
        {
         "hoverinfo": "text",
         "marker": {
          "color": "rgb(0,116,217)"
         },
         "mode": "lines",
         "type": "scatter",
         "x": [
          0,
          1.1680455946971329,
          1.1680455946971329,
          0
         ],
         "xaxis": "x",
         "y": [
          -135,
          -135,
          -145,
          -145
         ],
         "yaxis": "y"
        },
        {
         "hoverinfo": "text",
         "marker": {
          "color": "rgb(0,116,217)"
         },
         "mode": "lines",
         "type": "scatter",
         "x": [
          1.071607658555144,
          1.2434923825296174,
          1.2434923825296174,
          1.1680455946971329
         ],
         "xaxis": "x",
         "y": [
          -120,
          -120,
          -140,
          -140
         ],
         "yaxis": "y"
        },
        {
         "hoverinfo": "text",
         "marker": {
          "color": "rgb(0,116,217)"
         },
         "mode": "lines",
         "type": "scatter",
         "x": [
          1.7482112970466936,
          1.8713483658528796,
          1.8713483658528796,
          1.2434923825296174
         ],
         "xaxis": "x",
         "y": [
          -58.75,
          -58.75,
          -130,
          -130
         ],
         "yaxis": "y"
        },
        {
         "hoverinfo": "text",
         "marker": {
          "color": "rgb(0,116,217)"
         },
         "mode": "lines",
         "type": "scatter",
         "x": [
          0,
          1.0467130078461655,
          1.0467130078461655,
          0
         ],
         "xaxis": "x",
         "y": [
          -155,
          -155,
          -165,
          -165
         ],
         "yaxis": "y"
        },
        {
         "hoverinfo": "text",
         "marker": {
          "color": "rgb(0,116,217)"
         },
         "mode": "lines",
         "type": "scatter",
         "x": [
          0,
          1.283276070977336,
          1.283276070977336,
          0
         ],
         "xaxis": "x",
         "y": [
          -175,
          -175,
          -185,
          -185
         ],
         "yaxis": "y"
        },
        {
         "hoverinfo": "text",
         "marker": {
          "color": "rgb(0,116,217)"
         },
         "mode": "lines",
         "type": "scatter",
         "x": [
          0,
          1.3550537082477454,
          1.3550537082477454,
          0
         ],
         "xaxis": "x",
         "y": [
          -195,
          -195,
          -205,
          -205
         ],
         "yaxis": "y"
        },
        {
         "hoverinfo": "text",
         "marker": {
          "color": "rgb(0,116,217)"
         },
         "mode": "lines",
         "type": "scatter",
         "x": [
          1.3550537082477454,
          1.3633842719996194,
          1.3633842719996194,
          0
         ],
         "xaxis": "x",
         "y": [
          -200,
          -200,
          -215,
          -215
         ],
         "yaxis": "y"
        },
        {
         "hoverinfo": "text",
         "marker": {
          "color": "rgb(0,116,217)"
         },
         "mode": "lines",
         "type": "scatter",
         "x": [
          1.3633842719996194,
          1.4332369436344323,
          1.4332369436344323,
          0
         ],
         "xaxis": "x",
         "y": [
          -207.5,
          -207.5,
          -225,
          -225
         ],
         "yaxis": "y"
        },
        {
         "hoverinfo": "text",
         "marker": {
          "color": "rgb(0,116,217)"
         },
         "mode": "lines",
         "type": "scatter",
         "x": [
          1.283276070977336,
          1.466173911320128,
          1.466173911320128,
          1.4332369436344323
         ],
         "xaxis": "x",
         "y": [
          -180,
          -180,
          -216.25,
          -216.25
         ],
         "yaxis": "y"
        },
        {
         "hoverinfo": "text",
         "marker": {
          "color": "rgb(0,116,217)"
         },
         "mode": "lines",
         "type": "scatter",
         "x": [
          0,
          1.199553793374771,
          1.199553793374771,
          0
         ],
         "xaxis": "x",
         "y": [
          -235,
          -235,
          -245,
          -245
         ],
         "yaxis": "y"
        },
        {
         "hoverinfo": "text",
         "marker": {
          "color": "rgb(0,116,217)"
         },
         "mode": "lines",
         "type": "scatter",
         "x": [
          1.199553793374771,
          1.3688204991928805,
          1.3688204991928805,
          0
         ],
         "xaxis": "x",
         "y": [
          -240,
          -240,
          -255,
          -255
         ],
         "yaxis": "y"
        },
        {
         "hoverinfo": "text",
         "marker": {
          "color": "rgb(0,116,217)"
         },
         "mode": "lines",
         "type": "scatter",
         "x": [
          1.466173911320128,
          1.5394145006248379,
          1.5394145006248379,
          1.3688204991928805
         ],
         "xaxis": "x",
         "y": [
          -198.125,
          -198.125,
          -247.5,
          -247.5
         ],
         "yaxis": "y"
        },
        {
         "hoverinfo": "text",
         "marker": {
          "color": "rgb(0,116,217)"
         },
         "mode": "lines",
         "type": "scatter",
         "x": [
          1.0467130078461655,
          1.7875869230537833,
          1.7875869230537833,
          1.5394145006248379
         ],
         "xaxis": "x",
         "y": [
          -160,
          -160,
          -222.8125,
          -222.8125
         ],
         "yaxis": "y"
        },
        {
         "hoverinfo": "text",
         "marker": {
          "color": "rgb(35,205,205)"
         },
         "mode": "lines",
         "type": "scatter",
         "x": [
          0,
          0.8564635801648014,
          0.8564635801648014,
          0
         ],
         "xaxis": "x",
         "y": [
          -265,
          -265,
          -275,
          -275
         ],
         "yaxis": "y"
        },
        {
         "hoverinfo": "text",
         "marker": {
          "color": "rgb(0,116,217)"
         },
         "mode": "lines",
         "type": "scatter",
         "x": [
          0.8564635801648014,
          1.0941606661528376,
          1.0941606661528376,
          0
         ],
         "xaxis": "x",
         "y": [
          -270,
          -270,
          -285,
          -285
         ],
         "yaxis": "y"
        },
        {
         "hoverinfo": "text",
         "marker": {
          "color": "rgb(0,116,217)"
         },
         "mode": "lines",
         "type": "scatter",
         "x": [
          1.0941606661528376,
          1.2596640994135815,
          1.2596640994135815,
          0
         ],
         "xaxis": "x",
         "y": [
          -277.5,
          -277.5,
          -295,
          -295
         ],
         "yaxis": "y"
        },
        {
         "hoverinfo": "text",
         "marker": {
          "color": "rgb(0,116,217)"
         },
         "mode": "lines",
         "type": "scatter",
         "x": [
          1.7875869230537833,
          2.1199914300491742,
          2.1199914300491742,
          1.2596640994135815
         ],
         "xaxis": "x",
         "y": [
          -191.40625,
          -191.40625,
          -286.25,
          -286.25
         ],
         "yaxis": "y"
        },
        {
         "hoverinfo": "text",
         "marker": {
          "color": "rgb(0,116,217)"
         },
         "mode": "lines",
         "type": "scatter",
         "x": [
          1.8713483658528796,
          2.2981762566554087,
          2.2981762566554087,
          2.1199914300491742
         ],
         "xaxis": "x",
         "y": [
          -94.375,
          -94.375,
          -238.828125,
          -238.828125
         ],
         "yaxis": "y"
        },
        {
         "hoverinfo": "text",
         "marker": {
          "color": "rgb(0,116,217)"
         },
         "mode": "lines",
         "type": "scatter",
         "x": [
          1.1249964209735936,
          2.761811597866336,
          2.761811597866336,
          2.2981762566554087
         ],
         "xaxis": "x",
         "y": [
          -12.5,
          -12.5,
          -166.6015625,
          -166.6015625
         ],
         "yaxis": "y"
        },
        {
         "hoverinfo": "text",
         "marker": {
          "color": "rgb(0,116,217)"
         },
         "mode": "lines",
         "type": "scatter",
         "x": [
          0,
          1.2850969289811522,
          1.2850969289811522,
          0
         ],
         "xaxis": "x",
         "y": [
          -305,
          -305,
          -315,
          -315
         ],
         "yaxis": "y"
        },
        {
         "hoverinfo": "text",
         "marker": {
          "color": "rgb(133,20,75)"
         },
         "mode": "lines",
         "type": "scatter",
         "x": [
          0,
          0.5341583275341644,
          0.5341583275341644,
          0
         ],
         "xaxis": "x",
         "y": [
          -325,
          -325,
          -335,
          -335
         ],
         "yaxis": "y"
        },
        {
         "hoverinfo": "text",
         "marker": {
          "color": "rgb(133,20,75)"
         },
         "mode": "lines",
         "type": "scatter",
         "x": [
          0.5341583275341644,
          0.7857025737687273,
          0.7857025737687273,
          0
         ],
         "xaxis": "x",
         "y": [
          -330,
          -330,
          -345,
          -345
         ],
         "yaxis": "y"
        },
        {
         "hoverinfo": "text",
         "marker": {
          "color": "rgb(0,116,217)"
         },
         "mode": "lines",
         "type": "scatter",
         "x": [
          1.2850969289811522,
          1.526566713384081,
          1.526566713384081,
          0.7857025737687273
         ],
         "xaxis": "x",
         "y": [
          -310,
          -310,
          -337.5,
          -337.5
         ],
         "yaxis": "y"
        },
        {
         "hoverinfo": "text",
         "marker": {
          "color": "rgb(0,116,217)"
         },
         "mode": "lines",
         "type": "scatter",
         "x": [
          2.761811597866336,
          3.0490543516387913,
          3.0490543516387913,
          1.526566713384081
         ],
         "xaxis": "x",
         "y": [
          -89.55078125,
          -89.55078125,
          -323.75,
          -323.75
         ],
         "yaxis": "y"
        },
        {
         "hoverinfo": "text",
         "marker": {
          "color": "rgb(255,220,0)"
         },
         "mode": "lines",
         "type": "scatter",
         "x": [
          0,
          0.5667229917420433,
          0.5667229917420433,
          0
         ],
         "xaxis": "x",
         "y": [
          -365,
          -365,
          -375,
          -375
         ],
         "yaxis": "y"
        },
        {
         "hoverinfo": "text",
         "marker": {
          "color": "rgb(255,220,0)"
         },
         "mode": "lines",
         "type": "scatter",
         "x": [
          0,
          0.6726461277023046,
          0.6726461277023046,
          0.5667229917420433
         ],
         "xaxis": "x",
         "y": [
          -355,
          -355,
          -370,
          -370
         ],
         "yaxis": "y"
        },
        {
         "hoverinfo": "text",
         "marker": {
          "color": "rgb(40,35,35)"
         },
         "mode": "lines",
         "type": "scatter",
         "x": [
          0,
          0.5288337279926373,
          0.5288337279926373,
          0
         ],
         "xaxis": "x",
         "y": [
          -385,
          -385,
          -395,
          -395
         ],
         "yaxis": "y"
        },
        {
         "hoverinfo": "text",
         "marker": {
          "color": "rgb(0,116,217)"
         },
         "mode": "lines",
         "type": "scatter",
         "x": [
          0.5288337279926373,
          1.1347108889923538,
          1.1347108889923538,
          0
         ],
         "xaxis": "x",
         "y": [
          -390,
          -390,
          -405,
          -405
         ],
         "yaxis": "y"
        },
        {
         "hoverinfo": "text",
         "marker": {
          "color": "rgb(0,116,217)"
         },
         "mode": "lines",
         "type": "scatter",
         "x": [
          0,
          1.077247905781675,
          1.077247905781675,
          0
         ],
         "xaxis": "x",
         "y": [
          -415,
          -415,
          -425,
          -425
         ],
         "yaxis": "y"
        },
        {
         "hoverinfo": "text",
         "marker": {
          "color": "rgb(0,116,217)"
         },
         "mode": "lines",
         "type": "scatter",
         "x": [
          0,
          1.2976291711348598,
          1.2976291711348598,
          0
         ],
         "xaxis": "x",
         "y": [
          -445,
          -445,
          -455,
          -455
         ],
         "yaxis": "y"
        },
        {
         "hoverinfo": "text",
         "marker": {
          "color": "rgb(0,116,217)"
         },
         "mode": "lines",
         "type": "scatter",
         "x": [
          0,
          1.332706957193413,
          1.332706957193413,
          1.2976291711348598
         ],
         "xaxis": "x",
         "y": [
          -435,
          -435,
          -450,
          -450
         ],
         "yaxis": "y"
        },
        {
         "hoverinfo": "text",
         "marker": {
          "color": "rgb(0,116,217)"
         },
         "mode": "lines",
         "type": "scatter",
         "x": [
          1.077247905781675,
          1.503208998730726,
          1.503208998730726,
          1.332706957193413
         ],
         "xaxis": "x",
         "y": [
          -420,
          -420,
          -442.5,
          -442.5
         ],
         "yaxis": "y"
        },
        {
         "hoverinfo": "text",
         "marker": {
          "color": "rgb(61,153,112)"
         },
         "mode": "lines",
         "type": "scatter",
         "x": [
          0,
          0.903445119694493,
          0.903445119694493,
          0
         ],
         "xaxis": "x",
         "y": [
          -465,
          -465,
          -475,
          -475
         ],
         "yaxis": "y"
        },
        {
         "hoverinfo": "text",
         "marker": {
          "color": "rgb(0,116,217)"
         },
         "mode": "lines",
         "type": "scatter",
         "x": [
          0.903445119694493,
          1.0479208127182944,
          1.0479208127182944,
          0
         ],
         "xaxis": "x",
         "y": [
          -470,
          -470,
          -485,
          -485
         ],
         "yaxis": "y"
        },
        {
         "hoverinfo": "text",
         "marker": {
          "color": "rgb(0,116,217)"
         },
         "mode": "lines",
         "type": "scatter",
         "x": [
          1.0479208127182944,
          1.2485519874938051,
          1.2485519874938051,
          0
         ],
         "xaxis": "x",
         "y": [
          -477.5,
          -477.5,
          -495,
          -495
         ],
         "yaxis": "y"
        },
        {
         "hoverinfo": "text",
         "marker": {
          "color": "rgb(0,116,217)"
         },
         "mode": "lines",
         "type": "scatter",
         "x": [
          1.503208998730726,
          1.7716823159095072,
          1.7716823159095072,
          1.2485519874938051
         ],
         "xaxis": "x",
         "y": [
          -431.25,
          -431.25,
          -486.25,
          -486.25
         ],
         "yaxis": "y"
        },
        {
         "hoverinfo": "text",
         "marker": {
          "color": "rgb(0,116,217)"
         },
         "mode": "lines",
         "type": "scatter",
         "x": [
          0,
          1.0459310271211897,
          1.0459310271211897,
          0
         ],
         "xaxis": "x",
         "y": [
          -515,
          -515,
          -525,
          -525
         ],
         "yaxis": "y"
        },
        {
         "hoverinfo": "text",
         "marker": {
          "color": "rgb(0,116,217)"
         },
         "mode": "lines",
         "type": "scatter",
         "x": [
          0,
          1.290949854111365,
          1.290949854111365,
          1.0459310271211897
         ],
         "xaxis": "x",
         "y": [
          -505,
          -505,
          -520,
          -520
         ],
         "yaxis": "y"
        },
        {
         "hoverinfo": "text",
         "marker": {
          "color": "rgb(255,65,54)"
         },
         "mode": "lines",
         "type": "scatter",
         "x": [
          0,
          0.9860825028587383,
          0.9860825028587383,
          0
         ],
         "xaxis": "x",
         "y": [
          -535,
          -535,
          -545,
          -545
         ],
         "yaxis": "y"
        },
        {
         "hoverinfo": "text",
         "marker": {
          "color": "rgb(0,116,217)"
         },
         "mode": "lines",
         "type": "scatter",
         "x": [
          0.9860825028587383,
          1.3662966110236079,
          1.3662966110236079,
          0
         ],
         "xaxis": "x",
         "y": [
          -540,
          -540,
          -555,
          -555
         ],
         "yaxis": "y"
        },
        {
         "hoverinfo": "text",
         "marker": {
          "color": "rgb(0,116,217)"
         },
         "mode": "lines",
         "type": "scatter",
         "x": [
          1.290949854111365,
          1.9716052207865826,
          1.9716052207865826,
          1.3662966110236079
         ],
         "xaxis": "x",
         "y": [
          -512.5,
          -512.5,
          -547.5,
          -547.5
         ],
         "yaxis": "y"
        },
        {
         "hoverinfo": "text",
         "marker": {
          "color": "rgb(0,116,217)"
         },
         "mode": "lines",
         "type": "scatter",
         "x": [
          1.7716823159095072,
          2.1653828133966573,
          2.1653828133966573,
          1.9716052207865826
         ],
         "xaxis": "x",
         "y": [
          -458.75,
          -458.75,
          -530,
          -530
         ],
         "yaxis": "y"
        },
        {
         "hoverinfo": "text",
         "marker": {
          "color": "rgb(0,116,217)"
         },
         "mode": "lines",
         "type": "scatter",
         "x": [
          1.1347108889923538,
          2.4314005089690944,
          2.4314005089690944,
          2.1653828133966573
         ],
         "xaxis": "x",
         "y": [
          -397.5,
          -397.5,
          -494.375,
          -494.375
         ],
         "yaxis": "y"
        },
        {
         "hoverinfo": "text",
         "marker": {
          "color": "rgb(0,116,217)"
         },
         "mode": "lines",
         "type": "scatter",
         "x": [
          0,
          1.0655154485612213,
          1.0655154485612213,
          0
         ],
         "xaxis": "x",
         "y": [
          -585,
          -585,
          -595,
          -595
         ],
         "yaxis": "y"
        },
        {
         "hoverinfo": "text",
         "marker": {
          "color": "rgb(0,116,217)"
         },
         "mode": "lines",
         "type": "scatter",
         "x": [
          1.0655154485612213,
          1.1414944507875773,
          1.1414944507875773,
          0
         ],
         "xaxis": "x",
         "y": [
          -590,
          -590,
          -605,
          -605
         ],
         "yaxis": "y"
        },
        {
         "hoverinfo": "text",
         "marker": {
          "color": "rgb(0,116,217)"
         },
         "mode": "lines",
         "type": "scatter",
         "x": [
          0,
          1.168653153744182,
          1.168653153744182,
          1.1414944507875773
         ],
         "xaxis": "x",
         "y": [
          -575,
          -575,
          -597.5,
          -597.5
         ],
         "yaxis": "y"
        },
        {
         "hoverinfo": "text",
         "marker": {
          "color": "rgb(0,116,217)"
         },
         "mode": "lines",
         "type": "scatter",
         "x": [
          0,
          1.307778857303163,
          1.307778857303163,
          1.168653153744182
         ],
         "xaxis": "x",
         "y": [
          -565,
          -565,
          -586.25,
          -586.25
         ],
         "yaxis": "y"
        },
        {
         "hoverinfo": "text",
         "marker": {
          "color": "rgb(0,116,217)"
         },
         "mode": "lines",
         "type": "scatter",
         "x": [
          0,
          1.1140249131738644,
          1.1140249131738644,
          0
         ],
         "xaxis": "x",
         "y": [
          -625,
          -625,
          -635,
          -635
         ],
         "yaxis": "y"
        },
        {
         "hoverinfo": "text",
         "marker": {
          "color": "rgb(0,116,217)"
         },
         "mode": "lines",
         "type": "scatter",
         "x": [
          0,
          1.2262947365446246,
          1.2262947365446246,
          1.1140249131738644
         ],
         "xaxis": "x",
         "y": [
          -615,
          -615,
          -630,
          -630
         ],
         "yaxis": "y"
        },
        {
         "hoverinfo": "text",
         "marker": {
          "color": "rgb(0,116,217)"
         },
         "mode": "lines",
         "type": "scatter",
         "x": [
          1.307778857303163,
          1.5604696236770192,
          1.5604696236770192,
          1.2262947365446246
         ],
         "xaxis": "x",
         "y": [
          -575.625,
          -575.625,
          -622.5,
          -622.5
         ],
         "yaxis": "y"
        },
        {
         "hoverinfo": "text",
         "marker": {
          "color": "rgb(0,116,217)"
         },
         "mode": "lines",
         "type": "scatter",
         "x": [
          2.4314005089690944,
          2.653729509835309,
          2.653729509835309,
          1.5604696236770192
         ],
         "xaxis": "x",
         "y": [
          -445.9375,
          -445.9375,
          -599.0625,
          -599.0625
         ],
         "yaxis": "y"
        },
        {
         "hoverinfo": "text",
         "marker": {
          "color": "rgb(0,116,217)"
         },
         "mode": "lines",
         "type": "scatter",
         "x": [
          0.6726461277023046,
          2.9364989299022377,
          2.9364989299022377,
          2.653729509835309
         ],
         "xaxis": "x",
         "y": [
          -362.5,
          -362.5,
          -522.5,
          -522.5
         ],
         "yaxis": "y"
        },
        {
         "hoverinfo": "text",
         "marker": {
          "color": "rgb(35,205,205)"
         },
         "mode": "lines",
         "type": "scatter",
         "x": [
          0,
          0.793192738151113,
          0.793192738151113,
          0
         ],
         "xaxis": "x",
         "y": [
          -645,
          -645,
          -655,
          -655
         ],
         "yaxis": "y"
        },
        {
         "hoverinfo": "text",
         "marker": {
          "color": "rgb(35,205,205)"
         },
         "mode": "lines",
         "type": "scatter",
         "x": [
          0.793192738151113,
          0.8836784421122484,
          0.8836784421122484,
          0
         ],
         "xaxis": "x",
         "y": [
          -650,
          -650,
          -665,
          -665
         ],
         "yaxis": "y"
        },
        {
         "hoverinfo": "text",
         "marker": {
          "color": "rgb(61,153,112)"
         },
         "mode": "lines",
         "type": "scatter",
         "x": [
          0,
          0.5654591236680301,
          0.5654591236680301,
          0
         ],
         "xaxis": "x",
         "y": [
          -675,
          -675,
          -685,
          -685
         ],
         "yaxis": "y"
        },
        {
         "hoverinfo": "text",
         "marker": {
          "color": "rgb(0,116,217)"
         },
         "mode": "lines",
         "type": "scatter",
         "x": [
          0.5654591236680301,
          1.4127077276185205,
          1.4127077276185205,
          0
         ],
         "xaxis": "x",
         "y": [
          -680,
          -680,
          -695,
          -695
         ],
         "yaxis": "y"
        },
        {
         "hoverinfo": "text",
         "marker": {
          "color": "rgb(0,116,217)"
         },
         "mode": "lines",
         "type": "scatter",
         "x": [
          0.8836784421122484,
          1.961213610992852,
          1.961213610992852,
          1.4127077276185205
         ],
         "xaxis": "x",
         "y": [
          -657.5,
          -657.5,
          -687.5,
          -687.5
         ],
         "yaxis": "y"
        },
        {
         "hoverinfo": "text",
         "marker": {
          "color": "rgb(255,65,54)"
         },
         "mode": "lines",
         "type": "scatter",
         "x": [
          0,
          0.39313121367409987,
          0.39313121367409987,
          0
         ],
         "xaxis": "x",
         "y": [
          -715,
          -715,
          -725,
          -725
         ],
         "yaxis": "y"
        },
        {
         "hoverinfo": "text",
         "marker": {
          "color": "rgb(0,116,217)"
         },
         "mode": "lines",
         "type": "scatter",
         "x": [
          0,
          1.2249310988593194,
          1.2249310988593194,
          0.39313121367409987
         ],
         "xaxis": "x",
         "y": [
          -705,
          -705,
          -720,
          -720
         ],
         "yaxis": "y"
        },
        {
         "hoverinfo": "text",
         "marker": {
          "color": "rgb(0,116,217)"
         },
         "mode": "lines",
         "type": "scatter",
         "x": [
          1.2249310988593194,
          1.3238157856943382,
          1.3238157856943382,
          0
         ],
         "xaxis": "x",
         "y": [
          -712.5,
          -712.5,
          -735,
          -735
         ],
         "yaxis": "y"
        },
        {
         "hoverinfo": "text",
         "marker": {
          "color": "rgb(0,116,217)"
         },
         "mode": "lines",
         "type": "scatter",
         "x": [
          1.961213610992852,
          2.605093946726443,
          2.605093946726443,
          1.3238157856943382
         ],
         "xaxis": "x",
         "y": [
          -672.5,
          -672.5,
          -723.75,
          -723.75
         ],
         "yaxis": "y"
        },
        {
         "hoverinfo": "text",
         "marker": {
          "color": "rgb(0,116,217)"
         },
         "mode": "lines",
         "type": "scatter",
         "x": [
          2.9364989299022377,
          3.271897920650028,
          3.271897920650028,
          2.605093946726443
         ],
         "xaxis": "x",
         "y": [
          -442.5,
          -442.5,
          -698.125,
          -698.125
         ],
         "yaxis": "y"
        },
        {
         "hoverinfo": "text",
         "marker": {
          "color": "rgb(35,205,205)"
         },
         "mode": "lines",
         "type": "scatter",
         "x": [
          0,
          0.6462882605707206,
          0.6462882605707206,
          0
         ],
         "xaxis": "x",
         "y": [
          -745,
          -745,
          -755,
          -755
         ],
         "yaxis": "y"
        },
        {
         "hoverinfo": "text",
         "marker": {
          "color": "rgb(0,116,217)"
         },
         "mode": "lines",
         "type": "scatter",
         "x": [
          0.6462882605707206,
          1.4219311379062127,
          1.4219311379062127,
          0
         ],
         "xaxis": "x",
         "y": [
          -750,
          -750,
          -765,
          -765
         ],
         "yaxis": "y"
        },
        {
         "hoverinfo": "text",
         "marker": {
          "color": "rgb(133,20,75)"
         },
         "mode": "lines",
         "type": "scatter",
         "x": [
          0,
          0.8630140176822064,
          0.8630140176822064,
          0
         ],
         "xaxis": "x",
         "y": [
          -775,
          -775,
          -785,
          -785
         ],
         "yaxis": "y"
        },
        {
         "hoverinfo": "text",
         "marker": {
          "color": "rgb(0,116,217)"
         },
         "mode": "lines",
         "type": "scatter",
         "x": [
          0.8630140176822064,
          1.2018684466488474,
          1.2018684466488474,
          0
         ],
         "xaxis": "x",
         "y": [
          -780,
          -780,
          -795,
          -795
         ],
         "yaxis": "y"
        },
        {
         "hoverinfo": "text",
         "marker": {
          "color": "rgb(255,220,0)"
         },
         "mode": "lines",
         "type": "scatter",
         "x": [
          0,
          0.9786126863027443,
          0.9786126863027443,
          0
         ],
         "xaxis": "x",
         "y": [
          -805,
          -805,
          -815,
          -815
         ],
         "yaxis": "y"
        },
        {
         "hoverinfo": "text",
         "marker": {
          "color": "rgb(0,116,217)"
         },
         "mode": "lines",
         "type": "scatter",
         "x": [
          0,
          1.2531610194824208,
          1.2531610194824208,
          0
         ],
         "xaxis": "x",
         "y": [
          -825,
          -825,
          -835,
          -835
         ],
         "yaxis": "y"
        },
        {
         "hoverinfo": "text",
         "marker": {
          "color": "rgb(0,116,217)"
         },
         "mode": "lines",
         "type": "scatter",
         "x": [
          0,
          1.4220773667306754,
          1.4220773667306754,
          0
         ],
         "xaxis": "x",
         "y": [
          -845,
          -845,
          -855,
          -855
         ],
         "yaxis": "y"
        },
        {
         "hoverinfo": "text",
         "marker": {
          "color": "rgb(0,116,217)"
         },
         "mode": "lines",
         "type": "scatter",
         "x": [
          0,
          1.3540798296461896,
          1.3540798296461896,
          0
         ],
         "xaxis": "x",
         "y": [
          -865,
          -865,
          -875,
          -875
         ],
         "yaxis": "y"
        },
        {
         "hoverinfo": "text",
         "marker": {
          "color": "rgb(0,116,217)"
         },
         "mode": "lines",
         "type": "scatter",
         "x": [
          0,
          1.4091986666834042,
          1.4091986666834042,
          0
         ],
         "xaxis": "x",
         "y": [
          -885,
          -885,
          -895,
          -895
         ],
         "yaxis": "y"
        },
        {
         "hoverinfo": "text",
         "marker": {
          "color": "rgb(0,116,217)"
         },
         "mode": "lines",
         "type": "scatter",
         "x": [
          0,
          1.0001133132598683,
          1.0001133132598683,
          0
         ],
         "xaxis": "x",
         "y": [
          -915,
          -915,
          -925,
          -925
         ],
         "yaxis": "y"
        },
        {
         "hoverinfo": "text",
         "marker": {
          "color": "rgb(0,116,217)"
         },
         "mode": "lines",
         "type": "scatter",
         "x": [
          1.0001133132598683,
          1.2948379657737714,
          1.2948379657737714,
          0
         ],
         "xaxis": "x",
         "y": [
          -920,
          -920,
          -935,
          -935
         ],
         "yaxis": "y"
        },
        {
         "hoverinfo": "text",
         "marker": {
          "color": "rgb(0,116,217)"
         },
         "mode": "lines",
         "type": "scatter",
         "x": [
          1.2948379657737714,
          1.3595137774759547,
          1.3595137774759547,
          0
         ],
         "xaxis": "x",
         "y": [
          -927.5,
          -927.5,
          -945,
          -945
         ],
         "yaxis": "y"
        },
        {
         "hoverinfo": "text",
         "marker": {
          "color": "rgb(0,116,217)"
         },
         "mode": "lines",
         "type": "scatter",
         "x": [
          0,
          1.3864522593637922,
          1.3864522593637922,
          1.3595137774759547
         ],
         "xaxis": "x",
         "y": [
          -905,
          -905,
          -936.25,
          -936.25
         ],
         "yaxis": "y"
        },
        {
         "hoverinfo": "text",
         "marker": {
          "color": "rgb(0,116,217)"
         },
         "mode": "lines",
         "type": "scatter",
         "x": [
          1.3864522593637922,
          1.4001289063298619,
          1.4001289063298619,
          0
         ],
         "xaxis": "x",
         "y": [
          -920.625,
          -920.625,
          -955,
          -955
         ],
         "yaxis": "y"
        },
        {
         "hoverinfo": "text",
         "marker": {
          "color": "rgb(0,116,217)"
         },
         "mode": "lines",
         "type": "scatter",
         "x": [
          1.4091986666834042,
          1.4260848164833244,
          1.4260848164833244,
          1.4001289063298619
         ],
         "xaxis": "x",
         "y": [
          -890,
          -890,
          -937.8125,
          -937.8125
         ],
         "yaxis": "y"
        },
        {
         "hoverinfo": "text",
         "marker": {
          "color": "rgb(0,116,217)"
         },
         "mode": "lines",
         "type": "scatter",
         "x": [
          1.3540798296461896,
          1.4734379219622542,
          1.4734379219622542,
          1.4260848164833244
         ],
         "xaxis": "x",
         "y": [
          -870,
          -870,
          -913.90625,
          -913.90625
         ],
         "yaxis": "y"
        },
        {
         "hoverinfo": "text",
         "marker": {
          "color": "rgb(0,116,217)"
         },
         "mode": "lines",
         "type": "scatter",
         "x": [
          1.4220773667306754,
          1.478115555084607,
          1.478115555084607,
          1.4734379219622542
         ],
         "xaxis": "x",
         "y": [
          -850,
          -850,
          -891.953125,
          -891.953125
         ],
         "yaxis": "y"
        },
        {
         "hoverinfo": "text",
         "marker": {
          "color": "rgb(0,116,217)"
         },
         "mode": "lines",
         "type": "scatter",
         "x": [
          0,
          1.3345987854275008,
          1.3345987854275008,
          0
         ],
         "xaxis": "x",
         "y": [
          -965,
          -965,
          -975,
          -975
         ],
         "yaxis": "y"
        },
        {
         "hoverinfo": "text",
         "marker": {
          "color": "rgb(0,116,217)"
         },
         "mode": "lines",
         "type": "scatter",
         "x": [
          0,
          1.4127155057768526,
          1.4127155057768526,
          0
         ],
         "xaxis": "x",
         "y": [
          -995,
          -995,
          -1005,
          -1005
         ],
         "yaxis": "y"
        },
        {
         "hoverinfo": "text",
         "marker": {
          "color": "rgb(0,116,217)"
         },
         "mode": "lines",
         "type": "scatter",
         "x": [
          0,
          1.4272003122887968,
          1.4272003122887968,
          1.4127155057768526
         ],
         "xaxis": "x",
         "y": [
          -985,
          -985,
          -1000,
          -1000
         ],
         "yaxis": "y"
        },
        {
         "hoverinfo": "text",
         "marker": {
          "color": "rgb(0,116,217)"
         },
         "mode": "lines",
         "type": "scatter",
         "x": [
          0,
          1.3711651440408177,
          1.3711651440408177,
          0
         ],
         "xaxis": "x",
         "y": [
          -1015,
          -1015,
          -1025,
          -1025
         ],
         "yaxis": "y"
        },
        {
         "hoverinfo": "text",
         "marker": {
          "color": "rgb(0,116,217)"
         },
         "mode": "lines",
         "type": "scatter",
         "x": [
          1.3711651440408177,
          1.4043829373767585,
          1.4043829373767585,
          0
         ],
         "xaxis": "x",
         "y": [
          -1020,
          -1020,
          -1035,
          -1035
         ],
         "yaxis": "y"
        },
        {
         "hoverinfo": "text",
         "marker": {
          "color": "rgb(0,116,217)"
         },
         "mode": "lines",
         "type": "scatter",
         "x": [
          1.4272003122887968,
          1.4405960436675942,
          1.4405960436675942,
          1.4043829373767585
         ],
         "xaxis": "x",
         "y": [
          -992.5,
          -992.5,
          -1027.5,
          -1027.5
         ],
         "yaxis": "y"
        },
        {
         "hoverinfo": "text",
         "marker": {
          "color": "rgb(0,116,217)"
         },
         "mode": "lines",
         "type": "scatter",
         "x": [
          1.3345987854275008,
          1.4635685038818536,
          1.4635685038818536,
          1.4405960436675942
         ],
         "xaxis": "x",
         "y": [
          -970,
          -970,
          -1010,
          -1010
         ],
         "yaxis": "y"
        },
        {
         "hoverinfo": "text",
         "marker": {
          "color": "rgb(0,116,217)"
         },
         "mode": "lines",
         "type": "scatter",
         "x": [
          1.478115555084607,
          1.546105112451895,
          1.546105112451895,
          1.4635685038818536
         ],
         "xaxis": "x",
         "y": [
          -870.9765625,
          -870.9765625,
          -990,
          -990
         ],
         "yaxis": "y"
        },
        {
         "hoverinfo": "text",
         "marker": {
          "color": "rgb(0,116,217)"
         },
         "mode": "lines",
         "type": "scatter",
         "x": [
          1.2531610194824208,
          1.5779009836466986,
          1.5779009836466986,
          1.546105112451895
         ],
         "xaxis": "x",
         "y": [
          -830,
          -830,
          -930.48828125,
          -930.48828125
         ],
         "yaxis": "y"
        },
        {
         "hoverinfo": "text",
         "marker": {
          "color": "rgb(0,116,217)"
         },
         "mode": "lines",
         "type": "scatter",
         "x": [
          0,
          1.1127522614509813,
          1.1127522614509813,
          0
         ],
         "xaxis": "x",
         "y": [
          -1045,
          -1045,
          -1055,
          -1055
         ],
         "yaxis": "y"
        },
        {
         "hoverinfo": "text",
         "marker": {
          "color": "rgb(0,116,217)"
         },
         "mode": "lines",
         "type": "scatter",
         "x": [
          1.5779009836466986,
          1.6947976066957793,
          1.6947976066957793,
          1.1127522614509813
         ],
         "xaxis": "x",
         "y": [
          -880.244140625,
          -880.244140625,
          -1050,
          -1050
         ],
         "yaxis": "y"
        },
        {
         "hoverinfo": "text",
         "marker": {
          "color": "rgb(0,116,217)"
         },
         "mode": "lines",
         "type": "scatter",
         "x": [
          0,
          1.0270460096142031,
          1.0270460096142031,
          0
         ],
         "xaxis": "x",
         "y": [
          -1065,
          -1065,
          -1075,
          -1075
         ],
         "yaxis": "y"
        },
        {
         "hoverinfo": "text",
         "marker": {
          "color": "rgb(0,116,217)"
         },
         "mode": "lines",
         "type": "scatter",
         "x": [
          1.6947976066957793,
          1.7656059850278971,
          1.7656059850278971,
          1.0270460096142031
         ],
         "xaxis": "x",
         "y": [
          -965.1220703125,
          -965.1220703125,
          -1070,
          -1070
         ],
         "yaxis": "y"
        },
        {
         "hoverinfo": "text",
         "marker": {
          "color": "rgb(0,116,217)"
         },
         "mode": "lines",
         "type": "scatter",
         "x": [
          0.9786126863027443,
          1.8414296950875304,
          1.8414296950875304,
          1.7656059850278971
         ],
         "xaxis": "x",
         "y": [
          -810,
          -810,
          -1017.56103515625,
          -1017.56103515625
         ],
         "yaxis": "y"
        },
        {
         "hoverinfo": "text",
         "marker": {
          "color": "rgb(40,35,35)"
         },
         "mode": "lines",
         "type": "scatter",
         "x": [
          0,
          0.7675663250977242,
          0.7675663250977242,
          0
         ],
         "xaxis": "x",
         "y": [
          -1085,
          -1085,
          -1095,
          -1095
         ],
         "yaxis": "y"
        },
        {
         "hoverinfo": "text",
         "marker": {
          "color": "rgb(0,116,217)"
         },
         "mode": "lines",
         "type": "scatter",
         "x": [
          1.8414296950875304,
          2.04861807348538,
          2.04861807348538,
          0.7675663250977242
         ],
         "xaxis": "x",
         "y": [
          -913.780517578125,
          -913.780517578125,
          -1090,
          -1090
         ],
         "yaxis": "y"
        },
        {
         "hoverinfo": "text",
         "marker": {
          "color": "rgb(0,116,217)"
         },
         "mode": "lines",
         "type": "scatter",
         "x": [
          1.2018684466488474,
          2.1570556314799303,
          2.1570556314799303,
          2.04861807348538
         ],
         "xaxis": "x",
         "y": [
          -787.5,
          -787.5,
          -1001.8902587890625,
          -1001.8902587890625
         ],
         "yaxis": "y"
        },
        {
         "hoverinfo": "text",
         "marker": {
          "color": "rgb(0,116,217)"
         },
         "mode": "lines",
         "type": "scatter",
         "x": [
          1.4219311379062127,
          2.257472019322142,
          2.257472019322142,
          2.1570556314799303
         ],
         "xaxis": "x",
         "y": [
          -757.5,
          -757.5,
          -894.6951293945312,
          -894.6951293945312
         ],
         "yaxis": "y"
        },
        {
         "hoverinfo": "text",
         "marker": {
          "color": "rgb(61,153,112)"
         },
         "mode": "lines",
         "type": "scatter",
         "x": [
          0,
          0.2629762500800147,
          0.2629762500800147,
          0
         ],
         "xaxis": "x",
         "y": [
          -1105,
          -1105,
          -1115,
          -1115
         ],
         "yaxis": "y"
        },
        {
         "hoverinfo": "text",
         "marker": {
          "color": "rgb(255,65,54)"
         },
         "mode": "lines",
         "type": "scatter",
         "x": [
          0,
          0.8400007872289205,
          0.8400007872289205,
          0
         ],
         "xaxis": "x",
         "y": [
          -1125,
          -1125,
          -1135,
          -1135
         ],
         "yaxis": "y"
        },
        {
         "hoverinfo": "text",
         "marker": {
          "color": "rgb(0,116,217)"
         },
         "mode": "lines",
         "type": "scatter",
         "x": [
          0.8400007872289205,
          1.3017873523205183,
          1.3017873523205183,
          0
         ],
         "xaxis": "x",
         "y": [
          -1130,
          -1130,
          -1145,
          -1145
         ],
         "yaxis": "y"
        },
        {
         "hoverinfo": "text",
         "marker": {
          "color": "rgb(35,205,205)"
         },
         "mode": "lines",
         "type": "scatter",
         "x": [
          0,
          0.9351261583655855,
          0.9351261583655855,
          0
         ],
         "xaxis": "x",
         "y": [
          -1155,
          -1155,
          -1165,
          -1165
         ],
         "yaxis": "y"
        },
        {
         "hoverinfo": "text",
         "marker": {
          "color": "rgb(0,116,217)"
         },
         "mode": "lines",
         "type": "scatter",
         "x": [
          0,
          1.3195830771644292,
          1.3195830771644292,
          0
         ],
         "xaxis": "x",
         "y": [
          -1175,
          -1175,
          -1185,
          -1185
         ],
         "yaxis": "y"
        },
        {
         "hoverinfo": "text",
         "marker": {
          "color": "rgb(0,116,217)"
         },
         "mode": "lines",
         "type": "scatter",
         "x": [
          1.3195830771644292,
          1.3582731425063583,
          1.3582731425063583,
          0
         ],
         "xaxis": "x",
         "y": [
          -1180,
          -1180,
          -1195,
          -1195
         ],
         "yaxis": "y"
        },
        {
         "hoverinfo": "text",
         "marker": {
          "color": "rgb(0,116,217)"
         },
         "mode": "lines",
         "type": "scatter",
         "x": [
          0,
          1.3356240989889654,
          1.3356240989889654,
          0
         ],
         "xaxis": "x",
         "y": [
          -1205,
          -1205,
          -1215,
          -1215
         ],
         "yaxis": "y"
        },
        {
         "hoverinfo": "text",
         "marker": {
          "color": "rgb(0,116,217)"
         },
         "mode": "lines",
         "type": "scatter",
         "x": [
          1.3582731425063583,
          1.415538986825216,
          1.415538986825216,
          1.3356240989889654
         ],
         "xaxis": "x",
         "y": [
          -1187.5,
          -1187.5,
          -1210,
          -1210
         ],
         "yaxis": "y"
        },
        {
         "hoverinfo": "text",
         "marker": {
          "color": "rgb(0,116,217)"
         },
         "mode": "lines",
         "type": "scatter",
         "x": [
          0,
          1.3058339212231767,
          1.3058339212231767,
          0
         ],
         "xaxis": "x",
         "y": [
          -1225,
          -1225,
          -1235,
          -1235
         ],
         "yaxis": "y"
        },
        {
         "hoverinfo": "text",
         "marker": {
          "color": "rgb(0,116,217)"
         },
         "mode": "lines",
         "type": "scatter",
         "x": [
          0,
          1.3551448125623808,
          1.3551448125623808,
          0
         ],
         "xaxis": "x",
         "y": [
          -1245,
          -1245,
          -1255,
          -1255
         ],
         "yaxis": "y"
        },
        {
         "hoverinfo": "text",
         "marker": {
          "color": "rgb(0,116,217)"
         },
         "mode": "lines",
         "type": "scatter",
         "x": [
          0,
          1.368441029262156,
          1.368441029262156,
          0
         ],
         "xaxis": "x",
         "y": [
          -1265,
          -1265,
          -1275,
          -1275
         ],
         "yaxis": "y"
        },
        {
         "hoverinfo": "text",
         "marker": {
          "color": "rgb(0,116,217)"
         },
         "mode": "lines",
         "type": "scatter",
         "x": [
          1.3551448125623808,
          1.4163750420292127,
          1.4163750420292127,
          1.368441029262156
         ],
         "xaxis": "x",
         "y": [
          -1250,
          -1250,
          -1270,
          -1270
         ],
         "yaxis": "y"
        },
        {
         "hoverinfo": "text",
         "marker": {
          "color": "rgb(0,116,217)"
         },
         "mode": "lines",
         "type": "scatter",
         "x": [
          1.3058339212231767,
          1.4261177745927123,
          1.4261177745927123,
          1.4163750420292127
         ],
         "xaxis": "x",
         "y": [
          -1230,
          -1230,
          -1260,
          -1260
         ],
         "yaxis": "y"
        },
        {
         "hoverinfo": "text",
         "marker": {
          "color": "rgb(0,116,217)"
         },
         "mode": "lines",
         "type": "scatter",
         "x": [
          1.415538986825216,
          1.4932922011702094,
          1.4932922011702094,
          1.4261177745927123
         ],
         "xaxis": "x",
         "y": [
          -1198.75,
          -1198.75,
          -1245,
          -1245
         ],
         "yaxis": "y"
        },
        {
         "hoverinfo": "text",
         "marker": {
          "color": "rgb(0,116,217)"
         },
         "mode": "lines",
         "type": "scatter",
         "x": [
          0,
          1.2905465653835475,
          1.2905465653835475,
          0
         ],
         "xaxis": "x",
         "y": [
          -1285,
          -1285,
          -1295,
          -1295
         ],
         "yaxis": "y"
        },
        {
         "hoverinfo": "text",
         "marker": {
          "color": "rgb(0,116,217)"
         },
         "mode": "lines",
         "type": "scatter",
         "x": [
          0,
          1.2566956877900297,
          1.2566956877900297,
          0
         ],
         "xaxis": "x",
         "y": [
          -1305,
          -1305,
          -1315,
          -1315
         ],
         "yaxis": "y"
        },
        {
         "hoverinfo": "text",
         "marker": {
          "color": "rgb(0,116,217)"
         },
         "mode": "lines",
         "type": "scatter",
         "x": [
          1.2905465653835475,
          1.3379633627718879,
          1.3379633627718879,
          1.2566956877900297
         ],
         "xaxis": "x",
         "y": [
          -1290,
          -1290,
          -1310,
          -1310
         ],
         "yaxis": "y"
        },
        {
         "hoverinfo": "text",
         "marker": {
          "color": "rgb(0,116,217)"
         },
         "mode": "lines",
         "type": "scatter",
         "x": [
          1.4932922011702094,
          1.5847964125705176,
          1.5847964125705176,
          1.3379633627718879
         ],
         "xaxis": "x",
         "y": [
          -1221.875,
          -1221.875,
          -1300,
          -1300
         ],
         "yaxis": "y"
        },
        {
         "hoverinfo": "text",
         "marker": {
          "color": "rgb(0,116,217)"
         },
         "mode": "lines",
         "type": "scatter",
         "x": [
          0,
          1.1823492726817857,
          1.1823492726817857,
          0
         ],
         "xaxis": "x",
         "y": [
          -1325,
          -1325,
          -1335,
          -1335
         ],
         "yaxis": "y"
        },
        {
         "hoverinfo": "text",
         "marker": {
          "color": "rgb(0,116,217)"
         },
         "mode": "lines",
         "type": "scatter",
         "x": [
          1.1823492726817857,
          1.356036195310501,
          1.356036195310501,
          0
         ],
         "xaxis": "x",
         "y": [
          -1330,
          -1330,
          -1345,
          -1345
         ],
         "yaxis": "y"
        },
        {
         "hoverinfo": "text",
         "marker": {
          "color": "rgb(0,116,217)"
         },
         "mode": "lines",
         "type": "scatter",
         "x": [
          1.5847964125705176,
          1.687643842063905,
          1.687643842063905,
          1.356036195310501
         ],
         "xaxis": "x",
         "y": [
          -1260.9375,
          -1260.9375,
          -1337.5,
          -1337.5
         ],
         "yaxis": "y"
        },
        {
         "hoverinfo": "text",
         "marker": {
          "color": "rgb(0,116,217)"
         },
         "mode": "lines",
         "type": "scatter",
         "x": [
          0.9351261583655855,
          1.8215126486284001,
          1.8215126486284001,
          1.687643842063905
         ],
         "xaxis": "x",
         "y": [
          -1160,
          -1160,
          -1299.21875,
          -1299.21875
         ],
         "yaxis": "y"
        },
        {
         "hoverinfo": "text",
         "marker": {
          "color": "rgb(0,116,217)"
         },
         "mode": "lines",
         "type": "scatter",
         "x": [
          0,
          1.0154998010368093,
          1.0154998010368093,
          0
         ],
         "xaxis": "x",
         "y": [
          -1355,
          -1355,
          -1365,
          -1365
         ],
         "yaxis": "y"
        },
        {
         "hoverinfo": "text",
         "marker": {
          "color": "rgb(0,116,217)"
         },
         "mode": "lines",
         "type": "scatter",
         "x": [
          1.8215126486284001,
          2.01379285848525,
          2.01379285848525,
          1.0154998010368093
         ],
         "xaxis": "x",
         "y": [
          -1229.609375,
          -1229.609375,
          -1360,
          -1360
         ],
         "yaxis": "y"
        },
        {
         "hoverinfo": "text",
         "marker": {
          "color": "rgb(0,116,217)"
         },
         "mode": "lines",
         "type": "scatter",
         "x": [
          1.3017873523205183,
          2.1397889401154395,
          2.1397889401154395,
          2.01379285848525
         ],
         "xaxis": "x",
         "y": [
          -1137.5,
          -1137.5,
          -1294.8046875,
          -1294.8046875
         ],
         "yaxis": "y"
        },
        {
         "hoverinfo": "text",
         "marker": {
          "color": "rgb(61,153,112)"
         },
         "mode": "lines",
         "type": "scatter",
         "x": [
          0,
          0.49426302995482296,
          0.49426302995482296,
          0
         ],
         "xaxis": "x",
         "y": [
          -1375,
          -1375,
          -1385,
          -1385
         ],
         "yaxis": "y"
        },
        {
         "hoverinfo": "text",
         "marker": {
          "color": "rgb(0,116,217)"
         },
         "mode": "lines",
         "type": "scatter",
         "x": [
          2.1397889401154395,
          2.2373049383099497,
          2.2373049383099497,
          0.49426302995482296
         ],
         "xaxis": "x",
         "y": [
          -1216.15234375,
          -1216.15234375,
          -1380,
          -1380
         ],
         "yaxis": "y"
        },
        {
         "hoverinfo": "text",
         "marker": {
          "color": "rgb(0,116,217)"
         },
         "mode": "lines",
         "type": "scatter",
         "x": [
          0.2629762500800147,
          2.445729920393685,
          2.445729920393685,
          2.2373049383099497
         ],
         "xaxis": "x",
         "y": [
          -1110,
          -1110,
          -1298.076171875,
          -1298.076171875
         ],
         "yaxis": "y"
        },
        {
         "hoverinfo": "text",
         "marker": {
          "color": "rgb(0,116,217)"
         },
         "mode": "lines",
         "type": "scatter",
         "x": [
          2.257472019322142,
          2.625890001373634,
          2.625890001373634,
          2.445729920393685
         ],
         "xaxis": "x",
         "y": [
          -826.0975646972656,
          -826.0975646972656,
          -1204.0380859375,
          -1204.0380859375
         ],
         "yaxis": "y"
        },
        {
         "hoverinfo": "text",
         "marker": {
          "color": "rgb(255,65,54)"
         },
         "mode": "lines",
         "type": "scatter",
         "x": [
          0,
          0.15654322111310703,
          0.15654322111310703,
          0
         ],
         "xaxis": "x",
         "y": [
          -1395,
          -1395,
          -1405,
          -1405
         ],
         "yaxis": "y"
        },
        {
         "hoverinfo": "text",
         "marker": {
          "color": "rgb(0,116,217)"
         },
         "mode": "lines",
         "type": "scatter",
         "x": [
          2.625890001373634,
          2.663631219478495,
          2.663631219478495,
          0.15654322111310703
         ],
         "xaxis": "x",
         "y": [
          -1015.0678253173828,
          -1015.0678253173828,
          -1400,
          -1400
         ],
         "yaxis": "y"
        },
        {
         "hoverinfo": "text",
         "marker": {
          "color": "rgb(0,116,217)"
         },
         "mode": "lines",
         "type": "scatter",
         "x": [
          3.271897920650028,
          3.9131470802118278,
          3.9131470802118278,
          2.663631219478495
         ],
         "xaxis": "x",
         "y": [
          -570.3125,
          -570.3125,
          -1207.5339126586914,
          -1207.5339126586914
         ],
         "yaxis": "y"
        },
        {
         "hoverinfo": "text",
         "marker": {
          "color": "rgb(0,116,217)"
         },
         "mode": "lines",
         "type": "scatter",
         "x": [
          3.0490543516387913,
          4.325673661838033,
          4.325673661838033,
          3.9131470802118278
         ],
         "xaxis": "x",
         "y": [
          -206.650390625,
          -206.650390625,
          -888.9232063293457,
          -888.9232063293457
         ],
         "yaxis": "y"
        }
       ],
       "layout": {
        "autosize": false,
        "height": 2315,
        "hoverlabel": {
         "bgcolor": "white",
         "font": {
          "family": "Rockwell",
          "size": 16
         }
        },
        "hovermode": "closest",
        "plot_bgcolor": "#ECEFF1",
        "showlegend": false,
        "template": {
         "data": {
          "bar": [
           {
            "error_x": {
             "color": "#2a3f5f"
            },
            "error_y": {
             "color": "#2a3f5f"
            },
            "marker": {
             "line": {
              "color": "white",
              "width": 0.5
             },
             "pattern": {
              "fillmode": "overlay",
              "size": 10,
              "solidity": 0.2
             }
            },
            "type": "bar"
           }
          ],
          "barpolar": [
           {
            "marker": {
             "line": {
              "color": "white",
              "width": 0.5
             },
             "pattern": {
              "fillmode": "overlay",
              "size": 10,
              "solidity": 0.2
             }
            },
            "type": "barpolar"
           }
          ],
          "carpet": [
           {
            "aaxis": {
             "endlinecolor": "#2a3f5f",
             "gridcolor": "#C8D4E3",
             "linecolor": "#C8D4E3",
             "minorgridcolor": "#C8D4E3",
             "startlinecolor": "#2a3f5f"
            },
            "baxis": {
             "endlinecolor": "#2a3f5f",
             "gridcolor": "#C8D4E3",
             "linecolor": "#C8D4E3",
             "minorgridcolor": "#C8D4E3",
             "startlinecolor": "#2a3f5f"
            },
            "type": "carpet"
           }
          ],
          "choropleth": [
           {
            "colorbar": {
             "outlinewidth": 0,
             "ticks": ""
            },
            "type": "choropleth"
           }
          ],
          "contour": [
           {
            "colorbar": {
             "outlinewidth": 0,
             "ticks": ""
            },
            "colorscale": [
             [
              0,
              "#0d0887"
             ],
             [
              0.1111111111111111,
              "#46039f"
             ],
             [
              0.2222222222222222,
              "#7201a8"
             ],
             [
              0.3333333333333333,
              "#9c179e"
             ],
             [
              0.4444444444444444,
              "#bd3786"
             ],
             [
              0.5555555555555556,
              "#d8576b"
             ],
             [
              0.6666666666666666,
              "#ed7953"
             ],
             [
              0.7777777777777778,
              "#fb9f3a"
             ],
             [
              0.8888888888888888,
              "#fdca26"
             ],
             [
              1,
              "#f0f921"
             ]
            ],
            "type": "contour"
           }
          ],
          "contourcarpet": [
           {
            "colorbar": {
             "outlinewidth": 0,
             "ticks": ""
            },
            "type": "contourcarpet"
           }
          ],
          "heatmap": [
           {
            "colorbar": {
             "outlinewidth": 0,
             "ticks": ""
            },
            "colorscale": [
             [
              0,
              "#0d0887"
             ],
             [
              0.1111111111111111,
              "#46039f"
             ],
             [
              0.2222222222222222,
              "#7201a8"
             ],
             [
              0.3333333333333333,
              "#9c179e"
             ],
             [
              0.4444444444444444,
              "#bd3786"
             ],
             [
              0.5555555555555556,
              "#d8576b"
             ],
             [
              0.6666666666666666,
              "#ed7953"
             ],
             [
              0.7777777777777778,
              "#fb9f3a"
             ],
             [
              0.8888888888888888,
              "#fdca26"
             ],
             [
              1,
              "#f0f921"
             ]
            ],
            "type": "heatmap"
           }
          ],
          "heatmapgl": [
           {
            "colorbar": {
             "outlinewidth": 0,
             "ticks": ""
            },
            "colorscale": [
             [
              0,
              "#0d0887"
             ],
             [
              0.1111111111111111,
              "#46039f"
             ],
             [
              0.2222222222222222,
              "#7201a8"
             ],
             [
              0.3333333333333333,
              "#9c179e"
             ],
             [
              0.4444444444444444,
              "#bd3786"
             ],
             [
              0.5555555555555556,
              "#d8576b"
             ],
             [
              0.6666666666666666,
              "#ed7953"
             ],
             [
              0.7777777777777778,
              "#fb9f3a"
             ],
             [
              0.8888888888888888,
              "#fdca26"
             ],
             [
              1,
              "#f0f921"
             ]
            ],
            "type": "heatmapgl"
           }
          ],
          "histogram": [
           {
            "marker": {
             "pattern": {
              "fillmode": "overlay",
              "size": 10,
              "solidity": 0.2
             }
            },
            "type": "histogram"
           }
          ],
          "histogram2d": [
           {
            "colorbar": {
             "outlinewidth": 0,
             "ticks": ""
            },
            "colorscale": [
             [
              0,
              "#0d0887"
             ],
             [
              0.1111111111111111,
              "#46039f"
             ],
             [
              0.2222222222222222,
              "#7201a8"
             ],
             [
              0.3333333333333333,
              "#9c179e"
             ],
             [
              0.4444444444444444,
              "#bd3786"
             ],
             [
              0.5555555555555556,
              "#d8576b"
             ],
             [
              0.6666666666666666,
              "#ed7953"
             ],
             [
              0.7777777777777778,
              "#fb9f3a"
             ],
             [
              0.8888888888888888,
              "#fdca26"
             ],
             [
              1,
              "#f0f921"
             ]
            ],
            "type": "histogram2d"
           }
          ],
          "histogram2dcontour": [
           {
            "colorbar": {
             "outlinewidth": 0,
             "ticks": ""
            },
            "colorscale": [
             [
              0,
              "#0d0887"
             ],
             [
              0.1111111111111111,
              "#46039f"
             ],
             [
              0.2222222222222222,
              "#7201a8"
             ],
             [
              0.3333333333333333,
              "#9c179e"
             ],
             [
              0.4444444444444444,
              "#bd3786"
             ],
             [
              0.5555555555555556,
              "#d8576b"
             ],
             [
              0.6666666666666666,
              "#ed7953"
             ],
             [
              0.7777777777777778,
              "#fb9f3a"
             ],
             [
              0.8888888888888888,
              "#fdca26"
             ],
             [
              1,
              "#f0f921"
             ]
            ],
            "type": "histogram2dcontour"
           }
          ],
          "mesh3d": [
           {
            "colorbar": {
             "outlinewidth": 0,
             "ticks": ""
            },
            "type": "mesh3d"
           }
          ],
          "parcoords": [
           {
            "line": {
             "colorbar": {
              "outlinewidth": 0,
              "ticks": ""
             }
            },
            "type": "parcoords"
           }
          ],
          "pie": [
           {
            "automargin": true,
            "type": "pie"
           }
          ],
          "scatter": [
           {
            "fillpattern": {
             "fillmode": "overlay",
             "size": 10,
             "solidity": 0.2
            },
            "type": "scatter"
           }
          ],
          "scatter3d": [
           {
            "line": {
             "colorbar": {
              "outlinewidth": 0,
              "ticks": ""
             }
            },
            "marker": {
             "colorbar": {
              "outlinewidth": 0,
              "ticks": ""
             }
            },
            "type": "scatter3d"
           }
          ],
          "scattercarpet": [
           {
            "marker": {
             "colorbar": {
              "outlinewidth": 0,
              "ticks": ""
             }
            },
            "type": "scattercarpet"
           }
          ],
          "scattergeo": [
           {
            "marker": {
             "colorbar": {
              "outlinewidth": 0,
              "ticks": ""
             }
            },
            "type": "scattergeo"
           }
          ],
          "scattergl": [
           {
            "marker": {
             "colorbar": {
              "outlinewidth": 0,
              "ticks": ""
             }
            },
            "type": "scattergl"
           }
          ],
          "scattermapbox": [
           {
            "marker": {
             "colorbar": {
              "outlinewidth": 0,
              "ticks": ""
             }
            },
            "type": "scattermapbox"
           }
          ],
          "scatterpolar": [
           {
            "marker": {
             "colorbar": {
              "outlinewidth": 0,
              "ticks": ""
             }
            },
            "type": "scatterpolar"
           }
          ],
          "scatterpolargl": [
           {
            "marker": {
             "colorbar": {
              "outlinewidth": 0,
              "ticks": ""
             }
            },
            "type": "scatterpolargl"
           }
          ],
          "scatterternary": [
           {
            "marker": {
             "colorbar": {
              "outlinewidth": 0,
              "ticks": ""
             }
            },
            "type": "scatterternary"
           }
          ],
          "surface": [
           {
            "colorbar": {
             "outlinewidth": 0,
             "ticks": ""
            },
            "colorscale": [
             [
              0,
              "#0d0887"
             ],
             [
              0.1111111111111111,
              "#46039f"
             ],
             [
              0.2222222222222222,
              "#7201a8"
             ],
             [
              0.3333333333333333,
              "#9c179e"
             ],
             [
              0.4444444444444444,
              "#bd3786"
             ],
             [
              0.5555555555555556,
              "#d8576b"
             ],
             [
              0.6666666666666666,
              "#ed7953"
             ],
             [
              0.7777777777777778,
              "#fb9f3a"
             ],
             [
              0.8888888888888888,
              "#fdca26"
             ],
             [
              1,
              "#f0f921"
             ]
            ],
            "type": "surface"
           }
          ],
          "table": [
           {
            "cells": {
             "fill": {
              "color": "#EBF0F8"
             },
             "line": {
              "color": "white"
             }
            },
            "header": {
             "fill": {
              "color": "#C8D4E3"
             },
             "line": {
              "color": "white"
             }
            },
            "type": "table"
           }
          ]
         },
         "layout": {
          "annotationdefaults": {
           "arrowcolor": "#2a3f5f",
           "arrowhead": 0,
           "arrowwidth": 1
          },
          "autotypenumbers": "strict",
          "coloraxis": {
           "colorbar": {
            "outlinewidth": 0,
            "ticks": ""
           }
          },
          "colorscale": {
           "diverging": [
            [
             0,
             "#8e0152"
            ],
            [
             0.1,
             "#c51b7d"
            ],
            [
             0.2,
             "#de77ae"
            ],
            [
             0.3,
             "#f1b6da"
            ],
            [
             0.4,
             "#fde0ef"
            ],
            [
             0.5,
             "#f7f7f7"
            ],
            [
             0.6,
             "#e6f5d0"
            ],
            [
             0.7,
             "#b8e186"
            ],
            [
             0.8,
             "#7fbc41"
            ],
            [
             0.9,
             "#4d9221"
            ],
            [
             1,
             "#276419"
            ]
           ],
           "sequential": [
            [
             0,
             "#0d0887"
            ],
            [
             0.1111111111111111,
             "#46039f"
            ],
            [
             0.2222222222222222,
             "#7201a8"
            ],
            [
             0.3333333333333333,
             "#9c179e"
            ],
            [
             0.4444444444444444,
             "#bd3786"
            ],
            [
             0.5555555555555556,
             "#d8576b"
            ],
            [
             0.6666666666666666,
             "#ed7953"
            ],
            [
             0.7777777777777778,
             "#fb9f3a"
            ],
            [
             0.8888888888888888,
             "#fdca26"
            ],
            [
             1,
             "#f0f921"
            ]
           ],
           "sequentialminus": [
            [
             0,
             "#0d0887"
            ],
            [
             0.1111111111111111,
             "#46039f"
            ],
            [
             0.2222222222222222,
             "#7201a8"
            ],
            [
             0.3333333333333333,
             "#9c179e"
            ],
            [
             0.4444444444444444,
             "#bd3786"
            ],
            [
             0.5555555555555556,
             "#d8576b"
            ],
            [
             0.6666666666666666,
             "#ed7953"
            ],
            [
             0.7777777777777778,
             "#fb9f3a"
            ],
            [
             0.8888888888888888,
             "#fdca26"
            ],
            [
             1,
             "#f0f921"
            ]
           ]
          },
          "colorway": [
           "#636efa",
           "#EF553B",
           "#00cc96",
           "#ab63fa",
           "#FFA15A",
           "#19d3f3",
           "#FF6692",
           "#B6E880",
           "#FF97FF",
           "#FECB52"
          ],
          "font": {
           "color": "#2a3f5f"
          },
          "geo": {
           "bgcolor": "white",
           "lakecolor": "white",
           "landcolor": "white",
           "showlakes": true,
           "showland": true,
           "subunitcolor": "#C8D4E3"
          },
          "hoverlabel": {
           "align": "left"
          },
          "hovermode": "closest",
          "mapbox": {
           "style": "light"
          },
          "paper_bgcolor": "white",
          "plot_bgcolor": "white",
          "polar": {
           "angularaxis": {
            "gridcolor": "#EBF0F8",
            "linecolor": "#EBF0F8",
            "ticks": ""
           },
           "bgcolor": "white",
           "radialaxis": {
            "gridcolor": "#EBF0F8",
            "linecolor": "#EBF0F8",
            "ticks": ""
           }
          },
          "scene": {
           "xaxis": {
            "backgroundcolor": "white",
            "gridcolor": "#DFE8F3",
            "gridwidth": 2,
            "linecolor": "#EBF0F8",
            "showbackground": true,
            "ticks": "",
            "zerolinecolor": "#EBF0F8"
           },
           "yaxis": {
            "backgroundcolor": "white",
            "gridcolor": "#DFE8F3",
            "gridwidth": 2,
            "linecolor": "#EBF0F8",
            "showbackground": true,
            "ticks": "",
            "zerolinecolor": "#EBF0F8"
           },
           "zaxis": {
            "backgroundcolor": "white",
            "gridcolor": "#DFE8F3",
            "gridwidth": 2,
            "linecolor": "#EBF0F8",
            "showbackground": true,
            "ticks": "",
            "zerolinecolor": "#EBF0F8"
           }
          },
          "shapedefaults": {
           "line": {
            "color": "#2a3f5f"
           }
          },
          "ternary": {
           "aaxis": {
            "gridcolor": "#DFE8F3",
            "linecolor": "#A2B1C6",
            "ticks": ""
           },
           "baxis": {
            "gridcolor": "#DFE8F3",
            "linecolor": "#A2B1C6",
            "ticks": ""
           },
           "bgcolor": "white",
           "caxis": {
            "gridcolor": "#DFE8F3",
            "linecolor": "#A2B1C6",
            "ticks": ""
           }
          },
          "title": {
           "x": 0.05
          },
          "xaxis": {
           "automargin": true,
           "gridcolor": "#EBF0F8",
           "linecolor": "#EBF0F8",
           "ticks": "",
           "title": {
            "standoff": 15
           },
           "zerolinecolor": "#EBF0F8",
           "zerolinewidth": 2
          },
          "yaxis": {
           "automargin": true,
           "gridcolor": "#EBF0F8",
           "linecolor": "#EBF0F8",
           "ticks": "",
           "title": {
            "standoff": 15
           },
           "zerolinecolor": "#EBF0F8",
           "zerolinewidth": 2
          }
         }
        },
        "title": {
         "font": {
          "color": "Black",
          "size": 22
         },
         "text": "<b>Hierarchical Clustering</b>",
         "x": 0.5,
         "xanchor": "center",
         "yanchor": "top"
        },
        "width": 1000,
        "xaxis": {
         "mirror": "allticks",
         "rangemode": "tozero",
         "showgrid": false,
         "showline": true,
         "showticklabels": true,
         "ticks": "outside",
         "type": "linear",
         "zeroline": false
        },
        "yaxis": {
         "mirror": "allticks",
         "range": [
          -1410,
          0
         ],
         "rangemode": "tozero",
         "showgrid": false,
         "showline": true,
         "showticklabels": true,
         "tickmode": "array",
         "ticks": "outside",
         "ticktext": [
          "0_pouvoir_devoir_faire",
          "1_kilomètre_heure_kilomètre...",
          "11_médecin_patient_médical",
          "60_référendum_initiative ci...",
          "4_vote_blanc_vote blanc",
          "62_musique_taxe_jeune",
          "9_revoir_falloir_devoir",
          "43_justice_tribunal_droit",
          "3_commune_petit commune_maire",
          "82_commune_maire_colère rée...",
          "71_cahier doléance_cahier_d...",
          "51_secrétariat_doléance_com...",
          "58_message_doléance_ville",
          "45_message_adresse postal_s...",
          "21_nom_prénom_date",
          "78_handicapé_handicap_handi...",
          "25_handicapé_handicap_handi...",
          "105_volaille_vaccin_vaccin ...",
          "90_animal_élevage_chasse",
          "94_fin_petit commerce_centr...",
          "109_cannabis_légalisation c...",
          "50_femme_homme_homme femme",
          "106_médecin_patient_médical",
          "112_retraite élu_élu_toucher",
          "24_euro_euro mois_mois",
          "102_étranger_cotiser_suppre...",
          "2_retraite_augmentation_csg",
          "47_suppression_suppression ...",
          "84_suppression_réduction_dé...",
          "32_privilège_abolition_abol...",
          "96_cabinet_cabinet mairi_ca...",
          "33_public république frança...",
          "28_ordre priorité problème_...",
          "116_proposer souhaiter_ordr...",
          "67_amif_amif asso_amif asso...",
          "111_proposition_contributio...",
          "8_souhaiter_ordre priorité_...",
          "38_contribution proposition...",
          "17_dépense_fiscalité_dépens...",
          "22_dépense_domaine_réponse",
          "37_prêt payer impôt_prêt pa...",
          "128_million_service_public",
          "48_administration_débat dev...",
          "134_service_service public_...",
          "36_évoluer_année évoluer ma...",
          "138_point organisation_poin...",
          "26_service public_service p...",
          "15_organisation_service pub...",
          "29_service public_chose_bon...",
          "39_oui_erreur_droit erreur",
          "65_service_prive_impôt",
          "59_pouvoir améliorer_amélio...",
          "89_transition_transition éc...",
          "103_débat_débat national_gr...",
          "123_transition_transition é...",
          "126_conseil départemental r...",
          "13_immigration_politique mi...",
          "93_million_institution_tour...",
          "23_oui_initiative_organiser...",
          "16_association organisation...",
          "40_recours référendum nivea...",
          "30_laïcité_renforcer_religion",
          "41_comportement civique_fal...",
          "35_discrimination_incivilit...",
          "56_chauffage_protéger envir...",
          "18_alternatif_solution_solu...",
          "19_toucher changement_touch...",
          "76_transition_européen_envi...",
          "31_transition écologique_éc...",
          "63_transition_transition éc...",
          "99_million ménage_facture c...",
          "83_hausse température_tempé...",
          "115_hausse température_temp...",
          "79_évoluer fiscalité_évolue...",
          "88_satisfaction_point satis...",
          "130_satisfaction difficulté...",
          "127_mission grand débat_mis...",
          "10_cotisation social_divide...",
          "5_petit patron_petit_patron",
          "87_probablement_solaire_pro...",
          "12_victime_appel_relaxe",
          "27_peine_réduction peine_dé...",
          "129_retrouver actualité vil...",
          "61_eaux_eaux fr_les eaux",
          "53_porter numéro_préfet_cah...",
          "107_2019 01_2019_01",
          "73_gilet_jaune_gilet jaune",
          "124_grignoise_quartier mail...",
          "137_veuve_demi_veuf",
          "72_voisin_pareil voisin_sav...",
          "120_tableau tableau_tableau...",
          "101_tester_ix_ix tester",
          "7___",
          "20_fin page_fin page écrire...",
          "100_rôle social journaliste...",
          "108_image image image_image...",
          "122_phase_ème phase_ème",
          "117_traité_difficulté_ident...",
          "57_modalité intégration_eff...",
          "54_retard_bnri_calendrier",
          "119_contentieux_traité_voie...",
          "114_éventuel_éventuel renco...",
          "121_abrogation_abrogation l...",
          "125_immigration_migrant_arrêt",
          "92_loi anti_anti_liberté",
          "133_produit soutenir aider_...",
          "85_violence policier_respec...",
          "139_expulsion_étranger_priv...",
          "81_ric_place ric_mise place...",
          "135_ric_ric matière_ric ric",
          "66_hyeres_soumettre_mairie ...",
          "74_hyeres_soumettre_soumiss...",
          "46_national cahier citoyen_...",
          "44_national cahier citoyen_...",
          "104_cahier citoyen_cahier_c...",
          "42_souhaiter exprimer théma...",
          "49_formulaire_formulaire fo...",
          "132_fiche_concertation_iden...",
          "98_consultation national as...",
          "97_contribution_formulaire_...",
          "75_réclamation_mairie_possi...",
          "136_signature_renseigner do...",
          "6_mourir_actif_aide actif",
          "131_proposition déposer cah...",
          "55_observation_observation ...",
          "77_bonjour_cordialement bon...",
          "80_doléance_parole_pouvoir ...",
          "110_association maire_expre...",
          "64_marseille_marseille fr_m...",
          "34_fr_wanadoo fr_wanadoo",
          "52_paris fr_paris_formulair...",
          "68_neuilly_neuilly plaisanc...",
          "14_février_registre_maire",
          "118_préfecture_sous préfect...",
          "70_transmettre_courrier cit...",
          "140_doléance doléance_doléa...",
          "95_doléance doléance_doléan...",
          "91_cahier doléance proposit...",
          "86_document transmettre_doc...",
          "69_page_rayer non_cahier cl...",
          "113_page_éviter rajout_comp..."
         ],
         "tickvals": [
          -5,
          -15,
          -25,
          -35,
          -45,
          -55,
          -65,
          -75,
          -85,
          -95,
          -105,
          -115,
          -125,
          -135,
          -145,
          -155,
          -165,
          -175,
          -185,
          -195,
          -205,
          -215,
          -225,
          -235,
          -245,
          -255,
          -265,
          -275,
          -285,
          -295,
          -305,
          -315,
          -325,
          -335,
          -345,
          -355,
          -365,
          -375,
          -385,
          -395,
          -405,
          -415,
          -425,
          -435,
          -445,
          -455,
          -465,
          -475,
          -485,
          -495,
          -505,
          -515,
          -525,
          -535,
          -545,
          -555,
          -565,
          -575,
          -585,
          -595,
          -605,
          -615,
          -625,
          -635,
          -645,
          -655,
          -665,
          -675,
          -685,
          -695,
          -705,
          -715,
          -725,
          -735,
          -745,
          -755,
          -765,
          -775,
          -785,
          -795,
          -805,
          -815,
          -825,
          -835,
          -845,
          -855,
          -865,
          -875,
          -885,
          -895,
          -905,
          -915,
          -925,
          -935,
          -945,
          -955,
          -965,
          -975,
          -985,
          -995,
          -1005,
          -1015,
          -1025,
          -1035,
          -1045,
          -1055,
          -1065,
          -1075,
          -1085,
          -1095,
          -1105,
          -1115,
          -1125,
          -1135,
          -1145,
          -1155,
          -1165,
          -1175,
          -1185,
          -1195,
          -1205,
          -1215,
          -1225,
          -1235,
          -1245,
          -1255,
          -1265,
          -1275,
          -1285,
          -1295,
          -1305,
          -1315,
          -1325,
          -1335,
          -1345,
          -1355,
          -1365,
          -1375,
          -1385,
          -1395,
          -1405
         ],
         "type": "linear",
         "zeroline": false
        }
       }
      }
     },
     "metadata": {},
     "output_type": "display_data"
    }
   ],
   "source": [
    "hierarchie.show()"
   ]
  },
  {
   "cell_type": "code",
   "execution_count": null,
   "metadata": {},
   "outputs": [],
   "source": []
  }
 ],
 "metadata": {
  "kernelspec": {
   "display_name": "my4env",
   "language": "python",
   "name": "python3"
  },
  "language_info": {
   "codemirror_mode": {
    "name": "ipython",
    "version": 3
   },
   "file_extension": ".py",
   "mimetype": "text/x-python",
   "name": "python",
   "nbconvert_exporter": "python",
   "pygments_lexer": "ipython3",
   "version": "3.10.6"
  },
  "orig_nbformat": 4
 },
 "nbformat": 4,
 "nbformat_minor": 2
}

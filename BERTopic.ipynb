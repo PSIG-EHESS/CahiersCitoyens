{
 "cells": [
  {
   "cell_type": "code",
   "execution_count": 1,
   "metadata": {},
   "outputs": [],
   "source": [
    "# pip install bertopic[spacy]\n",
    "\n",
    "# installés en même temps :\n",
    "# SentenceTransformer\n",
    "# plotly\n",
    "# (plotly pour visualizations de BERTopic)"
   ]
  },
  {
   "cell_type": "code",
   "execution_count": 2,
   "metadata": {},
   "outputs": [
    {
     "name": "stderr",
     "output_type": "stream",
     "text": [
      "c:\\Users\\ehess\\anaconda3\\envs\\my4env\\lib\\site-packages\\umap\\distances.py:1063: NumbaDeprecationWarning: \u001b[1mThe 'nopython' keyword argument was not supplied to the 'numba.jit' decorator. The implicit default value for this argument is currently False, but it will be changed to True in Numba 0.59.0. See https://numba.readthedocs.io/en/stable/reference/deprecation.html#deprecation-of-object-mode-fall-back-behaviour-when-using-jit for details.\u001b[0m\n",
      "  @numba.jit()\n",
      "c:\\Users\\ehess\\anaconda3\\envs\\my4env\\lib\\site-packages\\umap\\distances.py:1071: NumbaDeprecationWarning: \u001b[1mThe 'nopython' keyword argument was not supplied to the 'numba.jit' decorator. The implicit default value for this argument is currently False, but it will be changed to True in Numba 0.59.0. See https://numba.readthedocs.io/en/stable/reference/deprecation.html#deprecation-of-object-mode-fall-back-behaviour-when-using-jit for details.\u001b[0m\n",
      "  @numba.jit()\n",
      "c:\\Users\\ehess\\anaconda3\\envs\\my4env\\lib\\site-packages\\umap\\distances.py:1086: NumbaDeprecationWarning: \u001b[1mThe 'nopython' keyword argument was not supplied to the 'numba.jit' decorator. The implicit default value for this argument is currently False, but it will be changed to True in Numba 0.59.0. See https://numba.readthedocs.io/en/stable/reference/deprecation.html#deprecation-of-object-mode-fall-back-behaviour-when-using-jit for details.\u001b[0m\n",
      "  @numba.jit()\n",
      "c:\\Users\\ehess\\anaconda3\\envs\\my4env\\lib\\site-packages\\umap\\umap_.py:660: NumbaDeprecationWarning: \u001b[1mThe 'nopython' keyword argument was not supplied to the 'numba.jit' decorator. The implicit default value for this argument is currently False, but it will be changed to True in Numba 0.59.0. See https://numba.readthedocs.io/en/stable/reference/deprecation.html#deprecation-of-object-mode-fall-back-behaviour-when-using-jit for details.\u001b[0m\n",
      "  @numba.jit()\n"
     ]
    }
   ],
   "source": [
    "import pandas as pd\n",
    "# surveillance des GPU/RAm/etc.\n",
    "import GPUtil\n",
    "# vectorisation des textes\n",
    "import torch\n",
    "from sklearn.feature_extraction.text import CountVectorizer\n",
    "\n",
    "# modèle\n",
    "from bertopic import BERTopic\n",
    "# error ou warning : c:\\Users\\ehess\\anaconda3\\envs\\my4env\\lib\\site-packages\\umap\\distances.py:1063: \n",
    "# NumbaDeprecationWarning: The 'nopython' keyword argument was not supplied to the 'numba.jit' decorator. \n",
    "# The implicit default value for this argument is currently False, but it will be changed to True in Numba 0.59.0. \n",
    "# See https://numba.readthedocs.io/en/stable/reference/deprecation.html#deprecation-of-object-mode-fall-back-behaviour-when-using-jit for details.@numba.jit()"
   ]
  },
  {
   "cell_type": "code",
   "execution_count": 3,
   "metadata": {},
   "outputs": [],
   "source": [
    "import spacy"
   ]
  },
  {
   "cell_type": "code",
   "execution_count": 4,
   "metadata": {},
   "outputs": [
    {
     "data": {
      "text/plain": [
       "True"
      ]
     },
     "execution_count": 4,
     "metadata": {},
     "output_type": "execute_result"
    }
   ],
   "source": [
    "torch.cuda.is_available()\n"
   ]
  },
  {
   "cell_type": "code",
   "execution_count": 5,
   "metadata": {},
   "outputs": [
    {
     "name": "stdout",
     "output_type": "stream",
     "text": [
      "Using GPU!\n",
      "GPU Usage\n",
      "| ID | GPU | MEM |\n",
      "------------------\n",
      "|  0 |  5% | 42% |\n"
     ]
    }
   ],
   "source": [
    "# pour un ordi avec GPU\n",
    "is_using_gpu = spacy.prefer_gpu()\n",
    "if is_using_gpu:\n",
    "    print(\"Using GPU!\")\n",
    "    torch.set_default_tensor_type(\"torch.cuda.FloatTensor\")\n",
    "    print(\"GPU Usage\")\n",
    "    GPUtil.showUtilization()"
   ]
  },
  {
   "cell_type": "code",
   "execution_count": 6,
   "metadata": {},
   "outputs": [],
   "source": [
    "df = pd.read_csv(\"df_CC_lemmas_postag_corrected.csv\", sep = \",\", encoding = \"utf-8\", dtype= str)\n",
    "\n",
    "# 20 sc"
   ]
  },
  {
   "cell_type": "code",
   "execution_count": 7,
   "metadata": {},
   "outputs": [],
   "source": [
    "# df = df.sample(10000)"
   ]
  },
  {
   "cell_type": "code",
   "execution_count": 8,
   "metadata": {},
   "outputs": [],
   "source": [
    "df[\"lemmas_without_stopwords\"] = df[\"lemmas without stopwords\"]\n",
    "# la fonction .tolist() n'accepte pas les espace dans les noms de colonnes"
   ]
  },
  {
   "cell_type": "code",
   "execution_count": 9,
   "metadata": {},
   "outputs": [
    {
     "data": {
      "text/plain": [
       "\"['augmenter', 'salaire', 'fonctionnaire', 'diminuer', 'taxe', 'service', 'revoir', 'convention', 'aide', 'domicile', 'prix', 'kilomètre', 'plupart', 'travailler', 'voiture', 'personnel', 'prix', 'proposer', 'prendre', 'charge', 'réalité', 'voiture', 'maire', 'm', 'besoin', 'entretien', 'pourtant', 'travail', 'domicile', 'permettre', 'accompagner', 'difficulté', 'social', 'malade', 'cadre', 'papier', 'administ', 'extérieure', 'prix', 'association', 'institution', 'temps', 'réfléchir', 'lire', 'comprendre', 'développement', 'ligne', 'ferroviaire', 'olorov', 'augmentation', 'horaire', 'cadencement', 'buzy', 'solution', 'permettre', 'diminuer', 'nombre', 'voiture', 'route', 'accidenter', 'gérer', 'préserver', 'environnement']\""
      ]
     },
     "execution_count": 9,
     "metadata": {},
     "output_type": "execute_result"
    }
   ],
   "source": [
    "lemmatized = df.lemmas_without_stopwords.tolist()\n",
    "lemmatized[30]"
   ]
  },
  {
   "cell_type": "code",
   "execution_count": 10,
   "metadata": {},
   "outputs": [
    {
     "name": "stdout",
     "output_type": "stream",
     "text": [
      "| ID | GPU | MEM |\n",
      "------------------\n",
      "|  0 | 12% | 41% |\n"
     ]
    }
   ],
   "source": [
    "GPUtil.showUtilization()"
   ]
  },
  {
   "cell_type": "code",
   "execution_count": 11,
   "metadata": {},
   "outputs": [],
   "source": [
    "from umap import UMAP\n",
    "from hdbscan import HDBSCAN\n",
    "from sklearn.feature_extraction.text import CountVectorizer\n",
    "\n",
    "from bertopic import BERTopic\n",
    "# from bertopic.representation import KeyBERTInspired\n",
    "from bertopic.vectorizers import ClassTfidfTransformer\n",
    "from sentence_transformers import SentenceTransformer\n"
   ]
  },
  {
   "cell_type": "code",
   "execution_count": 12,
   "metadata": {},
   "outputs": [],
   "source": [
    "device = \"cuda:0\" if torch.cuda.is_available() else \"cpu\""
   ]
  },
  {
   "cell_type": "code",
   "execution_count": 13,
   "metadata": {},
   "outputs": [
    {
     "name": "stdout",
     "output_type": "stream",
     "text": [
      "cuda:0\n"
     ]
    }
   ],
   "source": [
    "print(device)"
   ]
  },
  {
   "cell_type": "code",
   "execution_count": 14,
   "metadata": {},
   "outputs": [],
   "source": [
    "embedding_model = SentenceTransformer(\"all-MiniLM-L6-v2\", device = \"cuda\") # device = cuda ne génère pas d'erreur, il le trouve"
   ]
  },
  {
   "cell_type": "code",
   "execution_count": 15,
   "metadata": {},
   "outputs": [],
   "source": [
    "# Step 1 - Extract embeddings\n",
    "\n",
    "# the trained embedding produced with the La Javaness procedure, from CamemBert didn t work :\n",
    "# embedding_model = SentenceTransformer(os.path.join('/Users/ehess/.cache/torch/sentence_transformers/dangvantuan_sentence-camembert-large/', 'sentence_bert_config.json'))\n",
    "# '/Users/ehess/.cache/torch/sentence_transformers/dangvantuan_sentence-camembert-large'\n",
    "\n",
    "# pour telecharger :\n",
    "# from transformers.pipelines import pipeline\n",
    "# embedding_model = pipeline(\"feature-extraction\", model=\"dangvantuan/sentence-camembert-large\")\n"
   ]
  },
  {
   "cell_type": "code",
   "execution_count": 17,
   "metadata": {},
   "outputs": [
    {
     "data": {
      "application/vnd.jupyter.widget-view+json": {
       "model_id": "83c9c4c7be0844c9afe4f9895e87b328",
       "version_major": 2,
       "version_minor": 0
      },
      "text/plain": [
       "Batches:   0%|          | 0/1759 [00:00<?, ?it/s]"
      ]
     },
     "metadata": {},
     "output_type": "display_data"
    }
   ],
   "source": [
    "\n",
    "# Step 1 - Extract embeddings\n",
    "\n",
    "\n",
    "# embeddings = embedding_model.encode(lemmatized, show_progress_bar=True)\n",
    "embeddings = embedding_model.encode(lemmatized, batch_size = 128, show_progress_bar=True)\n",
    "\n",
    "# 56mn 8.6sc quand même\n"
   ]
  },
  {
   "cell_type": "code",
   "execution_count": 18,
   "metadata": {},
   "outputs": [
    {
     "name": "stdout",
     "output_type": "stream",
     "text": [
      "| ID | GPU | MEM |\n",
      "------------------\n",
      "|  0 |  8% | 83% |\n"
     ]
    }
   ],
   "source": [
    "GPUtil.showUtilization()"
   ]
  },
  {
   "cell_type": "code",
   "execution_count": 19,
   "metadata": {},
   "outputs": [],
   "source": [
    "# Step 2 - Reduce dimensionality\n",
    "umap_model = UMAP(n_neighbors=15, n_components=5, min_dist=0.0, metric='cosine')\n"
   ]
  },
  {
   "cell_type": "code",
   "execution_count": 20,
   "metadata": {},
   "outputs": [],
   "source": [
    "\n",
    "# Step 3 - Cluster reduced embeddings\n",
    "# hdbscan_model = HDBSCAN(min_cluster_size=15, metric='euclidean', cluster_selection_method='eom', prediction_data=True)\n",
    "hdbscan_model = HDBSCAN(min_cluster_size=30, metric='euclidean', cluster_selection_method='eom', prediction_data=True)\n",
    "\n"
   ]
  },
  {
   "cell_type": "code",
   "execution_count": 21,
   "metadata": {},
   "outputs": [],
   "source": [
    "# Step 4 - Tokenize topics\n",
    "vectorizer_model = CountVectorizer()\n"
   ]
  },
  {
   "cell_type": "code",
   "execution_count": 22,
   "metadata": {},
   "outputs": [],
   "source": [
    "\n",
    "# Step 5 - Create topic representation\n",
    "ctfidf_model = ClassTfidfTransformer()\n"
   ]
  },
  {
   "cell_type": "code",
   "execution_count": 23,
   "metadata": {},
   "outputs": [],
   "source": [
    "# Step 6 - (Optional) Fine-tune topic representations with a `bertopic.representation` model\n",
    "\n",
    "# representation_model = KeyBERTInspired()"
   ]
  },
  {
   "cell_type": "code",
   "execution_count": 24,
   "metadata": {},
   "outputs": [],
   "source": [
    "# initialisation de BERTopic. On choisit de suivre les conseils de Maartenger pour réduire la consommation de mémoire :  set low_memory to True, set calculate_probabilities to False\n",
    "# All steps together\n",
    "topic_model = BERTopic(\n",
    "    low_memory = True, \n",
    "    calculate_probabilities = False,\n",
    "    embedding_model=embedding_model,          # Step 1 - Extract embeddings\n",
    "    umap_model=umap_model,                    # Step 2 - Reduce dimensionality\n",
    "    hdbscan_model=hdbscan_model,              # Step 3 - Cluster reduced embeddings\n",
    "    vectorizer_model=vectorizer_model,        # Step 4 - Tokenize topics\n",
    "    ctfidf_model=ctfidf_model,                # Step 5 - Extract topic words\n",
    "    verbose = True\n",
    ")\n",
    "# representation_model=representation_model # Step 6 - (Optional) Fine-tune topic represenations\n",
    "# topic_model = topic_model.to(device)\n",
    "# à suivre, il est aussi possible de \"set the minimum frequency of words in the CountVectorizer class to reduce the size of the resulting sparse c-TF-IDF matrix.\" avec la commande suivante :\n",
    "# vectorizer_model = CountVectorizer(ngram_range=(1, 2), stop_words=\"english\", min_df=10)\n",
    "# The min_df parameter is used to indicate the minimum frequency of words. Setting this value larger than 1 can significantly reduce memory."
   ]
  },
  {
   "cell_type": "code",
   "execution_count": 25,
   "metadata": {},
   "outputs": [
    {
     "data": {
      "application/vnd.jupyter.widget-view+json": {
       "model_id": "850372d9afdc4935ba7ababdbccd7e22",
       "version_major": 2,
       "version_minor": 0
      },
      "text/plain": [
       "Batches:   0%|          | 0/7033 [00:00<?, ?it/s]"
      ]
     },
     "metadata": {},
     "output_type": "display_data"
    },
    {
     "name": "stderr",
     "output_type": "stream",
     "text": [
      "2023-05-17 16:31:24,021 - BERTopic - Transformed documents to Embeddings\n",
      "2023-05-17 16:36:02,047 - BERTopic - Reduced dimensionality\n",
      "2023-05-17 16:36:40,460 - BERTopic - Clustered reduced embeddings\n"
     ]
    }
   ],
   "source": [
    "topics, probs = topic_model.fit_transform(lemmatized)"
   ]
  },
  {
   "cell_type": "code",
   "execution_count": 26,
   "metadata": {},
   "outputs": [
    {
     "name": "stderr",
     "output_type": "stream",
     "text": [
      "c:\\Users\\ehess\\anaconda3\\envs\\my4env\\lib\\site-packages\\scipy\\sparse\\_index.py:146: SparseEfficiencyWarning: Changing the sparsity structure of a csr_matrix is expensive. lil_matrix is more efficient.\n",
      "  self._set_arrayXarray(i, j, x)\n"
     ]
    }
   ],
   "source": [
    "topic_model.save(\"BERTopic_CC_model\")"
   ]
  },
  {
   "cell_type": "code",
   "execution_count": 7,
   "metadata": {},
   "outputs": [],
   "source": [
    "# topic_model = BERTopic.load(\"BERTopic_CC_model\")"
   ]
  },
  {
   "cell_type": "code",
   "execution_count": 27,
   "metadata": {},
   "outputs": [
    {
     "name": "stdout",
     "output_type": "stream",
     "text": [
      "    Topic   Count                                         Name\n",
      "0      -1  150526           -1_retraite_pouvoir_devoir_salaire\n",
      "1       0    6288         0_euro_retraite_pension_augmentation\n",
      "2       1    6210          1_commune_rural_communauté_habitant\n",
      "3       2    3880              2_école_élève_enfant_enseignant\n",
      "4       3    3159  3_énergie_agriculture_écologique_transition\n",
      "5       4    2693       4_augmentation_retraite_csg_indexation\n",
      "6       5    2376            5_monsieur_président_macron_maire\n",
      "7       6    1792            6_français_peuple_étranger_macron\n",
      "8       7    1697               7_commune_rural_maire_habitant\n",
      "9       8    1691              8_kilomètre_route_vitesse_heure\n",
      "10      9    1664        9_élection_vote_blanc_proportionnelle\n"
     ]
    }
   ],
   "source": [
    "# sauvegarde des topic en csv\n",
    "\n",
    "freq = topic_model.get_topic_info()\n",
    "print(freq.head(11))"
   ]
  },
  {
   "cell_type": "code",
   "execution_count": 28,
   "metadata": {},
   "outputs": [
    {
     "data": {
      "text/html": [
       "<div>\n",
       "<style scoped>\n",
       "    .dataframe tbody tr th:only-of-type {\n",
       "        vertical-align: middle;\n",
       "    }\n",
       "\n",
       "    .dataframe tbody tr th {\n",
       "        vertical-align: top;\n",
       "    }\n",
       "\n",
       "    .dataframe thead th {\n",
       "        text-align: right;\n",
       "    }\n",
       "</style>\n",
       "<table border=\"1\" class=\"dataframe\">\n",
       "  <thead>\n",
       "    <tr style=\"text-align: right;\">\n",
       "      <th></th>\n",
       "      <th>0</th>\n",
       "      <th>1</th>\n",
       "      <th>2</th>\n",
       "      <th>3</th>\n",
       "      <th>4</th>\n",
       "      <th>5</th>\n",
       "      <th>6</th>\n",
       "      <th>7</th>\n",
       "      <th>8</th>\n",
       "      <th>9</th>\n",
       "    </tr>\n",
       "  </thead>\n",
       "  <tbody>\n",
       "    <tr>\n",
       "      <th>0</th>\n",
       "      <td>retraite</td>\n",
       "      <td>pouvoir</td>\n",
       "      <td>devoir</td>\n",
       "      <td>salaire</td>\n",
       "      <td>faire</td>\n",
       "      <td>président</td>\n",
       "      <td>impôt</td>\n",
       "      <td>taxe</td>\n",
       "      <td>travail</td>\n",
       "      <td>payer</td>\n",
       "    </tr>\n",
       "    <tr>\n",
       "      <th>1</th>\n",
       "      <td>euro</td>\n",
       "      <td>retraite</td>\n",
       "      <td>pension</td>\n",
       "      <td>augmentation</td>\n",
       "      <td>retraité</td>\n",
       "      <td>csg</td>\n",
       "      <td>inflation</td>\n",
       "      <td>pourcent</td>\n",
       "      <td>indexation</td>\n",
       "      <td>mois</td>\n",
       "    </tr>\n",
       "    <tr>\n",
       "      <th>2</th>\n",
       "      <td>commune</td>\n",
       "      <td>rural</td>\n",
       "      <td>communauté</td>\n",
       "      <td>habitant</td>\n",
       "      <td>département</td>\n",
       "      <td>village</td>\n",
       "      <td>maire</td>\n",
       "      <td>région</td>\n",
       "      <td>local</td>\n",
       "      <td>service</td>\n",
       "    </tr>\n",
       "    <tr>\n",
       "      <th>3</th>\n",
       "      <td>école</td>\n",
       "      <td>élève</td>\n",
       "      <td>enfant</td>\n",
       "      <td>enseignant</td>\n",
       "      <td>éducation</td>\n",
       "      <td>classe</td>\n",
       "      <td>collège</td>\n",
       "      <td>scolaire</td>\n",
       "      <td>enseignement</td>\n",
       "      <td>parent</td>\n",
       "    </tr>\n",
       "    <tr>\n",
       "      <th>4</th>\n",
       "      <td>énergie</td>\n",
       "      <td>agriculture</td>\n",
       "      <td>écologique</td>\n",
       "      <td>transition</td>\n",
       "      <td>pesticide</td>\n",
       "      <td>pollution</td>\n",
       "      <td>production</td>\n",
       "      <td>électrique</td>\n",
       "      <td>nucléaire</td>\n",
       "      <td>environnement</td>\n",
       "    </tr>\n",
       "    <tr>\n",
       "      <th>...</th>\n",
       "      <td>...</td>\n",
       "      <td>...</td>\n",
       "      <td>...</td>\n",
       "      <td>...</td>\n",
       "      <td>...</td>\n",
       "      <td>...</td>\n",
       "      <td>...</td>\n",
       "      <td>...</td>\n",
       "      <td>...</td>\n",
       "      <td>...</td>\n",
       "    </tr>\n",
       "    <tr>\n",
       "      <th>348</th>\n",
       "      <td>humble</td>\n",
       "      <td>diminuer</td>\n",
       "      <td>ancien</td>\n",
       "      <td>avantage</td>\n",
       "      <td>président</td>\n",
       "      <td>sénateur</td>\n",
       "      <td>apercevoir</td>\n",
       "      <td>ministre</td>\n",
       "      <td>requête</td>\n",
       "      <td>député</td>\n",
       "    </tr>\n",
       "    <tr>\n",
       "      <th>349</th>\n",
       "      <td>pétition</td>\n",
       "      <td>identifiant</td>\n",
       "      <td>volet</td>\n",
       "      <td>mail</td>\n",
       "      <td>inscription</td>\n",
       "      <td>site</td>\n",
       "      <td>envoi</td>\n",
       "      <td>catégorisation</td>\n",
       "      <td>personnalisation</td>\n",
       "      <td>adresse</td>\n",
       "    </tr>\n",
       "    <tr>\n",
       "      <th>350</th>\n",
       "      <td>arrondissement</td>\n",
       "      <td>approfondi</td>\n",
       "      <td>dysfonctionnement</td>\n",
       "      <td>coordonnée</td>\n",
       "      <td>souhaiter</td>\n",
       "      <td>analyse</td>\n",
       "      <td>laisse</td>\n",
       "      <td>indique</td>\n",
       "      <td>informer</td>\n",
       "      <td>ordre</td>\n",
       "    </tr>\n",
       "    <tr>\n",
       "      <th>351</th>\n",
       "      <td>laïcité</td>\n",
       "      <td>renforcer</td>\n",
       "      <td>intangible</td>\n",
       "      <td>réciproque</td>\n",
       "      <td>religion</td>\n",
       "      <td>compréhension</td>\n",
       "      <td>engagement</td>\n",
       "      <td>application</td>\n",
       "      <td>garantir</td>\n",
       "      <td>hui</td>\n",
       "    </tr>\n",
       "    <tr>\n",
       "      <th>352</th>\n",
       "      <td>fiscal</td>\n",
       "      <td>justice</td>\n",
       "      <td>évasion</td>\n",
       "      <td>cyber</td>\n",
       "      <td>concrètement</td>\n",
       "      <td>contexte</td>\n",
       "      <td>nationaliser</td>\n",
       "      <td>fiscalité</td>\n",
       "      <td>aprofondi</td>\n",
       "      <td>fonctionnaire</td>\n",
       "    </tr>\n",
       "  </tbody>\n",
       "</table>\n",
       "<p>353 rows × 10 columns</p>\n",
       "</div>"
      ],
      "text/plain": [
       "                  0            1                  2             3   \n",
       "0          retraite      pouvoir             devoir       salaire  \\\n",
       "1              euro     retraite            pension  augmentation   \n",
       "2           commune        rural         communauté      habitant   \n",
       "3             école        élève             enfant    enseignant   \n",
       "4           énergie  agriculture         écologique    transition   \n",
       "..              ...          ...                ...           ...   \n",
       "348          humble     diminuer             ancien      avantage   \n",
       "349        pétition  identifiant              volet          mail   \n",
       "350  arrondissement   approfondi  dysfonctionnement    coordonnée   \n",
       "351         laïcité    renforcer         intangible    réciproque   \n",
       "352          fiscal      justice            évasion         cyber   \n",
       "\n",
       "                4              5             6               7   \n",
       "0           faire      président         impôt            taxe  \\\n",
       "1        retraité            csg     inflation        pourcent   \n",
       "2     département        village         maire          région   \n",
       "3       éducation         classe       collège        scolaire   \n",
       "4       pesticide      pollution    production      électrique   \n",
       "..            ...            ...           ...             ...   \n",
       "348     président       sénateur    apercevoir        ministre   \n",
       "349   inscription           site         envoi  catégorisation   \n",
       "350     souhaiter        analyse        laisse         indique   \n",
       "351      religion  compréhension    engagement     application   \n",
       "352  concrètement       contexte  nationaliser       fiscalité   \n",
       "\n",
       "                    8              9  \n",
       "0             travail          payer  \n",
       "1          indexation           mois  \n",
       "2               local        service  \n",
       "3        enseignement         parent  \n",
       "4           nucléaire  environnement  \n",
       "..                ...            ...  \n",
       "348           requête         député  \n",
       "349  personnalisation        adresse  \n",
       "350          informer          ordre  \n",
       "351          garantir            hui  \n",
       "352         aprofondi  fonctionnaire  \n",
       "\n",
       "[353 rows x 10 columns]"
      ]
     },
     "execution_count": 28,
     "metadata": {},
     "output_type": "execute_result"
    }
   ],
   "source": [
    "dd = [\n",
    "    [item[0] if item[0] else pd.NA for item in topics]\n",
    "    for topics in topic_model.get_topics().values()\n",
    "]\n",
    "\n",
    "ded = pd.DataFrame(dd)\n",
    "ded"
   ]
  },
  {
   "cell_type": "code",
   "execution_count": 29,
   "metadata": {},
   "outputs": [],
   "source": [
    "output = pd.concat([freq, ded], axis=1)"
   ]
  },
  {
   "cell_type": "code",
   "execution_count": 30,
   "metadata": {},
   "outputs": [],
   "source": [
    "output.to_csv('size30_clusters_freq_BERTopic.csv', index=False)"
   ]
  },
  {
   "cell_type": "code",
   "execution_count": 31,
   "metadata": {},
   "outputs": [
    {
     "data": {
      "application/vnd.plotly.v1+json": {
       "config": {
        "plotlyServerURL": "https://plot.ly"
       },
       "data": [
        {
         "marker": {
          "color": "#D55E00"
         },
         "orientation": "h",
         "type": "bar",
         "x": [
          0.00628398816964031,
          0.0064171236196670116,
          0.007355354115212378,
          0.00762749785001374,
          0.00825698617431825
         ],
         "xaxis": "x",
         "y": [
          "retraité  ",
          "augmentation  ",
          "pension  ",
          "retraite  ",
          "euro  "
         ],
         "yaxis": "y"
        },
        {
         "marker": {
          "color": "#0072B2"
         },
         "orientation": "h",
         "type": "bar",
         "x": [
          0.0037129546871275017,
          0.004764123537980903,
          0.004789086605714732,
          0.005729928652396182,
          0.013055380809870305
         ],
         "xaxis": "x2",
         "y": [
          "département  ",
          "habitant  ",
          "communauté  ",
          "rural  ",
          "commune  "
         ],
         "yaxis": "y2"
        },
        {
         "marker": {
          "color": "#CC79A7"
         },
         "orientation": "h",
         "type": "bar",
         "x": [
          0.0050362521708797675,
          0.005189882695561068,
          0.005828656451361287,
          0.006895644456332715,
          0.017525787876894294
         ],
         "xaxis": "x3",
         "y": [
          "éducation  ",
          "enseignant  ",
          "enfant  ",
          "élève  ",
          "école  "
         ],
         "yaxis": "y3"
        },
        {
         "marker": {
          "color": "#E69F00"
         },
         "orientation": "h",
         "type": "bar",
         "x": [
          0.005271267501190243,
          0.005361271017063397,
          0.005438106477635136,
          0.005630742866554726,
          0.007222856988939426
         ],
         "xaxis": "x4",
         "y": [
          "pesticide  ",
          "transition  ",
          "écologique  ",
          "agriculture  ",
          "énergie  "
         ],
         "yaxis": "y4"
        },
        {
         "marker": {
          "color": "#56B4E9"
         },
         "orientation": "h",
         "type": "bar",
         "x": [
          0.022140916640689037,
          0.031081734034740953,
          0.03119010927155263,
          0.03138970039832506,
          0.035408845657207054
         ],
         "xaxis": "x5",
         "y": [
          "retraité  ",
          "indexation  ",
          "csg  ",
          "retraite  ",
          "augmentation  "
         ],
         "yaxis": "y5"
        },
        {
         "marker": {
          "color": "#009E73"
         },
         "orientation": "h",
         "type": "bar",
         "x": [
          0.010014959888566667,
          0.010362128376459228,
          0.015468794155526747,
          0.015821949692904617,
          0.04989543249494036
         ],
         "xaxis": "x6",
         "y": [
          "salutation  ",
          "maire  ",
          "macron  ",
          "président  ",
          "monsieur  "
         ],
         "yaxis": "y6"
        },
        {
         "marker": {
          "color": "#F0E442"
         },
         "orientation": "h",
         "type": "bar",
         "x": [
          0.005225420688427387,
          0.005364644666763162,
          0.005790954798939389,
          0.00617063107617305,
          0.029649339086496588
         ],
         "xaxis": "x7",
         "y": [
          "immigration  ",
          "macron  ",
          "étranger  ",
          "peuple  ",
          "français  "
         ],
         "yaxis": "y7"
        },
        {
         "marker": {
          "color": "#D55E00"
         },
         "orientation": "h",
         "type": "bar",
         "x": [
          0.0102550544065886,
          0.010949220613946311,
          0.01118550808291959,
          0.01200353694798244,
          0.0469584133079346
         ],
         "xaxis": "x8",
         "y": [
          "cahier  ",
          "habitant  ",
          "maire  ",
          "rural  ",
          "commune  "
         ],
         "yaxis": "y8"
        },
        {
         "marker": {
          "color": "#0072B2"
         },
         "orientation": "h",
         "type": "bar",
         "x": [
          0.007828248469832643,
          0.012049074846527365,
          0.012967467504080787,
          0.013104520025495689,
          0.021625873246539015
         ],
         "xaxis": "x9",
         "y": [
          "limitation  ",
          "heure  ",
          "vitesse  ",
          "route  ",
          "kilomètre  "
         ],
         "yaxis": "y9"
        },
        {
         "marker": {
          "color": "#CC79A7"
         },
         "orientation": "h",
         "type": "bar",
         "x": [
          0.006815984513920703,
          0.007650683273983845,
          0.007707673691235136,
          0.01008152410862016,
          0.01264696001417318
         ],
         "xaxis": "x10",
         "y": [
          "suffrage  ",
          "proportionnelle  ",
          "blanc  ",
          "vote  ",
          "élection  "
         ],
         "yaxis": "y10"
        },
        {
         "marker": {
          "color": "#E69F00"
         },
         "orientation": "h",
         "type": "bar",
         "x": [
          0.003673667386991247,
          0.0037017514173612962,
          0.003813376255221406,
          0.005314180157471646,
          0.010820174199712346
         ],
         "xaxis": "x11",
         "y": [
          "faire  ",
          "bien  ",
          "vouloir  ",
          "président  ",
          "monsieur  "
         ],
         "yaxis": "y11"
        },
        {
         "marker": {
          "color": "#56B4E9"
         },
         "orientation": "h",
         "type": "bar",
         "x": [
          0.022475212389260143,
          0.02566012425099553,
          0.03267312246386306,
          0.04043273734276685,
          0.043934297323239384
         ],
         "xaxis": "x12",
         "y": [
          "initiative  ",
          "élection  ",
          "référendum  ",
          "blanc  ",
          "vote  "
         ],
         "yaxis": "y12"
        },
        {
         "marker": {
          "color": "#009E73"
         },
         "orientation": "h",
         "type": "bar",
         "x": [
          0.0035810869496964957,
          0.003636624330189229,
          0.0037600553712299808,
          0.004367568280873856,
          0.011485253898806034
         ],
         "xaxis": "x13",
         "y": [
          "xad  ",
          "peuple  ",
          "pays  ",
          "langue  ",
          "français  "
         ],
         "yaxis": "y13"
        },
        {
         "marker": {
          "color": "#F0E442"
         },
         "orientation": "h",
         "type": "bar",
         "x": [
          0.004969593900442919,
          0.005034622030292198,
          0.005207380632821307,
          0.006533168710718929,
          0.011067776983395266
         ],
         "xaxis": "x14",
         "y": [
          "niche  ",
          "impôt  ",
          "évasion  ",
          "fiscalité  ",
          "fiscal  "
         ],
         "yaxis": "y14"
        },
        {
         "marker": {
          "color": "#D55E00"
         },
         "orientation": "h",
         "type": "bar",
         "x": [
          0.00001,
          0.00001,
          0.00001,
          0.00001,
          0.00001
         ],
         "xaxis": "x15",
         "y": [
          "  ",
          "  ",
          "  ",
          "  ",
          "  "
         ],
         "yaxis": "y15"
        },
        {
         "marker": {
          "color": "#0072B2"
         },
         "orientation": "h",
         "type": "bar",
         "x": [
          0.02411945013657517,
          0.02679902967207629,
          0.028717472820852075,
          0.03205717388124557,
          0.04159857575212691
         ],
         "xaxis": "x16",
         "y": [
          "risque  ",
          "entrepreneur  ",
          "petit  ",
          "collectif  ",
          "patron  "
         ],
         "yaxis": "y16"
        },
        {
         "marker": {
          "color": "#CC79A7"
         },
         "orientation": "h",
         "type": "bar",
         "x": [
          0.04769500704509625,
          0.05678288593715913,
          0.06194844023238855,
          0.06245436589450449,
          0.0644933399088958
         ],
         "xaxis": "x17",
         "y": [
          "pièce  ",
          "ko  ",
          "fr  ",
          "granddebat  ",
          "cahierscitoyens  "
         ],
         "yaxis": "y17"
        },
        {
         "marker": {
          "color": "#E69F00"
         },
         "orientation": "h",
         "type": "bar",
         "x": [
          0.007648053111439639,
          0.00924661095085469,
          0.010245169669803959,
          0.01410038330750622,
          0.019697215497821254
         ],
         "xaxis": "x18",
         "y": [
          "santé  ",
          "médecine  ",
          "médical  ",
          "patient  ",
          "médecin  "
         ],
         "yaxis": "y18"
        },
        {
         "marker": {
          "color": "#56B4E9"
         },
         "orientation": "h",
         "type": "bar",
         "x": [
          0.012858864595136603,
          0.013328694853944292,
          0.02033470132236844,
          0.026912910346260845,
          0.041993554963933095
         ],
         "xaxis": "x19",
         "y": [
          "lutter  ",
          "justice  ",
          "fraude  ",
          "évasion  ",
          "fiscal  "
         ],
         "yaxis": "y19"
        },
        {
         "marker": {
          "color": "#009E73"
         },
         "orientation": "h",
         "type": "bar",
         "x": [
          0.005662494891008301,
          0.005691356746486829,
          0.006135775502034672,
          0.02338476404552953,
          0.041835932811152526
         ],
         "xaxis": "x20",
         "y": [
          "arrêter  ",
          "devoir  ",
          "salaire  ",
          "falloir  ",
          "revoir  "
         ],
         "yaxis": "y20"
        },
        {
         "marker": {
          "color": "#F0E442"
         },
         "orientation": "h",
         "type": "bar",
         "x": [
          0.030615345901712374,
          0.03390846705184142,
          0.03427800552274782,
          0.034736225758564644,
          0.03518826910173052
         ],
         "xaxis": "x21",
         "y": [
          "indique  ",
          "souhaiter  ",
          "approfondi  ",
          "dysfonctionnement  ",
          "arrondissement  "
         ],
         "yaxis": "y21"
        },
        {
         "marker": {
          "color": "#D55E00"
         },
         "orientation": "h",
         "type": "bar",
         "x": [
          0.003588548533923921,
          0.003887174981983467,
          0.0048259706387175265,
          0.005251854990316026,
          0.006720979907465833
         ],
         "xaxis": "x22",
         "y": [
          "x92en  ",
          "rui  ",
          "x92  ",
          "qu  ",
          "x92est  "
         ],
         "yaxis": "y22"
        },
        {
         "marker": {
          "color": "#0072B2"
         },
         "orientation": "h",
         "type": "bar",
         "x": [
          0.056944734289780974,
          0.06827578283661515,
          0.08065974214940753,
          0.11925918915875083,
          0.11991061578808715
         ],
         "xaxis": "x23",
         "y": [
          "clore  ",
          "maire  ",
          "clôturer  ",
          "registre  ",
          "février  "
         ],
         "yaxis": "y23"
        },
        {
         "marker": {
          "color": "#CC79A7"
         },
         "orientation": "h",
         "type": "bar",
         "x": [
          0.03155396273295123,
          0.03309688496442288,
          0.03842809663781319,
          0.039823402217884725,
          0.04189015774890717
         ],
         "xaxis": "x24",
         "y": [
          "ifop  ",
          "actif  ",
          "euthanasie  ",
          "légalisation  ",
          "mourir  "
         ],
         "yaxis": "y24"
        },
        {
         "marker": {
          "color": "#E69F00"
         },
         "orientation": "h",
         "type": "bar",
         "x": [
          0.011351105523322028,
          0.0114462295925785,
          0.011746544500429865,
          0.015152224432334008,
          0.01675283232633105
         ],
         "xaxis": "x25",
         "y": [
          "quell  ",
          "concret  ",
          "défi  ",
          "expression  ",
          "libre  "
         ],
         "yaxis": "y25"
        },
        {
         "marker": {
          "color": "#56B4E9"
         },
         "orientation": "h",
         "type": "bar",
         "x": [
          0.011149099132871381,
          0.011762254624695885,
          0.01239474096034688,
          0.012467908988580583,
          0.019815881537856857
         ],
         "xaxis": "x26",
         "y": [
          "adresse  ",
          "gmail  ",
          "com  ",
          "postal  ",
          "message  "
         ],
         "yaxis": "y26"
        },
        {
         "marker": {
          "color": "#009E73"
         },
         "orientation": "h",
         "type": "bar",
         "x": [
          0.03142013446726075,
          0.03153980304762659,
          0.0318323727644517,
          0.03667584190831321,
          0.03977834732363134
         ],
         "xaxis": "x27",
         "y": [
          "oui  ",
          "territorial  ",
          "échelon  ",
          "administratif  ",
          "organisation  "
         ],
         "yaxis": "y27"
        },
        {
         "marker": {
          "color": "#F0E442"
         },
         "orientation": "h",
         "type": "bar",
         "x": [
          0.019859909141684742,
          0.021241788462782737,
          0.023497907470064087,
          0.028675397045083,
          0.038986111910835494
         ],
         "xaxis": "x28",
         "y": [
          "réduire  ",
          "déficit  ",
          "réponse  ",
          "fiscalité  ",
          "dépense  "
         ],
         "yaxis": "y28"
        },
        {
         "marker": {
          "color": "#D55E00"
         },
         "orientation": "h",
         "type": "bar",
         "x": [
          0.019776525428009034,
          0.020020505019679776,
          0.022069138024343207,
          0.02255782658439347,
          0.02293905242213819
         ],
         "xaxis": "x29",
         "y": [
          "syndical  ",
          "représenter  ",
          "rôle  ",
          "renouer  ",
          "oui  "
         ],
         "yaxis": "y29"
        },
        {
         "marker": {
          "color": "#0072B2"
         },
         "orientation": "h",
         "type": "bar",
         "x": [
          0.019292762736866108,
          0.020574494627696147,
          0.024280879314897714,
          0.03778477115818135,
          0.03899954100015113
         ],
         "xaxis": "x30",
         "y": [
          "intégration  ",
          "asile  ",
          "définir  ",
          "immigration  ",
          "migratoire  "
         ],
         "yaxis": "y30"
        }
       ],
       "layout": {
        "annotations": [
         {
          "font": {
           "size": 16
          },
          "showarrow": false,
          "text": "Topic 0",
          "x": 0.0875,
          "xanchor": "center",
          "xref": "paper",
          "y": 1,
          "yanchor": "bottom",
          "yref": "paper"
         },
         {
          "font": {
           "size": 16
          },
          "showarrow": false,
          "text": "Topic 1",
          "x": 0.36250000000000004,
          "xanchor": "center",
          "xref": "paper",
          "y": 1,
          "yanchor": "bottom",
          "yref": "paper"
         },
         {
          "font": {
           "size": 16
          },
          "showarrow": false,
          "text": "Topic 2",
          "x": 0.6375000000000001,
          "xanchor": "center",
          "xref": "paper",
          "y": 1,
          "yanchor": "bottom",
          "yref": "paper"
         },
         {
          "font": {
           "size": 16
          },
          "showarrow": false,
          "text": "Topic 3",
          "x": 0.9125,
          "xanchor": "center",
          "xref": "paper",
          "y": 1,
          "yanchor": "bottom",
          "yref": "paper"
         },
         {
          "font": {
           "size": 16
          },
          "showarrow": false,
          "text": "Topic 4",
          "x": 0.0875,
          "xanchor": "center",
          "xref": "paper",
          "y": 0.8687499999999999,
          "yanchor": "bottom",
          "yref": "paper"
         },
         {
          "font": {
           "size": 16
          },
          "showarrow": false,
          "text": "Topic 5",
          "x": 0.36250000000000004,
          "xanchor": "center",
          "xref": "paper",
          "y": 0.8687499999999999,
          "yanchor": "bottom",
          "yref": "paper"
         },
         {
          "font": {
           "size": 16
          },
          "showarrow": false,
          "text": "Topic 6",
          "x": 0.6375000000000001,
          "xanchor": "center",
          "xref": "paper",
          "y": 0.8687499999999999,
          "yanchor": "bottom",
          "yref": "paper"
         },
         {
          "font": {
           "size": 16
          },
          "showarrow": false,
          "text": "Topic 7",
          "x": 0.9125,
          "xanchor": "center",
          "xref": "paper",
          "y": 0.8687499999999999,
          "yanchor": "bottom",
          "yref": "paper"
         },
         {
          "font": {
           "size": 16
          },
          "showarrow": false,
          "text": "Topic 8",
          "x": 0.0875,
          "xanchor": "center",
          "xref": "paper",
          "y": 0.7375,
          "yanchor": "bottom",
          "yref": "paper"
         },
         {
          "font": {
           "size": 16
          },
          "showarrow": false,
          "text": "Topic 9",
          "x": 0.36250000000000004,
          "xanchor": "center",
          "xref": "paper",
          "y": 0.7375,
          "yanchor": "bottom",
          "yref": "paper"
         },
         {
          "font": {
           "size": 16
          },
          "showarrow": false,
          "text": "Topic 10",
          "x": 0.6375000000000001,
          "xanchor": "center",
          "xref": "paper",
          "y": 0.7375,
          "yanchor": "bottom",
          "yref": "paper"
         },
         {
          "font": {
           "size": 16
          },
          "showarrow": false,
          "text": "Topic 11",
          "x": 0.9125,
          "xanchor": "center",
          "xref": "paper",
          "y": 0.7375,
          "yanchor": "bottom",
          "yref": "paper"
         },
         {
          "font": {
           "size": 16
          },
          "showarrow": false,
          "text": "Topic 12",
          "x": 0.0875,
          "xanchor": "center",
          "xref": "paper",
          "y": 0.60625,
          "yanchor": "bottom",
          "yref": "paper"
         },
         {
          "font": {
           "size": 16
          },
          "showarrow": false,
          "text": "Topic 13",
          "x": 0.36250000000000004,
          "xanchor": "center",
          "xref": "paper",
          "y": 0.60625,
          "yanchor": "bottom",
          "yref": "paper"
         },
         {
          "font": {
           "size": 16
          },
          "showarrow": false,
          "text": "Topic 14",
          "x": 0.6375000000000001,
          "xanchor": "center",
          "xref": "paper",
          "y": 0.60625,
          "yanchor": "bottom",
          "yref": "paper"
         },
         {
          "font": {
           "size": 16
          },
          "showarrow": false,
          "text": "Topic 15",
          "x": 0.9125,
          "xanchor": "center",
          "xref": "paper",
          "y": 0.60625,
          "yanchor": "bottom",
          "yref": "paper"
         },
         {
          "font": {
           "size": 16
          },
          "showarrow": false,
          "text": "Topic 16",
          "x": 0.0875,
          "xanchor": "center",
          "xref": "paper",
          "y": 0.475,
          "yanchor": "bottom",
          "yref": "paper"
         },
         {
          "font": {
           "size": 16
          },
          "showarrow": false,
          "text": "Topic 17",
          "x": 0.36250000000000004,
          "xanchor": "center",
          "xref": "paper",
          "y": 0.475,
          "yanchor": "bottom",
          "yref": "paper"
         },
         {
          "font": {
           "size": 16
          },
          "showarrow": false,
          "text": "Topic 18",
          "x": 0.6375000000000001,
          "xanchor": "center",
          "xref": "paper",
          "y": 0.475,
          "yanchor": "bottom",
          "yref": "paper"
         },
         {
          "font": {
           "size": 16
          },
          "showarrow": false,
          "text": "Topic 19",
          "x": 0.9125,
          "xanchor": "center",
          "xref": "paper",
          "y": 0.475,
          "yanchor": "bottom",
          "yref": "paper"
         },
         {
          "font": {
           "size": 16
          },
          "showarrow": false,
          "text": "Topic 20",
          "x": 0.0875,
          "xanchor": "center",
          "xref": "paper",
          "y": 0.34374999999999994,
          "yanchor": "bottom",
          "yref": "paper"
         },
         {
          "font": {
           "size": 16
          },
          "showarrow": false,
          "text": "Topic 21",
          "x": 0.36250000000000004,
          "xanchor": "center",
          "xref": "paper",
          "y": 0.34374999999999994,
          "yanchor": "bottom",
          "yref": "paper"
         },
         {
          "font": {
           "size": 16
          },
          "showarrow": false,
          "text": "Topic 22",
          "x": 0.6375000000000001,
          "xanchor": "center",
          "xref": "paper",
          "y": 0.34374999999999994,
          "yanchor": "bottom",
          "yref": "paper"
         },
         {
          "font": {
           "size": 16
          },
          "showarrow": false,
          "text": "Topic 23",
          "x": 0.9125,
          "xanchor": "center",
          "xref": "paper",
          "y": 0.34374999999999994,
          "yanchor": "bottom",
          "yref": "paper"
         },
         {
          "font": {
           "size": 16
          },
          "showarrow": false,
          "text": "Topic 24",
          "x": 0.0875,
          "xanchor": "center",
          "xref": "paper",
          "y": 0.21249999999999997,
          "yanchor": "bottom",
          "yref": "paper"
         },
         {
          "font": {
           "size": 16
          },
          "showarrow": false,
          "text": "Topic 25",
          "x": 0.36250000000000004,
          "xanchor": "center",
          "xref": "paper",
          "y": 0.21249999999999997,
          "yanchor": "bottom",
          "yref": "paper"
         },
         {
          "font": {
           "size": 16
          },
          "showarrow": false,
          "text": "Topic 26",
          "x": 0.6375000000000001,
          "xanchor": "center",
          "xref": "paper",
          "y": 0.21249999999999997,
          "yanchor": "bottom",
          "yref": "paper"
         },
         {
          "font": {
           "size": 16
          },
          "showarrow": false,
          "text": "Topic 27",
          "x": 0.9125,
          "xanchor": "center",
          "xref": "paper",
          "y": 0.21249999999999997,
          "yanchor": "bottom",
          "yref": "paper"
         },
         {
          "font": {
           "size": 16
          },
          "showarrow": false,
          "text": "Topic 28",
          "x": 0.0875,
          "xanchor": "center",
          "xref": "paper",
          "y": 0.08124999999999999,
          "yanchor": "bottom",
          "yref": "paper"
         },
         {
          "font": {
           "size": 16
          },
          "showarrow": false,
          "text": "Topic 29",
          "x": 0.36250000000000004,
          "xanchor": "center",
          "xref": "paper",
          "y": 0.08124999999999999,
          "yanchor": "bottom",
          "yref": "paper"
         }
        ],
        "height": 2000,
        "hoverlabel": {
         "bgcolor": "white",
         "font": {
          "family": "Rockwell",
          "size": 16
         }
        },
        "showlegend": false,
        "template": {
         "data": {
          "bar": [
           {
            "error_x": {
             "color": "#2a3f5f"
            },
            "error_y": {
             "color": "#2a3f5f"
            },
            "marker": {
             "line": {
              "color": "white",
              "width": 0.5
             },
             "pattern": {
              "fillmode": "overlay",
              "size": 10,
              "solidity": 0.2
             }
            },
            "type": "bar"
           }
          ],
          "barpolar": [
           {
            "marker": {
             "line": {
              "color": "white",
              "width": 0.5
             },
             "pattern": {
              "fillmode": "overlay",
              "size": 10,
              "solidity": 0.2
             }
            },
            "type": "barpolar"
           }
          ],
          "carpet": [
           {
            "aaxis": {
             "endlinecolor": "#2a3f5f",
             "gridcolor": "#C8D4E3",
             "linecolor": "#C8D4E3",
             "minorgridcolor": "#C8D4E3",
             "startlinecolor": "#2a3f5f"
            },
            "baxis": {
             "endlinecolor": "#2a3f5f",
             "gridcolor": "#C8D4E3",
             "linecolor": "#C8D4E3",
             "minorgridcolor": "#C8D4E3",
             "startlinecolor": "#2a3f5f"
            },
            "type": "carpet"
           }
          ],
          "choropleth": [
           {
            "colorbar": {
             "outlinewidth": 0,
             "ticks": ""
            },
            "type": "choropleth"
           }
          ],
          "contour": [
           {
            "colorbar": {
             "outlinewidth": 0,
             "ticks": ""
            },
            "colorscale": [
             [
              0,
              "#0d0887"
             ],
             [
              0.1111111111111111,
              "#46039f"
             ],
             [
              0.2222222222222222,
              "#7201a8"
             ],
             [
              0.3333333333333333,
              "#9c179e"
             ],
             [
              0.4444444444444444,
              "#bd3786"
             ],
             [
              0.5555555555555556,
              "#d8576b"
             ],
             [
              0.6666666666666666,
              "#ed7953"
             ],
             [
              0.7777777777777778,
              "#fb9f3a"
             ],
             [
              0.8888888888888888,
              "#fdca26"
             ],
             [
              1,
              "#f0f921"
             ]
            ],
            "type": "contour"
           }
          ],
          "contourcarpet": [
           {
            "colorbar": {
             "outlinewidth": 0,
             "ticks": ""
            },
            "type": "contourcarpet"
           }
          ],
          "heatmap": [
           {
            "colorbar": {
             "outlinewidth": 0,
             "ticks": ""
            },
            "colorscale": [
             [
              0,
              "#0d0887"
             ],
             [
              0.1111111111111111,
              "#46039f"
             ],
             [
              0.2222222222222222,
              "#7201a8"
             ],
             [
              0.3333333333333333,
              "#9c179e"
             ],
             [
              0.4444444444444444,
              "#bd3786"
             ],
             [
              0.5555555555555556,
              "#d8576b"
             ],
             [
              0.6666666666666666,
              "#ed7953"
             ],
             [
              0.7777777777777778,
              "#fb9f3a"
             ],
             [
              0.8888888888888888,
              "#fdca26"
             ],
             [
              1,
              "#f0f921"
             ]
            ],
            "type": "heatmap"
           }
          ],
          "heatmapgl": [
           {
            "colorbar": {
             "outlinewidth": 0,
             "ticks": ""
            },
            "colorscale": [
             [
              0,
              "#0d0887"
             ],
             [
              0.1111111111111111,
              "#46039f"
             ],
             [
              0.2222222222222222,
              "#7201a8"
             ],
             [
              0.3333333333333333,
              "#9c179e"
             ],
             [
              0.4444444444444444,
              "#bd3786"
             ],
             [
              0.5555555555555556,
              "#d8576b"
             ],
             [
              0.6666666666666666,
              "#ed7953"
             ],
             [
              0.7777777777777778,
              "#fb9f3a"
             ],
             [
              0.8888888888888888,
              "#fdca26"
             ],
             [
              1,
              "#f0f921"
             ]
            ],
            "type": "heatmapgl"
           }
          ],
          "histogram": [
           {
            "marker": {
             "pattern": {
              "fillmode": "overlay",
              "size": 10,
              "solidity": 0.2
             }
            },
            "type": "histogram"
           }
          ],
          "histogram2d": [
           {
            "colorbar": {
             "outlinewidth": 0,
             "ticks": ""
            },
            "colorscale": [
             [
              0,
              "#0d0887"
             ],
             [
              0.1111111111111111,
              "#46039f"
             ],
             [
              0.2222222222222222,
              "#7201a8"
             ],
             [
              0.3333333333333333,
              "#9c179e"
             ],
             [
              0.4444444444444444,
              "#bd3786"
             ],
             [
              0.5555555555555556,
              "#d8576b"
             ],
             [
              0.6666666666666666,
              "#ed7953"
             ],
             [
              0.7777777777777778,
              "#fb9f3a"
             ],
             [
              0.8888888888888888,
              "#fdca26"
             ],
             [
              1,
              "#f0f921"
             ]
            ],
            "type": "histogram2d"
           }
          ],
          "histogram2dcontour": [
           {
            "colorbar": {
             "outlinewidth": 0,
             "ticks": ""
            },
            "colorscale": [
             [
              0,
              "#0d0887"
             ],
             [
              0.1111111111111111,
              "#46039f"
             ],
             [
              0.2222222222222222,
              "#7201a8"
             ],
             [
              0.3333333333333333,
              "#9c179e"
             ],
             [
              0.4444444444444444,
              "#bd3786"
             ],
             [
              0.5555555555555556,
              "#d8576b"
             ],
             [
              0.6666666666666666,
              "#ed7953"
             ],
             [
              0.7777777777777778,
              "#fb9f3a"
             ],
             [
              0.8888888888888888,
              "#fdca26"
             ],
             [
              1,
              "#f0f921"
             ]
            ],
            "type": "histogram2dcontour"
           }
          ],
          "mesh3d": [
           {
            "colorbar": {
             "outlinewidth": 0,
             "ticks": ""
            },
            "type": "mesh3d"
           }
          ],
          "parcoords": [
           {
            "line": {
             "colorbar": {
              "outlinewidth": 0,
              "ticks": ""
             }
            },
            "type": "parcoords"
           }
          ],
          "pie": [
           {
            "automargin": true,
            "type": "pie"
           }
          ],
          "scatter": [
           {
            "fillpattern": {
             "fillmode": "overlay",
             "size": 10,
             "solidity": 0.2
            },
            "type": "scatter"
           }
          ],
          "scatter3d": [
           {
            "line": {
             "colorbar": {
              "outlinewidth": 0,
              "ticks": ""
             }
            },
            "marker": {
             "colorbar": {
              "outlinewidth": 0,
              "ticks": ""
             }
            },
            "type": "scatter3d"
           }
          ],
          "scattercarpet": [
           {
            "marker": {
             "colorbar": {
              "outlinewidth": 0,
              "ticks": ""
             }
            },
            "type": "scattercarpet"
           }
          ],
          "scattergeo": [
           {
            "marker": {
             "colorbar": {
              "outlinewidth": 0,
              "ticks": ""
             }
            },
            "type": "scattergeo"
           }
          ],
          "scattergl": [
           {
            "marker": {
             "colorbar": {
              "outlinewidth": 0,
              "ticks": ""
             }
            },
            "type": "scattergl"
           }
          ],
          "scattermapbox": [
           {
            "marker": {
             "colorbar": {
              "outlinewidth": 0,
              "ticks": ""
             }
            },
            "type": "scattermapbox"
           }
          ],
          "scatterpolar": [
           {
            "marker": {
             "colorbar": {
              "outlinewidth": 0,
              "ticks": ""
             }
            },
            "type": "scatterpolar"
           }
          ],
          "scatterpolargl": [
           {
            "marker": {
             "colorbar": {
              "outlinewidth": 0,
              "ticks": ""
             }
            },
            "type": "scatterpolargl"
           }
          ],
          "scatterternary": [
           {
            "marker": {
             "colorbar": {
              "outlinewidth": 0,
              "ticks": ""
             }
            },
            "type": "scatterternary"
           }
          ],
          "surface": [
           {
            "colorbar": {
             "outlinewidth": 0,
             "ticks": ""
            },
            "colorscale": [
             [
              0,
              "#0d0887"
             ],
             [
              0.1111111111111111,
              "#46039f"
             ],
             [
              0.2222222222222222,
              "#7201a8"
             ],
             [
              0.3333333333333333,
              "#9c179e"
             ],
             [
              0.4444444444444444,
              "#bd3786"
             ],
             [
              0.5555555555555556,
              "#d8576b"
             ],
             [
              0.6666666666666666,
              "#ed7953"
             ],
             [
              0.7777777777777778,
              "#fb9f3a"
             ],
             [
              0.8888888888888888,
              "#fdca26"
             ],
             [
              1,
              "#f0f921"
             ]
            ],
            "type": "surface"
           }
          ],
          "table": [
           {
            "cells": {
             "fill": {
              "color": "#EBF0F8"
             },
             "line": {
              "color": "white"
             }
            },
            "header": {
             "fill": {
              "color": "#C8D4E3"
             },
             "line": {
              "color": "white"
             }
            },
            "type": "table"
           }
          ]
         },
         "layout": {
          "annotationdefaults": {
           "arrowcolor": "#2a3f5f",
           "arrowhead": 0,
           "arrowwidth": 1
          },
          "autotypenumbers": "strict",
          "coloraxis": {
           "colorbar": {
            "outlinewidth": 0,
            "ticks": ""
           }
          },
          "colorscale": {
           "diverging": [
            [
             0,
             "#8e0152"
            ],
            [
             0.1,
             "#c51b7d"
            ],
            [
             0.2,
             "#de77ae"
            ],
            [
             0.3,
             "#f1b6da"
            ],
            [
             0.4,
             "#fde0ef"
            ],
            [
             0.5,
             "#f7f7f7"
            ],
            [
             0.6,
             "#e6f5d0"
            ],
            [
             0.7,
             "#b8e186"
            ],
            [
             0.8,
             "#7fbc41"
            ],
            [
             0.9,
             "#4d9221"
            ],
            [
             1,
             "#276419"
            ]
           ],
           "sequential": [
            [
             0,
             "#0d0887"
            ],
            [
             0.1111111111111111,
             "#46039f"
            ],
            [
             0.2222222222222222,
             "#7201a8"
            ],
            [
             0.3333333333333333,
             "#9c179e"
            ],
            [
             0.4444444444444444,
             "#bd3786"
            ],
            [
             0.5555555555555556,
             "#d8576b"
            ],
            [
             0.6666666666666666,
             "#ed7953"
            ],
            [
             0.7777777777777778,
             "#fb9f3a"
            ],
            [
             0.8888888888888888,
             "#fdca26"
            ],
            [
             1,
             "#f0f921"
            ]
           ],
           "sequentialminus": [
            [
             0,
             "#0d0887"
            ],
            [
             0.1111111111111111,
             "#46039f"
            ],
            [
             0.2222222222222222,
             "#7201a8"
            ],
            [
             0.3333333333333333,
             "#9c179e"
            ],
            [
             0.4444444444444444,
             "#bd3786"
            ],
            [
             0.5555555555555556,
             "#d8576b"
            ],
            [
             0.6666666666666666,
             "#ed7953"
            ],
            [
             0.7777777777777778,
             "#fb9f3a"
            ],
            [
             0.8888888888888888,
             "#fdca26"
            ],
            [
             1,
             "#f0f921"
            ]
           ]
          },
          "colorway": [
           "#636efa",
           "#EF553B",
           "#00cc96",
           "#ab63fa",
           "#FFA15A",
           "#19d3f3",
           "#FF6692",
           "#B6E880",
           "#FF97FF",
           "#FECB52"
          ],
          "font": {
           "color": "#2a3f5f"
          },
          "geo": {
           "bgcolor": "white",
           "lakecolor": "white",
           "landcolor": "white",
           "showlakes": true,
           "showland": true,
           "subunitcolor": "#C8D4E3"
          },
          "hoverlabel": {
           "align": "left"
          },
          "hovermode": "closest",
          "mapbox": {
           "style": "light"
          },
          "paper_bgcolor": "white",
          "plot_bgcolor": "white",
          "polar": {
           "angularaxis": {
            "gridcolor": "#EBF0F8",
            "linecolor": "#EBF0F8",
            "ticks": ""
           },
           "bgcolor": "white",
           "radialaxis": {
            "gridcolor": "#EBF0F8",
            "linecolor": "#EBF0F8",
            "ticks": ""
           }
          },
          "scene": {
           "xaxis": {
            "backgroundcolor": "white",
            "gridcolor": "#DFE8F3",
            "gridwidth": 2,
            "linecolor": "#EBF0F8",
            "showbackground": true,
            "ticks": "",
            "zerolinecolor": "#EBF0F8"
           },
           "yaxis": {
            "backgroundcolor": "white",
            "gridcolor": "#DFE8F3",
            "gridwidth": 2,
            "linecolor": "#EBF0F8",
            "showbackground": true,
            "ticks": "",
            "zerolinecolor": "#EBF0F8"
           },
           "zaxis": {
            "backgroundcolor": "white",
            "gridcolor": "#DFE8F3",
            "gridwidth": 2,
            "linecolor": "#EBF0F8",
            "showbackground": true,
            "ticks": "",
            "zerolinecolor": "#EBF0F8"
           }
          },
          "shapedefaults": {
           "line": {
            "color": "#2a3f5f"
           }
          },
          "ternary": {
           "aaxis": {
            "gridcolor": "#DFE8F3",
            "linecolor": "#A2B1C6",
            "ticks": ""
           },
           "baxis": {
            "gridcolor": "#DFE8F3",
            "linecolor": "#A2B1C6",
            "ticks": ""
           },
           "bgcolor": "white",
           "caxis": {
            "gridcolor": "#DFE8F3",
            "linecolor": "#A2B1C6",
            "ticks": ""
           }
          },
          "title": {
           "x": 0.05
          },
          "xaxis": {
           "automargin": true,
           "gridcolor": "#EBF0F8",
           "linecolor": "#EBF0F8",
           "ticks": "",
           "title": {
            "standoff": 15
           },
           "zerolinecolor": "#EBF0F8",
           "zerolinewidth": 2
          },
          "yaxis": {
           "automargin": true,
           "gridcolor": "#EBF0F8",
           "linecolor": "#EBF0F8",
           "ticks": "",
           "title": {
            "standoff": 15
           },
           "zerolinecolor": "#EBF0F8",
           "zerolinewidth": 2
          }
         }
        },
        "title": {
         "font": {
          "color": "Black",
          "size": 22
         },
         "text": "Topic Word Scores",
         "x": 0.5,
         "xanchor": "center",
         "yanchor": "top"
        },
        "width": 1000,
        "xaxis": {
         "anchor": "y",
         "domain": [
          0,
          0.175
         ],
         "showgrid": true
        },
        "xaxis10": {
         "anchor": "y10",
         "domain": [
          0.275,
          0.45
         ],
         "showgrid": true
        },
        "xaxis11": {
         "anchor": "y11",
         "domain": [
          0.55,
          0.7250000000000001
         ],
         "showgrid": true
        },
        "xaxis12": {
         "anchor": "y12",
         "domain": [
          0.825,
          1
         ],
         "showgrid": true
        },
        "xaxis13": {
         "anchor": "y13",
         "domain": [
          0,
          0.175
         ],
         "showgrid": true
        },
        "xaxis14": {
         "anchor": "y14",
         "domain": [
          0.275,
          0.45
         ],
         "showgrid": true
        },
        "xaxis15": {
         "anchor": "y15",
         "domain": [
          0.55,
          0.7250000000000001
         ],
         "showgrid": true
        },
        "xaxis16": {
         "anchor": "y16",
         "domain": [
          0.825,
          1
         ],
         "showgrid": true
        },
        "xaxis17": {
         "anchor": "y17",
         "domain": [
          0,
          0.175
         ],
         "showgrid": true
        },
        "xaxis18": {
         "anchor": "y18",
         "domain": [
          0.275,
          0.45
         ],
         "showgrid": true
        },
        "xaxis19": {
         "anchor": "y19",
         "domain": [
          0.55,
          0.7250000000000001
         ],
         "showgrid": true
        },
        "xaxis2": {
         "anchor": "y2",
         "domain": [
          0.275,
          0.45
         ],
         "showgrid": true
        },
        "xaxis20": {
         "anchor": "y20",
         "domain": [
          0.825,
          1
         ],
         "showgrid": true
        },
        "xaxis21": {
         "anchor": "y21",
         "domain": [
          0,
          0.175
         ],
         "showgrid": true
        },
        "xaxis22": {
         "anchor": "y22",
         "domain": [
          0.275,
          0.45
         ],
         "showgrid": true
        },
        "xaxis23": {
         "anchor": "y23",
         "domain": [
          0.55,
          0.7250000000000001
         ],
         "showgrid": true
        },
        "xaxis24": {
         "anchor": "y24",
         "domain": [
          0.825,
          1
         ],
         "showgrid": true
        },
        "xaxis25": {
         "anchor": "y25",
         "domain": [
          0,
          0.175
         ],
         "showgrid": true
        },
        "xaxis26": {
         "anchor": "y26",
         "domain": [
          0.275,
          0.45
         ],
         "showgrid": true
        },
        "xaxis27": {
         "anchor": "y27",
         "domain": [
          0.55,
          0.7250000000000001
         ],
         "showgrid": true
        },
        "xaxis28": {
         "anchor": "y28",
         "domain": [
          0.825,
          1
         ],
         "showgrid": true
        },
        "xaxis29": {
         "anchor": "y29",
         "domain": [
          0,
          0.175
         ],
         "showgrid": true
        },
        "xaxis3": {
         "anchor": "y3",
         "domain": [
          0.55,
          0.7250000000000001
         ],
         "showgrid": true
        },
        "xaxis30": {
         "anchor": "y30",
         "domain": [
          0.275,
          0.45
         ],
         "showgrid": true
        },
        "xaxis31": {
         "anchor": "y31",
         "domain": [
          0.55,
          0.7250000000000001
         ],
         "showgrid": true
        },
        "xaxis32": {
         "anchor": "y32",
         "domain": [
          0.825,
          1
         ],
         "showgrid": true
        },
        "xaxis4": {
         "anchor": "y4",
         "domain": [
          0.825,
          1
         ],
         "showgrid": true
        },
        "xaxis5": {
         "anchor": "y5",
         "domain": [
          0,
          0.175
         ],
         "showgrid": true
        },
        "xaxis6": {
         "anchor": "y6",
         "domain": [
          0.275,
          0.45
         ],
         "showgrid": true
        },
        "xaxis7": {
         "anchor": "y7",
         "domain": [
          0.55,
          0.7250000000000001
         ],
         "showgrid": true
        },
        "xaxis8": {
         "anchor": "y8",
         "domain": [
          0.825,
          1
         ],
         "showgrid": true
        },
        "xaxis9": {
         "anchor": "y9",
         "domain": [
          0,
          0.175
         ],
         "showgrid": true
        },
        "yaxis": {
         "anchor": "x",
         "domain": [
          0.91875,
          1
         ],
         "showgrid": true
        },
        "yaxis10": {
         "anchor": "x10",
         "domain": [
          0.65625,
          0.7375
         ],
         "showgrid": true
        },
        "yaxis11": {
         "anchor": "x11",
         "domain": [
          0.65625,
          0.7375
         ],
         "showgrid": true
        },
        "yaxis12": {
         "anchor": "x12",
         "domain": [
          0.65625,
          0.7375
         ],
         "showgrid": true
        },
        "yaxis13": {
         "anchor": "x13",
         "domain": [
          0.5249999999999999,
          0.60625
         ],
         "showgrid": true
        },
        "yaxis14": {
         "anchor": "x14",
         "domain": [
          0.5249999999999999,
          0.60625
         ],
         "showgrid": true
        },
        "yaxis15": {
         "anchor": "x15",
         "domain": [
          0.5249999999999999,
          0.60625
         ],
         "showgrid": true
        },
        "yaxis16": {
         "anchor": "x16",
         "domain": [
          0.5249999999999999,
          0.60625
         ],
         "showgrid": true
        },
        "yaxis17": {
         "anchor": "x17",
         "domain": [
          0.39375,
          0.475
         ],
         "showgrid": true
        },
        "yaxis18": {
         "anchor": "x18",
         "domain": [
          0.39375,
          0.475
         ],
         "showgrid": true
        },
        "yaxis19": {
         "anchor": "x19",
         "domain": [
          0.39375,
          0.475
         ],
         "showgrid": true
        },
        "yaxis2": {
         "anchor": "x2",
         "domain": [
          0.91875,
          1
         ],
         "showgrid": true
        },
        "yaxis20": {
         "anchor": "x20",
         "domain": [
          0.39375,
          0.475
         ],
         "showgrid": true
        },
        "yaxis21": {
         "anchor": "x21",
         "domain": [
          0.26249999999999996,
          0.34374999999999994
         ],
         "showgrid": true
        },
        "yaxis22": {
         "anchor": "x22",
         "domain": [
          0.26249999999999996,
          0.34374999999999994
         ],
         "showgrid": true
        },
        "yaxis23": {
         "anchor": "x23",
         "domain": [
          0.26249999999999996,
          0.34374999999999994
         ],
         "showgrid": true
        },
        "yaxis24": {
         "anchor": "x24",
         "domain": [
          0.26249999999999996,
          0.34374999999999994
         ],
         "showgrid": true
        },
        "yaxis25": {
         "anchor": "x25",
         "domain": [
          0.13124999999999998,
          0.21249999999999997
         ],
         "showgrid": true
        },
        "yaxis26": {
         "anchor": "x26",
         "domain": [
          0.13124999999999998,
          0.21249999999999997
         ],
         "showgrid": true
        },
        "yaxis27": {
         "anchor": "x27",
         "domain": [
          0.13124999999999998,
          0.21249999999999997
         ],
         "showgrid": true
        },
        "yaxis28": {
         "anchor": "x28",
         "domain": [
          0.13124999999999998,
          0.21249999999999997
         ],
         "showgrid": true
        },
        "yaxis29": {
         "anchor": "x29",
         "domain": [
          0,
          0.08124999999999999
         ],
         "showgrid": true
        },
        "yaxis3": {
         "anchor": "x3",
         "domain": [
          0.91875,
          1
         ],
         "showgrid": true
        },
        "yaxis30": {
         "anchor": "x30",
         "domain": [
          0,
          0.08124999999999999
         ],
         "showgrid": true
        },
        "yaxis31": {
         "anchor": "x31",
         "domain": [
          0,
          0.08124999999999999
         ],
         "showgrid": true
        },
        "yaxis32": {
         "anchor": "x32",
         "domain": [
          0,
          0.08124999999999999
         ],
         "showgrid": true
        },
        "yaxis4": {
         "anchor": "x4",
         "domain": [
          0.91875,
          1
         ],
         "showgrid": true
        },
        "yaxis5": {
         "anchor": "x5",
         "domain": [
          0.7875,
          0.8687499999999999
         ],
         "showgrid": true
        },
        "yaxis6": {
         "anchor": "x6",
         "domain": [
          0.7875,
          0.8687499999999999
         ],
         "showgrid": true
        },
        "yaxis7": {
         "anchor": "x7",
         "domain": [
          0.7875,
          0.8687499999999999
         ],
         "showgrid": true
        },
        "yaxis8": {
         "anchor": "x8",
         "domain": [
          0.7875,
          0.8687499999999999
         ],
         "showgrid": true
        },
        "yaxis9": {
         "anchor": "x9",
         "domain": [
          0.65625,
          0.7375
         ],
         "showgrid": true
        }
       }
      }
     },
     "metadata": {},
     "output_type": "display_data"
    }
   ],
   "source": [
    "fig = topic_model.visualize_barchart(top_n_topics=30)\n",
    "fig.show()\n",
    "fig.write_html(\"size30_barchart_topics.html\")"
   ]
  },
  {
   "cell_type": "code",
   "execution_count": 39,
   "metadata": {},
   "outputs": [
    {
     "data": {
      "text/plain": [
       "[('commune', 0.008411323995234267),\n",
       " ('communauté', 0.00392758548546405),\n",
       " ('rural', 0.003717006240757502),\n",
       " ('habitant', 0.003274138798294203),\n",
       " ('communal', 0.002765976424006859),\n",
       " ('compétence', 0.0026164638492775687),\n",
       " ('département', 0.0025945814772607625),\n",
       " ('village', 0.002435490778005829),\n",
       " ('région', 0.0024035677482141782),\n",
       " ('maire', 0.0022275627761824904)]"
      ]
     },
     "execution_count": 39,
     "metadata": {},
     "output_type": "execute_result"
    }
   ],
   "source": [
    "# voir le détail des mots associés à un topic (defini par son num)\n",
    "topic_model.get_topic(0)"
   ]
  },
  {
   "cell_type": "code",
   "execution_count": 32,
   "metadata": {},
   "outputs": [],
   "source": [
    "# here i am reducing embeddings and creating a list of topics id for lowering the time of the map computation\n",
    "reduced_embeddings = UMAP(n_neighbors=10, n_components=2, min_dist=0.0, metric='cosine').fit_transform(embeddings)\n"
   ]
  },
  {
   "cell_type": "code",
   "execution_count": 33,
   "metadata": {},
   "outputs": [],
   "source": [
    "# map of the topics on similarity\n",
    "first_100_topics = list(range(100))\n",
    "\n",
    "figure_topic = topic_model.visualize_documents(lemmatized, topics = first_100_topics, reduced_embeddings=reduced_embeddings)\n",
    "\n",
    "# Two options :\n",
    "\n",
    "# Run the visualization with the original embeddings\n",
    "# topic_model.visualize_documents(lemmatized, embeddings=embeddings)\n",
    "\n",
    "# Reduce dimensionality of embeddings, this step is optional but much faster to perform iteratively:\n",
    "# reduced_embeddings = reducer(n_neighbors=10, n_components=2, min_dist=0.0, metric='cosine').fit_transform(embeddings)\n",
    "# topic_model.visualize_documents(lemmatized, embeddings)"
   ]
  },
  {
   "cell_type": "code",
   "execution_count": 34,
   "metadata": {},
   "outputs": [],
   "source": [
    "figure_topic.write_html(\"30_size_cluster_figure_topic_docs.html\")"
   ]
  },
  {
   "cell_type": "code",
   "execution_count": 49,
   "metadata": {},
   "outputs": [
    {
     "data": {
      "text/plain": [
       "{-1: [('retraite', 0.00139889469648405),\n",
       "  ('salaire', 0.0013407502237383245),\n",
       "  ('pouvoir', 0.0012582627205297006),\n",
       "  ('président', 0.0012550164023084098),\n",
       "  ('devoir', 0.0012528234648936487),\n",
       "  ('payer', 0.001252337967120741),\n",
       "  ('taxe', 0.0012507004203832295),\n",
       "  ('travail', 0.001250612832806649),\n",
       "  ('suppression', 0.0012480021010681038),\n",
       "  ('euro', 0.001246531196049288)],\n",
       " 0: [('commune', 0.008411323995234267),\n",
       "  ('communauté', 0.00392758548546405),\n",
       "  ('rural', 0.003717006240757502),\n",
       "  ('habitant', 0.003274138798294203),\n",
       "  ('communal', 0.002765976424006859),\n",
       "  ('compétence', 0.0026164638492775687),\n",
       "  ('département', 0.0025945814772607625),\n",
       "  ('village', 0.002435490778005829),\n",
       "  ('région', 0.0024035677482141782),\n",
       "  ('maire', 0.0022275627761824904)],\n",
       " 1: [('école', 0.011452069582488487),\n",
       "  ('élève', 0.005073102021365483),\n",
       "  ('enseignant', 0.0038845987703248074),\n",
       "  ('enfant', 0.0034342144022908466),\n",
       "  ('éducation', 0.0033540911955555856),\n",
       "  ('collège', 0.0032926581308575596),\n",
       "  ('enseignement', 0.003017101377076803),\n",
       "  ('scolaire', 0.00298413589788952),\n",
       "  ('lycée', 0.0029476580095462953),\n",
       "  ('professeur', 0.0027993534354979186)],\n",
       " 2: [('énergie', 0.00466758304589778),\n",
       "  ('agriculture', 0.004028898291034726),\n",
       "  ('pesticide', 0.0038518687989596086),\n",
       "  ('nucléaire', 0.0037638732036206395),\n",
       "  ('production', 0.0036626400048839543),\n",
       "  ('électrique', 0.003484209140731056),\n",
       "  ('bio', 0.0032755953530161468),\n",
       "  ('pollution', 0.003268460336512557),\n",
       "  ('écologique', 0.003065889205706307),\n",
       "  ('eau', 0.003000250904958597)],\n",
       " 3: [('monsieur', 0.026902304959691873),\n",
       "  ('macron', 0.009580759611984076),\n",
       "  ('président', 0.008403208044127773),\n",
       "  ('salutation', 0.007196315335966345),\n",
       "  ('maire', 0.00571696140995076),\n",
       "  ('mr', 0.004266070059896415),\n",
       "  ('prier', 0.004226583970614136),\n",
       "  ('bonjour', 0.003981009959206069),\n",
       "  ('cordialement', 0.0039126831578607125),\n",
       "  ('agréer', 0.003912272434141632)],\n",
       " 4: [('pension', 0.005547118253876632),\n",
       "  ('retraité', 0.004950639518810796),\n",
       "  ('retraite', 0.004702020750118893),\n",
       "  ('inflation', 0.0043711761327570355),\n",
       "  ('csg', 0.00428824121480091),\n",
       "  ('augmentation', 0.004146568518073358),\n",
       "  ('indexation', 0.0035763420539051427),\n",
       "  ('pourcent', 0.0027850454168727528),\n",
       "  ('revalorisation', 0.0025543527219810368),\n",
       "  ('montant', 0.0025417034107117387)],\n",
       " 5: [('français', 0.015215752164773498),\n",
       "  ('étranger', 0.003606407186973496),\n",
       "  ('macron', 0.0033960340329416043),\n",
       "  ('peuple', 0.0033911006842301215),\n",
       "  ('migrant', 0.0032488413451769627),\n",
       "  ('immigration', 0.0031492854482059506),\n",
       "  ('arrêter', 0.0030591634051979283),\n",
       "  ('président', 0.002866770327321696),\n",
       "  ('isf', 0.0027812670203826418),\n",
       "  ('monsieur', 0.002710576774525668)],\n",
       " 6: [('fiscal', 0.0058969097965108795),\n",
       "  ('fiscalité', 0.0037501221207224215),\n",
       "  ('évasion', 0.0034415565394671794),\n",
       "  ('niche', 0.00339091419851566),\n",
       "  ('fraude', 0.002924363598882825),\n",
       "  ('revenu', 0.0026761842852627603),\n",
       "  ('optimisation', 0.0026466604544190175),\n",
       "  ('impôt', 0.0026312047465203957),\n",
       "  ('taxation', 0.0023370395267151207),\n",
       "  ('entreprise', 0.0022312811709750417)],\n",
       " 7: [('vote', 0.024560745178282665),\n",
       "  ('blanc', 0.024313493361843425),\n",
       "  ('référendum', 0.019506396409231155),\n",
       "  ('initiative', 0.01476988775420599),\n",
       "  ('élection', 0.014757189713513115),\n",
       "  ('obligatoire', 0.010562356967756481),\n",
       "  ('reconnaissance', 0.009799013708527362),\n",
       "  ('comptabiliser', 0.009654305808618539),\n",
       "  ('proportionnelle', 0.008045740175903137),\n",
       "  ('démocratie', 0.00772989368610656)],\n",
       " 8: [('français', 0.006033626085431066),\n",
       "  ('xad', 0.00333836474598757),\n",
       "  ('langue', 0.0029922509071639825),\n",
       "  ('peuple', 0.0022550600610329336),\n",
       "  ('pays', 0.00219093776956979),\n",
       "  ('devoir', 0.0017960477395693078),\n",
       "  ('étranger', 0.0017848280480999143),\n",
       "  ('république', 0.0017087034217207935),\n",
       "  ('nation', 0.0016995373114880846),\n",
       "  ('vouloir', 0.0015961412165367344)],\n",
       " 9: [('élection', 0.008547185811801784),\n",
       "  ('vote', 0.006271160704208606),\n",
       "  ('souhaitable', 0.006136860461489317),\n",
       "  ('proportionnelle', 0.0060686541485817655),\n",
       "  ('suffrage', 0.006041558509085723),\n",
       "  ('blanc', 0.0052312333075923674),\n",
       "  ('dose', 0.005019106334428661),\n",
       "  ('introduire', 0.004944601483697543),\n",
       "  ('candidat', 0.004900507902262039),\n",
       "  ('925', 0.004634544958077339)],\n",
       " 10: [('kilomètre', 0.015628821149798782),\n",
       "  ('vitesse', 0.0105590367401355),\n",
       "  ('route', 0.009336051138399939),\n",
       "  ('heure', 0.008043898407671597),\n",
       "  ('par', 0.006364895177503821),\n",
       "  ('limitation', 0.006339944512836072),\n",
       "  ('autoroute', 0.005263799707875032),\n",
       "  ('radar', 0.005256885139091745),\n",
       "  ('routier', 0.004876143739408759),\n",
       "  ('rouler', 0.004523185576063638)],\n",
       " 11: [('', 1e-05),\n",
       "  ('', 1e-05),\n",
       "  ('', 1e-05),\n",
       "  ('', 1e-05),\n",
       "  ('', 1e-05),\n",
       "  ('', 1e-05),\n",
       "  ('', 1e-05),\n",
       "  ('', 1e-05),\n",
       "  ('', 1e-05),\n",
       "  ('', 1e-05)],\n",
       " 12: [('monsieur', 0.006335538623960395),\n",
       "  ('président', 0.002855376667792944),\n",
       "  ('bien', 0.002040911543093332),\n",
       "  ('vouloir', 0.0020372826216702687),\n",
       "  ('macron', 0.001930043802148116),\n",
       "  ('faire', 0.0019169175923978241),\n",
       "  ('aller', 0.001838043295270952),\n",
       "  ('savoir', 0.0018193326570826334),\n",
       "  ('peuple', 0.0018147353089333978),\n",
       "  ('jaune', 0.0018053914909794198)],\n",
       " 13: [('euro', 0.013062856160198227),\n",
       "  ('mois', 0.006819321190038864),\n",
       "  ('brut', 0.006194394156608513),\n",
       "  ('mensuel', 0.005224928957652061),\n",
       "  ('net', 0.004392444248765172),\n",
       "  ('million', 0.004170976711758851),\n",
       "  ('couple', 0.0033699023233710185),\n",
       "  ('moi', 0.0032316169879098877),\n",
       "  ('pension', 0.002734920562999707),\n",
       "  ('csg', 0.002719922972200063)],\n",
       " 14: [('médecin', 0.012798057874529086),\n",
       "  ('patient', 0.010373995473429754),\n",
       "  ('médical', 0.006918130699477223),\n",
       "  ('médecine', 0.006864650155381433),\n",
       "  ('soin', 0.0051195383201940265),\n",
       "  ('santé', 0.004737926912385063),\n",
       "  ('généraliste', 0.00460771650791409),\n",
       "  ('médicament', 0.00455140051870283),\n",
       "  ('infirmier', 0.004399580949963382),\n",
       "  ('hôpital', 0.004043466664087602)],\n",
       " 15: [('message', 0.01392980080959686),\n",
       "  ('com', 0.008390790248742544),\n",
       "  ('postal', 0.008277664214250795),\n",
       "  ('gmail', 0.008196125571110676),\n",
       "  ('adresse', 0.0073641623264323166),\n",
       "  ('prénom', 0.007121856533816734),\n",
       "  ('fr', 0.006720915725852759),\n",
       "  ('nâ', 0.0064570514029735505),\n",
       "  ('soumission', 0.006206554410704529),\n",
       "  ('date', 0.005926348182544824)],\n",
       " 16: [('commune', 0.03350003990336654),\n",
       "  ('rural', 0.01011039196168815),\n",
       "  ('communauté', 0.008254134393008568),\n",
       "  ('habitant', 0.006087675690014589),\n",
       "  ('petit', 0.00577607203435744),\n",
       "  ('village', 0.0050910375110171865),\n",
       "  ('maire', 0.004714234040283159),\n",
       "  ('commerce', 0.003855653419250902),\n",
       "  ('municipal', 0.0037581151257776125),\n",
       "  ('âgé', 0.003697218937420409)],\n",
       " 17: [('arrondissement', 0.028075179180579654),\n",
       "  ('approfondi', 0.028011066724721756),\n",
       "  ('dysfonctionnement', 0.027875810365639984),\n",
       "  ('indique', 0.025078848084702447),\n",
       "  ('souhaiter', 0.020639819767303322),\n",
       "  ('coordonnée', 0.019579001907987566),\n",
       "  ('laisse', 0.019057374696252453),\n",
       "  ('analyse', 0.0186601705597422),\n",
       "  ('ordre', 0.018448266845566257),\n",
       "  ('autour', 0.018132083054325537)],\n",
       " 18: [('revoir', 0.025563176335940418),\n",
       "  ('falloir', 0.013516085379785363),\n",
       "  ('phrase', 0.003767716253921476),\n",
       "  ('baisser', 0.0033994846400404424),\n",
       "  ('arrêter', 0.003307549451372234),\n",
       "  ('aider', 0.0031645689146445593),\n",
       "  ('beaucoup', 0.0031560602032286245),\n",
       "  ('travailler', 0.0031470294810789536),\n",
       "  ('bosser', 0.0031442563589469076),\n",
       "  ('salaire', 0.003118695429643801)],\n",
       " 19: [('légalisation', 0.02994947363302551),\n",
       "  ('mourir', 0.029305469610148273),\n",
       "  ('euthanasie', 0.028704703428740794),\n",
       "  ('ifop', 0.024759002788116585),\n",
       "  ('létal', 0.024001817952402003),\n",
       "  ('actif', 0.02217327544550108),\n",
       "  ('sondage', 0.021637364070225852),\n",
       "  ('décéder', 0.02056295704917658),\n",
       "  ('intégrer', 0.016386312773229876),\n",
       "  ('contraception', 0.01591496127909368)],\n",
       " 20: [('libre', 0.011881283939306304),\n",
       "  ('expression', 0.010492786437310596),\n",
       "  ('défi', 0.009034985301431944),\n",
       "  ('quell', 0.008717160184512365),\n",
       "  ('concret', 0.008436097140108323),\n",
       "  ('vieux', 0.00805572412087565),\n",
       "  ('scientifiquement', 0.008054365173325693),\n",
       "  ('échelon', 0.00805357920960052),\n",
       "  ('faut', 0.007718047634011609),\n",
       "  ('garantir', 0.007504660101812994)],\n",
       " 21: [('x92est', 0.006349283219436326),\n",
       "  ('qu', 0.004849046853017308),\n",
       "  ('x92', 0.004612127910381242),\n",
       "  ('rui', 0.0037977004194984414),\n",
       "  ('x92en', 0.0034340863919288716),\n",
       "  ('x92autre', 0.003106655672767488),\n",
       "  ('x92on', 0.0028937393502251984),\n",
       "  ('x92y', 0.0026089340996538974),\n",
       "  ('siècle', 0.0025371898992332057),\n",
       "  ('x92er', 0.002526462702253416)],\n",
       " 22: [('date', 0.03202143746417832),\n",
       "  ('traiter', 0.031028631880163523),\n",
       "  ('attention', 0.03022140934396427),\n",
       "  ('habitant', 0.02794344715720761),\n",
       "  ('mante', 0.027780054422864162),\n",
       "  ('ordre', 0.02685850288547424),\n",
       "  ('priorité', 0.023761374322699015),\n",
       "  ('problème', 0.019413526853075253),\n",
       "  ('demande', 0.018400633178949348),\n",
       "  ('ville', 0.018213467973279183)],\n",
       " 23: [('dépense', 0.02341497917056145),\n",
       "  ('fiscalité', 0.01835234682452695),\n",
       "  ('déficit', 0.016049896077287056),\n",
       "  ('réponse', 0.01549458853157785),\n",
       "  ('utilisation', 0.013089983394682399),\n",
       "  ('information', 0.012295610081745283),\n",
       "  ('réduire', 0.011760644696937442),\n",
       "  ('efficace', 0.011625509950835097),\n",
       "  ('domaine', 0.009810898245492512),\n",
       "  ('gagner', 0.00966954959051081)],\n",
       " 24: [('femme', 0.018005325486686298),\n",
       "  ('homme', 0.008754635652322118),\n",
       "  ('enfant', 0.005646499578349466),\n",
       "  ('père', 0.0034245433718703114),\n",
       "  ('sexe', 0.0030062805430455274),\n",
       "  ('égalité', 0.002740332412911685),\n",
       "  ('mère', 0.0026680620191871364),\n",
       "  ('pma', 0.0024505852183765776),\n",
       "  ('humain', 0.002440412066569887),\n",
       "  ('mariage', 0.0022762488779202645)],\n",
       " 25: [('augmentation', 0.04338325127993006),\n",
       "  ('csg', 0.02251871757932676),\n",
       "  ('retraite', 0.02102088850682258),\n",
       "  ('isf', 0.02017335935228011),\n",
       "  ('retraité', 0.0160093179843529),\n",
       "  ('smic', 0.015291638943872645),\n",
       "  ('revalorisation', 0.014029918082255914),\n",
       "  ('achat', 0.012704122066800877),\n",
       "  ('retrait', 0.012087283143281538),\n",
       "  ('baisse', 0.011321919023969649)],\n",
       " 26: [('renouer', 0.01855710743969698),\n",
       "  ('syndical', 0.015706520366442128),\n",
       "  ('rôle', 0.014774334419099176),\n",
       "  ('oui', 0.014178254758670026),\n",
       "  ('institutionnel', 0.014037603580720584),\n",
       "  ('représenter', 0.013017939935021105),\n",
       "  ('association', 0.011162807523710912),\n",
       "  ('incivilité', 0.010825344821822262),\n",
       "  ('confiance', 0.009858528036998784),\n",
       "  ('lien', 0.009701674612822314)],\n",
       " 27: [('prénom', 0.0499951363645398),\n",
       "  ('nom', 0.040260909659953145),\n",
       "  ('adresse', 0.03937052722663647),\n",
       "  ('date', 0.03828831724814385),\n",
       "  ('signature', 0.024329102937564993),\n",
       "  ('téléphone', 0.019511785138676963),\n",
       "  ('2019', 0.013775484042335478),\n",
       "  ('mail', 0.013201538535394849),\n",
       "  ('rue', 0.011931007949060246),\n",
       "  ('postal', 0.011756341908882088)],\n",
       " 28: [('kilomètre', 0.055765738649533686),\n",
       "  ('route', 0.028203077791448896),\n",
       "  ('heure', 0.028201209322155425),\n",
       "  ('vitesse', 0.025610558942230556),\n",
       "  ('limitation', 0.019649691214946658),\n",
       "  ('autoroute', 0.01545590062420911),\n",
       "  ('par', 0.01472085043267782),\n",
       "  ('radar', 0.0062434122089311435),\n",
       "  ('départemental', 0.006008656131133001),\n",
       "  ('routier', 0.005658515784424087)],\n",
       " 29: [('monsieur', 0.004995454010807813),\n",
       "  ('président', 0.003502499749104798),\n",
       "  ('français', 0.003364285545999203),\n",
       "  ('peuple', 0.0029085183274362232),\n",
       "  ('république', 0.002574286147761322),\n",
       "  ('déconne', 0.002318585674658623),\n",
       "  ('aller', 0.002117727580716751),\n",
       "  ('pays', 0.002112418943559855),\n",
       "  ('mot', 0.0020701858266593573),\n",
       "  ('faire', 0.002047733581045749)],\n",
       " 30: [('climatique', 0.02713156009625718),\n",
       "  ('environnement', 0.02068352384024758),\n",
       "  ('quotidien', 0.019299173408329703),\n",
       "  ('changement', 0.019220673043111328),\n",
       "  ('réponse', 0.018862143967612367),\n",
       "  ('oui', 0.01715929539582711),\n",
       "  ('ell', 0.01670575031996531),\n",
       "  ('crue', 0.01605866556042156),\n",
       "  ('alternatif', 0.015240146316328647),\n",
       "  ('dérèglement', 0.013474063490742233)],\n",
       " 31: [('suppression', 0.00936103944568712),\n",
       "  ('réduction', 0.007890395071982144),\n",
       "  ('avantage', 0.00501160943898078),\n",
       "  ('diminution', 0.004936430720810457),\n",
       "  ('député', 0.004719957212627064),\n",
       "  ('ministre', 0.004688837421377238),\n",
       "  ('ancien', 0.00457728543907549),\n",
       "  ('cumul', 0.00420672871319721),\n",
       "  ('sénateur', 0.004175966225355083),\n",
       "  ('privilège', 0.003991151111087072)],\n",
       " 32: [('préfecture', 0.02162576894936606),\n",
       "  ('préfet', 0.017446321316112966),\n",
       "  ('février', 0.012728459726412926),\n",
       "  ('prier', 0.012379597289796344),\n",
       "  ('cedex', 0.01182044548884246),\n",
       "  ('joint', 0.011052635578996082),\n",
       "  ('réception', 0.010671000389950157),\n",
       "  ('bordereau', 0.010236847269325437),\n",
       "  ('monsieur', 0.01021661948351109),\n",
       "  ('cahier', 0.010155061420828185)],\n",
       " 33: [('fiscal', 0.029209209425004865),\n",
       "  ('évasion', 0.024497393430830888),\n",
       "  ('fraude', 0.018117467116471712),\n",
       "  ('paradis', 0.013999668977654237),\n",
       "  ('lutter', 0.011092638367710433),\n",
       "  ('optimisation', 0.009934751302340478),\n",
       "  ('fiscalité', 0.009639673766024731),\n",
       "  ('lutte', 0.009347421831691186),\n",
       "  ('justice', 0.008295991449461103),\n",
       "  ('niche', 0.008232746355208714)],\n",
       " 34: [('écrire', 0.549139230423254),\n",
       "  ('page', 0.5301265216725927),\n",
       "  ('fin', 0.18909782300350422),\n",
       "  ('écrite', 0.012147598634057403),\n",
       "  ('pag', 0.006585646367374664),\n",
       "  ('texte', 0.001994888868040747),\n",
       "  ('capital', 0.0018116490531279222),\n",
       "  ('mort', 0.0015667987318569835),\n",
       "  ('', 1e-05),\n",
       "  ('', 1e-05)],\n",
       " 35: [('cahierscitoyens', 0.06735610188600975),\n",
       "  ('granddebat', 0.06311186025644892),\n",
       "  ('ko', 0.059507311120446875),\n",
       "  ('pdf', 0.04890933709101956),\n",
       "  ('pièce', 0.044864512239134735),\n",
       "  ('joindre', 0.04348876096806931),\n",
       "  ('imprimé', 0.04338269606913858),\n",
       "  ('fr', 0.03672386667048323),\n",
       "  ('cordialement', 0.031141207162814696),\n",
       "  ('mairie', 0.02838079463873388)],\n",
       " 36: [('peine', 0.07670678335669831),\n",
       "  ('détenu', 0.05957714556962032),\n",
       "  ('exécution', 0.048080226560953995),\n",
       "  ('conduite', 0.04080885850554021),\n",
       "  ('transalpin', 0.03356612712479506),\n",
       "  ('neutralisation', 0.03294330474989317),\n",
       "  ('radicaliser', 0.03005733545027986),\n",
       "  ('mafieux', 0.030001590501269916),\n",
       "  ('nullement', 0.029826401175944792),\n",
       "  ('caractériser', 0.029424257417689146)],\n",
       " 37: [('euro', 0.030171667445400892),\n",
       "  ('mois', 0.019499290521287547),\n",
       "  ('retraite', 0.00975999986553116),\n",
       "  ('toucher', 0.009493918020623453),\n",
       "  ('loyer', 0.009025019832307937),\n",
       "  ('mensuel', 0.0067995539441772284),\n",
       "  ('retraité', 0.006385546493766242),\n",
       "  ('csg', 0.005950479741594549),\n",
       "  ('travailler', 0.005556552720931867),\n",
       "  ('minimum', 0.005436236693857623)],\n",
       " 38: [('cahierscitoyens', 0.0516219589268049),\n",
       "  ('granddebat', 0.04816155971456681),\n",
       "  ('ko', 0.038791082796472476),\n",
       "  ('fr', 0.03809227998323326),\n",
       "  ('pièce', 0.036325225830435535),\n",
       "  ('joindre', 0.03615280752395),\n",
       "  ('imprimé', 0.034486806557819785),\n",
       "  ('pdf', 0.03092284893381228),\n",
       "  ('wanadoo', 0.028846367943735053),\n",
       "  ('cordialement', 0.027313649891761275)],\n",
       " 39: [('privilège', 0.05141780981764415),\n",
       "  ('abolition', 0.050194513807614714),\n",
       "  ('sénateur', 0.024293370916650583),\n",
       "  ('ancien', 0.02279303913714787),\n",
       "  ('député', 0.017826229330043884),\n",
       "  ('président', 0.014365939989210793),\n",
       "  ('république', 0.011684777204863222),\n",
       "  ('ministre', 0.011063382664631992),\n",
       "  ('diminuer', 0.008046201119843046),\n",
       "  ('démission', 0.00663460992674963)],\n",
       " 40: [('handicapé', 0.030809422752689785),\n",
       "  ('handicap', 0.030099904822697227),\n",
       "  ('handicaper', 0.021017686796315115),\n",
       "  ('aah', 0.01059455440606922),\n",
       "  ('adulte', 0.009735984545506705),\n",
       "  ('conjoint', 0.007593328672903393),\n",
       "  ('accompagnement', 0.0062148612337863535),\n",
       "  ('esat', 0.005524189288209452),\n",
       "  ('alocation', 0.005400159616259714),\n",
       "  ('adapter', 0.005283787636064175)],\n",
       " 41: [('q3', 0.04476730569716871),\n",
       "  ('q4', 0.030464252584304134),\n",
       "  ('q5', 0.025757125605461645),\n",
       "  ('q2', 0.02465080824253339),\n",
       "  ('collecteur', 0.023669016444920078),\n",
       "  ('adresser', 0.022816278127425576),\n",
       "  ('terminé', 0.022222967115254715),\n",
       "  ('q1', 0.020479620946219555),\n",
       "  ('modification', 0.020319763041586187),\n",
       "  ('ip', 0.018675562940192483)],\n",
       " 42: [('km', 0.04964611229776336),\n",
       "  ('démarche', 0.03640359091173032),\n",
       "  ('parcourir', 0.036397344462392955),\n",
       "  ('transférer', 0.030987532729961745),\n",
       "  ('distance', 0.026665638332117),\n",
       "  ('accéder', 0.026423360909863355),\n",
       "  ('téléphonique', 0.023101125114779464),\n",
       "  ('effectuer', 0.022349373968013175),\n",
       "  ('manquer', 0.021140365230851877),\n",
       "  ('nécessaire', 0.020584051543605306)],\n",
       " 43: [('français', 0.003568129320310649),\n",
       "  ('vivre', 0.002382653183062125),\n",
       "  ('aire', 0.002373661516792508),\n",
       "  ('pays', 0.0023544641923374143),\n",
       "  ('bien', 0.002309395555183434),\n",
       "  ('vouloir', 0.0022066623100091528),\n",
       "  ('aller', 0.0020811148569394385),\n",
       "  ('payer', 0.002076516010198871),\n",
       "  ('arriver', 0.0020613344754521258),\n",
       "  ('argent', 0.0020237750264320733)],\n",
       " 44: [('prêt', 0.07503943067384933),\n",
       "  ('bénéfique', 0.060634241886769455),\n",
       "  ('tabac', 0.05901952035435204),\n",
       "  ('alcool', 0.05536700514203526),\n",
       "  ('publique', 0.05502448832897993),\n",
       "  ('comportement', 0.034176584205521755),\n",
       "  ('fiscalité', 0.03282438407019601),\n",
       "  ('encourager', 0.031992969964951955),\n",
       "  ('09', 0.026248889433403838),\n",
       "  ('domaine', 0.02459466456149579)],\n",
       " 45: [('kilomètre', 0.05257332814945499),\n",
       "  ('heure', 0.026245031949286936),\n",
       "  ('vitesse', 0.020488947751105442),\n",
       "  ('indexation', 0.01807927539703805),\n",
       "  ('par', 0.017154127186347696),\n",
       "  ('limitation', 0.015156393163014821),\n",
       "  ('route', 0.015066708525642198),\n",
       "  ('csg', 0.014857052745086672),\n",
       "  ('suppression', 0.014731011535210817),\n",
       "  ('retraite', 0.011324229590777292)],\n",
       " 46: [('jaune', 0.009569747026550992),\n",
       "  ('gilet', 0.00917461444683671),\n",
       "  ('vite', 0.007931396656370032),\n",
       "  ('marcher', 0.007461147880567459),\n",
       "  ('jeune', 0.007259542765033276),\n",
       "  ('tollen', 0.007088895714751567),\n",
       "  ('dannivill', 0.007088895714751567),\n",
       "  ('machen', 0.006790124968534933),\n",
       "  ('macht', 0.006578150857951176),\n",
       "  ('gillet', 0.00657245882292702)],\n",
       " 47: [('agent', 0.05196795109660807),\n",
       "  ('chose', 0.044634444089482646),\n",
       "  ('démarche', 0.036735022892754106),\n",
       "  ('accomplissement', 0.033890745402698735),\n",
       "  ('mauvais', 0.03379001585409016),\n",
       "  ('itinérant', 0.03130032523475566),\n",
       "  ('polyvalent', 0.031009993100867776),\n",
       "  ('effectuer', 0.028308741715345292),\n",
       "  ('susceptible', 0.02624029504608424),\n",
       "  ('prise', 0.025154900545901335)],\n",
       " 48: [('organisation', 0.03663359421100905),\n",
       "  ('échelon', 0.034002122758302764),\n",
       "  ('administratif', 0.032165159613405804),\n",
       "  ('opérateur', 0.03019215544448332),\n",
       "  ('territorial', 0.029406617757065715),\n",
       "  ('évoluer', 0.02397749306185265),\n",
       "  ('oui', 0.023476585528812037),\n",
       "  ('attacher', 0.02112372748865325),\n",
       "  ('collectivité', 0.019858295295927208),\n",
       "  ('administration', 0.018246326279070395)],\n",
       " 49: [('victime', 0.057263336532648264),\n",
       "  ('relaxe', 0.04371508078612091),\n",
       "  ('appel', 0.038432605320563355),\n",
       "  ('acquittement', 0.034911752072325324),\n",
       "  ('pénal', 0.031227803688259767),\n",
       "  ('détenu', 0.021496807138291538),\n",
       "  ('civil', 0.02031218353485825),\n",
       "  ('peine', 0.01915979280774784),\n",
       "  ('second', 0.018331459598617025),\n",
       "  ('conditionnel', 0.01784970935001309)],\n",
       " 50: [('registre', 0.05730528184200416),\n",
       "  ('parapher', 0.04878061557422908),\n",
       "  ('soussigner', 0.044986939593508794),\n",
       "  ('commune', 0.043459868804193995),\n",
       "  ('cahier', 0.04321126852723247),\n",
       "  ('contenir', 0.04030663868044262),\n",
       "  ('maire', 0.03660724593482238),\n",
       "  ('clôturer', 0.03596159653478627),\n",
       "  ('février', 0.0354954213385919),\n",
       "  ('feuillet', 0.03343853179001389)],\n",
       " 51: [('davantage', 0.04061378036759623),\n",
       "  ('recours', 0.03991600548447471),\n",
       "  ('oui', 0.02920322896887249),\n",
       "  ('orientation', 0.023487825471336148),\n",
       "  ('participatif', 0.02194107677235229),\n",
       "  ('associer', 0.02150631463947521),\n",
       "  ('inciter', 0.018589166614341093),\n",
       "  ('référendum', 0.01734077927652314),\n",
       "  ('participation', 0.016425758888698728),\n",
       "  ('vote', 0.015230638979769466)],\n",
       " 52: [('femme', 0.0669720446245571),\n",
       "  ('homme', 0.036463229917781365),\n",
       "  ('égalité', 0.01222237190665985),\n",
       "  ('enfant', 0.009504372215264071),\n",
       "  ('femm', 0.007917537624080984),\n",
       "  ('égal', 0.007000424233658123),\n",
       "  ('divorcer', 0.006371713453111315),\n",
       "  ('veuve', 0.006260466039869229),\n",
       "  ('égaliter', 0.006152327216366986),\n",
       "  ('élever', 0.005963432981522393)],\n",
       " 53: [('patron', 0.02837501096973702),\n",
       "  ('collectif', 0.021404980432779854),\n",
       "  ('entrepreneur', 0.020691708610279937),\n",
       "  ('risque', 0.01756158517722751),\n",
       "  ('développeur', 0.01740473617400404),\n",
       "  ('vitrier', 0.01725427216331174),\n",
       "  ('sarl', 0.017160839157550647),\n",
       "  ('courroie', 0.017009465293835985),\n",
       "  ('paysagiste', 0.016934432341928395),\n",
       "  ('peintre', 0.016843551952217577)],\n",
       " 54: [('élection', 0.006327407471894602),\n",
       "  ('vote', 0.00462292452985442),\n",
       "  ('voter', 0.003985433858335447),\n",
       "  ('démocratie', 0.003698622059212833),\n",
       "  ('législatif', 0.003505664100741478),\n",
       "  ('électeur', 0.0034457419388109318),\n",
       "  ('référendum', 0.003392791111011283),\n",
       "  ('blanc', 0.0033669420900550345),\n",
       "  ('français', 0.0031940873240442437),\n",
       "  ('république', 0.003162863170230949)],\n",
       " 55: [('ric', 0.18011600165286543),\n",
       "  ('mise', 0.039560680099807184),\n",
       "  ('matière', 0.02987996216193624),\n",
       "  ('place', 0.026373825384933474),\n",
       "  ('démission', 0.024337393320490234),\n",
       "  ('mécringe', 0.023095862132573728),\n",
       "  ('macron', 0.012482183199556407),\n",
       "  ('mauclain', 0.012444542671303852),\n",
       "  ('baisse', 0.01239336425183934),\n",
       "  ('keurmeur', 0.011920051206082671)],\n",
       " 56: [('fiscal', 0.005434664673021187),\n",
       "  ('fiscalité', 0.0038442371857205573),\n",
       "  ('paradis', 0.0036132936953338444),\n",
       "  ('impôt', 0.0033873687490453526),\n",
       "  ('évasion', 0.0031426740880869616),\n",
       "  ('tranche', 0.002998457722932581),\n",
       "  ('optimisation', 0.0027663351083998906),\n",
       "  ('français', 0.0024144754527451826),\n",
       "  ('payer', 0.0023901192209908207),\n",
       "  ('revenu', 0.002315509526969619)],\n",
       " 57: [('suppression', 0.03658594336487529),\n",
       "  ('diminution', 0.014517152573871933),\n",
       "  ('csg', 0.013559890203582193),\n",
       "  ('réduction', 0.011250535296277214),\n",
       "  ('ancien', 0.010070039422067788),\n",
       "  ('député', 0.009870608371563352),\n",
       "  ('avantage', 0.00950854169496311),\n",
       "  ('isf', 0.009290768995683976),\n",
       "  ('rétablissement', 0.009203336956539245),\n",
       "  ('sénateur', 0.009104704067314099)],\n",
       " 58: [('transition', 0.03648068051369494),\n",
       "  ('écologique', 0.03202075863794459),\n",
       "  ('écologie', 0.022657633053402872),\n",
       "  ('énergie', 0.009130935256681709),\n",
       "  ('ecologie', 0.009061475305111227),\n",
       "  ('environnement', 0.008685418975724075),\n",
       "  ('énergétique', 0.007822881653443546),\n",
       "  ('ecologiqu', 0.007776265742812625),\n",
       "  ('peseu', 0.007515337097592091),\n",
       "  ('planète', 0.007257669224988278)],\n",
       " 59: [('victime', 0.06638741259643274),\n",
       "  ('relaxe', 0.05200674255421487),\n",
       "  ('appel', 0.04644717903240658),\n",
       "  ('acquittement', 0.043201706979370376),\n",
       "  ('pénal', 0.03475812961570782),\n",
       "  ('civil', 0.02384466881678782),\n",
       "  ('second', 0.021589749088104272),\n",
       "  ('tribunal', 0.02073954073259302),\n",
       "  ('ravageur', 0.01936868421545367),\n",
       "  ('correctionnel', 0.019310755783550505)],\n",
       " 60: [('légalisation', 0.03343026422063169),\n",
       "  ('euthanasie', 0.03237600204298506),\n",
       "  ('mourir', 0.031261770537056345),\n",
       "  ('ifop', 0.02777171684591443),\n",
       "  ('létal', 0.027027932427327494),\n",
       "  ('actif', 0.02477489288937835),\n",
       "  ('sondage', 0.024112003123913404),\n",
       "  ('décéder', 0.023787565237145925),\n",
       "  ('réanimation', 0.01729948505022106),\n",
       "  ('contraception', 0.017242142270554116)],\n",
       " 61: [('contribution', 0.0126034977419531),\n",
       "  ('thème', 0.012412272149177539),\n",
       "  ('coordonnée', 0.011704871618080507),\n",
       "  ('dysfonctionnement', 0.010686043562868584),\n",
       "  ('approfondi', 0.010391227792981825),\n",
       "  ('indique', 0.010324578769180576),\n",
       "  ('souhaiter', 0.009740728563320571),\n",
       "  ('75020', 0.00956521107652435),\n",
       "  ('citoyenneté', 0.008822768135830486),\n",
       "  ('analyse', 0.00830358373916674)],\n",
       " 62: [('incivilité', 0.08338743497689372),\n",
       "  ('civique', 0.061004322790403555),\n",
       "  ('collective', 0.056447270034817136),\n",
       "  ('engagement', 0.0540097537616234),\n",
       "  ('comportement', 0.05226490191056906),\n",
       "  ('pénible', 0.04568565654088581),\n",
       "  ('promouvoir', 0.03776445862168402),\n",
       "  ('quotidien', 0.03749755117680574),\n",
       "  ('parcours', 0.03658807254072282),\n",
       "  ('valoriser', 0.03292271293355871)],\n",
       " 63: [('paris', 0.0782334862966195),\n",
       "  ('formulaire', 0.03995657949296882),\n",
       "  ('backoffice', 0.03503015788220232),\n",
       "  ('mairie15', 0.032709205626404926),\n",
       "  ('textarea_fl6_12', 0.03247203109435724),\n",
       "  ('text_fl6_8', 0.030370143982695705),\n",
       "  ('textarea_fl6_25', 0.02951859780146544),\n",
       "  ('mailto', 0.026649111938105586),\n",
       "  ('reply', 0.02622344323920781),\n",
       "  ('no', 0.02590568875933407)],\n",
       " 64: [('md', 0.007480894395000839),\n",
       "  ('travailler', 0.0036825026784763205),\n",
       "  ('retraité', 0.0036000207829999602),\n",
       "  ('retraite', 0.003584790044023323),\n",
       "  ('potentiel', 0.0030921416884794285),\n",
       "  ('noulette', 0.00255336777320851),\n",
       "  ('revoir', 0.0025456678754245798),\n",
       "  ('augmentation', 0.002532044692188955),\n",
       "  ('enfant', 0.002478741055083159),\n",
       "  ('augmenter', 0.0023409844061132645)],\n",
       " 65: [('justice', 0.03327869361355991),\n",
       "  ('violence', 0.019792884231922367),\n",
       "  ('police', 0.01920009254004757),\n",
       "  ('prison', 0.01856248029167819),\n",
       "  ('policier', 0.00987757108320535),\n",
       "  ('belhomme', 0.009499174827115365),\n",
       "  ('islamique', 0.008862105266015084),\n",
       "  ('fermenter', 0.007987829389485798),\n",
       "  ('délinquant', 0.007554541639887278),\n",
       "  ('marque', 0.006794155802336162)],\n",
       " 66: [('observation', 0.06333561396589733),\n",
       "  ('fanny', 0.056592198397299835),\n",
       "  ('active', 0.04953241716603949),\n",
       "  ('dématérialiser', 0.04452556144476528),\n",
       "  ('democratie', 0.039706658964096586),\n",
       "  ('déposer', 0.03764077676329037),\n",
       "  ('registre', 0.0328094237379054),\n",
       "  ('larios', 0.03231974506857852),\n",
       "  ('privacy', 0.03122637896976281),\n",
       "  ('pina', 0.028591282991173878)],\n",
       " 67: [('fr', 0.04497519132809566),\n",
       "  ('secrétariat', 0.04050761394815068),\n",
       "  ('cahierscitoyens', 0.03970409999215549),\n",
       "  ('granddebat', 0.03701395389637813),\n",
       "  ('joindre', 0.036046542498566314),\n",
       "  ('wanadoo', 0.035858591942796725),\n",
       "  ('pièce', 0.03494212766448408),\n",
       "  ('ko', 0.03341357289229568),\n",
       "  ('pdf', 0.031101326585546128),\n",
       "  ('mairie', 0.028999668401819077)],\n",
       " 68: [('monsieur', 0.013575498370780521),\n",
       "  ('prier', 0.013430483478119176),\n",
       "  ('préfet', 0.011190774645717463),\n",
       "  ('boulevard', 0.010750025986535041),\n",
       "  ('réception', 0.010122022569225826),\n",
       "  ('fr', 0.009890465887433954),\n",
       "  ('février', 0.00954297795246124),\n",
       "  ('cedex', 0.00927880695158768),\n",
       "  ('fax', 0.009221318306953994),\n",
       "  ('joint', 0.009193006388777515)],\n",
       " 69: [('consultation', 0.023389900958231867),\n",
       "  ('thématique', 0.012271058466389421),\n",
       "  ('prononcer', 0.010883582053030912),\n",
       "  ('inviter', 0.010716028812860845),\n",
       "  ('issue', 0.010061812391530544),\n",
       "  ('lancer', 0.008782298487261902),\n",
       "  ('remarque', 0.007956481208173412),\n",
       "  ('thème', 0.0076658309396740185),\n",
       "  ('autour', 0.007012586562680484),\n",
       "  ('commentaire', 0.006956695771720172)],\n",
       " 70: [('février', 0.17278518318268582),\n",
       "  ('registre', 0.13455920038434474),\n",
       "  ('clôturer', 0.13401296712297847),\n",
       "  ('clore', 0.12873204431590973),\n",
       "  ('mercredi', 0.07406413533372665),\n",
       "  ('maire', 0.05257816276885913),\n",
       "  ('cloturé', 0.04043515812221135),\n",
       "  ('clôture', 0.0404290484163187),\n",
       "  ('cahier', 0.03934614820250817),\n",
       "  ('12h00', 0.029710788586704336)],\n",
       " 71: [('secrétariat', 0.03180934953193821),\n",
       "  ('medoc', 0.02463933434881811),\n",
       "  ('lesparre', 0.02371922342291639),\n",
       "  ('automatic', 0.0189859005800115),\n",
       "  ('33340', 0.01478280790259056),\n",
       "  ('civilité', 0.01295479109164895),\n",
       "  ('envoyer', 0.012598263930490931),\n",
       "  ('envoyé', 0.011758288151292031),\n",
       "  ('message', 0.00855039498205079),\n",
       "  ('secretariat', 0.00824798345128356)],\n",
       " 72: [('migratoire', 0.06649444380736663),\n",
       "  ('immigration', 0.04074157959346969),\n",
       "  ('définir', 0.03706494437844107),\n",
       "  ('durer', 0.03363135012470841),\n",
       "  ('critère', 0.03165253801120328),\n",
       "  ('contrepartie', 0.02927959217164843),\n",
       "  ('défi', 0.02842488444295707),\n",
       "  ('asile', 0.02770506513138125),\n",
       "  ('intégration', 0.027444607443487114),\n",
       "  ('fixer', 0.02431984469960234)],\n",
       " 73: [('laïcité', 0.0495029356018241),\n",
       "  ('réciproque', 0.04215300439343987),\n",
       "  ('intangible', 0.04212999873579547),\n",
       "  ('renforcer', 0.03805412343691674),\n",
       "  ('compréhension', 0.036028162491469784),\n",
       "  ('religion', 0.034938997689575174),\n",
       "  ('engagement', 0.03297990340333022),\n",
       "  ('application', 0.024492362856352985),\n",
       "  ('garantir', 0.02428296383713277),\n",
       "  ('hui', 0.0206108278395674)],\n",
       " 74: [('thématique', 0.04428923767656336),\n",
       "  ('facultatif', 0.03824707632859956),\n",
       "  ('solution', 0.026418400366086812),\n",
       "  ('collecte', 0.024376399812657948),\n",
       "  ('exprimer', 0.015227382531049133),\n",
       "  ('habitant', 0.014306635644919805),\n",
       "  ('doléance', 0.012791450625399745),\n",
       "  ('date', 0.012197007309456413),\n",
       "  ('doleance', 0.012035327172948987),\n",
       "  ('nom', 0.011991831059336803)],\n",
       " 75: [('registre', 0.14524380190369718),\n",
       "  ('parapher', 0.11712592965296079),\n",
       "  ('clôturer', 0.08775687847085364),\n",
       "  ('présent', 0.0854744315925293),\n",
       "  ('contenir', 0.07966258314296289),\n",
       "  ('février', 0.07739019641672203),\n",
       "  ('page', 0.07668874683702721),\n",
       "  ('soussigner', 0.06555516186787433),\n",
       "  ('maire', 0.05822561669486039),\n",
       "  ('feuillet', 0.05537133221142085)],\n",
       " 76: [('légalisation', 0.03203618952760313),\n",
       "  ('mourir', 0.031067930435202264),\n",
       "  ('euthanasie', 0.03095917883460758),\n",
       "  ('ifop', 0.025944790124935023),\n",
       "  ('létal', 0.025230903034457085),\n",
       "  ('actif', 0.0236501603855),\n",
       "  ('sondage', 0.02321731307321999),\n",
       "  ('décéder', 0.022608740769007898),\n",
       "  ('intégrer', 0.016856072724618556),\n",
       "  ('contraception', 0.016574442147630195)],\n",
       " 77: [('cahuzac', 0.058772818351110354),\n",
       "  ('dividende', 0.057799706115555724),\n",
       "  ('littéralement', 0.057498596816835494),\n",
       "  ('poumon', 0.056485839031423984),\n",
       "  ('investissant', 0.05411726304633491),\n",
       "  ('confiscatoire', 0.05253632807843525),\n",
       "  ('étouffer', 0.051206393653390414),\n",
       "  ('notr', 0.04949038969871322),\n",
       "  ('soumettre', 0.04897481407346002),\n",
       "  ('faite', 0.04850024076275941)],\n",
       " 78: [('sénateur', 0.008479377039621639),\n",
       "  ('député', 0.007533597977724743),\n",
       "  ('privilège', 0.007153442976272948),\n",
       "  ('ministre', 0.00502004317348773),\n",
       "  ('abolition', 0.0046438374126992485),\n",
       "  ('ancien', 0.0045265190058272),\n",
       "  ('président', 0.004487682983408638),\n",
       "  ('république', 0.004097086826458875),\n",
       "  ('assemblée', 0.003422513323858883),\n",
       "  ('nombre', 0.0033853055554603764)],\n",
       " 79: [('tribunal', 0.019614321105090288),\n",
       "  ('justice', 0.011664076894364267),\n",
       "  ('avocat', 0.010074886206200197),\n",
       "  ('justiciable', 0.008610286098172295),\n",
       "  ('juge', 0.008211850671881947),\n",
       "  ('jugement', 0.007267388706136621),\n",
       "  ('judiciaire', 0.006687283999563664),\n",
       "  ('magistrat', 0.005980885324801269),\n",
       "  ('procédure', 0.005317556201804609),\n",
       "  ('audience', 0.004589250164153511)],\n",
       " 80: [('musique', 0.05072769047590375),\n",
       "  ('danse', 0.007784805723493737),\n",
       "  ('musicien', 0.0076758103530656496),\n",
       "  ('conservatoire', 0.006566647983024666),\n",
       "  ('tgap', 0.006358938294338791),\n",
       "  ('violon', 0.006097857577041855),\n",
       "  ('musical', 0.005845464811350039),\n",
       "  ('théâtre', 0.005765722852876432),\n",
       "  ('salle', 0.004701595439063245),\n",
       "  ('redevance', 0.0046617492482507955)],\n",
       " 81: [('service', 0.025039112618345436),\n",
       "  ('maintient', 0.02199931093425522),\n",
       "  ('proximité', 0.018461731394348545),\n",
       "  ('rural', 0.016335193337686685),\n",
       "  ('sarcelle', 0.015160956486707079),\n",
       "  ('maintien', 0.014964759324219923),\n",
       "  ('public', 0.013951649405691604),\n",
       "  ('passeport', 0.01394949364753997),\n",
       "  ('identité', 0.013725769866791847),\n",
       "  ('lisarre', 0.012632477327534966)],\n",
       " 82: [('cahier', 0.0879232681622435),\n",
       "  ('débat', 0.06826413326667265),\n",
       "  ('national', 0.04742441188765699),\n",
       "  ('grand', 0.038837634575943726),\n",
       "  ('citoyen', 0.03468248708066019),\n",
       "  ('rimons', 0.031305321344174075),\n",
       "  ('33353', 0.031305321344174075),\n",
       "  ('83560', 0.030328031871709214),\n",
       "  ('84400', 0.030328031871709214),\n",
       "  ('60510', 0.02757345357905631)],\n",
       " 83: [('illustre', 0.01599307498302224),\n",
       "  ('pacifiste', 0.015660788078029758),\n",
       "  ('exaction', 0.015546771306775346),\n",
       "  ('communiquera', 0.015228764766728136),\n",
       "  ('crise', 0.014093169773493437),\n",
       "  ('recréer', 0.012942367304443004),\n",
       "  ('malaise', 0.01240482361520653),\n",
       "  ('constructif', 0.011836546999977136),\n",
       "  ('invite', 0.011042408617265501),\n",
       "  ('questionnaire', 0.010224310696530353)],\n",
       " 84: [('marseille', 0.10817043752148905),\n",
       "  ('mdegert', 0.04581986925356442),\n",
       "  ('submission', 0.0411582158538509),\n",
       "  ('civilité', 0.037832383543612715),\n",
       "  ('exposer', 0.026867203556122366),\n",
       "  ('user', 0.026417581969718416),\n",
       "  ('secteur', 0.02548599419315661),\n",
       "  ('fr', 0.022573805988318058),\n",
       "  ('10', 0.02182287091401573),\n",
       "  ('35', 0.019642877172297426)],\n",
       " 85: [('libre', 0.01583365080401756),\n",
       "  ('expression', 0.014106054479783145),\n",
       "  ('faut', 0.012951699716823872),\n",
       "  ('défi', 0.012502416233486439),\n",
       "  ('quell', 0.0120615923203735),\n",
       "  ('scientifiquement', 0.01118655922677278),\n",
       "  ('concret', 0.010965524834424365),\n",
       "  ('échelon', 0.010262056437304866),\n",
       "  ('garantir', 0.010174896916983244),\n",
       "  ('collectivite', 0.01004444001669722)],\n",
       " 86: [('amif', 0.16201175685446487),\n",
       "  ('asso', 0.09930869311060687),\n",
       "  ('secretariat', 0.08484142624513692),\n",
       "  ('attention', 0.032122395249365006),\n",
       "  ('traiter', 0.031241673209948247),\n",
       "  ('association', 0.02724630681437883),\n",
       "  ('contribution', 0.0267048937171284),\n",
       "  ('date', 0.02605074575453882),\n",
       "  ('fr', 0.024245814095399026),\n",
       "  ('ordre', 0.023722377695611512)],\n",
       " 87: [('discrimination', 0.08851681126396412),\n",
       "  ('incivilité', 0.07902876474316012),\n",
       "  ('tolérant', 0.06012904554977072),\n",
       "  ('témoin', 0.056770773196787014),\n",
       "  ('répandre', 0.055635062094438206),\n",
       "  ('reculer', 0.048191676721710784),\n",
       "  ('solidaire', 0.030426049562225083),\n",
       "  ('construire', 0.024400486906646104),\n",
       "  ('victime', 0.02280667595127862),\n",
       "  ('lutter', 0.019651057787184147)],\n",
       " 88: [('erreur', 0.0641828681517325),\n",
       "  ('oui', 0.05374779482690415),\n",
       "  ('foi', 0.038328214553753855),\n",
       "  ('affirmer', 0.03228534673910251),\n",
       "  ('vou', 0.03149473909610932),\n",
       "  ('identifier', 0.029287700471933742),\n",
       "  ('complexe', 0.028847948661892803),\n",
       "  ('autonomie', 0.027426641857129164),\n",
       "  ('défi', 0.026106434252878962),\n",
       "  ('juger', 0.025914287591234222)],\n",
       " 89: [('hyeres', 0.08364292979308816),\n",
       "  ('soumission', 0.03607364945078487),\n",
       "  ('print', 0.034670923713681266),\n",
       "  ('soumettre', 0.03240186577760322),\n",
       "  ('dll', 0.03191044196047803),\n",
       "  ('number', 0.03144624087516164),\n",
       "  ('yes', 0.030640694299063558),\n",
       "  ('http', 0.028872311282996457),\n",
       "  ('198', 0.026089514962860626),\n",
       "  ('168', 0.026042123765829848)],\n",
       " 90: [('transmettre', 0.08670145173736338),\n",
       "  ('préfecture', 0.08347199793127807),\n",
       "  ('référent', 0.0825833980662298),\n",
       "  ('courrier', 0.06390251218309943),\n",
       "  ('observation', 0.0633683976145093),\n",
       "  ('indiquer', 0.059405970060996405),\n",
       "  ('transmission', 0.057588524343859894),\n",
       "  ('page', 0.05602555739075829),\n",
       "  ('départemental', 0.038338282647825954),\n",
       "  ('mail', 0.038247942148050953)],\n",
       " 91: [('domaine', 0.03433553686869359),\n",
       "  ('dépense', 0.03295114342990707),\n",
       "  ('réponse', 0.03198098676260512),\n",
       "  ('prioritaire', 0.029991942624721903),\n",
       "  ('baisser', 0.026471044337946077),\n",
       "  ('priorité', 0.023149700743139823),\n",
       "  ('04', 0.022594855680970298),\n",
       "  ('territorial', 0.02008989501354407),\n",
       "  ('protection', 0.019080955881173912),\n",
       "  ('attribution', 0.017697180940132534)],\n",
       " 92: [('impatiemment', 0.026777309717331912),\n",
       "  ('suggestion', 0.021849659355961216),\n",
       "  ('replacer', 0.021141076347113163),\n",
       "  ('parole', 0.01994074836562358),\n",
       "  ('identification', 0.019855538699474314),\n",
       "  ('entamer', 0.01865448485982849),\n",
       "  ('décisionnel', 0.018183350089458664),\n",
       "  ('écoute', 0.01783734714381293),\n",
       "  ('attentif', 0.01721868725625789),\n",
       "  ('anonyme', 0.016203674437046536)],\n",
       " 93: [('neuilly', 0.055496882864382716),\n",
       "  ('neuillyplaisance', 0.05383606714760689),\n",
       "  ('pjulliard', 0.05115808127215233),\n",
       "  ('plaisance', 0.04105517165546531),\n",
       "  ('secrétariat', 0.030703592933372992),\n",
       "  ('thème', 0.027455260494710417),\n",
       "  ('prénom', 0.027300369431479225),\n",
       "  ('contact', 0.02181228976821969),\n",
       "  ('com', 0.021734145804740576),\n",
       "  ('adresse', 0.019967046186901122)],\n",
       " 94: [('rajout', 0.0686370264168372),\n",
       "  ('rayer', 0.0629124103000291),\n",
       "  ('clôture', 0.05450558534982642),\n",
       "  ('comporte', 0.053370668136781846),\n",
       "  ('cachet', 0.05336863380703872),\n",
       "  ('clore', 0.051631619774389834),\n",
       "  ('contestation', 0.05048272187272626),\n",
       "  ('page', 0.04670918026713177),\n",
       "  ('vierge', 0.034653619648788804),\n",
       "  ('comptabiliser', 0.03269647577887467)],\n",
       " 95: [('cahier', 0.11853351052771549),\n",
       "  ('débat', 0.09069968593958135),\n",
       "  ('national', 0.06393508957587032),\n",
       "  ('grand', 0.04997890181308718),\n",
       "  ('citoyen', 0.046655187203727584),\n",
       "  ('pezerit', 0.017873042389745214),\n",
       "  ('lagruere', 0.017873042389745214),\n",
       "  ('trelevern', 0.01667180499985767),\n",
       "  ('baigneu', 0.01667180499985767),\n",
       "  ('villereal', 0.01667180499985767)],\n",
       " 96: [('formulaire', 0.10805906112896982),\n",
       "  ('facultatif', 0.051907854093692675),\n",
       "  ('grenoble', 0.05107583088122429),\n",
       "  ('solution', 0.04736455775385281),\n",
       "  ('sce', 0.04303927700112813),\n",
       "  ('reply', 0.03872182405613675),\n",
       "  ('no', 0.03788123960221912),\n",
       "  ('coordination', 0.03536860619481297),\n",
       "  ('renseigner', 0.03203801476806575),\n",
       "  ('thématique', 0.028514373418912824)],\n",
       " 97: [('hyeres', 0.06651319775749553),\n",
       "  ('soumission', 0.035751544425448485),\n",
       "  ('soumettre', 0.03184896878302495),\n",
       "  ('secretariat', 0.025099741015887772),\n",
       "  ('utilisateur', 0.02333479593790997),\n",
       "  ('anonyme', 0.020422479721532622),\n",
       "  ('com', 0.020232574809281947),\n",
       "  ('cabinet', 0.019323445159260596),\n",
       "  ('formulaire', 0.01624570423665101),\n",
       "  ('submission', 0.014604321976486968)],\n",
       " 98: [('victime', 0.05890100438155725),\n",
       "  ('relaxe', 0.044647815378555986),\n",
       "  ('appel', 0.04002700550830988),\n",
       "  ('acquittement', 0.03710437049443202),\n",
       "  ('pénal', 0.03257225052132725),\n",
       "  ('détenu', 0.024981579333140238),\n",
       "  ('peine', 0.023567060515122952),\n",
       "  ('civil', 0.020456337822132572),\n",
       "  ('conditionnel', 0.02044159220797857),\n",
       "  ('libération', 0.018753276825923856)],\n",
       " 99: [('déclenchement', 0.04699194968240279),\n",
       "  ('applicable', 0.03437932487958883),\n",
       "  ('oui', 0.02868678385721197),\n",
       "  ('consulter', 0.026952411474629574),\n",
       "  ('initiative', 0.026016930718205957),\n",
       "  ('transformer', 0.02406218146666568),\n",
       "  ('associer', 0.023073441769568763),\n",
       "  ('sort', 0.022932996556324043),\n",
       "  ('tirer', 0.02233556685415096),\n",
       "  ('jouer', 0.021504909894123538)],\n",
       " 100: [('évoluer', 0.11615111588337003),\n",
       "  ('renoncer', 0.08081554733424114),\n",
       "  ('positif', 0.07390535428742129),\n",
       "  ('complexe', 0.07325608155943371),\n",
       "  ('évolution', 0.059132765984954316),\n",
       "  ('vou', 0.05123546073051278),\n",
       "  ('démarche', 0.04276861113094669),\n",
       "  ('cours', 0.04219108797777785),\n",
       "  ('raison', 0.04069599568911083),\n",
       "  ('manière', 0.03839311740255215)],\n",
       " 101: [('monsieur', 0.005081283617044398),\n",
       "  ('voter', 0.004674292629848654),\n",
       "  ('eurosuro', 0.004405752385622473),\n",
       "  ('curo', 0.003957365414126675),\n",
       "  ('courrier', 0.0031505101993248223),\n",
       "  ('président', 0.003122848945438531),\n",
       "  ('lettre', 0.0029107923417501886),\n",
       "  ('lecteur', 0.0029104202137673913),\n",
       "  ('voir', 0.0028465679662246137),\n",
       "  ('aller', 0.002647457478982784)],\n",
       " 102: [('immigration', 0.06370924755269944),\n",
       "  ('migrant', 0.024503337702115324),\n",
       "  ('immigrant', 0.014216591454320743),\n",
       "  ('quota', 0.013233209272684726),\n",
       "  ('illégal', 0.011516214077691486),\n",
       "  ('arrêt', 0.010818849357474776),\n",
       "  ('démission', 0.010545294303104793),\n",
       "  ('frontière', 0.009556598807051833),\n",
       "  ('pratiquant', 0.008408038165537462),\n",
       "  ('émigration', 0.008218257705332879)],\n",
       " 103: [('commune', 0.00759931307308582),\n",
       "  ('français', 0.004366337815074384),\n",
       "  ('région', 0.0035986419244520094),\n",
       "  ('communauté', 0.0035606452142847517),\n",
       "  ('métropole', 0.003102675291780969),\n",
       "  ('habitation', 0.0028947845256584678),\n",
       "  ('département', 0.0028746488542000554),\n",
       "  ('projet', 0.002657742831816561),\n",
       "  ('direction', 0.0026527477986964454),\n",
       "  ('directeur', 0.0024739000874807677)],\n",
       " 104: [('aspiration', 0.024770480142554414),\n",
       "  ('envoi', 0.019935229115693474),\n",
       "  ('fondette', 0.019284619538596993),\n",
       "  ('coordonnée', 0.017610665542570552),\n",
       "  ('rapporter', 0.015412784904860364),\n",
       "  ('mars', 0.014353968191153721),\n",
       "  ('consultation', 0.013679314025326678),\n",
       "  ('document', 0.013066326044876965),\n",
       "  ('nom', 0.011991251417136238),\n",
       "  ('attention', 0.009678382198713052)],\n",
       " 105: [('jaune', 0.17937573159815295),\n",
       "  ('gilet', 0.17406653748196166),\n",
       "  ('soutenir', 0.16231886407062057),\n",
       "  ('soutien', 0.05243224792681072),\n",
       "  ('vive', 0.02961174221504324),\n",
       "  ('miassa', 0.026926228352174904),\n",
       "  ('charrihat', 0.026926228352174904),\n",
       "  ('ministan', 0.026926228352174904),\n",
       "  ('ikllisibl', 0.026926228352174904),\n",
       "  ('havard', 0.026926228352174904)],\n",
       " 106: [('veuve', 0.22192789794027443),\n",
       "  ('part', 0.1736200336672745),\n",
       "  ('demi', 0.14979362214659364),\n",
       "  ('veuf', 0.14856355965018112),\n",
       "  ('remettre', 0.029802296414212257),\n",
       "  ('rétablir', 0.020070768904358497),\n",
       "  ('genopi', 0.010292161136609768),\n",
       "  ('impôt', 0.010167422525112877),\n",
       "  ('calcul', 0.009955587689381682),\n",
       "  ('perrecy', 0.009600430623670535)],\n",
       " 107: [('patron', 0.014347043251789428),\n",
       "  ('entrepreneur', 0.013976193115775271),\n",
       "  ('sarl', 0.01302299914494795),\n",
       "  ('risque', 0.01270834208519469),\n",
       "  ('gérant', 0.01249595302441595),\n",
       "  ('dividende', 0.012416120352114847),\n",
       "  ('développeur', 0.011660663993072399),\n",
       "  ('vitrier', 0.011559857508320647),\n",
       "  ('paysagiste', 0.01145960005737419),\n",
       "  ('courroie', 0.01139584406855266)],\n",
       " 108: [('douloureuser', 0.018203973669534995),\n",
       "  ('biodiversité', 0.016653511602916518),\n",
       "  ('transition', 0.016112795765347333),\n",
       "  ('impérieux', 0.016105689168721037),\n",
       "  ('conteste', 0.015550462292225052),\n",
       "  ('tarder', 0.014366424429511906),\n",
       "  ('vieux', 0.013243009144479203),\n",
       "  ('concret', 0.013119762488730025),\n",
       "  ('massivement', 0.012121908361454325),\n",
       "  ('échelon', 0.0117937998890089)],\n",
       " 109: [('climatique', 0.01963618460803238),\n",
       "  ('érosion', 0.01483174757955303),\n",
       "  ('crue', 0.014253296455324846),\n",
       "  ('littoral', 0.013705661618451813),\n",
       "  ('alternatif', 0.01365138682109112),\n",
       "  ('environnement', 0.013503353347384468),\n",
       "  ('dérèglement', 0.013487444402501114),\n",
       "  ('oui', 0.012572888338877635),\n",
       "  ('biodiversité', 0.012102718899148539),\n",
       "  ('quotidien', 0.01190098361070259)],\n",
       " 110: [('plomelin', 0.011790777175752266),\n",
       "  ('finistère', 0.011065521518953092),\n",
       "  ('illustre', 0.009066108306678021),\n",
       "  ('questionnaire', 0.006814200846859226),\n",
       "  ('invite', 0.00665746167632864),\n",
       "  ('fiche', 0.006655477751500083),\n",
       "  ('remonter', 0.005810068133682313),\n",
       "  ('revendication', 0.00507375894803347),\n",
       "  ('remarque', 0.0049334273473972175),\n",
       "  ('prier', 0.004643608581119815)],\n",
       " 111: [('injurieux', 0.020271830834176136),\n",
       "  ('expédier', 0.019422140024720418),\n",
       "  ('discriminatoire', 0.017683720388215248),\n",
       "  ('contribution', 0.017581430948594906),\n",
       "  ('formulaire', 0.015786716880089948),\n",
       "  ('vœu', 0.015048691923077189),\n",
       "  ('thématique', 0.012143940374269024),\n",
       "  ('libre', 0.01211640905108506),\n",
       "  ('violent', 0.011592674064668101),\n",
       "  ('lisible', 0.011448581193323487)],\n",
       " 112: [('csg', 0.01898350870664407),\n",
       "  ('indexation', 0.018680104845716708),\n",
       "  ('augmentation', 0.01725135838338791),\n",
       "  ('revalorisation', 0.016027325154106632),\n",
       "  ('suppression', 0.014275843058001616),\n",
       "  ('retraite', 0.01372131241889873),\n",
       "  ('pension', 0.013296284933200621),\n",
       "  ('annulation', 0.012641428860766577),\n",
       "  ('retraité', 0.012476872965250112),\n",
       "  ('rétablissement', 0.012281712760655133)],\n",
       " 113: [('sénateur', 0.007487141316272713),\n",
       "  ('député', 0.007356501501824078),\n",
       "  ('privilège', 0.006884160958281726),\n",
       "  ('x95', 0.0062377399805271455),\n",
       "  ('ancien', 0.004653414631122176),\n",
       "  ('supprimer', 0.003983816558062445),\n",
       "  ('cumul', 0.003974355096532264),\n",
       "  ('ministre', 0.003888254509494294),\n",
       "  ('diminution', 0.0038322812544219873),\n",
       "  ('mandat', 0.0037798516914846272)],\n",
       " 114: [('patron', 0.027228905319269126),\n",
       "  ('collectif', 0.024006221474141828),\n",
       "  ('entrepreneur', 0.01599262405697519),\n",
       "  ('courroie', 0.015472264052491918),\n",
       "  ('développeur', 0.015321109359739989),\n",
       "  ('vitrier', 0.015188658310814292),\n",
       "  ('peintre', 0.014976124073924036),\n",
       "  ('digital', 0.014942986399625206),\n",
       "  ('restaurateur', 0.014846390415200358),\n",
       "  ('tpe', 0.014814643519965275)],\n",
       " 115: [('animal', 0.0715310896777899),\n",
       "  ('élevage', 0.018595636750533683),\n",
       "  ('abattoir', 0.014803975146877113),\n",
       "  ('chasse', 0.01303426590263507),\n",
       "  ('cirque', 0.011958309780187974),\n",
       "  ('maltraitance', 0.010964584149364227),\n",
       "  ('corrida', 0.01062960869350042),\n",
       "  ('abattage', 0.009097574089753797),\n",
       "  ('chien', 0.00843063447351761),\n",
       "  ('fourrure', 0.008098188912728569)],\n",
       " 116: [('bnri', 0.0771827715299574),\n",
       "  ('retard', 0.0657473909661031),\n",
       "  ('calendrier', 0.058825021301024676),\n",
       "  ('réclamation', 0.05622259894468077),\n",
       "  ('triage', 0.04166265204697252),\n",
       "  ('hiérarchiser', 0.037323461692754946),\n",
       "  ('soyon', 0.03699485164090498),\n",
       "  ('équipe', 0.035738914529771834),\n",
       "  ('vigilance', 0.03481656126821897),\n",
       "  ('nouvelle', 0.03380100018619994)],\n",
       " 117: [('arranger', 0.04379665435855156),\n",
       "  ('calme', 0.0045430152985146905),\n",
       "  ('aller', 0.004475103586671267),\n",
       "  ('chose', 0.003965610115854976),\n",
       "  ('tension', 0.003941339348105393),\n",
       "  ('haineux', 0.003639974296674707),\n",
       "  ('gagnerai', 0.003445674084756739),\n",
       "  ('manifestant', 0.003158043004245795),\n",
       "  ('vouloir', 0.002992522266329212),\n",
       "  ('femme', 0.002843769926377988)],\n",
       " 118: [('inflation', 0.1290509677217292),\n",
       "  ('indexation', 0.11126056651732368),\n",
       "  ('indexer', 0.03782981109239091),\n",
       "  ('retraite', 0.023366587913359892),\n",
       "  ('csg', 0.021134396212146897),\n",
       "  ('taux', 0.01972795218193363),\n",
       "  ('retraité', 0.019248498218782047),\n",
       "  ('rétablissement', 0.018870707709206517),\n",
       "  ('isf', 0.017818858961024264),\n",
       "  ('revalorisation', 0.015950800492370066)],\n",
       " 119: [('document', 0.0804236737932576),\n",
       "  ('transmettre', 0.07189656001113565),\n",
       "  ('préfet', 0.07104086278911739),\n",
       "  ('proposition', 0.04539799461364055),\n",
       "  ('parlementaire', 0.03480437578720421),\n",
       "  ('cahier', 0.03237271528115295),\n",
       "  ('rural', 0.030048311435831657),\n",
       "  ('association', 0.025863901998978863),\n",
       "  ('maire', 0.022409242516788566),\n",
       "  ('doléance', 0.021925000809260357)],\n",
       " 120: [('cahuzac', 0.11922807237135476),\n",
       "  ('confiscatoire', 0.11600811999947781),\n",
       "  ('sarl', 0.09774935279074676),\n",
       "  ('gérant', 0.09641736751366788),\n",
       "  ('équipe', 0.08640834037929365),\n",
       "  ('majoritaire', 0.08069602580392479),\n",
       "  ('doélance', 0.076394986439369),\n",
       "  ('désabonnement', 0.0739630226018682),\n",
       "  ('01', 0.07319587739840429),\n",
       "  ('compter', 0.06399256492850232)],\n",
       " 121: [('socialiser', 0.013044120934972701),\n",
       "  ('industrie', 0.012609833912575516),\n",
       "  ('macdo', 0.01260682785253974),\n",
       "  ('rembourser', 0.01239451650592423),\n",
       "  ('artisan', 0.01204897217471482),\n",
       "  ('commerce', 0.011908776246239674),\n",
       "  ('davantage', 0.011282597935246028),\n",
       "  ('demeurer', 0.011054138705516007),\n",
       "  ('centre', 0.010989217129660982),\n",
       "  ('protéger', 0.010977156434540516)],\n",
       " 122: [('devillele', 0.07225533811638413),\n",
       "  ('dignelesbains', 0.07225533811638413),\n",
       "  ('cyrille', 0.0717891086181199),\n",
       "  ('cabinet', 0.06251547524409262),\n",
       "  ('mairi', 0.050010125417337514),\n",
       "  ('envoyé', 0.02970455424732738),\n",
       "  ('bain', 0.027070313662153383),\n",
       "  ('décembre', 0.01765763812635329),\n",
       "  ('attention', 0.017151336017873546),\n",
       "  ('ville', 0.01575066892169563)],\n",
       " 123: [('alternatif', 0.046353748751651366),\n",
       "  ('chauffage', 0.035055386978641245),\n",
       "  ('comportement', 0.026677557643823666),\n",
       "  ('solution', 0.02096245777050872),\n",
       "  ('convaincre', 0.018987277479438354),\n",
       "  ('modifier', 0.01806410552287532),\n",
       "  ('inciter', 0.017908485006104154),\n",
       "  ('vélo', 0.017379666686014716),\n",
       "  ('mobilité', 0.016894853991146205),\n",
       "  ('changer', 0.0160068565106542)],\n",
       " 124: [('compétitif', 0.04049513379652196),\n",
       "  ('concurrent', 0.03953839073899396),\n",
       "  ('réponse', 0.033583113577340784),\n",
       "  ('écologique', 0.03121901595948675),\n",
       "  ('transition', 0.030593570235694943),\n",
       "  ('biodiversité', 0.030229513637194488),\n",
       "  ('climat', 0.03012505693363332),\n",
       "  ('dégrader', 0.029344753833823345),\n",
       "  ('environnement', 0.02770397306726136),\n",
       "  ('agricole', 0.022821816761421934)],\n",
       " 125: [('médecin', 0.08198607092101731),\n",
       "  ('patient', 0.03595067767722878),\n",
       "  ('médecine', 0.027021032453205533),\n",
       "  ('médical', 0.024967539921353622),\n",
       "  ('spécialiste', 0.023492177898966255),\n",
       "  ('généraliste', 0.022243039972291743),\n",
       "  ('rendez', 0.018185016051848604),\n",
       "  ('vous', 0.01759246786613881),\n",
       "  ('prétexter', 0.015000390432112626),\n",
       "  ('traitant', 0.014666659089791785)],\n",
       " 126: [('pourquoi', 0.006130367487925199),\n",
       "  ('français', 0.005094083127820302),\n",
       "  ('fiscal', 0.004824258304871893),\n",
       "  ('impôt', 0.004320553144422335),\n",
       "  ('payer', 0.0031593226184843345),\n",
       "  ('revenu', 0.0031575399961799944),\n",
       "  ('équité', 0.0030695636070589274),\n",
       "  ('aine', 0.003004029182531108),\n",
       "  ('fiscalité', 0.0028731214200876606),\n",
       "  ('freinage', 0.002492069988404763)],\n",
       " 127: [('compétitif', 0.024347039298304438),\n",
       "  ('réponse', 0.024319480501578675),\n",
       "  ('concurrent', 0.023186246737574714),\n",
       "  ('transition', 0.019737078601841377),\n",
       "  ('biodiversité', 0.019574442223852222),\n",
       "  ('écologique', 0.01939462024298439),\n",
       "  ('climat', 0.01790159260046153),\n",
       "  ('agricole', 0.01534612975741021),\n",
       "  ('financement', 0.014077664849654396),\n",
       "  ('environnement', 0.013460990966051928)],\n",
       " 128: [('indexation', 0.11811528336988189),\n",
       "  ('coût', 0.08082247473878218),\n",
       "  ('indexer', 0.0640420218493067),\n",
       "  ('vie', 0.03757183915782718),\n",
       "  ('retraite', 0.030614956613488217),\n",
       "  ('indexe', 0.020502042798019985),\n",
       "  ('fonctionnaireder', 0.019794137157165045),\n",
       "  ('indexâte', 0.019794137157165045),\n",
       "  ('demaret', 0.018463784040149474),\n",
       "  ('lezou', 0.01768560380480212)],\n",
       " 129: [('consulat', 0.026509795860845654),\n",
       "  ('ignominie', 0.02416649766567898),\n",
       "  ('attestation', 0.023205625806504808),\n",
       "  ('certificat', 0.021582507217402586),\n",
       "  ('cotiser', 0.01993124231651003),\n",
       "  ('souche', 0.01854988335925567),\n",
       "  ('désendettement', 0.018203430887474083),\n",
       "  ('étranger', 0.016375808541567092),\n",
       "  ('registre', 0.016176854583286035),\n",
       "  ('arriver', 0.015963223085834182)],\n",
       " 130: [('chauffage', 0.055619134076736874),\n",
       "  ('comportement', 0.03903283142596789),\n",
       "  ('environnement', 0.03733319645607133),\n",
       "  ('inciter', 0.037137294774605124),\n",
       "  ('changer', 0.0346946231430987),\n",
       "  ('oui', 0.033641291046927035),\n",
       "  ('mode', 0.033175265052217774),\n",
       "  ('protéger', 0.030044788863854692),\n",
       "  ('supportable', 0.029539331042872104),\n",
       "  ('alternatif', 0.02900887181727573)],\n",
       " 131: [('handicapé', 0.111082759634548),\n",
       "  ('handicap', 0.08624850336270848),\n",
       "  ('handicaper', 0.04086645168946428),\n",
       "  ('adulte', 0.029166979557215415),\n",
       "  ('handicape', 0.026554836767270495),\n",
       "  ('guérisse', 0.017996483559183405),\n",
       "  ('conjoint', 0.015589558574219304),\n",
       "  ('allocation', 0.015488722778790705),\n",
       "  ('bipolaire', 0.014609498609508068),\n",
       "  ('situation', 0.014367825249798166)],\n",
       " 132: [('français', 0.002905574192323912),\n",
       "  ('normal', 0.0028266861857644938),\n",
       "  ('payer', 0.0025397998589289624),\n",
       "  ('zouzou', 0.002502045505693855),\n",
       "  ('poser', 0.0023604776925007067),\n",
       "  ('argent', 0.0023029650221230305),\n",
       "  ('vrai', 0.0022368863687175482),\n",
       "  ('essence', 0.002069387310701639),\n",
       "  ('pays', 0.0020602491627337476),\n",
       "  ('question', 0.0020474066707400116)],\n",
       " 133: [('satisfaction', 0.1347366840135481),\n",
       "  ('référent', 0.09314974361382825),\n",
       "  ('rencontrer', 0.08123446111104633),\n",
       "  ('recruter', 0.06643051417085628),\n",
       "  ('cherche', 0.0660499565145194),\n",
       "  ('difficulté', 0.057690514843341686),\n",
       "  ('administration', 0.0527914196005485),\n",
       "  ('référant', 0.04643450773443915),\n",
       "  ('handicap', 0.04321392902430018),\n",
       "  ('mentionner', 0.0391945895476403)],\n",
       " 134: [('alternatif', 0.07028256188336666),\n",
       "  ('mobilité', 0.03860289409389721),\n",
       "  ('déplacement', 0.03509411124890659),\n",
       "  ('recourir', 0.034833977086240635),\n",
       "  ('essence', 0.034236741363759524),\n",
       "  ('vélo', 0.03353869408172713),\n",
       "  ('covoiturage', 0.032929542063880914),\n",
       "  ('utilisateur', 0.03044436364972328),\n",
       "  ('partage', 0.026088033766081438),\n",
       "  ('solution', 0.026042267484669267)],\n",
       " 135: [('monsieur', 0.009012640046041985),\n",
       "  ('lagor', 0.008218586898692867),\n",
       "  ('maire', 0.00648326007055381),\n",
       "  ('usine', 0.005886946239549409),\n",
       "  ('commune', 0.00581347293449414),\n",
       "  ('lacr', 0.005186479584386819),\n",
       "  ('officiellement', 0.004947874800560292),\n",
       "  ('madame', 0.004464167167107384),\n",
       "  ('habitant', 0.004342438604171824),\n",
       "  ('humilié', 0.004008311100657282)],\n",
       " 136: [('marché', 0.006543340065125358),\n",
       "  ('halle', 0.005654187100740343),\n",
       "  ('guichet', 0.004406546259349544),\n",
       "  ('concessionnaire', 0.004297818443247239),\n",
       "  ('service', 0.003367238090248911),\n",
       "  ('sauvette', 0.003309296455217926),\n",
       "  ('msap', 0.003307732251993515),\n",
       "  ('professionnel', 0.0030438236794260356),\n",
       "  ('déballage', 0.00298449295757589),\n",
       "  ('activité', 0.002955494762962617)],\n",
       " 137: [('achat', 0.004573061679782087),\n",
       "  ('usurpation', 0.0035166116314171002),\n",
       "  ('prime', 0.003353002097806762),\n",
       "  ('salaire', 0.003073312060857672),\n",
       "  ('échec', 0.0030701969819194996),\n",
       "  ('étiquetage', 0.0029322080950518717),\n",
       "  ('augmenter', 0.0027494913137189906),\n",
       "  ('salarié', 0.0027021609703748234),\n",
       "  ('travailler', 0.0024047804750838395),\n",
       "  ('smic', 0.002374055938851127)],\n",
       " 138: [('passage', 0.003573331861629342),\n",
       "  ('vraiment', 0.003260958032918531),\n",
       "  ('extrêmement', 0.0030936621239650297),\n",
       "  ('rompoint', 0.0030742339734495736),\n",
       "  ('entendre', 0.0030406256800798678),\n",
       "  ('bel', 0.0029079890536020747),\n",
       "  ('voir', 0.0028578227641854357),\n",
       "  ('adverse', 0.0028412970547219106),\n",
       "  ('injustice', 0.002808623264567165),\n",
       "  ('évaporer', 0.0027361222909027968)],\n",
       " 139: [('cannabis', 0.07591653351048873),\n",
       "  ('canna', 0.022497539171141886),\n",
       "  ('légaliser', 0.01812821097797705),\n",
       "  ('bistrot', 0.01759347743581687),\n",
       "  ('légalisation', 0.015260993180176204),\n",
       "  ('prohibition', 0.01321603066427903),\n",
       "  ('alcool', 0.012372876993161652),\n",
       "  ('tabac', 0.010564531367392414),\n",
       "  ('cbn', 0.009861801941405896),\n",
       "  ('consommateur', 0.009772432922276567)],\n",
       " 140: [('eaux', 0.1075617074610819),\n",
       "  ('amand', 0.0947612813953601),\n",
       "  ('les', 0.08971196008532159),\n",
       "  ('saint', 0.056799325316448164),\n",
       "  ('contact', 0.055044702864035296),\n",
       "  ('espérance', 0.04634224110150674),\n",
       "  ('expéditeur', 0.0349587697551378),\n",
       "  ('zimbra', 0.03166769900458749),\n",
       "  ('févr', 0.02951314016294223),\n",
       "  ('fr', 0.02426215981762236)],\n",
       " 141: [('image', 1.5679911525174544),\n",
       "  ('visible', 0.03977399587568788),\n",
       "  ('', 1e-05),\n",
       "  ('', 1e-05),\n",
       "  ('', 1e-05),\n",
       "  ('', 1e-05),\n",
       "  ('', 1e-05),\n",
       "  ('', 1e-05),\n",
       "  ('', 1e-05),\n",
       "  ('', 1e-05)],\n",
       " 142: [('arrondissement', 0.02904140253128657),\n",
       "  ('dysfonctionnement', 0.027924820523949494),\n",
       "  ('indique', 0.027138921707792404),\n",
       "  ('approfondi', 0.02443057049524065),\n",
       "  ('coordonnée', 0.022695306414029098),\n",
       "  ('analyse', 0.020719669019987116),\n",
       "  ('souhaiter', 0.020053251532939895),\n",
       "  ('laisse', 0.01993228120457444),\n",
       "  ('autour', 0.01882156662615914),\n",
       "  ('postal', 0.01853325760108942)],\n",
       " 143: [('doléance', 0.40806072298121243),\n",
       "  ('doleance', 0.24100555779868035),\n",
       "  ('illlisible', 0.1339317592062726),\n",
       "  ('doleanve', 0.1249302790249075),\n",
       "  ('doelance', 0.08340932253000005),\n",
       "  ('illisible', 0.0485146687684211),\n",
       "  ('phrase', 0.029276021001999244),\n",
       "  ('', 1e-05),\n",
       "  ('', 1e-05),\n",
       "  ('', 1e-05)],\n",
       " 144: [('désigner', 0.010596024075517765),\n",
       "  ('débat', 0.009494850826796769),\n",
       "  ('caserne', 0.008781015281919097),\n",
       "  ('inédit', 0.008120395820619623),\n",
       "  ('impartialité', 0.007796689923129591),\n",
       "  ('préfecture', 0.007183545493103181),\n",
       "  ('préfet', 0.006868907400319368),\n",
       "  ('garant', 0.006661479805381253),\n",
       "  ('assurer', 0.006349325922333224),\n",
       "  ('disposition', 0.006241593041433636)],\n",
       " 145: [('2019', 0.22666351587646022),\n",
       "  ('01', 0.21142999177870375),\n",
       "  ('2018', 0.13378698821264726),\n",
       "  ('12', 0.11146206730212191),\n",
       "  ('08', 0.08710304169093833),\n",
       "  ('07', 0.08477457610777829),\n",
       "  ('06', 0.0625012157238904),\n",
       "  ('09', 0.05946566311191291),\n",
       "  ('03', 0.052818004682073615),\n",
       "  ('04', 0.02297174101701131)],\n",
       " 146: [('saint', 0.025693422450899412),\n",
       "  ('patron', 0.02557553183920908),\n",
       "  ('collectif', 0.01935315301775107),\n",
       "  ('entrepreneur', 0.018146816878774254),\n",
       "  ('sarl', 0.01673838130596609),\n",
       "  ('gérant', 0.016287183019716867),\n",
       "  ('courroie', 0.015342512369459637),\n",
       "  ('risque', 0.014857707890473252),\n",
       "  ('développeur', 0.014608834579094718),\n",
       "  ('paysagiste', 0.014571218184251021)],\n",
       " 147: [('entrepreneur', 0.02014414772537172),\n",
       "  ('dividende', 0.01869361101019353),\n",
       "  ('sarl', 0.018637168848185597),\n",
       "  ('risque', 0.018272516644530355),\n",
       "  ('gérant', 0.018134787017402388),\n",
       "  ('plombier', 0.016063609224187987),\n",
       "  ('développeur', 0.01586142011277668),\n",
       "  ('jardinage', 0.015538656939993028),\n",
       "  ('courroie', 0.01550119876693078),\n",
       "  ('restaurateur', 0.015418217168796005)],\n",
       " 148: [('pohtiqu', 0.004067898808825805),\n",
       "  ('français', 0.003490339720012298),\n",
       "  ('référendum', 0.0034398969290836408),\n",
       "  ('démocratique', 0.003022431434080733),\n",
       "  ('opinion', 0.002879996771668774),\n",
       "  ('assemblée', 0.0026167563971164222),\n",
       "  ('politique', 0.002616728490060289),\n",
       "  ('initiative', 0.002603928203325596),\n",
       "  ('constitution', 0.002573724656078692),\n",
       "  ('constitutionnel', 0.0024555088636656858)],\n",
       " 149: [('patron', 0.030219073669491947),\n",
       "  ('collectif', 0.022649449030309958),\n",
       "  ('entrepreneur', 0.021910463516226057),\n",
       "  ('risque', 0.018331067558457256),\n",
       "  ('développeur', 0.018289936910314334),\n",
       "  ('chauffagiste', 0.018013612070503213),\n",
       "  ('paysagiste', 0.017974564929692606),\n",
       "  ('peintre', 0.01787810256043749),\n",
       "  ('courroie', 0.017874562647327445),\n",
       "  ('vitrier', 0.01787279433107785)],\n",
       " 150: [('expert', 0.004236395870454706),\n",
       "  ('français', 0.004003447223089405),\n",
       "  ('vif', 0.003517765561602594),\n",
       "  ('semence', 0.003430332005427767),\n",
       "  ('prétexte', 0.002953379237172534),\n",
       "  ('élu', 0.0025673526760880538),\n",
       "  ('dialogue', 0.002496992305085544),\n",
       "  ('scrie', 0.0024375095616160844),\n",
       "  ('demander', 0.002312950740742552),\n",
       "  ('phrase', 0.0022848129909073273)],\n",
       " 151: [('survivre', 0.0720515676236531),\n",
       "  ('vivre', 0.06871819881445901),\n",
       "  ('pauvre', 0.04436572869591499),\n",
       "  ('bannir', 0.03793295959217612),\n",
       "  ('pauvreté', 0.03453294208951227),\n",
       "  ('caron', 0.028226653917238227),\n",
       "  ('heureux', 0.02700691811898051),\n",
       "  ('demain', 0.024894440328952713),\n",
       "  ('continuez', 0.020802771426317198),\n",
       "  ('vivvre', 0.019458010299779224)],\n",
       " 152: [('rajout', 0.10724762358897828),\n",
       "  ('rayer', 0.09582246831125217),\n",
       "  ('cachet', 0.08518948210834316),\n",
       "  ('clôture', 0.08424824811290069),\n",
       "  ('clore', 0.07664537988291788),\n",
       "  ('comporte', 0.0754542265789321),\n",
       "  ('contestation', 0.07328644465391024),\n",
       "  ('page', 0.069610666355905),\n",
       "  ('vierge', 0.055263868476881986),\n",
       "  ('républiqu', 0.0511608728403601)],\n",
       " 153: [('réunion', 0.019090673666988897),\n",
       "  ('participant', 0.008184467391328292),\n",
       "  ('intervenant', 0.007188967873586023),\n",
       "  ('thème', 0.005929233365065111),\n",
       "  ('rendu', 0.004959169071019131),\n",
       "  ('applaudissement', 0.004472929542861608),\n",
       "  ('bonsoir', 0.004371587374764741),\n",
       "  ('débat', 0.004278644323271086),\n",
       "  ('salle', 0.004101770992843624),\n",
       "  ('intervention', 0.003735717685400005)],\n",
       " 154: [('bonjour', 0.15677320974662104),\n",
       "  ('joint', 0.09617803449261338),\n",
       "  ('cordialement', 0.09055787860486257),\n",
       "  ('réception', 0.05989283862430639),\n",
       "  ('trouver', 0.03915924202280609),\n",
       "  ('joindre', 0.035926959009243566),\n",
       "  ('prier', 0.02962437916495405),\n",
       "  ('feuillet', 0.027313652204714316),\n",
       "  ('caderousse', 0.027212536025227375),\n",
       "  ('pièce', 0.025203176873459854)],\n",
       " 155: [('etape', 0.047786103645422136),\n",
       "  ('initiative', 0.039499424522857124),\n",
       "  ('article', 0.0344584536288687),\n",
       "  ('ratification', 0.03204109533537267),\n",
       "  ('référendum', 0.029165313443169538),\n",
       "  ('référendaire', 0.02569986913728797),\n",
       "  ('pétition', 0.023263348587658002),\n",
       "  ('constitution', 0.022027342495357483),\n",
       "  ('souveraineté', 0.0197422270404616),\n",
       "  ('voie', 0.019071713107246747)],\n",
       " 156: [('alternatif', 0.06841305099617),\n",
       "  ('mobilité', 0.0318962924265397),\n",
       "  ('déplacement', 0.030114627620457468),\n",
       "  ('covoiturage', 0.029310171079861443),\n",
       "  ('vélo', 0.027880001637418703),\n",
       "  ('essence', 0.02777133921968233),\n",
       "  ('recourir', 0.026422626832652122),\n",
       "  ('solution', 0.026009080303456285),\n",
       "  ('utilisateur', 0.023800659921823706),\n",
       "  ('auto', 0.02082284093603095)],\n",
       " 157: [('train', 0.011412504603204554),\n",
       "  ('bus', 0.010839458170373477),\n",
       "  ('transport', 0.010497478158372183),\n",
       "  ('métro', 0.009536621950954897),\n",
       "  ('gare', 0.006721233913525937),\n",
       "  ('trajet', 0.006346918128604927),\n",
       "  ('parking', 0.005990493357250437),\n",
       "  ('commun', 0.005757090162007659),\n",
       "  ('tramway', 0.00570866043343953),\n",
       "  ('ligne', 0.005112468712650638)],\n",
       " 158: [('citoyenneté', 0.05192373425607555),\n",
       "  ('organisation', 0.04106025924483719),\n",
       "  ('transition', 0.04059603409175906),\n",
       "  ('thème', 0.036278607924044984),\n",
       "  ('écologique', 0.03520400908201174),\n",
       "  ('fiscalité', 0.026695854795073116),\n",
       "  ('démocratie', 0.02483778021956055),\n",
       "  ('thematique', 0.02061018983684207),\n",
       "  ('questionnaire', 0.02049480165817602),\n",
       "  ('contribuer', 0.018648412710909147)],\n",
       " 159: [('rebâtir', 0.030745521308498617),\n",
       "  ('accepter', 0.021208563803042955),\n",
       "  ('agresse', 0.018452448443854217),\n",
       "  ('ample', 0.017727171376254274),\n",
       "  ('accusation', 0.0171192490324754),\n",
       "  ('peur', 0.016382963594688285),\n",
       "  ('légitime', 0.01633029274298882),\n",
       "  ('clarification', 0.016216240689251614),\n",
       "  ('orientation', 0.01588198545372175),\n",
       "  ('épuisement', 0.015185495935993595)],\n",
       " 160: [('pesticide', 0.08958636369800911),\n",
       "  ('glyphosate', 0.027705226034154637),\n",
       "  ('bio', 0.02728350173308293),\n",
       "  ('herbicide', 0.02246767642723434),\n",
       "  ('interdiction', 0.018451019992382498),\n",
       "  ('insecticide', 0.01327076660938842),\n",
       "  ('agriculture', 0.01258025146968246),\n",
       "  ('cantine', 0.01233420393172787),\n",
       "  ('développer', 0.011175022446185573),\n",
       "  ('protection', 0.010486254439235596)],\n",
       " 161: [('onglet', 0.031006888435451654),\n",
       "  ('dépose', 0.02946434140405122),\n",
       "  ('informé', 0.027738681294082686),\n",
       "  ('75020', 0.02292491506083689),\n",
       "  ('approfondi', 0.01874355206680726),\n",
       "  ('indique', 0.017480691183548603),\n",
       "  ('coordonnée', 0.017412227746641043),\n",
       "  ('dysfonctionnement', 0.01697355675728885),\n",
       "  ('proposition', 0.014746679047660824),\n",
       "  ('20', 0.014418448685134876)],\n",
       " 162: [('éventuel', 0.040888262238627765),\n",
       "  ('biocarburant', 0.04014392086000521),\n",
       "  ('rencontre', 0.03820610620847287),\n",
       "  ('ticpe', 0.03758117350964204),\n",
       "  ('manifestant', 0.028925871634583773),\n",
       "  ('bicaméral', 0.027553763004272754),\n",
       "  ('précité', 0.027393332551133957),\n",
       "  ('schiste', 0.023132973189761215),\n",
       "  ('prévisionnel', 0.02300317464451798),\n",
       "  ('viser', 0.02249790061796398)],\n",
       " 163: [('inaliénable', 0.030698209266995565),\n",
       "  ('policier', 0.02568785654492893),\n",
       "  ('main', 0.021315139553585997),\n",
       "  ('liberté', 0.018735724441863565),\n",
       "  ('respect', 0.018414042155482084),\n",
       "  ('crevé', 0.018327297662656974),\n",
       "  ('restauron', 0.01810102696130696),\n",
       "  ('phytothérapie', 0.017848671536184108),\n",
       "  ('abusif', 0.01775182875669633),\n",
       "  ('concrétisation', 0.017550392799357536)],\n",
       " 164: [('tableau', 2.3465714259639254),\n",
       "  ('texte', 0.029953107481328237),\n",
       "  ('cahier', 0.009196428072407132),\n",
       "  ('', 1e-05),\n",
       "  ('', 1e-05),\n",
       "  ('', 1e-05),\n",
       "  ('', 1e-05),\n",
       "  ('', 1e-05),\n",
       "  ('', 1e-05),\n",
       "  ('', 1e-05)],\n",
       " 165: [('amand', 0.10671849491818847),\n",
       "  ('les', 0.098233047682079),\n",
       "  ('eaux', 0.07727247832805442),\n",
       "  ('saint', 0.07254171252598558),\n",
       "  ('renvoyer', 0.05224487945625451),\n",
       "  ('eal', 0.04656223734913061),\n",
       "  ('mail', 0.04587458095887408),\n",
       "  ('contact', 0.04395549419364389),\n",
       "  ('déposer', 0.04244588738311656),\n",
       "  ('tél', 0.035344467411000294)],\n",
       " 166: [('actualité', 0.14576126328419697),\n",
       "  ('avenue', 0.12954548318278497),\n",
       "  ('tél', 0.07975812645623806),\n",
       "  ('amand', 0.06836588102157098),\n",
       "  ('eal', 0.06640425123379494),\n",
       "  ('retrouver', 0.06245405816121214),\n",
       "  ('33320', 0.056519188959478675),\n",
       "  ('eau', 0.053558615283725505),\n",
       "  ('zimbra', 0.052262009100736743),\n",
       "  ('carme', 0.050338148997474415)],\n",
       " 167: [('recui', 0.014654808010534065),\n",
       "  ('résiduel', 0.004146711769664499),\n",
       "  ('revenu', 0.004054350458766379),\n",
       "  ('profiter', 0.0038387157150176062),\n",
       "  ('propriétaire', 0.003544134746535296),\n",
       "  ('allocation', 0.0034116964942709003),\n",
       "  ('payer', 0.0033700562144629103),\n",
       "  ('complémentaire', 0.0033465099919202943),\n",
       "  ('travailler', 0.003068493265630515),\n",
       "  ('emploi', 0.0030242234707658243)],\n",
       " 168: [('organisation', 0.043331055414204706),\n",
       "  ('échelon', 0.03330490856935281),\n",
       "  ('administratif', 0.031179587732058783),\n",
       "  ('opérateur', 0.03014404719063458),\n",
       "  ('territorial', 0.027441579818099252),\n",
       "  ('oui', 0.024599712250505754),\n",
       "  ('évoluer', 0.023005526670683774),\n",
       "  ('attacher', 0.02158282750886852),\n",
       "  ('collectivité', 0.018982000274230117),\n",
       "  ('pôle', 0.01664461704147606)],\n",
       " 169: [('vote', 0.02099295667630372),\n",
       "  ('blanc', 0.014595650633525132),\n",
       "  ('voter', 0.010936692750598116),\n",
       "  ('obligatoire', 0.009189796235902315),\n",
       "  ('falloir', 0.007480806916933262),\n",
       "  ('coalition', 0.007422741463089738),\n",
       "  ('élection', 0.007223728502919025),\n",
       "  ('foyeux', 0.0069633662787866235),\n",
       "  ('avenai', 0.0069633662787866235),\n",
       "  ('bennefoy', 0.0069633662787866235)],\n",
       " 170: [('sarl', 0.04865150435703834),\n",
       "  ('gérant', 0.04734005882427837),\n",
       "  ('dividende', 0.0458888213080517),\n",
       "  ('majoritaire', 0.04016377540012696),\n",
       "  ('cahuzac', 0.03110297540122298),\n",
       "  ('sas', 0.03054282202401245),\n",
       "  ('littéralement', 0.030428648694623743),\n",
       "  ('cotisation', 0.030198346420267665),\n",
       "  ('insoutenable', 0.030177591343439794),\n",
       "  ('poumon', 0.029651620299363666)],\n",
       " 171: [('amif', 0.031792047242887526),\n",
       "  ('dampmart', 0.03099056539613579),\n",
       "  ('traiter', 0.028151956975057433),\n",
       "  ('ordre', 0.021369888623993822),\n",
       "  ('asso', 0.020871142992294145),\n",
       "  ('date', 0.02086139793172093),\n",
       "  ('priorité', 0.01968322657071525),\n",
       "  ('gondoire', 0.019442953230976185),\n",
       "  ('attention', 0.018780001807997118),\n",
       "  ('habitant', 0.016507461487900662)],\n",
       " 172: [('violence', 0.02954828243511601),\n",
       "  ('violent', 0.00668299665782325),\n",
       "  ('police', 0.004177776924593586),\n",
       "  ('force', 0.003697088965467753),\n",
       "  ('expliquer', 0.0036299064512785276),\n",
       "  ('lamine', 0.0035931758427253132),\n",
       "  ('second', 0.00347629951930576),\n",
       "  ('répressif', 0.0034744997476142537),\n",
       "  ('policier', 0.0033935928987163604),\n",
       "  ('acceptable', 0.0033890451249671883)],\n",
       " 173: [('kilomètre', 0.010769461489686072),\n",
       "  ('village', 0.008542120042547483),\n",
       "  ('bus', 0.006837678452003901),\n",
       "  ('rural', 0.005047130062971631),\n",
       "  ('route', 0.004548589663932046),\n",
       "  ('transport', 0.004480128454935846),\n",
       "  ('racisme', 0.0044017928486238785),\n",
       "  ('ville', 0.004395865769654405),\n",
       "  ('voiture', 0.004067800105038005),\n",
       "  ('tbc', 0.004042471140832635)],\n",
       " 174: [('giberville', 0.05503892043705777),\n",
       "  ('scanner', 0.046533010833277086),\n",
       "  ('feuillet', 0.04629694700624627),\n",
       "  ('gibervill', 0.04154752195532079),\n",
       "  ('poster', 0.04088266946809258),\n",
       "  ('esplanade', 0.03818983451781779),\n",
       "  ('synthèse', 0.028362297989047523),\n",
       "  ('municipalité', 0.023687802573086326),\n",
       "  ('texte', 0.02006448721917988),\n",
       "  ('transmettre', 0.019604435631023757)],\n",
       " 175: [('formulaire', 0.05664250900565499),\n",
       "  ('https', 0.05582090560206137),\n",
       "  ('departemental', 0.05488757180532168),\n",
       "  ('reunion', 0.051743570160238346),\n",
       "  ('departement974', 0.05130768866777922),\n",
       "  ('départemental', 0.04803638680394416),\n",
       "  ('déclinaison', 0.04761624750019164),\n",
       "  ('réunion', 0.04271833155818074),\n",
       "  ('détailler', 0.03947677883433895),\n",
       "  ('version', 0.037030680348618804)],\n",
       " 176: [('préalablement', 0.030168589957074263),\n",
       "  ('message', 0.02489106403699764),\n",
       "  ('rédaction', 0.02377372096174785),\n",
       "  ('renseigner', 0.02298873895498799),\n",
       "  ('observation', 0.019170873027792534),\n",
       "  ('coordonnée', 0.01718035425999242),\n",
       "  ('13210', 0.01648648453654669),\n",
       "  ('préfecture', 0.016254551132435527),\n",
       "  ('déposer', 0.014789322244787274),\n",
       "  ('transmettre', 0.014337561197325745)],\n",
       " 177: [('préfecture', 0.18042499908355483),\n",
       "  ('sous', 0.08654052123730713),\n",
       "  ('prefecture', 0.07570939537170095),\n",
       "  ('tableau', 0.05400770451611242),\n",
       "  ('langon', 0.051894282433456305),\n",
       "  ('dinan', 0.04431501752467718),\n",
       "  ('pluduno', 0.04271076896765428),\n",
       "  ('bordereau', 0.03856368939417333),\n",
       "  ('fev', 0.03509409764602199),\n",
       "  ('février', 0.03269315123291358)],\n",
       " 178: [('copain', 0.02408449795700446),\n",
       "  ('réélu', 0.02378265754180524),\n",
       "  ('pointage', 0.023540163251334557),\n",
       "  ('fantôme', 0.02154100515022313),\n",
       "  ('cmu', 0.021071885632523723),\n",
       "  ('territoriale', 0.01879175416296376),\n",
       "  ('azimut', 0.018583927443608986),\n",
       "  ('ata', 0.018467888286960197),\n",
       "  ('franchir', 0.017922626590747576),\n",
       "  ('planquer', 0.0178936122463388)],\n",
       " 179: [('pri', 0.07703940244557683),\n",
       "  ('signature', 0.07042191156519788),\n",
       "  ('renseigner', 0.06465448622192578),\n",
       "  ('document', 0.042076379406535476),\n",
       "  ('nom', 0.03595347918862611),\n",
       "  ('connaissance', 0.03565460368224751),\n",
       "  ('transmettre', 0.033274922606977474),\n",
       "  ('dat', 0.028102600665791466),\n",
       "  ('prenoms', 0.026150472155134857),\n",
       "  ('tél', 0.025812081756725815)],\n",
       " 180: [('décentralisation', 0.0148977482899978),\n",
       "  ('faut', 0.014459915105081619),\n",
       "  ('défi', 0.013964959724190007),\n",
       "  ('améliorer', 0.013814354102148749),\n",
       "  ('échelon', 0.012393908138601865),\n",
       "  ('collectivité', 0.011759517265210103),\n",
       "  ('action', 0.010642161965289507),\n",
       "  ('renforcer', 0.009756568231540998),\n",
       "  ('organiser', 0.008660075075848098),\n",
       "  ('répondre', 0.008209231528668457)],\n",
       " 181: [('expulsion', 0.06017352897956264),\n",
       "  ('violenter', 0.0358534164044915),\n",
       "  ('charia', 0.035499809035109506),\n",
       "  ('gouvernant', 0.03431906448189242),\n",
       "  ('assimilation', 0.032267860274090635),\n",
       "  ('haineux', 0.0317266398216658),\n",
       "  ('débouter', 0.03141485192863688),\n",
       "  ('prière', 0.029906978135084895),\n",
       "  ('initiation', 0.029895045478902295),\n",
       "  ('fiché', 0.028496290582167964)],\n",
       " 182: [('suppression', 0.051312919500639015),\n",
       "  ('csg', 0.05033132005994708),\n",
       "  ('retraité', 0.02975197227928355),\n",
       "  ('augmentation', 0.02681292812441301),\n",
       "  ('cam', 0.02662163710360187),\n",
       "  ('hausse', 0.024851980528148663),\n",
       "  ('esquert', 0.019348490541994348),\n",
       "  ('chahine', 0.019348490541994348),\n",
       "  ('revalorisation', 0.01899332341305354),\n",
       "  ('mrap', 0.017287428859853477)],\n",
       " 183: [('chauffage', 0.05340589118223949),\n",
       "  ('comportement', 0.038511871374696284),\n",
       "  ('inciter', 0.03529473090026153),\n",
       "  ('environnement', 0.034987985553945715),\n",
       "  ('changer', 0.034090989587568926),\n",
       "  ('oui', 0.032275161116463016),\n",
       "  ('mode', 0.030000976696735567),\n",
       "  ('supportable', 0.028438333543891556),\n",
       "  ('protéger', 0.028312135036067117),\n",
       "  ('renoncer', 0.027208692834128908)],\n",
       " 184: [('dividende', 0.029945249821416862),\n",
       "  ('sarl', 0.02410708192952671),\n",
       "  ('cahuzac', 0.023043544220803975),\n",
       "  ('littéralement', 0.02254394966168737),\n",
       "  ('sas', 0.022217110325477865),\n",
       "  ('poumon', 0.0219682655685735),\n",
       "  ('investissant', 0.02174865726336022),\n",
       "  ('confiscatoire', 0.021300154238100673),\n",
       "  ('notr', 0.02041260863283487),\n",
       "  ('étouffer', 0.020241478473740186)],\n",
       " 185: [('génome', 0.06383653885046672),\n",
       "  ('semencière', 0.06201925058248559),\n",
       "  ('nanoparticule', 0.05774805037118473),\n",
       "  ('fongicide', 0.05769771930299828),\n",
       "  ('antibiotique', 0.05525061470290084),\n",
       "  ('trust', 0.05395123384069731),\n",
       "  ('bayer', 0.04907439961408662),\n",
       "  ('traçabilité', 0.048911797310580346),\n",
       "  ('phytosanitaire', 0.04433357068423174),\n",
       "  ('écosystème', 0.04431549917156834)],\n",
       " 186: [('alternatif', 0.09022375657786573),\n",
       "  ('mobilité', 0.04242290747093254),\n",
       "  ('covoiturage', 0.03881955703620263),\n",
       "  ('vélo', 0.037119359168105784),\n",
       "  ('recourir', 0.03467997268028695),\n",
       "  ('déplacement', 0.03428884326806441),\n",
       "  ('solution', 0.03338730781196878),\n",
       "  ('essence', 0.03246728930411691),\n",
       "  ('convaincre', 0.028066720208805077),\n",
       "  ('utilisateur', 0.028046029231720934)],\n",
       " 187: [('température', 0.031657416196420214),\n",
       "  ('serre', 0.02340704189326918),\n",
       "  ('chaude', 0.023049688036178653),\n",
       "  ('emballement', 0.02227346250940271),\n",
       "  ('tragique', 0.02134590282217813),\n",
       "  ('alarmant', 0.020387296981989798),\n",
       "  ('climat', 0.01970024806787904),\n",
       "  ('juridiquement', 0.019611098197471786),\n",
       "  ('émission', 0.01904943338290815),\n",
       "  ('irréversible', 0.0182111341440041)],\n",
       " 188: [('irfm', 0.03148388985229777),\n",
       "  ('toucher', 0.02512313218775925),\n",
       "  ('lambda', 0.020845190113017994),\n",
       "  ('écrêtement', 0.020661942099857104),\n",
       "  ('démissionner', 0.019859611265686205),\n",
       "  ('cotisation', 0.018428362312798523),\n",
       "  ('résolument', 0.01804893381855522),\n",
       "  ('insaisissable', 0.017663331291867573),\n",
       "  ('complète', 0.01720680602943129),\n",
       "  ('moyenne', 0.01667686264097664)],\n",
       " 189: [('allocation', 0.009307633326151744),\n",
       "  ('familial', 0.005845583833361252),\n",
       "  ('scolaire', 0.004523592032397424),\n",
       "  ('logement', 0.004079599223973355),\n",
       "  ('percevoir', 0.004065195284293132),\n",
       "  ('rentrée', 0.003747719652206977),\n",
       "  ('aide', 0.003683258162673128),\n",
       "  ('transite', 0.0036295671415416107),\n",
       "  ('sanatorium', 0.0034274509186975576),\n",
       "  ('formation', 0.003413257347153122)],\n",
       " 190: [('cahuzac', 0.04254868685049309),\n",
       "  ('littéralement', 0.040840811669775226),\n",
       "  ('poumon', 0.03903255327018004),\n",
       "  ('étouffer', 0.03525926462402556),\n",
       "  ('aberration', 0.03411140111363036),\n",
       "  ('soumettre', 0.03384232352742483),\n",
       "  ('sarl', 0.03297218743365897),\n",
       "  ('notr', 0.032822179940395),\n",
       "  ('gérant', 0.032083392143838894),\n",
       "  ('confiscatoire', 0.029682724047577044)],\n",
       " 191: [('fraternelle', 0.06749500474862327),\n",
       "  ('annuité', 0.05811761287769319),\n",
       "  ('antisocial', 0.05398776005681633),\n",
       "  ('véritablement', 0.047176775901072054),\n",
       "  ('punitif', 0.04396284799129041),\n",
       "  ('détenir', 0.03874961277636849),\n",
       "  ('cadeau', 0.03842191612064845),\n",
       "  ('efficacement', 0.038201846865441196),\n",
       "  ('digne', 0.03507818222321426),\n",
       "  ('générer', 0.03190115687419382)],\n",
       " 192: [('référendum', 0.032501902835699426),\n",
       "  ('constitution', 0.015764585298027933),\n",
       "  ('destituer', 0.01562569102774849),\n",
       "  ('initiative', 0.012833542295228945),\n",
       "  ('abrogatoire', 0.011315975735642416),\n",
       "  ('constituer', 0.011242640398633541),\n",
       "  ('législatif', 0.010957793840743127),\n",
       "  ('degré', 0.010417130222651705),\n",
       "  ('révocatoire', 0.010127816030031593),\n",
       "  ('politicien', 0.009892096322135098)],\n",
       " 193: [('patron', 0.028131642362675405),\n",
       "  ('entrepreneur', 0.02093892959806153),\n",
       "  ('collectif', 0.02085437338664846),\n",
       "  ('développeur', 0.01738092834817624),\n",
       "  ('vitrier', 0.01723067015622914),\n",
       "  ('chauffagiste', 0.0170563138736878),\n",
       "  ('peintre', 0.0169895621361643),\n",
       "  ('courroie', 0.016986198156483768),\n",
       "  ('12', 0.0165327353366673),\n",
       "  ('risque', 0.016518979557447078)],\n",
       " 194: [('traiter', 0.05254148581067273),\n",
       "  ('date', 0.04801326077683544),\n",
       "  ('habitant', 0.042034276122699825),\n",
       "  ('ordre', 0.038531761422758604),\n",
       "  ('bizou', 0.03628679152129978),\n",
       "  ('priorité', 0.03518511197784277),\n",
       "  ('problème', 0.026967495060455628),\n",
       "  ('demande', 0.026215872670429095),\n",
       "  ('image', 0.02584504851014403),\n",
       "  ('commune', 0.025620550459871553)],\n",
       " 195: [('fraternelle', 0.07051492946317492),\n",
       "  ('antisocial', 0.06621474956739881),\n",
       "  ('annuité', 0.06071796554280905),\n",
       "  ('véritablement', 0.049287603391597094),\n",
       "  ('soussigner', 0.04612046878011689),\n",
       "  ('punitif', 0.045579538067670684),\n",
       "  ('détenir', 0.04338855860925392),\n",
       "  ('efficacement', 0.03987983137651302),\n",
       "  ('cadeau', 0.038772581425257094),\n",
       "  ('digne', 0.036647683104530836)],\n",
       " 196: [('agent', 0.05427552585518741),\n",
       "  ('chose', 0.03682526123616388),\n",
       "  ('démarche', 0.034995188851331016),\n",
       "  ('accomplissement', 0.03293058947961804),\n",
       "  ('itinérant', 0.03054142310222744),\n",
       "  ('polyvalent', 0.029817582247710583),\n",
       "  ('effectuer', 0.029113141829545962),\n",
       "  ('susceptible', 0.02549688340339206),\n",
       "  ('prise', 0.024840840546438127),\n",
       "  ('mauvais', 0.024833410557345562)],\n",
       " 197: [('revoir', 0.028423566060735785),\n",
       "  ('époux', 0.018815867574486306),\n",
       "  ('retraite', 0.01472402371104902),\n",
       "  ('remerciement', 0.013926311065369172),\n",
       "  ('veuve', 0.013840063093320573),\n",
       "  ('divorcé', 0.012403340289416094),\n",
       "  ('déontologie', 0.011032462945180718),\n",
       "  ('indépendamment', 0.010454106369837157),\n",
       "  ('démesuré', 0.009949926468304759),\n",
       "  ('marie', 0.00964028741135838)],\n",
       " 198: [('préfet', 0.12282596156878046),\n",
       "  ('certifier', 0.0808710278523509),\n",
       "  ('porter', 0.07957687565154453),\n",
       "  ('attestation', 0.07738540132889642),\n",
       "  ('délégation', 0.06714146465489455),\n",
       "  ('numéro', 0.0650246785730669),\n",
       "  ('43', 0.06099237068029903),\n",
       "  ('expression', 0.0559100854726242),\n",
       "  ('préfectur', 0.05589594473456244),\n",
       "  ('républiqu', 0.04544316787909667)],\n",
       " 199: [('produit', 0.007505964510452524),\n",
       "  ('instorer', 0.005643258927750345),\n",
       "  ('prix', 0.005411201451964833),\n",
       "  ('taxe', 0.00478026761423884),\n",
       "  ('tva', 0.004735548599221694),\n",
       "  ('carburant', 0.0038923616464886135),\n",
       "  ('consommer', 0.003764310846872747),\n",
       "  ('circulaire', 0.0036867861528657605),\n",
       "  ('ticpe', 0.0034554903665388725),\n",
       "  ('production', 0.0034040922736576166)],\n",
       " 200: [('image', 0.1565183158500573),\n",
       "  ('document', 0.092895545757801),\n",
       "  ('préfet', 0.08264380166910568),\n",
       "  ('transmettre', 0.08008014056942371),\n",
       "  ('proposition', 0.053024842850632595),\n",
       "  ('cahier', 0.04916732088286937),\n",
       "  ('doléance', 0.04250993365734351),\n",
       "  ('damp', 0.04193651786187136),\n",
       "  ('parlementaire', 0.03814171129673239),\n",
       "  ('logo', 0.03130044997771709)],\n",
       " 201: [('donnée', 0.08467214588946761),\n",
       "  ('montivillier', 0.06014552295602131),\n",
       "  ('recueil', 0.04935406900622889),\n",
       "  ('exposé', 0.029847038254832495),\n",
       "  ('cadre', 0.029066938501872204),\n",
       "  ('montivilliers', 0.028352630376159607),\n",
       "  ('cocher', 0.028209313951717715),\n",
       "  ('achever', 0.028044719971977376),\n",
       "  ('organisateur', 0.026070489358016327),\n",
       "  ('informe', 0.02587149640857962)],\n",
       " 202: [('démarche', 0.029559971316405496),\n",
       "  ('réponse', 0.027506435604036636),\n",
       "  ('tableau', 0.026616188474535556),\n",
       "  ('vou', 0.026325456789467738),\n",
       "  ('agent', 0.024146096300242784),\n",
       "  ('satisfaction', 0.024143605793764407),\n",
       "  ('oui', 0.02187457861239908),\n",
       "  ('erreur', 0.0209450345085834),\n",
       "  ('difficulté', 0.020853851620638936),\n",
       "  ('rencontrer', 0.020546390577110073)],\n",
       " 203: [('atelier', 0.02426205648372694),\n",
       "  ('synthèse', 0.011544055584546476),\n",
       "  ('groupe', 0.010648164195001796),\n",
       "  ('restitution', 0.010308816114940469),\n",
       "  ('constructif', 0.008817028392310028),\n",
       "  ('formule', 0.008155427033741985),\n",
       "  ('conformément', 0.008115869256423361),\n",
       "  ('participant', 0.007819719670784287),\n",
       "  ('noter', 0.0073217336699102735),\n",
       "  ('échange', 0.006835102293389837)],\n",
       " 204: [('excision', 0.022557467290422975),\n",
       "  ('présidence', 0.021473552845732602),\n",
       "  ('inédit', 0.021272756417353208),\n",
       "  ('mouvement', 0.021232802754022725),\n",
       "  ('engendrer', 0.019696121754268325),\n",
       "  ('dignité', 0.018940167220424374),\n",
       "  ('élémentaire', 0.017208044024212478),\n",
       "  ('circoncision', 0.015853624740758583),\n",
       "  ('document', 0.015343177693164142),\n",
       "  ('amnésie', 0.015076359042673931)],\n",
       " 205: [('organisation', 0.10673528665877859),\n",
       "  ('exprimer', 0.08186645656435729),\n",
       "  ('point', 0.06770126016612542),\n",
       "  ('souhaiter', 0.04996053980771635),\n",
       "  ('état', 0.03654668712004806),\n",
       "  ('service', 0.031800193192954115),\n",
       "  ('réponse', 0.027683386000443358),\n",
       "  ('public', 0.024095823693003598),\n",
       "  ('paseo', 0.021574781294734283),\n",
       "  ('reposer', 0.014860710301260816)],\n",
       " 206: [('isoler', 0.028963900688441714),\n",
       "  ('ptz', 0.025103632198538922),\n",
       "  ('identifier', 0.024427241647879894),\n",
       "  ('zéro', 0.023939315697006087),\n",
       "  ('écoprêt', 0.023119933809881976),\n",
       "  ('isolation', 0.02023892523639657),\n",
       "  ('efficace', 0.018867398571362635),\n",
       "  ('éco', 0.01883598773521383),\n",
       "  ('absorber', 0.018621798786362512),\n",
       "  ('solidaire', 0.01831602274032815)],\n",
       " 207: [('coefficient', 0.00803299380024105),\n",
       "  ('défense', 0.005535666377114314),\n",
       "  ('scandaleusement', 0.0038742273968452685),\n",
       "  ('français', 0.003417469974108196),\n",
       "  ('éléctriqu', 0.0033482194782289538),\n",
       "  ('manisfester', 0.003110287873805846),\n",
       "  ('interdiction', 0.0028949882236496754),\n",
       "  ('industrie', 0.002861835085446496),\n",
       "  ('cessant', 0.002814549880020942),\n",
       "  ('animal', 0.0025892220085641632)],\n",
       " 208: [('évêque', 0.022741414628107172),\n",
       "  ('mgr', 0.01571867993841673),\n",
       "  ('quid', 0.015475516253157472),\n",
       "  ('paroisse', 0.01421885009947555),\n",
       "  ('cef', 0.013648165242234164),\n",
       "  ('préfectoral', 0.013643344772653342),\n",
       "  ('reconnecter', 0.011804947010421675),\n",
       "  ('crise', 0.010214919182010708),\n",
       "  ('liturgique', 0.010141915930424905),\n",
       "  ('catholique', 0.010021499530028372)],\n",
       " 209: [('inflation', 0.007725205697196784),\n",
       "  ('rétablissement', 0.007060199803172004),\n",
       "  ('indexation', 0.006566436439091622),\n",
       "  ('usquer', 0.005793879427144353),\n",
       "  ('pension', 0.005777776596316933),\n",
       "  ('dissolution', 0.00576546079683994),\n",
       "  ('jnterdiction', 0.005613006108304178),\n",
       "  ('suppréssion', 0.005493975327300801),\n",
       "  ('revalorisation', 0.005039441055438932),\n",
       "  ('suffrage', 0.004891651006970071)],\n",
       " 210: [('létal', 0.03470146801072576),\n",
       "  ('mourir', 0.03181402321691975),\n",
       "  ('palliatif', 0.029396956872401486),\n",
       "  ('actif', 0.028492499010559946),\n",
       "  ('euthanasie', 0.026106176383753822),\n",
       "  ('suicide', 0.024842865643302865),\n",
       "  ('patient', 0.020516804375063386),\n",
       "  ('assister', 0.019763056304875466),\n",
       "  ('agréer', 0.01675368695529651),\n",
       "  ('respectueux', 0.01632452901644269)],\n",
       " 211: [('arrondissement', 0.14602099971075397),\n",
       "  ('ligré', 0.049685478223625394),\n",
       "  ('chinon', 0.04441842807641408),\n",
       "  ('ligre', 0.03911418688937804),\n",
       "  ('hauterive', 0.032829689723165925),\n",
       "  ('département', 0.03277716295931986),\n",
       "  ('crécy', 0.03180481252104422),\n",
       "  ('loire', 0.03159384061733272),\n",
       "  ('departement', 0.02988960007528027),\n",
       "  ('canton', 0.02745868719795103)],\n",
       " 212: [('administration', 0.038403314178060345),\n",
       "  ('identifier', 0.03838096223892908),\n",
       "  ('transparent', 0.0378652680018121),\n",
       "  ('différenciation', 0.037066468286920284),\n",
       "  ('fragiliser', 0.026377497315205455),\n",
       "  ('adaptation', 0.0246214028809147),\n",
       "  ('compétence', 0.02438393526869251),\n",
       "  ('éloigné', 0.021237794745109624),\n",
       "  ('interroger', 0.02088506315420073),\n",
       "  ('émerger', 0.02051951563299029)],\n",
       " 213: [('ore', 0.024489704390335546),\n",
       "  ('chauffer', 0.021630135293508365),\n",
       "  ('litre', 0.019700449359864973),\n",
       "  ('fossile', 0.019069650377999712),\n",
       "  ('consommer', 0.018225484676312638),\n",
       "  ('prématurer', 0.01701010067180519),\n",
       "  ('facture', 0.016889630706382303),\n",
       "  ('énergétique', 0.016457609346293513),\n",
       "  ('covoiturage', 0.01639976975080769),\n",
       "  ('ménage', 0.016217518171219407)],\n",
       " 214: [('maires_rurau', 0.025480831443759094),\n",
       "  ('amrf', 0.025338897954358515),\n",
       "  ('fax', 0.023123563674668043),\n",
       "  ('avenue', 0.02302172562658438),\n",
       "  ('roch', 0.017920796240071462),\n",
       "  ('www', 0.014756893614717787),\n",
       "  ('rural', 0.012610926472358787),\n",
       "  ('association', 0.012482995330970309),\n",
       "  ('décote', 0.01049827059378728),\n",
       "  ('79', 0.010091703572655574)],\n",
       " 215: [('constructif', 0.024775965707613968),\n",
       "  ('anonyme', 0.02434591291808173),\n",
       "  ('adresser', 0.018065346076946227),\n",
       "  ('cautionner', 0.018011578943086467),\n",
       "  ('maule', 0.015306880877023496),\n",
       "  ('rédiger', 0.01514399466723029),\n",
       "  ('docs', 0.015017812016528733),\n",
       "  ('idée', 0.014384342696829828),\n",
       "  ('edit', 0.013975621671707114),\n",
       "  ('contenu', 0.011933481251907305)],\n",
       " 216: [('patron', 0.029959601661269583),\n",
       "  ('entrepreneur', 0.023028938723018456),\n",
       "  ('collectif', 0.0227235727356313),\n",
       "  ('sarl', 0.018883335769392526),\n",
       "  ('gérant', 0.018374318285438944),\n",
       "  ('développeur', 0.018262413492138137),\n",
       "  ('chauffagiste', 0.01824717845476579),\n",
       "  ('vitrier', 0.018104534857755126),\n",
       "  ('risque', 0.017966866479830014),\n",
       "  ('paysagiste', 0.017947516095706953)],\n",
       " 217: [('bruz', 0.033519940489270046),\n",
       "  ('entrée', 0.01952313067314869),\n",
       "  ('tarauder', 0.01452486645326313),\n",
       "  ('encarter', 0.01366375048475604),\n",
       "  ('accueil', 0.012814821345683791),\n",
       "  ('contact', 0.009995650029901038),\n",
       "  ('envoyé', 0.009478370468228605),\n",
       "  ('négliger', 0.008402906675682276),\n",
       "  ('vendredi', 0.0077751147074403915),\n",
       "  ('général', 0.007718350265649476)],\n",
       " 218: [('hébergement', 0.007238263768930302),\n",
       "  ('liaison', 0.006937880481053514),\n",
       "  ('outrent', 0.006771087773127494),\n",
       "  ('ligne', 0.006726677386461634),\n",
       "  ('vélo', 0.0053235718406630375),\n",
       "  ('théâtre', 0.004909032568051036),\n",
       "  ('pont', 0.004900427676354282),\n",
       "  ('terminus', 0.0048873102152943194),\n",
       "  ('tret', 0.004871694944230091),\n",
       "  ('5212', 0.0048645418381379904)],\n",
       " 219: [('chauffage', 0.05579601001669192),\n",
       "  ('comportement', 0.0388683662519716),\n",
       "  ('inciter', 0.037457348436328024),\n",
       "  ('environnement', 0.03725207281678236),\n",
       "  ('changer', 0.034625271614310615),\n",
       "  ('mode', 0.030798189027669273),\n",
       "  ('protéger', 0.030790172886642424),\n",
       "  ('oui', 0.03061854314590462),\n",
       "  ('supportable', 0.029863145331403912),\n",
       "  ('renoncer', 0.029179810115668555)],\n",
       " 220: [('ferroutage', 0.004735675290707678),\n",
       "  ('transport', 0.003987835142432621),\n",
       "  ('tri', 0.003965123057762505),\n",
       "  ('sauvage', 0.003778260311354291),\n",
       "  ('ilfaut', 0.003704482268332323),\n",
       "  ('camion', 0.0035896698821591033),\n",
       "  ('a9', 0.003231384243746726),\n",
       "  ('commun', 0.0032294684786831067),\n",
       "  ('agricole', 0.003146779342410676),\n",
       "  ('étanchéité', 0.003055588311870156)],\n",
       " 221: [('monsieur', 0.004590424447544737),\n",
       "  ('fiscal', 0.004224177833613714),\n",
       "  ('seudre', 0.003509606283126205),\n",
       "  ('évasion', 0.0034224299646013747),\n",
       "  ('capital', 0.003107449185757357),\n",
       "  ('mettez', 0.0030984172820280524),\n",
       "  ('taxation', 0.003018757651324064),\n",
       "  ('impôt', 0.002962398965662659),\n",
       "  ('impatience', 0.002955526510448781),\n",
       "  ('fiscalité', 0.0029069753352494536)],\n",
       " 222: [('destin', 0.016581658751817708),\n",
       "  ('xad', 0.012972258105093521),\n",
       "  ('réussir', 0.012285823028996227),\n",
       "  ('surmonter', 0.011107530599294145),\n",
       "  ('insatisfaire', 0.011106505966619074),\n",
       "  ('interrogation', 0.011083281699534901),\n",
       "  ('nation', 0.010469848453625948),\n",
       "  ('fraternel', 0.010332054712203095),\n",
       "  ('financent', 0.010294679499121358),\n",
       "  ('prospère', 0.010049771724163244)],\n",
       " 223: [('pib', 0.0274689577359006),\n",
       "  ('élevé', 0.023964135165760424),\n",
       "  ('sectoriel', 0.019207405903084337),\n",
       "  ('dépense', 0.01850568915488616),\n",
       "  ('prestation', 0.018226743749104483),\n",
       "  ('comparable', 0.015852256695129577),\n",
       "  ('maladie', 0.014023711359894293),\n",
       "  ('redistribution', 0.013474721734357414),\n",
       "  ('assurance', 0.012900591516812233),\n",
       "  ('financer', 0.012224505823258014)],\n",
       " 224: [('supposer', 0.030667224917054512),\n",
       "  ('définition', 0.02795530749778955),\n",
       "  ('signification', 0.027649518653181847),\n",
       "  ('peuple', 0.026625494124967626),\n",
       "  ('revendiquer', 0.020269756570377787),\n",
       "  ('démocratie', 0.019878026036161654),\n",
       "  ('univoque', 0.019607955578236247),\n",
       "  ('légitimer', 0.017958653269823217),\n",
       "  ('souveraineté', 0.017644864576100244),\n",
       "  ('connotation', 0.017022745073033137)],\n",
       " 225: [('thème', 0.08651634344642031),\n",
       "  ('sablet', 0.06536120248155003),\n",
       "  ('référant', 0.0450072147172588),\n",
       "  ('theme', 0.03765351654527091),\n",
       "  ('degré', 0.019717859095199228),\n",
       "  ('citoyenneté', 0.0166589352813754),\n",
       "  ('fevrier', 0.015232818540771327),\n",
       "  ('organisation', 0.013005525577167708),\n",
       "  ('rubrique', 0.012719267032171997),\n",
       "  ('approfondir', 0.011788706405623376)],\n",
       " 226: [('modalité', 0.12772294967325776),\n",
       "  ('intégration', 0.09122460288899736),\n",
       "  ('efficace', 0.06489275087091056),\n",
       "  ('hui', 0.03252229020726497),\n",
       "  ('aujourd', 0.03225957901990142),\n",
       "  ('langue', 0.031124731940778277),\n",
       "  ('citoyenneté', 0.03069084795959797),\n",
       "  ('apprendre', 0.0287266919503906),\n",
       "  ('société', 0.02864952027152845),\n",
       "  ('exprimer', 0.02350616393000625)],\n",
       " 227: [('wanadoo', 0.2107123613276195),\n",
       "  ('fr', 0.14705351972180766),\n",
       "  ('orange', 0.07364138615820706),\n",
       "  ('mairie', 0.07000456674275624),\n",
       "  ('de', 0.021767549172569022),\n",
       "  ('la', 0.019965742621021524),\n",
       "  ('com', 0.012368406910100119),\n",
       "  ('info82', 0.012187760477872022),\n",
       "  ('st', 0.011329150136704819),\n",
       "  ('contact', 0.010310098465131519)],\n",
       " 228: [('texte', 0.9285463319211754),\n",
       "  ('phrase', 0.3364557637543196),\n",
       "  ('ilisibl', 0.19929514057835138),\n",
       "  ('couper', 0.19022886756754975),\n",
       "  ('illlisbil', 0.15392157401317894),\n",
       "  ('totalement', 0.14935260630563668),\n",
       "  ('illisib', 0.1375253669000284),\n",
       "  ('illisibe', 0.1332321002125335),\n",
       "  ('lisible', 0.12515239170703193),\n",
       "  ('haie', 0.11713851928961523)],\n",
       " 229: [('image', 1.0969585026101272),\n",
       "  ('contribution', 0.15158496615781358),\n",
       "  ('imagee', 0.14524993604060546),\n",
       "  ('gave', 0.07643338162097087),\n",
       "  ('rive', 0.06888605046752082),\n",
       "  ('fev', 0.06198309640579096),\n",
       "  ('page', 0.0449782643841299),\n",
       "  ('tableau', 0.034067234136421015),\n",
       "  ('joindre', 0.029812629130909863),\n",
       "  ('réflexion', 0.02334633673321635)],\n",
       " 230: [('prive', 0.024994260803256143),\n",
       "  ('utilement', 0.01766840947700967),\n",
       "  ('contracter', 0.017573135253686104),\n",
       "  ('oeuvrer', 0.015755087980574095),\n",
       "  ('critiquer', 0.014493164846063916),\n",
       "  ('recul', 0.013664248620918432),\n",
       "  ('améliorer', 0.013396356317558023),\n",
       "  ('livrer', 0.013325103534520695),\n",
       "  ('stratégie', 0.012960731476919049),\n",
       "  ('corriger', 0.012822648216298532)],\n",
       " 231: [('cmu', 0.03695922182395566),\n",
       "  ('confondre', 0.025938452722794922),\n",
       "  ('cumul', 0.02546177967094064),\n",
       "  ('réélire', 0.02155709899207463),\n",
       "  ('surnombre', 0.021241562223350528),\n",
       "  ('effectif', 0.020592817048975018),\n",
       "  ('consulat', 0.019994752098378657),\n",
       "  ('réduction', 0.019021731873897805),\n",
       "  ('désendettement', 0.018712331783212036),\n",
       "  ('attestation', 0.01815430750946113)],\n",
       " 232: [('monsieur', 0.007140233797712816),\n",
       "  ('euro', 0.005266156734312647),\n",
       "  ('mois', 0.005056993227413305),\n",
       "  ('fils', 0.00414941630774242),\n",
       "  ('toucher', 0.004133483947809671),\n",
       "  ('retraite', 0.004100753259151554),\n",
       "  ('arrondi', 0.003516804377647632),\n",
       "  ('licitation', 0.0034349299468040646),\n",
       "  ('aller', 0.0034199080968254124),\n",
       "  ('fille', 0.003410017563060546)],\n",
       " 233: [('mourir', 0.05134442228908945),\n",
       "  ('légalisation', 0.035298326383023534),\n",
       "  ('actif', 0.029095600688313177),\n",
       "  ('intégrer', 0.022065627535501384),\n",
       "  ('euthanasie', 0.019496109376139915),\n",
       "  ('palliatif', 0.019137242065443157),\n",
       "  ('létal', 0.016136033502427736),\n",
       "  ('respectueux', 0.015457702076778062),\n",
       "  ('ouvrir', 0.014863547793852848),\n",
       "  ('appartenir', 0.01380103381960978)],\n",
       " 234: [('verbalement', 0.034570857281333175),\n",
       "  ('cristalliser', 0.031629177220631285),\n",
       "  ('tangible', 0.03159808692819061),\n",
       "  ('aggravation', 0.030983606670010197),\n",
       "  ('attiser', 0.030111005613363512),\n",
       "  ('surdité', 0.02997636453163012),\n",
       "  ('synthétiser', 0.029570456093453143),\n",
       "  ('concitoyen', 0.027981814861772043),\n",
       "  ('analphabétisme', 0.026993185461080416),\n",
       "  ('contredire', 0.026310384608885337)],\n",
       " 235: [('cliniquement', 0.029690206453134697),\n",
       "  ('préventive', 0.027977993480774736),\n",
       "  ('anti', 0.02766348697207593),\n",
       "  ('curatif', 0.02616727728036469),\n",
       "  ('déséquilibré', 0.026005551641478296),\n",
       "  ('thérapie', 0.02524605317237874),\n",
       "  ('restructurer', 0.02381428094236377),\n",
       "  ('indépendance', 0.023180109016573296),\n",
       "  ('terroir', 0.022547551247020226),\n",
       "  ('globalité', 0.021962277496457)],\n",
       " 236: [('transparent', 0.043799334278205176),\n",
       "  ('administration', 0.04265357477195394),\n",
       "  ('identifier', 0.041826554189849374),\n",
       "  ('différenciation', 0.039743585710473046),\n",
       "  ('fragiliser', 0.03254533795352804),\n",
       "  ('compétence', 0.029280299810640145),\n",
       "  ('adaptation', 0.02767829511902776),\n",
       "  ('émerger', 0.024547795054866733),\n",
       "  ('évènement', 0.024257448151905753),\n",
       "  ('éloigné', 0.023355579225117173)],\n",
       " 237: [('retourner', 0.13823137115602266),\n",
       "  ('déposer', 0.10795246057178766),\n",
       "  ('âne', 0.10530858335005704),\n",
       "  ('document', 0.09870374580537365),\n",
       "  ('boulevard', 0.09827175824466884),\n",
       "  ('mission', 0.08048736056634939),\n",
       "  ('systématiquement', 0.06589758845550682),\n",
       "  ('hôtel', 0.06471733630236516),\n",
       "  ('avenue', 0.06448697141440057),\n",
       "  ('plac', 0.052927222452393674)],\n",
       " 238: [('colère', 0.06264583885984983),\n",
       "  ('informé', 0.059017309901358284),\n",
       "  ('téléphone', 0.04139145631966785),\n",
       "  ('idée', 0.0374909241969038),\n",
       "  ('vo', 0.036138972424845935),\n",
       "  ('mobile', 0.03342004064263284),\n",
       "  ('retourner', 0.03133889286346828),\n",
       "  ('grlgny91', 0.029436367628944655),\n",
       "  ('fixe', 0.028178152942163696),\n",
       "  ('réchauffement', 0.02667667737730754)],\n",
       " 239: [('cofinancer', 0.054854165402918674),\n",
       "  ('compétitif', 0.03974092842346378),\n",
       "  ('réponse', 0.038028048191029694),\n",
       "  ('concurrent', 0.037517104779457626),\n",
       "  ('écologique', 0.036631882557847426),\n",
       "  ('dégrader', 0.03409028390443526),\n",
       "  ('transition', 0.030093622593466932),\n",
       "  ('climat', 0.029855444925006323),\n",
       "  ('biodiversité', 0.028424425521292474),\n",
       "  ('environnement', 0.028198491461709416)],\n",
       " 240: [('légalisation', 0.03365578852471834),\n",
       "  ('euthanasie', 0.0327751595415427),\n",
       "  ('mourir', 0.031188854459750042),\n",
       "  ('ifop', 0.027312651794584402),\n",
       "  ('létal', 0.02718275524743424),\n",
       "  ('actif', 0.024782580341200434),\n",
       "  ('décéder', 0.02405860224406945),\n",
       "  ('sondage', 0.024053584654394267),\n",
       "  ('intégrer', 0.01753384285854484),\n",
       "  ('réanimation', 0.01744826332606723)],\n",
       " 241: [('sdi', 0.06375937595500092),\n",
       "  ('acheminer', 0.054598231321700136),\n",
       "  ('collégien', 0.05310571424287835),\n",
       "  ('million', 0.04858490313450364),\n",
       "  ('inspection', 0.04854437109141551),\n",
       "  ('lycéen', 0.046082890485588945),\n",
       "  ('incendie', 0.04450549531441507),\n",
       "  ('apprenti', 0.04222120099640315),\n",
       "  ('diagnostic', 0.041215240584620706),\n",
       "  ('secours', 0.03683526971204464)],\n",
       " 242: [('modalité', 0.1651773524561071),\n",
       "  ('intégration', 0.12029161008841274),\n",
       "  ('efficace', 0.08582969773180363),\n",
       "  ('citoyenneté', 0.08118583873089778),\n",
       "  ('exprimer', 0.059416777832761294),\n",
       "  ('point', 0.04913600640729315),\n",
       "  ('hui', 0.044064409323816014),\n",
       "  ('démocratie', 0.04381423290360551),\n",
       "  ('aujourd', 0.043708462272727115),\n",
       "  ('réponse', 0.03871540523992593)],\n",
       " 243: [('domaîne', 0.008548636140428632),\n",
       "  ('populiste', 0.004909478407617393),\n",
       "  ('naître', 0.0043558876264407),\n",
       "  ('âgé', 0.004257405951894515),\n",
       "  ('logement', 0.004155740664650376),\n",
       "  ('dépendant', 0.004131519876598868),\n",
       "  ('aube', 0.004125739489056765),\n",
       "  ('famille', 0.003865994373019848),\n",
       "  ('anah', 0.003828952832580893),\n",
       "  ('technologie', 0.0037540202430458866)],\n",
       " 244: [('électronique', 0.03373753073105172),\n",
       "  ('contenu', 0.032665440798054876),\n",
       "  ('méthodologique', 0.031234468388657576),\n",
       "  ('0800', 0.03079561739877923),\n",
       "  ('244', 0.03028305373306816),\n",
       "  ('familier', 0.030233556056327434),\n",
       "  ('pluralisme', 0.029935906489108613),\n",
       "  ('recueillir', 0.02970318494629888),\n",
       "  ('kit', 0.02804592465234092),\n",
       "  ('concitoyen', 0.02715498850386385)],\n",
       " 245: [('asile', 0.020691121678831508),\n",
       "  ('tradition', 0.01990258457227421),\n",
       "  ('laïcité', 0.019186552095482937),\n",
       "  ('2nd', 0.01851844744398414),\n",
       "  ('institution', 0.017947380938469027),\n",
       "  ('perceptible', 0.017777106991893284),\n",
       "  ('million', 0.017544718790154127),\n",
       "  ('figurer', 0.014594395978255952),\n",
       "  ('citoyenneté', 0.014453452477504482),\n",
       "  ('principe', 0.014378910452061501)],\n",
       " 246: [('certifier', 0.09335650777712463),\n",
       "  ('préfet', 0.09301249589811166),\n",
       "  ('porter', 0.09015473801504172),\n",
       "  ('attestation', 0.08720577381840748),\n",
       "  ('numéro', 0.07211769516317129),\n",
       "  ('43', 0.0641223304270652),\n",
       "  ('expression', 0.06095624515670054),\n",
       "  ('délégation', 0.05905315881400769),\n",
       "  ('lancer', 0.05174917889568252),\n",
       "  ('remise', 0.04466739979108918)],\n",
       " 247: [('sarl', 0.04054854820312958),\n",
       "  ('gérant', 0.04052189076701793),\n",
       "  ('dividende', 0.03984692916112484),\n",
       "  ('majoritaire', 0.03483153155402022),\n",
       "  ('risque', 0.030179017512002866),\n",
       "  ('littéralement', 0.026979091890522083),\n",
       "  ('cotisation', 0.026838076077421197),\n",
       "  ('insoutenable', 0.026270014022427925),\n",
       "  ('cahuzac', 0.026162769503970805),\n",
       "  ('investissant', 0.026027339113555672)],\n",
       " 248: [('transaction', 0.06572848094651855),\n",
       "  ('effaçon', 0.03665934584903386),\n",
       "  ('financier', 0.03351281101504522),\n",
       "  ('financement', 0.02734659321293934),\n",
       "  ('axer', 0.027191550187301444),\n",
       "  ('taxéet', 0.021176068704071845),\n",
       "  ('taxaer', 0.021176068704071845),\n",
       "  ('défrest', 0.021176068704071845),\n",
       "  ('suffisset', 0.021176068704071845),\n",
       "  ('tobbing', 0.021176068704071845)],\n",
       " 249: [('grignoise', 0.11750517424148768),\n",
       "  ('grignoi', 0.06664132829216078),\n",
       "  ('grigny91', 0.062290862607035515),\n",
       "  ('atelier', 0.036145886979165286),\n",
       "  ('synthèse', 0.030957236938928184),\n",
       "  ('www', 0.027753305299594237),\n",
       "  ('redistribution', 0.02664100827974922),\n",
       "  ('revendication', 0.02508762250946061),\n",
       "  ('concertation', 0.02345586915527215),\n",
       "  ('remonter', 0.02307952872794522)],\n",
       " 250: [('humble', 0.02094031678078117),\n",
       "  ('ministre', 0.018473717912571217),\n",
       "  ('ancien', 0.018111303083223656),\n",
       "  ('diminuer', 0.018019518543958286),\n",
       "  ('requête', 0.01486947211526736),\n",
       "  ('sénateur', 0.014603489929167468),\n",
       "  ('président', 0.014590176025044314),\n",
       "  ('avantage', 0.013844723397565635),\n",
       "  ('reduire', 0.013673001681817497),\n",
       "  ('apercevoir', 0.01311249651741003)],\n",
       " 251: [('alternatif', 0.03220104711665051),\n",
       "  ('chauffage', 0.020756061750588774),\n",
       "  ('environnement', 0.020612286181622683),\n",
       "  ('vou', 0.0176825680062381),\n",
       "  ('oui', 0.016814731543197844),\n",
       "  ('convaincre', 0.01576574605748218),\n",
       "  ('comportement', 0.015609637982197729),\n",
       "  ('solution', 0.014155136854871474),\n",
       "  ('faveur', 0.01386008926760168),\n",
       "  ('destinataire', 0.013778200981889071)],\n",
       " 252: [('asile', 0.06750282843918166),\n",
       "  ('délivrer', 0.03905085600380584),\n",
       "  ('progresser', 0.03783874465617394),\n",
       "  ('séjour', 0.034977617726258264),\n",
       "  ('intégration', 0.032671128367357596),\n",
       "  ('16e', 0.03135543560288283),\n",
       "  ('migratoire', 0.03026166454854244),\n",
       "  ('persécuter', 0.029499790382358313),\n",
       "  ('incivique', 0.02886787554292689),\n",
       "  ('décroître', 0.028780283299861768)],\n",
       " 253: [('vaccin', 0.07024313836990688),\n",
       "  ('vaccination', 0.047288283500088936),\n",
       "  ('vacciner', 0.022036421507117945),\n",
       "  ('vaccinal', 0.019563608536573452),\n",
       "  ('aluminium', 0.018966365785108696),\n",
       "  ('immunitaire', 0.01537377278394147),\n",
       "  ('maladie', 0.013197455072207223),\n",
       "  ('vacciné', 0.01258188139902297),\n",
       "  ('tétanos', 0.012315443626742873),\n",
       "  ('polio', 0.011882887987966138)],\n",
       " 254: [('réponse', 0.03860836175942532),\n",
       "  ('dépense', 0.034292747356270456),\n",
       "  ('domaine', 0.0326967566715491),\n",
       "  ('prioritaire', 0.028726761956058076),\n",
       "  ('baisser', 0.024858263055223758),\n",
       "  ('06', 0.023072187048703136),\n",
       "  ('priorité', 0.021717890600544403),\n",
       "  ('territorial', 0.018875675863191277),\n",
       "  ('05', 0.018719999257877082),\n",
       "  ('protection', 0.01853259067460669)],\n",
       " 255: [('démission', 0.8299766927973067),\n",
       "  ('macron', 0.40991326461549776),\n",
       "  ('demission', 0.14449760687043028),\n",
       "  ('démissionner', 0.13428128253253327),\n",
       "  ('macro', 0.10715536538451295),\n",
       "  ('perut', 0.09431011259723408),\n",
       "  ('demissionn', 0.09431011259723408),\n",
       "  ('zero', 0.05462344899781726),\n",
       "  ('final', 0.05248011948430234),\n",
       "  ('45', 0.041270383103931836)],\n",
       " 256: [('vieux', 0.017550913927429565),\n",
       "  ('concret', 0.015914677142458516),\n",
       "  ('chaudière', 0.014460664807650573),\n",
       "  ('améliorer', 0.013414300677467393),\n",
       "  ('supportable', 0.01269710913887637),\n",
       "  ('défi', 0.012571316654676866),\n",
       "  ('solution', 0.012391692315646095),\n",
       "  ('concevoir', 0.012110568380663732),\n",
       "  ('chauffer', 0.011008867289784938),\n",
       "  ('scientifiquement', 0.010989055668316693)],\n",
       " 257: [('patron', 0.022109762568749653),\n",
       "  ('sarl', 0.02208911824933972),\n",
       "  ('entrepreneur', 0.02117842359535171),\n",
       "  ('gérant', 0.021177602366604303),\n",
       "  ('dividende', 0.020974903477197156),\n",
       "  ('risque', 0.019730096274775077),\n",
       "  ('majoritaire', 0.018235456351823554),\n",
       "  ('vitrier', 0.017677486329634444),\n",
       "  ('peintre', 0.017430126030237112),\n",
       "  ('courroie', 0.01742667481770292)],\n",
       " 258: [('ric', 0.5206599202635092),\n",
       "  ('matière', 0.24390993906201303),\n",
       "  ('matiere', 0.09194986473384897),\n",
       "  ('reboll', 0.08522930131308255),\n",
       "  ('tournigand', 0.08522930131308255),\n",
       "  ('mati7re', 0.08522930131308255),\n",
       "  ('cruseille', 0.07192925922489805),\n",
       "  ('illimiter', 0.06541472894564357),\n",
       "  ('exige', 0.06469590100004095),\n",
       "  ('bisou', 0.05740809088424089)],\n",
       " 259: [('volaille', 0.09256329168873677),\n",
       "  ('conditionnement', 0.051558657086096804),\n",
       "  ('avicole', 0.04714679774723714),\n",
       "  ('vaccin', 0.043423204254787434),\n",
       "  ('éleveur', 0.04226706245565544),\n",
       "  ('millier', 0.03405072344868955),\n",
       "  ('aviculture', 0.029453483721872554),\n",
       "  ('élevage', 0.028234726327474195),\n",
       "  ('amateur', 0.02640380700515353),\n",
       "  ('race', 0.021371636681876)],\n",
       " 260: [('facultatif', 0.39807490730375006),\n",
       "  ('cocher', 0.20317785781284947),\n",
       "  ('thème', 0.07071773252234034),\n",
       "  ('choisi', 0.06194939929426324),\n",
       "  ('date', 0.05707366455933308),\n",
       "  ('contribution', 0.054424943601541154),\n",
       "  ('prénom', 0.05127791590663246),\n",
       "  ('adresse', 0.04963969403084719),\n",
       "  ('nom', 0.04368376941330725),\n",
       "  ('prenom', 0.04007099090874799)],\n",
       " 261: [('passionnément', 0.048379965945647),\n",
       "  ('trithoise', 0.0437091312886792),\n",
       "  ('trithoi', 0.0402905223687546),\n",
       "  ('coeur', 0.03425497975848783),\n",
       "  ('hexagone', 0.0338528116848129),\n",
       "  ('décliner', 0.032026188531277075),\n",
       "  ('coin', 0.02574971261497433),\n",
       "  ('regretter', 0.025487812620426573),\n",
       "  ('revendication', 0.02524693838426937),\n",
       "  ('espérance', 0.02523395529183842)],\n",
       " 262: [('illisible', 3.7356294951684244),\n",
       "  ('', 1e-05),\n",
       "  ('', 1e-05),\n",
       "  ('', 1e-05),\n",
       "  ('', 1e-05),\n",
       "  ('', 1e-05),\n",
       "  ('', 1e-05),\n",
       "  ('', 1e-05),\n",
       "  ('', 1e-05),\n",
       "  ('', 1e-05)],\n",
       " 263: [('ix', 2.618675191256089),\n",
       "  ('²x', 1.4732493512689981),\n",
       "  ('dollar', 1.0454867133625128),\n",
       "  ('mage', 0.9500635555453321),\n",
       "  ('', 1e-05),\n",
       "  ('', 1e-05),\n",
       "  ('', 1e-05),\n",
       "  ('', 1e-05),\n",
       "  ('', 1e-05),\n",
       "  ('', 1e-05)],\n",
       " 264: [('pib', 0.032373429712888056),\n",
       "  ('élevé', 0.02625269340255816),\n",
       "  ('dépense', 0.02039922112040145),\n",
       "  ('financ', 0.017219549023802145),\n",
       "  ('recourir', 0.014122784820134604),\n",
       "  ('marquer', 0.013215908446893021),\n",
       "  ('financer', 0.013118969436017683),\n",
       "  ('prélèvement', 0.012827071520463553),\n",
       "  ('diagnostic', 0.012776201903820134),\n",
       "  ('collecter', 0.012206331358955146)],\n",
       " 265: [('doélance', 0.09968751999873801),\n",
       "  ('cahuzac', 0.09233349433078668),\n",
       "  ('littéralement', 0.08603015430411559),\n",
       "  ('poumon', 0.08592911347148688),\n",
       "  ('notr', 0.08189142992905521),\n",
       "  ('étouffer', 0.08110585854299729),\n",
       "  ('aberration', 0.07724392966141809),\n",
       "  ('sarl', 0.0732554660117143),\n",
       "  ('soumettre', 0.07268581722212414),\n",
       "  ('gérant', 0.07128079832320297)],\n",
       " 266: [('légalisation', 0.03268651568673186),\n",
       "  ('euthanasie', 0.03082073263133461),\n",
       "  ('mourir', 0.03048188720618359),\n",
       "  ('ifop', 0.027128923650047976),\n",
       "  ('létal', 0.02606089952881021),\n",
       "  ('actif', 0.02421211921935883),\n",
       "  ('sondage', 0.023638956703220505),\n",
       "  ('décéder', 0.02336572441540202),\n",
       "  ('réanimation', 0.016945760533729693),\n",
       "  ('contraception', 0.01661421649427911)],\n",
       " 267: [('ville', 0.06743923901644228),\n",
       "  ('centre', 0.04404883512906459),\n",
       "  ('recu', 0.02060068694772844),\n",
       "  ('naval', 0.018629640506479653),\n",
       "  ('bétonner', 0.018134331697801296),\n",
       "  ('bétigneu', 0.017749992183963836),\n",
       "  ('débill', 0.017749992183963836),\n",
       "  ('duplexe', 0.017749992183963836),\n",
       "  ('tociol', 0.017749992183963836),\n",
       "  ('chevalin', 0.017749992183963836)],\n",
       " 268: [('tva', 0.009291291619742958),\n",
       "  ('prix', 0.008454232582553158),\n",
       "  ('produit', 0.006229969761267936),\n",
       "  ('ehpad', 0.005925262054341357),\n",
       "  ('alimentaire', 0.005641122110434431),\n",
       "  ('pourcent', 0.0053661888711781834),\n",
       "  ('luxe', 0.005189503724750778),\n",
       "  ('reverser', 0.004874202201515854),\n",
       "  ('pla', 0.004595167111279004),\n",
       "  ('gaz', 0.004465637720856775)],\n",
       " 269: [('pertinent', 0.031150041765675558),\n",
       "  ('problématique', 0.028727182330264486),\n",
       "  ('thème', 0.02856105891860097),\n",
       "  ('facultatif', 0.024004173021737966),\n",
       "  ('débattre', 0.023346221724870275),\n",
       "  ('coordonnée', 0.02267176844844724),\n",
       "  ('majeur', 0.022643636405507227),\n",
       "  ('préciser', 0.019095892050843583),\n",
       "  ('envisager', 0.018873073060030526),\n",
       "  ('essentiel', 0.015319579059666837)],\n",
       " 270: [('cmu', 0.04081283324125665),\n",
       "  ('confondre', 0.032474274674694145),\n",
       "  ('ata', 0.027390914353140314),\n",
       "  ('cumul', 0.025670442390519292),\n",
       "  ('surnombre', 0.02541286443628608),\n",
       "  ('exiger', 0.021449590700538135),\n",
       "  ('pillage', 0.020883304468619725),\n",
       "  ('réélire', 0.020775571479973127),\n",
       "  ('monarchie', 0.020431613828270183),\n",
       "  ('effectif', 0.019338502388159894)],\n",
       " 271: [('probablement', 0.043834609196335556),\n",
       "  ('solaire', 0.028333247671953943),\n",
       "  ('détail', 0.027509720975936788),\n",
       "  ('cop24', 0.027013179561845103),\n",
       "  ('agneau', 0.025860424857074724),\n",
       "  ('moulin', 0.025450905185035393),\n",
       "  ('mondialisation', 0.024224426506999387),\n",
       "  ('bilan', 0.023222644520554152),\n",
       "  ('paradigme', 0.021903742255715886),\n",
       "  ('atomique', 0.021478174705920325)],\n",
       " 272: [('expressif', 0.04621468913075756),\n",
       "  ('revendicatif', 0.03924243142573388),\n",
       "  ('illustrer', 0.03310773713766935),\n",
       "  ('désir', 0.028428836869860627),\n",
       "  ('échanger', 0.027530863857956632),\n",
       "  ('plateforme', 0.023104087682980633),\n",
       "  ('communiquer', 0.022903074532700213),\n",
       "  ('contenu', 0.021738792778663557),\n",
       "  ('envie', 0.021399596739945004),\n",
       "  ('contexte', 0.020286636833796143)],\n",
       " 273: [('voisin', 0.34012202497644706),\n",
       "  ('pareil', 0.0992162747346916),\n",
       "  ('truelle', 0.0587606380954219),\n",
       "  ('militari', 0.05256007245294356),\n",
       "  ('charpentier', 0.05176444204939115),\n",
       "  ('squatter', 0.05138124536938805),\n",
       "  ('potièr', 0.05063903491941618),\n",
       "  ('cauchemar', 0.04906795372888425),\n",
       "  ('refaire', 0.048917992040229924),\n",
       "  ('fils', 0.04821827990534924)],\n",
       " 274: [('couverture', 0.048787901015912474),\n",
       "  ('remédiation', 0.047635344717711955),\n",
       "  ('difficulté', 0.04667043193798949),\n",
       "  ('insatisfaisant', 0.046514476309991476),\n",
       "  ('instamment', 0.0457587458020887),\n",
       "  ('réservation', 0.04105017150872783),\n",
       "  ('visiteur', 0.03914111283534626),\n",
       "  ('abonné', 0.038015500667911095),\n",
       "  ('impossibiliter', 0.03524794539420763),\n",
       "  ('prestataire', 0.03422695920182683)],\n",
       " 275: [('préventive', 0.029259805667964944),\n",
       "  ('cliniquement', 0.02900406573201216),\n",
       "  ('anti', 0.028445768407145477),\n",
       "  ('curatif', 0.02736613147791839),\n",
       "  ('déséquilibré', 0.02653365500144635),\n",
       "  ('thérapie', 0.02527918226208371),\n",
       "  ('indépendance', 0.025078040747296283),\n",
       "  ('restructurer', 0.023690438305632975),\n",
       "  ('terroir', 0.023473565633964306),\n",
       "  ('globalité', 0.022344612881953895)],\n",
       " 276: [('sdi', 0.041204318388710505),\n",
       "  ('acheminer', 0.035049249495597755),\n",
       "  ('collégien', 0.033279436900276425),\n",
       "  ('inspection', 0.03064209046640723),\n",
       "  ('lycéen', 0.029780939091693742),\n",
       "  ('million', 0.029732819856464424),\n",
       "  ('incendie', 0.028761551873981096),\n",
       "  ('apprenti', 0.0248048482360725),\n",
       "  ('diagnostic', 0.024439094159309258),\n",
       "  ('secours', 0.024385292226401206)],\n",
       " 277: [('milliard', 0.03992858312044965),\n",
       "  ('fortun', 0.035928992458861435),\n",
       "  ('dollar', 0.025986665907954974),\n",
       "  ('md', 0.016758285871570976),\n",
       "  ('euro', 0.013131748762293623),\n",
       "  ('milliardaire', 0.01161053745081727),\n",
       "  ('fortune', 0.00962676942740364),\n",
       "  ('comptespublics', 0.008177689070636675),\n",
       "  ('dette', 0.007628932941541135),\n",
       "  ('pourcent', 0.007241162042213264)],\n",
       " 278: [('déclenchement', 0.02336747878031181),\n",
       "  ('applicable', 0.019196995570018773),\n",
       "  ('consulter', 0.014510920682353216),\n",
       "  ('initiative', 0.014177943566127296),\n",
       "  ('oui', 0.012910760167347516),\n",
       "  ('jouer', 0.01278021745341823),\n",
       "  ('transformer', 0.01260858985279776),\n",
       "  ('associer', 0.012078682854453583),\n",
       "  ('parlement', 0.0114691946543442),\n",
       "  ('sort', 0.011298975427500677)],\n",
       " 279: [('littéralement', 0.08875022535931924),\n",
       "  ('cahuzac', 0.08826520046293009),\n",
       "  ('poumon', 0.08648389253981069),\n",
       "  ('étouffer', 0.07968593805029776),\n",
       "  ('notr', 0.07573742662522377),\n",
       "  ('soumettre', 0.07498397173723541),\n",
       "  ('aberration', 0.0741266985738506),\n",
       "  ('sarl', 0.07029919207553705),\n",
       "  ('gérant', 0.06840421343875086),\n",
       "  ('équipe', 0.05964637082427503)],\n",
       " 280: [('représenta', 0.03160251964645487),\n",
       "  ('xad', 0.027406505700371165),\n",
       "  ('tion', 0.025475491320389024),\n",
       "  ('vation', 0.01870984280913735),\n",
       "  ('préser', 0.017499842283827925),\n",
       "  ('douloureuser', 0.015161924837585824),\n",
       "  ('biodiversité', 0.014074537830426026),\n",
       "  ('impérieux', 0.013414282676223304),\n",
       "  ('conteste', 0.012951839238210206),\n",
       "  ('transition', 0.012478713111096818)],\n",
       " 281: [('administration', 0.02805321432614274),\n",
       "  ('sdi', 0.021489346933499926),\n",
       "  ('transparent', 0.018397688102286484),\n",
       "  ('acheminer', 0.01837924991577595),\n",
       "  ('collégien', 0.01789865569452788),\n",
       "  ('agent', 0.017694226677951546),\n",
       "  ('identifier', 0.017284348450865534),\n",
       "  ('million', 0.01637496954055346),\n",
       "  ('inspection', 0.015980813141681063),\n",
       "  ('service', 0.01579249300648553)],\n",
       " 282: [('bus', 0.08758800100372412),\n",
       "  ('ticket', 0.06219608414764276),\n",
       "  ('train', 0.03367730403199756),\n",
       "  ('transport', 0.026937554312609968),\n",
       "  ('métro', 0.024226365938566124),\n",
       "  ('2h', 0.01800439692769459),\n",
       "  ('fontainebleau', 0.017638958408939573),\n",
       "  ('roseau', 0.016092991749452498),\n",
       "  ('marquis', 0.015274813365520917),\n",
       "  ('valable', 0.015240764655815826)],\n",
       " 283: [('satisfaction', 0.27137288601962223),\n",
       "  ('tableau', 0.23240885352142024),\n",
       "  ('mentionner', 0.15837078368523108),\n",
       "  ('évènement', 0.15504556508732226),\n",
       "  ('ci', 0.13116802143032363),\n",
       "  ('dessous', 0.13093679039019893),\n",
       "  ('indiquer', 0.11519804037880724),\n",
       "  ('difficulté', 0.11497556651187311),\n",
       "  ('élément', 0.1104212515842329),\n",
       "  ('rencontrer', 0.10828479853620539)],\n",
       " 284: [('fiche', 0.05110106513725565),\n",
       "  ('conférence', 0.04619709830734306),\n",
       "  ('parisien', 0.04547011009691747),\n",
       "  ('décliner', 0.04258965908603336),\n",
       "  ('consensus', 0.03715947418026369),\n",
       "  ('rencontrer', 0.03559505207731642),\n",
       "  ('organisateur', 0.027050197744143845),\n",
       "  ('arrondissement', 0.026806639208954517),\n",
       "  ('dysfonctionnement', 0.02583183184986639),\n",
       "  ('indique', 0.025165598817070915)],\n",
       " 285: [('vétérinaire', 0.08475311665697575),\n",
       "  ('probite', 0.04637408811870185),\n",
       "  ('sanitaire', 0.0414250643978931),\n",
       "  ('rassurer', 0.03709044474421835),\n",
       "  ('organique', 0.03592143108000983),\n",
       "  ('vertu', 0.035741373794528464),\n",
       "  ('confrère', 0.0336603259940145),\n",
       "  ('consoeur', 0.03220113643353725),\n",
       "  ('délai', 0.03142983305079946),\n",
       "  ('contentieux', 0.02833061845293289)],\n",
       " 286: [('synthèse', 0.04341553864223239),\n",
       "  ('parole', 0.036537375529829864),\n",
       "  ('anonyme', 0.03581622595736528),\n",
       "  ('précis', 0.03020374925613487),\n",
       "  ('intéresser', 0.026795040882874956),\n",
       "  ('douche', 0.02411322345563061),\n",
       "  ('déposer', 0.02317887946730222),\n",
       "  ('suggestion', 0.022652298894961745),\n",
       "  ('remonter', 0.022037486500037125),\n",
       "  ('solliciter', 0.021830221203059122)],\n",
       " 287: [('malaise', 0.025124748179392344),\n",
       "  ('lumière', 0.024196362891625935),\n",
       "  ('initier', 0.023819422940314125),\n",
       "  ('espoir', 0.021276728159264492),\n",
       "  ('existence', 0.019986909098034657),\n",
       "  ('profond', 0.018550755633295415),\n",
       "  ('novembre', 0.017919399809438036),\n",
       "  ('largement', 0.015400414515331856),\n",
       "  ('sein', 0.013726879641033547),\n",
       "  ('message', 0.012719441458116942)],\n",
       " 288: [('laïcité', 0.04958681682140124),\n",
       "  ('réciproque', 0.04228303572412707),\n",
       "  ('intangible', 0.042081496434744244),\n",
       "  ('religion', 0.039415085988565364),\n",
       "  ('renforcer', 0.03818301628833669),\n",
       "  ('compréhension', 0.03613930023783904),\n",
       "  ('engagement', 0.03182059763046048),\n",
       "  ('application', 0.02511501229749182),\n",
       "  ('garantir', 0.024640008121211927),\n",
       "  ('valeur', 0.021126917846698026)],\n",
       " 289: [('cognac', 0.07024323449255498),\n",
       "  ('facultatif', 0.042113584044878756),\n",
       "  ('page', 0.02712772518071143),\n",
       "  ('grandechampagne', 0.026433182891616613),\n",
       "  ('reponse', 0.023242442523296075),\n",
       "  ('poster', 0.022872101564106868),\n",
       "  ('sgautier', 0.021811159231445845),\n",
       "  ('inbox', 0.018728147320297164),\n",
       "  ('nsf', 0.017911308053390237),\n",
       "  ('accusé', 0.01768504125457648)],\n",
       " 290: [('st', 0.37473649964937356),\n",
       "  ('savin', 0.19673513064465728),\n",
       "  ('germain', 0.19665095599582041),\n",
       "  ('antigny', 0.15717863049717123),\n",
       "  ('69110', 0.1294809405186501),\n",
       "  ('minault', 0.09164627168245944),\n",
       "  ('poitier', 0.04622900896975624),\n",
       "  ('pigeaud', 0.0448007564077277),\n",
       "  ('mulatière', 0.0448007564077277),\n",
       "  ('doleance', 0.04365768808931552)],\n",
       " 291: [('migratoire', 0.06256261380944471),\n",
       "  ('immigration', 0.03848978332624419),\n",
       "  ('définir', 0.03514652889569704),\n",
       "  ('critère', 0.030809249513892387),\n",
       "  ('durer', 0.029318473057515317),\n",
       "  ('asile', 0.028026247048874863),\n",
       "  ('contrepartie', 0.02698427764008875),\n",
       "  ('défi', 0.026196572998680872),\n",
       "  ('intégration', 0.024635152647790898),\n",
       "  ('remplir', 0.021850397957226604)],\n",
       " 292: [('assainissement', 0.06086605913450029),\n",
       "  ('autosurveillance', 0.05376419120422928),\n",
       "  ('ouvrage', 0.041434286881626786),\n",
       "  ('débitmètre', 0.03732582686371734),\n",
       "  ('préleveur', 0.03575049947872711),\n",
       "  ('gast', 0.03180541650359762),\n",
       "  ('bullage', 0.03041253019112793),\n",
       "  ('description', 0.02963775004987196),\n",
       "  ('station', 0.027271508540065426),\n",
       "  ('prescription', 0.02560245116729211)],\n",
       " 293: [('pension', 0.04806586249525386),\n",
       "  ('deçà', 0.04025527168461678),\n",
       "  ('ajustement', 0.034422407633255284),\n",
       "  ('majoration', 0.032200077403545656),\n",
       "  ('variable', 0.031648891433843314),\n",
       "  ('retraité', 0.030239590709364886),\n",
       "  ('perte', 0.029594314659354814),\n",
       "  ('maintien', 0.02833599303357248),\n",
       "  ('rattrapage', 0.027658227320848956),\n",
       "  ('revendiquer', 0.024910562049864096)],\n",
       " 294: [('février', 0.2981615392441719),\n",
       "  ('néant', 0.26050910104294356),\n",
       "  ('peyzieux', 0.1875044628887816),\n",
       "  ('rapin', 0.16753090149639824),\n",
       "  ('cahin', 0.16230092207708627),\n",
       "  ('dunkerqu', 0.14087626377820406),\n",
       "  ('mme', 0.1407636012208308),\n",
       "  ('garcia', 0.13496251023980974),\n",
       "  ('orgon', 0.13398007326871172),\n",
       "  ('diamant', 0.12138885835226855)],\n",
       " 295: [('métropole', 0.019019490267223035),\n",
       "  ('saône', 0.01614369245613869),\n",
       "  ('lyonnais', 0.014186815980196036),\n",
       "  ('sur', 0.011859633963278425),\n",
       "  ('réconciliation', 0.01177754487975283),\n",
       "  ('dor', 0.011675874669510375),\n",
       "  ('délibératif', 0.011616285351226444),\n",
       "  ('maire', 0.011297057924249733),\n",
       "  ('dvr', 0.011176933932691513),\n",
       "  ('initier', 0.01047284592520373)],\n",
       " 296: [('exporte', 0.006352876179717273),\n",
       "  ('bonus', 0.005062948234430352),\n",
       "  ('picenciement', 0.004681085880738626),\n",
       "  ('turenne', 0.004681085880738626),\n",
       "  ('charge', 0.004415091767161656),\n",
       "  ('tipp', 0.0042208407892460695),\n",
       "  ('exportation', 0.004029675099618378),\n",
       "  ('embaucher', 0.0039812937254559986),\n",
       "  ('import', 0.003826888824743658),\n",
       "  ('malus', 0.0036644897771180903)],\n",
       " 297: [('incivilité', 0.08010314165156428),\n",
       "  ('civique', 0.058445065135421304),\n",
       "  ('collective', 0.05156641972589864),\n",
       "  ('comportement', 0.04666785763589128),\n",
       "  ('engagement', 0.04587414483224089),\n",
       "  ('pénible', 0.045275018550183295),\n",
       "  ('quotidien', 0.03397144340837751),\n",
       "  ('promouvoir', 0.03381772310465732),\n",
       "  ('parcours', 0.033539766182425906),\n",
       "  ('valoriser', 0.030897010020560375)],\n",
       " 298: [('tradition', 0.050358940504376504),\n",
       "  ('laïcité', 0.047030084507534244),\n",
       "  ('figurer', 0.035450671416743976),\n",
       "  ('principe', 0.03514114665936067),\n",
       "  ('associatif', 0.03131438435519872),\n",
       "  ('juridique', 0.02956905480011754),\n",
       "  ('vivace', 0.02925461988153786),\n",
       "  ('repli', 0.025013636701446414),\n",
       "  ('tentation', 0.024996970775250944),\n",
       "  ('liberté', 0.02467701840715929)],\n",
       " 299: [('questionnaire', 3.079051166260116),\n",
       "  ('incompréhensible', 0.08428280878248984),\n",
       "  ('grand', 0.0064950059338178615),\n",
       "  ('', 1e-05),\n",
       "  ('', 1e-05),\n",
       "  ('', 1e-05),\n",
       "  ('', 1e-05),\n",
       "  ('', 1e-05),\n",
       "  ('', 1e-05),\n",
       "  ('', 1e-05)],\n",
       " 300: [('amif', 0.1182521410296055),\n",
       "  ('asso', 0.07834804681881895),\n",
       "  ('secretariat', 0.0575415156965059),\n",
       "  ('envoyez', 0.023450445596056562),\n",
       "  ('attention', 0.023019796127179606),\n",
       "  ('traiter', 0.021794257533457505),\n",
       "  ('association', 0.021184019731540677),\n",
       "  ('fr', 0.020449847884782733),\n",
       "  ('ordre', 0.018202873335360338),\n",
       "  ('envoyer', 0.018119817416195005)],\n",
       " 301: [('ric', 0.12534001640689085),\n",
       "  ('augmentation', 0.0470664023747824),\n",
       "  ('smic', 0.035444442660773456),\n",
       "  ('vitto', 0.026996715860950232),\n",
       "  ('khalfour', 0.026996715860950232),\n",
       "  ('achat', 0.019738154102494517),\n",
       "  ('pester', 0.019581317508031756),\n",
       "  ('isf', 0.018166585385299368),\n",
       "  ('csg', 0.01755667119892133),\n",
       "  ('enlever', 0.017289394546132954)],\n",
       " 302: [('phase', 0.07939006451419274),\n",
       "  ('ème', 0.06923758308826652),\n",
       "  ('qualificatif', 0.05547114678149484),\n",
       "  ('pétition', 0.0527794488715142),\n",
       "  ('conjonction', 0.030260684223513717),\n",
       "  ('anecdotique', 0.030106884724688292),\n",
       "  ('adjectif', 0.03008994898328481),\n",
       "  ('transposition', 0.029368966147938592),\n",
       "  ('rig', 0.02899511099835348),\n",
       "  ('ponctuellement', 0.027902047883001397)],\n",
       " 303: [('submission', 0.08714984921168682),\n",
       "  ('displays', 0.0820971337328025),\n",
       "  ('vaureal', 0.05601925656441296),\n",
       "  ('general', 0.04393311767945473),\n",
       "  ('data', 0.03653948882924592),\n",
       "  ('information', 0.034060881554810477),\n",
       "  ('soumission', 0.030168345349909687),\n",
       "  ('demande', 0.02618266538749861),\n",
       "  ('admin', 0.02596958536490822),\n",
       "  ('page', 0.022248091118195017)],\n",
       " 304: [('laïcité', 0.025981899654838738),\n",
       "  ('loyauté', 0.024013404089091143),\n",
       "  ('persécution', 0.02360843622300286),\n",
       "  ('déterminant', 0.023171390862320618),\n",
       "  ('bousculer', 0.022014482168903154),\n",
       "  ('synonyme', 0.02121060202188924),\n",
       "  ('nation', 0.02119844056202747),\n",
       "  ('refuge', 0.021179345178972096),\n",
       "  ('défaillance', 0.021107171343265767),\n",
       "  ('philosophique', 0.020857681403231517)],\n",
       " 305: [('culture', 0.027380730931283074),\n",
       "  ('promulgation', 0.02618968078530778),\n",
       "  ('inclusion', 0.025394272595468063),\n",
       "  ('mobilité', 0.023913867692665153),\n",
       "  ('embauche', 0.023216686755789084),\n",
       "  ('quorum', 0.02312292763919235),\n",
       "  ('essai', 0.022723987880038536),\n",
       "  ('succession', 0.022500610816796714),\n",
       "  ('réévaluation', 0.022401967538727106),\n",
       "  ('quotient', 0.02216997974447123)],\n",
       " 306: [('évoluer', 0.06127275120638837),\n",
       "  ('démocratie', 0.05764729508502511),\n",
       "  ('pratique', 0.05739738428481914),\n",
       "  ('efficace', 0.050732780449354864),\n",
       "  ('citoyenneté', 0.04798785782517303),\n",
       "  ('etat', 0.04348071304434902),\n",
       "  ('organisation', 0.03485006285843234),\n",
       "  ('collectivité', 0.03389662010481304),\n",
       "  ('démarche', 0.01646158328981189),\n",
       "  ('public', 0.016018282948059966)],\n",
       " 307: [('inflation', 0.027918803229037097),\n",
       "  ('indexation', 0.02624224419433197),\n",
       "  ('évasion', 0.021624564776895498),\n",
       "  ('daculsi', 0.020510941332447498),\n",
       "  ('fougengation', 0.020510941332447498),\n",
       "  ('madry', 0.020510941332447498),\n",
       "  ('fiscal', 0.01965882723888279),\n",
       "  ('rétablissement', 0.017955337559133068),\n",
       "  ('damp', 0.0175555145846782),\n",
       "  ('injustifié', 0.014302771778496887)],\n",
       " 308: [('écosystème', 0.009558922222347034),\n",
       "  ('hydrolienne', 0.00955449103832987),\n",
       "  ('melunai', 0.009137323497115076),\n",
       "  ('troubler', 0.008683312002002641),\n",
       "  ('x92élu', 0.008609459117638898),\n",
       "  ('réconcilier', 0.007286089351431802),\n",
       "  ('x92est', 0.006819649775684501),\n",
       "  ('x92état', 0.006385914652262769),\n",
       "  ('géothermie', 0.006331345064714002),\n",
       "  ('thème', 0.006308655059735589)],\n",
       " 309: [('tva', 0.028710221784212772),\n",
       "  ('produit', 0.028026745945748735),\n",
       "  ('nécessité', 0.027229237596351135),\n",
       "  ('gaz', 0.01655866003834993),\n",
       "  ('gsoil', 0.016317635219751565),\n",
       "  ('grableic', 0.016317635219751565),\n",
       "  ('andrée', 0.016317635219751565),\n",
       "  ('cévaluatier', 0.016317635219751565),\n",
       "  ('conduité', 0.016317635219751565),\n",
       "  ('baisse', 0.014596919522589489)],\n",
       " 310: [('janvier', 0.2495679060225478),\n",
       "  ('mercredi', 0.23065086691145212),\n",
       "  ('tableau', 0.15117335148036826),\n",
       "  ('austole', 0.12890931823603735),\n",
       "  ('dupont21', 0.12890931823603735),\n",
       "  ('rue', 0.12881760145000984),\n",
       "  ('reunion', 0.12407853647850596),\n",
       "  ('joan', 0.12024539356147346),\n",
       "  ('alb', 0.12024539356147346),\n",
       "  ('try', 0.12024539356147346)],\n",
       " 311: [('déclenchement', 0.02873281098265746),\n",
       "  ('applicable', 0.022889460787071752),\n",
       "  ('initiative', 0.016338053432238014),\n",
       "  ('jouer', 0.016256526602279348),\n",
       "  ('consulter', 0.015750820947230345),\n",
       "  ('oui', 0.015480507496212513),\n",
       "  ('associer', 0.015395208378581542),\n",
       "  ('transformer', 0.014969000746602035),\n",
       "  ('sort', 0.014401411417695058),\n",
       "  ('faciliter', 0.014229157782146654)],\n",
       " 312: [('pension', 0.11102271768511578),\n",
       "  ('indexer', 0.04984633932173862),\n",
       "  ('revalorisation', 0.04962471264292909),\n",
       "  ('inflation', 0.04944689710600993),\n",
       "  ('indexation', 0.039489665862486714),\n",
       "  ('revesion', 0.03613411600902707),\n",
       "  ('fiché', 0.0317063686831196),\n",
       "  ('3ièm', 0.03038507650118127),\n",
       "  ('reversion', 0.026620625587597303),\n",
       "  ('retraite', 0.026601961624440496)],\n",
       " 313: [('maillon', 0.044004445417126045),\n",
       "  ('modération', 0.041529800403135635),\n",
       "  ('collectivement', 0.03991970111945342),\n",
       "  ('expression', 0.03918133004377375),\n",
       "  ('quotidiennement', 0.03799849425579795),\n",
       "  ('structurer', 0.036276846804042084),\n",
       "  ('messagerie', 0.03625599189880496),\n",
       "  ('ressenti', 0.03519376988343386),\n",
       "  ('disponibilité', 0.03417625638565881),\n",
       "  ('pacifique', 0.030959441719504228)],\n",
       " 314: [('nucléaire', 0.05440398759125581),\n",
       "  ('antidémocratie', 0.04642536337296787),\n",
       "  ('coloniau', 0.04642536337296787),\n",
       "  ('phagocytage', 0.046052872109118945),\n",
       "  ('cigeo', 0.045363424156670225),\n",
       "  ('scabreux', 0.04444371389497383),\n",
       "  ('liquidateur', 0.043140633224062495),\n",
       "  ('méandre', 0.04051037936434328),\n",
       "  ('corps', 0.03992843597744024),\n",
       "  ('radioactivité', 0.03953166895654992)],\n",
       " 315: [('redistribution', 0.053904549723525874),\n",
       "  ('déficit', 0.031528018661637035),\n",
       "  ('prestation', 0.03111710195844296),\n",
       "  ('allocation', 0.027987326618308737),\n",
       "  ('adulte', 0.026475217531694795),\n",
       "  ('dépense', 0.02395159318041415),\n",
       "  ('dire', 0.02366210719856575),\n",
       "  ('repose', 0.021548892682035303),\n",
       "  ('grandeur', 0.020742160425537656),\n",
       "  ('maladie', 0.02010264262686154)],\n",
       " 316: [('piver', 0.0634812370625611),\n",
       "  ('expédier', 0.046703157565816694),\n",
       "  ('formulaire', 0.03365754074219398),\n",
       "  ('libre', 0.029307940860477014),\n",
       "  ('contribution', 0.028995235560256172),\n",
       "  ('thématique', 0.028862188828829412),\n",
       "  ('lisible', 0.028339354823579563),\n",
       "  ('urne', 0.027979851291069398),\n",
       "  ('apparaître', 0.026190278565648695),\n",
       "  ('recueillir', 0.025741653024245744)],\n",
       " 317: [('intangible', 0.027497839494744776),\n",
       "  ('réciproque', 0.026882789680104383),\n",
       "  ('religion', 0.02575549350688677),\n",
       "  ('durer', 0.025597690027072087),\n",
       "  ('défi', 0.02427619923232431),\n",
       "  ('compréhension', 0.022976713730268248),\n",
       "  ('intégration', 0.021971279160739838),\n",
       "  ('asile', 0.021251391491906156),\n",
       "  ('laïcité', 0.021100462704560907),\n",
       "  ('fixer', 0.020437903949450435)],\n",
       " 318: [('donnée', 0.07832832863090375),\n",
       "  ('montivillier', 0.051446186355197945),\n",
       "  ('recueil', 0.046851412180229625),\n",
       "  ('fiche', 0.03065832524648573),\n",
       "  ('exposé', 0.027184741539765654),\n",
       "  ('cadre', 0.026576421458263475),\n",
       "  ('achever', 0.026025133393844067),\n",
       "  ('cocher', 0.025693099001787543),\n",
       "  ('organisateur', 0.024193073201056046),\n",
       "  ('informe', 0.024008410346204954)],\n",
       " 319: [('gard', 0.05760280818001995),\n",
       "  ('retard', 0.04476418108330424),\n",
       "  ('bnri', 0.03942418807469437),\n",
       "  ('calendrier', 0.03921668086734978),\n",
       "  ('réclamation', 0.038279216302761376),\n",
       "  ('triage', 0.028681239423353183),\n",
       "  ('soyon', 0.02531442979922815),\n",
       "  ('équipe', 0.024467313767649136),\n",
       "  ('hiérarchiser', 0.024352896991017416),\n",
       "  ('vigilance', 0.023968280475899207)],\n",
       " 320: [('évoluer', 0.10441064283242174),\n",
       "  ('renoncer', 0.07532322858337037),\n",
       "  ('complexe', 0.06756628881695342),\n",
       "  ('positif', 0.0647906210805808),\n",
       "  ('vou', 0.04985249139680748),\n",
       "  ('évolution', 0.04740386421169326),\n",
       "  ('démarche', 0.03825142037013179),\n",
       "  ('cours', 0.038119944755036064),\n",
       "  ('raison', 0.037535141655005134),\n",
       "  ('manière', 0.03399468259332773)],\n",
       " 321: [('x92aide', 0.03470713661503476),\n",
       "  ('compétitivité', 0.024586475444147913),\n",
       "  ('x92hui', 0.02195528855974404),\n",
       "  ('prestation', 0.02171562051944659),\n",
       "  ('concurrente', 0.021048287651995148),\n",
       "  ('élevé', 0.020797136073179717),\n",
       "  ('maladie', 0.019534316032931466),\n",
       "  ('assurance', 0.017869476945168307),\n",
       "  ('cotisation', 0.01632125345949887),\n",
       "  ('comparable', 0.016128891601822706)],\n",
       " 322: [('mauricette', 0.0149152059315555),\n",
       "  ('assistant', 0.010384625961726275),\n",
       "  ('directeur', 0.009510837991070865),\n",
       "  ('formation', 0.00874635833629572),\n",
       "  ('sénior', 0.008466306105233449),\n",
       "  ('maternel', 0.007868748762514416),\n",
       "  ('personnel', 0.00784977498590695),\n",
       "  ('pasino', 0.007817831845698217),\n",
       "  ('compétence', 0.007717244326778181),\n",
       "  ('contrat', 0.007519069706042568)],\n",
       " 323: [('partager', 0.0877542173987637),\n",
       "  ('questionnaire', 0.06376544529398778),\n",
       "  ('contribuer', 0.0563630416456435),\n",
       "  ('thème', 0.054824309204416805),\n",
       "  ('accéder', 0.0442914346448637),\n",
       "  ('bénéfique', 0.034549891673310545),\n",
       "  ('tabac', 0.03206231886705685),\n",
       "  ('fiscalité', 0.031519739310514404),\n",
       "  ('solution', 0.031195023160075733),\n",
       "  ('alcool', 0.030596679975178332)],\n",
       " 324: [('fallavier', 0.08637400985719766),\n",
       "  ('quentin', 0.07080447962915512),\n",
       "  ('compléter', 0.04988517382897179),\n",
       "  ('repondre', 0.04573042993087796),\n",
       "  ('pas', 0.041978022698284684),\n",
       "  ('formulaire', 0.03721857548694181),\n",
       "  ('st', 0.032441273398528266),\n",
       "  ('renseigner', 0.028071952172496188),\n",
       "  ('ne', 0.027440383234908453),\n",
       "  ('secrétariat', 0.025333808567203308)],\n",
       " 325: [('charte', 0.09446415773079649),\n",
       "  ('participant', 0.05665819258989312),\n",
       "  ('diffuser', 0.04654086953626766),\n",
       "  ('animateur', 0.033879654483221375),\n",
       "  ('rapporteur', 0.033549918688442704),\n",
       "  ('promotionnelle', 0.03280383763627923),\n",
       "  ('offensant', 0.0324802045911083),\n",
       "  ('organisateur', 0.03213371902283322),\n",
       "  ('pornographique', 0.032113958750018844),\n",
       "  ('apologie', 0.029021245816507946)],\n",
       " 326: [('comparable', 0.040931834713979445),\n",
       "  ('pib', 0.04070599658633906),\n",
       "  ('encourager', 0.025425364200115486),\n",
       "  ('stimuler', 0.024830346691049335),\n",
       "  ('instrument', 0.02262152409943943),\n",
       "  ('vulnérable', 0.021420259754458718),\n",
       "  ('prioritairement', 0.02118272380459707),\n",
       "  ('horizon', 0.02100347477195666),\n",
       "  ('baisser', 0.020265958004185118),\n",
       "  ('engagement', 0.019745301502780747)],\n",
       " 327: [('viroflay', 0.06990234904889982),\n",
       "  ('lanlay', 0.03424456843417176),\n",
       "  ('repondre', 0.027706026794192862),\n",
       "  ('pas', 0.026374559246037845),\n",
       "  ('granddebat', 0.019669213035678326),\n",
       "  ('ne', 0.017240640860214925),\n",
       "  ('recueillir', 0.016848727007906013),\n",
       "  ('constat', 0.01503639876985132),\n",
       "  ('envoyé', 0.014140779823237349),\n",
       "  ('formulaire', 0.012278975244564498)],\n",
       " 328: [('châteaurenard', 0.051393887587200544),\n",
       "  ('pétitionnaire', 0.04143637156676625),\n",
       "  ('fiche', 0.04061405100118354),\n",
       "  ('concertation', 0.03219763927236157),\n",
       "  ('comporter', 0.025924177965784768),\n",
       "  ('décentraliser', 0.023608699723192846),\n",
       "  ('13160', 0.021271794168234243),\n",
       "  ('courriel', 0.02082205605016783),\n",
       "  ('observation', 0.019312432433693752),\n",
       "  ('identifier', 0.019163470118753856)],\n",
       " 329: [('degage', 0.31573715218334025),\n",
       "  ('continuez', 0.31204157139475797),\n",
       "  ('macron', 0.2831911668461204),\n",
       "  ('cœur', 0.2462300968702347),\n",
       "  ('degeler', 0.18150248084750709),\n",
       "  ('dégager', 0.16037233581669258),\n",
       "  ('macro', 0.10311176669075775),\n",
       "  ('rassembler', 0.06388398416098293),\n",
       "  ('destitution', 0.06269803366978056),\n",
       "  ('fête', 0.06049989088113084)],\n",
       " 330: [('migrant', 0.012102423715551976),\n",
       "  ('immigration', 0.010426339723920201),\n",
       "  ('boursorama', 0.008523282832311494),\n",
       "  ('posokhow', 0.007830161561395306),\n",
       "  ('nationalité', 0.00669129303441358),\n",
       "  ('djihadiste', 0.006197209237498668),\n",
       "  ('français', 0.0059576895186599105),\n",
       "  ('expulsion', 0.005806191310055991),\n",
       "  ('autorité', 0.005743790249095648),\n",
       "  ('rémunère', 0.005581687817242396)],\n",
       " 331: [('zero', 0.006830721452117728),\n",
       "  ('nivillac', 0.005471935460302255),\n",
       "  ('reflexion', 0.004189387078720876),\n",
       "  ('centime', 0.00397260695283911),\n",
       "  ('kerrou', 0.003931193904747804),\n",
       "  ('rêvera', 0.0037655086155708637),\n",
       "  ('nucleaire', 0.003745550947853008),\n",
       "  ('energie', 0.0037198812896658685),\n",
       "  ('syndicat', 0.003562835974290665),\n",
       "  ('treuzy', 0.0034193030375392385)],\n",
       " 332: [('littéralement', 0.05288250284288699),\n",
       "  ('dividende', 0.051723221496574275),\n",
       "  ('poumon', 0.051532091040715655),\n",
       "  ('confiscatoire', 0.04940704641969033),\n",
       "  ('cahuzac', 0.0491403886450549),\n",
       "  ('notr', 0.04762247112281728),\n",
       "  ('étouffer', 0.04748147769114927),\n",
       "  ('soumettre', 0.04467977498097617),\n",
       "  ('aberration', 0.044168962187923724),\n",
       "  ('sarl', 0.04315765588917729)],\n",
       " 333: [('destin', 0.017353734021420424),\n",
       "  ('surmonter', 0.01312849860912969),\n",
       "  ('interrogation', 0.012777399634340927),\n",
       "  ('réussir', 0.012746737024105512),\n",
       "  ('fraternel', 0.012211928178458502),\n",
       "  ('indépendamment', 0.011985370660682462),\n",
       "  ('financent', 0.011838894522927017),\n",
       "  ('insatisfaire', 0.011535052275987357),\n",
       "  ('entraide', 0.011163369763185604),\n",
       "  ('croyance', 0.011128636911621512)],\n",
       " 334: [('liste', 0.07687529568347629),\n",
       "  ('gilet', 0.033394186286086563),\n",
       "  ('ralliement', 0.021664475503437124),\n",
       "  ('décortiquer', 0.02166394091974536),\n",
       "  ('équivoque', 0.02143388862045009),\n",
       "  ('fervent', 0.020961687058700135),\n",
       "  ('prétendant', 0.02089662439845906),\n",
       "  ('abject', 0.02030082094242398),\n",
       "  ('acronyme', 0.020176996639537145),\n",
       "  ('acolyte', 0.020153461328222325)],\n",
       " 335: [('éplucher', 0.005633028202803121),\n",
       "  ('fédération', 0.005390227738639816),\n",
       "  ('comité', 0.005114575015632903),\n",
       "  ('commission', 0.0047623652499278815),\n",
       "  ('enfler', 0.004060707591919826),\n",
       "  ('fonctionnaire', 0.004019936130686448),\n",
       "  ('vérifier', 0.003463602637528412),\n",
       "  ('actionnaire', 0.003463212159927251),\n",
       "  ('aot', 0.0034181605229586095),\n",
       "  ('07100', 0.0034181605229586095)],\n",
       " 336: [('cahier', 0.09170763621972507),\n",
       "  ('thelle', 0.0792665303404969),\n",
       "  ('débat', 0.07389312453333499),\n",
       "  ('national', 0.05101144104815198),\n",
       "  ('33333', 0.04796625794829297),\n",
       "  ('larringe', 0.04796625794829297),\n",
       "  ('estézargues', 0.04796625794829297),\n",
       "  ('douzains', 0.04796625794829297),\n",
       "  ('fortschwihr', 0.04796625794829297),\n",
       "  ('venasqu', 0.04796625794829297)],\n",
       " 337: [('thématique', 0.11749928892234049),\n",
       "  ('facultatif', 0.0981017701583532),\n",
       "  ('collecte', 0.0765921489050819),\n",
       "  ('solution', 0.06445637379592876),\n",
       "  ('tableau', 0.058779431924323014),\n",
       "  ('exprimer', 0.03922726263202223),\n",
       "  ('habitant', 0.03685532642787387),\n",
       "  ('date', 0.034443534827027514),\n",
       "  ('nom', 0.03337289185231351),\n",
       "  ('doléance', 0.03280940844899443)],\n",
       " 338: [('réclamation', 0.1103403921693303),\n",
       "  ('récépisser', 0.06614737424643928),\n",
       "  ('traînou', 0.06315489206422027),\n",
       "  ('coordonné', 0.0576384544868911),\n",
       "  ('rédacteur', 0.05594455915899262),\n",
       "  ('attester', 0.05061747294333194),\n",
       "  ('trainou', 0.047509431584906336),\n",
       "  ('cocher', 0.04719529623194348),\n",
       "  ('formulaire', 0.04456608122209329),\n",
       "  ('dat', 0.04397480384960241)],\n",
       " 339: [('cahier', 0.24646427234051116),\n",
       "  ('pisany', 0.13750327278510652),\n",
       "  ('moléan', 0.13750327278510652),\n",
       "  ('gaphique', 0.13750327278510652),\n",
       "  ('familiere', 0.13750327278510652),\n",
       "  ('serrere', 0.13750327278510652),\n",
       "  ('colleret', 0.13750327278510652),\n",
       "  ('cessy', 0.12826175313223837),\n",
       "  ('froncle', 0.12285599443069205),\n",
       "  ('citoyen', 0.10208212030740983)],\n",
       " 340: [('exaspération', 0.045119669267997875),\n",
       "  ('balancetonmair', 0.032039529847068385),\n",
       "  ('absence', 0.03021519017125609),\n",
       "  ('ressentir', 0.029096445902989237),\n",
       "  ('cit', 0.02622164117730528),\n",
       "  ('mcdo', 0.025870202464416108),\n",
       "  ('relatif', 0.024165117050998705),\n",
       "  ('discours', 0.024020523022114725),\n",
       "  ('dénonciation', 0.022625279993918886),\n",
       "  ('motion', 0.02145959042567542)],\n",
       " 341: [('smig', 0.022235751922835584),\n",
       "  ('favorisse', 0.021665431636308796),\n",
       "  ('pecotriau', 0.021665431636308796),\n",
       "  ('vandesip', 0.021665431636308796),\n",
       "  ('mancher', 0.021665431636308796),\n",
       "  ('espetti', 0.021665431636308796),\n",
       "  ('bolton', 0.020209309842264447),\n",
       "  ('cyto', 0.020209309842264447),\n",
       "  ('susception', 0.020209309842264447),\n",
       "  ('richerme', 0.019357562147693075)],\n",
       " 342: [('dette', 0.008758944062425092),\n",
       "  ('th', 0.00845299731329559),\n",
       "  ('banque', 0.007611710081450338),\n",
       "  ('emprunter', 0.006994276018505046),\n",
       "  ('crème', 0.006464432133456539),\n",
       "  ('locataire', 0.0053686801168907755),\n",
       "  ('1200972278', 0.00521813478975746),\n",
       "  ('cête', 0.00521813478975746),\n",
       "  ('intérêt', 0.00515626225048885),\n",
       "  ('baisser', 0.005122475014575256)],\n",
       " 343: [('trop', 0.06894911529222181),\n",
       "  ('pouvoitr', 0.03507736550640472),\n",
       "  ('arnal', 0.03507736550640472),\n",
       "  ('relame', 0.03507736550640472),\n",
       "  ('artisent', 0.03507736550640472),\n",
       "  ('souhaitera', 0.032719834982713865),\n",
       "  ('illsiibl', 0.032719834982713865),\n",
       "  ('joua', 0.031340814905788786),\n",
       "  ('fev', 0.029937413910279986),\n",
       "  ('permettrai', 0.028459301132171825)],\n",
       " 344: [('identifiant', 0.08672499424266786),\n",
       "  ('pétition', 0.08220196509752352),\n",
       "  ('volet', 0.04355506362668958),\n",
       "  ('mail', 0.03863702375569603),\n",
       "  ('inscription', 0.03787878146692096),\n",
       "  ('catégorisation', 0.028628697997525817),\n",
       "  ('personnalisation', 0.02820305181209827),\n",
       "  ('préétablir', 0.027355228027348008),\n",
       "  ('envoi', 0.02722511486234629),\n",
       "  ('site', 0.024556013840041458)],\n",
       " 345: [('arrondissement', 0.030527543577021688),\n",
       "  ('langres', 0.013119895007270874),\n",
       "  ('departement', 0.012888150646985374),\n",
       "  ('rebliqu', 0.01215564296957076),\n",
       "  ('thézier', 0.01215564296957076),\n",
       "  ('theziers', 0.01215564296957076),\n",
       "  ('04', 0.011645274533204705),\n",
       "  ('fax', 0.011578540572897726),\n",
       "  ('facultatif', 0.010524474820898936),\n",
       "  ('tél', 0.009431684203356692)],\n",
       " 346: [('sarl', 0.03382590052855057),\n",
       "  ('gérant', 0.03347195860279485),\n",
       "  ('dividende', 0.03270634600845985),\n",
       "  ('majoritaire', 0.02887124066301617),\n",
       "  ('risque', 0.02744467132355224),\n",
       "  ('cahuzac', 0.02219509518317063),\n",
       "  ('sas', 0.022112393074843265),\n",
       "  ('poumon', 0.021864721212991236),\n",
       "  ('insoutenable', 0.021847973357324506),\n",
       "  ('littéralement', 0.021713895386544887)],\n",
       " 347: [('jon', 0.08570268656754551),\n",
       "  ('pseudo', 0.08250337698546775),\n",
       "  ('avatar', 0.07684729998207304),\n",
       "  ('lionn', 0.06617382596995339),\n",
       "  ('auteur', 0.06486899495642635),\n",
       "  ('de', 0.051144609550750814),\n",
       "  ('dupliquer', 0.046511196686233824),\n",
       "  ('intituler', 0.04031198299156197),\n",
       "  ('lettre', 0.029587576570326225),\n",
       "  ('obligatoirement', 0.027004959301680613)],\n",
       " 348: [('baisse', 0.15444993941910978),\n",
       "  ('tva', 0.0756035840317603),\n",
       "  ('motard', 0.06069904185074588),\n",
       "  ('patronal', 0.05928493672055699),\n",
       "  ('éléctiricité', 0.05658606755834045),\n",
       "  ('tiphaine', 0.05658606755834045),\n",
       "  ('dégage', 0.045577614751771904),\n",
       "  ('embaucheraient', 0.04473623558702779),\n",
       "  ('nécessit', 0.04128100944809504),\n",
       "  ('baisser', 0.03888410519152141)],\n",
       " 349: [('destinataire', 0.027224274166573643),\n",
       "  ('dépense', 0.020809215053456852),\n",
       "  ('prêt', 0.018376765263864624),\n",
       "  ('domaine', 0.017948551279921923),\n",
       "  ('publique', 0.016736804904291695),\n",
       "  ('vou', 0.016375080985845402),\n",
       "  ('bénéfique', 0.016291881837672606),\n",
       "  ('tabac', 0.014828127885050467),\n",
       "  ('alcool', 0.014150301648832476),\n",
       "  ('fiscalité', 0.012514604389531444)],\n",
       " 350: [('article', 0.16598150457867422),\n",
       "  ('fondamental', 0.08108342122465934),\n",
       "  ('décembre', 0.07240522512176908),\n",
       "  ('charte', 0.06495869955206401),\n",
       "  ('constitution', 0.05861314441599629),\n",
       "  ('convention', 0.05104623281806987),\n",
       "  ('déclaration', 0.0498929564827314),\n",
       "  ('pacte', 0.04059538109792318),\n",
       "  ('relatif', 0.04045979684288531),\n",
       "  ('août', 0.035402505541632705)],\n",
       " 351: [('59', 0.054689124916772656),\n",
       "  ('dépense', 0.05036137192717377),\n",
       "  ('réponse', 0.045612380916854586),\n",
       "  ('30', 0.04168886174128797),\n",
       "  ('23', 0.0412546651050026),\n",
       "  ('minute', 0.03587311907751524),\n",
       "  ('08', 0.029731994087820252),\n",
       "  ('rapide', 0.029205971984625975),\n",
       "  ('réduire', 0.026445290096467018),\n",
       "  ('fiscalité', 0.02553892693355373)],\n",
       " 352: [('poissy', 0.08829472214708142),\n",
       "  ('nosideespourlafrance', 0.03968651168915629),\n",
       "  ('cmelchior', 0.03430864328686385),\n",
       "  ('77', 0.03173100055033685),\n",
       "  ('07', 0.0260683684967576),\n",
       "  ('transférer', 0.025597055276003183),\n",
       "  ('78300', 0.02542539359106282),\n",
       "  ('melchior', 0.02542539359106282),\n",
       "  ('plac', 0.02212003375740825),\n",
       "  ('poissv', 0.021548929768719534)],\n",
       " 353: [('bnri', 0.06998568661899537),\n",
       "  ('retard', 0.06506121708815575),\n",
       "  ('calendrier', 0.05759182591845487),\n",
       "  ('réclamation', 0.05415615438777037),\n",
       "  ('triage', 0.04124245879917445),\n",
       "  ('hiérarchiser', 0.03654102048656325),\n",
       "  ('apolitique', 0.035478188617715144),\n",
       "  ('équipe', 0.03518300464962153),\n",
       "  ('vigilance', 0.03446541502001665),\n",
       "  ('evolution', 0.03276576659095738)],\n",
       " 354: [('hélaine', 0.028535009077490466),\n",
       "  ('770', 0.025862200460018248),\n",
       "  ('soumettre', 0.024070585242622775),\n",
       "  ('45', 0.022591658729522613),\n",
       "  ('utilisateur', 0.0179452048268284),\n",
       "  ('formulaire', 0.01703654515411795),\n",
       "  ('anonyme', 0.015374897500680421),\n",
       "  ('5713', 0.014545108173623695),\n",
       "  ('saran', 0.013564397227885865),\n",
       "  ('consentement', 0.013009764179632378)],\n",
       " 355: [('rubelle', 0.06532819873576508),\n",
       "  ('louvier', 0.03666687536845099),\n",
       "  ('27400', 0.033583370326449695),\n",
       "  ('travers', 0.03166619404436865),\n",
       "  ('refuson', 0.025668028460928746),\n",
       "  ('restitution', 0.02475694898500474),\n",
       "  ('mobilisation', 0.024183838388766844),\n",
       "  ('borne', 0.023669578887306936),\n",
       "  ('haute', 0.022463231296665345),\n",
       "  ('trimestre', 0.01919387648363656)],\n",
       " 356: [('erreur', 0.042330144923176945),\n",
       "  ('oui', 0.03038156384796646),\n",
       "  ('foi', 0.02992750517089964),\n",
       "  ('affirmer', 0.025209102295221497),\n",
       "  ('complexe', 0.023931552672279338),\n",
       "  ('identifier', 0.023059045388239795),\n",
       "  ('juger', 0.020574515104457385),\n",
       "  ('défi', 0.019897986198139893),\n",
       "  ('autonomie', 0.019742885156246053),\n",
       "  ('administration', 0.01728647668243429)],\n",
       " 357: [('erreur', 0.07148864110428015),\n",
       "  ('oui', 0.06942483554561232),\n",
       "  ('foi', 0.04158936068544263),\n",
       "  ('affirmer', 0.03612709757246167),\n",
       "  ('identifier', 0.033045856727181876),\n",
       "  ('complexe', 0.031755782036618455),\n",
       "  ('vou', 0.03124052696492416),\n",
       "  ('autonomie', 0.030365473304640577),\n",
       "  ('défi', 0.02970390749379401),\n",
       "  ('juger', 0.029485282973591403)],\n",
       " 358: [('suppression', 0.008589949642484988),\n",
       "  ('autosuffisance', 0.008546635110940792),\n",
       "  ('inflation', 0.007615747990355729),\n",
       "  ('niche', 0.0067204178612914655),\n",
       "  ('réindexation', 0.006718013879230527),\n",
       "  ('rétablissement', 0.006612156276683551),\n",
       "  ('comptabilisation', 0.005531921762830819),\n",
       "  ('indexation', 0.005333947202401692),\n",
       "  ('casier', 0.004789859308203187),\n",
       "  ('pétrole', 0.004685239179230418)],\n",
       " 359: [('déficit', 0.006652259726663999),\n",
       "  ('évasion', 0.005728974028611033),\n",
       "  ('taxation', 0.005388411414050686),\n",
       "  ('gafa', 0.005302548411867721),\n",
       "  ('dénoncer', 0.004705031555513059),\n",
       "  ('caricaturer', 0.004441416380174914),\n",
       "  ('intouchable', 0.004269291645105138),\n",
       "  ('lutte', 0.004215844142779377),\n",
       "  ('sénateur', 0.004169133485265513),\n",
       "  ('dissolution', 0.004035890231487082)],\n",
       " 360: [('communau', 0.02313469221426271),\n",
       "  ('laïcité', 0.02260487781659528),\n",
       "  ('corres', 0.020961023821660128),\n",
       "  ('persécution', 0.02076316739047774),\n",
       "  ('bousculer', 0.018736756776127364),\n",
       "  ('déterminant', 0.01840665297777531),\n",
       "  ('loyauté', 0.01839425417772261),\n",
       "  ('refuge', 0.0180259629207448),\n",
       "  ('défaillance', 0.017964535011841275),\n",
       "  ('xad', 0.017838894439503452)],\n",
       " 361: [('débat', 0.14890873673734442),\n",
       "  ('national', 0.10591286544629622),\n",
       "  ('grand', 0.05995390092754949),\n",
       "  ('debat', 0.056408253817536225),\n",
       "  ('tableau', 0.053159859861228405),\n",
       "  ('participant', 0.03429427507966336),\n",
       "  ('registre', 0.029687194674821622),\n",
       "  ('concertation', 0.02411197738339165),\n",
       "  ('formulaire', 0.02093061261791634),\n",
       "  ('contribuer', 0.016203919051001905)],\n",
       " 362: [('satisfaction', 0.22260399480828713),\n",
       "  ('tableau', 0.2055361823082839),\n",
       "  ('mentionner', 0.13153356713955644),\n",
       "  ('évènement', 0.12707746762569289),\n",
       "  ('ci', 0.11173388108198845),\n",
       "  ('dessous', 0.1115369097374639),\n",
       "  ('indiquer', 0.0956767960978665),\n",
       "  ('difficulté', 0.09316294852289705),\n",
       "  ('élément', 0.0917094729906486),\n",
       "  ('rencontrer', 0.08993505927686812)],\n",
       " 363: [('défavorisé', 0.026833109890165997),\n",
       "  ('assécher', 0.025690587503691895),\n",
       "  ('irriguer', 0.024247434129846798),\n",
       "  ('laine', 0.023528366739229725),\n",
       "  ('déblocage', 0.02325322084717138),\n",
       "  ('senser', 0.02325322084717138),\n",
       "  ('graphique', 0.022452811275159898),\n",
       "  ('institut', 0.02121770362092653),\n",
       "  ('priori', 0.020455665991902437),\n",
       "  ('audit', 0.019411233102063358)],\n",
       " 364: [('traiter', 0.15649351962084676),\n",
       "  ('ordre', 0.13176825677576554),\n",
       "  ('priorité', 0.1098154167559577),\n",
       "  ('problème', 0.08543272667651759),\n",
       "  ('souhaiter', 0.07228595591461741),\n",
       "  ('sou', 0.04627281217321434),\n",
       "  ('proposer', 0.03652740758407211),\n",
       "  ('dévitaliser', 0.032595905576851165),\n",
       "  ('traité', 0.02652603083558485),\n",
       "  ('preneur', 0.02436898761414638)],\n",
       " 365: [('pib', 0.01966177953468777),\n",
       "  ('élevé', 0.017176281332743976),\n",
       "  ('dépense', 0.012679965292607738),\n",
       "  ('sectoriel', 0.009974100439291375),\n",
       "  ('financ', 0.009711679701294397),\n",
       "  ('prestation', 0.009602323630548654),\n",
       "  ('recourir', 0.009387054312553607),\n",
       "  ('financer', 0.009367685736530977),\n",
       "  ('redistribution', 0.008148175863872816),\n",
       "  ('signifier', 0.007950312182043088)],\n",
       " 366: [('etival', 0.15649880567365956),\n",
       "  ('utf', 0.0694223407960741),\n",
       "  ('charset', 0.06879212877804232),\n",
       "  ('text', 0.06480845443804242),\n",
       "  ('mime', 0.0624514295849469),\n",
       "  ('plain', 0.055145546262463783),\n",
       "  ('nbsp', 0.04676597192090533),\n",
       "  ('version', 0.03769555494620005),\n",
       "  ('corp', 0.037581048758538654),\n",
       "  ('font', 0.035224203531560146)],\n",
       " 367: [('soutien', 0.0481562095070366),\n",
       "  ('rencontre', 0.04335701387014164),\n",
       "  ('patron', 0.0289833202371816),\n",
       "  ('convocation', 0.028585813837965397),\n",
       "  ('exprès', 0.028281039466470342),\n",
       "  ('attacher', 0.026961033012344007),\n",
       "  ('extraordinaire', 0.026561292641074763),\n",
       "  ('écho', 0.026241251034620577),\n",
       "  ('presse', 0.023981715807625266),\n",
       "  ('unanimité', 0.02272996177774592)],\n",
       " 368: [('mourir', 0.03150702358977677),\n",
       "  ('euthanasie', 0.03141536067538863),\n",
       "  ('légalisation', 0.031207514802843225),\n",
       "  ('ifop', 0.02706550047995485),\n",
       "  ('létal', 0.025345371230550785),\n",
       "  ('actif', 0.024206232902032835),\n",
       "  ('sondage', 0.023682144376043855),\n",
       "  ('décéder', 0.02293511354712175),\n",
       "  ('réanimation', 0.016906144002438145),\n",
       "  ('intégrer', 0.016902856920959455)],\n",
       " 369: [('asile', 0.05794170399158143),\n",
       "  ('délivrer', 0.03364672917786167),\n",
       "  ('progresser', 0.031951133595894604),\n",
       "  ('séjour', 0.02903459418430298),\n",
       "  ('intégration', 0.0280551712589671),\n",
       "  ('migratoire', 0.026306946187046473),\n",
       "  ('incivique', 0.025854766366046927),\n",
       "  ('16e', 0.02575860092516887),\n",
       "  ('subsaharien', 0.025468017405801995),\n",
       "  ('décroître', 0.02533189738581502)],\n",
       " 370: [('ore', 0.0370592832738809),\n",
       "  ('chauffer', 0.03440153328979687),\n",
       "  ('litre', 0.03397967812260617),\n",
       "  ('consommer', 0.031931719030442555),\n",
       "  ('fossile', 0.03175844661961143),\n",
       "  ('facture', 0.02849147673126485),\n",
       "  ('prématurer', 0.026840042630577536),\n",
       "  ('covoiturage', 0.026540521512725738),\n",
       "  ('ménage', 0.02647183013701873),\n",
       "  ('énergétique', 0.02414959937559443)],\n",
       " 371: [('justice', 0.1316796792751001),\n",
       "  ('fiscal', 0.057896326373852613),\n",
       "  ('social', 0.02959285322467873),\n",
       "  ('paradis', 0.02916075950958167),\n",
       "  ('redynamisation', 0.028899526701473995),\n",
       "  ('écoute', 0.028595593857755917),\n",
       "  ('mat', 0.026054386947290075),\n",
       "  ('chass', 0.025357794283149836),\n",
       "  ('assimilation', 0.022906001676123014),\n",
       "  ('svp', 0.022500607352138026)],\n",
       " 372: [('température', 0.06238345956008915),\n",
       "  ('chaude', 0.04626237995018081),\n",
       "  ('emballement', 0.043262360853007706),\n",
       "  ('tragique', 0.042063801329166005),\n",
       "  ('alarmant', 0.04091876981838542),\n",
       "  ('juridiquement', 0.03864523067012841),\n",
       "  ('climat', 0.03812767709629322),\n",
       "  ('irréversible', 0.03724069719135335),\n",
       "  ('signataire', 0.03548358295631892),\n",
       "  ('chaud', 0.03270868142506176)],\n",
       " 373: [('sein', 0.03675012277930031),\n",
       "  ('939', 0.034451690576672966),\n",
       "  ('707', 0.034336389283119356),\n",
       "  ('établissement', 0.034176354537147006),\n",
       "  ('cartographie', 0.03409185036347389),\n",
       "  ('011', 0.03295572296274689),\n",
       "  ('1167', 0.03034260394398427),\n",
       "  ('médico', 0.02829482641564899),\n",
       "  ('baromètre', 0.02784015876723968),\n",
       "  ('file', 0.026239210824797164)],\n",
       " 374: [('organisation', 0.04361880908198589),\n",
       "  ('exprimer', 0.026067665597255773),\n",
       "  ('point', 0.021557227277035077),\n",
       "  ('service', 0.017555427557106824),\n",
       "  ('sandwichée', 0.016164177835239792),\n",
       "  ('miensset', 0.016164177835239792),\n",
       "  ('souhaiter', 0.015908281601783036),\n",
       "  ('immatriculation', 0.015400998851393823),\n",
       "  ('visa', 0.0139746035415779),\n",
       "  ('papier', 0.013973687388947215)],\n",
       " 375: [('expressif', 0.024685472176134732),\n",
       "  ('concis', 0.023920726514536375),\n",
       "  ('registr', 0.021717943901347948),\n",
       "  ('rapidité', 0.021608894171195273),\n",
       "  ('revendicatif', 0.02096125641661218),\n",
       "  ('gué', 0.02068754085225314),\n",
       "  ('soin', 0.020043594784356095),\n",
       "  ('déconcentrer', 0.01911163908066185),\n",
       "  ('équité', 0.018315574646228714),\n",
       "  ('relation', 0.01765712406184188)],\n",
       " 376: [('gaz', 0.07187550236426618),\n",
       "  ('électricité', 0.06600857466679018),\n",
       "  ('nécessité', 0.04790749964204899),\n",
       "  ('tva', 0.044863665249616),\n",
       "  ('lurisse', 0.042284094439199456),\n",
       "  ('produit', 0.04010913865349642),\n",
       "  ('baisse', 0.02963310390993315),\n",
       "  ('soda', 0.025515912696292158),\n",
       "  ('eau', 0.02486725451240431),\n",
       "  ('smilk', 0.022665374634907667)],\n",
       " 377: [('température', 0.035064716640094536),\n",
       "  ('chaude', 0.025136545493078942),\n",
       "  ('emballement', 0.024290042571387886),\n",
       "  ('climat', 0.022859669584713596),\n",
       "  ('tragique', 0.022855258567783292),\n",
       "  ('serre', 0.02102361173529093),\n",
       "  ('juridiquement', 0.02099778696807871),\n",
       "  ('alarmant', 0.02069979079638587),\n",
       "  ('irréversible', 0.020234637304706416),\n",
       "  ('signataire', 0.017950264564698174)],\n",
       " 378: [('2nd', 0.04726292174974995),\n",
       "  ('perceptible', 0.04624408340240496),\n",
       "  ('institution', 0.040742679746329856),\n",
       "  ('défiance', 0.0354504522338734),\n",
       "  ('tour', 0.03524107271575818),\n",
       "  ('stabilité', 0.034244703260558625),\n",
       "  ('million', 0.03133351727403847),\n",
       "  ('urne', 0.028090626197203476),\n",
       "  ('signe', 0.02771476992941915),\n",
       "  ('successif', 0.02696435160432228)],\n",
       " 379: [('milliardaire', 0.009061085414514593),\n",
       "  ('subventionner', 0.006483622142364146),\n",
       "  ('fidt', 0.004692742338834684),\n",
       "  ('peuple', 0.004517783628609272),\n",
       "  ('gendre', 0.004486539128734987),\n",
       "  ('fiançai', 0.004466596562604852),\n",
       "  ('incorruptibilité', 0.0044326154144194874),\n",
       "  ('dté', 0.0044326154144194874),\n",
       "  ('preoccupation', 0.004339776934862956),\n",
       "  ('reporterre', 0.004339776934862956)],\n",
       " 380: [('librement', 0.05062325391336428),\n",
       "  ('boîte', 0.05047205786459453),\n",
       "  ('questionnaire', 0.0502197668419566),\n",
       "  ('retourner', 0.04077304886157504),\n",
       "  ('foyer', 0.03744758534963915),\n",
       "  ('anonyme', 0.03717516500342343),\n",
       "  ('bulletin', 0.0345601682629961),\n",
       "  ('auprès', 0.027857040175768975),\n",
       "  ('attente', 0.027750319996189193),\n",
       "  ('consultation', 0.027517309008676688)],\n",
       " 381: [('amrf', 0.12014194619220375),\n",
       "  ('fédérer', 0.06673063053570973),\n",
       "  ('association', 0.05446460837969364),\n",
       "  ('arobert', 0.046835056813952544),\n",
       "  ('cedricszabo', 0.043027064500350466),\n",
       "  ('petitesville', 0.03944261972222739),\n",
       "  ('rural', 0.03820909184805674),\n",
       "  ('promouvoir', 0.03719962505945161),\n",
       "  ('apvf', 0.03643981750246811),\n",
       "  ('cedric', 0.0361297655321166)],\n",
       " 382: [('écologique', 0.017936022612024035),\n",
       "  ('cofinancer', 0.0171708681115228),\n",
       "  ('transition', 0.015219605311929053),\n",
       "  ('compétitif', 0.01487392226306469),\n",
       "  ('réponse', 0.014448487990127424),\n",
       "  ('concurrent', 0.014353642744228318),\n",
       "  ('climat', 0.013918946658499753),\n",
       "  ('dégrader', 0.012362975587786772),\n",
       "  ('environnement', 0.010653162768307694),\n",
       "  ('commercial', 0.010373937213984047)],\n",
       " 383: [('inviter', 0.03222835099668768),\n",
       "  ('communiquer', 0.03149177001591771),\n",
       "  ('débattre', 0.029517447297798816),\n",
       "  ('coordonnée', 0.026283922292507634),\n",
       "  ('débat', 0.02355452198134731),\n",
       "  ('mener', 0.02218946953865815),\n",
       "  ('courriel', 0.02113275713068089),\n",
       "  ('essentiel', 0.02050663055917431),\n",
       "  ('thème', 0.01792103388603459),\n",
       "  ('avis', 0.016847475502574163)],\n",
       " 384: [('bnri', 0.05131911099053104),\n",
       "  ('retard', 0.047200562570195),\n",
       "  ('calendrier', 0.041549795440811596),\n",
       "  ('réclamation', 0.04036264040827951),\n",
       "  ('triage', 0.029266716910084638),\n",
       "  ('vigilance', 0.025272802828612724),\n",
       "  ('hiérarchiser', 0.025066106036020695),\n",
       "  ('équipe', 0.02496677131062021),\n",
       "  ('fur', 0.022737850482211466),\n",
       "  ('gravité', 0.021935609152340888)],\n",
       " 385: [('immigration', 0.014480734512143151),\n",
       "  ('macroniste', 0.008977717022987036),\n",
       "  ('immigré', 0.008478122048951237),\n",
       "  ('migrant', 0.008252790430715402),\n",
       "  ('renvoyer', 0.006776113492266433),\n",
       "  ('pays', 0.005846810364727059),\n",
       "  ('origine', 0.005074126780682979),\n",
       "  ('musulman', 0.004962226788711166),\n",
       "  ('rejeter', 0.0046114719653386795),\n",
       "  ('usage', 0.004595892311838538)],\n",
       " 386: [('isoler', 0.0346794509907326),\n",
       "  ('écoprêt', 0.030773460361475175),\n",
       "  ('ptz', 0.03072536459676273),\n",
       "  ('identifier', 0.028760097487125068),\n",
       "  ('zéro', 0.028495356329564066),\n",
       "  ('des', 0.024384400347221124),\n",
       "  ('isolation', 0.02424975030560771),\n",
       "  ('carburants', 0.02410134181976644),\n",
       "  ('solidaire', 0.023618680997104086),\n",
       "  ('éco', 0.02279215875338475)],\n",
       " 387: [('constituant', 0.013172938717564898),\n",
       "  ('mandataire', 0.010250926116412418),\n",
       "  ('assemblée', 0.0071388333577776025),\n",
       "  ('populaire', 0.006518332056017121),\n",
       "  ('représenter', 0.006330768948163444),\n",
       "  ('souveraineté', 0.006023232877550718),\n",
       "  ('déni', 0.005871575628733924),\n",
       "  ('autocrat', 0.00578019687949908),\n",
       "  ('élection', 0.005607961904288868),\n",
       "  ('rassembleus', 0.00551768962547167)],\n",
       " 388: [('islam', 0.017604945829153347),\n",
       "  ('archive', 0.013610841637937436),\n",
       "  ('récolement', 0.012430054060688511),\n",
       "  ('musulman', 0.010763840146412884),\n",
       "  ('saisine', 0.008534035620588343),\n",
       "  ('burkini', 0.007561403014369738),\n",
       "  ('cada', 0.006836485130441659),\n",
       "  ('animal', 0.004951041863174282),\n",
       "  ('ar', 0.00488882524741346),\n",
       "  ('hésiter', 0.004882318374856479)],\n",
       " 389: [('victime', 0.048131435862790554),\n",
       "  ('relaxe', 0.03508165589713801),\n",
       "  ('appel', 0.029716377531186812),\n",
       "  ('peine', 0.027197600655491816),\n",
       "  ('acquittement', 0.026911734607664876),\n",
       "  ('pénal', 0.02625990977236347),\n",
       "  ('détenu', 0.026105388485414622),\n",
       "  ('conditionnel', 0.01763798293357519),\n",
       "  ('libération', 0.01690537148736515),\n",
       "  ('tribunal', 0.016038879308109395)],\n",
       " 390: [('capsule', 0.025728224646752482),\n",
       "  ('projectile', 0.024285507913619466),\n",
       "  ('vidéo', 0.023339202196129012),\n",
       "  ('manif', 0.01937806782526462),\n",
       "  ('hommage', 0.019083964195579436),\n",
       "  ('force', 0.016830448206207927),\n",
       "  ('manifestant', 0.016346177475697363),\n",
       "  ('foule', 0.01625777988590826),\n",
       "  ('témoignage', 0.015323930782771628),\n",
       "  ('saign', 0.01465046980888241)],\n",
       " 391: [('numéro', 0.14587918227246707),\n",
       "  ('1978', 0.045762036518265686),\n",
       "  ('relatif', 0.04044179604345943),\n",
       "  ('formulaire', 0.037285854777756346),\n",
       "  ('rectification', 0.03712916786116835),\n",
       "  ('coordonnée', 0.02902629727340753),\n",
       "  ('proposition', 0.02878608862650533),\n",
       "  ('conformément', 0.027677049666510176),\n",
       "  ('demande', 0.026540509385241617),\n",
       "  ('fichier', 0.025272124235747543)],\n",
       " 392: [('ici', 0.11161349987761085),\n",
       "  ('debraber', 0.10241769244715644),\n",
       "  ('prénom', 0.08741558509083248),\n",
       "  ('alphonse', 0.08736642961103139),\n",
       "  ('nom', 0.05750457737672601),\n",
       "  ('arlette', 0.0558764027004896),\n",
       "  ('mieux', 0.05545032241000586),\n",
       "  ('eal', 0.05434526242800745),\n",
       "  ('joseph', 0.05314113483013807),\n",
       "  ('amand', 0.04923658162034295)],\n",
       " 393: [('réduire', 0.03687563303245446),\n",
       "  ('nombre', 0.019684580283591345),\n",
       "  ('niveler', 0.019476133117143482),\n",
       "  ('survisibl', 0.019421366212585663),\n",
       "  ('corpspprimer', 0.019421366212585663),\n",
       "  ('angué', 0.019421366212585663),\n",
       "  ('piné', 0.018116066826587337),\n",
       "  ('commisse', 0.01735254158625594),\n",
       "  ('urticant', 0.01735254158625594),\n",
       "  ('liais', 0.016390659823376015)],\n",
       " 394: [('prêt', 0.025992457169898786),\n",
       "  ('publique', 0.024347305677069407),\n",
       "  ('domaine', 0.023456399774139693),\n",
       "  ('déconcentration', 0.022969380742956663),\n",
       "  ('plaider', 0.0217952090309867),\n",
       "  ('bénéfique', 0.020509674893740247),\n",
       "  ('réponse', 0.019255712616696567),\n",
       "  ('tabac', 0.019032989814285008),\n",
       "  ('alcool', 0.018162950120144062),\n",
       "  ('centralisation', 0.017062406488870297)],\n",
       " 395: [('approfondi', 0.03342681896731007),\n",
       "  ('arrondissement', 0.030653124347159024),\n",
       "  ('dysfonctionnement', 0.029059440102792954),\n",
       "  ('indique', 0.024583447717178204),\n",
       "  ('coordonnée', 0.022814130007819827),\n",
       "  ('analyse', 0.021869556410625147),\n",
       "  ('laisse', 0.021847642580092547),\n",
       "  ('postal', 0.020006391356149834),\n",
       "  ('autour', 0.020004073429896886),\n",
       "  ('informer', 0.019994600691277224)],\n",
       " 396: [('pacifique', 0.09480024804416226),\n",
       "  ('pouilly', 0.06777250792540375),\n",
       "  ('échanger', 0.04024644238160253),\n",
       "  ('rassembleur', 0.039310472184358396),\n",
       "  ('13h', 0.03647089895554947),\n",
       "  ('arborer', 0.03369217423810676),\n",
       "  ('10h', 0.03330810836446459),\n",
       "  ('pouillyena', 0.030762668932616314),\n",
       "  ('18h', 0.02952402098481118),\n",
       "  ('20h', 0.027107258331811542)],\n",
       " 397: [('patron', 0.022083751083374653),\n",
       "  ('éléctriciens', 0.02120107365006334),\n",
       "  ('entrepreneur', 0.021124490645406637),\n",
       "  ('sarl', 0.020152435061653953),\n",
       "  ('dividende', 0.019684625481838032),\n",
       "  ('risque', 0.019298643853744767),\n",
       "  ('gérant', 0.01915317976285024),\n",
       "  ('courroie', 0.017541104419789066),\n",
       "  ('développeur', 0.017350438694456224),\n",
       "  ('chauffagiste', 0.017335964453028582)],\n",
       " 398: [('environnemental', 0.009940776943334178),\n",
       "  ('composition', 0.00984466562391164),\n",
       "  ('jouer', 0.009482561637730346),\n",
       "  ('civil', 0.008917884288966001),\n",
       "  ('transformer', 0.008464245570737508),\n",
       "  ('tirer', 0.007848442912524957),\n",
       "  ('sort', 0.007742357744872132),\n",
       "  ('représenter', 0.0076937235442778055),\n",
       "  ('rôle', 0.007690838916182925),\n",
       "  ('assemblée', 0.007690006154086053)],\n",
       " 399: [('bistrot', 0.03374924499073527),\n",
       "  ('wgrer', 0.029978911217683105),\n",
       "  ('communalisé', 0.026785463902040417),\n",
       "  ('pomper', 0.02639315072363376),\n",
       "  ('travailler', 0.020109247911388857),\n",
       "  ('trop', 0.01964248051929575),\n",
       "  ('climatologie', 0.019565081673410797),\n",
       "  ('gsg', 0.018231256000926035),\n",
       "  ('demandon', 0.01776233172363626),\n",
       "  ('ministr', 0.016405320934200072)],\n",
       " 400: [('suppression', 0.009260748525625629),\n",
       "  ('augmentation', 0.007952246083299641),\n",
       "  ('inflation', 0.007900641294259445),\n",
       "  ('csg', 0.006694865434822661),\n",
       "  ('rétablissement', 0.00645600637487947),\n",
       "  ('réévaluation', 0.005483070053768403),\n",
       "  ('pension', 0.005354725936821525),\n",
       "  ('indexer', 0.005329163613398624),\n",
       "  ('retraite', 0.005270853194860586),\n",
       "  ('isf', 0.005264856920879364)],\n",
       " 401: [('rectorat', 0.012065180520043461),\n",
       "  ('réponse', 0.0054212886656372335),\n",
       "  ('réintégration', 0.004584546452095847),\n",
       "  ('employeur', 0.00446636859035506),\n",
       "  ('karaté', 0.004249951127981753),\n",
       "  ('diplôme', 0.004190778752604278),\n",
       "  ('diplômé', 0.00364157048805985),\n",
       "  ('horaire', 0.0035752710877095676),\n",
       "  ('champion', 0.003448564010755575),\n",
       "  ('bénévolement', 0.0034481231365726993)],\n",
       " 402: [('accord', 0.2450602307129017),\n",
       "  ('12', 0.0699569531254417),\n",
       "  ('embosser', 0.06288259426148164),\n",
       "  ('danille', 0.06288259426148164),\n",
       "  ('mictuell', 0.06288259426148164),\n",
       "  ('bexider', 0.06288259426148164),\n",
       "  ('cloiver', 0.06288259426148164),\n",
       "  ('outinijicht', 0.06288259426148164),\n",
       "  ('marakech', 0.05195824397319156),\n",
       "  ('bach', 0.0510185032491373)],\n",
       " 403: [('patron', 0.02306009862430808),\n",
       "  ('dividende', 0.02279518271181126),\n",
       "  ('entrepreneur', 0.022672180147986477),\n",
       "  ('risque', 0.022407226565776612),\n",
       "  ('sarl', 0.022022159591693843),\n",
       "  ('gérant', 0.02192687021734975),\n",
       "  ('développeur', 0.01896019655918722),\n",
       "  ('paysagiste', 0.018633267342800686),\n",
       "  ('majoritaire', 0.018602974151475247),\n",
       "  ('peintre', 0.018533269978642998)],\n",
       " 404: [('comparable', 0.039118794991922695),\n",
       "  ('pib', 0.03890296016608954),\n",
       "  ('encourager', 0.025634289220779545),\n",
       "  ('instrument', 0.02306082509673462),\n",
       "  ('stimuler', 0.022912214871924196),\n",
       "  ('prioritairement', 0.02159408387264035),\n",
       "  ('vulnérable', 0.020471468133878283),\n",
       "  ('baisser', 0.020337787138996154),\n",
       "  ('consensus', 0.02004651038758662),\n",
       "  ('horizon', 0.01889237108391721)],\n",
       " 405: [('bonjour', 0.11277844860689974),\n",
       "  ('villerèghre', 0.027282395393870337),\n",
       "  ('contraiterat', 0.027282395393870337),\n",
       "  ('compiègre', 0.027282395393870337),\n",
       "  ('crotte', 0.026672409089234524),\n",
       "  ('avance', 0.025754125347131614),\n",
       "  ('starter', 0.025448760542110784),\n",
       "  ('courgae', 0.025448760542110784),\n",
       "  ('passerelle', 0.02520872142134173),\n",
       "  ('mentation', 0.022135011991689196)],\n",
       " 406: [('contravention', 0.01024151757271336),\n",
       "  ('abbesse', 0.010135179317993952),\n",
       "  ('téléphonie', 0.009237097261560199),\n",
       "  ('lon', 0.008303820564918489),\n",
       "  ('bailleur', 0.007354508251653723),\n",
       "  ('marjorie', 0.0069832328465699875),\n",
       "  ('opérateur', 0.006481562728934148),\n",
       "  ('internet', 0.006422415586432325),\n",
       "  ('débit', 0.006326962514281788),\n",
       "  ('rénovation', 0.006234818542447796)],\n",
       " 407: [('document', 0.22766495056038055),\n",
       "  ('transmettre', 0.2120064850565919),\n",
       "  ('préfet', 0.21004185192277558),\n",
       "  ('parlementaire', 0.09227787434336412),\n",
       "  ('proposition', 0.08186932775277769),\n",
       "  ('cahier', 0.0687946391241718),\n",
       "  ('doléance', 0.05958107491951106),\n",
       "  ('boinière', 0.05006187115962615),\n",
       "  ('constructif', 0.031316144532557454),\n",
       "  ('scriptum', 0.02680064005976656)],\n",
       " 408: [('pvr', 0.03466000944369826),\n",
       "  ('tle', 0.031588994900221226),\n",
       "  ('900', 0.027322903615235063),\n",
       "  ('magstatt', 0.021153222858650497),\n",
       "  ('agacé', 0.016961842377645416),\n",
       "  ('respectuosité', 0.016961842377645416),\n",
       "  ('desabué', 0.016961842377645416),\n",
       "  ('ecoeuré', 0.016691211810454253),\n",
       "  ('egoiste', 0.016452506667839276),\n",
       "  ('dégoûté', 0.016045837074126875)],\n",
       " 409: [('traiter', 0.036565772043885156),\n",
       "  ('attention', 0.033584300076211875),\n",
       "  ('ordre', 0.024484019619922626),\n",
       "  ('priorité', 0.023889522523701363),\n",
       "  ('saric', 0.02366453009819896),\n",
       "  ('date', 0.023244796361331397),\n",
       "  ('bagneau', 0.019257574467416865),\n",
       "  ('problème', 0.019249009625894337),\n",
       "  ('augmentation', 0.018145510538030724),\n",
       "  ('habitant', 0.018089043139969552)],\n",
       " 410: [('implication', 0.010997146764081808),\n",
       "  ('concitoyen', 0.010622941715346928),\n",
       "  ('ric', 0.008845187834592434),\n",
       "  ('participant', 0.008763156285712503),\n",
       "  ('07', 0.008744685934503766),\n",
       "  ('espèce', 0.008527362142890045),\n",
       "  ('dignement', 0.007818799460910106),\n",
       "  ('primaire', 0.007688270834585973),\n",
       "  ('instauration', 0.006993900315462078),\n",
       "  ('2019', 0.006900145359615979)],\n",
       " 411: [('visiophone', 0.06479832296384443),\n",
       "  ('handicap', 0.057145562888006145),\n",
       "  ('sm', 0.040805050050746326),\n",
       "  ('entente', 0.03935365839981987),\n",
       "  ('sourd', 0.03688613083936805),\n",
       "  ('information', 0.032128359036960305),\n",
       "  ('102', 0.03116032210303242),\n",
       "  ('titrage', 0.03060758906683463),\n",
       "  ('unapei', 0.027608036963999234),\n",
       "  ('entendante', 0.027310034622830853)],\n",
       " 412: [('hégémonie', 0.01002938728917884),\n",
       "  ('municipal', 0.008811379710706925),\n",
       "  ('candidat', 0.00794458749752041),\n",
       "  ('mandat', 0.007370915237488913),\n",
       "  ('représentation', 0.006865518575959507),\n",
       "  ('démocratie', 0.006778950370575329),\n",
       "  ('élection', 0.00665890958687906),\n",
       "  ('consultatif', 0.006208144735402309),\n",
       "  ('conseil', 0.006143237011630622),\n",
       "  ('moriat', 0.005537379556671817)],\n",
       " 413: [('fortin', 0.01809863849007627),\n",
       "  ('illustre', 0.011957086720797289),\n",
       "  ('exaction', 0.011408163204277278),\n",
       "  ('condamnable', 0.01115290537675543),\n",
       "  ('malaise', 0.009322331884962322),\n",
       "  ('monsieur', 0.007652993702690564),\n",
       "  ('grave', 0.007380368517596354),\n",
       "  ('commettre', 0.007119309503922604),\n",
       "  ('profond', 0.006883105832370448),\n",
       "  ('consultation', 0.0068394733484041376)],\n",
       " 414: [('illimité', 0.02593994538891098),\n",
       "  ('radar', 0.024290419860167892),\n",
       "  ('tronçon', 0.023395238644981303),\n",
       "  ('pourrir', 0.021120710803948037),\n",
       "  ('putain', 0.018220655117058764),\n",
       "  ('vigile', 0.017544095396116427),\n",
       "  ('big', 0.017279344674374888),\n",
       "  ('boulot', 0.017136536230602267),\n",
       "  ('camoufler', 0.01561281576681637),\n",
       "  ('accident', 0.015318283283296374)],\n",
       " 415: [('rapidité', 0.10931090907405464),\n",
       "  ('relation', 0.09744049754574004),\n",
       "  ('divorce', 0.09679885727069404),\n",
       "  ('disponibilité', 0.08199974541108707),\n",
       "  ('magistrat', 0.07997105922617061),\n",
       "  ('procès', 0.0749657230456655),\n",
       "  ('équité', 0.054904473478141216),\n",
       "  ('écoute', 0.048022127631940734),\n",
       "  ('dossier', 0.04726910236869483),\n",
       "  ('résidence', 0.046206824170809076)],\n",
       " 416: [('monsieur', 0.007467370154808257),\n",
       "  ('équestre', 0.006705354694144534),\n",
       "  ('club', 0.0061493801330756),\n",
       "  ('contexte', 0.005523157165560826),\n",
       "  ('xad', 0.005448920814866475),\n",
       "  ('adresser', 0.0049521972556424475),\n",
       "  ('prier', 0.004901002941294609),\n",
       "  ('canton', 0.004782173459874813),\n",
       "  ('accumulation', 0.004707889825258827),\n",
       "  ('poney', 0.004629554367819324)],\n",
       " 417: [('prison', 0.024306092214925256),\n",
       "  ('boxeur', 0.008867720248898254),\n",
       "  ('justice', 0.007545593699249507),\n",
       "  ('condamner', 0.006510185726173583),\n",
       "  ('délinquant', 0.006359188941877923),\n",
       "  ('prisonnier', 0.005800444669424358),\n",
       "  ('police', 0.0051718617799514895),\n",
       "  ('policier', 0.004988787709365503),\n",
       "  ('biberonner', 0.004763399676143521),\n",
       "  ('peine', 0.004676414974195214)],\n",
       " 418: [('cautionner', 0.0634116537355944),\n",
       "  ('rédiger', 0.05099793444955113),\n",
       "  ('recueillir', 0.05010487419387002),\n",
       "  ('débattre', 0.04690807161683724),\n",
       "  ('contenu', 0.04621438030152674),\n",
       "  ('indiquer', 0.04203980434603225),\n",
       "  ('doléance', 0.03582675990460049),\n",
       "  ('essentiel', 0.03146466584273028),\n",
       "  ('parole', 0.03125195686074884),\n",
       "  ('engager', 0.030266332498014383)],\n",
       " 419: [('webform', 0.030971849851835122),\n",
       "  ('soumission', 0.025120628578018722),\n",
       "  ('soumettre', 0.02166982608640887),\n",
       "  ('module', 0.021396236948283947),\n",
       "  ('9709', 0.019392673310143792),\n",
       "  ('ici', 0.017540243074689),\n",
       "  ('utilisateur', 0.016186934153619645),\n",
       "  ('sgdb91', 0.015319620201866023),\n",
       "  ('avancer', 0.01381379298902961),\n",
       "  ('anonyme', 0.013785619199059561)],\n",
       " 420: [('patron', 0.030633404800392245),\n",
       "  ('collectif', 0.023298642017189578),\n",
       "  ('entrepreneur', 0.022573857449608693),\n",
       "  ('développeur', 0.018518818812056078),\n",
       "  ('chauffagiste', 0.018503369873896024),\n",
       "  ('vitrier', 0.018358723552703175),\n",
       "  ('paysagiste', 0.018199500238341396),\n",
       "  ('peintre', 0.01810183073039412),\n",
       "  ('courroie', 0.018098246518495696),\n",
       "  ('messagerie', 0.017996560791833382)],\n",
       " 421: [('enculer', 0.22942557108472092),\n",
       "  ('courat', 0.14946007911424622),\n",
       "  ('guenj', 0.14946007911424622),\n",
       "  ('gronaricer', 0.14946007911424622),\n",
       "  ('egn', 0.14946007911424622),\n",
       "  ('ploezal', 0.133539124381187),\n",
       "  ('bâtard', 0.11609361138483335),\n",
       "  ('versu', 0.11471278554236046),\n",
       "  ('macron', 0.10876182494814769),\n",
       "  ('bouffon', 0.10067215937671228)],\n",
       " 422: [('destin', 0.04563476710584821),\n",
       "  ('insatisfaire', 0.03131199602828018),\n",
       "  ('surmonter', 0.03100677762725909),\n",
       "  ('réussir', 0.030215066400961683),\n",
       "  ('incertitude', 0.029986820470405563),\n",
       "  ('fraternel', 0.028842029290859134),\n",
       "  ('financent', 0.028737696027003844),\n",
       "  ('prospère', 0.028332800005501015),\n",
       "  ('indépendamment', 0.027562027975320726),\n",
       "  ('entraide', 0.02636555284221569)],\n",
       " 423: [('code', 0.2990266907539837),\n",
       "  ('postal', 0.19961600927740544),\n",
       "  ('cod', 0.12225632596339607),\n",
       "  ('cahier', 0.06437499650684993),\n",
       "  ('ville', 0.05297182277275709),\n",
       "  ('débat', 0.04533171270207887),\n",
       "  ('25063', 0.038480393503294734),\n",
       "  ('étalan', 0.038480393503294734),\n",
       "  ('25170', 0.038480393503294734),\n",
       "  ('85340', 0.038480393503294734)],\n",
       " 424: [('légalisation', 0.032382506807209145),\n",
       "  ('mourir', 0.032053708501485055),\n",
       "  ('euthanasie', 0.031924517581583114),\n",
       "  ('ifop', 0.027872034301835713),\n",
       "  ('létal', 0.02595845154607706),\n",
       "  ('actif', 0.02450735497992807),\n",
       "  ('décéder', 0.024005754183033117),\n",
       "  ('sondage', 0.02400074761519049),\n",
       "  ('intégrer', 0.01769190404930236),\n",
       "  ('réanimation', 0.017409935792494027)],\n",
       " 425: [('échelon', 0.02177003303723723),\n",
       "  ('démarche', 0.021594568468987167),\n",
       "  ('territorial', 0.021454258836232632),\n",
       "  ('administratif', 0.020221574238663154),\n",
       "  ('organisation', 0.018488440203499202),\n",
       "  ('vou', 0.017824451606083487),\n",
       "  ('erreur', 0.016385390240901406),\n",
       "  ('évoluer', 0.015227274648730851),\n",
       "  ('collectivité', 0.01476195358831969),\n",
       "  ('oui', 0.014527387868838953)],\n",
       " 426: [('modalité', 0.21292198647845248),\n",
       "  ('intégration', 0.150170083359462),\n",
       "  ('efficace', 0.108180193605242),\n",
       "  ('hui', 0.053623870499406305),\n",
       "  ('aujourd', 0.05319070325933348),\n",
       "  ('société', 0.0403493934210891),\n",
       "  ('place', 0.03391166616951821),\n",
       "  ('mettre', 0.028136449625084284),\n",
       "  ('suffisement', 0.02545359000635885),\n",
       "  ('couton', 0.02404265294533885)],\n",
       " 427: [('alternatif', 0.08124906191607814),\n",
       "  ('covoiturage', 0.046762155832806546),\n",
       "  ('vélo', 0.04226442280994777),\n",
       "  ('déplacement', 0.038313019399915924),\n",
       "  ('mobilité', 0.036100116746000624),\n",
       "  ('auto', 0.034903353366753175),\n",
       "  ('essence', 0.030595638686693488),\n",
       "  ('recourir', 0.0298140329661171),\n",
       "  ('solution', 0.02921529059290878),\n",
       "  ('utiliser', 0.02842639320892221)],\n",
       " 428: [('jaire', 0.021132675120661863),\n",
       "  ('judéal', 0.021132675120661863),\n",
       "  ('olfachive', 0.021132675120661863),\n",
       "  ('oestrus', 0.021132675120661863),\n",
       "  ('photosensibilisation', 0.021132675120661863),\n",
       "  ('obsselètte', 0.021132675120661863),\n",
       "  ('grelan', 0.021132675120661863),\n",
       "  ('raimond', 0.021132675120661863),\n",
       "  ('tompidou', 0.021132675120661863),\n",
       "  ('nivier', 0.021132675120661863)],\n",
       " 429: [('xad', 0.08094553143349084),\n",
       "  ('tion', 0.04041966511589681),\n",
       "  ('cotisa', 0.03208802194236467),\n",
       "  ('indé', 0.03178047147857812),\n",
       "  ('transmis', 0.03105447385555145),\n",
       "  ('loppeur', 0.030420799691106695),\n",
       "  ('communica', 0.03009246236528283),\n",
       "  ('déve', 0.029785027120576058),\n",
       "  ('layer', 0.029467286260012257),\n",
       "  ('sion', 0.02914243384608892)],\n",
       " 430: [('journaliste', 0.12472492806035858),\n",
       "  ('indépendance', 0.10692986449653652),\n",
       "  ('presse', 0.09379838982796904),\n",
       "  ('média', 0.08228297357582345),\n",
       "  ('expression', 0.060301671578159716),\n",
       "  ('liberté', 0.057047740429678084),\n",
       "  ('rôle', 0.05152835195328174),\n",
       "  ('télévision', 0.018282786243261642),\n",
       "  ('entraînât', 0.017420178140005047),\n",
       "  ('russe', 0.016567756516713508)],\n",
       " 431: [('salle', 0.26824866868024133),\n",
       "  ('anion', 0.0638258631024347),\n",
       "  ('sport', 0.048634757771779606),\n",
       "  ('ag', 0.0441172167093906),\n",
       "  ('jeunessen', 0.039971881623577475),\n",
       "  ('gubard', 0.039971881623577475),\n",
       "  ('bonnerat', 0.039971881623577475),\n",
       "  ('tuzzoline', 0.039971881623577475),\n",
       "  ('18h', 0.03739235803957107),\n",
       "  ('fontenaysien', 0.03728539335239487)],\n",
       " 432: [('succession', 0.15324740340088572),\n",
       "  ('descendant', 0.02590762846468978),\n",
       "  ('parent', 0.02485451724860116),\n",
       "  ('marielle', 0.022826794827079267),\n",
       "  ('droit', 0.01956596539409073),\n",
       "  ('neveu', 0.01806437495012112),\n",
       "  ('innoubli', 0.017187909098138315),\n",
       "  ('laurenceolivierlabat', 0.017187909098138315),\n",
       "  ('pourauier', 0.017187909098138315),\n",
       "  ('valsonne', 0.017187909098138315)],\n",
       " 433: [('taxation', 0.007232276075122692),\n",
       "  ('rubrique', 0.0068855338430273616),\n",
       "  ('degré', 0.006642985483114667),\n",
       "  ('avoir', 0.006120121962724797),\n",
       "  ('blanc', 0.004905516529728973),\n",
       "  ('moi', 0.004770278504966974),\n",
       "  ('mandat', 0.004723403549784697),\n",
       "  ('territorialité', 0.004674091391451137),\n",
       "  ('an', 0.004546263420009588),\n",
       "  ('constituant', 0.00454454614861583)],\n",
       " 434: [('élitisme', 0.037931487834573806),\n",
       "  ('attrayant', 0.035077342817709974),\n",
       "  ('efficacement', 0.034630691178236944),\n",
       "  ('extrémisme', 0.034199757521796645),\n",
       "  ('indépendant', 0.034071522861864684),\n",
       "  ('diktat', 0.03316845237649693),\n",
       "  ('réintégration', 0.032139914812769836),\n",
       "  ('radicalisation', 0.0311356146568359),\n",
       "  ('femm', 0.029529277852050288),\n",
       "  ('asservir', 0.02930551550633412)],\n",
       " 435: [('réconcilier', 0.1605908097202928),\n",
       "  ('couvrir', 0.0963090855344846),\n",
       "  ('postal', 0.09166497644951635),\n",
       "  ('enjeu', 0.08252152810674745),\n",
       "  ('largement', 0.07488291707988765),\n",
       "  ('prénom', 0.059728798353878426),\n",
       "  ('thème', 0.05104272873909227),\n",
       "  ('code', 0.05050287674507525),\n",
       "  ('nation', 0.04923263230782181),\n",
       "  ('adresse', 0.04740944087376732)],\n",
       " 436: [('organisation', 0.09248241756416223),\n",
       "  ('exprimer', 0.07093444031014402),\n",
       "  ('point', 0.05866078977536185),\n",
       "  ('souhaiter', 0.043289071954238825),\n",
       "  ('débat', 0.03811530015247998),\n",
       "  ('téphi', 0.03115633069148939),\n",
       "  ('état', 0.027777574246116984),\n",
       "  ('national', 0.027109897947864343),\n",
       "  ('service', 0.02658696387478975),\n",
       "  ('grand', 0.021192164376203294)],\n",
       " 437: [('grès', 0.07918574170446363),\n",
       "  ('alpille', 0.05232241664468503),\n",
       "  ('debatnational', 0.04122903830786591),\n",
       "  ('contribution', 0.041186912900464695),\n",
       "  ('étienne', 0.03779049086687561),\n",
       "  ('luxeuil', 0.0377891580492202),\n",
       "  ('mars', 0.03503276870125134),\n",
       "  ('thème', 0.028097917601569558),\n",
       "  ('bains', 0.02571472894800275),\n",
       "  ('mid', 0.017649645803647435)],\n",
       " 438: [('immuable', 0.09109123304939024),\n",
       "  ('organique', 0.07198796857740292),\n",
       "  ('texte', 0.07190075356408882),\n",
       "  ('principe', 0.05481933135663788),\n",
       "  ('cohabiter', 0.046849654750647333),\n",
       "  ('endosser', 0.04678279585747442),\n",
       "  ('fondamental', 0.041233041266516675),\n",
       "  ('constitution', 0.040707702233113464),\n",
       "  ('disperser', 0.040433369422712015),\n",
       "  ('ranger', 0.03988595375372958)],\n",
       " 439: [('discrimination', 0.21768546619914594),\n",
       "  ('incivilité', 0.18812594169831431),\n",
       "  ('tolérant', 0.17187970052130855),\n",
       "  ('témoin', 0.14859435193580403),\n",
       "  ('répandre', 0.14637865893479596),\n",
       "  ('reculer', 0.12249660935133654),\n",
       "  ('solidaire', 0.08313141474396786),\n",
       "  ('construire', 0.06551865265414088),\n",
       "  ('victime', 0.058227295084972396),\n",
       "  ('lutter', 0.04995028421604548)],\n",
       " 440: [('message', 0.009002070308515915),\n",
       "  ('nâ', 0.00813002945260461),\n",
       "  ('encadrement', 0.0072589671251665),\n",
       "  ('belles', 0.00710808892680352),\n",
       "  ('gmail', 0.007015754838109649),\n",
       "  ('com', 0.006883118715493449),\n",
       "  ('2019', 0.006848100340470372),\n",
       "  ('33000', 0.006317744982144283),\n",
       "  ('postal', 0.0062719743709010525),\n",
       "  ('soumission', 0.006248475130191777)],\n",
       " 441: [('glisser', 0.04330924030125704),\n",
       "  ('venue', 0.03933724089988331),\n",
       "  ('plier', 0.038689538128144414),\n",
       "  ('préférence', 0.03180349026575241),\n",
       "  ('volet', 0.030814959014043145),\n",
       "  ('destination', 0.029170131270588047),\n",
       "  ('initier', 0.02839901530900163),\n",
       "  ('dédier', 0.02754667306938009),\n",
       "  ('compléter', 0.027045281271110378),\n",
       "  ('senli', 0.026785758216458885)],\n",
       " 442: [('légalisation', 0.0325921436627441),\n",
       "  ('mourir', 0.03165218247323643),\n",
       "  ('euthanasie', 0.0313375818760035),\n",
       "  ('ifop', 0.02465370904418242),\n",
       "  ('létal', 0.024260767651204423),\n",
       "  ('actif', 0.024151255697932517),\n",
       "  ('sondage', 0.02344083083529318),\n",
       "  ('décéder', 0.023003348517346096),\n",
       "  ('contraception', 0.016985646862442895),\n",
       "  ('réanimation', 0.016682950997741027)],\n",
       " 443: [('abrogation', 0.0395753420131043),\n",
       "  ('châteal', 0.022882240653428865),\n",
       "  ('mard', 0.020795997724680573),\n",
       "  ('surfacturation', 0.020050981697414698),\n",
       "  ('accouchant', 0.01825260961923493),\n",
       "  ('télécommunications', 0.01779305091126679),\n",
       "  ('redonner', 0.017699157368519246),\n",
       "  ('garantir', 0.016711236683215565),\n",
       "  ('primauté', 0.01638028347664856),\n",
       "  ('inapproprié', 0.01606200328781259)],\n",
       " 444: [('ric', 1.0079976056301538),\n",
       "  ('regi', 0.20768248410393744),\n",
       "  ('vit', 0.17174575868304545),\n",
       "  ('favorable', 0.06824795259953513),\n",
       "  ('application', 0.04608210967198325),\n",
       "  ('priorité', 0.024126933927663612),\n",
       "  ('point', 0.02311514454243425),\n",
       "  ('charge', 0.01851635424799429),\n",
       "  ('', 1e-05),\n",
       "  ('', 1e-05)],\n",
       " 445: [('fich', 0.060432420473845554),\n",
       "  ('thèm', 0.05222922047512016),\n",
       "  ('exposition', 0.03994222431678341),\n",
       "  ('mars', 0.03381685514327009),\n",
       "  ('réunion', 0.03173687223642732),\n",
       "  ('emphylluotique', 0.030452284198665098),\n",
       "  ('manifestant', 0.02843388476759654),\n",
       "  ('royal', 0.02712131787957165),\n",
       "  ('déposer', 0.02569022416278867),\n",
       "  ('royale', 0.025333993595485296)],\n",
       " 446: [('17076', 0.24765775543710117),\n",
       "  ('3170', 0.23881353408255643),\n",
       "  ('boulevard', 0.17211851155258523),\n",
       "  ('cedex', 0.16206855788828567),\n",
       "  ('document', 0.09228923132743694),\n",
       "  ('transmettre', 0.08609117553345301),\n",
       "  ('préfet', 0.08514530239648449),\n",
       "  ('mairesl7', 0.08332429674985188),\n",
       "  ('amfl7', 0.08332429674985188),\n",
       "  ('association', 0.07391725277403237)],\n",
       " 447: [('moulin', 0.06803318082627714),\n",
       "  ('vent', 0.053430940252330465),\n",
       "  ('intégrable', 0.05282521041551376),\n",
       "  ('rotor', 0.04895291263173352),\n",
       "  ('facilement', 0.0483091054463828),\n",
       "  ('gérable', 0.048197328968217996),\n",
       "  ('pale', 0.04463221688302951),\n",
       "  ('déclinaison', 0.04354632128128548),\n",
       "  ('architecture', 0.04291895713440982),\n",
       "  ('bâti', 0.04187235591897736)],\n",
       " 448: [('patron', 0.009973401565182151),\n",
       "  ('entrepreneur', 0.009966084093234708),\n",
       "  ('sarl', 0.009762609459384206),\n",
       "  ('gérant', 0.009731143334382967),\n",
       "  ('dividende', 0.009105528822414841),\n",
       "  ('risque', 0.008947107375409914),\n",
       "  ('éléctriciens', 0.00807871156719389),\n",
       "  ('majoritaire', 0.008059427120040062),\n",
       "  ('développeur', 0.00790330595765366),\n",
       "  ('chauffagiste', 0.007896712789577503)],\n",
       " 449: [('attention', 0.21067928982994022),\n",
       "  ('branche', 0.09878007903661255),\n",
       "  ('image', 0.09811546193665788),\n",
       "  ('cahier', 0.09508652482272806),\n",
       "  ('doléance', 0.0727330455313735),\n",
       "  ('episy', 0.056877775199394465),\n",
       "  ('ecuelle', 0.055102164902714475),\n",
       "  ('esquisse', 0.04121226672453562),\n",
       "  ('avenir', 0.04023376073438917),\n",
       "  ('public', 0.030645497353277245)],\n",
       " 450: [('limousine', 0.03129935893355546),\n",
       "  ('détendre', 0.027480691026596834),\n",
       "  ('eur', 0.0268742490079135),\n",
       "  ('falcon', 0.025771754454341895),\n",
       "  ('ministre', 0.0241364991672555),\n",
       "  ('logis', 0.022318156355309912),\n",
       "  ('chancelier', 0.021730536145575078),\n",
       "  ('généreusement', 0.021565194091084317),\n",
       "  ('culminer', 0.020118879479682304),\n",
       "  ('regagner', 0.018916468780297853)],\n",
       " 451: [('707', 0.03909708622823325),\n",
       "  ('sein', 0.037660932738672014),\n",
       "  ('939', 0.03595934274194524),\n",
       "  ('011', 0.035720906102050747),\n",
       "  ('établissement', 0.03502337658043076),\n",
       "  ('cartographie', 0.03493677806700667),\n",
       "  ('médico', 0.029995946358157947),\n",
       "  ('file', 0.02614258869079615),\n",
       "  ('attente', 0.025228319732789127),\n",
       "  ('administration', 0.024152265209154367)],\n",
       " 452: [('eaux', 0.12873508053993846),\n",
       "  ('amand', 0.10934530293439533),\n",
       "  ('les', 0.10520688441725684),\n",
       "  ('saint', 0.06653380670300306),\n",
       "  ('contact', 0.06310189477957642),\n",
       "  ('tz', 0.046709166456041964),\n",
       "  ('espérance', 0.04571600418412262),\n",
       "  ('id', 0.03735287297300341),\n",
       "  ('expéditeur', 0.03551580479465685),\n",
       "  ('zimbra', 0.03368037021244241)],\n",
       " 453: [('média', 0.01490452224242222),\n",
       "  ('revendication', 0.014073558914278689),\n",
       "  ('prive', 0.013771488872872249),\n",
       "  ('pognon', 0.013719273814630449),\n",
       "  ('infraction', 0.01326231731729181),\n",
       "  ('immediate', 0.01219685083710033),\n",
       "  ('prison', 0.011345824872002327),\n",
       "  ('créneau', 0.01049091255620965),\n",
       "  ('briser', 0.010093993507214856),\n",
       "  ('moi', 0.00916990851467992)],\n",
       " 454: [('cantal', 0.273138035014121),\n",
       "  ('pétition', 0.190656835089921),\n",
       "  ('guichet', 0.12310561917136364),\n",
       "  ('client', 0.10720403651793754),\n",
       "  ('st', 0.09376300048307028),\n",
       "  ('petition', 0.09045799767338034),\n",
       "  ('gare', 0.08557415514819494),\n",
       "  ('tableau', 0.08273471147416533),\n",
       "  ('vente', 0.07588970005061581),\n",
       "  ('consultation', 0.0599390465587843)],\n",
       " 455: [('discrimination', 0.16767972731565223),\n",
       "  ('incivilité', 0.15327070587445488),\n",
       "  ('tolérant', 0.13003203986853074),\n",
       "  ('répandre', 0.1192581957456497),\n",
       "  ('témoin', 0.11657954518608139),\n",
       "  ('reculer', 0.09980091853900303),\n",
       "  ('réponse', 0.07654298523593227),\n",
       "  ('solidaire', 0.06522066549147292),\n",
       "  ('construire', 0.051402591202957884),\n",
       "  ('victime', 0.047439170474137024)],\n",
       " 456: [('mourir', 0.044859835643383895),\n",
       "  ('actif', 0.029967546502918573),\n",
       "  ('légalisation', 0.027663450148778877),\n",
       "  ('législation', 0.025849517461232267),\n",
       "  ('intégrer', 0.021020067494996908),\n",
       "  ('palliatif', 0.020097238106929944),\n",
       "  ('euthanasie', 0.015542085692089185),\n",
       "  ('appartenir', 0.01548434357350713),\n",
       "  ('respectueux', 0.014568183316663416),\n",
       "  ('létal', 0.014338481075068011)],\n",
       " 457: [('faim', 0.008067147379335332),\n",
       "  ('latin', 0.00640413681626007),\n",
       "  ('étymologie', 0.006328428834443253),\n",
       "  ('reglementation', 0.006020512665197898),\n",
       "  ('mondialisation', 0.00476573529191547),\n",
       "  ('famine', 0.0045857463422066995),\n",
       "  ('chautier', 0.0042767229437465325),\n",
       "  ('surbouker', 0.0042767229437465325),\n",
       "  ('américain', 0.004177967322889666),\n",
       "  ('saisie', 0.004075463115770204)],\n",
       " 458: [('crèche', 0.2995262868969526),\n",
       "  ('galopin', 0.1835995871696027),\n",
       "  ('crêche', 0.07356139279770679),\n",
       "  ('fils', 0.06454721856293258),\n",
       "  ('caleubé', 0.04958572930370039),\n",
       "  ('génial', 0.040781607300735816),\n",
       "  ('ferme', 0.03565236053639191),\n",
       "  ('provençal', 0.035462649344798675),\n",
       "  ('agréable', 0.03096615457832727),\n",
       "  ('note', 0.030422523684192293)],\n",
       " 459: [('élitisme', 0.03520787044419029),\n",
       "  ('efficacement', 0.03266791237020817),\n",
       "  ('attrayant', 0.03241395814495979),\n",
       "  ('indépendant', 0.03192179385702795),\n",
       "  ('extrémisme', 0.03174409180313314),\n",
       "  ('réintégration', 0.030937047780197142),\n",
       "  ('diktat', 0.03078683808025008),\n",
       "  ('radicalisation', 0.028899965427639486),\n",
       "  ('femm', 0.02728715174696731),\n",
       "  ('djihadiste', 0.02669104980156938)],\n",
       " 460: [('culture', 0.027422139048517993),\n",
       "  ('inclusion', 0.025795203762519796),\n",
       "  ('promulgation', 0.025539043254769606),\n",
       "  ('quorum', 0.023767314976246758),\n",
       "  ('mobilité', 0.023634900831423146),\n",
       "  ('succession', 0.023127655493516537),\n",
       "  ('réévaluation', 0.02302626323485652),\n",
       "  ('embauche', 0.022945852848202993),\n",
       "  ('quotient', 0.02278781042893334),\n",
       "  ('essai', 0.02245890154372247)],\n",
       " 461: [('noreply', 0.043021926990133644),\n",
       "  ('indicateur', 0.039946807690218994),\n",
       "  ('pdl', 0.039347179954961405),\n",
       "  ('20citoyen', 0.032942468994766626),\n",
       "  ('cabma20', 0.031213944874684006),\n",
       "  ('suivi', 0.02976066796145374),\n",
       "  ('75020', 0.02585630235602355),\n",
       "  ('informé', 0.02488627300034306),\n",
       "  ('approfondi', 0.023822844861030684),\n",
       "  ('dysfonctionnement', 0.021928523940606272)],\n",
       " 462: [('ultime', 0.029866138203712703),\n",
       "  ('rubrique', 0.021269938499311216),\n",
       "  ('témoignage', 0.017843673811978256),\n",
       "  ('militant', 0.017038346374188787),\n",
       "  ('invite', 0.016186341354136876),\n",
       "  ('légaliser', 0.014766847587306092),\n",
       "  ('délégué', 0.012166616868291014),\n",
       "  ('entendre', 0.011302278770717187),\n",
       "  ('admo', 0.011261912318914373),\n",
       "  ('lancer', 0.011016291722812195)],\n",
       " 463: [('langon', 0.5048955789172309),\n",
       "  ('tableau', 0.4795844253859959),\n",
       "  ('degré', 0.25512059765855627),\n",
       "  ('33850', 0.16585571525720477),\n",
       "  ('leognan', 0.1364686586624633),\n",
       "  ('inssee', 0.13001128827278735),\n",
       "  ('préchac', 0.08890297809381886),\n",
       "  ('noaillac', 0.08890297809381886),\n",
       "  ('33430', 0.08890297809381886),\n",
       "  ('lanson', 0.08890297809381886)],\n",
       " 464: [('duplicata', 0.006770039081932264),\n",
       "  ('subir', 0.005951581134181809),\n",
       "  ('monsieur', 0.005659526541441685),\n",
       "  ('elu', 0.0056161197037804915),\n",
       "  ('villenne', 0.004911379022411711),\n",
       "  ('académique', 0.004513330760116012),\n",
       "  ('enfant', 0.004511479859305348),\n",
       "  ('portugais', 0.004167979691510276),\n",
       "  ('parjure', 0.004017743146313936),\n",
       "  ('dossier', 0.0039884297055714606)],\n",
       " 465: [('courage', 0.5172947985550236),\n",
       "  ('bon', 0.12971947230925301),\n",
       "  ('cœur', 0.09321567952944598),\n",
       "  ('joo', 0.0858895668296239),\n",
       "  ('cavaille', 0.07970134566285486),\n",
       "  ('persévérez', 0.07351371732333996),\n",
       "  ('monton', 0.06989467875897282),\n",
       "  ('c1', 0.06334523471526694),\n",
       "  ('jaune', 0.05236349481866813),\n",
       "  ('soutient', 0.05116958836414534)],\n",
       " 466: [('fraude', 0.03359796440788135),\n",
       "  ('faux', 0.020711939892736436),\n",
       "  ('numéro', 0.020428862031607292),\n",
       "  ('million', 0.012658876065456275),\n",
       "  ('dnlf', 0.012490586059432643),\n",
       "  ('frauduleux', 0.012191726036036538),\n",
       "  ('carte', 0.011501168589170484),\n",
       "  ('milliard', 0.010999119481560809),\n",
       "  ('magistrat', 0.010979834252993375),\n",
       "  ('sécurité', 0.01065995404659464)],\n",
       " 467: [('retourner', 0.05611101106333287),\n",
       "  ('facultatif', 0.05517957907695382),\n",
       "  ('systématiquement', 0.05349842490819854),\n",
       "  ('htm', 0.049065425687209126),\n",
       "  ('mission', 0.04555252188584159),\n",
       "  ('document', 0.04006591938255843),\n",
       "  ('message', 0.03887194075438684),\n",
       "  ('mars', 0.0384545814239408),\n",
       "  ('laurencot', 0.03069351850965173),\n",
       "  ('information', 0.029616777717276957)],\n",
       " 468: [('pétition', 0.018091415090686687),\n",
       "  ('traité', 0.017968880598118124),\n",
       "  ('identifiant', 0.012167357100479583),\n",
       "  ('opinion', 0.011860298899746706),\n",
       "  ('article', 0.010990568855080228),\n",
       "  ('tour', 0.010521062550129155),\n",
       "  ('parti', 0.0098934896375508),\n",
       "  ('souveraineté', 0.009442871141866276),\n",
       "  ('constitution', 0.008850123106086216),\n",
       "  ('éventail', 0.008250582677845356)],\n",
       " 469: [('traité', 0.05910090090961044),\n",
       "  ('rem', 0.04543391918476864),\n",
       "  ('article', 0.03931619249096848),\n",
       "  ('achoppement', 0.03886107381308992),\n",
       "  ('absolu', 0.036727954153584284),\n",
       "  ('divulguer', 0.036227956749082656),\n",
       "  ('aperçu', 0.03548162631483858),\n",
       "  ('item', 0.03296108888277366),\n",
       "  ('déroulement', 0.03182229047997835),\n",
       "  ('retravailler', 0.030826401938216855)],\n",
       " 470: [('préfet', 0.132538190256643),\n",
       "  ('porter', 0.09840129195159228),\n",
       "  ('certifier', 0.09542634821704651),\n",
       "  ('attestation', 0.08766083716538292),\n",
       "  ('numéro', 0.08256263938881439),\n",
       "  ('43', 0.08156587847810436),\n",
       "  ('délégation', 0.07288765531514509),\n",
       "  ('expression', 0.06106157325860499),\n",
       "  ('08', 0.05298303382720506),\n",
       "  ('lancer', 0.05289652840308646)],\n",
       " 471: [('exiger', 0.036018492836034116),\n",
       "  ('amenuiser', 0.026137480603268606),\n",
       "  ('marginaliser', 0.025571542912722834),\n",
       "  ('retraité', 0.02240884172728365),\n",
       "  ('casa', 0.021808482267104266),\n",
       "  ('rattrapage', 0.019919825582868728),\n",
       "  ('revalorisation', 0.01969276898279907),\n",
       "  ('contradictoire', 0.01899020112412489),\n",
       "  ('prolonger', 0.017940314621896113),\n",
       "  ('opérer', 0.017121862714108257)],\n",
       " 472: [('54380', 0.2003086865717805),\n",
       "  ('30350', 0.1892052253524492),\n",
       "  ('cahier', 0.14734277150791428),\n",
       "  ('02590', 0.11209505933568464),\n",
       "  ('59123', 0.11209505933568464),\n",
       "  ('22327', 0.11209505933568464),\n",
       "  ('24110', 0.11209505933568464),\n",
       "  ('12120', 0.11209505933568464),\n",
       "  ('24274', 0.11209505933568464),\n",
       "  ('29780', 0.11209505933568464)],\n",
       " 473: [('entrepreneur', 0.022307949222181836),\n",
       "  ('sarl', 0.022172286925494063),\n",
       "  ('patron', 0.021766220339597006),\n",
       "  ('gérant', 0.02157461277288988),\n",
       "  ('dividende', 0.020154488056682116),\n",
       "  ('risque', 0.019401581889142757),\n",
       "  ('majoritaire', 0.018304115442092886),\n",
       "  ('développeur', 0.01769065425711062),\n",
       "  ('vitrier', 0.01753771848349795),\n",
       "  ('paysagiste', 0.0173856156613562)],\n",
       " 474: [('01', 0.1953308588713231),\n",
       "  ('2019', 0.1684328015995367),\n",
       "  ('19', 0.13946090174985634),\n",
       "  ('23', 0.1138646200731097),\n",
       "  ('01819', 0.1118561800571846),\n",
       "  ('04', 0.10772631221930967),\n",
       "  ('17', 0.09339500670973974),\n",
       "  ('02', 0.0920352210873041),\n",
       "  ('valette', 0.08297040815555301),\n",
       "  ('019', 0.08249611962918486)],\n",
       " 475: [('réduise', 0.009605923902840218),\n",
       "  ('réduire', 0.007924541070296186),\n",
       "  ('train', 0.007200323817793927),\n",
       "  ('deficit', 0.007117989321963626),\n",
       "  ('cloitre', 0.006529212577803949),\n",
       "  ('staffer', 0.0061766964292678745),\n",
       "  ('6rue', 0.0061766964292678745),\n",
       "  ('380', 0.0059378711195970536),\n",
       "  ('député', 0.005803003640133598),\n",
       "  ('777', 0.005568595696316231)],\n",
       " 476: [('pétition', 0.023830808458867304),\n",
       "  ('traité', 0.02224806528619902),\n",
       "  ('parlement', 0.01701281366763244),\n",
       "  ('parti', 0.016088271266850206),\n",
       "  ('article', 0.015641922596549555),\n",
       "  ('constitution', 0.014706664814732782),\n",
       "  ('définir', 0.014185559984365737),\n",
       "  ('identifiant', 0.013149876148560724),\n",
       "  ('quinquennal', 0.012938031797360201),\n",
       "  ('majorité', 0.011216159613348105)],\n",
       " 477: [('incivilité', 0.015983016756310836),\n",
       "  ('oui', 0.01589820529556022),\n",
       "  ('falloir', 0.01200447058720794),\n",
       "  ('rôle', 0.01187475220227048),\n",
       "  ('souhaitable', 0.011865207742881717),\n",
       "  ('recours', 0.011241233687378508),\n",
       "  ('engagement', 0.011152504625796348),\n",
       "  ('davantage', 0.011040128231955026),\n",
       "  ('représenter', 0.010847135136728601),\n",
       "  ('associer', 0.010210341678790428)],\n",
       " 478: [('graphique', 3.7962522448308813),\n",
       "  ('graphe', 0.2728717803119192),\n",
       "  ('anarchique', 0.1898242503079282),\n",
       "  ('', 1e-05),\n",
       "  ('', 1e-05),\n",
       "  ('', 1e-05),\n",
       "  ('', 1e-05),\n",
       "  ('', 1e-05),\n",
       "  ('', 1e-05),\n",
       "  ('', 1e-05)],\n",
       " 479: [('mourir', 0.01824915254310086),\n",
       "  ('euthanasie', 0.01721984589860984),\n",
       "  ('légalisation', 0.016471390707023508),\n",
       "  ('létal', 0.01483777656759621),\n",
       "  ('ifop', 0.014776535804097088),\n",
       "  ('actif', 0.013243554614204097),\n",
       "  ('sondage', 0.013243501612300949),\n",
       "  ('décéder', 0.01272680287160021),\n",
       "  ('intégrer', 0.009762310889570589),\n",
       "  ('contraception', 0.009603448152796604)],\n",
       " 480: [('page', 0.23418682989336967),\n",
       "  ('écrire', 0.23365791302964078),\n",
       "  ('fin', 0.07950011161735385),\n",
       "  ('débat', 0.07787755771895599),\n",
       "  ('sheet1', 0.06875163639255326),\n",
       "  ('sheet', 0.06875163639255326),\n",
       "  ('acéré', 0.061427997215346024),\n",
       "  ('national', 0.05539121123915492),\n",
       "  ('recueillement', 0.047569700675850396),\n",
       "  ('grand', 0.04156803797643432)],\n",
       " 481: [('indemnitée', 0.008042186417323441),\n",
       "  ('plus', 0.007207857971495186),\n",
       "  ('nièce', 0.006557299441606533),\n",
       "  ('neveu', 0.0058714111430512835),\n",
       "  ('désamorce', 0.005586536001561749),\n",
       "  ('exuberante', 0.005586536001561749),\n",
       "  ('2chevau', 0.005586536001561749),\n",
       "  ('inellisibiliter', 0.005586536001561749),\n",
       "  ('arriv2', 0.005586536001561749),\n",
       "  ('imfration', 0.005586536001561749)],\n",
       " 482: [('fontenay', 0.097153480928038),\n",
       "  ('présidence', 0.03820575855556227),\n",
       "  ('inédit', 0.03784850142551977),\n",
       "  ('mouvement', 0.036756404603918144),\n",
       "  ('engendrer', 0.03504335205406297),\n",
       "  ('bc', 0.03333454298640333),\n",
       "  ('sous', 0.032899754326610145),\n",
       "  ('dignité', 0.0327875908651716),\n",
       "  ('document', 0.027298591277903603),\n",
       "  ('transmettre', 0.024404192366002102)],\n",
       " 483: [('cahuzac', 0.03807874560437793),\n",
       "  ('littéralement', 0.03725318101502289),\n",
       "  ('dividende', 0.03699708492993328),\n",
       "  ('poumon', 0.03630188081917979),\n",
       "  ('investissant', 0.03593898487284895),\n",
       "  ('notr', 0.03459610845843555),\n",
       "  ('confiscatoire', 0.033682150685448345),\n",
       "  ('étouffer', 0.033448418440865726),\n",
       "  ('faite', 0.03247941219251084),\n",
       "  ('soumettre', 0.032190088877096006)],\n",
       " 484: [('emerainville', 0.11666932051025034),\n",
       "  ('doleances', 0.06216458086880422),\n",
       "  ('emetteur', 0.04687428174483292),\n",
       "  ('coordonnee', 0.03927187508470258),\n",
       "  ('message', 0.03645943394183311),\n",
       "  ('cliquer', 0.03532360719478822),\n",
       "  ('messagerie', 0.027046822740660503),\n",
       "  ('fr', 0.022582667084252873),\n",
       "  ('option', 0.02232350497467211),\n",
       "  ('client', 0.01862951263965558)],\n",
       " 485: [('volaille', 0.06817055613737612),\n",
       "  ('vaccin', 0.05498861371407411),\n",
       "  ('pétition', 0.03835348236507263),\n",
       "  ('aviculture', 0.036192298466459154),\n",
       "  ('éleveur', 0.036061451410390175),\n",
       "  ('élevage', 0.03457608092694161),\n",
       "  ('sélectionneur', 0.034569249730272665),\n",
       "  ('amateur', 0.030642377651197164),\n",
       "  ('vétérinaire', 0.025797020725381047),\n",
       "  ('amatrice', 0.025552106139951104)],\n",
       " 486: [('sauron', 0.03412601684142626),\n",
       "  ('adoption', 0.03331141480043613),\n",
       "  ('élite', 0.032206997411970334),\n",
       "  ('mordor', 0.02957017121366353),\n",
       "  ('prémisse', 0.02929678259812218),\n",
       "  ('entrouvert', 0.029038016120826956),\n",
       "  ('obu', 0.02844586564290284),\n",
       "  ('anneau', 0.027968620260646903),\n",
       "  ('chape', 0.02709353427192881),\n",
       "  ('franchissement', 0.027051592716071576)],\n",
       " 487: [('interco', 0.007882227610063982),\n",
       "  ('sentiment', 0.0048756743307115605),\n",
       "  ('frustration', 0.004375029955057804),\n",
       "  ('perte', 0.0034259578797569065),\n",
       "  ('gilet', 0.0033275637545312686),\n",
       "  ('injustice', 0.0032103891726373494),\n",
       "  ('mouvement', 0.0031442948887394125),\n",
       "  ('sociétal', 0.0031275126025193255),\n",
       "  ('colère', 0.003123474677591036),\n",
       "  ('replis', 0.003065529472567838)],\n",
       " 488: [('doléance', 0.3404962333142123),\n",
       "  ('suite', 0.10803338396072094),\n",
       "  ('illisbl', 0.107683664667335),\n",
       "  ('doleances', 0.10501040966388646),\n",
       "  ('éligible', 0.06211436475069567),\n",
       "  ('complètement', 0.040044324228527495),\n",
       "  ('11', 0.03658990937588002),\n",
       "  ('déposer', 0.034471436019920525),\n",
       "  ('19', 0.03224096115722486),\n",
       "  ('vraiment', 0.025453589090280754)],\n",
       " 489: [('dépense', 0.0377576008988824),\n",
       "  ('préciser', 0.03760673838934514),\n",
       "  ('domaine', 0.02975952324285905),\n",
       "  ('réponse', 0.02857191671357617),\n",
       "  ('reculer', 0.02811448072844903),\n",
       "  ('territorial', 0.02498402406440118),\n",
       "  ('attribution', 0.02230186294011722),\n",
       "  ('prioritaire', 0.02164659103163975),\n",
       "  ('défense', 0.021009851711975457),\n",
       "  ('collectivité', 0.020998270558216965)],\n",
       " 490: [('armagnac', 0.006295169756163431),\n",
       "  ('portefeuille', 0.005185027532340998),\n",
       "  ('laurenti', 0.004522628812843383),\n",
       "  ('mois', 0.004425348217823614),\n",
       "  ('travailler', 0.004378057662527971),\n",
       "  ('sortir', 0.004299779731483039),\n",
       "  ('euro', 0.004297439637095341),\n",
       "  ('époux', 0.004268291539581402),\n",
       "  ('politique', 0.004261915903281752),\n",
       "  ('fric', 0.004224457439764021)],\n",
       " 491: [('aah', 0.03906657846799053),\n",
       "  ('handicapé', 0.03493988780860049),\n",
       "  ('handicap', 0.02009521443536143),\n",
       "  ('esat', 0.019110772584509574),\n",
       "  ('handicaper', 0.01785292087457825),\n",
       "  ('adulte', 0.01764261509577955),\n",
       "  ('conjoint', 0.015566755709410598),\n",
       "  ('mental', 0.014558259585908522),\n",
       "  ('allocation', 0.01194071380657625),\n",
       "  ('couple', 0.010930225384095495)],\n",
       " 492: [('page', 0.09934617872155749),\n",
       "  ('cqfd', 0.06008977181815754),\n",
       "  ('arnaqu', 0.05175299246707762),\n",
       "  ('optimisation', 0.04208951124814734),\n",
       "  ('fraude', 0.04186710482390851),\n",
       "  ('contentieux', 0.040735872326175974),\n",
       "  ('représentative', 0.03853637623345613),\n",
       "  ('fondateur', 0.038346683226770054),\n",
       "  ('participative', 0.0360278333590762),\n",
       "  ('rôle', 0.035961432233429076)],\n",
       " 493: [('indiquez', 0.07960354881469732),\n",
       "  ('thématique', 0.03150925864551523),\n",
       "  ('problématique', 0.03030708734756261),\n",
       "  ('prioritaire', 0.02477365817926793),\n",
       "  ('observation', 0.020582278237595255),\n",
       "  ('priorité', 0.020528760985669837),\n",
       "  ('indiquer', 0.020430283598737973),\n",
       "  ('ordre', 0.020384544752685196),\n",
       "  ('principal', 0.019417381276311884),\n",
       "  ('remarque', 0.017932131081999234)],\n",
       " 494: [('vœu', 0.009038143543526455),\n",
       "  ('festivité', 0.007714086179973625),\n",
       "  ('commune', 0.007014025235719537),\n",
       "  ('bénévole', 0.005568475781383237),\n",
       "  ('correct', 0.005507562054756692),\n",
       "  ('montant', 0.005236757281009761),\n",
       "  ('annuaire', 0.0052178711539921565),\n",
       "  ('fixe', 0.005164536807523803),\n",
       "  ('inégalitaire', 0.004908987640533137),\n",
       "  ('habitation', 0.004883445064344637)],\n",
       " 495: [('suite', 1.076475504465755),\n",
       "  ('page', 0.05702601377273612),\n",
       "  ('', 1e-05),\n",
       "  ('', 1e-05),\n",
       "  ('', 1e-05),\n",
       "  ('', 1e-05),\n",
       "  ('', 1e-05),\n",
       "  ('', 1e-05),\n",
       "  ('', 1e-05),\n",
       "  ('', 1e-05)],\n",
       " 496: [('désigner', 0.037511506865671645),\n",
       "  ('impartialité', 0.028390058863797016),\n",
       "  ('garant', 0.02176858417031063),\n",
       "  ('cohesion', 0.0200923601261585),\n",
       "  ('assurer', 0.019998418697161006),\n",
       "  ('inédit', 0.017906227784164563),\n",
       "  ('régularité', 0.016776509331181168),\n",
       "  ('documentaire', 0.015498319994760007),\n",
       "  ('respectivement', 0.01521910476641354),\n",
       "  ('collège', 0.014907290247310776)],\n",
       " 497: [('préfectoral', 0.029895146967460557),\n",
       "  ('compétitivité', 0.02859302319125178),\n",
       "  ('prestation', 0.02490839137482542),\n",
       "  ('concurrente', 0.024478261568511427),\n",
       "  ('élevé', 0.02425969721914693),\n",
       "  ('maladie', 0.022717577093295662),\n",
       "  ('plate', 0.02247987310907041),\n",
       "  ('acquitter', 0.02123431344075189),\n",
       "  ('combat', 0.02108993976038758),\n",
       "  ('assurance', 0.020781440181185107)],\n",
       " 498: [('cahuzac', 0.048556264928785814),\n",
       "  ('littéralement', 0.04750354293702098),\n",
       "  ('dividende', 0.047176980988682886),\n",
       "  ('poumon', 0.04629048868318408),\n",
       "  ('investissant', 0.0458277404641462),\n",
       "  ('confiscatoire', 0.045190795190702154),\n",
       "  ('étouffer', 0.04265188470590886),\n",
       "  ('faite', 0.04141625250831464),\n",
       "  ('notr', 0.04027924742491367),\n",
       "  ('soumettre', 0.04013515804142237)],\n",
       " 499: [('rattrapage', 0.07489275693266594),\n",
       "  ('pension', 0.06222912128155836),\n",
       "  ('veuf', 0.04847500688549078),\n",
       "  ('garantie', 0.04807635435731438),\n",
       "  ('gellout', 0.044638661182913576),\n",
       "  ('veuve', 0.04183327655411456),\n",
       "  ('indice', 0.041539728302551676),\n",
       "  ('réversion', 0.040571051530359246),\n",
       "  ('maintien', 0.035253408276545925),\n",
       "  ('perte', 0.03453717738357828)],\n",
       " 500: [('abrogation', 0.037591030512668454),\n",
       "  ('accouchant', 0.018249917890932433),\n",
       "  ('mard', 0.01738289024971353),\n",
       "  ('châteal', 0.01735638124712279),\n",
       "  ('surfacturation', 0.01611552759683197),\n",
       "  ('télécommunications', 0.01580611010187278),\n",
       "  ('garantir', 0.015610113264443849),\n",
       "  ('protection', 0.01539651537540767),\n",
       "  ('allopathie', 0.015302787319407886),\n",
       "  ('redonner', 0.01523441894410532)],\n",
       " 501: [('plateforme', 0.024813267363618885),\n",
       "  ('remarque', 0.01669139616379302),\n",
       "  ('granddebat', 0.014187364479073013),\n",
       "  ('vue', 0.013935960784050874),\n",
       "  ('attente', 0.013779036174260973),\n",
       "  ('participatif', 0.013724896206138936),\n",
       "  ('consultation', 0.012963318598657875),\n",
       "  ('contribuer', 0.012833391067373134),\n",
       "  ('cahierscitoyens', 0.012768056318006633),\n",
       "  ('contribution', 0.011708586376419455)],\n",
       " 502: [('aérogénérateur', 0.04272183013111682),\n",
       "  ('c02', 0.03394259678425219),\n",
       "  ('enr', 0.02624002055857714),\n",
       "  ('mix', 0.01986868784620511),\n",
       "  ('alarme', 0.01832731882974865),\n",
       "  ('terrestre', 0.017648016555350348),\n",
       "  ('éolien', 0.01611430091973494),\n",
       "  ('éolienne', 0.015087086177464865),\n",
       "  ('production', 0.01473044365964494),\n",
       "  ('habitat', 0.014245237841218531)],\n",
       " 503: [('senlis', 0.04431271522625748),\n",
       "  ('reduire', 0.04395682285430827),\n",
       "  ('glisser', 0.034363528307344036),\n",
       "  ('destination', 0.032402879259541745),\n",
       "  ('plier', 0.030698045715338223),\n",
       "  ('venue', 0.029477964736192273),\n",
       "  ('préférence', 0.02523434099553584),\n",
       "  ('volet', 0.02444999517430887),\n",
       "  ('la', 0.02442405193857735),\n",
       "  ('initier', 0.022345299525443042)],\n",
       " 504: [('marrer', 0.013061700345263515),\n",
       "  ('nb', 0.011068016735407098),\n",
       "  ('mot', 0.007063909869156812),\n",
       "  ('oxygéné', 0.006216743118723332),\n",
       "  ('tranchant', 0.005881097385867198),\n",
       "  ('coiffeus', 0.005881097385867198),\n",
       "  ('créditeur', 0.005342902348620093),\n",
       "  ('impler', 0.005226888515821486),\n",
       "  ('équitablement', 0.0051443572839666414),\n",
       "  ('cdc', 0.005129667162551371)],\n",
       " 505: [('poissy', 0.09497877161283583),\n",
       "  ('nosideespourlafrance', 0.03586030820490728),\n",
       "  ('organisation', 0.03504790715778568),\n",
       "  ('administratif', 0.03385418173104596),\n",
       "  ('territorial', 0.03265263169714592),\n",
       "  ('échelon', 0.03224118051573999),\n",
       "  ('parcourir', 0.030152775302544794),\n",
       "  ('opérateur', 0.029412871547100466),\n",
       "  ('participez', 0.028942323053046892),\n",
       "  ('transférer', 0.02524022660218073)],\n",
       " 506: [('befort', 0.22111453594533306),\n",
       "  ('marne', 0.18432936705725994),\n",
       "  ('marie', 0.12372113102352009),\n",
       "  ('oh', 0.09142023201781324),\n",
       "  ('cahierscitoyens', 0.08059948935726041),\n",
       "  ('france', 0.0803681732822216),\n",
       "  ('cola', 0.08032858767190657),\n",
       "  ('imprimer', 0.078171565747325),\n",
       "  ('bonsoir', 0.06707423779715763),\n",
       "  ('03', 0.06333695533999664)],\n",
       " 507: [('virus', 0.14963785852486175),\n",
       "  ('ko', 0.13570264661798864),\n",
       "  ('maires80', 0.1355188268003894),\n",
       "  ('pdf', 0.09562095703684992),\n",
       "  ('cahierscitoyens', 0.08369988138291042),\n",
       "  ('org', 0.08327261180500593),\n",
       "  ('imprimé', 0.08294345060304625),\n",
       "  ('avast', 0.08006588160549169),\n",
       "  ('granddebat', 0.07609420836249221),\n",
       "  ('pièce', 0.06576201205701712)],\n",
       " 508: [('mière', 0.028622200882245482),\n",
       "  ('prive', 0.02820863229064145),\n",
       "  ('xad', 0.02760936414485112),\n",
       "  ('encou', 0.02728726481314071),\n",
       "  ('qué', 0.026237017475391693),\n",
       "  ('rager', 0.026178745699629098),\n",
       "  ('criti', 0.026034400094144768),\n",
       "  ('trans', 0.0230946495830976),\n",
       "  ('utilement', 0.020364913404407232),\n",
       "  ('contracter', 0.019411136246378198)],\n",
       " 509: [('contentieux', 0.08102497670394705),\n",
       "  ('traité', 0.03909540579187204),\n",
       "  ('claquer', 0.03787725851322943),\n",
       "  ('friction', 0.034469607240623264),\n",
       "  ('révoquer', 0.032995173759873334),\n",
       "  ('observateur', 0.03244108571442608),\n",
       "  ('impartial', 0.029983160720355406),\n",
       "  ('per', 0.029923269404513654),\n",
       "  ('méfiance', 0.029766218932204214),\n",
       "  ('publiquement', 0.028438617444489306)],\n",
       " 510: [('température', 0.030323140998467793),\n",
       "  ('chaude', 0.021910469842799606),\n",
       "  ('emballement', 0.021172608837091385),\n",
       "  ('climat', 0.020433789981155862),\n",
       "  ('tragique', 0.019921967946497827),\n",
       "  ('alarmant', 0.0193796660067137),\n",
       "  ('juridiquement', 0.01830288805024121),\n",
       "  ('irréversible', 0.017637682575230126),\n",
       "  ('serre', 0.01702542735947888),\n",
       "  ('signataire', 0.016805490230207346)],\n",
       " 511: [('pétition', 0.07209257134461866),\n",
       "  ('confidentialité', 0.035450485326149896),\n",
       "  ('enregistrer', 0.02635090386810347),\n",
       "  ('site', 0.023389347991821526),\n",
       "  ('contrôlé', 0.023259201132041257),\n",
       "  ('projets', 0.02231862178772743),\n",
       "  ('pig', 0.022062461736314144),\n",
       "  ('délibérant', 0.020545988576312825),\n",
       "  ('cnil', 0.019828405751455024),\n",
       "  ('opinion', 0.01906062069877601)],\n",
       " 512: [('lrar', 0.011481829381262805),\n",
       "  ('monsieur', 0.010726380252235239),\n",
       "  ('professeur', 0.010573527666958599),\n",
       "  ('maçonnique', 0.010471483775659046),\n",
       "  ('solliciter', 0.008054341940872114),\n",
       "  ('loge', 0.007991841473271767),\n",
       "  ('récépisser', 0.007963915950229517),\n",
       "  ('madame', 0.007832063151133465),\n",
       "  ('courrier', 0.007604004443787275),\n",
       "  ('élémentaire', 0.007327332251493042)],\n",
       " 513: [('traité', 0.018157658721133375),\n",
       "  ('pétition', 0.016745221672059486),\n",
       "  ('identifiant', 0.012420646440898127),\n",
       "  ('article', 0.010802353358834199),\n",
       "  ('constitution', 0.009405675245517645),\n",
       "  ('parti', 0.008482667049689235),\n",
       "  ('opinion', 0.008291879361312147),\n",
       "  ('rôle', 0.007794348272632334),\n",
       "  ('titre', 0.007523839950727314),\n",
       "  ('page', 0.0075073156912227185)],\n",
       " 514: [('susciter', 0.02252370638285463),\n",
       "  ('le', 0.020425306755424536),\n",
       "  ('sujet', 0.019949645336532883),\n",
       "  ('haute', 0.017436427520299044),\n",
       "  ('retenir', 0.017420274838150895),\n",
       "  ('citoyenneté', 0.01735641766725379),\n",
       "  ('lu', 0.01674697566529266),\n",
       "  ('thème', 0.01461707696885088),\n",
       "  ('organisation', 0.013786383677292922),\n",
       "  ('pose', 0.013552622060062802)],\n",
       " 515: [('décile', 0.0997635614502528),\n",
       "  ('uc', 0.09139511239667264),\n",
       "  ('graphique', 0.06795994879955132),\n",
       "  ('ménage', 0.05488198095138533),\n",
       "  ('correspondre', 0.04493082249827109),\n",
       "  ('d8', 0.02928287870284077),\n",
       "  ('aspersion', 0.024080527006135565),\n",
       "  ('10ièm', 0.020767952408121768),\n",
       "  ('prevue', 0.02048262382144415),\n",
       "  ('arrosage', 0.020256027252042952)],\n",
       " 516: [('retraité', 0.02391255740256385),\n",
       "  ('fortent', 0.02290388448789971),\n",
       "  ('retraite', 0.022698971115835326),\n",
       "  ('recherce', 0.021938570434052153),\n",
       "  ('idexation', 0.021938570434052153),\n",
       "  ('regulièrement', 0.01992151079252028),\n",
       "  ('régine', 0.01907252187036548),\n",
       "  ('coût', 0.01879844166915425),\n",
       "  ('800e', 0.018638581002392754),\n",
       "  ('poisse', 0.018448082161431487)],\n",
       " 517: [('darnetal', 0.05039601718946697),\n",
       "  ('participez', 0.03957762446696135),\n",
       "  ('formulaire', 0.03280252505376181),\n",
       "  ('évoluer', 0.031141055695496897),\n",
       "  ('fiscalite', 0.025928857160363847),\n",
       "  ('urne', 0.024461958212453432),\n",
       "  ('compétitif', 0.023298057024254845),\n",
       "  ('efficace', 0.023256388333369776),\n",
       "  ('ecologique', 0.0225808333027181),\n",
       "  ('hôtel', 0.022065973742802007)],\n",
       " 518: [('dégel', 0.060167824328383676),\n",
       "  ('indice', 0.059283519531125074),\n",
       "  ('dégèle', 0.04647530865017323),\n",
       "  ('dégeler', 0.03808971510425849),\n",
       "  ('géle', 0.03414816377113572),\n",
       "  ('farmanel', 0.03414816377113572),\n",
       "  ('calcyouée', 0.03414816377113572),\n",
       "  ('sserer', 0.030510594643383786),\n",
       "  ('fonctionnaire', 0.029244785768616586),\n",
       "  ('avancement', 0.028920909069971662)],\n",
       " 519: [('traité', 0.14236782431804373),\n",
       "  ('identifiant', 0.11256655683014435),\n",
       "  ('résumer', 0.05993358967899956),\n",
       "  ('présentation', 0.04898518659446408),\n",
       "  ('accès', 0.04552091095653464),\n",
       "  ('mail', 0.04332938350508126),\n",
       "  ('validation', 0.04081148498244569),\n",
       "  ('page', 0.035473468498671085),\n",
       "  ('articl', 0.034641569880567005),\n",
       "  ('identifiable', 0.0336499127350983)],\n",
       " 520: [('doélance', 0.056603292720401904),\n",
       "  ('supression', 0.053779549061332615),\n",
       "  ('cahuzac', 0.04993107039514457),\n",
       "  ('littéralement', 0.04884854199320883),\n",
       "  ('dividende', 0.04851273388163437),\n",
       "  ('poumon', 0.04760114173640795),\n",
       "  ('investissant', 0.047125291422676116),\n",
       "  ('étouffer', 0.04385951557146632),\n",
       "  ('faite', 0.04258889810673607),\n",
       "  ('confiscatoire', 0.04195769896644261)],\n",
       " 521: [('équestre', 0.13786811267648763),\n",
       "  ('équitation', 0.08675460345923969),\n",
       "  ('club', 0.040005386326752115),\n",
       "  ('sportif', 0.03521492315987348),\n",
       "  ('cavalier', 0.029144356867368555),\n",
       "  ('éducatif', 0.02631594383263853),\n",
       "  ('poney', 0.026027912499407134),\n",
       "  ('cheval', 0.025056748044638737),\n",
       "  ('pratiquant', 0.024918683694970002),\n",
       "  ('equitation', 0.0236539411559901)],\n",
       " 522: [('loyauté', 0.025545724375631653),\n",
       "  ('laïcité', 0.025428645155236473),\n",
       "  ('persécution', 0.023105721881770427),\n",
       "  ('déterminant', 0.022677982896508762),\n",
       "  ('bousculer', 0.021545709235508685),\n",
       "  ('nation', 0.02134840789335694),\n",
       "  ('synonyme', 0.02075894678636847),\n",
       "  ('refuge', 0.020728355521766117),\n",
       "  ('défaillance', 0.02065771854440689),\n",
       "  ('philosophique', 0.020413541204057927)],\n",
       " 523: [('communauté', 0.03832456656326465),\n",
       "  ('commune', 0.025872969676224968),\n",
       "  ('vallaure', 0.023707460825018362),\n",
       "  ('basculer', 0.020457629064012734),\n",
       "  ('département', 0.020392885131832995),\n",
       "  ('demandez', 0.020007908887845205),\n",
       "  ('région', 0.019501261195006937),\n",
       "  ('préside', 0.018981343324635823),\n",
       "  ('syndicat', 0.017815089918956334),\n",
       "  ('glyphasate', 0.01764165454946085)],\n",
       " 524: [('constitution', 0.01733448768501827),\n",
       "  ('article', 0.015792813857762933),\n",
       "  ('parlement', 0.01576235870413691),\n",
       "  ('définir', 0.01566583909066599),\n",
       "  ('traité', 0.015060027227628024),\n",
       "  ('titre', 0.0140098430822066),\n",
       "  ('pragmatique', 0.013584794311839492),\n",
       "  ('quinquennal', 0.01321652019183192),\n",
       "  ('rôle', 0.012539114247295466),\n",
       "  ('iv', 0.010227042445304292)],\n",
       " 525: [('dissolution', 0.4453190224189335),\n",
       "  ('destitution', 0.1365614705958234),\n",
       "  ('démission', 0.11274797539141494),\n",
       "  ('macron', 0.06608717543326782),\n",
       "  ('costitution', 0.06588788688299915),\n",
       "  ('castener', 0.06114075831671058),\n",
       "  ('assemblée', 0.057950997835683325),\n",
       "  ('retraie', 0.03846491874734568),\n",
       "  ('comparution', 0.03561814311736047),\n",
       "  ('solliciter', 0.03232770121473328)],\n",
       " 526: [('incompréhensible', 3.0903696553579603),\n",
       "  ('incompréhensif', 0.2482745966255652),\n",
       "  ('écriture', 0.1621171825416512),\n",
       "  ('', 1e-05),\n",
       "  ('', 1e-05),\n",
       "  ('', 1e-05),\n",
       "  ('', 1e-05),\n",
       "  ('', 1e-05),\n",
       "  ('', 1e-05),\n",
       "  ('', 1e-05)],\n",
       " 527: [('vate', 0.0347230486831077),\n",
       "  ('ginasservis', 0.0347230486831077),\n",
       "  ('hemonasie', 0.0347230486831077),\n",
       "  ('lann', 0.0347230486831077),\n",
       "  ('lovi', 0.0347230486831077),\n",
       "  ('ascète', 0.03238933159905009),\n",
       "  ('gogeon', 0.031024241017851527),\n",
       "  ('blatte', 0.03005572631057153),\n",
       "  ('love', 0.03005572631057153),\n",
       "  ('alla', 0.025838786966382053)],\n",
       " 528: [('caus', 0.039075651121439396),\n",
       "  ('blesser', 0.038960579336996766),\n",
       "  ('imigrant', 0.034901777062167676),\n",
       "  ('loyer', 0.027921155106202678),\n",
       "  ('mois', 0.026188000641961764),\n",
       "  ('gôter', 0.023226904186673395),\n",
       "  ('ronan', 0.023226904186673395),\n",
       "  ('roman', 0.02282325030603232),\n",
       "  ('régulier', 0.022349067506057536),\n",
       "  ('espérance', 0.019944589663251286)],\n",
       " 529: [('ric', 0.2002644249596332),\n",
       "  ('initiative', 0.12043599054321831),\n",
       "  ('référendum', 0.10568298368362351),\n",
       "  ('citoyenne', 0.07926489481212069),\n",
       "  ('instauration', 0.07330986754507529),\n",
       "  ('mathiec', 0.06829632754227144),\n",
       "  ('matière', 0.05948509023481861),\n",
       "  ('grosso', 0.04457210659373056),\n",
       "  ('mme', 0.04101720830275864),\n",
       "  ('demission', 0.03253588499069291)],\n",
       " 530: [('modalité', 0.10531118680606347),\n",
       "  ('intégration', 0.08205520026584942),\n",
       "  ('citoyenneté', 0.06025112559903106),\n",
       "  ('efficace', 0.05605381014132382),\n",
       "  ('exprimer', 0.04060885175616893),\n",
       "  ('point', 0.03205590799752674),\n",
       "  ('démocratie', 0.031925019103690604),\n",
       "  ('hui', 0.027469586491677002),\n",
       "  ('aujourd', 0.0272476904432246),\n",
       "  ('souhaiter', 0.024782313048016282)],\n",
       " 531: [('républiqu', 0.2084286544897018),\n",
       "  ('fraternité', 0.08809646195590617),\n",
       "  ('préfet', 0.08622370225670462),\n",
       "  ('porte', 0.0802033302757309),\n",
       "  ('numéro', 0.07537954019198864),\n",
       "  ('présent', 0.07040285307500603),\n",
       "  ('mars', 0.06931324305870594),\n",
       "  ('expression', 0.0603599340627763),\n",
       "  ('égalité', 0.04251259793620817),\n",
       "  ('image', 0.041464447392361506)],\n",
       " 532: [('maternel', 0.027899541816342143),\n",
       "  ('dollotien', 0.022405545561631955),\n",
       "  ('assistant', 0.020856571225115573),\n",
       "  ('verso', 0.01784072564613494),\n",
       "  ('2015', 0.017399610652143932),\n",
       "  ('samedi', 0.01735563213536355),\n",
       "  ('photocopie', 0.016992736703819775),\n",
       "  ('rectifier', 0.015863738115031823),\n",
       "  ('suggestion', 0.015459420688556418),\n",
       "  ('contrat', 0.014551111519598169)],\n",
       " 533: [('gilets_jaune', 0.009488759728131539),\n",
       "  ('2x90', 0.005112745939366397),\n",
       "  ('phréatique', 0.005080926023121156),\n",
       "  ('décideur', 0.0050182686782218305),\n",
       "  ('ccsa', 0.004744379864065769),\n",
       "  ('nappe', 0.00465026951316961),\n",
       "  ('anvar', 0.0044470021434273276),\n",
       "  ('prescription', 0.004253467726482093),\n",
       "  ('réindustrialisation', 0.004082015350109869),\n",
       "  ('raison', 0.0038848697054073293)],\n",
       " 534: [('laïcité', 0.10827954136902218),\n",
       "  ('réciproque', 0.0858532569878877),\n",
       "  ('intangible', 0.08363570358747101),\n",
       "  ('renforcer', 0.08088019674133962),\n",
       "  ('compréhension', 0.07337875763993956),\n",
       "  ('religion', 0.06266903466660181),\n",
       "  ('engagement', 0.05328515085401404),\n",
       "  ('application', 0.05040230745373168),\n",
       "  ('garantir', 0.04871352864152499),\n",
       "  ('hui', 0.042388045925627366)],\n",
       " 535: [('noreply', 0.07639418847252664),\n",
       "  ('20citoyen', 0.0738411791789411),\n",
       "  ('cabma20', 0.06821749257230268),\n",
       "  ('pdl', 0.06756555589415388),\n",
       "  ('75020', 0.03253517686348842),\n",
       "  ('mailto', 0.02886489994703026),\n",
       "  ('envoyé', 0.028760110087641837),\n",
       "  ('informé', 0.026370174094150763),\n",
       "  ('message', 0.025009749218174615),\n",
       "  ('approfondi', 0.021438274844560394)],\n",
       " 536: [('prive', 0.023904458001917435),\n",
       "  ('utilement', 0.017310176393746147),\n",
       "  ('contracter', 0.016396984655325686),\n",
       "  ('critiquer', 0.013523153276713553),\n",
       "  ('recul', 0.013387201277165141),\n",
       "  ('livrer', 0.01305493247412115),\n",
       "  ('améliorer', 0.012876457818667796),\n",
       "  ('stratégie', 0.012697948185397037),\n",
       "  ('corriger', 0.012562664610411127),\n",
       "  ('revanche', 0.012137307540726795)],\n",
       " 537: [('remanier', 0.005484957013402939),\n",
       "  ('sursis', 0.005090420308076888),\n",
       "  ('animal', 0.0047757665368915745),\n",
       "  ('milliard', 0.004709441749467976),\n",
       "  ('condamnation', 0.004681671614942471),\n",
       "  ('culte', 0.004359932837445572),\n",
       "  ('fracture', 0.00424998596736938),\n",
       "  ('anti', 0.004136563546472474),\n",
       "  ('chekatt', 0.0041356371554317345),\n",
       "  ('amendement', 0.004090927776516393)],\n",
       " 538: [('bernadet', 0.04706964601944285),\n",
       "  ('deou', 0.0441710685366758),\n",
       "  ('lalande', 0.03939686951256823),\n",
       "  ('pvlou64', 0.01928836789201421),\n",
       "  ('fiche', 0.017785761348474594),\n",
       "  ('courriel', 0.017368425836854415),\n",
       "  ('thème', 0.01726824798421012),\n",
       "  ('citoyenneté', 0.01384049453924287),\n",
       "  ('profession', 0.013732825535461637),\n",
       "  ('06', 0.013529219140804922)],\n",
       " 539: [('cahier', 0.28921827876692635),\n",
       "  ('doléance', 0.21040631028718762),\n",
       "  ('doleance', 0.09468075484948156),\n",
       "  ('vou', 0.07204448055176386),\n",
       "  ('st', 0.04322839632661032),\n",
       "  ('', 1e-05),\n",
       "  ('', 1e-05),\n",
       "  ('', 1e-05),\n",
       "  ('', 1e-05),\n",
       "  ('', 1e-05)],\n",
       " 540: [('jeanclaude', 0.09340331315992297),\n",
       "  ('coller', 0.09285250618274728),\n",
       "  ('joindre', 0.07987534597338114),\n",
       "  ('pièce', 0.07144268463257405),\n",
       "  ('virus', 0.05718424880306698),\n",
       "  ('avance', 0.04592009142082901),\n",
       "  ('garanti', 0.03988679833098066),\n",
       "  ('piece', 0.038706148639480256),\n",
       "  ('15', 0.03817558707058025),\n",
       "  ('envoyé', 0.03310919990577304)],\n",
       " 541: [('pagnysurmoselle', 0.15370033507955155),\n",
       "  ('lemuhot', 0.10538821197146271),\n",
       "  ('pagny', 0.06102410092327093),\n",
       "  ('marie', 0.055727381238799216),\n",
       "  ('message', 0.05457172922533635),\n",
       "  ('lafay', 0.04985328965863002),\n",
       "  ('participez', 0.048231379339004676),\n",
       "  ('antiviru', 0.04673867451386164),\n",
       "  ('inconnu', 0.03203076974020909),\n",
       "  ('correspondant', 0.031138890390729083)],\n",
       " 542: [('rognac', 0.15195569471260195),\n",
       "  ('submission', 0.11630624238187083),\n",
       "  ('hargentino', 0.03881561795815642),\n",
       "  ('3993', 0.03809906768683291),\n",
       "  ('expéditeur', 0.03711522910937156),\n",
       "  ('contact', 0.03268481262571186),\n",
       "  ('fr', 0.027178566175018046),\n",
       "  ('janv', 0.0252283780885549),\n",
       "  ('saisir', 0.024036761469426866),\n",
       "  ('node', 0.023150173067700036)],\n",
       " 543: [('bonjour', 0.13615746388464947),\n",
       "  ('joint', 0.11850072469091479),\n",
       "  ('cordialement', 0.10208726386082323),\n",
       "  ('réception', 0.06261294008274024),\n",
       "  ('cahier', 0.03982787670901796),\n",
       "  ('ohain', 0.039211959919707176),\n",
       "  ('eymouthier', 0.039211959919707176),\n",
       "  ('59680', 0.039211959919707176),\n",
       "  ('prier', 0.036198472294542886),\n",
       "  ('trouver', 0.03508946021561965)],\n",
       " 544: [('coordonnée', 0.10687954172310594),\n",
       "  ('tél', 0.09971509188698581),\n",
       "  ('remarque', 0.08662150726662261),\n",
       "  ('mail', 0.07147241938854407),\n",
       "  ('prénom', 0.05625280795607502),\n",
       "  ('débat', 0.04014894200501937),\n",
       "  ('nom', 0.03563422656590131),\n",
       "  ('tsvp', 0.03511342750224682),\n",
       "  ('obligatoire', 0.03483386383093211),\n",
       "  ('national', 0.02794876472030486)],\n",
       " 545: [('augmentation', 0.06511431880040155),\n",
       "  ('tourlamain', 0.05826409863775699),\n",
       "  ('falco', 0.049171979470128045),\n",
       "  ('euro', 0.04694737600463169),\n",
       "  ('moue', 0.03183141863742067),\n",
       "  ('smig', 0.02989892066460378),\n",
       "  ('essor', 0.02634302639341634),\n",
       "  ('retraite', 0.025895175653658294),\n",
       "  ('mois', 0.021897311271244866),\n",
       "  ('virer', 0.02124953491683941)],\n",
       " 546: [('senlis', 0.0912388970576841),\n",
       "  ('connect', 0.08004331290780169),\n",
       "  ('internaute', 0.05994905654935557),\n",
       "  ('ractu', 0.05798879021382609),\n",
       "  ('envoyé', 0.050512020581634176),\n",
       "  ('liter', 0.04700766764253592),\n",
       "  ('remplir', 0.04219294653709403),\n",
       "  ('formulaire', 0.04166842742242642),\n",
       "  ('ville', 0.038576417348662524),\n",
       "  ('tome', 0.03476358245373904)],\n",
       " 547: [('2nd', 0.024485390495560113),\n",
       "  ('perceptible', 0.023479148071022738),\n",
       "  ('institution', 0.02270507164320801),\n",
       "  ('million', 0.019900660794408536),\n",
       "  ('tour', 0.0178926752050606),\n",
       "  ('stabilité', 0.017386796306596845),\n",
       "  ('défiance', 0.01718084629803047),\n",
       "  ('asile', 0.01693598863199923),\n",
       "  ('tradition', 0.015968812351746135),\n",
       "  ('laïcité', 0.015091020108647622)],\n",
       " 548: [('effroyable', 0.01703135255778812),\n",
       "  ('histoire', 0.01530342124232476),\n",
       "  ('rêve', 0.011274040380297822),\n",
       "  ('rev', 0.010190783248341823),\n",
       "  ('punition', 0.006605835517373756),\n",
       "  ('souvenir', 0.006513136194436687),\n",
       "  ('horizon', 0.006388107763251248),\n",
       "  ('lécolo', 0.006184026565303291),\n",
       "  ('monde', 0.005572773607849875),\n",
       "  ('èm', 0.00550483718184668)],\n",
       " 549: [('stade', 0.23797366067042547),\n",
       "  ('city', 0.09560996738659615),\n",
       "  ('monne', 0.07296907940795432),\n",
       "  ('civilisé', 0.04167695769187965),\n",
       "  ('amuser', 0.04064758241472895),\n",
       "  ('2007', 0.032134191479361945),\n",
       "  ('edonnel', 0.028100123866166178),\n",
       "  ('braiger', 0.028100123866166178),\n",
       "  ('assir', 0.028100123866166178),\n",
       "  ('planquel', 0.028100123866166178)],\n",
       " 550: [('urne', 0.14271850406643702),\n",
       "  ('faite', 0.1321710051183276),\n",
       "  ('disponible', 0.12713001652942496),\n",
       "  ('déposer', 0.10737275047353234),\n",
       "  ('idée', 0.05788586363461092),\n",
       "  ('contribution', 0.05664490840634086),\n",
       "  ('demande', 0.029454371077737428),\n",
       "  ('gpr', 0.024671639853787054),\n",
       "  ('phrase', 0.021571804948841547),\n",
       "  ('proposition', 0.020920710724704136)],\n",
       " 551: [('équestre', 0.10977918115145854),\n",
       "  ('atypique', 0.05578219634041422),\n",
       "  ('club', 0.042991731287993114),\n",
       "  ('poney', 0.04260877327502778),\n",
       "  ('sportif', 0.035034575722777586),\n",
       "  ('licencié', 0.03311288236018792),\n",
       "  ('centre', 0.028751910770055986),\n",
       "  ('équitation', 0.026553050521837658),\n",
       "  ('ffe', 0.02544009708170424),\n",
       "  ('agricole', 0.024408906243181323)],\n",
       " 552: [('incivilité', 0.018205230901377555),\n",
       "  ('oui', 0.017473458545792343),\n",
       "  ('destinataire', 0.011763546215240584),\n",
       "  ('engagement', 0.010293066770395808),\n",
       "  ('discrimination', 0.009800285721691587),\n",
       "  ('rôle', 0.009687553314175985),\n",
       "  ('vou', 0.009342469630073553),\n",
       "  ('migratoire', 0.008891186630124972),\n",
       "  ('souhaitable', 0.008736521585835051),\n",
       "  ('civique', 0.008621031835472012)],\n",
       " 553: [('milliard', 0.04224806426588589),\n",
       "  ('fraude', 0.015931672443116586),\n",
       "  ('pailhe', 0.008173008908171518),\n",
       "  ('décoré', 0.007394596742746529),\n",
       "  ('fise', 0.006805827685262108),\n",
       "  ('million', 0.005961316704339763),\n",
       "  ('noir', 0.0054390378960558535),\n",
       "  ('cvae', 0.005299177720533392),\n",
       "  ('dette', 0.005276489569008776),\n",
       "  ('fiscal', 0.005275599833131429)],\n",
       " 554: [('sarl', 0.02398166418630361),\n",
       "  ('dividende', 0.02338611722995783),\n",
       "  ('gérant', 0.023335216624590593),\n",
       "  ('entrepreneur', 0.0230560240411375),\n",
       "  ('patron', 0.023019294607530997),\n",
       "  ('risque', 0.020916276835632654),\n",
       "  ('électricien', 0.019806145241001685),\n",
       "  ('majoritaire', 0.019797829210611503),\n",
       "  ('développeur', 0.018709099503305928),\n",
       "  ('chauffagiste', 0.018693491827449806)],\n",
       " 555: [('nuire', 0.07466919804361388),\n",
       "  ('coût', 0.050033875165049334),\n",
       "  ('faute', 0.04970674351238817),\n",
       "  ('revalorisation', 0.043303694112365884),\n",
       "  ('csg', 0.04250094041817458),\n",
       "  ('injuste', 0.04013497900333309),\n",
       "  ('ravire', 0.039211959919707176),\n",
       "  ('retroacht', 0.039211959919707176),\n",
       "  ('suppression', 0.03466386070195259),\n",
       "  ('retroactif', 0.032399817534613747)],\n",
       " 556: [('asile', 0.03889092968453187),\n",
       "  ('délivrer', 0.022703054563453902),\n",
       "  ('progresser', 0.020436636777131294),\n",
       "  ('histoire', 0.02010283514961151),\n",
       "  ('intégration', 0.019606240746378425),\n",
       "  ('séjour', 0.019591026887323258),\n",
       "  ('migratoire', 0.01899731755928643),\n",
       "  ('incivique', 0.017445445244642952),\n",
       "  ('subsaharien', 0.016526917591274098),\n",
       "  ('persécuter', 0.016522885894465003)],\n",
       " 557: [('fenarac', 0.01374760260950564),\n",
       "  ('oniam', 0.01133752544448024),\n",
       "  ('degré', 0.010056671032322027),\n",
       "  ('madame', 0.008616249699432185),\n",
       "  ('marc', 0.007712917090909998),\n",
       "  ('mesieur', 0.007266204544384296),\n",
       "  ('monsieur', 0.007214606174713199),\n",
       "  ('jean', 0.0068045200659087755),\n",
       "  ('retraité', 0.005738095681306315),\n",
       "  ('pension', 0.005499502721450018)],\n",
       " 558: [('hauts', 0.014182002557455773),\n",
       "  ('tom', 0.012908055972784374),\n",
       "  ('cdi', 0.012300356026352875),\n",
       "  ('inspecteur', 0.012185850753192382),\n",
       "  ('balance', 0.011788839603335068),\n",
       "  ('attribué', 0.011408292924931675),\n",
       "  ('compétivité', 0.010867059059456537),\n",
       "  ('energétique', 0.010675570572816553),\n",
       "  ('equilibrer', 0.009773807546537804),\n",
       "  ('270', 0.00970557393505623)],\n",
       " 559: [('mars', 0.1004750792237544),\n",
       "  ('numéro', 0.092335213706352),\n",
       "  ('préfet', 0.09121609194364584),\n",
       "  ('porte', 0.08115813182663245),\n",
       "  ('présent', 0.07886033867167883),\n",
       "  ('expression', 0.07476556458456135),\n",
       "  ('logo', 0.05486894356212906),\n",
       "  ('71063', 0.05180619265602776),\n",
       "  ('01', 0.04444035413474546),\n",
       "  ('janvier', 0.04278306960386533)],\n",
       " 560: [('rivoli', 0.08312225193482028),\n",
       "  ('vilette', 0.08097373097107798),\n",
       "  ('deletoille', 0.07170487762004411),\n",
       "  ('catherine', 0.06221396201351403),\n",
       "  ('combustible', 0.05064374600564574),\n",
       "  ('janv', 0.03906849854890023),\n",
       "  ('fossile', 0.035566321401779934),\n",
       "  ('insertion', 0.03494245748372486),\n",
       "  ('deletoillec', 0.03424507946639289),\n",
       "  ('amand', 0.03055774204570304)],\n",
       " 561: [('fraternelle', 0.08850038441331178),\n",
       "  ('antisocial', 0.07934647053447197),\n",
       "  ('annuité', 0.07620461840125729),\n",
       "  ('véritablement', 0.061858841527242095),\n",
       "  ('punitif', 0.05113945524146574),\n",
       "  ('efficacement', 0.04893927793329202),\n",
       "  ('cadeau', 0.046969510033987055),\n",
       "  ('digne', 0.04599499804225118),\n",
       "  ('générer', 0.04283717188813787),\n",
       "  ('détenir', 0.04084939840085296)],\n",
       " 562: [('officiellement', 0.02433605431745039),\n",
       "  ('sonore', 0.017940837443043978),\n",
       "  ('retourner', 0.016957930903324654),\n",
       "  ('voisinage', 0.016711310518167127),\n",
       "  ('thématique', 0.01642869873904556),\n",
       "  ('solliciter', 0.014623300667508445),\n",
       "  ('municipalité', 0.014105452638725159),\n",
       "  ('nuisance', 0.013633017425244896),\n",
       "  ('charger', 0.013278784779056581),\n",
       "  ('connaissance', 0.012421422862449166)],\n",
       " 563: [('entrepreneur', 0.025893775559867438),\n",
       "  ('dividende', 0.025618025159740997),\n",
       "  ('risque', 0.024614721721423278),\n",
       "  ('sarl', 0.023475685094704622),\n",
       "  ('gérant', 0.022842876659430078),\n",
       "  ('vitrier', 0.020906950890011208),\n",
       "  ('paysagiste', 0.020725627062984225),\n",
       "  ('restaurateur', 0.020211254978789384),\n",
       "  ('plombier', 0.020203605608159203),\n",
       "  ('ambulancier', 0.020138963930734728)],\n",
       " 564: [('xad', 0.032466489380725945),\n",
       "  ('rebâtir', 0.03016577246310051),\n",
       "  ('respon', 0.021055849395911905),\n",
       "  ('ins', 0.020004066501656162),\n",
       "  ('accepter', 0.0189725902146101),\n",
       "  ('orienta', 0.01837753792555581),\n",
       "  ('agresse', 0.016753420035795802),\n",
       "  ('ample', 0.01633878608847877),\n",
       "  ('accusation', 0.015542976348701033),\n",
       "  ('sable', 0.01509185553621419)],\n",
       " 565: [('incompréhensible', 0.10897881427558644),\n",
       "  ('amendable', 0.04892716999643144),\n",
       "  ('20h00', 0.04552651224137082),\n",
       "  ('synthèse', 0.042276040889392304),\n",
       "  ('nort', 0.038152470918405006),\n",
       "  ('erdre', 0.038152470918405006),\n",
       "  ('remarque', 0.03293845288484016),\n",
       "  ('instance', 0.03282033238093614),\n",
       "  ('incertitude', 0.032045931689514244),\n",
       "  ('expression', 0.028952627391946924)],\n",
       " 566: [('cahier', 0.38510042553204865),\n",
       "  ('fleurac', 0.30061348390368364),\n",
       "  ('painblanc', 0.27895470981999204),\n",
       "  ('michei', 0.27198251144414576),\n",
       "  ('sumene', 0.26628600036260675),\n",
       "  ('tille', 0.22715271698868159),\n",
       "  ('max', 0.12713975073477232),\n",
       "  ('amif', 0.08965494357180673),\n",
       "  ('citoyen', 0.03858951120491803),\n",
       "  ('', 1e-05)],\n",
       " 567: [('légalisation', 0.03418862050147291),\n",
       "  ('mourir', 0.0323184453041016),\n",
       "  ('euthanasie', 0.03231481281741119),\n",
       "  ('létal', 0.027718048163656077),\n",
       "  ('ifop', 0.02754105265207781),\n",
       "  ('actif', 0.025545152999727306),\n",
       "  ('décéder', 0.024798897726666963),\n",
       "  ('sondage', 0.024793725743193988),\n",
       "  ('intégrer', 0.018276439713722826),\n",
       "  ('réanimation', 0.01798515530293357)],\n",
       " 568: [('inaliénable', 0.04019237414582998),\n",
       "  ('policier', 0.03363244846884964),\n",
       "  ('main', 0.028266685087078053),\n",
       "  ('restauron', 0.02542278681278726),\n",
       "  ('crevé', 0.024409173243701444),\n",
       "  ('liberté', 0.02422721145312753),\n",
       "  ('concrétisation', 0.02337445411864518),\n",
       "  ('abusif', 0.023242011837118208),\n",
       "  ('allopathie', 0.02276569386827207),\n",
       "  ('perquisition', 0.02263848510313025)],\n",
       " 569: [('aspiration', 0.06913715410197752),\n",
       "  ('envoi', 0.056311811555593075),\n",
       "  ('coordonnée', 0.04534298364355866),\n",
       "  ('mars', 0.043296711298938584),\n",
       "  ('consultation', 0.04219947879183245),\n",
       "  ('rapporter', 0.042018353088564525),\n",
       "  ('document', 0.034858458239876385),\n",
       "  ('nom', 0.03160952712356351),\n",
       "  ('attention', 0.03008314560341896),\n",
       "  ('touraine', 0.0278075980926712)],\n",
       " 570: [('fatalité', 0.020470119981824398),\n",
       "  ('conspiration', 0.01491701883157582),\n",
       "  ('spécial', 0.014627202485627547),\n",
       "  ('exploiteur', 0.012990201710519993),\n",
       "  ('ruse', 0.012906590176616177),\n",
       "  ('exploité', 0.01207981453096084),\n",
       "  ('appât', 0.011709901334958531),\n",
       "  ('berner', 0.011285579808697188),\n",
       "  ('miséreux', 0.010846269437192952),\n",
       "  ('confiance', 0.010559859515770124)],\n",
       " 571: [('vou', 0.03022121078871439),\n",
       "  ('oui', 0.023588727468289137),\n",
       "  ('démarche', 0.019907104034191252),\n",
       "  ('destinataire', 0.01822565504900941),\n",
       "  ('polyvalent', 0.017023940244156734),\n",
       "  ('autonomi', 0.015661745001805442),\n",
       "  ('difficulté', 0.015082924865345867),\n",
       "  ('agent', 0.014894721181329708),\n",
       "  ('territorial', 0.013830600431839077),\n",
       "  ('administratif', 0.013754250953473953)],\n",
       " 572: [('bsv', 0.010564845603354247),\n",
       "  ('madec', 0.010278604600795768),\n",
       "  ('déplacer', 0.009706993373809862),\n",
       "  ('hennezi', 0.007882121114030713),\n",
       "  ('transport', 0.007830272170556986),\n",
       "  ('ménage', 0.007500380904014816),\n",
       "  ('cice', 0.007169392600062307),\n",
       "  ('chauffer', 0.007002549736384354),\n",
       "  ('tourisme', 0.006576504157662966),\n",
       "  ('pl', 0.006168715256046049)],\n",
       " 573: [('étampe', 0.0998005590471071),\n",
       "  ('109', 0.07540808400958089),\n",
       "  ('cedex', 0.060620113434404856),\n",
       "  ('étampes', 0.04844821364497453),\n",
       "  ('homm', 0.04767344006320663),\n",
       "  ('droits', 0.041155679540339316),\n",
       "  ('attention', 0.034252374862674156),\n",
       "  ('traiter', 0.03242883102723242),\n",
       "  ('contribution', 0.028931539239797754),\n",
       "  ('date', 0.028222848628677463)],\n",
       " 574: [('amender', 0.02160671721093556),\n",
       "  ('signature', 0.021100965990526428),\n",
       "  ('intégralité', 0.01706281787062456),\n",
       "  ('obtention', 0.014437244970337606),\n",
       "  ('discuter', 0.014293176722214413),\n",
       "  ('compléter', 0.013888897756086418),\n",
       "  ('lisible', 0.012377835954418142),\n",
       "  ('exeterer', 0.011792349863829803),\n",
       "  ('entrer', 0.010371214576013608),\n",
       "  ('encadrer', 0.010157660876213816)],\n",
       " 575: [('mari', 0.010968529380811394),\n",
       "  ('cady', 0.010417410494405768),\n",
       "  ('mois', 0.010015858115184599),\n",
       "  ('cdd', 0.008626120769750917),\n",
       "  ('emplette', 0.008331152096980378),\n",
       "  ('époux', 0.008211333955626583),\n",
       "  ('époque', 0.007999371790322167),\n",
       "  ('toucher', 0.007407622127035961),\n",
       "  ('prenez', 0.007284458979268525),\n",
       "  ('galère', 0.007214206714536063)],\n",
       " 576: [('grigny91', 0.09795330435454998),\n",
       "  ('grignoise', 0.09357931037068266),\n",
       "  ('cablnet', 0.05922427316571405),\n",
       "  ('grignoi', 0.054981600469333904),\n",
       "  ('atelier', 0.029113141441454493),\n",
       "  ('synthèse', 0.024934024116191403),\n",
       "  ('www', 0.022353467301015017),\n",
       "  ('redistribution', 0.02154273414503297),\n",
       "  ('revendication', 0.020930795854597593),\n",
       "  ('doleance', 0.019021553864799493)],\n",
       " 577: [('amand', 0.008878377960148533),\n",
       "  ('grandgirard', 0.008339515808337994),\n",
       "  ('belvedere', 0.008339515808337994),\n",
       "  ('ledwock', 0.008339515808337994),\n",
       "  ('eal', 0.007839663344621101),\n",
       "  ('courbe', 0.007598588377642221),\n",
       "  ('annoncer', 0.007327536590467268),\n",
       "  ('vaast', 0.007137872856709212),\n",
       "  ('pénurie', 0.006893024538332851),\n",
       "  ('les', 0.006891439527926723)],\n",
       " 578: [('jelite', 0.026996715860950232),\n",
       "  ('apprésentation', 0.026996715860950232),\n",
       "  ('completeur', 0.026996715860950232),\n",
       "  ('ucert', 0.026996715860950232),\n",
       "  ('rebouche', 0.02336793380691033),\n",
       "  ('frauder', 0.02311044492358779),\n",
       "  ('toi', 0.020089318662344164),\n",
       "  ('déploiement', 0.02006962433348552),\n",
       "  ('muller', 0.01818423821202395),\n",
       "  ('oublie', 0.015995398201389722)],\n",
       " 579: [('invite', 0.16453299808567903),\n",
       "  ('adresser', 0.1033500855732185),\n",
       "  ('lettre', 0.07986068767081718),\n",
       "  ('participer', 0.058316029139078594),\n",
       "  ('avis', 0.05001296080583271),\n",
       "  ('débat', 0.0443957573694761),\n",
       "  ('janvier', 0.03983601730336155),\n",
       "  ('idée', 0.03657396609692757),\n",
       "  ('national', 0.03157693752350874),\n",
       "  ('république', 0.025469795495193678)],\n",
       " 580: [('925', 0.04757725818620252),\n",
       "  ('réponse', 0.046475225246156555),\n",
       "  ('59', 0.04521216195788471),\n",
       "  ('23', 0.03811817029286237),\n",
       "  ('recours', 0.03718686730590412),\n",
       "  ('introduire', 0.035408552087651375),\n",
       "  ('minute', 0.034181575835826164),\n",
       "  ('30', 0.033451019670099225),\n",
       "  ('institutionnel', 0.031059647305387482),\n",
       "  ('publier', 0.030385247021379583)],\n",
       " 581: [('tétat', 0.027461297852415485),\n",
       "  ('compétitive', 0.023885648830632638),\n",
       "  ('efficace', 0.023200185096850002),\n",
       "  ('électronique', 0.02100007362531086),\n",
       "  ('ci', 0.018624666004002498),\n",
       "  ('réunion', 0.016009683518651757),\n",
       "  ('formulaire', 0.014436728763747247),\n",
       "  ('résidence', 0.013995307064555125),\n",
       "  ('courrier', 0.013791143481487357),\n",
       "  ('transmettre', 0.013241031608385426)],\n",
       " 582: [('messagerie', 0.04324467535334118),\n",
       "  ('pro', 0.04066717337121211),\n",
       "  ('désabonnement', 0.0369039819271376),\n",
       "  ('dividende', 0.03560096851748297),\n",
       "  ('poumon', 0.0349319985241164),\n",
       "  ('investissant', 0.03458279676443956),\n",
       "  ('cahuzac', 0.034486411113398875),\n",
       "  ('littéralement', 0.03373872997586979),\n",
       "  ('confiscatoire', 0.03355504823003156),\n",
       "  ('étouffer', 0.03218621397139909)],\n",
       " 583: [('littéralement', 0.10696389101141834),\n",
       "  ('poumon', 0.10423245257596586),\n",
       "  ('étouffer', 0.09603939548599319),\n",
       "  ('aberration', 0.08933926731102143),\n",
       "  ('cahuzac', 0.0863165595323119),\n",
       "  ('confiscatoire', 0.08398543729683156),\n",
       "  ('notr', 0.08365029209353073),\n",
       "  ('doélance', 0.07175734590207666),\n",
       "  ('sarl', 0.07134843374830625),\n",
       "  ('gérant', 0.06942517184828445)],\n",
       " 584: [('77100', 0.04764321335618615),\n",
       "  ('meau', 0.03986725123920464),\n",
       "  ('fier', 0.021280083443745476),\n",
       "  ('histoire', 0.01975490374794359),\n",
       "  ('téléphone', 0.019468115704029718),\n",
       "  ('message', 0.018067832977889137),\n",
       "  ('postal', 0.01802419240027977),\n",
       "  ('numéro', 0.01778731326988549),\n",
       "  ('code', 0.01735740808361872),\n",
       "  ('scholastiqu', 0.016965770694371666)],\n",
       " 585: [('lunette', 0.1273239151885528),\n",
       "  ('paire', 0.10733744303564262),\n",
       "  ('opticien', 0.09149736168897085),\n",
       "  ('verre', 0.08375790278871734),\n",
       "  ('monture', 0.05605043501734747),\n",
       "  ('mutuelle', 0.03850526614996102),\n",
       "  ('implant', 0.03602201402621381),\n",
       "  ('zéro', 0.031232991241664107),\n",
       "  ('annonce', 0.029241809594234176),\n",
       "  ('314', 0.026993034572688958)],\n",
       " 586: [('abrogation', 0.040209827753276334),\n",
       "  ('goutte', 0.03596474454068411),\n",
       "  ('clonage', 0.03218486758097603),\n",
       "  ('enfance', 0.031542507690857896),\n",
       "  ('sexuel', 0.03152822066459152),\n",
       "  ('préservation', 0.030477443969051204),\n",
       "  ('djihadist', 0.029514091537710313),\n",
       "  ('squatteur', 0.028098127542253996),\n",
       "  ('signalement', 0.02615828820625571),\n",
       "  ('barbare', 0.025946847480194955)],\n",
       " 587: [('officiellement', 0.024250938198228766),\n",
       "  ('thématique', 0.01809452714547462),\n",
       "  ('retourner', 0.016898620003961463),\n",
       "  ('solliciter', 0.015339110748622226),\n",
       "  ('municipalité', 0.014795914076060342),\n",
       "  ('charger', 0.01392878085216669),\n",
       "  ('connaissance', 0.011815343155020596),\n",
       "  ('principal', 0.011150637866507343),\n",
       "  ('engager', 0.010774569413390445),\n",
       "  ('citoyenneté', 0.00954775717974896)],\n",
       " 588: [('questionnaire', 0.2742474722984719),\n",
       "  ('questionnair', 0.13180566549263584),\n",
       "  ('suite', 0.09102505120382795),\n",
       "  ('solidarité', 0.06756125994533924),\n",
       "  ('disparate', 0.05183887511180742),\n",
       "  ('majeur', 0.041986527350365524),\n",
       "  ('synthes', 0.041952615150178424),\n",
       "  ('smic', 0.04043553341010952),\n",
       "  ('démarrer', 0.03908073761184106),\n",
       "  ('lavenant', 0.03510073869136027)],\n",
       " 589: [('patron', 0.032399030715630564),\n",
       "  ('collectif', 0.02375468855391781),\n",
       "  ('entrepreneur', 0.02303624239937721),\n",
       "  ('courroie', 0.019300891594589913),\n",
       "  ('digital', 0.019050328121688696),\n",
       "  ('consultant', 0.019013837093347526),\n",
       "  ('restaurateur', 0.01892718103787839),\n",
       "  ('ambulancier', 0.018859482829361188),\n",
       "  ('jardinage', 0.018810100175651396),\n",
       "  ('développeur', 0.018761940737560632)],\n",
       " 590: [('narbonnai', 0.04640551628503057),\n",
       "  ('carrefour', 0.04391329411092192),\n",
       "  ('gare', 0.024336377722063998),\n",
       "  ('port', 0.01753127324324154),\n",
       "  ('correspondance', 0.016299708342788464),\n",
       "  ('franco', 0.01600996192463902),\n",
       "  ('portuaire', 0.015416530299009525),\n",
       "  ('pensant', 0.014896923967413139),\n",
       "  ('la', 0.014458350313306063),\n",
       "  ('déporter', 0.014203927906656064)],\n",
       " 591: [('pauvreté', 0.012028430144217603),\n",
       "  ('glacier', 0.00919089441104668),\n",
       "  ('denrée', 0.008898661704133854),\n",
       "  ('changement', 0.00861263659130797),\n",
       "  ('dimension', 0.008577770412432522),\n",
       "  ('émergent', 0.00826946007870475),\n",
       "  ('rigueur', 0.008167800819193232),\n",
       "  ('indécis', 0.008100991855036018),\n",
       "  ('glace', 0.007935329544518645),\n",
       "  ('bouleversement', 0.00783570445378569)],\n",
       " 592: [('volslu', 0.0323526440124362),\n",
       "  ('employé', 0.007328091157365257),\n",
       "  ('travailler', 0.007024708079733707),\n",
       "  ('ruer', 0.006358928549316835),\n",
       "  ('pareil', 0.00633608883206694),\n",
       "  ('ruol', 0.006081979922311487),\n",
       "  ('tôt', 0.005942731932818708),\n",
       "  ('correctement', 0.005655025454704874),\n",
       "  ('sieste', 0.005301589267958744),\n",
       "  ('mois', 0.00529933516055162)],\n",
       " 593: [('sté', 0.017273939137014884),\n",
       "  ('dissuasion', 0.013562181244223618),\n",
       "  ('migrant', 0.010120220349867362),\n",
       "  ('expulsion', 0.008779857030164075),\n",
       "  ('parasite', 0.007889857336238091),\n",
       "  ('viru', 0.007846656073383099),\n",
       "  ('reformatage', 0.0077152555870697885),\n",
       "  ('renegociation', 0.007522420368377411),\n",
       "  ('soustraire', 0.007462963353424025),\n",
       "  ('immigration', 0.007207421357987361)],\n",
       " 594: [('coùt', 0.0709070723123603),\n",
       "  ('indexer', 0.053859392063742996),\n",
       "  ('inflation', 0.053427791364544626),\n",
       "  ('indexation', 0.047409909580669075),\n",
       "  ('cs', 0.03145312738639634),\n",
       "  ('cart', 0.029151499885131115),\n",
       "  ('mde', 0.0279682237145532),\n",
       "  ('transparenc', 0.025890856410724042),\n",
       "  ('lutte', 0.02459639388762808),\n",
       "  ('rase', 0.022349242419047313)],\n",
       " 595: [('musicien', 0.16328567954709888),\n",
       "  ('musique', 0.09849093207479008),\n",
       "  ('musical', 0.08608789120806097),\n",
       "  ('salle', 0.08327855892350434),\n",
       "  ('scène', 0.0536723335241786),\n",
       "  ('tripartite', 0.040800056328522516),\n",
       "  ('précédemment', 0.0374737768457343),\n",
       "  ('style', 0.03658028261971314),\n",
       "  ('administrateur', 0.03568386739353984),\n",
       "  ('langue', 0.03499230218194007)],\n",
       " 596: [('surveillance', 0.023111940285642504),\n",
       "  ('1204', 0.022044274003250538),\n",
       "  ('l2121', 0.02119192022067703),\n",
       "  ('taxation', 0.020992748991221444),\n",
       "  ('déclaration', 0.019507455809981818),\n",
       "  ('perdur', 0.01878921447436722),\n",
       "  ('diminution', 0.01849669956814125),\n",
       "  ('distribution', 0.0162766239313816),\n",
       "  ('plossai', 0.01593315611644756),\n",
       "  ('api', 0.015723908218243904)],\n",
       " 597: [('augmentation', 0.1756226198502259),\n",
       "  ('retraite', 0.06984298804872408),\n",
       "  ('augmenter', 0.0642289075981076),\n",
       "  ('urgent', 0.04717130312311088),\n",
       "  ('retraité', 0.025171113055330367),\n",
       "  ('remettre', 0.016928515310113766),\n",
       "  ('beaucoup', 0.016699208340620574),\n",
       "  ('', 1e-05),\n",
       "  ('', 1e-05),\n",
       "  ('', 1e-05)],\n",
       " 598: [('illisble', 2.009701099030676),\n",
       "  ('flou', 1.3601120653969672),\n",
       "  ('illsibil', 0.43725597658717624),\n",
       "  ('illisubl', 0.43725597658717624),\n",
       "  ('boll', 0.43725597658717624),\n",
       "  ('illsibl', 0.3349501831717793),\n",
       "  ('instituer', 0.2614319236031554),\n",
       "  ('impartialité', 0.19932187160624154),\n",
       "  ('idée', 0.0499923367753458),\n",
       "  ('ancien', 0.028491298921434843)],\n",
       " 599: [('compiler', 0.038748057569439234),\n",
       "  ('vote', 0.03209908746400879),\n",
       "  ('parti', 0.031143506168144763),\n",
       "  ('abstentionniste', 0.02978408413593558),\n",
       "  ('lister', 0.029494328145474574),\n",
       "  ('comptage', 0.029088139492934723),\n",
       "  ('souterrain', 0.02899577066038064),\n",
       "  ('référendum', 0.028088779086976226),\n",
       "  ('ecologist', 0.027787160484085922),\n",
       "  ('mixte', 0.0264545172471692)],\n",
       " 600: [('fimiçaise', 0.007599339861692291),\n",
       "  ('adulation', 0.007362103681847213),\n",
       "  ('traiter', 0.006928976149382739),\n",
       "  ('ordre', 0.005472304591339407),\n",
       "  ('amif', 0.004732302176161345),\n",
       "  ('définition', 0.004670920544241726),\n",
       "  ('priorité', 0.004526909252406988),\n",
       "  ('attention', 0.00450375850918932),\n",
       "  ('lacune', 0.004439458675336271),\n",
       "  ('strictement', 0.004287986014067391)],\n",
       " 601: [('patron', 0.024353837272583827),\n",
       "  ('collectif', 0.01673508734460011),\n",
       "  ('badonviller', 0.016199174657556034),\n",
       "  ('entrepreneur', 0.015839979753091753),\n",
       "  ('commerçant', 0.01454616844992608),\n",
       "  ('gérant', 0.014506881592549458),\n",
       "  ('développeur', 0.01446466988000558),\n",
       "  ('vitrier', 0.014339622753652897),\n",
       "  ('sarl', 0.014312410362684191),\n",
       "  ('paysagiste', 0.01421525668566458)],\n",
       " 602: [('kérosène', 0.14940828140254608),\n",
       "  ('lencloître', 0.05512819733102081),\n",
       "  ('fuel', 0.04928506767291242),\n",
       "  ('avion', 0.04395279632049542),\n",
       "  ('chinie', 0.036312484010151365),\n",
       "  ('habitate', 0.036312484010151365),\n",
       "  ('lacs', 0.036312484010151365),\n",
       "  ('grossesretraitent', 0.036312484010151365),\n",
       "  ('extendre', 0.036312484010151365),\n",
       "  ('anuler', 0.03387194184830238)],\n",
       " 603: [('publier', 0.02609967347909355),\n",
       "  ('mail', 0.022983782131413052),\n",
       "  ('informer', 0.020627145929195716),\n",
       "  ('signature', 0.019608485114138884),\n",
       "  ('prénom', 0.01942568557574055),\n",
       "  ('adresse', 0.01839464742153886),\n",
       "  ('age', 0.015729203653723624),\n",
       "  ('accepter', 0.014905292389538721),\n",
       "  ('suite', 0.014643413926774674),\n",
       "  ('nom', 0.014356423981569456)],\n",
       " 604: [('tpn', 0.02237558431718855),\n",
       "  ('invalidité', 0.013812609510598768),\n",
       "  ('macron', 0.01272721674622678),\n",
       "  ('chèque', 0.012245488268396313),\n",
       "  ('euro', 0.011218849210045368),\n",
       "  ('manger', 0.011061750897758679),\n",
       "  ('sourd', 0.010857195634632427),\n",
       "  ('prof', 0.010087897637788687),\n",
       "  ('monsieur', 0.009991317090147802),\n",
       "  ('arrogance', 0.009651427388780793)],\n",
       " 605: [('sapin', 0.13288672761742515),\n",
       "  ('savelaine', 0.08838169023999748),\n",
       "  ('serre', 0.0690077655968977),\n",
       "  ('contribution', 0.05860785077685762),\n",
       "  ('circonscription', 0.05403275185482625),\n",
       "  ('souvelaine', 0.051053195341004894),\n",
       "  ('cébazat', 0.0476219380441479),\n",
       "  ('téléphone', 0.04635122225943957),\n",
       "  ('sarvelaine', 0.04419084511999874),\n",
       "  ('individuel', 0.03745019085373435)],\n",
       " 606: [('préfet', 0.12484588557655586),\n",
       "  ('loire', 0.11864747938875324),\n",
       "  ('saone', 0.10705800166516262),\n",
       "  ('porter', 0.09313012415268303),\n",
       "  ('certifier', 0.09031454242757937),\n",
       "  ('attestation', 0.08642189047422506),\n",
       "  ('43', 0.0863382482458667),\n",
       "  ('délégation', 0.07892815093832306),\n",
       "  ('et', 0.07587695305602743),\n",
       "  ('numéro', 0.07496976754948216)],\n",
       " 607: [('claustration', 0.014625713622701434),\n",
       "  ('modulation', 0.012116446375783718),\n",
       "  ('abroyer', 0.010179504216844314),\n",
       "  ('interannuel', 0.009446085411893911),\n",
       "  ('nocif', 0.009390283280239662),\n",
       "  ('indépendantiste', 0.008854004796675679),\n",
       "  ('modulable', 0.00842388226843155),\n",
       "  ('combustion', 0.008034242257710482),\n",
       "  ('2a', 0.007182518698519479),\n",
       "  ('pauvre', 0.006220591589638874)],\n",
       " 608: [('perquisition', 0.037036135419698614),\n",
       "  ('fichage', 0.02517993048672147),\n",
       "  ('répression', 0.02217053988475265),\n",
       "  ('censure', 0.020898531218795362),\n",
       "  ('protection', 0.02075392461282727),\n",
       "  ('immunité', 0.020078570337974874),\n",
       "  ('croyance', 0.016998794830066787),\n",
       "  ('secret', 0.015651436786621894),\n",
       "  ('plainte', 0.015266247347820557),\n",
       "  ('judiciaire', 0.015029520567665497)],\n",
       " 609: [('bus', 0.010719381188369088),\n",
       "  ('vélo', 0.01044769960541983),\n",
       "  ('gare', 0.008330627996132038),\n",
       "  ('flixbu', 0.007160127640430128),\n",
       "  ('jort', 0.007160127640430128),\n",
       "  ('ex', 0.006200391564614448),\n",
       "  ('accident', 0.005732776304582178),\n",
       "  ('abonnement', 0.0055889368975966984),\n",
       "  ('causer', 0.005525940547876388),\n",
       "  ('raison', 0.00544055254985031)],\n",
       " 610: [('tableau', 0.3140548896357537),\n",
       "  ('satisfaction', 0.24447141457162966),\n",
       "  ('mentionner', 0.14445471767006526),\n",
       "  ('évènement', 0.14102993673630426),\n",
       "  ('ci', 0.12271001689442752),\n",
       "  ('dessous', 0.12249369614390611),\n",
       "  ('indiquer', 0.10507557020201341),\n",
       "  ('difficulté', 0.10231477575535704),\n",
       "  ('élément', 0.10071851860049306),\n",
       "  ('rencontrer', 0.09876979602246024)],\n",
       " 611: [('chelle', 0.19655936710843455),\n",
       "  ('ci', 0.06603195883447935),\n",
       "  ('dessous', 0.0659155536439743),\n",
       "  ('84', 0.06172267050361504),\n",
       "  ('formulaire', 0.044359493408567964),\n",
       "  ('ensuite', 0.043244831357713835),\n",
       "  ('contacter', 0.04081304283830038),\n",
       "  ('transmettre', 0.04068549489062748),\n",
       "  ('engager', 0.03676811543356473),\n",
       "  ('disposition', 0.033664734041098356)],\n",
       " 612: [('baptise', 0.007260099233900284),\n",
       "  ('x92avion', 0.006568634238651067),\n",
       "  ('milliard', 0.006541758429482473),\n",
       "  ('x92apporter', 0.006431058121964842),\n",
       "  ('magnétique', 0.006213442588571146),\n",
       "  ('vis', 0.006033428769042848),\n",
       "  ('2322', 0.005973722416922922),\n",
       "  ('x92immigration', 0.00535446512310181),\n",
       "  ('moteur', 0.005046346728763203),\n",
       "  ('x92origine', 0.004945614393689079)],\n",
       " 613: [('moralité', 0.006013761674677711),\n",
       "  ('journal', 0.005995547322176477),\n",
       "  ('filiation', 0.005938369415676771),\n",
       "  ('gendarmer', 0.005435422313434741),\n",
       "  ('accouche', 0.0049494765030573505),\n",
       "  ('morale', 0.004789528341883004),\n",
       "  ('populaire', 0.0047078112811142015),\n",
       "  ('apprécier', 0.004517970996560226),\n",
       "  ('respect', 0.004446650072856597),\n",
       "  ('incivilité', 0.0042129490761568375)],\n",
       " 614: [('victime', 0.05777173752294296),\n",
       "  ('relaxe', 0.04173018891204879),\n",
       "  ('appel', 0.03744417017841856),\n",
       "  ('acquittement', 0.033943286055404434),\n",
       "  ('pénal', 0.032864908805519136),\n",
       "  ('détenu', 0.026515134213568513),\n",
       "  ('peine', 0.026107289614976),\n",
       "  ('civil', 0.02038825563124483),\n",
       "  ('conditionnel', 0.019109147421235134),\n",
       "  ('libération', 0.01876214746812146)],\n",
       " 615: [('fraternelle', 0.08426405057648609),\n",
       "  ('antisocial', 0.08079472681404785),\n",
       "  ('annuité', 0.07658779448761016),\n",
       "  ('véritablement', 0.06216988342076518),\n",
       "  ('punitif', 0.05680676549300297),\n",
       "  ('détenir', 0.05007046327771871),\n",
       "  ('efficacement', 0.04918535699491363),\n",
       "  ('cadeau', 0.04708448900873653),\n",
       "  ('digne', 0.046226272520247205),\n",
       "  ('générer', 0.04305256801791169)],\n",
       " 616: [('logement', 0.04265760322503711),\n",
       "  ('hlm', 0.023182026745131354),\n",
       "  ('moralité', 0.01467913915625527),\n",
       "  ('loyer', 0.014151818341499986),\n",
       "  ('construire', 0.01379515010221637),\n",
       "  ('marshall', 0.012617986352361549),\n",
       "  ('bassin', 0.01199925008940904),\n",
       "  ('priver', 0.011849332783365972),\n",
       "  ('accessibilité', 0.011579737765118642),\n",
       "  ('loger', 0.009674706489687785)],\n",
       " 617: [('fraterniter', 0.23215578908344822),\n",
       "  ('liberté', 0.22782875384296836),\n",
       "  ('fraternité', 0.17773847587595107),\n",
       "  ('égalité', 0.15928905743015345),\n",
       "  ('taurie', 0.12277077927241652),\n",
       "  ('liberte', 0.11504235241447258),\n",
       "  ('fraternite', 0.10989400102265545),\n",
       "  ('smc', 0.08269498805944223),\n",
       "  ('egalit', 0.07274097753489135),\n",
       "  ('egalité', 0.0708596024375649)],\n",
       " 618: [('pupille', 0.1979184281045008),\n",
       "  ('orphelin', 0.12835081647099833),\n",
       "  ('guerre', 0.07210102247029145),\n",
       "  ('nation', 0.05381657549352259),\n",
       "  ('recensement', 0.05184880320991915),\n",
       "  ('décret', 0.037103491768243214),\n",
       "  ('onac', 0.03199885568786485),\n",
       "  ('conflit', 0.031359375438490114),\n",
       "  ('père', 0.026392093418416415),\n",
       "  ('onacvg', 0.02572569995702232)],\n",
       " 619: [('honneur', 0.17942013216924835),\n",
       "  ('légion', 0.11006902384530758),\n",
       "  ('sportif', 0.036518860010208445),\n",
       "  ('prisavoir', 0.032532320059567785),\n",
       "  ('combatu', 0.032532320059567785),\n",
       "  ('equitté', 0.032532320059567785),\n",
       "  ('dressée', 0.032532320059567785),\n",
       "  ('pisteur', 0.0281594659755197),\n",
       "  ('honteux', 0.026294585204361235),\n",
       "  ('grader', 0.02469464990853298)],\n",
       " 620: [('questionnair', 3.779721289862352),\n",
       "  ('questionnaire', 0.8579399534470912),\n",
       "  ('appliquer', 0.017599763234647632),\n",
       "  ('question', 0.011088112205066494),\n",
       "  ('', 1e-05),\n",
       "  ('', 1e-05),\n",
       "  ('', 1e-05),\n",
       "  ('', 1e-05),\n",
       "  ('', 1e-05),\n",
       "  ('', 1e-05)],\n",
       " 621: [('plainte', 0.020561634647406683),\n",
       "  ('closer', 0.012877686057453649),\n",
       "  ('saudi', 0.012877686057453649),\n",
       "  ('impot', 0.011753440199747915),\n",
       "  ('fichier', 0.010369352179727741),\n",
       "  ('courier', 0.009864664029155482),\n",
       "  ('binôme', 0.007060804833862336),\n",
       "  ('unsécure', 0.006902774738208157),\n",
       "  ('apparteneur', 0.006902774738208157),\n",
       "  ('conjourement', 0.006902774738208157)],\n",
       " 622: [('favorable', 0.17640937847584431),\n",
       "  ('10', 0.13321195365654667),\n",
       "  ('filet', 0.09491201127906002),\n",
       "  ('gdi', 0.035222000582032675),\n",
       "  ('bureaucratie', 0.03430403056558743),\n",
       "  ('valorisant', 0.033048064888906395),\n",
       "  ('inversement', 0.03205513737016886),\n",
       "  ('donnez', 0.02991192604369263),\n",
       "  ('simplicité', 0.02985876157845599),\n",
       "  ('éradiquer', 0.027516879746969092)],\n",
       " 623: [('image', 0.017905646693119715),\n",
       "  ('traiter', 0.015680491952509264),\n",
       "  ('date', 0.015466316700845431),\n",
       "  ('indexation', 0.014543421136531069),\n",
       "  ('froge', 0.01371782010818522),\n",
       "  ('ordre', 0.013142202162909693),\n",
       "  ('attention', 0.013013188716705492),\n",
       "  ('habitant', 0.012743840617673521),\n",
       "  ('amif', 0.012430494775987068),\n",
       "  ('distinction', 0.012031624938368329)],\n",
       " 624: [('compétitivité', 0.03728656675682004),\n",
       "  ('prestation', 0.03248164391677845),\n",
       "  ('élevé', 0.032210912923152465),\n",
       "  ('concurrente', 0.031920735627020136),\n",
       "  ('maladie', 0.029624725205746626),\n",
       "  ('assurance', 0.02709991704744593),\n",
       "  ('cotisation', 0.0242468199488511),\n",
       "  ('capitalisation', 0.024218128995374517),\n",
       "  ('refléter', 0.02350271761607827),\n",
       "  ('ailleurs', 0.023349719313736958)],\n",
       " 625: [('migrant', 0.03412852362821108),\n",
       "  ('accueillir', 0.013391925109054348),\n",
       "  ('religion', 0.013180285616407753),\n",
       "  ('migration', 0.009959825022607994),\n",
       "  ('juif', 0.00961489037911786),\n",
       "  ('lé2al', 0.008246576498000752),\n",
       "  ('fuir', 0.007722821223000541),\n",
       "  ('musulman', 0.006610326605132045),\n",
       "  ('exact', 0.0065374194123169835),\n",
       "  ('lobbysme', 0.00651963999125137)],\n",
       " 626: [('vaudai', 0.23333369185032898),\n",
       "  ('choisi', 0.20675938751798403),\n",
       "  ('mars', 0.0712228409687373),\n",
       "  ('consultation', 0.05970510724204643),\n",
       "  ('facultatif', 0.05677760677941258),\n",
       "  ('adresse', 0.05029422586142271),\n",
       "  ('prénom', 0.05016252984115282),\n",
       "  ('attention', 0.04896293368705953),\n",
       "  ('thème', 0.042363311151812015),\n",
       "  ('nom', 0.031776244038772175)],\n",
       " 627: [('avis', 0.03604892565959384),\n",
       "  ('proposition', 0.015271459773635213),\n",
       "  ('inviter', 0.014343624671776052),\n",
       "  ('participation', 0.012181308257493967),\n",
       "  ('identifier', 0.011934106136694),\n",
       "  ('intermédiaire', 0.01049952354378255),\n",
       "  ('st', 0.010154321284774238),\n",
       "  ('jouer', 0.009959655320092527),\n",
       "  ('débat', 0.008288023879965595),\n",
       "  ('thème', 0.008251010609214722)],\n",
       " 628: [('pétrol', 0.038015618257807283),\n",
       "  ('surler', 0.03632862208872331),\n",
       "  ('carmausin', 0.03547454032584758),\n",
       "  ('motard', 0.03257525072611665),\n",
       "  ('douteux', 0.03198866457253652),\n",
       "  ('recenser', 0.031920816308646315),\n",
       "  ('rail', 0.027130850559551972),\n",
       "  ('doubler', 0.024035908646300223),\n",
       "  ('tabac', 0.02216177377930806),\n",
       "  ('opération', 0.0206694855435401)],\n",
       " 629: [('équestre', 0.13819106361999978),\n",
       "  ('equitation', 0.10602938967810696),\n",
       "  ('francilien', 0.08775153738068384),\n",
       "  ('fédération', 0.05797222281885078),\n",
       "  ('sportif', 0.054354141805968405),\n",
       "  ('club', 0.05234621847876158),\n",
       "  ('cavalier', 0.04542526055589903),\n",
       "  ('subir', 0.04272811804737543),\n",
       "  ('poney', 0.03940879554570154),\n",
       "  ('chuter', 0.03933026706404651)],\n",
       " 630: [('drogue', 0.009166540670027805),\n",
       "  ('senia', 0.007506201264521488),\n",
       "  ('courbe', 0.00566945128952801),\n",
       "  ('seuil', 0.005261073303080893),\n",
       "  ('frais', 0.00487909567905383),\n",
       "  ('bénédiction', 0.004859129882555807),\n",
       "  ('trafic', 0.004699723745610104),\n",
       "  ('tertiaire', 0.004469636344019591),\n",
       "  ('agoa', 0.004447065743373432),\n",
       "  ('echét', 0.004447065743373432)],\n",
       " 631: [('patron', 0.0325153349284559),\n",
       "  ('collectif', 0.024662029442979926),\n",
       "  ('entrepreneur', 0.023020278267430312),\n",
       "  ('risque', 0.02018935049314837),\n",
       "  ('développeur', 0.019820306625320465),\n",
       "  ('vitrier', 0.019648959998851558),\n",
       "  ('paysagiste', 0.019478546596972183),\n",
       "  ('peintre', 0.01937401295391937),\n",
       "  ('courroie', 0.019370176846467926),\n",
       "  ('digital', 0.019118713914946038)],\n",
       " 632: [('exonérer', 0.0842724415000767),\n",
       "  ('fabriquer', 0.04106243451789374),\n",
       "  ('foie', 0.04025757789093107),\n",
       "  ('encombrant', 0.038806330009294426),\n",
       "  ('baisser', 0.038277894197444234),\n",
       "  ('modulation', 0.0367217377019298),\n",
       "  ('outil', 0.03486484237673306),\n",
       "  ('estimation', 0.03455742321034876),\n",
       "  ('gras', 0.03087734123018992),\n",
       "  ('denrée', 0.03015635556572399)],\n",
       " 633: [('élite', 0.04086617660976923),\n",
       "  ('tentative', 0.03186940277741698),\n",
       "  ('blessé', 0.029624734270340427),\n",
       "  ('dépresseur', 0.025213938588146433),\n",
       "  ('énucléer', 0.025146128899736934),\n",
       "  ('probablement', 0.024283574079404617),\n",
       "  ('abdication', 0.023985837515129664),\n",
       "  ('martyre', 0.023233553191573282),\n",
       "  ('émasculer', 0.023021239993684814),\n",
       "  ('brin', 0.022666035400031953)],\n",
       " 634: [('équestre', 0.11330822843830943),\n",
       "  ('cavalerie', 0.031209724394671783),\n",
       "  ('poney', 0.02924523368939524),\n",
       "  ('sportif', 0.026218505592694948),\n",
       "  ('aune', 0.026132299803691344),\n",
       "  ('déstructuration', 0.02602580602131303),\n",
       "  ('ancrage', 0.02593976372372947),\n",
       "  ('équitation', 0.025723460441654807),\n",
       "  ('club', 0.025249954765933596),\n",
       "  ('pesant', 0.025005301811312435)],\n",
       " 635: [('03800', 0.04397476130699589),\n",
       "  ('begues', 0.04397476130699589),\n",
       "  ('succeptibl', 0.025186738509507877),\n",
       "  ('énumérer', 0.023499232509664677),\n",
       "  ('affichage', 0.021719611772805007),\n",
       "  ('hameau', 0.0216155911359282),\n",
       "  ('amrf', 0.021470914050636242),\n",
       "  ('écrit', 0.020891220534446343),\n",
       "  ('recueil', 0.02023403807001672),\n",
       "  ('connecter', 0.019549572371594392)],\n",
       " 636: [('incivilité', 0.10399236204435623),\n",
       "  ('civique', 0.08402473750249143),\n",
       "  ('collective', 0.08126392762299582),\n",
       "  ('engagement', 0.07524089778205524),\n",
       "  ('comportement', 0.0715565626866461),\n",
       "  ('pénible', 0.0642143329929426),\n",
       "  ('promouvoir', 0.05458236693913042),\n",
       "  ('quotidien', 0.05208895036008417),\n",
       "  ('parcours', 0.0514270528562346),\n",
       "  ('valoriser', 0.044945392448878775)],\n",
       " 637: [('nseignement', 0.04636214680119175),\n",
       "  ('maisonslaffitte', 0.04481047221039032),\n",
       "  ('effacement', 0.04170745698941496),\n",
       "  ('portabilité', 0.041217835838325806),\n",
       "  ('istiner', 0.03714406751060526),\n",
       "  ('ail', 0.035617926016174445),\n",
       "  ('duchemin', 0.035392338184354805),\n",
       "  ('julie', 0.03430197051841853),\n",
       "  ('contacter', 0.03155718675285578),\n",
       "  ('opposition', 0.029344785301993134)],\n",
       " 638: [('raconter', 0.03755462713869592),\n",
       "  ('rachat', 0.035773579410899245),\n",
       "  ('pv', 0.03281534983342315),\n",
       "  ('fatiguée', 0.030131635325340824),\n",
       "  ('surmener', 0.02931982348462648),\n",
       "  ('policier', 0.027338368829486766),\n",
       "  ('hein', 0.02724138258105606),\n",
       "  ('dangereu', 0.026983447991987656),\n",
       "  ('fumier', 0.02634289959642331),\n",
       "  ('filer', 0.024957315221524293)],\n",
       " 639: [('performance', 0.09500920075899301),\n",
       "  ('formation', 0.08706265413179666),\n",
       "  ('préservation', 0.0820801886264518),\n",
       "  ('université', 0.07175550839542487),\n",
       "  ('gratuité', 0.06874069708803486),\n",
       "  ('enseignement', 0.05027977786164938),\n",
       "  ('présence', 0.0443335753707639),\n",
       "  ('territoire', 0.04132417284187835),\n",
       "  ('supérieur', 0.040905770648211985),\n",
       "  ('effectif', 0.04078441329260431)],\n",
       " 640: [('intermédiaire', 0.3650334352055066),\n",
       "  ('corps', 0.24118808722946827),\n",
       "  ('utilité', 0.16334931631666952),\n",
       "  ('efficacité', 0.16123379909362984),\n",
       "  ('sein', 0.1512539775499906),\n",
       "  ('territorial', 0.08994248663184425),\n",
       "  ('proximité', 0.0898888008746574),\n",
       "  ('collectivité', 0.060962720975468614),\n",
       "  ('démocratie', 0.05875090321165284),\n",
       "  ('syndicat', 0.018994029693004916)],\n",
       " 641: [('législation', 0.015307890162694994),\n",
       "  ('tom', 0.014918986950440116),\n",
       "  ('hauts', 0.014820557669057226),\n",
       "  ('balance', 0.01271704855754867),\n",
       "  ('inspecteur', 0.012225146553065294),\n",
       "  ('270', 0.011421550227068979),\n",
       "  ('asn', 0.01075141868315226),\n",
       "  ('imposabl', 0.010516153284842003),\n",
       "  ('légume', 0.010455396603544914),\n",
       "  ('magasin', 0.010128244976729114)],\n",
       " 642: [('débuter', 0.37361437032160183),\n",
       "  ('rédaction', 0.3478726108076165),\n",
       "  ('indiquer', 0.24011195943791497),\n",
       "  ('résidence', 0.19565966571961643),\n",
       "  ('quartier', 0.18819992101121039),\n",
       "  ('nom', 0.08762602266929677),\n",
       "  ('réajuster', 0.05274196838455786),\n",
       "  ('maximal', 0.04185324429480385),\n",
       "  ('ssg', 0.03920579726031626),\n",
       "  ('remercie', 0.03698015437172151)],\n",
       " 643: [('réponse', 0.05254003338064412),\n",
       "  ('climate', 0.0516957381844043),\n",
       "  ('59', 0.03644359786577852),\n",
       "  ('displacement', 0.032885593335210336),\n",
       "  ('essence', 0.030258502578200303),\n",
       "  ('minute', 0.027939011378678918),\n",
       "  ('23', 0.027491177221469494),\n",
       "  ('faveur', 0.027206553666218682),\n",
       "  ('utilisateur', 0.026930087261793804),\n",
       "  ('country', 0.025620977146978294)],\n",
       " 644: [('organisme', 0.0539271923614592),\n",
       "  ('locataire', 0.03144789269037412),\n",
       "  ('logement', 0.030470315053511495),\n",
       "  ('locatif', 0.029230566865458028),\n",
       "  ('hlm', 0.0291105925084177),\n",
       "  ('parc', 0.02632154167507014),\n",
       "  ('elan', 0.02338397783531604),\n",
       "  ('dénombrer', 0.0187997517809603),\n",
       "  ('mizarit', 0.013080012573208092),\n",
       "  ('enscuit', 0.013080012573208092)],\n",
       " 645: [('donnée', 0.11499704413383573),\n",
       "  ('chambon', 0.10453896306551315),\n",
       "  ('feugerolle', 0.0807681292754645),\n",
       "  ('rectification', 0.05251933330363912),\n",
       "  ('traitement', 0.05203563327541593),\n",
       "  ('effacement', 0.0507712994919905),\n",
       "  ('lechambon', 0.04246827254784823),\n",
       "  ('epo', 0.04131764892613024),\n",
       "  ('contacter', 0.0384151778939805),\n",
       "  ('prenom', 0.038317400639288755)],\n",
       " 646: [('sectoriel', 0.04876442754106757),\n",
       "  ('redistribution', 0.03233927304562348),\n",
       "  ('euro', 0.023710449818928454),\n",
       "  ('dépense', 0.02336540133357705),\n",
       "  ('prestation', 0.021949796778877345),\n",
       "  ('régalien', 0.021157629600387307),\n",
       "  ('allocation', 0.020429951213587396),\n",
       "  ('déficit', 0.01947696466511106),\n",
       "  ('maladie', 0.018589262059847202),\n",
       "  ('adulte', 0.017277960292379355)],\n",
       " 647: [('ultime', 0.055236298613318115),\n",
       "  ('admd', 0.039694972186325214),\n",
       "  ('rubrique', 0.035347144172768394),\n",
       "  ('00', 0.034661743855009496),\n",
       "  ('militant', 0.03427597165333885),\n",
       "  ('légaliser', 0.03135676277798331),\n",
       "  ('témoignage', 0.031001130259194546),\n",
       "  ('infos', 0.027675760122735607),\n",
       "  ('invite', 0.026899040704459348),\n",
       "  ('mourir', 0.02660790747760494)],\n",
       " 648: [('nove', 0.055844047318390655),\n",
       "  ('pétitionnaire', 0.04087018398631928),\n",
       "  ('fiche', 0.04005909962877735),\n",
       "  ('concertation', 0.03331954355704054),\n",
       "  ('graveson', 0.03006724858982277),\n",
       "  ('comporter', 0.025569949372823298),\n",
       "  ('décentraliser', 0.02483851720616816),\n",
       "  ('observation', 0.0196630161456973),\n",
       "  ('identifier', 0.01890162000086836),\n",
       "  ('identité', 0.018672932118913788)],\n",
       " 649: [('survivant', 0.055102155786698324),\n",
       "  ('irfm', 0.04532041303327647),\n",
       "  ('est', 0.04467492320820671),\n",
       "  ('gratuité', 0.04316663682889104),\n",
       "  ('614', 0.03922945195746156),\n",
       "  ('elle', 0.03583648170569495),\n",
       "  ('réversion', 0.03091848897569028),\n",
       "  ('ell', 0.029436632392576878),\n",
       "  ('vol', 0.02738184014738819),\n",
       "  ('officiellement', 0.02623394325739114)],\n",
       " 650: [('quid', 0.0602671450644263),\n",
       "  ('reconnecter', 0.044536002288662606),\n",
       "  ('nuance', 0.043175138402536894),\n",
       "  ('équation', 0.038333725847685296),\n",
       "  ('mixte', 0.03690790864412117),\n",
       "  ('circonscription', 0.03430471202097927),\n",
       "  ('vote', 0.03310660062227345),\n",
       "  ('étatique', 0.03250635255350899),\n",
       "  ('député', 0.03066432232304255),\n",
       "  ('connecter', 0.030239766913887002)],\n",
       " 651: [('prenez', 0.13989851798423908),\n",
       "  ('participez', 0.11334870387481974),\n",
       "  ('énoncer', 0.09306822123676442),\n",
       "  ('approuver', 0.0901185858770209),\n",
       "  ('entourer', 0.0757418219244397),\n",
       "  ('redistribution', 0.0496024080576513),\n",
       "  ('numéro', 0.041827006620403825),\n",
       "  ('équitable', 0.041592742243375),\n",
       "  ('démocratique', 0.039525588114743423),\n",
       "  ('prenom', 0.03823420242318414)],\n",
       " 652: [('station', 0.023513616453694108),\n",
       "  ('touristique', 0.01340849939107874),\n",
       "  ('maillon', 0.013153851284735174),\n",
       "  ('modération', 0.010862362008159841),\n",
       "  ('ressenti', 0.010520155652631221),\n",
       "  ('collectivement', 0.010441231130605359),\n",
       "  ('expression', 0.010419903553494033),\n",
       "  ('quotidiennement', 0.009938728247302037),\n",
       "  ('hiver', 0.009493061824956966),\n",
       "  ('messagerie', 0.009482966572119497)],\n",
       " 653: [('biodversité', 0.010451444450570597),\n",
       "  ('insecte', 0.008569581588093272),\n",
       "  ('autorégulation', 0.006911545838200663),\n",
       "  ('organisme', 0.006605770256610208),\n",
       "  ('plastique', 0.006314609459282069),\n",
       "  ('conversation', 0.006223408394945322),\n",
       "  ('haie', 0.005890333827982754),\n",
       "  ('patrimoine', 0.0058634594330916),\n",
       "  ('hérission', 0.005775821966327155),\n",
       "  ('frèquentation', 0.005775821966327155)],\n",
       " 654: [('tradition', 0.052455274156935204),\n",
       "  ('laïcité', 0.04798900588976334),\n",
       "  ('principe', 0.03666405228245875),\n",
       "  ('figurer', 0.03651998339886184),\n",
       "  ('associatif', 0.032358804803850005),\n",
       "  ('vivace', 0.03190980496512571),\n",
       "  ('juridique', 0.03092732173570462),\n",
       "  ('repli', 0.026546502127329417),\n",
       "  ('tentation', 0.026528814893342512),\n",
       "  ('liberté', 0.026001199585125017)],\n",
       " 655: [('bobard', 0.08231020794559406),\n",
       "  ('fronce', 0.045886337037454365),\n",
       "  ('endormir', 0.04421332230517704),\n",
       "  ('raconter', 0.04271553178098121),\n",
       "  ('ouvrier', 0.0408352563630873),\n",
       "  ('pareil', 0.03245157059020085),\n",
       "  ('télé', 0.032204066738816234),\n",
       "  ('poche', 0.027455900870808583),\n",
       "  ('allaitement', 0.026979492449563183),\n",
       "  ('éveil', 0.02341798856922402)],\n",
       " 656: [('soin', 0.3339997590469204),\n",
       "  ('remboursement', 0.12113851550198167),\n",
       "  ('habitat', 0.10911979610232012),\n",
       "  ('qualité', 0.09746996744665432),\n",
       "  ('norme', 0.07980262064204934),\n",
       "  ('accès', 0.07710074555472186),\n",
       "  ('solidaire', 0.05647560813381897),\n",
       "  ('santé', 0.05133759480275413),\n",
       "  ('environnement', 0.04913739796210747),\n",
       "  ('monton', 0.04324974597240307)],\n",
       " 657: [('xad', 0.08131189598878026),\n",
       "  ('tion', 0.038942752051419234),\n",
       "  ('communica', 0.034830136955367914),\n",
       "  ('transmis', 0.03456115854938151),\n",
       "  ('déve', 0.034474299950470716),\n",
       "  ('cotisa', 0.03438877032323141),\n",
       "  ('indé', 0.032055687656067644),\n",
       "  ('loppeur', 0.031067794242000773),\n",
       "  ('layer', 0.029722470450433615),\n",
       "  ('consul', 0.028624233711981195)],\n",
       " 658: [('perquisition', 0.075742759476967),\n",
       "  ('fichage', 0.07438251006473746),\n",
       "  ('liberticide', 0.06829971152317876),\n",
       "  ('abolition', 0.058308024498201966),\n",
       "  ('intégrité', 0.05723396997042749),\n",
       "  ('racine', 0.052172933954819485),\n",
       "  ('photo', 0.05045180693578703),\n",
       "  ('vidéo', 0.05022655677511278),\n",
       "  ('imprimer', 0.047510490477519284),\n",
       "  ('sexuel', 0.046329033523666144)],\n",
       " 659: [('oui', 0.047865766715729605),\n",
       "  ('souhaitable', 0.030838955509845903),\n",
       "  ('réponse', 0.027605299232621693),\n",
       "  ('associer', 0.027413158163000186),\n",
       "  ('925', 0.02681441869499717),\n",
       "  ('déclenchement', 0.026564166218352715),\n",
       "  ('davantage', 0.02534535443100022),\n",
       "  ('recours', 0.024888125506666397),\n",
       "  ('sénateurs', 0.024166435062824464),\n",
       "  ('applicable', 0.022406664886557195)],\n",
       " 660: [('complémentaire', 0.009889312569639772),\n",
       "  ('euro', 0.008116276412770804),\n",
       "  ('250', 0.007887181850521624),\n",
       "  ('couple', 0.007453995764847834),\n",
       "  ('net', 0.0074409216415596445),\n",
       "  ('maison', 0.006996392114524084),\n",
       "  ('touche', 0.006462364722911827),\n",
       "  ('cautione', 0.0064293924307250545),\n",
       "  ('maurie', 0.0064293924307250545),\n",
       "  ('nuce', 0.0064293924307250545)],\n",
       " 661: [('amif', 0.15507882131339543),\n",
       "  ('france', 0.07538131077886288),\n",
       "  ('de', 0.058636165878182864),\n",
       "  ('envoyez', 0.05782709788355367),\n",
       "  ('association', 0.04989286500478693),\n",
       "  ('ile', 0.04672551115220721),\n",
       "  ('île', 0.04590737817652898),\n",
       "  ('attention', 0.042573860647547174),\n",
       "  ('courcouronne', 0.03711663498644385),\n",
       "  ('évry', 0.03374547402675915)],\n",
       " 662: [('pri', 0.17656005400338606),\n",
       "  ('renseigner', 0.16551587636581439),\n",
       "  ('document', 0.11126685602713735),\n",
       "  ('transmettre', 0.09325267456581765),\n",
       "  ('connaissance', 0.08852323310432268),\n",
       "  ('signature', 0.07652301226037884),\n",
       "  ('responsable', 0.06408384867304431),\n",
       "  ('information', 0.06125807123047097),\n",
       "  ('suite', 0.051645852593322106),\n",
       "  ('fevrier', 0.04534363099114752)],\n",
       " 663: [('trottoir', 0.02079326981929118),\n",
       "  ('mlm', 0.016347875888884696),\n",
       "  ('professeur', 0.011854758698031388),\n",
       "  ('barricade', 0.010301614432122418),\n",
       "  ('existant', 0.009672809500202273),\n",
       "  ('contrôleur', 0.009519538102310428),\n",
       "  ('incivilite', 0.009402244471736636),\n",
       "  ('extinction', 0.009302160944000557),\n",
       "  ('gaspi', 0.00900716489056681),\n",
       "  ('gouter', 0.008881061598176188)],\n",
       " 664: [('revalorisation', 0.03481061095736799),\n",
       "  ('remaniement', 0.028893372693592826),\n",
       "  ('invalidité', 0.0251905970697624),\n",
       "  ('immédiat', 0.02457753717032727),\n",
       "  ('su', 0.024079950214802692),\n",
       "  ('balancer', 0.019868131729211168),\n",
       "  ('automate', 0.01852276223581925),\n",
       "  ('gouvernemental', 0.017563824729304428),\n",
       "  ('combattre', 0.01725175045781453),\n",
       "  ('salarial', 0.016260869813494696)],\n",
       " 665: [('euthanasie', 0.14165747659134176),\n",
       "  ('légalisation', 0.11189510925563761),\n",
       "  ('suicide', 0.08455067606122395),\n",
       "  ('légaliser', 0.06408538392750339),\n",
       "  ('tognini', 0.057293030327127716),\n",
       "  ('sophic', 0.057293030327127716),\n",
       "  ('assister', 0.056051631200864746),\n",
       "  ('mourir', 0.05413822241443352),\n",
       "  ('piazzali', 0.05118999767945502),\n",
       "  ('actif', 0.049436658413965016)],\n",
       " 666: [('bénéfici', 0.06359055439109855),\n",
       "  ('8h30', 0.03935869121525688),\n",
       "  ('appui', 0.03748488613407042),\n",
       "  ('veiller', 0.027766120891270295),\n",
       "  ('débattre', 0.025647647191595933),\n",
       "  ('12h00', 0.024385269877766767),\n",
       "  ('débat', 0.021877552902180512),\n",
       "  ('autorité', 0.021401739768118794),\n",
       "  ('12h', 0.01983474092867731),\n",
       "  ('essentiel', 0.018350664653256635)],\n",
       " 667: [('m39', 0.03403546356066993),\n",
       "  ('provilige', 0.03403546356066993),\n",
       "  ('moceau', 0.03403546356066993),\n",
       "  ('réfrai', 0.03403546356066993),\n",
       "  ('oliveni', 0.03403546356066993),\n",
       "  ('venney', 0.03403546356066993),\n",
       "  ('faustrale', 0.03403546356066993),\n",
       "  ('démunir', 0.032984730070170526),\n",
       "  ('acquitter', 0.031409964634141904),\n",
       "  ('assainissement', 0.03139557038139585)],\n",
       " 668: [('article', 0.033806807814266995),\n",
       "  ('traité', 0.029440644484058375),\n",
       "  ('titre', 0.02924359353452962),\n",
       "  ('ii', 0.02664934279110205),\n",
       "  ('serment', 0.025703614281802543),\n",
       "  ('constitution', 0.025032489317034605),\n",
       "  ('indiquer', 0.024166449550370377),\n",
       "  ('initiateur', 0.023987076131067),\n",
       "  ('ratifier', 0.02343504852740003),\n",
       "  ('corruption', 0.022429148240562)],\n",
       " 669: [('invidon', 0.03202715981019561),\n",
       "  ('notu', 0.03202715981019561),\n",
       "  ('suillen', 0.03202715981019561),\n",
       "  ('lascke', 0.03202715981019561),\n",
       "  ('protester', 0.031734688302734224),\n",
       "  ('charbonnière', 0.029874631940738746),\n",
       "  ('compétante', 0.029874631940738746),\n",
       "  ('demunaliser', 0.029874631940738746),\n",
       "  ('tueur', 0.029521929670072992),\n",
       "  ('béduer', 0.028615526653111498)],\n",
       " 670: [('fédéral', 0.006197157960331908),\n",
       "  ('rencontre', 0.005980742738830112),\n",
       "  ('assistance', 0.005531912518946446),\n",
       "  ('confédération', 0.0053174151629743465),\n",
       "  ('antagonisme', 0.005251720589993086),\n",
       "  ('inexorabilité', 0.004895486760772456),\n",
       "  ('libéralisme', 0.004822153274472102),\n",
       "  ('langue', 0.004792075581251946),\n",
       "  ('breton', 0.0045574534563985825),\n",
       "  ('central', 0.004517619224928028)],\n",
       " 671: [('sachai', 0.03087648340982931),\n",
       "  ('burra', 0.03087648340982931),\n",
       "  ('pentivy', 0.03087648340982931),\n",
       "  ('nanal', 0.03087648340982931),\n",
       "  ('traner', 0.02880129187101161),\n",
       "  ('heul', 0.027587423899107497),\n",
       "  ('burquer', 0.023983410735190124),\n",
       "  ('thiebaut', 0.023698150306655306),\n",
       "  ('rural', 0.02311650785460163),\n",
       "  ('laure', 0.022062586915506423)],\n",
       " 672: [('inter', 0.09880161972195761),\n",
       "  ('politicarde', 0.05936099914153579),\n",
       "  ('départements', 0.0521592750732404),\n",
       "  ('infrastructure', 0.04543311264127906),\n",
       "  ('clé', 0.043176685307872956),\n",
       "  ('communes', 0.03823026443852364),\n",
       "  ('typ', 0.03768448583675522),\n",
       "  ('reformon', 0.03689480638949746),\n",
       "  ('pavaner', 0.0367202050055942),\n",
       "  ('canton', 0.03473589937000416)],\n",
       " 673: [('cadeau', 0.040613072356393935),\n",
       "  ('colère', 0.019820368174475442),\n",
       "  ('rendez', 0.017273385790171864),\n",
       "  ('éradication', 0.016591357292563974),\n",
       "  ('poursuivre', 0.015845141190906655),\n",
       "  ('aggraver', 0.01573723966908358),\n",
       "  ('étrenne', 0.015475852346849077),\n",
       "  ('reprendre', 0.0152422589937151),\n",
       "  ('voeu', 0.014287089444970152),\n",
       "  ('enrichir', 0.014252764506753095)],\n",
       " 674: [('féodalité', 0.012071203547762149),\n",
       "  ('dominer', 0.00928588218435992),\n",
       "  ('ressurgiront', 0.009205388980782657),\n",
       "  ('trahir', 0.00899110311908804),\n",
       "  ('constituante', 0.007598851704516045),\n",
       "  ('règl', 0.0074911043263205315),\n",
       "  ('liquéfier', 0.007277665119420788),\n",
       "  ('charognard', 0.007215937530929825),\n",
       "  ('échangé', 0.007103290012621566),\n",
       "  ('vièm', 0.006751654311108377)],\n",
       " 675: [('questionnaire', 2.2850966625785034),\n",
       "  ('questionnair', 1.540893571406714),\n",
       "  ('tableau', 0.017401249091265412),\n",
       "  ('', 1e-05),\n",
       "  ('', 1e-05),\n",
       "  ('', 1e-05),\n",
       "  ('', 1e-05),\n",
       "  ('', 1e-05),\n",
       "  ('', 1e-05),\n",
       "  ('', 1e-05)],\n",
       " 676: [('parent', 0.03787603784600282),\n",
       "  ('enfant', 0.021910983019611033),\n",
       "  ('alterné', 0.013710660009252968),\n",
       "  ('adoption', 0.012598996743359908),\n",
       "  ('famille', 0.011285940693575651),\n",
       "  ('ado', 0.01030805239925843),\n",
       "  ('laborieu', 0.008529465584272805),\n",
       "  ('fondation', 0.008104237124473725),\n",
       "  ('jeune', 0.008000305357404704),\n",
       "  ('garde', 0.007015251675963418)],\n",
       " 677: [('bq', 2.609401340334985),\n",
       "  ('⑨s', 1.7187909098138312),\n",
       "  ('ok', 1.2443268730395227),\n",
       "  ('com', 0.3624066293384808),\n",
       "  ('', 1e-05),\n",
       "  ('', 1e-05),\n",
       "  ('', 1e-05),\n",
       "  ('', 1e-05),\n",
       "  ('', 1e-05),\n",
       "  ('', 1e-05)],\n",
       " 678: [('sarl', 0.03999781618090901),\n",
       "  ('gérant', 0.03891963868066859),\n",
       "  ('dividende', 0.037991428490423376),\n",
       "  ('majoritaire', 0.033019807441024965),\n",
       "  ('risque', 0.03181780721576454),\n",
       "  ('littéralement', 0.02601299708807633),\n",
       "  ('sas', 0.025635863940217343),\n",
       "  ('poumon', 0.025348727123737615),\n",
       "  ('insoutenable', 0.02532931060252666),\n",
       "  ('investissant', 0.025095325643972113)],\n",
       " 679: [('remembrement', 0.013810026923303536),\n",
       "  ('désigner', 0.0066254600700898034),\n",
       "  ('brutalité', 0.005974111375211316),\n",
       "  ('représentant', 0.005966760482124853),\n",
       "  ('handicqper', 0.005896366757508855),\n",
       "  ('distribu2', 0.005896366757508855),\n",
       "  ('supretier', 0.005896366757508855),\n",
       "  ('qu4un', 0.005896366757508855),\n",
       "  ('d4honneur', 0.005896366757508855),\n",
       "  ('ex2cuter', 0.005896366757508855)],\n",
       " 680: [('éolien', 0.08747486292655955),\n",
       "  ('schéma', 0.04309535192255599),\n",
       "  ('sre', 0.040316428060535724),\n",
       "  ('éolienne', 0.037401771927469074),\n",
       "  ('nuisance', 0.036843936247332496),\n",
       "  ('durable', 0.036133423682876746),\n",
       "  ('volet', 0.034866048408233825),\n",
       "  ('kilowatt', 0.034652955595238046),\n",
       "  ('aggraver', 0.030691382244585966),\n",
       "  ('infrason', 0.030032561515872972)],\n",
       " 681: [('vincelle', 0.20443654332173003),\n",
       "  ('injurieu', 0.19181064010600918),\n",
       "  ('homophobe', 0.1558010605016274),\n",
       "  ('feuille', 0.11936689352076287),\n",
       "  ('raciste', 0.10829292460480144),\n",
       "  ('correct', 0.07945549043431613),\n",
       "  ('signer', 0.06964132290879808),\n",
       "  ('propos', 0.06161895792415487),\n",
       "  ('podor', 0.051095376611655655),\n",
       "  ('naulin', 0.04950028122498935)],\n",
       " 682: [('poney', 0.04363180829227695),\n",
       "  ('club', 0.04117897495132472),\n",
       "  ('équestre', 0.03658683684413801),\n",
       "  ('sport', 0.03490259087151242),\n",
       "  ('sportif', 0.03431240814000661),\n",
       "  ('mercredi', 0.03065127799487736),\n",
       "  ('équitation', 0.029766538715406153),\n",
       "  ('ineffectif', 0.024859394472085537),\n",
       "  ('rythme', 0.024705987660591074),\n",
       "  ('cheval', 0.02469428322587734)],\n",
       " 683: [('prix', 0.016359667929598178),\n",
       "  ('baquette', 0.0145018706344631),\n",
       "  ('gasoil', 0.009623034413837944),\n",
       "  ('housse', 0.008627595360248924),\n",
       "  ('franc', 0.008211968423454553),\n",
       "  ('euro', 0.007136075583740092),\n",
       "  ('crépiter', 0.007076140082631586),\n",
       "  ('baril', 0.0067335501696459),\n",
       "  ('fumigène', 0.006632607636035289),\n",
       "  ('litre', 0.006443424085799756)],\n",
       " 684: [('invalidité', 0.09561988793801246),\n",
       "  ('plufur', 0.08332215160023941),\n",
       "  ('pension', 0.06997433573204083),\n",
       "  ('handicapé', 0.06703425170727198),\n",
       "  ('exerc', 0.056976494247972305),\n",
       "  ('invalitée', 0.056976494247972305),\n",
       "  ('handicap', 0.054216370437945666),\n",
       "  ('conjoint', 0.05039844666140668),\n",
       "  ('handicaper', 0.046240051414377266),\n",
       "  ('scolarite', 0.0454891510509065)],\n",
       " 685: [('doélance', 0.06084050766350819),\n",
       "  ('cahuzac', 0.0536688154526391),\n",
       "  ('confiscatoire', 0.05221939983955845),\n",
       "  ('dividende', 0.052144304962659295),\n",
       "  ('poumon', 0.051164472761525664),\n",
       "  ('littéralement', 0.049416706853090756),\n",
       "  ('investissant', 0.04767341289172185),\n",
       "  ('étouffer', 0.047142755571209935),\n",
       "  ('notr', 0.04589207427035054),\n",
       "  ('faite', 0.045777022097325926)],\n",
       " 686: [('suggérer', 0.019469061741449807),\n",
       "  ('monsieur', 0.011897530467457285),\n",
       "  ('prier', 0.011113071844511416),\n",
       "  ('défenseur', 0.009991945177543286),\n",
       "  ('mourir', 0.008802351337532965),\n",
       "  ('agréer', 0.008373689149741521),\n",
       "  ('honneur', 0.008299053778840233),\n",
       "  ('légalisation', 0.00783701154319641),\n",
       "  ('feret', 0.0076995935821234165),\n",
       "  ('capitaliste', 0.007379426566847471)],\n",
       " 687: [('citoyenneté', 0.350637923093969),\n",
       "  ('démocratie', 0.23500361284661136),\n",
       "  ('macuriere', 0.20221069527221544),\n",
       "  ('fragneslaloyere', 0.20221069527221544),\n",
       "  ('clanne', 0.20221069527221544),\n",
       "  ('loyère', 0.17065569345515028),\n",
       "  ('democratie', 0.06477473144326787),\n",
       "  ('tél', 0.05092824954452029),\n",
       "  ('09', 0.04891214625793094),\n",
       "  ('03', 0.04162142779485494)],\n",
       " 688: [('velluire', 0.10788888535924769),\n",
       "  ('vendée', 0.0749103754207548),\n",
       "  ('sur', 0.05450925476326159),\n",
       "  ('facultatif', 0.04403648884854861),\n",
       "  ('vender', 0.04196388941412696),\n",
       "  ('incorrect', 0.032038470621756875),\n",
       "  ('adressée', 0.028701710066444022),\n",
       "  ('injurieux', 0.027765434104171153),\n",
       "  ('fiche', 0.02466582077079242),\n",
       "  ('observation', 0.016950111489784328)],\n",
       " 689: [('tiré', 0.06218220397757752),\n",
       "  ('amm', 0.032050781557988704),\n",
       "  ('sort', 0.025888508709416194),\n",
       "  ('flouter', 0.022308487584347298),\n",
       "  ('assise', 0.01967985945261791),\n",
       "  ('incrédule', 0.01933268863028292),\n",
       "  ('étrangers', 0.019117547696516624),\n",
       "  ('approuver', 0.018884809831155293),\n",
       "  ('procès', 0.017994264086542634),\n",
       "  ('huis', 0.017284547718434042)],\n",
       " 690: [('discrimination', 0.062192024518632386),\n",
       "  ('migratoire', 0.05514438699492492),\n",
       "  ('réponse', 0.047291448353505385),\n",
       "  ('témoin', 0.044474487124351536),\n",
       "  ('tolérant', 0.04409470535927707),\n",
       "  ('répandre', 0.04296880173859616),\n",
       "  ('intégration', 0.039206000577777955),\n",
       "  ('immigration', 0.032576613220791195),\n",
       "  ('définir', 0.029556295859097862),\n",
       "  ('modalité', 0.02875298187692515)],\n",
       " 691: [('amendable', 0.03783455666704294),\n",
       "  ('20h00', 0.03520488528918797),\n",
       "  ('nort', 0.03441977385771439),\n",
       "  ('synthèse', 0.03269135052782735),\n",
       "  ('remarque', 0.025470750960807725),\n",
       "  ('instance', 0.025379410364185805),\n",
       "  ('expression', 0.024876199138894498),\n",
       "  ('incertitude', 0.024780579349746673),\n",
       "  ('distinction', 0.024490525362553597),\n",
       "  ('erdre', 0.02409384170040008)],\n",
       " 692: [('formation', 0.010838675259511538),\n",
       "  ('pmsmp', 0.008891949699849473),\n",
       "  ('emploi', 0.00754796210309178),\n",
       "  ('lesdit', 0.005355896257979591),\n",
       "  ('inoffensif', 0.005216656155781129),\n",
       "  ('chômage', 0.004511497773994821),\n",
       "  ('diesel', 0.00432935445355626),\n",
       "  ('fonction', 0.004184912450487918),\n",
       "  ('humoriste', 0.0040925953469808565),\n",
       "  ('chômeur', 0.00401649674193677)],\n",
       " 693: [('parti', 0.055251637199547184),\n",
       "  ('éclaireur', 0.0517885289850916),\n",
       "  ('compiler', 0.05048303627005962),\n",
       "  ('lieue', 0.04854583451065829),\n",
       "  ('programme', 0.044810715310153876),\n",
       "  ('arbitre', 0.04065518158570841),\n",
       "  ('abstentionniste', 0.03863183000482085),\n",
       "  ('lister', 0.038426783971317956),\n",
       "  ('référendum', 0.03817734578044773),\n",
       "  ('hypocrite', 0.03766005791565384)],\n",
       " 694: [('paar', 0.018507015993586205),\n",
       "  ('guillou', 0.017070220470381637),\n",
       "  ('ifi', 0.016304684195788757),\n",
       "  ('hebdomadaire', 0.01572781723024022),\n",
       "  ('ré', 0.012869716000542509),\n",
       "  ('exonéron', 0.012735590300348173),\n",
       "  ('quart', 0.012198019402236412),\n",
       "  ('raccorder', 0.01188181181088655),\n",
       "  ('luxueusement', 0.011564664178104377),\n",
       "  ('compromettre', 0.009800057139942852)],\n",
       " 695: [('réponse', 0.06882450680415356),\n",
       "  ('59', 0.045011128848094),\n",
       "  ('échelon', 0.04142426897204879),\n",
       "  ('administratif', 0.04083363013428616),\n",
       "  ('30', 0.03538367436931223),\n",
       "  ('opérateur', 0.03455121134520395),\n",
       "  ('23', 0.03395408226868043),\n",
       "  ('minute', 0.03247736265998345),\n",
       "  ('publier', 0.028870309893443073),\n",
       "  ('km', 0.02885753554500273)],\n",
       " 696: [('asile', 0.016926042361100138),\n",
       "  ('laïcité', 0.015270684329164183),\n",
       "  ('tradition', 0.01217774209914173),\n",
       "  ('citoyenneté', 0.011787622926846238),\n",
       "  ('migratoire', 0.011618511240081068),\n",
       "  ('attachement', 0.011187119598328575),\n",
       "  ('oui', 0.010332794411357536),\n",
       "  ('intégration', 0.010275146686614734),\n",
       "  ('incivilité', 0.010149488036750712),\n",
       "  ('principe', 0.009967972044670531)],\n",
       " 697: [('par', 0.014833320165418292),\n",
       "  ('kilomètre', 0.014152008415096506),\n",
       "  ('radar', 0.008388150548166452),\n",
       "  ('carburant', 0.008076958127345523),\n",
       "  ('heure', 0.007284591116132376),\n",
       "  ('re', 0.0070131761846678985),\n",
       "  ('auparavant', 0.006980114344533039),\n",
       "  ('andoue', 0.006714026991460278),\n",
       "  ('mavracage', 0.006714026991460278),\n",
       "  ('9km', 0.006714026991460278)],\n",
       " 698: [('lobbyiste', 0.007133364952197473),\n",
       "  ('pajemploi', 0.0067303880755692595),\n",
       "  ('référendum', 0.006488099909020634),\n",
       "  ('pétrol', 0.00622334788255418),\n",
       "  ('retraaite', 0.006149520249781149),\n",
       "  ('comitebastille', 0.006149520249781149),\n",
       "  ('lobbyism', 0.006149520249781149),\n",
       "  ('fëtidre', 0.006149520249781149),\n",
       "  ('trànspm', 0.006149520249781149),\n",
       "  ('graist', 0.006149520249781149)],\n",
       " 699: [('conduite', 0.028846390435638056),\n",
       "  ('profession', 0.026958603993642315),\n",
       "  ('routier', 0.017211262236488962),\n",
       "  ('contrôlable', 0.016339160948953973),\n",
       "  ('itinérance', 0.01581063545626527),\n",
       "  ('mémoriel', 0.015329986120793034),\n",
       "  ('conduire', 0.015044539231185794),\n",
       "  ('cost', 0.014780428019479076),\n",
       "  ('inscription', 0.014560827621014677),\n",
       "  ('aspirant', 0.014473657048430257)],\n",
       " 700: [('iguerande', 0.049660835866837165),\n",
       "  ('questionnement', 0.032859144981357884),\n",
       "  ('03', 0.02640986398180531),\n",
       "  ('décentralisation', 0.022296555816979154),\n",
       "  ('inverse', 0.020302716408257974),\n",
       "  ('tâche', 0.02020272982139273),\n",
       "  ('retourner', 0.019861906974725157),\n",
       "  ('registre', 0.019606783833967207),\n",
       "  ('07', 0.018655430733034734),\n",
       "  ('fax', 0.018182514964338335)],\n",
       " 701: [('combattant', 0.19418827370759995),\n",
       "  ('contingent', 0.04903219845610968),\n",
       "  ('attribution', 0.04639684048848507),\n",
       "  ('ancien', 0.03316545526237375),\n",
       "  ('génération', 0.026183500993285716),\n",
       "  ('obéissance', 0.025456180738445175),\n",
       "  ('militaire', 0.025209096690714316),\n",
       "  ('juillet', 0.024810736884920345),\n",
       "  ('séjourner', 0.023867175482612597),\n",
       "  ('pérennisation', 0.02380184975773055)],\n",
       " 702: [('formulaire', 0.10307205852881463),\n",
       "  ('grenoble', 0.056167505535980315),\n",
       "  ('facultatif', 0.04854581395885738),\n",
       "  ('solution', 0.044164159057052635),\n",
       "  ('sce', 0.043803265316708424),\n",
       "  ('reply', 0.03902656011962513),\n",
       "  ('no', 0.038553667822494156),\n",
       "  ('coordination', 0.03399663094929202),\n",
       "  ('renseigner', 0.029962932039809206),\n",
       "  ('general', 0.027726898846627684)],\n",
       " 703: [('héritage', 0.07740241174985975),\n",
       "  ('tabac', 0.07635123696822048),\n",
       "  ('indirect', 0.07291377452123718),\n",
       "  ('alcool', 0.06857511014279338),\n",
       "  ('succession', 0.05128357987824916),\n",
       "  ('équité', 0.04997604042577263),\n",
       "  ('direct', 0.04503408813826138),\n",
       "  ('fiscalité', 0.04176583460670737),\n",
       "  ('ménage', 0.041423363512409384),\n",
       "  ('répartition', 0.0412560370829658)],\n",
       " 704: [('registre', 0.07859010081189141),\n",
       "  ('amont', 0.055876451800443934),\n",
       "  ('destinataire', 0.047869406839934604),\n",
       "  ('registr', 0.04398306716852207),\n",
       "  ('initier', 0.0414212546925111),\n",
       "  ('inviter', 0.03808101953768617),\n",
       "  ('mi', 0.032847476850223045),\n",
       "  ('déposer', 0.027201096786628198),\n",
       "  ('hôtel', 0.025625311246532247),\n",
       "  ('proposition', 0.023849610226162714)],\n",
       " 705: [('inviter', 0.07901619999645645),\n",
       "  ('débattre', 0.06892353639657048),\n",
       "  ('mener', 0.05231083301654817),\n",
       "  ('essentiel', 0.04623204422325748),\n",
       "  ('thème', 0.04040283598784486),\n",
       "  ('avis', 0.037069465667703465),\n",
       "  ('citoyenneté', 0.03598095387885799),\n",
       "  ('débat', 0.03537396107656804),\n",
       "  ('partager', 0.03502989135910674),\n",
       "  ('participer', 0.0308740546624146)],\n",
       " 706: [('darnetal', 0.02159692796154797),\n",
       "  ('nectar', 0.019346597511088772),\n",
       "  ('dupuis', 0.018694187130813302),\n",
       "  ('in', 0.017878503435108214),\n",
       "  ('filtrage', 0.016718185229825783),\n",
       "  ('ouigo', 0.016162857472858838),\n",
       "  ('cecile', 0.015909684858585748),\n",
       "  ('tgv', 0.015673283652114282),\n",
       "  ('dametal', 0.014914501770601078),\n",
       "  ('reply', 0.013884996611988857)],\n",
       " 707: [('industrie', 0.02670681753097979),\n",
       "  ('protéger', 0.018402433179110996),\n",
       "  ('socialiser', 0.015369177282235984),\n",
       "  ('demeurer', 0.014549605478974444),\n",
       "  ('fin', 0.01395026731518389),\n",
       "  ('lancement', 0.013655712682235154),\n",
       "  ('rembourser', 0.013163274479867232),\n",
       "  ('délocalisation', 0.012437680033083013),\n",
       "  ('illégitime', 0.011688987996692176),\n",
       "  ('employeur', 0.011502978835789202)],\n",
       " 708: [('soulever', 0.15944165486623524),\n",
       "  ('préoccupation', 0.12434633525358692),\n",
       "  ('éventuel', 0.11749921880182702),\n",
       "  ('conséquence', 0.08159048842194896),\n",
       "  ('principal', 0.0813889108145129),\n",
       "  ('enjeux', 0.044102557864816656),\n",
       "  ('enjeu', 0.03919191447548625),\n",
       "  ('question', 0.03398272134961224),\n",
       "  ('décroissances', 0.029049987208121096),\n",
       "  ('libérisation', 0.029049987208121096)],\n",
       " 709: [('page', 1.3789926966861645),\n",
       "  ('vide', 0.119259739155934),\n",
       "  ('document', 0.08882382540802726),\n",
       "  ('suite', 0.05074295307245984),\n",
       "  ('', 1e-05),\n",
       "  ('', 1e-05),\n",
       "  ('', 1e-05),\n",
       "  ('', 1e-05),\n",
       "  ('', 1e-05),\n",
       "  ('', 1e-05)],\n",
       " 710: [('réduit', 0.05512906516075224),\n",
       "  ('directive', 0.05357855689908267),\n",
       "  ('adopter', 0.037684180298445405),\n",
       "  ('révision', 0.037322653234252975),\n",
       "  ('ecofin', 0.0315869704816576),\n",
       "  ('taux', 0.03146818244850137),\n",
       "  ('européen', 0.03079056220571488),\n",
       "  ('équitation', 0.030423393034779554),\n",
       "  ('commission', 0.025724794064127282),\n",
       "  ('final', 0.02505646555803712)],\n",
       " 711: [('villepintoise', 0.04983194629230825),\n",
       "  ('villepintoi', 0.0467191691101187),\n",
       "  ('polyvalent', 0.04562563378856033),\n",
       "  ('espérant', 0.04352611876305914),\n",
       "  ('mars', 0.03566647833916822),\n",
       "  ('efficace', 0.03507499335879768),\n",
       "  ('salle', 0.033289156575037164),\n",
       "  ('prochain', 0.030136400971209693),\n",
       "  ('24h', 0.02955762701526003),\n",
       "  ('poster', 0.02768250387719284)],\n",
       " 712: [('méritée', 0.01290755737417887),\n",
       "  ('déclinent', 0.011492767841540174),\n",
       "  ('pénible', 0.008960816081775876),\n",
       "  ('travailler', 0.008779625288318544),\n",
       "  ('pauvre', 0.008433944120815978),\n",
       "  ('proportionner', 0.007530953041078011),\n",
       "  ('taigérie', 0.007397952266056663),\n",
       "  ('premettre', 0.007397952266056663),\n",
       "  ('allgiier', 0.007397952266056663),\n",
       "  ('alzeimme', 0.007397952266056663)],\n",
       " 713: [('janvier', 0.2021815947524438),\n",
       "  ('david', 0.16589719168703873),\n",
       "  ('leodagan', 0.13054108175801252),\n",
       "  ('buczho', 0.13054108175801252),\n",
       "  ('mecreant', 0.1217674871508592),\n",
       "  ('cramer', 0.09909119013930323),\n",
       "  ('hermitage', 0.09626784873157877),\n",
       "  ('lundi', 0.09306208727201674),\n",
       "  ('antoine', 0.08708549332773345),\n",
       "  ('samedi', 0.08594333280195215)],\n",
       " 714: [('donnée', 0.07823740296448965),\n",
       "  ('recueil', 0.07100011911236945),\n",
       "  ('montivillier', 0.04530573437942887),\n",
       "  ('françaiselibertéfich', 0.04504209989799476),\n",
       "  ('registre', 0.03278561547826174),\n",
       "  ('achever', 0.02772791755426865),\n",
       "  ('exposé', 0.027153184748193532),\n",
       "  ('cadre', 0.02669062858533225),\n",
       "  ('cocher', 0.025663273749674875),\n",
       "  ('organisateur', 0.02416498921992354)],\n",
       " 715: [('espérance', 0.6811844469602747),\n",
       "  ('wargnie', 0.18499291317149763),\n",
       "  ('cahier', 0.15404017021281946),\n",
       "  ('doléance', 0.1321783231291307),\n",
       "  ('soyez', 0.11080740725662859),\n",
       "  ('espagnol', 0.08307214538192549),\n",
       "  ('numéro', 0.07019147467270198),\n",
       "  ('doléancer', 0.06954104371831257),\n",
       "  ('17', 0.05148699087844627),\n",
       "  ('12', 0.03677224459157834)],\n",
       " 716: [('organisation', 0.1967692943031808),\n",
       "  ('service', 0.060608023709059274),\n",
       "  ('état', 0.05572349742705893),\n",
       "  ('etat', 0.039095921813349095),\n",
       "  ('public', 0.036105967790770285),\n",
       "  ('reconnaissance', 0.025508050366700955),\n",
       "  ('transparence', 0.024224496327254725),\n",
       "  ('manque', 0.021378438338224674),\n",
       "  ('territorial', 0.018533603305955784),\n",
       "  ('comprendre', 0.01765531617484581)],\n",
       " 717: [('numéro', 0.12342848686407497),\n",
       "  ('expression', 0.10858400836689917),\n",
       "  ('porte', 0.10848759650823502),\n",
       "  ('présent', 0.10667098950758488),\n",
       "  ('71439', 0.08902608292079134),\n",
       "  ('71436', 0.08902608292079134),\n",
       "  ('71220', 0.08902608292079134),\n",
       "  ('71553', 0.08624686680424874),\n",
       "  ('01', 0.08566039275248039),\n",
       "  ('image', 0.08446461505851419)],\n",
       " 718: [('graphique', 0.18590614172132117),\n",
       "  ('capteraient', 0.113296896755193),\n",
       "  ('ménage', 0.08700276459883118),\n",
       "  ('aisé', 0.0802755507166224),\n",
       "  ('entamer', 0.07154011276550867),\n",
       "  ('actualiser', 0.06381487072351094),\n",
       "  ('arranger', 0.06368783607714694),\n",
       "  ('2017', 0.05809984232140733),\n",
       "  ('horizon', 0.055094788288900645),\n",
       "  ('socio', 0.0516137279868759)],\n",
       " 719: [('pro', 0.03619262509097975),\n",
       "  ('messagerie', 0.03407661367325509),\n",
       "  ('dividende', 0.033004007481548414),\n",
       "  ('cahuzac', 0.032610168041810876),\n",
       "  ('littéralement', 0.031903164710662776),\n",
       "  ('poumon', 0.031088482957042078),\n",
       "  ('désabonnement', 0.031018853531708603),\n",
       "  ('doélance', 0.0308065177441034),\n",
       "  ('investissant', 0.030777703344853906),\n",
       "  ('confiscatoire', 0.029085353204236053)],\n",
       " 720: [('mair', 0.10343902922421533),\n",
       "  ('didier', 0.09231028756862128),\n",
       "  ('jean', 0.0734831645113313),\n",
       "  ('fwd', 0.045145913143839644),\n",
       "  ('jaun', 0.03949037529356455),\n",
       "  ('ieandidiergarca', 0.03529919116919218),\n",
       "  ('raynal', 0.0343428046540343),\n",
       "  ('fondamentau', 0.028583553822599233),\n",
       "  ('deom', 0.027399202609657284),\n",
       "  ('ée', 0.025384563144502645)],\n",
       " 721: [('fiscalité', 0.23574493311341493),\n",
       "  ('dépense', 0.1467152492070859),\n",
       "  ('fiscalite', 0.13991106560673097),\n",
       "  ('pri', 0.0918766206943546),\n",
       "  ('depense', 0.07577710963482934),\n",
       "  ('public', 0.04854246780759116),\n",
       "  ('syndicat', 0.04305313397081115),\n",
       "  ('contribuable', 0.0329454318143924),\n",
       "  ('frais', 0.01934123569183903),\n",
       "  ('charge', 0.014401608859551116)],\n",
       " 722: [('réclamer', 0.04363087627717909),\n",
       "  ('agricole', 0.040739156571780365),\n",
       "  ('divorcés', 0.02802971128590112),\n",
       "  ('acculer', 0.024526043603907574),\n",
       "  ('insistance', 0.024061238864211364),\n",
       "  ('réunir', 0.023831372109717017),\n",
       "  ('exiger', 0.023400193288453313),\n",
       "  ('véhémence', 0.023334778085567096),\n",
       "  ('successoral', 0.0226878556857532),\n",
       "  ('seuil', 0.022256336328158204)],\n",
       " 723: [('loire', 0.12135955200636017),\n",
       "  ('granddebat', 0.09194485413727047),\n",
       "  ('cahierscitoyens', 0.06841472512489077),\n",
       "  ('cyr', 0.06006340797579036),\n",
       "  ('sur', 0.04728114190535951),\n",
       "  ('fr', 0.04519871365817408),\n",
       "  ('atlantique', 0.04054318359836312),\n",
       "  ('02', 0.03755305736335984),\n",
       "  ('gouv', 0.03675018215802768),\n",
       "  ('orvault', 0.03361726290957639)],\n",
       " 724: [('député', 0.006228826424950455),\n",
       "  ('émigré', 0.005930479378246672),\n",
       "  ('mandat', 0.0056787290576575),\n",
       "  ('subsidiarité', 0.0055274417728472134),\n",
       "  ('frais', 0.005319209204783842),\n",
       "  ('lannion', 0.005185240771658447),\n",
       "  ('étrenne', 0.005163121316634031),\n",
       "  ('pointage', 0.0051508718558162725),\n",
       "  ('eta', 0.005042399386275443),\n",
       "  ('fonction', 0.00483193493221639)],\n",
       " 725: [('cher', 0.19467571097835523),\n",
       "  ('allone', 0.133539124381187),\n",
       "  ('cheyenne', 0.12937030020637313),\n",
       "  ('chèr', 0.10341239277358781),\n",
       "  ('bouton', 0.08276604910620526),\n",
       "  ('bal', 0.08248001384799113),\n",
       "  ('demission', 0.0712017193274584),\n",
       "  ('insalubre', 0.0548899702216827),\n",
       "  ('concept', 0.05158534962506128),\n",
       "  ('trop', 0.04896386448288216)],\n",
       " 726: [('777', 0.008905744526922058),\n",
       "  ('supposition', 0.00791901715253096),\n",
       "  ('fraude', 0.007499131559907307),\n",
       "  ('taxon', 0.006663966590252846),\n",
       "  ('milliard', 0.00656798907768581),\n",
       "  ('peàaer', 0.006186409993331126),\n",
       "  ('lamwtabl', 0.006186409993331126),\n",
       "  ('intercomunauté', 0.006186409993331126),\n",
       "  ('qardin', 0.006186409993331126),\n",
       "  ('continencer', 0.006186409993331126)],\n",
       " 727: [('catalytique', 0.01205408432268299),\n",
       "  ('handicap', 0.011284902404524962),\n",
       "  ('ecologie', 0.011115178141391827),\n",
       "  ('diesel', 0.010152305077002556),\n",
       "  ('cpte', 0.009756799477864266),\n",
       "  ('auditif', 0.009262515964303214),\n",
       "  ('affirmation', 0.008549501843956872),\n",
       "  ('outre', 0.00796308653512115),\n",
       "  ('monsieur', 0.007519007782201896),\n",
       "  ('malentender', 0.0073542115275663355)],\n",
       " 728: [('encombrer', 0.015818529974929576),\n",
       "  ('enfant', 0.015606435945514467),\n",
       "  ('envisager', 0.01360605409135402),\n",
       "  ('lillois', 0.013078521151839594),\n",
       "  ('enfance', 0.012216377195587142),\n",
       "  ('06', 0.012077998085073698),\n",
       "  ('lien', 0.010844497898850005),\n",
       "  ('mdph', 0.010725936675954948),\n",
       "  ('réunir', 0.009628174871268876),\n",
       "  ('employé', 0.009546051679628862)],\n",
       " 729: [('évoluer', 0.12037864391423152),\n",
       "  ('renoncer', 0.0840413780051457),\n",
       "  ('complexe', 0.07538662542306482),\n",
       "  ('positif', 0.07228969309771997),\n",
       "  ('vou', 0.055622576896582406),\n",
       "  ('évolution', 0.05459668421508043),\n",
       "  ('démarche', 0.04836926258857066),\n",
       "  ('cours', 0.04253206808769944),\n",
       "  ('raison', 0.04187957802171824),\n",
       "  ('manière', 0.040457957330084365)],\n",
       " 730: [('recontacter', 0.06585868413706562),\n",
       "  ('pli', 0.05539942958005115),\n",
       "  ('confidentiel', 0.05426457335146299),\n",
       "  ('message', 0.05065235261533732),\n",
       "  ('destinataire', 0.041580748224207376),\n",
       "  ('enveloppe', 0.034959853378596875),\n",
       "  ('coordonnée', 0.025546475561520194),\n",
       "  ('préciser', 0.023668908527481266),\n",
       "  ('déposer', 0.023627657653855074),\n",
       "  ('adresser', 0.022905683000218946)],\n",
       " 731: [('surtaxe', 0.009208099320849886),\n",
       "  ('sablon', 0.009121046787716157),\n",
       "  ('transition', 0.008123609858925756),\n",
       "  ('interco', 0.007948720250785178),\n",
       "  ('kérosèn', 0.00780516346728975),\n",
       "  ('ticket', 0.007690188278558867),\n",
       "  ('pollueur', 0.007636404260413733),\n",
       "  ('jréunir', 0.007456793534984084),\n",
       "  ('lamille', 0.007456793534984084),\n",
       "  ('evou', 0.007456793534984084)],\n",
       " 732: [('mature', 0.014034946269543346),\n",
       "  ('astreinte', 0.012483017587772854),\n",
       "  ('ans', 0.012310079194514767),\n",
       "  ('chayolain', 0.012247916221951293),\n",
       "  ('x0e', 0.012247916221951293),\n",
       "  ('thaon', 0.012247916221951293),\n",
       "  ('fr3x21h', 0.012247916221951293),\n",
       "  ('redonner', 0.011928149973935194),\n",
       "  ('annal', 0.011424740480900092),\n",
       "  ('connerie', 0.010848952889447016)],\n",
       " 733: [('indecent', 0.03414951988708462),\n",
       "  ('ménagement', 0.03312165004852406),\n",
       "  ('labbié', 0.031937569639498196),\n",
       "  ('expresident', 0.031937569639498196),\n",
       "  ('effrayant', 0.03023700053035845),\n",
       "  ('proposés', 0.0299357228367031),\n",
       "  ('laã', 0.02618119471252265),\n",
       "  ('débloquer', 0.024107818336943615),\n",
       "  ('désaccord', 0.021675760337916235),\n",
       "  ('evasion', 0.021372398336905542)],\n",
       " 734: [('colmatant', 0.014679007952383362),\n",
       "  ('norvégien', 0.010643050682299652),\n",
       "  ('démocratiser', 0.009950472034653109),\n",
       "  ('imparfait', 0.00980538586213636),\n",
       "  ('illégalité', 0.009092181299808275),\n",
       "  ('corollaire', 0.008715502848596715),\n",
       "  ('omettre', 0.008690908190877747),\n",
       "  ('tutoyer', 0.008297855307730875),\n",
       "  ('taxi', 0.007998630350541646),\n",
       "  ('friser', 0.007938573298363635)],\n",
       " 735: [('identification', 0.06806363561607624),\n",
       "  ('courriel', 0.04616388640029209),\n",
       "  ('compétitif', 0.040639418979124695),\n",
       "  ('résidence', 0.03165338592086239),\n",
       "  ('efficace', 0.024692795324593564),\n",
       "  ('quotidien', 0.02316039224431532),\n",
       "  ('énergie', 0.022756802874642074),\n",
       "  ('logement', 0.021141759787910896),\n",
       "  ('gmail', 0.02089692691065517),\n",
       "  ('prénom', 0.02077993337016361)],\n",
       " 736: [('ruisseler', 0.01175063511222622),\n",
       "  ('monarchique', 0.0085605624810425),\n",
       "  ('paradis', 0.008106706733484344),\n",
       "  ('précisément', 0.007735771299734694),\n",
       "  ('pluie', 0.007658716102208658),\n",
       "  ('restituer', 0.0075958483978151355),\n",
       "  ('poisson', 0.007287560503452666),\n",
       "  ('fourniture', 0.007083632503812427),\n",
       "  ('indemnité', 0.007029129680549554),\n",
       "  ('publication', 0.006874409028119178)],\n",
       " 737: [('bruz', 0.029502749048590578),\n",
       "  ('bcp', 0.024821717547093426),\n",
       "  ('thermiquement', 0.018733492440650347),\n",
       "  ('eugénisme', 0.018226876492648186),\n",
       "  ('entrée', 0.017230721618918685),\n",
       "  ('visio', 0.017212995702799924),\n",
       "  ('phoniquement', 0.016716708754695195),\n",
       "  ('poire', 0.016560089512346172),\n",
       "  ('concierge', 0.01590519192145153),\n",
       "  ('fleuri', 0.015145302419397167)]}"
      ]
     },
     "execution_count": 49,
     "metadata": {},
     "output_type": "execute_result"
    }
   ],
   "source": [
    "# montre tous les topics et leurs mots associés. si default, la liste peut être longue.\n",
    "topic_model.get_topics()"
   ]
  },
  {
   "cell_type": "code",
   "execution_count": 35,
   "metadata": {},
   "outputs": [],
   "source": [
    "fig = topic_model.visualize_topics()\n",
    "# fig.show()\n",
    "fig.write_html(\"30_size_clusters_intertopic_distancemap_BERTopics.html\")"
   ]
  },
  {
   "cell_type": "code",
   "execution_count": 53,
   "metadata": {},
   "outputs": [],
   "source": []
  },
  {
   "cell_type": "code",
   "execution_count": 36,
   "metadata": {},
   "outputs": [],
   "source": [
    "first_100_topics = list(range(100))"
   ]
  },
  {
   "cell_type": "code",
   "execution_count": 38,
   "metadata": {},
   "outputs": [
    {
     "ename": "TypeError",
     "evalue": "BERTopic.hierarchical_topics() missing 1 required positional argument: 'docs'",
     "output_type": "error",
     "traceback": [
      "\u001b[1;31m---------------------------------------------------------------------------\u001b[0m",
      "\u001b[1;31mTypeError\u001b[0m                                 Traceback (most recent call last)",
      "Cell \u001b[1;32mIn[38], line 1\u001b[0m\n\u001b[1;32m----> 1\u001b[0m hierarchical_topics \u001b[39m=\u001b[39m topic_model\u001b[39m.\u001b[39;49mhierarchical_topics()\n",
      "\u001b[1;31mTypeError\u001b[0m: BERTopic.hierarchical_topics() missing 1 required positional argument: 'docs'"
     ]
    }
   ],
   "source": [
    "# hierarchical_topics = topic_model.hierarchical_topics()\n"
   ]
  },
  {
   "cell_type": "code",
   "execution_count": 40,
   "metadata": {},
   "outputs": [],
   "source": [
    "hierarchie = topic_model.visualize_hierarchy()"
   ]
  },
  {
   "cell_type": "code",
   "execution_count": 41,
   "metadata": {},
   "outputs": [
    {
     "data": {
      "application/vnd.plotly.v1+json": {
       "config": {
        "plotlyServerURL": "https://plot.ly"
       },
       "data": [
        {
         "hoverinfo": "text",
         "marker": {
          "color": "rgb(61,153,112)"
         },
         "mode": "lines",
         "type": "scatter",
         "x": [
          0,
          0.6587121653366852,
          0.6587121653366852,
          0
         ],
         "xaxis": "x",
         "y": [
          -25,
          -25,
          -35,
          -35
         ],
         "yaxis": "y"
        },
        {
         "hoverinfo": "text",
         "marker": {
          "color": "rgb(61,153,112)"
         },
         "mode": "lines",
         "type": "scatter",
         "x": [
          0,
          0.9124187791983002,
          0.9124187791983002,
          0.6587121653366852
         ],
         "xaxis": "x",
         "y": [
          -15,
          -15,
          -30,
          -30
         ],
         "yaxis": "y"
        },
        {
         "hoverinfo": "text",
         "marker": {
          "color": "rgb(0,116,217)"
         },
         "mode": "lines",
         "type": "scatter",
         "x": [
          0.9124187791983002,
          1.051156355713927,
          1.051156355713927,
          0
         ],
         "xaxis": "x",
         "y": [
          -22.5,
          -22.5,
          -45,
          -45
         ],
         "yaxis": "y"
        },
        {
         "hoverinfo": "text",
         "marker": {
          "color": "rgb(0,116,217)"
         },
         "mode": "lines",
         "type": "scatter",
         "x": [
          0,
          1.2905363887410786,
          1.2905363887410786,
          1.051156355713927
         ],
         "xaxis": "x",
         "y": [
          -5,
          -5,
          -33.75,
          -33.75
         ],
         "yaxis": "y"
        },
        {
         "hoverinfo": "text",
         "marker": {
          "color": "rgb(255,65,54)"
         },
         "mode": "lines",
         "type": "scatter",
         "x": [
          0,
          0.512342920202014,
          0.512342920202014,
          0
         ],
         "xaxis": "x",
         "y": [
          -55,
          -55,
          -65,
          -65
         ],
         "yaxis": "y"
        },
        {
         "hoverinfo": "text",
         "marker": {
          "color": "rgb(255,65,54)"
         },
         "mode": "lines",
         "type": "scatter",
         "x": [
          0,
          0.5606671670073493,
          0.5606671670073493,
          0
         ],
         "xaxis": "x",
         "y": [
          -75,
          -75,
          -85,
          -85
         ],
         "yaxis": "y"
        },
        {
         "hoverinfo": "text",
         "marker": {
          "color": "rgb(255,65,54)"
         },
         "mode": "lines",
         "type": "scatter",
         "x": [
          0.512342920202014,
          0.7715802504664532,
          0.7715802504664532,
          0.5606671670073493
         ],
         "xaxis": "x",
         "y": [
          -60,
          -60,
          -80,
          -80
         ],
         "yaxis": "y"
        },
        {
         "hoverinfo": "text",
         "marker": {
          "color": "rgb(35,205,205)"
         },
         "mode": "lines",
         "type": "scatter",
         "x": [
          0,
          0.307329185598048,
          0.307329185598048,
          0
         ],
         "xaxis": "x",
         "y": [
          -95,
          -95,
          -105,
          -105
         ],
         "yaxis": "y"
        },
        {
         "hoverinfo": "text",
         "marker": {
          "color": "rgb(0,116,217)"
         },
         "mode": "lines",
         "type": "scatter",
         "x": [
          0.307329185598048,
          1.0467637615615586,
          1.0467637615615586,
          0
         ],
         "xaxis": "x",
         "y": [
          -100,
          -100,
          -115,
          -115
         ],
         "yaxis": "y"
        },
        {
         "hoverinfo": "text",
         "marker": {
          "color": "rgb(0,116,217)"
         },
         "mode": "lines",
         "type": "scatter",
         "x": [
          0.7715802504664532,
          1.7949173984243683,
          1.7949173984243683,
          1.0467637615615586
         ],
         "xaxis": "x",
         "y": [
          -70,
          -70,
          -107.5,
          -107.5
         ],
         "yaxis": "y"
        },
        {
         "hoverinfo": "text",
         "marker": {
          "color": "rgb(0,116,217)"
         },
         "mode": "lines",
         "type": "scatter",
         "x": [
          1.2905363887410786,
          1.8508498417468218,
          1.8508498417468218,
          1.7949173984243683
         ],
         "xaxis": "x",
         "y": [
          -19.375,
          -19.375,
          -88.75,
          -88.75
         ],
         "yaxis": "y"
        },
        {
         "hoverinfo": "text",
         "marker": {
          "color": "rgb(133,20,75)"
         },
         "mode": "lines",
         "type": "scatter",
         "x": [
          0,
          0.7241122304113423,
          0.7241122304113423,
          0
         ],
         "xaxis": "x",
         "y": [
          -145,
          -145,
          -155,
          -155
         ],
         "yaxis": "y"
        },
        {
         "hoverinfo": "text",
         "marker": {
          "color": "rgb(133,20,75)"
         },
         "mode": "lines",
         "type": "scatter",
         "x": [
          0.7241122304113423,
          0.9406338967997828,
          0.9406338967997828,
          0
         ],
         "xaxis": "x",
         "y": [
          -150,
          -150,
          -165,
          -165
         ],
         "yaxis": "y"
        },
        {
         "hoverinfo": "text",
         "marker": {
          "color": "rgb(133,20,75)"
         },
         "mode": "lines",
         "type": "scatter",
         "x": [
          0,
          0.984824770749864,
          0.984824770749864,
          0.9406338967997828
         ],
         "xaxis": "x",
         "y": [
          -135,
          -135,
          -157.5,
          -157.5
         ],
         "yaxis": "y"
        },
        {
         "hoverinfo": "text",
         "marker": {
          "color": "rgb(0,116,217)"
         },
         "mode": "lines",
         "type": "scatter",
         "x": [
          0,
          1.02655060527193,
          1.02655060527193,
          0
         ],
         "xaxis": "x",
         "y": [
          -175,
          -175,
          -185,
          -185
         ],
         "yaxis": "y"
        },
        {
         "hoverinfo": "text",
         "marker": {
          "color": "rgb(0,116,217)"
         },
         "mode": "lines",
         "type": "scatter",
         "x": [
          0.984824770749864,
          1.3436605534326087,
          1.3436605534326087,
          1.02655060527193
         ],
         "xaxis": "x",
         "y": [
          -146.25,
          -146.25,
          -180,
          -180
         ],
         "yaxis": "y"
        },
        {
         "hoverinfo": "text",
         "marker": {
          "color": "rgb(0,116,217)"
         },
         "mode": "lines",
         "type": "scatter",
         "x": [
          0,
          1.416379877137217,
          1.416379877137217,
          1.3436605534326087
         ],
         "xaxis": "x",
         "y": [
          -125,
          -125,
          -163.125,
          -163.125
         ],
         "yaxis": "y"
        },
        {
         "hoverinfo": "text",
         "marker": {
          "color": "rgb(255,220,0)"
         },
         "mode": "lines",
         "type": "scatter",
         "x": [
          0,
          0.7347406941258996,
          0.7347406941258996,
          0
         ],
         "xaxis": "x",
         "y": [
          -205,
          -205,
          -215,
          -215
         ],
         "yaxis": "y"
        },
        {
         "hoverinfo": "text",
         "marker": {
          "color": "rgb(0,116,217)"
         },
         "mode": "lines",
         "type": "scatter",
         "x": [
          0,
          1.0216541767368068,
          1.0216541767368068,
          0.7347406941258996
         ],
         "xaxis": "x",
         "y": [
          -195,
          -195,
          -210,
          -210
         ],
         "yaxis": "y"
        },
        {
         "hoverinfo": "text",
         "marker": {
          "color": "rgb(0,116,217)"
         },
         "mode": "lines",
         "type": "scatter",
         "x": [
          1.416379877137217,
          1.6338838805173004,
          1.6338838805173004,
          1.0216541767368068
         ],
         "xaxis": "x",
         "y": [
          -144.0625,
          -144.0625,
          -202.5,
          -202.5
         ],
         "yaxis": "y"
        },
        {
         "hoverinfo": "text",
         "marker": {
          "color": "rgb(40,35,35)"
         },
         "mode": "lines",
         "type": "scatter",
         "x": [
          0,
          0.7227623955654022,
          0.7227623955654022,
          0
         ],
         "xaxis": "x",
         "y": [
          -235,
          -235,
          -245,
          -245
         ],
         "yaxis": "y"
        },
        {
         "hoverinfo": "text",
         "marker": {
          "color": "rgb(40,35,35)"
         },
         "mode": "lines",
         "type": "scatter",
         "x": [
          0,
          0.8952274663201066,
          0.8952274663201066,
          0.7227623955654022
         ],
         "xaxis": "x",
         "y": [
          -225,
          -225,
          -240,
          -240
         ],
         "yaxis": "y"
        },
        {
         "hoverinfo": "text",
         "marker": {
          "color": "rgb(0,116,217)"
         },
         "mode": "lines",
         "type": "scatter",
         "x": [
          1.6338838805173004,
          1.8817380081857098,
          1.8817380081857098,
          0.8952274663201066
         ],
         "xaxis": "x",
         "y": [
          -173.28125,
          -173.28125,
          -232.5,
          -232.5
         ],
         "yaxis": "y"
        },
        {
         "hoverinfo": "text",
         "marker": {
          "color": "rgb(0,116,217)"
         },
         "mode": "lines",
         "type": "scatter",
         "x": [
          1.8508498417468218,
          3.112904381745514,
          3.112904381745514,
          1.8817380081857098
         ],
         "xaxis": "x",
         "y": [
          -54.0625,
          -54.0625,
          -202.890625,
          -202.890625
         ],
         "yaxis": "y"
        },
        {
         "hoverinfo": "text",
         "marker": {
          "color": "rgb(61,153,112)"
         },
         "mode": "lines",
         "type": "scatter",
         "x": [
          0,
          0.865857872807479,
          0.865857872807479,
          0
         ],
         "xaxis": "x",
         "y": [
          -255,
          -255,
          -265,
          -265
         ],
         "yaxis": "y"
        },
        {
         "hoverinfo": "text",
         "marker": {
          "color": "rgb(255,65,54)"
         },
         "mode": "lines",
         "type": "scatter",
         "x": [
          0,
          0.8112248829758196,
          0.8112248829758196,
          0
         ],
         "xaxis": "x",
         "y": [
          -285,
          -285,
          -295,
          -295
         ],
         "yaxis": "y"
        },
        {
         "hoverinfo": "text",
         "marker": {
          "color": "rgb(255,65,54)"
         },
         "mode": "lines",
         "type": "scatter",
         "x": [
          0,
          0.9990902394496781,
          0.9990902394496781,
          0.8112248829758196
         ],
         "xaxis": "x",
         "y": [
          -275,
          -275,
          -290,
          -290
         ],
         "yaxis": "y"
        },
        {
         "hoverinfo": "text",
         "marker": {
          "color": "rgb(0,116,217)"
         },
         "mode": "lines",
         "type": "scatter",
         "x": [
          0.865857872807479,
          1.6196971282876524,
          1.6196971282876524,
          0.9990902394496781
         ],
         "xaxis": "x",
         "y": [
          -260,
          -260,
          -282.5,
          -282.5
         ],
         "yaxis": "y"
        },
        {
         "hoverinfo": "text",
         "marker": {
          "color": "rgb(0,116,217)"
         },
         "mode": "lines",
         "type": "scatter",
         "x": [
          0,
          1.1017509236975467,
          1.1017509236975467,
          0
         ],
         "xaxis": "x",
         "y": [
          -315,
          -315,
          -325,
          -325
         ],
         "yaxis": "y"
        },
        {
         "hoverinfo": "text",
         "marker": {
          "color": "rgb(0,116,217)"
         },
         "mode": "lines",
         "type": "scatter",
         "x": [
          0,
          1.516981299382397,
          1.516981299382397,
          1.1017509236975467
         ],
         "xaxis": "x",
         "y": [
          -305,
          -305,
          -320,
          -320
         ],
         "yaxis": "y"
        },
        {
         "hoverinfo": "text",
         "marker": {
          "color": "rgb(0,116,217)"
         },
         "mode": "lines",
         "type": "scatter",
         "x": [
          0,
          1.2833698394223034,
          1.2833698394223034,
          0
         ],
         "xaxis": "x",
         "y": [
          -345,
          -345,
          -355,
          -355
         ],
         "yaxis": "y"
        },
        {
         "hoverinfo": "text",
         "marker": {
          "color": "rgb(0,116,217)"
         },
         "mode": "lines",
         "type": "scatter",
         "x": [
          0,
          1.3861618804913935,
          1.3861618804913935,
          1.2833698394223034
         ],
         "xaxis": "x",
         "y": [
          -335,
          -335,
          -350,
          -350
         ],
         "yaxis": "y"
        },
        {
         "hoverinfo": "text",
         "marker": {
          "color": "rgb(0,116,217)"
         },
         "mode": "lines",
         "type": "scatter",
         "x": [
          1.516981299382397,
          1.7217325201836349,
          1.7217325201836349,
          1.3861618804913935
         ],
         "xaxis": "x",
         "y": [
          -312.5,
          -312.5,
          -342.5,
          -342.5
         ],
         "yaxis": "y"
        },
        {
         "hoverinfo": "text",
         "marker": {
          "color": "rgb(0,116,217)"
         },
         "mode": "lines",
         "type": "scatter",
         "x": [
          1.6196971282876524,
          2.7683723428464786,
          2.7683723428464786,
          1.7217325201836349
         ],
         "xaxis": "x",
         "y": [
          -271.25,
          -271.25,
          -327.5,
          -327.5
         ],
         "yaxis": "y"
        },
        {
         "hoverinfo": "text",
         "marker": {
          "color": "rgb(0,116,217)"
         },
         "mode": "lines",
         "type": "scatter",
         "x": [
          0,
          1.0603579487291694,
          1.0603579487291694,
          0
         ],
         "xaxis": "x",
         "y": [
          -365,
          -365,
          -375,
          -375
         ],
         "yaxis": "y"
        },
        {
         "hoverinfo": "text",
         "marker": {
          "color": "rgb(0,116,217)"
         },
         "mode": "lines",
         "type": "scatter",
         "x": [
          0,
          1.085578151659876,
          1.085578151659876,
          0
         ],
         "xaxis": "x",
         "y": [
          -385,
          -385,
          -395,
          -395
         ],
         "yaxis": "y"
        },
        {
         "hoverinfo": "text",
         "marker": {
          "color": "rgb(0,116,217)"
         },
         "mode": "lines",
         "type": "scatter",
         "x": [
          0,
          1.0579544920661001,
          1.0579544920661001,
          0
         ],
         "xaxis": "x",
         "y": [
          -415,
          -415,
          -425,
          -425
         ],
         "yaxis": "y"
        },
        {
         "hoverinfo": "text",
         "marker": {
          "color": "rgb(0,116,217)"
         },
         "mode": "lines",
         "type": "scatter",
         "x": [
          0,
          1.221580780852026,
          1.221580780852026,
          1.0579544920661001
         ],
         "xaxis": "x",
         "y": [
          -405,
          -405,
          -420,
          -420
         ],
         "yaxis": "y"
        },
        {
         "hoverinfo": "text",
         "marker": {
          "color": "rgb(0,116,217)"
         },
         "mode": "lines",
         "type": "scatter",
         "x": [
          1.221580780852026,
          1.3552320907252942,
          1.3552320907252942,
          0
         ],
         "xaxis": "x",
         "y": [
          -412.5,
          -412.5,
          -435,
          -435
         ],
         "yaxis": "y"
        },
        {
         "hoverinfo": "text",
         "marker": {
          "color": "rgb(0,116,217)"
         },
         "mode": "lines",
         "type": "scatter",
         "x": [
          1.085578151659876,
          1.4421104550281463,
          1.4421104550281463,
          1.3552320907252942
         ],
         "xaxis": "x",
         "y": [
          -390,
          -390,
          -423.75,
          -423.75
         ],
         "yaxis": "y"
        },
        {
         "hoverinfo": "text",
         "marker": {
          "color": "rgb(0,116,217)"
         },
         "mode": "lines",
         "type": "scatter",
         "x": [
          1.0603579487291694,
          1.7937452154443663,
          1.7937452154443663,
          1.4421104550281463
         ],
         "xaxis": "x",
         "y": [
          -370,
          -370,
          -406.875,
          -406.875
         ],
         "yaxis": "y"
        },
        {
         "hoverinfo": "text",
         "marker": {
          "color": "rgb(0,116,217)"
         },
         "mode": "lines",
         "type": "scatter",
         "x": [
          0,
          1.1155221998010625,
          1.1155221998010625,
          0
         ],
         "xaxis": "x",
         "y": [
          -445,
          -445,
          -455,
          -455
         ],
         "yaxis": "y"
        },
        {
         "hoverinfo": "text",
         "marker": {
          "color": "rgb(35,205,205)"
         },
         "mode": "lines",
         "type": "scatter",
         "x": [
          0,
          0.86682289048622,
          0.86682289048622,
          0
         ],
         "xaxis": "x",
         "y": [
          -465,
          -465,
          -475,
          -475
         ],
         "yaxis": "y"
        },
        {
         "hoverinfo": "text",
         "marker": {
          "color": "rgb(35,205,205)"
         },
         "mode": "lines",
         "type": "scatter",
         "x": [
          0.86682289048622,
          0.9934293509286202,
          0.9934293509286202,
          0
         ],
         "xaxis": "x",
         "y": [
          -470,
          -470,
          -485,
          -485
         ],
         "yaxis": "y"
        },
        {
         "hoverinfo": "text",
         "marker": {
          "color": "rgb(0,116,217)"
         },
         "mode": "lines",
         "type": "scatter",
         "x": [
          1.1155221998010625,
          1.3467825890159835,
          1.3467825890159835,
          0.9934293509286202
         ],
         "xaxis": "x",
         "y": [
          -450,
          -450,
          -477.5,
          -477.5
         ],
         "yaxis": "y"
        },
        {
         "hoverinfo": "text",
         "marker": {
          "color": "rgb(0,116,217)"
         },
         "mode": "lines",
         "type": "scatter",
         "x": [
          1.7937452154443663,
          2.268095577598151,
          2.268095577598151,
          1.3467825890159835
         ],
         "xaxis": "x",
         "y": [
          -388.4375,
          -388.4375,
          -463.75,
          -463.75
         ],
         "yaxis": "y"
        },
        {
         "hoverinfo": "text",
         "marker": {
          "color": "rgb(0,116,217)"
         },
         "mode": "lines",
         "type": "scatter",
         "x": [
          0,
          1.2957802495711905,
          1.2957802495711905,
          0
         ],
         "xaxis": "x",
         "y": [
          -515,
          -515,
          -525,
          -525
         ],
         "yaxis": "y"
        },
        {
         "hoverinfo": "text",
         "marker": {
          "color": "rgb(0,116,217)"
         },
         "mode": "lines",
         "type": "scatter",
         "x": [
          0,
          1.429904059531578,
          1.429904059531578,
          1.2957802495711905
         ],
         "xaxis": "x",
         "y": [
          -505,
          -505,
          -520,
          -520
         ],
         "yaxis": "y"
        },
        {
         "hoverinfo": "text",
         "marker": {
          "color": "rgb(0,116,217)"
         },
         "mode": "lines",
         "type": "scatter",
         "x": [
          0,
          1.6921662901184176,
          1.6921662901184176,
          1.429904059531578
         ],
         "xaxis": "x",
         "y": [
          -495,
          -495,
          -512.5,
          -512.5
         ],
         "yaxis": "y"
        },
        {
         "hoverinfo": "text",
         "marker": {
          "color": "rgb(0,116,217)"
         },
         "mode": "lines",
         "type": "scatter",
         "x": [
          0,
          1.0637081158982598,
          1.0637081158982598,
          0
         ],
         "xaxis": "x",
         "y": [
          -535,
          -535,
          -545,
          -545
         ],
         "yaxis": "y"
        },
        {
         "hoverinfo": "text",
         "marker": {
          "color": "rgb(0,116,217)"
         },
         "mode": "lines",
         "type": "scatter",
         "x": [
          1.6921662901184176,
          1.7477439599415876,
          1.7477439599415876,
          1.0637081158982598
         ],
         "xaxis": "x",
         "y": [
          -503.75,
          -503.75,
          -540,
          -540
         ],
         "yaxis": "y"
        },
        {
         "hoverinfo": "text",
         "marker": {
          "color": "rgb(0,116,217)"
         },
         "mode": "lines",
         "type": "scatter",
         "x": [
          0,
          1.0230100323777782,
          1.0230100323777782,
          0
         ],
         "xaxis": "x",
         "y": [
          -555,
          -555,
          -565,
          -565
         ],
         "yaxis": "y"
        },
        {
         "hoverinfo": "text",
         "marker": {
          "color": "rgb(61,153,112)"
         },
         "mode": "lines",
         "type": "scatter",
         "x": [
          0,
          0.7794430258668474,
          0.7794430258668474,
          0
         ],
         "xaxis": "x",
         "y": [
          -575,
          -575,
          -585,
          -585
         ],
         "yaxis": "y"
        },
        {
         "hoverinfo": "text",
         "marker": {
          "color": "rgb(0,116,217)"
         },
         "mode": "lines",
         "type": "scatter",
         "x": [
          1.0230100323777782,
          1.32838011345821,
          1.32838011345821,
          0.7794430258668474
         ],
         "xaxis": "x",
         "y": [
          -560,
          -560,
          -580,
          -580
         ],
         "yaxis": "y"
        },
        {
         "hoverinfo": "text",
         "marker": {
          "color": "rgb(0,116,217)"
         },
         "mode": "lines",
         "type": "scatter",
         "x": [
          1.7477439599415876,
          2.291925243504993,
          2.291925243504993,
          1.32838011345821
         ],
         "xaxis": "x",
         "y": [
          -521.875,
          -521.875,
          -570,
          -570
         ],
         "yaxis": "y"
        },
        {
         "hoverinfo": "text",
         "marker": {
          "color": "rgb(0,116,217)"
         },
         "mode": "lines",
         "type": "scatter",
         "x": [
          2.268095577598151,
          2.8342313385923936,
          2.8342313385923936,
          2.291925243504993
         ],
         "xaxis": "x",
         "y": [
          -426.09375,
          -426.09375,
          -545.9375,
          -545.9375
         ],
         "yaxis": "y"
        },
        {
         "hoverinfo": "text",
         "marker": {
          "color": "rgb(0,116,217)"
         },
         "mode": "lines",
         "type": "scatter",
         "x": [
          2.7683723428464786,
          3.8299990959290606,
          3.8299990959290606,
          2.8342313385923936
         ],
         "xaxis": "x",
         "y": [
          -299.375,
          -299.375,
          -486.015625,
          -486.015625
         ],
         "yaxis": "y"
        },
        {
         "hoverinfo": "text",
         "marker": {
          "color": "rgb(255,65,54)"
         },
         "mode": "lines",
         "type": "scatter",
         "x": [
          0,
          0.9434423716579053,
          0.9434423716579053,
          0
         ],
         "xaxis": "x",
         "y": [
          -595,
          -595,
          -605,
          -605
         ],
         "yaxis": "y"
        },
        {
         "hoverinfo": "text",
         "marker": {
          "color": "rgb(0,116,217)"
         },
         "mode": "lines",
         "type": "scatter",
         "x": [
          0,
          1.1412939570251526,
          1.1412939570251526,
          0
         ],
         "xaxis": "x",
         "y": [
          -625,
          -625,
          -635,
          -635
         ],
         "yaxis": "y"
        },
        {
         "hoverinfo": "text",
         "marker": {
          "color": "rgb(0,116,217)"
         },
         "mode": "lines",
         "type": "scatter",
         "x": [
          0,
          1.2726456076207113,
          1.2726456076207113,
          1.1412939570251526
         ],
         "xaxis": "x",
         "y": [
          -615,
          -615,
          -630,
          -630
         ],
         "yaxis": "y"
        },
        {
         "hoverinfo": "text",
         "marker": {
          "color": "rgb(0,116,217)"
         },
         "mode": "lines",
         "type": "scatter",
         "x": [
          1.2726456076207113,
          1.5927162229140495,
          1.5927162229140495,
          0
         ],
         "xaxis": "x",
         "y": [
          -622.5,
          -622.5,
          -645,
          -645
         ],
         "yaxis": "y"
        },
        {
         "hoverinfo": "text",
         "marker": {
          "color": "rgb(0,116,217)"
         },
         "mode": "lines",
         "type": "scatter",
         "x": [
          0.9434423716579053,
          1.8557911376004643,
          1.8557911376004643,
          1.5927162229140495
         ],
         "xaxis": "x",
         "y": [
          -600,
          -600,
          -633.75,
          -633.75
         ],
         "yaxis": "y"
        },
        {
         "hoverinfo": "text",
         "marker": {
          "color": "rgb(35,205,205)"
         },
         "mode": "lines",
         "type": "scatter",
         "x": [
          0,
          0.2886278712158978,
          0.2886278712158978,
          0
         ],
         "xaxis": "x",
         "y": [
          -665,
          -665,
          -675,
          -675
         ],
         "yaxis": "y"
        },
        {
         "hoverinfo": "text",
         "marker": {
          "color": "rgb(35,205,205)"
         },
         "mode": "lines",
         "type": "scatter",
         "x": [
          0.2886278712158978,
          0.3332340640626334,
          0.3332340640626334,
          0
         ],
         "xaxis": "x",
         "y": [
          -670,
          -670,
          -685,
          -685
         ],
         "yaxis": "y"
        },
        {
         "hoverinfo": "text",
         "marker": {
          "color": "rgb(0,116,217)"
         },
         "mode": "lines",
         "type": "scatter",
         "x": [
          0,
          1.154410035125099,
          1.154410035125099,
          0.3332340640626334
         ],
         "xaxis": "x",
         "y": [
          -655,
          -655,
          -677.5,
          -677.5
         ],
         "yaxis": "y"
        },
        {
         "hoverinfo": "text",
         "marker": {
          "color": "rgb(0,116,217)"
         },
         "mode": "lines",
         "type": "scatter",
         "x": [
          1.8557911376004643,
          3.4067612756048526,
          3.4067612756048526,
          1.154410035125099
         ],
         "xaxis": "x",
         "y": [
          -616.875,
          -616.875,
          -666.25,
          -666.25
         ],
         "yaxis": "y"
        },
        {
         "hoverinfo": "text",
         "marker": {
          "color": "rgb(0,116,217)"
         },
         "mode": "lines",
         "type": "scatter",
         "x": [
          3.8299990959290606,
          6.034588158982101,
          6.034588158982101,
          3.4067612756048526
         ],
         "xaxis": "x",
         "y": [
          -392.6953125,
          -392.6953125,
          -641.5625,
          -641.5625
         ],
         "yaxis": "y"
        },
        {
         "hoverinfo": "text",
         "marker": {
          "color": "rgb(0,116,217)"
         },
         "mode": "lines",
         "type": "scatter",
         "x": [
          3.112904381745514,
          9.306393249915415,
          9.306393249915415,
          6.034588158982101
         ],
         "xaxis": "x",
         "y": [
          -128.4765625,
          -128.4765625,
          -517.12890625,
          -517.12890625
         ],
         "yaxis": "y"
        },
        {
         "hoverinfo": "text",
         "marker": {
          "color": "rgb(133,20,75)"
         },
         "mode": "lines",
         "type": "scatter",
         "x": [
          0,
          0.04837775669836149,
          0.04837775669836149,
          0
         ],
         "xaxis": "x",
         "y": [
          -695,
          -695,
          -705,
          -705
         ],
         "yaxis": "y"
        },
        {
         "hoverinfo": "text",
         "marker": {
          "color": "rgb(133,20,75)"
         },
         "mode": "lines",
         "type": "scatter",
         "x": [
          0,
          0.05342539106690493,
          0.05342539106690493,
          0
         ],
         "xaxis": "x",
         "y": [
          -715,
          -715,
          -725,
          -725
         ],
         "yaxis": "y"
        },
        {
         "hoverinfo": "text",
         "marker": {
          "color": "rgb(133,20,75)"
         },
         "mode": "lines",
         "type": "scatter",
         "x": [
          0.04837775669836149,
          0.07303421661413094,
          0.07303421661413094,
          0.05342539106690493
         ],
         "xaxis": "x",
         "y": [
          -700,
          -700,
          -720,
          -720
         ],
         "yaxis": "y"
        },
        {
         "hoverinfo": "text",
         "marker": {
          "color": "rgb(133,20,75)"
         },
         "mode": "lines",
         "type": "scatter",
         "x": [
          0,
          0.1589498102443549,
          0.1589498102443549,
          0
         ],
         "xaxis": "x",
         "y": [
          -735,
          -735,
          -745,
          -745
         ],
         "yaxis": "y"
        },
        {
         "hoverinfo": "text",
         "marker": {
          "color": "rgb(133,20,75)"
         },
         "mode": "lines",
         "type": "scatter",
         "x": [
          0.07303421661413094,
          0.2760273782424325,
          0.2760273782424325,
          0.1589498102443549
         ],
         "xaxis": "x",
         "y": [
          -710,
          -710,
          -740,
          -740
         ],
         "yaxis": "y"
        },
        {
         "hoverinfo": "text",
         "marker": {
          "color": "rgb(133,20,75)"
         },
         "mode": "lines",
         "type": "scatter",
         "x": [
          0,
          0.42253713719872427,
          0.42253713719872427,
          0
         ],
         "xaxis": "x",
         "y": [
          -755,
          -755,
          -765,
          -765
         ],
         "yaxis": "y"
        },
        {
         "hoverinfo": "text",
         "marker": {
          "color": "rgb(133,20,75)"
         },
         "mode": "lines",
         "type": "scatter",
         "x": [
          0.2760273782424325,
          0.9788320515867632,
          0.9788320515867632,
          0.42253713719872427
         ],
         "xaxis": "x",
         "y": [
          -725,
          -725,
          -760,
          -760
         ],
         "yaxis": "y"
        },
        {
         "hoverinfo": "text",
         "marker": {
          "color": "rgb(255,220,0)"
         },
         "mode": "lines",
         "type": "scatter",
         "x": [
          0,
          0.1464116698928497,
          0.1464116698928497,
          0
         ],
         "xaxis": "x",
         "y": [
          -775,
          -775,
          -785,
          -785
         ],
         "yaxis": "y"
        },
        {
         "hoverinfo": "text",
         "marker": {
          "color": "rgb(40,35,35)"
         },
         "mode": "lines",
         "type": "scatter",
         "x": [
          0,
          0.8466384396662102,
          0.8466384396662102,
          0
         ],
         "xaxis": "x",
         "y": [
          -795,
          -795,
          -805,
          -805
         ],
         "yaxis": "y"
        },
        {
         "hoverinfo": "text",
         "marker": {
          "color": "rgb(0,116,217)"
         },
         "mode": "lines",
         "type": "scatter",
         "x": [
          0.1464116698928497,
          1.089121919666844,
          1.089121919666844,
          0.8466384396662102
         ],
         "xaxis": "x",
         "y": [
          -780,
          -780,
          -800,
          -800
         ],
         "yaxis": "y"
        },
        {
         "hoverinfo": "text",
         "marker": {
          "color": "rgb(61,153,112)"
         },
         "mode": "lines",
         "type": "scatter",
         "x": [
          0,
          0.7516362909366368,
          0.7516362909366368,
          0
         ],
         "xaxis": "x",
         "y": [
          -815,
          -815,
          -825,
          -825
         ],
         "yaxis": "y"
        },
        {
         "hoverinfo": "text",
         "marker": {
          "color": "rgb(0,116,217)"
         },
         "mode": "lines",
         "type": "scatter",
         "x": [
          0,
          1.1883026027327357,
          1.1883026027327357,
          0
         ],
         "xaxis": "x",
         "y": [
          -835,
          -835,
          -845,
          -845
         ],
         "yaxis": "y"
        },
        {
         "hoverinfo": "text",
         "marker": {
          "color": "rgb(0,116,217)"
         },
         "mode": "lines",
         "type": "scatter",
         "x": [
          0,
          1.0409808971210035,
          1.0409808971210035,
          0
         ],
         "xaxis": "x",
         "y": [
          -855,
          -855,
          -865,
          -865
         ],
         "yaxis": "y"
        },
        {
         "hoverinfo": "text",
         "marker": {
          "color": "rgb(0,116,217)"
         },
         "mode": "lines",
         "type": "scatter",
         "x": [
          1.1883026027327357,
          1.8086332791114703,
          1.8086332791114703,
          1.0409808971210035
         ],
         "xaxis": "x",
         "y": [
          -840,
          -840,
          -860,
          -860
         ],
         "yaxis": "y"
        },
        {
         "hoverinfo": "text",
         "marker": {
          "color": "rgb(0,116,217)"
         },
         "mode": "lines",
         "type": "scatter",
         "x": [
          0.7516362909366368,
          2.2989299519723203,
          2.2989299519723203,
          1.8086332791114703
         ],
         "xaxis": "x",
         "y": [
          -820,
          -820,
          -850,
          -850
         ],
         "yaxis": "y"
        },
        {
         "hoverinfo": "text",
         "marker": {
          "color": "rgb(0,116,217)"
         },
         "mode": "lines",
         "type": "scatter",
         "x": [
          0,
          1.3103917643983958,
          1.3103917643983958,
          0
         ],
         "xaxis": "x",
         "y": [
          -895,
          -895,
          -905,
          -905
         ],
         "yaxis": "y"
        },
        {
         "hoverinfo": "text",
         "marker": {
          "color": "rgb(0,116,217)"
         },
         "mode": "lines",
         "type": "scatter",
         "x": [
          0,
          1.3898370798857895,
          1.3898370798857895,
          1.3103917643983958
         ],
         "xaxis": "x",
         "y": [
          -885,
          -885,
          -900,
          -900
         ],
         "yaxis": "y"
        },
        {
         "hoverinfo": "text",
         "marker": {
          "color": "rgb(0,116,217)"
         },
         "mode": "lines",
         "type": "scatter",
         "x": [
          1.3898370798857895,
          1.398466675888864,
          1.398466675888864,
          0
         ],
         "xaxis": "x",
         "y": [
          -892.5,
          -892.5,
          -915,
          -915
         ],
         "yaxis": "y"
        },
        {
         "hoverinfo": "text",
         "marker": {
          "color": "rgb(0,116,217)"
         },
         "mode": "lines",
         "type": "scatter",
         "x": [
          0,
          1.4730052948774823,
          1.4730052948774823,
          1.398466675888864
         ],
         "xaxis": "x",
         "y": [
          -875,
          -875,
          -903.75,
          -903.75
         ],
         "yaxis": "y"
        },
        {
         "hoverinfo": "text",
         "marker": {
          "color": "rgb(0,116,217)"
         },
         "mode": "lines",
         "type": "scatter",
         "x": [
          0,
          1.2229974406310482,
          1.2229974406310482,
          0
         ],
         "xaxis": "x",
         "y": [
          -925,
          -925,
          -935,
          -935
         ],
         "yaxis": "y"
        },
        {
         "hoverinfo": "text",
         "marker": {
          "color": "rgb(0,116,217)"
         },
         "mode": "lines",
         "type": "scatter",
         "x": [
          1.2229974406310482,
          1.3758227418773803,
          1.3758227418773803,
          0
         ],
         "xaxis": "x",
         "y": [
          -930,
          -930,
          -945,
          -945
         ],
         "yaxis": "y"
        },
        {
         "hoverinfo": "text",
         "marker": {
          "color": "rgb(0,116,217)"
         },
         "mode": "lines",
         "type": "scatter",
         "x": [
          0,
          1.4058125418799412,
          1.4058125418799412,
          0
         ],
         "xaxis": "x",
         "y": [
          -955,
          -955,
          -965,
          -965
         ],
         "yaxis": "y"
        },
        {
         "hoverinfo": "text",
         "marker": {
          "color": "rgb(0,116,217)"
         },
         "mode": "lines",
         "type": "scatter",
         "x": [
          1.4058125418799412,
          1.5613201192201631,
          1.5613201192201631,
          0
         ],
         "xaxis": "x",
         "y": [
          -960,
          -960,
          -975,
          -975
         ],
         "yaxis": "y"
        },
        {
         "hoverinfo": "text",
         "marker": {
          "color": "rgb(0,116,217)"
         },
         "mode": "lines",
         "type": "scatter",
         "x": [
          1.3758227418773803,
          1.6368617848141829,
          1.6368617848141829,
          1.5613201192201631
         ],
         "xaxis": "x",
         "y": [
          -937.5,
          -937.5,
          -967.5,
          -967.5
         ],
         "yaxis": "y"
        },
        {
         "hoverinfo": "text",
         "marker": {
          "color": "rgb(0,116,217)"
         },
         "mode": "lines",
         "type": "scatter",
         "x": [
          1.4730052948774823,
          1.7582108344562375,
          1.7582108344562375,
          1.6368617848141829
         ],
         "xaxis": "x",
         "y": [
          -889.375,
          -889.375,
          -952.5,
          -952.5
         ],
         "yaxis": "y"
        },
        {
         "hoverinfo": "text",
         "marker": {
          "color": "rgb(0,116,217)"
         },
         "mode": "lines",
         "type": "scatter",
         "x": [
          0,
          1.1174516945039628,
          1.1174516945039628,
          0
         ],
         "xaxis": "x",
         "y": [
          -995,
          -995,
          -1005,
          -1005
         ],
         "yaxis": "y"
        },
        {
         "hoverinfo": "text",
         "marker": {
          "color": "rgb(0,116,217)"
         },
         "mode": "lines",
         "type": "scatter",
         "x": [
          0,
          1.2998108426673534,
          1.2998108426673534,
          1.1174516945039628
         ],
         "xaxis": "x",
         "y": [
          -985,
          -985,
          -1000,
          -1000
         ],
         "yaxis": "y"
        },
        {
         "hoverinfo": "text",
         "marker": {
          "color": "rgb(0,116,217)"
         },
         "mode": "lines",
         "type": "scatter",
         "x": [
          1.7582108344562375,
          1.9452335571391024,
          1.9452335571391024,
          1.2998108426673534
         ],
         "xaxis": "x",
         "y": [
          -920.9375,
          -920.9375,
          -992.5,
          -992.5
         ],
         "yaxis": "y"
        },
        {
         "hoverinfo": "text",
         "marker": {
          "color": "rgb(255,65,54)"
         },
         "mode": "lines",
         "type": "scatter",
         "x": [
          0,
          0.44209953510786704,
          0.44209953510786704,
          0
         ],
         "xaxis": "x",
         "y": [
          -1015,
          -1015,
          -1025,
          -1025
         ],
         "yaxis": "y"
        },
        {
         "hoverinfo": "text",
         "marker": {
          "color": "rgb(0,116,217)"
         },
         "mode": "lines",
         "type": "scatter",
         "x": [
          1.9452335571391024,
          2.424936355513178,
          2.424936355513178,
          0.44209953510786704
         ],
         "xaxis": "x",
         "y": [
          -956.71875,
          -956.71875,
          -1020,
          -1020
         ],
         "yaxis": "y"
        },
        {
         "hoverinfo": "text",
         "marker": {
          "color": "rgb(0,116,217)"
         },
         "mode": "lines",
         "type": "scatter",
         "x": [
          2.2989299519723203,
          3.0046716221731606,
          3.0046716221731606,
          2.424936355513178
         ],
         "xaxis": "x",
         "y": [
          -835,
          -835,
          -988.359375,
          -988.359375
         ],
         "yaxis": "y"
        },
        {
         "hoverinfo": "text",
         "marker": {
          "color": "rgb(0,116,217)"
         },
         "mode": "lines",
         "type": "scatter",
         "x": [
          1.089121919666844,
          3.4542139278625332,
          3.4542139278625332,
          3.0046716221731606
         ],
         "xaxis": "x",
         "y": [
          -790,
          -790,
          -911.6796875,
          -911.6796875
         ],
         "yaxis": "y"
        },
        {
         "hoverinfo": "text",
         "marker": {
          "color": "rgb(35,205,205)"
         },
         "mode": "lines",
         "type": "scatter",
         "x": [
          0,
          0.5013945605610063,
          0.5013945605610063,
          0
         ],
         "xaxis": "x",
         "y": [
          -1035,
          -1035,
          -1045,
          -1045
         ],
         "yaxis": "y"
        },
        {
         "hoverinfo": "text",
         "marker": {
          "color": "rgb(0,116,217)"
         },
         "mode": "lines",
         "type": "scatter",
         "x": [
          0,
          1.2188091646219161,
          1.2188091646219161,
          0
         ],
         "xaxis": "x",
         "y": [
          -1055,
          -1055,
          -1065,
          -1065
         ],
         "yaxis": "y"
        },
        {
         "hoverinfo": "text",
         "marker": {
          "color": "rgb(0,116,217)"
         },
         "mode": "lines",
         "type": "scatter",
         "x": [
          0,
          1.3012812527556201,
          1.3012812527556201,
          0
         ],
         "xaxis": "x",
         "y": [
          -1085,
          -1085,
          -1095,
          -1095
         ],
         "yaxis": "y"
        },
        {
         "hoverinfo": "text",
         "marker": {
          "color": "rgb(0,116,217)"
         },
         "mode": "lines",
         "type": "scatter",
         "x": [
          0,
          1.4407374425963497,
          1.4407374425963497,
          1.3012812527556201
         ],
         "xaxis": "x",
         "y": [
          -1075,
          -1075,
          -1090,
          -1090
         ],
         "yaxis": "y"
        },
        {
         "hoverinfo": "text",
         "marker": {
          "color": "rgb(0,116,217)"
         },
         "mode": "lines",
         "type": "scatter",
         "x": [
          1.2188091646219161,
          1.614638497731524,
          1.614638497731524,
          1.4407374425963497
         ],
         "xaxis": "x",
         "y": [
          -1060,
          -1060,
          -1082.5,
          -1082.5
         ],
         "yaxis": "y"
        },
        {
         "hoverinfo": "text",
         "marker": {
          "color": "rgb(0,116,217)"
         },
         "mode": "lines",
         "type": "scatter",
         "x": [
          0,
          1.2807553328154695,
          1.2807553328154695,
          0
         ],
         "xaxis": "x",
         "y": [
          -1105,
          -1105,
          -1115,
          -1115
         ],
         "yaxis": "y"
        },
        {
         "hoverinfo": "text",
         "marker": {
          "color": "rgb(0,116,217)"
         },
         "mode": "lines",
         "type": "scatter",
         "x": [
          0,
          1.270391758738565,
          1.270391758738565,
          0
         ],
         "xaxis": "x",
         "y": [
          -1135,
          -1135,
          -1145,
          -1145
         ],
         "yaxis": "y"
        },
        {
         "hoverinfo": "text",
         "marker": {
          "color": "rgb(0,116,217)"
         },
         "mode": "lines",
         "type": "scatter",
         "x": [
          0,
          1.371513184709598,
          1.371513184709598,
          1.270391758738565
         ],
         "xaxis": "x",
         "y": [
          -1125,
          -1125,
          -1140,
          -1140
         ],
         "yaxis": "y"
        },
        {
         "hoverinfo": "text",
         "marker": {
          "color": "rgb(0,116,217)"
         },
         "mode": "lines",
         "type": "scatter",
         "x": [
          1.2807553328154695,
          1.5765434810433374,
          1.5765434810433374,
          1.371513184709598
         ],
         "xaxis": "x",
         "y": [
          -1110,
          -1110,
          -1132.5,
          -1132.5
         ],
         "yaxis": "y"
        },
        {
         "hoverinfo": "text",
         "marker": {
          "color": "rgb(0,116,217)"
         },
         "mode": "lines",
         "type": "scatter",
         "x": [
          1.614638497731524,
          1.9232068835658076,
          1.9232068835658076,
          1.5765434810433374
         ],
         "xaxis": "x",
         "y": [
          -1071.25,
          -1071.25,
          -1121.25,
          -1121.25
         ],
         "yaxis": "y"
        },
        {
         "hoverinfo": "text",
         "marker": {
          "color": "rgb(0,116,217)"
         },
         "mode": "lines",
         "type": "scatter",
         "x": [
          0.5013945605610063,
          2.676412512216506,
          2.676412512216506,
          1.9232068835658076
         ],
         "xaxis": "x",
         "y": [
          -1040,
          -1040,
          -1096.25,
          -1096.25
         ],
         "yaxis": "y"
        },
        {
         "hoverinfo": "text",
         "marker": {
          "color": "rgb(0,116,217)"
         },
         "mode": "lines",
         "type": "scatter",
         "x": [
          0,
          1.3141872224132087,
          1.3141872224132087,
          0
         ],
         "xaxis": "x",
         "y": [
          -1165,
          -1165,
          -1175,
          -1175
         ],
         "yaxis": "y"
        },
        {
         "hoverinfo": "text",
         "marker": {
          "color": "rgb(0,116,217)"
         },
         "mode": "lines",
         "type": "scatter",
         "x": [
          0,
          1.4238224688984344,
          1.4238224688984344,
          1.3141872224132087
         ],
         "xaxis": "x",
         "y": [
          -1155,
          -1155,
          -1170,
          -1170
         ],
         "yaxis": "y"
        },
        {
         "hoverinfo": "text",
         "marker": {
          "color": "rgb(0,116,217)"
         },
         "mode": "lines",
         "type": "scatter",
         "x": [
          0,
          1.4316120564992938,
          1.4316120564992938,
          0
         ],
         "xaxis": "x",
         "y": [
          -1185,
          -1185,
          -1195,
          -1195
         ],
         "yaxis": "y"
        },
        {
         "hoverinfo": "text",
         "marker": {
          "color": "rgb(0,116,217)"
         },
         "mode": "lines",
         "type": "scatter",
         "x": [
          0,
          1.1262164932239571,
          1.1262164932239571,
          0
         ],
         "xaxis": "x",
         "y": [
          -1205,
          -1205,
          -1215,
          -1215
         ],
         "yaxis": "y"
        },
        {
         "hoverinfo": "text",
         "marker": {
          "color": "rgb(0,116,217)"
         },
         "mode": "lines",
         "type": "scatter",
         "x": [
          1.4316120564992938,
          1.6326765993985022,
          1.6326765993985022,
          1.1262164932239571
         ],
         "xaxis": "x",
         "y": [
          -1190,
          -1190,
          -1210,
          -1210
         ],
         "yaxis": "y"
        },
        {
         "hoverinfo": "text",
         "marker": {
          "color": "rgb(0,116,217)"
         },
         "mode": "lines",
         "type": "scatter",
         "x": [
          1.4238224688984344,
          2.084581920772322,
          2.084581920772322,
          1.6326765993985022
         ],
         "xaxis": "x",
         "y": [
          -1162.5,
          -1162.5,
          -1200,
          -1200
         ],
         "yaxis": "y"
        },
        {
         "hoverinfo": "text",
         "marker": {
          "color": "rgb(61,153,112)"
         },
         "mode": "lines",
         "type": "scatter",
         "x": [
          0,
          0.24452492416164961,
          0.24452492416164961,
          0
         ],
         "xaxis": "x",
         "y": [
          -1225,
          -1225,
          -1235,
          -1235
         ],
         "yaxis": "y"
        },
        {
         "hoverinfo": "text",
         "marker": {
          "color": "rgb(0,116,217)"
         },
         "mode": "lines",
         "type": "scatter",
         "x": [
          2.084581920772322,
          2.550266738036019,
          2.550266738036019,
          0.24452492416164961
         ],
         "xaxis": "x",
         "y": [
          -1181.25,
          -1181.25,
          -1230,
          -1230
         ],
         "yaxis": "y"
        },
        {
         "hoverinfo": "text",
         "marker": {
          "color": "rgb(0,116,217)"
         },
         "mode": "lines",
         "type": "scatter",
         "x": [
          0,
          1.2154360329425007,
          1.2154360329425007,
          0
         ],
         "xaxis": "x",
         "y": [
          -1245,
          -1245,
          -1255,
          -1255
         ],
         "yaxis": "y"
        },
        {
         "hoverinfo": "text",
         "marker": {
          "color": "rgb(0,116,217)"
         },
         "mode": "lines",
         "type": "scatter",
         "x": [
          0,
          1.2969015297529731,
          1.2969015297529731,
          0
         ],
         "xaxis": "x",
         "y": [
          -1265,
          -1265,
          -1275,
          -1275
         ],
         "yaxis": "y"
        },
        {
         "hoverinfo": "text",
         "marker": {
          "color": "rgb(0,116,217)"
         },
         "mode": "lines",
         "type": "scatter",
         "x": [
          0,
          1.3841417038539727,
          1.3841417038539727,
          0
         ],
         "xaxis": "x",
         "y": [
          -1285,
          -1285,
          -1295,
          -1295
         ],
         "yaxis": "y"
        },
        {
         "hoverinfo": "text",
         "marker": {
          "color": "rgb(0,116,217)"
         },
         "mode": "lines",
         "type": "scatter",
         "x": [
          0,
          1.2749819598044947,
          1.2749819598044947,
          0
         ],
         "xaxis": "x",
         "y": [
          -1305,
          -1305,
          -1315,
          -1315
         ],
         "yaxis": "y"
        },
        {
         "hoverinfo": "text",
         "marker": {
          "color": "rgb(0,116,217)"
         },
         "mode": "lines",
         "type": "scatter",
         "x": [
          1.3841417038539727,
          1.5019984001122555,
          1.5019984001122555,
          1.2749819598044947
         ],
         "xaxis": "x",
         "y": [
          -1290,
          -1290,
          -1310,
          -1310
         ],
         "yaxis": "y"
        },
        {
         "hoverinfo": "text",
         "marker": {
          "color": "rgb(0,116,217)"
         },
         "mode": "lines",
         "type": "scatter",
         "x": [
          1.2969015297529731,
          1.596620182791774,
          1.596620182791774,
          1.5019984001122555
         ],
         "xaxis": "x",
         "y": [
          -1270,
          -1270,
          -1300,
          -1300
         ],
         "yaxis": "y"
        },
        {
         "hoverinfo": "text",
         "marker": {
          "color": "rgb(0,116,217)"
         },
         "mode": "lines",
         "type": "scatter",
         "x": [
          0,
          1.3502433081779663,
          1.3502433081779663,
          0
         ],
         "xaxis": "x",
         "y": [
          -1335,
          -1335,
          -1345,
          -1345
         ],
         "yaxis": "y"
        },
        {
         "hoverinfo": "text",
         "marker": {
          "color": "rgb(0,116,217)"
         },
         "mode": "lines",
         "type": "scatter",
         "x": [
          1.3502433081779663,
          1.4459417103015315,
          1.4459417103015315,
          0
         ],
         "xaxis": "x",
         "y": [
          -1340,
          -1340,
          -1355,
          -1355
         ],
         "yaxis": "y"
        },
        {
         "hoverinfo": "text",
         "marker": {
          "color": "rgb(0,116,217)"
         },
         "mode": "lines",
         "type": "scatter",
         "x": [
          0,
          1.5635662738719354,
          1.5635662738719354,
          1.4459417103015315
         ],
         "xaxis": "x",
         "y": [
          -1325,
          -1325,
          -1347.5,
          -1347.5
         ],
         "yaxis": "y"
        },
        {
         "hoverinfo": "text",
         "marker": {
          "color": "rgb(0,116,217)"
         },
         "mode": "lines",
         "type": "scatter",
         "x": [
          0,
          1.5231098876051705,
          1.5231098876051705,
          0
         ],
         "xaxis": "x",
         "y": [
          -1365,
          -1365,
          -1375,
          -1375
         ],
         "yaxis": "y"
        },
        {
         "hoverinfo": "text",
         "marker": {
          "color": "rgb(0,116,217)"
         },
         "mode": "lines",
         "type": "scatter",
         "x": [
          1.5635662738719354,
          1.7593188581776948,
          1.7593188581776948,
          1.5231098876051705
         ],
         "xaxis": "x",
         "y": [
          -1336.25,
          -1336.25,
          -1370,
          -1370
         ],
         "yaxis": "y"
        },
        {
         "hoverinfo": "text",
         "marker": {
          "color": "rgb(0,116,217)"
         },
         "mode": "lines",
         "type": "scatter",
         "x": [
          1.596620182791774,
          1.8482588217239002,
          1.8482588217239002,
          1.7593188581776948
         ],
         "xaxis": "x",
         "y": [
          -1285,
          -1285,
          -1353.125,
          -1353.125
         ],
         "yaxis": "y"
        },
        {
         "hoverinfo": "text",
         "marker": {
          "color": "rgb(0,116,217)"
         },
         "mode": "lines",
         "type": "scatter",
         "x": [
          1.2154360329425007,
          2.175259768606197,
          2.175259768606197,
          1.8482588217239002
         ],
         "xaxis": "x",
         "y": [
          -1250,
          -1250,
          -1319.0625,
          -1319.0625
         ],
         "yaxis": "y"
        },
        {
         "hoverinfo": "text",
         "marker": {
          "color": "rgb(255,65,54)"
         },
         "mode": "lines",
         "type": "scatter",
         "x": [
          0,
          0.9776414900415538,
          0.9776414900415538,
          0
         ],
         "xaxis": "x",
         "y": [
          -1385,
          -1385,
          -1395,
          -1395
         ],
         "yaxis": "y"
        },
        {
         "hoverinfo": "text",
         "marker": {
          "color": "rgb(0,116,217)"
         },
         "mode": "lines",
         "type": "scatter",
         "x": [
          0,
          1.1880580961723763,
          1.1880580961723763,
          0
         ],
         "xaxis": "x",
         "y": [
          -1405,
          -1405,
          -1415,
          -1415
         ],
         "yaxis": "y"
        },
        {
         "hoverinfo": "text",
         "marker": {
          "color": "rgb(0,116,217)"
         },
         "mode": "lines",
         "type": "scatter",
         "x": [
          1.1880580961723763,
          1.4118294936327023,
          1.4118294936327023,
          0
         ],
         "xaxis": "x",
         "y": [
          -1410,
          -1410,
          -1425,
          -1425
         ],
         "yaxis": "y"
        },
        {
         "hoverinfo": "text",
         "marker": {
          "color": "rgb(0,116,217)"
         },
         "mode": "lines",
         "type": "scatter",
         "x": [
          0.9776414900415538,
          2.251402705210012,
          2.251402705210012,
          1.4118294936327023
         ],
         "xaxis": "x",
         "y": [
          -1390,
          -1390,
          -1417.5,
          -1417.5
         ],
         "yaxis": "y"
        },
        {
         "hoverinfo": "text",
         "marker": {
          "color": "rgb(0,116,217)"
         },
         "mode": "lines",
         "type": "scatter",
         "x": [
          0,
          1.3188809348440715,
          1.3188809348440715,
          0
         ],
         "xaxis": "x",
         "y": [
          -1445,
          -1445,
          -1455,
          -1455
         ],
         "yaxis": "y"
        },
        {
         "hoverinfo": "text",
         "marker": {
          "color": "rgb(0,116,217)"
         },
         "mode": "lines",
         "type": "scatter",
         "x": [
          0,
          1.4021263173813348,
          1.4021263173813348,
          1.3188809348440715
         ],
         "xaxis": "x",
         "y": [
          -1435,
          -1435,
          -1450,
          -1450
         ],
         "yaxis": "y"
        },
        {
         "hoverinfo": "text",
         "marker": {
          "color": "rgb(0,116,217)"
         },
         "mode": "lines",
         "type": "scatter",
         "x": [
          0,
          1.329001609597166,
          1.329001609597166,
          0
         ],
         "xaxis": "x",
         "y": [
          -1465,
          -1465,
          -1475,
          -1475
         ],
         "yaxis": "y"
        },
        {
         "hoverinfo": "text",
         "marker": {
          "color": "rgb(0,116,217)"
         },
         "mode": "lines",
         "type": "scatter",
         "x": [
          0,
          1.1806243130688685,
          1.1806243130688685,
          0
         ],
         "xaxis": "x",
         "y": [
          -1485,
          -1485,
          -1495,
          -1495
         ],
         "yaxis": "y"
        },
        {
         "hoverinfo": "text",
         "marker": {
          "color": "rgb(0,116,217)"
         },
         "mode": "lines",
         "type": "scatter",
         "x": [
          1.1806243130688685,
          1.3476714273714512,
          1.3476714273714512,
          0
         ],
         "xaxis": "x",
         "y": [
          -1490,
          -1490,
          -1505,
          -1505
         ],
         "yaxis": "y"
        },
        {
         "hoverinfo": "text",
         "marker": {
          "color": "rgb(0,116,217)"
         },
         "mode": "lines",
         "type": "scatter",
         "x": [
          1.329001609597166,
          1.4904978568372145,
          1.4904978568372145,
          1.3476714273714512
         ],
         "xaxis": "x",
         "y": [
          -1470,
          -1470,
          -1497.5,
          -1497.5
         ],
         "yaxis": "y"
        },
        {
         "hoverinfo": "text",
         "marker": {
          "color": "rgb(0,116,217)"
         },
         "mode": "lines",
         "type": "scatter",
         "x": [
          1.4021263173813348,
          1.768316194614665,
          1.768316194614665,
          1.4904978568372145
         ],
         "xaxis": "x",
         "y": [
          -1442.5,
          -1442.5,
          -1483.75,
          -1483.75
         ],
         "yaxis": "y"
        },
        {
         "hoverinfo": "text",
         "marker": {
          "color": "rgb(35,205,205)"
         },
         "mode": "lines",
         "type": "scatter",
         "x": [
          0,
          0.49210296151356,
          0.49210296151356,
          0
         ],
         "xaxis": "x",
         "y": [
          -1515,
          -1515,
          -1525,
          -1525
         ],
         "yaxis": "y"
        },
        {
         "hoverinfo": "text",
         "marker": {
          "color": "rgb(0,116,217)"
         },
         "mode": "lines",
         "type": "scatter",
         "x": [
          1.768316194614665,
          2.203822346117489,
          2.203822346117489,
          0.49210296151356
         ],
         "xaxis": "x",
         "y": [
          -1463.125,
          -1463.125,
          -1520,
          -1520
         ],
         "yaxis": "y"
        },
        {
         "hoverinfo": "text",
         "marker": {
          "color": "rgb(0,116,217)"
         },
         "mode": "lines",
         "type": "scatter",
         "x": [
          2.251402705210012,
          2.7618445830306193,
          2.7618445830306193,
          2.203822346117489
         ],
         "xaxis": "x",
         "y": [
          -1403.75,
          -1403.75,
          -1491.5625,
          -1491.5625
         ],
         "yaxis": "y"
        },
        {
         "hoverinfo": "text",
         "marker": {
          "color": "rgb(0,116,217)"
         },
         "mode": "lines",
         "type": "scatter",
         "x": [
          2.175259768606197,
          2.9487315992559506,
          2.9487315992559506,
          2.7618445830306193
         ],
         "xaxis": "x",
         "y": [
          -1284.53125,
          -1284.53125,
          -1447.65625,
          -1447.65625
         ],
         "yaxis": "y"
        },
        {
         "hoverinfo": "text",
         "marker": {
          "color": "rgb(0,116,217)"
         },
         "mode": "lines",
         "type": "scatter",
         "x": [
          2.550266738036019,
          3.351713015363752,
          3.351713015363752,
          2.9487315992559506
         ],
         "xaxis": "x",
         "y": [
          -1205.625,
          -1205.625,
          -1366.09375,
          -1366.09375
         ],
         "yaxis": "y"
        },
        {
         "hoverinfo": "text",
         "marker": {
          "color": "rgb(133,20,75)"
         },
         "mode": "lines",
         "type": "scatter",
         "x": [
          0,
          0.7116016432098677,
          0.7116016432098677,
          0
         ],
         "xaxis": "x",
         "y": [
          -1545,
          -1545,
          -1555,
          -1555
         ],
         "yaxis": "y"
        },
        {
         "hoverinfo": "text",
         "marker": {
          "color": "rgb(0,116,217)"
         },
         "mode": "lines",
         "type": "scatter",
         "x": [
          0,
          1.6557623719062995,
          1.6557623719062995,
          0.7116016432098677
         ],
         "xaxis": "x",
         "y": [
          -1535,
          -1535,
          -1550,
          -1550
         ],
         "yaxis": "y"
        },
        {
         "hoverinfo": "text",
         "marker": {
          "color": "rgb(255,220,0)"
         },
         "mode": "lines",
         "type": "scatter",
         "x": [
          0,
          0.30179739336262945,
          0.30179739336262945,
          0
         ],
         "xaxis": "x",
         "y": [
          -1565,
          -1565,
          -1575,
          -1575
         ],
         "yaxis": "y"
        },
        {
         "hoverinfo": "text",
         "marker": {
          "color": "rgb(0,116,217)"
         },
         "mode": "lines",
         "type": "scatter",
         "x": [
          1.6557623719062995,
          1.8496716570579965,
          1.8496716570579965,
          0.30179739336262945
         ],
         "xaxis": "x",
         "y": [
          -1542.5,
          -1542.5,
          -1570,
          -1570
         ],
         "yaxis": "y"
        },
        {
         "hoverinfo": "text",
         "marker": {
          "color": "rgb(0,116,217)"
         },
         "mode": "lines",
         "type": "scatter",
         "x": [
          3.351713015363752,
          3.9215888518959527,
          3.9215888518959527,
          1.8496716570579965
         ],
         "xaxis": "x",
         "y": [
          -1285.859375,
          -1285.859375,
          -1556.25,
          -1556.25
         ],
         "yaxis": "y"
        },
        {
         "hoverinfo": "text",
         "marker": {
          "color": "rgb(0,116,217)"
         },
         "mode": "lines",
         "type": "scatter",
         "x": [
          2.676412512216506,
          4.087213871325564,
          4.087213871325564,
          3.9215888518959527
         ],
         "xaxis": "x",
         "y": [
          -1068.125,
          -1068.125,
          -1421.0546875,
          -1421.0546875
         ],
         "yaxis": "y"
        },
        {
         "hoverinfo": "text",
         "marker": {
          "color": "rgb(0,116,217)"
         },
         "mode": "lines",
         "type": "scatter",
         "x": [
          3.4542139278625332,
          5.35603585821395,
          5.35603585821395,
          4.087213871325564
         ],
         "xaxis": "x",
         "y": [
          -850.83984375,
          -850.83984375,
          -1244.58984375,
          -1244.58984375
         ],
         "yaxis": "y"
        },
        {
         "hoverinfo": "text",
         "marker": {
          "color": "rgb(0,116,217)"
         },
         "mode": "lines",
         "type": "scatter",
         "x": [
          0,
          1.0023022434884894,
          1.0023022434884894,
          0
         ],
         "xaxis": "x",
         "y": [
          -1585,
          -1585,
          -1595,
          -1595
         ],
         "yaxis": "y"
        },
        {
         "hoverinfo": "text",
         "marker": {
          "color": "rgb(0,116,217)"
         },
         "mode": "lines",
         "type": "scatter",
         "x": [
          1.0023022434884894,
          1.2217359070469604,
          1.2217359070469604,
          0
         ],
         "xaxis": "x",
         "y": [
          -1590,
          -1590,
          -1605,
          -1605
         ],
         "yaxis": "y"
        },
        {
         "hoverinfo": "text",
         "marker": {
          "color": "rgb(40,35,35)"
         },
         "mode": "lines",
         "type": "scatter",
         "x": [
          0,
          0.45136076569062933,
          0.45136076569062933,
          0
         ],
         "xaxis": "x",
         "y": [
          -1615,
          -1615,
          -1625,
          -1625
         ],
         "yaxis": "y"
        },
        {
         "hoverinfo": "text",
         "marker": {
          "color": "rgb(0,116,217)"
         },
         "mode": "lines",
         "type": "scatter",
         "x": [
          1.2217359070469604,
          1.792796298169988,
          1.792796298169988,
          0.45136076569062933
         ],
         "xaxis": "x",
         "y": [
          -1597.5,
          -1597.5,
          -1620,
          -1620
         ],
         "yaxis": "y"
        },
        {
         "hoverinfo": "text",
         "marker": {
          "color": "rgb(61,153,112)"
         },
         "mode": "lines",
         "type": "scatter",
         "x": [
          0,
          0.18204746797733842,
          0.18204746797733842,
          0
         ],
         "xaxis": "x",
         "y": [
          -1635,
          -1635,
          -1645,
          -1645
         ],
         "yaxis": "y"
        },
        {
         "hoverinfo": "text",
         "marker": {
          "color": "rgb(255,65,54)"
         },
         "mode": "lines",
         "type": "scatter",
         "x": [
          0,
          0.12658462479778498,
          0.12658462479778498,
          0
         ],
         "xaxis": "x",
         "y": [
          -1655,
          -1655,
          -1665,
          -1665
         ],
         "yaxis": "y"
        },
        {
         "hoverinfo": "text",
         "marker": {
          "color": "rgb(0,116,217)"
         },
         "mode": "lines",
         "type": "scatter",
         "x": [
          0.18204746797733842,
          2.4660592420153358,
          2.4660592420153358,
          0.12658462479778498
         ],
         "xaxis": "x",
         "y": [
          -1640,
          -1640,
          -1660,
          -1660
         ],
         "yaxis": "y"
        },
        {
         "hoverinfo": "text",
         "marker": {
          "color": "rgb(35,205,205)"
         },
         "mode": "lines",
         "type": "scatter",
         "x": [
          0,
          0.9762297841589775,
          0.9762297841589775,
          0
         ],
         "xaxis": "x",
         "y": [
          -1685,
          -1685,
          -1695,
          -1695
         ],
         "yaxis": "y"
        },
        {
         "hoverinfo": "text",
         "marker": {
          "color": "rgb(0,116,217)"
         },
         "mode": "lines",
         "type": "scatter",
         "x": [
          0,
          1.3250800192202856,
          1.3250800192202856,
          0.9762297841589775
         ],
         "xaxis": "x",
         "y": [
          -1675,
          -1675,
          -1690,
          -1690
         ],
         "yaxis": "y"
        },
        {
         "hoverinfo": "text",
         "marker": {
          "color": "rgb(61,153,112)"
         },
         "mode": "lines",
         "type": "scatter",
         "x": [
          0,
          0.18036894051854194,
          0.18036894051854194,
          0
         ],
         "xaxis": "x",
         "y": [
          -1715,
          -1715,
          -1725,
          -1725
         ],
         "yaxis": "y"
        },
        {
         "hoverinfo": "text",
         "marker": {
          "color": "rgb(61,153,112)"
         },
         "mode": "lines",
         "type": "scatter",
         "x": [
          0,
          0.22570811203787136,
          0.22570811203787136,
          0.18036894051854194
         ],
         "xaxis": "x",
         "y": [
          -1705,
          -1705,
          -1720,
          -1720
         ],
         "yaxis": "y"
        },
        {
         "hoverinfo": "text",
         "marker": {
          "color": "rgb(0,116,217)"
         },
         "mode": "lines",
         "type": "scatter",
         "x": [
          1.3250800192202856,
          1.9615678665527014,
          1.9615678665527014,
          0.22570811203787136
         ],
         "xaxis": "x",
         "y": [
          -1682.5,
          -1682.5,
          -1712.5,
          -1712.5
         ],
         "yaxis": "y"
        },
        {
         "hoverinfo": "text",
         "marker": {
          "color": "rgb(0,116,217)"
         },
         "mode": "lines",
         "type": "scatter",
         "x": [
          2.4660592420153358,
          2.8019602079096506,
          2.8019602079096506,
          1.9615678665527014
         ],
         "xaxis": "x",
         "y": [
          -1650,
          -1650,
          -1697.5,
          -1697.5
         ],
         "yaxis": "y"
        },
        {
         "hoverinfo": "text",
         "marker": {
          "color": "rgb(0,116,217)"
         },
         "mode": "lines",
         "type": "scatter",
         "x": [
          1.792796298169988,
          3.672688133136074,
          3.672688133136074,
          2.8019602079096506
         ],
         "xaxis": "x",
         "y": [
          -1608.75,
          -1608.75,
          -1673.75,
          -1673.75
         ],
         "yaxis": "y"
        },
        {
         "hoverinfo": "text",
         "marker": {
          "color": "rgb(0,116,217)"
         },
         "mode": "lines",
         "type": "scatter",
         "x": [
          5.35603585821395,
          7.1458700778606365,
          7.1458700778606365,
          3.672688133136074
         ],
         "xaxis": "x",
         "y": [
          -1047.71484375,
          -1047.71484375,
          -1641.25,
          -1641.25
         ],
         "yaxis": "y"
        },
        {
         "hoverinfo": "text",
         "marker": {
          "color": "rgb(255,65,54)"
         },
         "mode": "lines",
         "type": "scatter",
         "x": [
          0,
          0.2552169321677851,
          0.2552169321677851,
          0
         ],
         "xaxis": "x",
         "y": [
          -1735,
          -1735,
          -1745,
          -1745
         ],
         "yaxis": "y"
        },
        {
         "hoverinfo": "text",
         "marker": {
          "color": "rgb(0,116,217)"
         },
         "mode": "lines",
         "type": "scatter",
         "x": [
          0,
          1.2493953970268985,
          1.2493953970268985,
          0
         ],
         "xaxis": "x",
         "y": [
          -1755,
          -1755,
          -1765,
          -1765
         ],
         "yaxis": "y"
        },
        {
         "hoverinfo": "text",
         "marker": {
          "color": "rgb(0,116,217)"
         },
         "mode": "lines",
         "type": "scatter",
         "x": [
          0.2552169321677851,
          1.5994805041213187,
          1.5994805041213187,
          1.2493953970268985
         ],
         "xaxis": "x",
         "y": [
          -1740,
          -1740,
          -1760,
          -1760
         ],
         "yaxis": "y"
        },
        {
         "hoverinfo": "text",
         "marker": {
          "color": "rgb(35,205,205)"
         },
         "mode": "lines",
         "type": "scatter",
         "x": [
          0,
          0.6739919209708264,
          0.6739919209708264,
          0
         ],
         "xaxis": "x",
         "y": [
          -1775,
          -1775,
          -1785,
          -1785
         ],
         "yaxis": "y"
        },
        {
         "hoverinfo": "text",
         "marker": {
          "color": "rgb(133,20,75)"
         },
         "mode": "lines",
         "type": "scatter",
         "x": [
          0,
          0.4848028877270511,
          0.4848028877270511,
          0
         ],
         "xaxis": "x",
         "y": [
          -1795,
          -1795,
          -1805,
          -1805
         ],
         "yaxis": "y"
        },
        {
         "hoverinfo": "text",
         "marker": {
          "color": "rgb(0,116,217)"
         },
         "mode": "lines",
         "type": "scatter",
         "x": [
          0.4848028877270511,
          1.3059648486251594,
          1.3059648486251594,
          0
         ],
         "xaxis": "x",
         "y": [
          -1800,
          -1800,
          -1815,
          -1815
         ],
         "yaxis": "y"
        },
        {
         "hoverinfo": "text",
         "marker": {
          "color": "rgb(0,116,217)"
         },
         "mode": "lines",
         "type": "scatter",
         "x": [
          0.6739919209708264,
          1.7892550967054532,
          1.7892550967054532,
          1.3059648486251594
         ],
         "xaxis": "x",
         "y": [
          -1780,
          -1780,
          -1807.5,
          -1807.5
         ],
         "yaxis": "y"
        },
        {
         "hoverinfo": "text",
         "marker": {
          "color": "rgb(0,116,217)"
         },
         "mode": "lines",
         "type": "scatter",
         "x": [
          1.5994805041213187,
          3.4908131811647904,
          3.4908131811647904,
          1.7892550967054532
         ],
         "xaxis": "x",
         "y": [
          -1750,
          -1750,
          -1793.75,
          -1793.75
         ],
         "yaxis": "y"
        },
        {
         "hoverinfo": "text",
         "marker": {
          "color": "rgb(255,220,0)"
         },
         "mode": "lines",
         "type": "scatter",
         "x": [
          0,
          0.7423762788137133,
          0.7423762788137133,
          0
         ],
         "xaxis": "x",
         "y": [
          -1835,
          -1835,
          -1845,
          -1845
         ],
         "yaxis": "y"
        },
        {
         "hoverinfo": "text",
         "marker": {
          "color": "rgb(0,116,217)"
         },
         "mode": "lines",
         "type": "scatter",
         "x": [
          0,
          1.5054008646965051,
          1.5054008646965051,
          0.7423762788137133
         ],
         "xaxis": "x",
         "y": [
          -1825,
          -1825,
          -1840,
          -1840
         ],
         "yaxis": "y"
        },
        {
         "hoverinfo": "text",
         "marker": {
          "color": "rgb(40,35,35)"
         },
         "mode": "lines",
         "type": "scatter",
         "x": [
          0,
          0.33163721911742217,
          0.33163721911742217,
          0
         ],
         "xaxis": "x",
         "y": [
          -1855,
          -1855,
          -1865,
          -1865
         ],
         "yaxis": "y"
        },
        {
         "hoverinfo": "text",
         "marker": {
          "color": "rgb(0,116,217)"
         },
         "mode": "lines",
         "type": "scatter",
         "x": [
          0.33163721911742217,
          1.2838139833047424,
          1.2838139833047424,
          0
         ],
         "xaxis": "x",
         "y": [
          -1860,
          -1860,
          -1875,
          -1875
         ],
         "yaxis": "y"
        },
        {
         "hoverinfo": "text",
         "marker": {
          "color": "rgb(0,116,217)"
         },
         "mode": "lines",
         "type": "scatter",
         "x": [
          1.5054008646965051,
          1.7012894741324913,
          1.7012894741324913,
          1.2838139833047424
         ],
         "xaxis": "x",
         "y": [
          -1832.5,
          -1832.5,
          -1867.5,
          -1867.5
         ],
         "yaxis": "y"
        },
        {
         "hoverinfo": "text",
         "marker": {
          "color": "rgb(61,153,112)"
         },
         "mode": "lines",
         "type": "scatter",
         "x": [
          0,
          0.7154073869846125,
          0.7154073869846125,
          0
         ],
         "xaxis": "x",
         "y": [
          -1885,
          -1885,
          -1895,
          -1895
         ],
         "yaxis": "y"
        },
        {
         "hoverinfo": "text",
         "marker": {
          "color": "rgb(0,116,217)"
         },
         "mode": "lines",
         "type": "scatter",
         "x": [
          0,
          1.1174762668450615,
          1.1174762668450615,
          0
         ],
         "xaxis": "x",
         "y": [
          -1905,
          -1905,
          -1915,
          -1915
         ],
         "yaxis": "y"
        },
        {
         "hoverinfo": "text",
         "marker": {
          "color": "rgb(0,116,217)"
         },
         "mode": "lines",
         "type": "scatter",
         "x": [
          1.1174762668450615,
          1.2465283464946464,
          1.2465283464946464,
          0
         ],
         "xaxis": "x",
         "y": [
          -1910,
          -1910,
          -1925,
          -1925
         ],
         "yaxis": "y"
        },
        {
         "hoverinfo": "text",
         "marker": {
          "color": "rgb(0,116,217)"
         },
         "mode": "lines",
         "type": "scatter",
         "x": [
          0.7154073869846125,
          2.224074260874391,
          2.224074260874391,
          1.2465283464946464
         ],
         "xaxis": "x",
         "y": [
          -1890,
          -1890,
          -1917.5,
          -1917.5
         ],
         "yaxis": "y"
        },
        {
         "hoverinfo": "text",
         "marker": {
          "color": "rgb(0,116,217)"
         },
         "mode": "lines",
         "type": "scatter",
         "x": [
          1.7012894741324913,
          3.247656220414078,
          3.247656220414078,
          2.224074260874391
         ],
         "xaxis": "x",
         "y": [
          -1850,
          -1850,
          -1903.75,
          -1903.75
         ],
         "yaxis": "y"
        },
        {
         "hoverinfo": "text",
         "marker": {
          "color": "rgb(0,116,217)"
         },
         "mode": "lines",
         "type": "scatter",
         "x": [
          3.4908131811647904,
          4.43435678284017,
          4.43435678284017,
          3.247656220414078
         ],
         "xaxis": "x",
         "y": [
          -1771.875,
          -1771.875,
          -1876.875,
          -1876.875
         ],
         "yaxis": "y"
        },
        {
         "hoverinfo": "text",
         "marker": {
          "color": "rgb(255,65,54)"
         },
         "mode": "lines",
         "type": "scatter",
         "x": [
          0,
          0.5841685888958703,
          0.5841685888958703,
          0
         ],
         "xaxis": "x",
         "y": [
          -1935,
          -1935,
          -1945,
          -1945
         ],
         "yaxis": "y"
        },
        {
         "hoverinfo": "text",
         "marker": {
          "color": "rgb(255,65,54)"
         },
         "mode": "lines",
         "type": "scatter",
         "x": [
          0.5841685888958703,
          0.8593441669807733,
          0.8593441669807733,
          0
         ],
         "xaxis": "x",
         "y": [
          -1940,
          -1940,
          -1955,
          -1955
         ],
         "yaxis": "y"
        },
        {
         "hoverinfo": "text",
         "marker": {
          "color": "rgb(0,116,217)"
         },
         "mode": "lines",
         "type": "scatter",
         "x": [
          0.8593441669807733,
          1.0910545240239051,
          1.0910545240239051,
          0
         ],
         "xaxis": "x",
         "y": [
          -1947.5,
          -1947.5,
          -1965,
          -1965
         ],
         "yaxis": "y"
        },
        {
         "hoverinfo": "text",
         "marker": {
          "color": "rgb(35,205,205)"
         },
         "mode": "lines",
         "type": "scatter",
         "x": [
          0,
          0.4394245862965574,
          0.4394245862965574,
          0
         ],
         "xaxis": "x",
         "y": [
          -1975,
          -1975,
          -1985,
          -1985
         ],
         "yaxis": "y"
        },
        {
         "hoverinfo": "text",
         "marker": {
          "color": "rgb(0,116,217)"
         },
         "mode": "lines",
         "type": "scatter",
         "x": [
          1.0910545240239051,
          2.1419559302826046,
          2.1419559302826046,
          0.4394245862965574
         ],
         "xaxis": "x",
         "y": [
          -1956.25,
          -1956.25,
          -1980,
          -1980
         ],
         "yaxis": "y"
        },
        {
         "hoverinfo": "text",
         "marker": {
          "color": "rgb(61,153,112)"
         },
         "mode": "lines",
         "type": "scatter",
         "x": [
          0,
          0.29103489131386856,
          0.29103489131386856,
          0
         ],
         "xaxis": "x",
         "y": [
          -2005,
          -2005,
          -2015,
          -2015
         ],
         "yaxis": "y"
        },
        {
         "hoverinfo": "text",
         "marker": {
          "color": "rgb(61,153,112)"
         },
         "mode": "lines",
         "type": "scatter",
         "x": [
          0,
          0.9051905323509061,
          0.9051905323509061,
          0.29103489131386856
         ],
         "xaxis": "x",
         "y": [
          -1995,
          -1995,
          -2010,
          -2010
         ],
         "yaxis": "y"
        },
        {
         "hoverinfo": "text",
         "marker": {
          "color": "rgb(0,116,217)"
         },
         "mode": "lines",
         "type": "scatter",
         "x": [
          0,
          1.1780548997058817,
          1.1780548997058817,
          0
         ],
         "xaxis": "x",
         "y": [
          -2025,
          -2025,
          -2035,
          -2035
         ],
         "yaxis": "y"
        },
        {
         "hoverinfo": "text",
         "marker": {
          "color": "rgb(0,116,217)"
         },
         "mode": "lines",
         "type": "scatter",
         "x": [
          0.9051905323509061,
          2.528836175201856,
          2.528836175201856,
          1.1780548997058817
         ],
         "xaxis": "x",
         "y": [
          -2002.5,
          -2002.5,
          -2030,
          -2030
         ],
         "yaxis": "y"
        },
        {
         "hoverinfo": "text",
         "marker": {
          "color": "rgb(0,116,217)"
         },
         "mode": "lines",
         "type": "scatter",
         "x": [
          2.1419559302826046,
          3.332527685617873,
          3.332527685617873,
          2.528836175201856
         ],
         "xaxis": "x",
         "y": [
          -1968.125,
          -1968.125,
          -2016.25,
          -2016.25
         ],
         "yaxis": "y"
        },
        {
         "hoverinfo": "text",
         "marker": {
          "color": "rgb(0,116,217)"
         },
         "mode": "lines",
         "type": "scatter",
         "x": [
          0,
          1.0989154428651964,
          1.0989154428651964,
          0
         ],
         "xaxis": "x",
         "y": [
          -2045,
          -2045,
          -2055,
          -2055
         ],
         "yaxis": "y"
        },
        {
         "hoverinfo": "text",
         "marker": {
          "color": "rgb(0,116,217)"
         },
         "mode": "lines",
         "type": "scatter",
         "x": [
          0,
          1.3243258500866233,
          1.3243258500866233,
          0
         ],
         "xaxis": "x",
         "y": [
          -2065,
          -2065,
          -2075,
          -2075
         ],
         "yaxis": "y"
        },
        {
         "hoverinfo": "text",
         "marker": {
          "color": "rgb(0,116,217)"
         },
         "mode": "lines",
         "type": "scatter",
         "x": [
          1.0989154428651964,
          1.5265263021489026,
          1.5265263021489026,
          1.3243258500866233
         ],
         "xaxis": "x",
         "y": [
          -2050,
          -2050,
          -2070,
          -2070
         ],
         "yaxis": "y"
        },
        {
         "hoverinfo": "text",
         "marker": {
          "color": "rgb(255,65,54)"
         },
         "mode": "lines",
         "type": "scatter",
         "x": [
          0,
          0.3811432378778117,
          0.3811432378778117,
          0
         ],
         "xaxis": "x",
         "y": [
          -2085,
          -2085,
          -2095,
          -2095
         ],
         "yaxis": "y"
        },
        {
         "hoverinfo": "text",
         "marker": {
          "color": "rgb(0,116,217)"
         },
         "mode": "lines",
         "type": "scatter",
         "x": [
          1.5265263021489026,
          2.4787051461564267,
          2.4787051461564267,
          0.3811432378778117
         ],
         "xaxis": "x",
         "y": [
          -2060,
          -2060,
          -2090,
          -2090
         ],
         "yaxis": "y"
        },
        {
         "hoverinfo": "text",
         "marker": {
          "color": "rgb(0,116,217)"
         },
         "mode": "lines",
         "type": "scatter",
         "x": [
          0,
          1.0080858984847147,
          1.0080858984847147,
          0
         ],
         "xaxis": "x",
         "y": [
          -2105,
          -2105,
          -2115,
          -2115
         ],
         "yaxis": "y"
        },
        {
         "hoverinfo": "text",
         "marker": {
          "color": "rgb(0,116,217)"
         },
         "mode": "lines",
         "type": "scatter",
         "x": [
          1.0080858984847147,
          1.2139118162552875,
          1.2139118162552875,
          0
         ],
         "xaxis": "x",
         "y": [
          -2110,
          -2110,
          -2125,
          -2125
         ],
         "yaxis": "y"
        },
        {
         "hoverinfo": "text",
         "marker": {
          "color": "rgb(0,116,217)"
         },
         "mode": "lines",
         "type": "scatter",
         "x": [
          0,
          1.0927161331289437,
          1.0927161331289437,
          0
         ],
         "xaxis": "x",
         "y": [
          -2145,
          -2145,
          -2155,
          -2155
         ],
         "yaxis": "y"
        },
        {
         "hoverinfo": "text",
         "marker": {
          "color": "rgb(0,116,217)"
         },
         "mode": "lines",
         "type": "scatter",
         "x": [
          0,
          1.4452823394341079,
          1.4452823394341079,
          1.0927161331289437
         ],
         "xaxis": "x",
         "y": [
          -2135,
          -2135,
          -2150,
          -2150
         ],
         "yaxis": "y"
        },
        {
         "hoverinfo": "text",
         "marker": {
          "color": "rgb(0,116,217)"
         },
         "mode": "lines",
         "type": "scatter",
         "x": [
          1.2139118162552875,
          2.1402038684772884,
          2.1402038684772884,
          1.4452823394341079
         ],
         "xaxis": "x",
         "y": [
          -2117.5,
          -2117.5,
          -2142.5,
          -2142.5
         ],
         "yaxis": "y"
        },
        {
         "hoverinfo": "text",
         "marker": {
          "color": "rgb(0,116,217)"
         },
         "mode": "lines",
         "type": "scatter",
         "x": [
          2.4787051461564267,
          3.2759506261885134,
          3.2759506261885134,
          2.1402038684772884
         ],
         "xaxis": "x",
         "y": [
          -2075,
          -2075,
          -2130,
          -2130
         ],
         "yaxis": "y"
        },
        {
         "hoverinfo": "text",
         "marker": {
          "color": "rgb(0,116,217)"
         },
         "mode": "lines",
         "type": "scatter",
         "x": [
          0,
          1.1692652327596,
          1.1692652327596,
          0
         ],
         "xaxis": "x",
         "y": [
          -2165,
          -2165,
          -2175,
          -2175
         ],
         "yaxis": "y"
        },
        {
         "hoverinfo": "text",
         "marker": {
          "color": "rgb(35,205,205)"
         },
         "mode": "lines",
         "type": "scatter",
         "x": [
          0,
          0.2193610407134034,
          0.2193610407134034,
          0
         ],
         "xaxis": "x",
         "y": [
          -2185,
          -2185,
          -2195,
          -2195
         ],
         "yaxis": "y"
        },
        {
         "hoverinfo": "text",
         "marker": {
          "color": "rgb(0,116,217)"
         },
         "mode": "lines",
         "type": "scatter",
         "x": [
          1.1692652327596,
          1.7934515271412712,
          1.7934515271412712,
          0.2193610407134034
         ],
         "xaxis": "x",
         "y": [
          -2170,
          -2170,
          -2190,
          -2190
         ],
         "yaxis": "y"
        },
        {
         "hoverinfo": "text",
         "marker": {
          "color": "rgb(133,20,75)"
         },
         "mode": "lines",
         "type": "scatter",
         "x": [
          0,
          0.1922361780615051,
          0.1922361780615051,
          0
         ],
         "xaxis": "x",
         "y": [
          -2205,
          -2205,
          -2215,
          -2215
         ],
         "yaxis": "y"
        },
        {
         "hoverinfo": "text",
         "marker": {
          "color": "rgb(0,116,217)"
         },
         "mode": "lines",
         "type": "scatter",
         "x": [
          1.7934515271412712,
          2.1873999899313707,
          2.1873999899313707,
          0.1922361780615051
         ],
         "xaxis": "x",
         "y": [
          -2180,
          -2180,
          -2210,
          -2210
         ],
         "yaxis": "y"
        },
        {
         "hoverinfo": "text",
         "marker": {
          "color": "rgb(255,220,0)"
         },
         "mode": "lines",
         "type": "scatter",
         "x": [
          0,
          0.9704524825005767,
          0.9704524825005767,
          0
         ],
         "xaxis": "x",
         "y": [
          -2225,
          -2225,
          -2235,
          -2235
         ],
         "yaxis": "y"
        },
        {
         "hoverinfo": "text",
         "marker": {
          "color": "rgb(40,35,35)"
         },
         "mode": "lines",
         "type": "scatter",
         "x": [
          0,
          0.1834234661700574,
          0.1834234661700574,
          0
         ],
         "xaxis": "x",
         "y": [
          -2245,
          -2245,
          -2255,
          -2255
         ],
         "yaxis": "y"
        },
        {
         "hoverinfo": "text",
         "marker": {
          "color": "rgb(40,35,35)"
         },
         "mode": "lines",
         "type": "scatter",
         "x": [
          0.1834234661700574,
          0.682517088382279,
          0.682517088382279,
          0
         ],
         "xaxis": "x",
         "y": [
          -2250,
          -2250,
          -2265,
          -2265
         ],
         "yaxis": "y"
        },
        {
         "hoverinfo": "text",
         "marker": {
          "color": "rgb(0,116,217)"
         },
         "mode": "lines",
         "type": "scatter",
         "x": [
          0.9704524825005767,
          1.8182320361348003,
          1.8182320361348003,
          0.682517088382279
         ],
         "xaxis": "x",
         "y": [
          -2230,
          -2230,
          -2257.5,
          -2257.5
         ],
         "yaxis": "y"
        },
        {
         "hoverinfo": "text",
         "marker": {
          "color": "rgb(61,153,112)"
         },
         "mode": "lines",
         "type": "scatter",
         "x": [
          0,
          0.410526774519453,
          0.410526774519453,
          0
         ],
         "xaxis": "x",
         "y": [
          -2275,
          -2275,
          -2285,
          -2285
         ],
         "yaxis": "y"
        },
        {
         "hoverinfo": "text",
         "marker": {
          "color": "rgb(0,116,217)"
         },
         "mode": "lines",
         "type": "scatter",
         "x": [
          1.8182320361348003,
          2.680282924796568,
          2.680282924796568,
          0.410526774519453
         ],
         "xaxis": "x",
         "y": [
          -2243.75,
          -2243.75,
          -2280,
          -2280
         ],
         "yaxis": "y"
        },
        {
         "hoverinfo": "text",
         "marker": {
          "color": "rgb(0,116,217)"
         },
         "mode": "lines",
         "type": "scatter",
         "x": [
          2.1873999899313707,
          3.5197532610805715,
          3.5197532610805715,
          2.680282924796568
         ],
         "xaxis": "x",
         "y": [
          -2195,
          -2195,
          -2261.875,
          -2261.875
         ],
         "yaxis": "y"
        },
        {
         "hoverinfo": "text",
         "marker": {
          "color": "rgb(0,116,217)"
         },
         "mode": "lines",
         "type": "scatter",
         "x": [
          3.2759506261885134,
          4.590076124616103,
          4.590076124616103,
          3.5197532610805715
         ],
         "xaxis": "x",
         "y": [
          -2102.5,
          -2102.5,
          -2228.4375,
          -2228.4375
         ],
         "yaxis": "y"
        },
        {
         "hoverinfo": "text",
         "marker": {
          "color": "rgb(0,116,217)"
         },
         "mode": "lines",
         "type": "scatter",
         "x": [
          3.332527685617873,
          5.135447879143454,
          5.135447879143454,
          4.590076124616103
         ],
         "xaxis": "x",
         "y": [
          -1992.1875,
          -1992.1875,
          -2165.46875,
          -2165.46875
         ],
         "yaxis": "y"
        },
        {
         "hoverinfo": "text",
         "marker": {
          "color": "rgb(0,116,217)"
         },
         "mode": "lines",
         "type": "scatter",
         "x": [
          4.43435678284017,
          5.955761724364074,
          5.955761724364074,
          5.135447879143454
         ],
         "xaxis": "x",
         "y": [
          -1824.375,
          -1824.375,
          -2078.828125,
          -2078.828125
         ],
         "yaxis": "y"
        },
        {
         "hoverinfo": "text",
         "marker": {
          "color": "rgb(0,116,217)"
         },
         "mode": "lines",
         "type": "scatter",
         "x": [
          7.1458700778606365,
          7.470138165926906,
          7.470138165926906,
          5.955761724364074
         ],
         "xaxis": "x",
         "y": [
          -1344.482421875,
          -1344.482421875,
          -1951.6015625,
          -1951.6015625
         ],
         "yaxis": "y"
        },
        {
         "hoverinfo": "text",
         "marker": {
          "color": "rgb(255,65,54)"
         },
         "mode": "lines",
         "type": "scatter",
         "x": [
          0,
          0.11379777744576224,
          0.11379777744576224,
          0
         ],
         "xaxis": "x",
         "y": [
          -2295,
          -2295,
          -2305,
          -2305
         ],
         "yaxis": "y"
        },
        {
         "hoverinfo": "text",
         "marker": {
          "color": "rgb(255,65,54)"
         },
         "mode": "lines",
         "type": "scatter",
         "x": [
          0.11379777744576224,
          0.1276288620464136,
          0.1276288620464136,
          0
         ],
         "xaxis": "x",
         "y": [
          -2300,
          -2300,
          -2315,
          -2315
         ],
         "yaxis": "y"
        },
        {
         "hoverinfo": "text",
         "marker": {
          "color": "rgb(35,205,205)"
         },
         "mode": "lines",
         "type": "scatter",
         "x": [
          0,
          0.6425675609649821,
          0.6425675609649821,
          0
         ],
         "xaxis": "x",
         "y": [
          -2335,
          -2335,
          -2345,
          -2345
         ],
         "yaxis": "y"
        },
        {
         "hoverinfo": "text",
         "marker": {
          "color": "rgb(35,205,205)"
         },
         "mode": "lines",
         "type": "scatter",
         "x": [
          0,
          0.9987826645018222,
          0.9987826645018222,
          0.6425675609649821
         ],
         "xaxis": "x",
         "y": [
          -2325,
          -2325,
          -2340,
          -2340
         ],
         "yaxis": "y"
        },
        {
         "hoverinfo": "text",
         "marker": {
          "color": "rgb(0,116,217)"
         },
         "mode": "lines",
         "type": "scatter",
         "x": [
          0.1276288620464136,
          2.019733014581162,
          2.019733014581162,
          0.9987826645018222
         ],
         "xaxis": "x",
         "y": [
          -2307.5,
          -2307.5,
          -2332.5,
          -2332.5
         ],
         "yaxis": "y"
        },
        {
         "hoverinfo": "text",
         "marker": {
          "color": "rgb(61,153,112)"
         },
         "mode": "lines",
         "type": "scatter",
         "x": [
          0,
          0.09592967186792349,
          0.09592967186792349,
          0
         ],
         "xaxis": "x",
         "y": [
          -2375,
          -2375,
          -2385,
          -2385
         ],
         "yaxis": "y"
        },
        {
         "hoverinfo": "text",
         "marker": {
          "color": "rgb(61,153,112)"
         },
         "mode": "lines",
         "type": "scatter",
         "x": [
          0,
          0.15390583082221002,
          0.15390583082221002,
          0.09592967186792349
         ],
         "xaxis": "x",
         "y": [
          -2365,
          -2365,
          -2380,
          -2380
         ],
         "yaxis": "y"
        },
        {
         "hoverinfo": "text",
         "marker": {
          "color": "rgb(61,153,112)"
         },
         "mode": "lines",
         "type": "scatter",
         "x": [
          0,
          0.3490033760434245,
          0.3490033760434245,
          0.15390583082221002
         ],
         "xaxis": "x",
         "y": [
          -2355,
          -2355,
          -2372.5,
          -2372.5
         ],
         "yaxis": "y"
        },
        {
         "hoverinfo": "text",
         "marker": {
          "color": "rgb(0,116,217)"
         },
         "mode": "lines",
         "type": "scatter",
         "x": [
          2.019733014581162,
          3.0463218627283277,
          3.0463218627283277,
          0.3490033760434245
         ],
         "xaxis": "x",
         "y": [
          -2320,
          -2320,
          -2363.75,
          -2363.75
         ],
         "yaxis": "y"
        },
        {
         "hoverinfo": "text",
         "marker": {
          "color": "rgb(0,116,217)"
         },
         "mode": "lines",
         "type": "scatter",
         "x": [
          7.470138165926906,
          8.858738587527261,
          8.858738587527261,
          3.0463218627283277
         ],
         "xaxis": "x",
         "y": [
          -1648.0419921875,
          -1648.0419921875,
          -2341.875,
          -2341.875
         ],
         "yaxis": "y"
        },
        {
         "hoverinfo": "text",
         "marker": {
          "color": "rgb(0,116,217)"
         },
         "mode": "lines",
         "type": "scatter",
         "x": [
          0.9788320515867632,
          9.908216219197188,
          9.908216219197188,
          8.858738587527261
         ],
         "xaxis": "x",
         "y": [
          -742.5,
          -742.5,
          -1994.95849609375,
          -1994.95849609375
         ],
         "yaxis": "y"
        },
        {
         "hoverinfo": "text",
         "marker": {
          "color": "rgb(255,65,54)"
         },
         "mode": "lines",
         "type": "scatter",
         "x": [
          0,
          0.5887741084474651,
          0.5887741084474651,
          0
         ],
         "xaxis": "x",
         "y": [
          -2395,
          -2395,
          -2405,
          -2405
         ],
         "yaxis": "y"
        },
        {
         "hoverinfo": "text",
         "marker": {
          "color": "rgb(0,116,217)"
         },
         "mode": "lines",
         "type": "scatter",
         "x": [
          0,
          1.2318004684971386,
          1.2318004684971386,
          0
         ],
         "xaxis": "x",
         "y": [
          -2415,
          -2415,
          -2425,
          -2425
         ],
         "yaxis": "y"
        },
        {
         "hoverinfo": "text",
         "marker": {
          "color": "rgb(0,116,217)"
         },
         "mode": "lines",
         "type": "scatter",
         "x": [
          0.5887741084474651,
          1.411670727748616,
          1.411670727748616,
          1.2318004684971386
         ],
         "xaxis": "x",
         "y": [
          -2400,
          -2400,
          -2420,
          -2420
         ],
         "yaxis": "y"
        },
        {
         "hoverinfo": "text",
         "marker": {
          "color": "rgb(0,116,217)"
         },
         "mode": "lines",
         "type": "scatter",
         "x": [
          0,
          1.2872671779034983,
          1.2872671779034983,
          0
         ],
         "xaxis": "x",
         "y": [
          -2445,
          -2445,
          -2455,
          -2455
         ],
         "yaxis": "y"
        },
        {
         "hoverinfo": "text",
         "marker": {
          "color": "rgb(0,116,217)"
         },
         "mode": "lines",
         "type": "scatter",
         "x": [
          0,
          1.3301968125078658,
          1.3301968125078658,
          0
         ],
         "xaxis": "x",
         "y": [
          -2475,
          -2475,
          -2485,
          -2485
         ],
         "yaxis": "y"
        },
        {
         "hoverinfo": "text",
         "marker": {
          "color": "rgb(0,116,217)"
         },
         "mode": "lines",
         "type": "scatter",
         "x": [
          0,
          1.4082083048861131,
          1.4082083048861131,
          1.3301968125078658
         ],
         "xaxis": "x",
         "y": [
          -2465,
          -2465,
          -2480,
          -2480
         ],
         "yaxis": "y"
        },
        {
         "hoverinfo": "text",
         "marker": {
          "color": "rgb(0,116,217)"
         },
         "mode": "lines",
         "type": "scatter",
         "x": [
          1.4082083048861131,
          1.484738982498536,
          1.484738982498536,
          0
         ],
         "xaxis": "x",
         "y": [
          -2472.5,
          -2472.5,
          -2495,
          -2495
         ],
         "yaxis": "y"
        },
        {
         "hoverinfo": "text",
         "marker": {
          "color": "rgb(0,116,217)"
         },
         "mode": "lines",
         "type": "scatter",
         "x": [
          1.2872671779034983,
          1.7286042058693232,
          1.7286042058693232,
          1.484738982498536
         ],
         "xaxis": "x",
         "y": [
          -2450,
          -2450,
          -2483.75,
          -2483.75
         ],
         "yaxis": "y"
        },
        {
         "hoverinfo": "text",
         "marker": {
          "color": "rgb(0,116,217)"
         },
         "mode": "lines",
         "type": "scatter",
         "x": [
          0,
          1.3089727013283587,
          1.3089727013283587,
          0
         ],
         "xaxis": "x",
         "y": [
          -2505,
          -2505,
          -2515,
          -2515
         ],
         "yaxis": "y"
        },
        {
         "hoverinfo": "text",
         "marker": {
          "color": "rgb(0,116,217)"
         },
         "mode": "lines",
         "type": "scatter",
         "x": [
          0,
          1.2149763965473728,
          1.2149763965473728,
          0
         ],
         "xaxis": "x",
         "y": [
          -2525,
          -2525,
          -2535,
          -2535
         ],
         "yaxis": "y"
        },
        {
         "hoverinfo": "text",
         "marker": {
          "color": "rgb(0,116,217)"
         },
         "mode": "lines",
         "type": "scatter",
         "x": [
          1.2149763965473728,
          1.5154823827006811,
          1.5154823827006811,
          0
         ],
         "xaxis": "x",
         "y": [
          -2530,
          -2530,
          -2545,
          -2545
         ],
         "yaxis": "y"
        },
        {
         "hoverinfo": "text",
         "marker": {
          "color": "rgb(0,116,217)"
         },
         "mode": "lines",
         "type": "scatter",
         "x": [
          1.3089727013283587,
          1.6515981126599086,
          1.6515981126599086,
          1.5154823827006811
         ],
         "xaxis": "x",
         "y": [
          -2510,
          -2510,
          -2537.5,
          -2537.5
         ],
         "yaxis": "y"
        },
        {
         "hoverinfo": "text",
         "marker": {
          "color": "rgb(0,116,217)"
         },
         "mode": "lines",
         "type": "scatter",
         "x": [
          1.6515981126599086,
          1.8068804090546806,
          1.8068804090546806,
          0
         ],
         "xaxis": "x",
         "y": [
          -2523.75,
          -2523.75,
          -2555,
          -2555
         ],
         "yaxis": "y"
        },
        {
         "hoverinfo": "text",
         "marker": {
          "color": "rgb(0,116,217)"
         },
         "mode": "lines",
         "type": "scatter",
         "x": [
          1.7286042058693232,
          1.872108790604352,
          1.872108790604352,
          1.8068804090546806
         ],
         "xaxis": "x",
         "y": [
          -2466.875,
          -2466.875,
          -2539.375,
          -2539.375
         ],
         "yaxis": "y"
        },
        {
         "hoverinfo": "text",
         "marker": {
          "color": "rgb(0,116,217)"
         },
         "mode": "lines",
         "type": "scatter",
         "x": [
          0,
          2.0304870711756133,
          2.0304870711756133,
          1.872108790604352
         ],
         "xaxis": "x",
         "y": [
          -2435,
          -2435,
          -2503.125,
          -2503.125
         ],
         "yaxis": "y"
        },
        {
         "hoverinfo": "text",
         "marker": {
          "color": "rgb(0,116,217)"
         },
         "mode": "lines",
         "type": "scatter",
         "x": [
          0,
          1.1380009285320252,
          1.1380009285320252,
          0
         ],
         "xaxis": "x",
         "y": [
          -2565,
          -2565,
          -2575,
          -2575
         ],
         "yaxis": "y"
        },
        {
         "hoverinfo": "text",
         "marker": {
          "color": "rgb(0,116,217)"
         },
         "mode": "lines",
         "type": "scatter",
         "x": [
          0,
          1.2379191999315422,
          1.2379191999315422,
          0
         ],
         "xaxis": "x",
         "y": [
          -2585,
          -2585,
          -2595,
          -2595
         ],
         "yaxis": "y"
        },
        {
         "hoverinfo": "text",
         "marker": {
          "color": "rgb(0,116,217)"
         },
         "mode": "lines",
         "type": "scatter",
         "x": [
          1.2379191999315422,
          1.6700918675037768,
          1.6700918675037768,
          0
         ],
         "xaxis": "x",
         "y": [
          -2590,
          -2590,
          -2605,
          -2605
         ],
         "yaxis": "y"
        },
        {
         "hoverinfo": "text",
         "marker": {
          "color": "rgb(0,116,217)"
         },
         "mode": "lines",
         "type": "scatter",
         "x": [
          1.1380009285320252,
          1.909483243166513,
          1.909483243166513,
          1.6700918675037768
         ],
         "xaxis": "x",
         "y": [
          -2570,
          -2570,
          -2597.5,
          -2597.5
         ],
         "yaxis": "y"
        },
        {
         "hoverinfo": "text",
         "marker": {
          "color": "rgb(0,116,217)"
         },
         "mode": "lines",
         "type": "scatter",
         "x": [
          2.0304870711756133,
          2.2756408932249883,
          2.2756408932249883,
          1.909483243166513
         ],
         "xaxis": "x",
         "y": [
          -2469.0625,
          -2469.0625,
          -2583.75,
          -2583.75
         ],
         "yaxis": "y"
        },
        {
         "hoverinfo": "text",
         "marker": {
          "color": "rgb(35,205,205)"
         },
         "mode": "lines",
         "type": "scatter",
         "x": [
          0,
          0.9780734635880536,
          0.9780734635880536,
          0
         ],
         "xaxis": "x",
         "y": [
          -2615,
          -2615,
          -2625,
          -2625
         ],
         "yaxis": "y"
        },
        {
         "hoverinfo": "text",
         "marker": {
          "color": "rgb(0,116,217)"
         },
         "mode": "lines",
         "type": "scatter",
         "x": [
          0,
          1.2689832547330215,
          1.2689832547330215,
          0
         ],
         "xaxis": "x",
         "y": [
          -2635,
          -2635,
          -2645,
          -2645
         ],
         "yaxis": "y"
        },
        {
         "hoverinfo": "text",
         "marker": {
          "color": "rgb(0,116,217)"
         },
         "mode": "lines",
         "type": "scatter",
         "x": [
          0.9780734635880536,
          1.6189350213737328,
          1.6189350213737328,
          1.2689832547330215
         ],
         "xaxis": "x",
         "y": [
          -2620,
          -2620,
          -2640,
          -2640
         ],
         "yaxis": "y"
        },
        {
         "hoverinfo": "text",
         "marker": {
          "color": "rgb(133,20,75)"
         },
         "mode": "lines",
         "type": "scatter",
         "x": [
          0,
          0.6999610460432659,
          0.6999610460432659,
          0
         ],
         "xaxis": "x",
         "y": [
          -2655,
          -2655,
          -2665,
          -2665
         ],
         "yaxis": "y"
        },
        {
         "hoverinfo": "text",
         "marker": {
          "color": "rgb(0,116,217)"
         },
         "mode": "lines",
         "type": "scatter",
         "x": [
          1.6189350213737328,
          2.104143958117817,
          2.104143958117817,
          0.6999610460432659
         ],
         "xaxis": "x",
         "y": [
          -2630,
          -2630,
          -2660,
          -2660
         ],
         "yaxis": "y"
        },
        {
         "hoverinfo": "text",
         "marker": {
          "color": "rgb(0,116,217)"
         },
         "mode": "lines",
         "type": "scatter",
         "x": [
          2.2756408932249883,
          2.502409900579354,
          2.502409900579354,
          2.104143958117817
         ],
         "xaxis": "x",
         "y": [
          -2526.40625,
          -2526.40625,
          -2645,
          -2645
         ],
         "yaxis": "y"
        },
        {
         "hoverinfo": "text",
         "marker": {
          "color": "rgb(0,116,217)"
         },
         "mode": "lines",
         "type": "scatter",
         "x": [
          1.411670727748616,
          2.6996634954794145,
          2.6996634954794145,
          2.502409900579354
         ],
         "xaxis": "x",
         "y": [
          -2410,
          -2410,
          -2585.703125,
          -2585.703125
         ],
         "yaxis": "y"
        },
        {
         "hoverinfo": "text",
         "marker": {
          "color": "rgb(255,220,0)"
         },
         "mode": "lines",
         "type": "scatter",
         "x": [
          0,
          0.7510942137776709,
          0.7510942137776709,
          0
         ],
         "xaxis": "x",
         "y": [
          -2685,
          -2685,
          -2695,
          -2695
         ],
         "yaxis": "y"
        },
        {
         "hoverinfo": "text",
         "marker": {
          "color": "rgb(0,116,217)"
         },
         "mode": "lines",
         "type": "scatter",
         "x": [
          0,
          1.0973036316117124,
          1.0973036316117124,
          0.7510942137776709
         ],
         "xaxis": "x",
         "y": [
          -2675,
          -2675,
          -2690,
          -2690
         ],
         "yaxis": "y"
        },
        {
         "hoverinfo": "text",
         "marker": {
          "color": "rgb(40,35,35)"
         },
         "mode": "lines",
         "type": "scatter",
         "x": [
          0,
          0.4354711906410692,
          0.4354711906410692,
          0
         ],
         "xaxis": "x",
         "y": [
          -2715,
          -2715,
          -2725,
          -2725
         ],
         "yaxis": "y"
        },
        {
         "hoverinfo": "text",
         "marker": {
          "color": "rgb(0,116,217)"
         },
         "mode": "lines",
         "type": "scatter",
         "x": [
          0,
          1.2197994429190606,
          1.2197994429190606,
          0.4354711906410692
         ],
         "xaxis": "x",
         "y": [
          -2705,
          -2705,
          -2720,
          -2720
         ],
         "yaxis": "y"
        },
        {
         "hoverinfo": "text",
         "marker": {
          "color": "rgb(61,153,112)"
         },
         "mode": "lines",
         "type": "scatter",
         "x": [
          0,
          0.18990555237266027,
          0.18990555237266027,
          0
         ],
         "xaxis": "x",
         "y": [
          -2735,
          -2735,
          -2745,
          -2745
         ],
         "yaxis": "y"
        },
        {
         "hoverinfo": "text",
         "marker": {
          "color": "rgb(0,116,217)"
         },
         "mode": "lines",
         "type": "scatter",
         "x": [
          0.18990555237266027,
          1.2093042895075115,
          1.2093042895075115,
          0
         ],
         "xaxis": "x",
         "y": [
          -2740,
          -2740,
          -2755,
          -2755
         ],
         "yaxis": "y"
        },
        {
         "hoverinfo": "text",
         "marker": {
          "color": "rgb(255,65,54)"
         },
         "mode": "lines",
         "type": "scatter",
         "x": [
          0,
          0.3821645659391893,
          0.3821645659391893,
          0
         ],
         "xaxis": "x",
         "y": [
          -2765,
          -2765,
          -2775,
          -2775
         ],
         "yaxis": "y"
        },
        {
         "hoverinfo": "text",
         "marker": {
          "color": "rgb(0,116,217)"
         },
         "mode": "lines",
         "type": "scatter",
         "x": [
          1.2093042895075115,
          2.346623109315233,
          2.346623109315233,
          0.3821645659391893
         ],
         "xaxis": "x",
         "y": [
          -2747.5,
          -2747.5,
          -2770,
          -2770
         ],
         "yaxis": "y"
        },
        {
         "hoverinfo": "text",
         "marker": {
          "color": "rgb(0,116,217)"
         },
         "mode": "lines",
         "type": "scatter",
         "x": [
          1.2197994429190606,
          2.7232798833203837,
          2.7232798833203837,
          2.346623109315233
         ],
         "xaxis": "x",
         "y": [
          -2712.5,
          -2712.5,
          -2758.75,
          -2758.75
         ],
         "yaxis": "y"
        },
        {
         "hoverinfo": "text",
         "marker": {
          "color": "rgb(0,116,217)"
         },
         "mode": "lines",
         "type": "scatter",
         "x": [
          1.0973036316117124,
          2.869382204828956,
          2.869382204828956,
          2.7232798833203837
         ],
         "xaxis": "x",
         "y": [
          -2682.5,
          -2682.5,
          -2735.625,
          -2735.625
         ],
         "yaxis": "y"
        },
        {
         "hoverinfo": "text",
         "marker": {
          "color": "rgb(0,116,217)"
         },
         "mode": "lines",
         "type": "scatter",
         "x": [
          2.6996634954794145,
          3.752225558991179,
          3.752225558991179,
          2.869382204828956
         ],
         "xaxis": "x",
         "y": [
          -2497.8515625,
          -2497.8515625,
          -2709.0625,
          -2709.0625
         ],
         "yaxis": "y"
        },
        {
         "hoverinfo": "text",
         "marker": {
          "color": "rgb(35,205,205)"
         },
         "mode": "lines",
         "type": "scatter",
         "x": [
          0,
          0.1410785018482286,
          0.1410785018482286,
          0
         ],
         "xaxis": "x",
         "y": [
          -2785,
          -2785,
          -2795,
          -2795
         ],
         "yaxis": "y"
        },
        {
         "hoverinfo": "text",
         "marker": {
          "color": "rgb(0,116,217)"
         },
         "mode": "lines",
         "type": "scatter",
         "x": [
          0.1410785018482286,
          1.3925694815538145,
          1.3925694815538145,
          0
         ],
         "xaxis": "x",
         "y": [
          -2790,
          -2790,
          -2805,
          -2805
         ],
         "yaxis": "y"
        },
        {
         "hoverinfo": "text",
         "marker": {
          "color": "rgb(61,153,112)"
         },
         "mode": "lines",
         "type": "scatter",
         "x": [
          0,
          0.06405527346754594,
          0.06405527346754594,
          0
         ],
         "xaxis": "x",
         "y": [
          -2815,
          -2815,
          -2825,
          -2825
         ],
         "yaxis": "y"
        },
        {
         "hoverinfo": "text",
         "marker": {
          "color": "rgb(255,65,54)"
         },
         "mode": "lines",
         "type": "scatter",
         "x": [
          0,
          0.18317968509221905,
          0.18317968509221905,
          0
         ],
         "xaxis": "x",
         "y": [
          -2835,
          -2835,
          -2845,
          -2845
         ],
         "yaxis": "y"
        },
        {
         "hoverinfo": "text",
         "marker": {
          "color": "rgb(0,116,217)"
         },
         "mode": "lines",
         "type": "scatter",
         "x": [
          0,
          1.413360278519227,
          1.413360278519227,
          0
         ],
         "xaxis": "x",
         "y": [
          -2865,
          -2865,
          -2875,
          -2875
         ],
         "yaxis": "y"
        },
        {
         "hoverinfo": "text",
         "marker": {
          "color": "rgb(0,116,217)"
         },
         "mode": "lines",
         "type": "scatter",
         "x": [
          0,
          1.4608244120967306,
          1.4608244120967306,
          0
         ],
         "xaxis": "x",
         "y": [
          -2885,
          -2885,
          -2895,
          -2895
         ],
         "yaxis": "y"
        },
        {
         "hoverinfo": "text",
         "marker": {
          "color": "rgb(0,116,217)"
         },
         "mode": "lines",
         "type": "scatter",
         "x": [
          1.413360278519227,
          1.4776230421415932,
          1.4776230421415932,
          1.4608244120967306
         ],
         "xaxis": "x",
         "y": [
          -2870,
          -2870,
          -2890,
          -2890
         ],
         "yaxis": "y"
        },
        {
         "hoverinfo": "text",
         "marker": {
          "color": "rgb(0,116,217)"
         },
         "mode": "lines",
         "type": "scatter",
         "x": [
          0,
          1.4320699204720917,
          1.4320699204720917,
          0
         ],
         "xaxis": "x",
         "y": [
          -2905,
          -2905,
          -2915,
          -2915
         ],
         "yaxis": "y"
        },
        {
         "hoverinfo": "text",
         "marker": {
          "color": "rgb(0,116,217)"
         },
         "mode": "lines",
         "type": "scatter",
         "x": [
          1.4776230421415932,
          1.5848622780483856,
          1.5848622780483856,
          1.4320699204720917
         ],
         "xaxis": "x",
         "y": [
          -2880,
          -2880,
          -2910,
          -2910
         ],
         "yaxis": "y"
        },
        {
         "hoverinfo": "text",
         "marker": {
          "color": "rgb(0,116,217)"
         },
         "mode": "lines",
         "type": "scatter",
         "x": [
          0,
          1.3757095192955011,
          1.3757095192955011,
          0
         ],
         "xaxis": "x",
         "y": [
          -2925,
          -2925,
          -2935,
          -2935
         ],
         "yaxis": "y"
        },
        {
         "hoverinfo": "text",
         "marker": {
          "color": "rgb(0,116,217)"
         },
         "mode": "lines",
         "type": "scatter",
         "x": [
          1.5848622780483856,
          1.665973344070766,
          1.665973344070766,
          1.3757095192955011
         ],
         "xaxis": "x",
         "y": [
          -2895,
          -2895,
          -2930,
          -2930
         ],
         "yaxis": "y"
        },
        {
         "hoverinfo": "text",
         "marker": {
          "color": "rgb(0,116,217)"
         },
         "mode": "lines",
         "type": "scatter",
         "x": [
          0,
          1.7215606994652684,
          1.7215606994652684,
          1.665973344070766
         ],
         "xaxis": "x",
         "y": [
          -2855,
          -2855,
          -2912.5,
          -2912.5
         ],
         "yaxis": "y"
        },
        {
         "hoverinfo": "text",
         "marker": {
          "color": "rgb(35,205,205)"
         },
         "mode": "lines",
         "type": "scatter",
         "x": [
          0,
          0.6415005824097059,
          0.6415005824097059,
          0
         ],
         "xaxis": "x",
         "y": [
          -2945,
          -2945,
          -2955,
          -2955
         ],
         "yaxis": "y"
        },
        {
         "hoverinfo": "text",
         "marker": {
          "color": "rgb(0,116,217)"
         },
         "mode": "lines",
         "type": "scatter",
         "x": [
          1.7215606994652684,
          2.1333707846115884,
          2.1333707846115884,
          0.6415005824097059
         ],
         "xaxis": "x",
         "y": [
          -2883.75,
          -2883.75,
          -2950,
          -2950
         ],
         "yaxis": "y"
        },
        {
         "hoverinfo": "text",
         "marker": {
          "color": "rgb(0,116,217)"
         },
         "mode": "lines",
         "type": "scatter",
         "x": [
          0,
          1.3106767311431946,
          1.3106767311431946,
          0
         ],
         "xaxis": "x",
         "y": [
          -2965,
          -2965,
          -2975,
          -2975
         ],
         "yaxis": "y"
        },
        {
         "hoverinfo": "text",
         "marker": {
          "color": "rgb(0,116,217)"
         },
         "mode": "lines",
         "type": "scatter",
         "x": [
          0,
          1.2664332030403314,
          1.2664332030403314,
          0
         ],
         "xaxis": "x",
         "y": [
          -2985,
          -2985,
          -2995,
          -2995
         ],
         "yaxis": "y"
        },
        {
         "hoverinfo": "text",
         "marker": {
          "color": "rgb(0,116,217)"
         },
         "mode": "lines",
         "type": "scatter",
         "x": [
          0,
          1.3918687706890334,
          1.3918687706890334,
          0
         ],
         "xaxis": "x",
         "y": [
          -3005,
          -3005,
          -3015,
          -3015
         ],
         "yaxis": "y"
        },
        {
         "hoverinfo": "text",
         "marker": {
          "color": "rgb(0,116,217)"
         },
         "mode": "lines",
         "type": "scatter",
         "x": [
          1.2664332030403314,
          1.5335842045663162,
          1.5335842045663162,
          1.3918687706890334
         ],
         "xaxis": "x",
         "y": [
          -2990,
          -2990,
          -3010,
          -3010
         ],
         "yaxis": "y"
        },
        {
         "hoverinfo": "text",
         "marker": {
          "color": "rgb(0,116,217)"
         },
         "mode": "lines",
         "type": "scatter",
         "x": [
          1.3106767311431946,
          1.7170130260251142,
          1.7170130260251142,
          1.5335842045663162
         ],
         "xaxis": "x",
         "y": [
          -2970,
          -2970,
          -3000,
          -3000
         ],
         "yaxis": "y"
        },
        {
         "hoverinfo": "text",
         "marker": {
          "color": "rgb(0,116,217)"
         },
         "mode": "lines",
         "type": "scatter",
         "x": [
          0,
          1.3781904751771064,
          1.3781904751771064,
          0
         ],
         "xaxis": "x",
         "y": [
          -3025,
          -3025,
          -3035,
          -3035
         ],
         "yaxis": "y"
        },
        {
         "hoverinfo": "text",
         "marker": {
          "color": "rgb(0,116,217)"
         },
         "mode": "lines",
         "type": "scatter",
         "x": [
          1.3781904751771064,
          1.4464057643783372,
          1.4464057643783372,
          0
         ],
         "xaxis": "x",
         "y": [
          -3030,
          -3030,
          -3045,
          -3045
         ],
         "yaxis": "y"
        },
        {
         "hoverinfo": "text",
         "marker": {
          "color": "rgb(0,116,217)"
         },
         "mode": "lines",
         "type": "scatter",
         "x": [
          0,
          1.4467365612377916,
          1.4467365612377916,
          0
         ],
         "xaxis": "x",
         "y": [
          -3075,
          -3075,
          -3085,
          -3085
         ],
         "yaxis": "y"
        },
        {
         "hoverinfo": "text",
         "marker": {
          "color": "rgb(0,116,217)"
         },
         "mode": "lines",
         "type": "scatter",
         "x": [
          0,
          1.464353482459738,
          1.464353482459738,
          1.4467365612377916
         ],
         "xaxis": "x",
         "y": [
          -3065,
          -3065,
          -3080,
          -3080
         ],
         "yaxis": "y"
        },
        {
         "hoverinfo": "text",
         "marker": {
          "color": "rgb(0,116,217)"
         },
         "mode": "lines",
         "type": "scatter",
         "x": [
          0,
          1.4586412307203558,
          1.4586412307203558,
          0
         ],
         "xaxis": "x",
         "y": [
          -3095,
          -3095,
          -3105,
          -3105
         ],
         "yaxis": "y"
        },
        {
         "hoverinfo": "text",
         "marker": {
          "color": "rgb(0,116,217)"
         },
         "mode": "lines",
         "type": "scatter",
         "x": [
          1.464353482459738,
          1.503325332789415,
          1.503325332789415,
          1.4586412307203558
         ],
         "xaxis": "x",
         "y": [
          -3072.5,
          -3072.5,
          -3100,
          -3100
         ],
         "yaxis": "y"
        },
        {
         "hoverinfo": "text",
         "marker": {
          "color": "rgb(0,116,217)"
         },
         "mode": "lines",
         "type": "scatter",
         "x": [
          0,
          1.5604724807627797,
          1.5604724807627797,
          1.503325332789415
         ],
         "xaxis": "x",
         "y": [
          -3055,
          -3055,
          -3086.25,
          -3086.25
         ],
         "yaxis": "y"
        },
        {
         "hoverinfo": "text",
         "marker": {
          "color": "rgb(0,116,217)"
         },
         "mode": "lines",
         "type": "scatter",
         "x": [
          0,
          1.3998702681331157,
          1.3998702681331157,
          0
         ],
         "xaxis": "x",
         "y": [
          -3115,
          -3115,
          -3125,
          -3125
         ],
         "yaxis": "y"
        },
        {
         "hoverinfo": "text",
         "marker": {
          "color": "rgb(0,116,217)"
         },
         "mode": "lines",
         "type": "scatter",
         "x": [
          1.5604724807627797,
          1.6174750420367232,
          1.6174750420367232,
          1.3998702681331157
         ],
         "xaxis": "x",
         "y": [
          -3070.625,
          -3070.625,
          -3120,
          -3120
         ],
         "yaxis": "y"
        },
        {
         "hoverinfo": "text",
         "marker": {
          "color": "rgb(0,116,217)"
         },
         "mode": "lines",
         "type": "scatter",
         "x": [
          1.4464057643783372,
          1.6966254611247902,
          1.6966254611247902,
          1.6174750420367232
         ],
         "xaxis": "x",
         "y": [
          -3037.5,
          -3037.5,
          -3095.3125,
          -3095.3125
         ],
         "yaxis": "y"
        },
        {
         "hoverinfo": "text",
         "marker": {
          "color": "rgb(0,116,217)"
         },
         "mode": "lines",
         "type": "scatter",
         "x": [
          1.7170130260251142,
          1.8119484115748974,
          1.8119484115748974,
          1.6966254611247902
         ],
         "xaxis": "x",
         "y": [
          -2985,
          -2985,
          -3066.40625,
          -3066.40625
         ],
         "yaxis": "y"
        },
        {
         "hoverinfo": "text",
         "marker": {
          "color": "rgb(0,116,217)"
         },
         "mode": "lines",
         "type": "scatter",
         "x": [
          2.1333707846115884,
          2.1474332683296216,
          2.1474332683296216,
          1.8119484115748974
         ],
         "xaxis": "x",
         "y": [
          -2916.875,
          -2916.875,
          -3025.703125,
          -3025.703125
         ],
         "yaxis": "y"
        },
        {
         "hoverinfo": "text",
         "marker": {
          "color": "rgb(0,116,217)"
         },
         "mode": "lines",
         "type": "scatter",
         "x": [
          0.18317968509221905,
          2.620084333134012,
          2.620084333134012,
          2.1474332683296216
         ],
         "xaxis": "x",
         "y": [
          -2840,
          -2840,
          -2971.2890625,
          -2971.2890625
         ],
         "yaxis": "y"
        },
        {
         "hoverinfo": "text",
         "marker": {
          "color": "rgb(133,20,75)"
         },
         "mode": "lines",
         "type": "scatter",
         "x": [
          0,
          0.4563259577549233,
          0.4563259577549233,
          0
         ],
         "xaxis": "x",
         "y": [
          -3135,
          -3135,
          -3145,
          -3145
         ],
         "yaxis": "y"
        },
        {
         "hoverinfo": "text",
         "marker": {
          "color": "rgb(0,116,217)"
         },
         "mode": "lines",
         "type": "scatter",
         "x": [
          2.620084333134012,
          2.669000201434326,
          2.669000201434326,
          0.4563259577549233
         ],
         "xaxis": "x",
         "y": [
          -2905.64453125,
          -2905.64453125,
          -3140,
          -3140
         ],
         "yaxis": "y"
        },
        {
         "hoverinfo": "text",
         "marker": {
          "color": "rgb(0,116,217)"
         },
         "mode": "lines",
         "type": "scatter",
         "x": [
          0.06405527346754594,
          2.7965184692443734,
          2.7965184692443734,
          2.669000201434326
         ],
         "xaxis": "x",
         "y": [
          -2820,
          -2820,
          -3022.822265625,
          -3022.822265625
         ],
         "yaxis": "y"
        },
        {
         "hoverinfo": "text",
         "marker": {
          "color": "rgb(0,116,217)"
         },
         "mode": "lines",
         "type": "scatter",
         "x": [
          1.3925694815538145,
          3.1678440357082693,
          3.1678440357082693,
          2.7965184692443734
         ],
         "xaxis": "x",
         "y": [
          -2797.5,
          -2797.5,
          -2921.4111328125,
          -2921.4111328125
         ],
         "yaxis": "y"
        },
        {
         "hoverinfo": "text",
         "marker": {
          "color": "rgb(255,220,0)"
         },
         "mode": "lines",
         "type": "scatter",
         "x": [
          0,
          0.8099237270072353,
          0.8099237270072353,
          0
         ],
         "xaxis": "x",
         "y": [
          -3155,
          -3155,
          -3165,
          -3165
         ],
         "yaxis": "y"
        },
        {
         "hoverinfo": "text",
         "marker": {
          "color": "rgb(0,116,217)"
         },
         "mode": "lines",
         "type": "scatter",
         "x": [
          0.8099237270072353,
          1.4858676985668664,
          1.4858676985668664,
          0
         ],
         "xaxis": "x",
         "y": [
          -3160,
          -3160,
          -3175,
          -3175
         ],
         "yaxis": "y"
        },
        {
         "hoverinfo": "text",
         "marker": {
          "color": "rgb(40,35,35)"
         },
         "mode": "lines",
         "type": "scatter",
         "x": [
          0,
          0.9122027325993983,
          0.9122027325993983,
          0
         ],
         "xaxis": "x",
         "y": [
          -3185,
          -3185,
          -3195,
          -3195
         ],
         "yaxis": "y"
        },
        {
         "hoverinfo": "text",
         "marker": {
          "color": "rgb(0,116,217)"
         },
         "mode": "lines",
         "type": "scatter",
         "x": [
          0,
          1.0010263868281202,
          1.0010263868281202,
          0
         ],
         "xaxis": "x",
         "y": [
          -3245,
          -3245,
          -3255,
          -3255
         ],
         "yaxis": "y"
        },
        {
         "hoverinfo": "text",
         "marker": {
          "color": "rgb(0,116,217)"
         },
         "mode": "lines",
         "type": "scatter",
         "x": [
          1.0010263868281202,
          1.2978191113682933,
          1.2978191113682933,
          0
         ],
         "xaxis": "x",
         "y": [
          -3250,
          -3250,
          -3265,
          -3265
         ],
         "yaxis": "y"
        },
        {
         "hoverinfo": "text",
         "marker": {
          "color": "rgb(0,116,217)"
         },
         "mode": "lines",
         "type": "scatter",
         "x": [
          0,
          1.3872429008481955,
          1.3872429008481955,
          1.2978191113682933
         ],
         "xaxis": "x",
         "y": [
          -3235,
          -3235,
          -3257.5,
          -3257.5
         ],
         "yaxis": "y"
        },
        {
         "hoverinfo": "text",
         "marker": {
          "color": "rgb(0,116,217)"
         },
         "mode": "lines",
         "type": "scatter",
         "x": [
          0,
          1.431015885719294,
          1.431015885719294,
          1.3872429008481955
         ],
         "xaxis": "x",
         "y": [
          -3225,
          -3225,
          -3246.25,
          -3246.25
         ],
         "yaxis": "y"
        },
        {
         "hoverinfo": "text",
         "marker": {
          "color": "rgb(0,116,217)"
         },
         "mode": "lines",
         "type": "scatter",
         "x": [
          0,
          1.449132713627841,
          1.449132713627841,
          1.431015885719294
         ],
         "xaxis": "x",
         "y": [
          -3215,
          -3215,
          -3235.625,
          -3235.625
         ],
         "yaxis": "y"
        },
        {
         "hoverinfo": "text",
         "marker": {
          "color": "rgb(0,116,217)"
         },
         "mode": "lines",
         "type": "scatter",
         "x": [
          1.449132713627841,
          1.4552914311847729,
          1.4552914311847729,
          0
         ],
         "xaxis": "x",
         "y": [
          -3225.3125,
          -3225.3125,
          -3275,
          -3275
         ],
         "yaxis": "y"
        },
        {
         "hoverinfo": "text",
         "marker": {
          "color": "rgb(0,116,217)"
         },
         "mode": "lines",
         "type": "scatter",
         "x": [
          0,
          1.4877234593881006,
          1.4877234593881006,
          1.4552914311847729
         ],
         "xaxis": "x",
         "y": [
          -3205,
          -3205,
          -3250.15625,
          -3250.15625
         ],
         "yaxis": "y"
        },
        {
         "hoverinfo": "text",
         "marker": {
          "color": "rgb(0,116,217)"
         },
         "mode": "lines",
         "type": "scatter",
         "x": [
          1.4877234593881006,
          1.5549450338754167,
          1.5549450338754167,
          0
         ],
         "xaxis": "x",
         "y": [
          -3227.578125,
          -3227.578125,
          -3285,
          -3285
         ],
         "yaxis": "y"
        },
        {
         "hoverinfo": "text",
         "marker": {
          "color": "rgb(0,116,217)"
         },
         "mode": "lines",
         "type": "scatter",
         "x": [
          0.9122027325993983,
          2.032807130031142,
          2.032807130031142,
          1.5549450338754167
         ],
         "xaxis": "x",
         "y": [
          -3190,
          -3190,
          -3256.2890625,
          -3256.2890625
         ],
         "yaxis": "y"
        },
        {
         "hoverinfo": "text",
         "marker": {
          "color": "rgb(0,116,217)"
         },
         "mode": "lines",
         "type": "scatter",
         "x": [
          0,
          1.3259391138502035,
          1.3259391138502035,
          0
         ],
         "xaxis": "x",
         "y": [
          -3295,
          -3295,
          -3305,
          -3305
         ],
         "yaxis": "y"
        },
        {
         "hoverinfo": "text",
         "marker": {
          "color": "rgb(0,116,217)"
         },
         "mode": "lines",
         "type": "scatter",
         "x": [
          2.032807130031142,
          2.0769873601501,
          2.0769873601501,
          1.3259391138502035
         ],
         "xaxis": "x",
         "y": [
          -3223.14453125,
          -3223.14453125,
          -3300,
          -3300
         ],
         "yaxis": "y"
        },
        {
         "hoverinfo": "text",
         "marker": {
          "color": "rgb(61,153,112)"
         },
         "mode": "lines",
         "type": "scatter",
         "x": [
          0,
          0.5651075222660444,
          0.5651075222660444,
          0
         ],
         "xaxis": "x",
         "y": [
          -3315,
          -3315,
          -3325,
          -3325
         ],
         "yaxis": "y"
        },
        {
         "hoverinfo": "text",
         "marker": {
          "color": "rgb(0,116,217)"
         },
         "mode": "lines",
         "type": "scatter",
         "x": [
          2.0769873601501,
          2.609382842660021,
          2.609382842660021,
          0.5651075222660444
         ],
         "xaxis": "x",
         "y": [
          -3261.572265625,
          -3261.572265625,
          -3320,
          -3320
         ],
         "yaxis": "y"
        },
        {
         "hoverinfo": "text",
         "marker": {
          "color": "rgb(0,116,217)"
         },
         "mode": "lines",
         "type": "scatter",
         "x": [
          1.4858676985668664,
          2.9435578214769564,
          2.9435578214769564,
          2.609382842660021
         ],
         "xaxis": "x",
         "y": [
          -3167.5,
          -3167.5,
          -3290.7861328125,
          -3290.7861328125
         ],
         "yaxis": "y"
        },
        {
         "hoverinfo": "text",
         "marker": {
          "color": "rgb(0,116,217)"
         },
         "mode": "lines",
         "type": "scatter",
         "x": [
          3.1678440357082693,
          3.971991486434048,
          3.971991486434048,
          2.9435578214769564
         ],
         "xaxis": "x",
         "y": [
          -2859.45556640625,
          -2859.45556640625,
          -3229.14306640625,
          -3229.14306640625
         ],
         "yaxis": "y"
        },
        {
         "hoverinfo": "text",
         "marker": {
          "color": "rgb(255,65,54)"
         },
         "mode": "lines",
         "type": "scatter",
         "x": [
          0,
          0.06736038525329445,
          0.06736038525329445,
          0
         ],
         "xaxis": "x",
         "y": [
          -3345,
          -3345,
          -3355,
          -3355
         ],
         "yaxis": "y"
        },
        {
         "hoverinfo": "text",
         "marker": {
          "color": "rgb(255,65,54)"
         },
         "mode": "lines",
         "type": "scatter",
         "x": [
          0.06736038525329445,
          0.20910925575877165,
          0.20910925575877165,
          0
         ],
         "xaxis": "x",
         "y": [
          -3350,
          -3350,
          -3365,
          -3365
         ],
         "yaxis": "y"
        },
        {
         "hoverinfo": "text",
         "marker": {
          "color": "rgb(0,116,217)"
         },
         "mode": "lines",
         "type": "scatter",
         "x": [
          0,
          1.5514634613984652,
          1.5514634613984652,
          0.20910925575877165
         ],
         "xaxis": "x",
         "y": [
          -3335,
          -3335,
          -3357.5,
          -3357.5
         ],
         "yaxis": "y"
        },
        {
         "hoverinfo": "text",
         "marker": {
          "color": "rgb(0,116,217)"
         },
         "mode": "lines",
         "type": "scatter",
         "x": [
          3.971991486434048,
          4.236865436543766,
          4.236865436543766,
          1.5514634613984652
         ],
         "xaxis": "x",
         "y": [
          -3044.29931640625,
          -3044.29931640625,
          -3346.25,
          -3346.25
         ],
         "yaxis": "y"
        },
        {
         "hoverinfo": "text",
         "marker": {
          "color": "rgb(0,116,217)"
         },
         "mode": "lines",
         "type": "scatter",
         "x": [
          3.752225558991179,
          5.3091484720065045,
          5.3091484720065045,
          4.236865436543766
         ],
         "xaxis": "x",
         "y": [
          -2603.45703125,
          -2603.45703125,
          -3195.274658203125,
          -3195.274658203125
         ],
         "yaxis": "y"
        },
        {
         "hoverinfo": "text",
         "marker": {
          "color": "rgb(0,116,217)"
         },
         "mode": "lines",
         "type": "scatter",
         "x": [
          9.908216219197188,
          11.196487760859645,
          11.196487760859645,
          5.3091484720065045
         ],
         "xaxis": "x",
         "y": [
          -1368.729248046875,
          -1368.729248046875,
          -2899.3658447265625,
          -2899.3658447265625
         ],
         "yaxis": "y"
        },
        {
         "hoverinfo": "text",
         "marker": {
          "color": "rgb(35,205,205)"
         },
         "mode": "lines",
         "type": "scatter",
         "x": [
          0,
          0.26919993757894517,
          0.26919993757894517,
          0
         ],
         "xaxis": "x",
         "y": [
          -3385,
          -3385,
          -3395,
          -3395
         ],
         "yaxis": "y"
        },
        {
         "hoverinfo": "text",
         "marker": {
          "color": "rgb(35,205,205)"
         },
         "mode": "lines",
         "type": "scatter",
         "x": [
          0,
          0.49915717329760295,
          0.49915717329760295,
          0.26919993757894517
         ],
         "xaxis": "x",
         "y": [
          -3375,
          -3375,
          -3390,
          -3390
         ],
         "yaxis": "y"
        },
        {
         "hoverinfo": "text",
         "marker": {
          "color": "rgb(35,205,205)"
         },
         "mode": "lines",
         "type": "scatter",
         "x": [
          0.49915717329760295,
          0.6197419766657157,
          0.6197419766657157,
          0
         ],
         "xaxis": "x",
         "y": [
          -3382.5,
          -3382.5,
          -3405,
          -3405
         ],
         "yaxis": "y"
        },
        {
         "hoverinfo": "text",
         "marker": {
          "color": "rgb(35,205,205)"
         },
         "mode": "lines",
         "type": "scatter",
         "x": [
          0.6197419766657157,
          0.8590417130462151,
          0.8590417130462151,
          0
         ],
         "xaxis": "x",
         "y": [
          -3393.75,
          -3393.75,
          -3415,
          -3415
         ],
         "yaxis": "y"
        },
        {
         "hoverinfo": "text",
         "marker": {
          "color": "rgb(61,153,112)"
         },
         "mode": "lines",
         "type": "scatter",
         "x": [
          0,
          0.2232648182262659,
          0.2232648182262659,
          0
         ],
         "xaxis": "x",
         "y": [
          -3425,
          -3425,
          -3435,
          -3435
         ],
         "yaxis": "y"
        },
        {
         "hoverinfo": "text",
         "marker": {
          "color": "rgb(61,153,112)"
         },
         "mode": "lines",
         "type": "scatter",
         "x": [
          0.2232648182262659,
          0.44710344677341035,
          0.44710344677341035,
          0
         ],
         "xaxis": "x",
         "y": [
          -3430,
          -3430,
          -3445,
          -3445
         ],
         "yaxis": "y"
        },
        {
         "hoverinfo": "text",
         "marker": {
          "color": "rgb(255,65,54)"
         },
         "mode": "lines",
         "type": "scatter",
         "x": [
          0,
          0.36014239470979564,
          0.36014239470979564,
          0
         ],
         "xaxis": "x",
         "y": [
          -3455,
          -3455,
          -3465,
          -3465
         ],
         "yaxis": "y"
        },
        {
         "hoverinfo": "text",
         "marker": {
          "color": "rgb(0,116,217)"
         },
         "mode": "lines",
         "type": "scatter",
         "x": [
          0.44710344677341035,
          1.1075731237687636,
          1.1075731237687636,
          0.36014239470979564
         ],
         "xaxis": "x",
         "y": [
          -3437.5,
          -3437.5,
          -3460,
          -3460
         ],
         "yaxis": "y"
        },
        {
         "hoverinfo": "text",
         "marker": {
          "color": "rgb(35,205,205)"
         },
         "mode": "lines",
         "type": "scatter",
         "x": [
          0,
          0.17073471026598408,
          0.17073471026598408,
          0
         ],
         "xaxis": "x",
         "y": [
          -3485,
          -3485,
          -3495,
          -3495
         ],
         "yaxis": "y"
        },
        {
         "hoverinfo": "text",
         "marker": {
          "color": "rgb(35,205,205)"
         },
         "mode": "lines",
         "type": "scatter",
         "x": [
          0.17073471026598408,
          0.3827827722894996,
          0.3827827722894996,
          0
         ],
         "xaxis": "x",
         "y": [
          -3490,
          -3490,
          -3505,
          -3505
         ],
         "yaxis": "y"
        },
        {
         "hoverinfo": "text",
         "marker": {
          "color": "rgb(35,205,205)"
         },
         "mode": "lines",
         "type": "scatter",
         "x": [
          0,
          0.7069210345110124,
          0.7069210345110124,
          0.3827827722894996
         ],
         "xaxis": "x",
         "y": [
          -3475,
          -3475,
          -3497.5,
          -3497.5
         ],
         "yaxis": "y"
        },
        {
         "hoverinfo": "text",
         "marker": {
          "color": "rgb(35,205,205)"
         },
         "mode": "lines",
         "type": "scatter",
         "x": [
          0.7069210345110124,
          0.8754993684200588,
          0.8754993684200588,
          0
         ],
         "xaxis": "x",
         "y": [
          -3486.25,
          -3486.25,
          -3515,
          -3515
         ],
         "yaxis": "y"
        },
        {
         "hoverinfo": "text",
         "marker": {
          "color": "rgb(0,116,217)"
         },
         "mode": "lines",
         "type": "scatter",
         "x": [
          1.1075731237687636,
          1.8018297285009024,
          1.8018297285009024,
          0.8754993684200588
         ],
         "xaxis": "x",
         "y": [
          -3448.75,
          -3448.75,
          -3500.625,
          -3500.625
         ],
         "yaxis": "y"
        },
        {
         "hoverinfo": "text",
         "marker": {
          "color": "rgb(0,116,217)"
         },
         "mode": "lines",
         "type": "scatter",
         "x": [
          0.8590417130462151,
          4.19210456150781,
          4.19210456150781,
          1.8018297285009024
         ],
         "xaxis": "x",
         "y": [
          -3404.375,
          -3404.375,
          -3474.6875,
          -3474.6875
         ],
         "yaxis": "y"
        },
        {
         "hoverinfo": "text",
         "marker": {
          "color": "rgb(0,116,217)"
         },
         "mode": "lines",
         "type": "scatter",
         "x": [
          11.196487760859645,
          13.491488891043,
          13.491488891043,
          4.19210456150781
         ],
         "xaxis": "x",
         "y": [
          -2134.0475463867188,
          -2134.0475463867188,
          -3439.53125,
          -3439.53125
         ],
         "yaxis": "y"
        },
        {
         "hoverinfo": "text",
         "marker": {
          "color": "rgb(0,116,217)"
         },
         "mode": "lines",
         "type": "scatter",
         "x": [
          9.306393249915415,
          25.13298778115837,
          25.13298778115837,
          13.491488891043
         ],
         "xaxis": "x",
         "y": [
          -322.802734375,
          -322.802734375,
          -2786.7893981933594,
          -2786.7893981933594
         ],
         "yaxis": "y"
        }
       ],
       "layout": {
        "autosize": false,
        "height": 5480,
        "hoverlabel": {
         "bgcolor": "white",
         "font": {
          "family": "Rockwell",
          "size": 16
         }
        },
        "hovermode": "closest",
        "plot_bgcolor": "#ECEFF1",
        "showlegend": false,
        "template": {
         "data": {
          "bar": [
           {
            "error_x": {
             "color": "#2a3f5f"
            },
            "error_y": {
             "color": "#2a3f5f"
            },
            "marker": {
             "line": {
              "color": "white",
              "width": 0.5
             },
             "pattern": {
              "fillmode": "overlay",
              "size": 10,
              "solidity": 0.2
             }
            },
            "type": "bar"
           }
          ],
          "barpolar": [
           {
            "marker": {
             "line": {
              "color": "white",
              "width": 0.5
             },
             "pattern": {
              "fillmode": "overlay",
              "size": 10,
              "solidity": 0.2
             }
            },
            "type": "barpolar"
           }
          ],
          "carpet": [
           {
            "aaxis": {
             "endlinecolor": "#2a3f5f",
             "gridcolor": "#C8D4E3",
             "linecolor": "#C8D4E3",
             "minorgridcolor": "#C8D4E3",
             "startlinecolor": "#2a3f5f"
            },
            "baxis": {
             "endlinecolor": "#2a3f5f",
             "gridcolor": "#C8D4E3",
             "linecolor": "#C8D4E3",
             "minorgridcolor": "#C8D4E3",
             "startlinecolor": "#2a3f5f"
            },
            "type": "carpet"
           }
          ],
          "choropleth": [
           {
            "colorbar": {
             "outlinewidth": 0,
             "ticks": ""
            },
            "type": "choropleth"
           }
          ],
          "contour": [
           {
            "colorbar": {
             "outlinewidth": 0,
             "ticks": ""
            },
            "colorscale": [
             [
              0,
              "#0d0887"
             ],
             [
              0.1111111111111111,
              "#46039f"
             ],
             [
              0.2222222222222222,
              "#7201a8"
             ],
             [
              0.3333333333333333,
              "#9c179e"
             ],
             [
              0.4444444444444444,
              "#bd3786"
             ],
             [
              0.5555555555555556,
              "#d8576b"
             ],
             [
              0.6666666666666666,
              "#ed7953"
             ],
             [
              0.7777777777777778,
              "#fb9f3a"
             ],
             [
              0.8888888888888888,
              "#fdca26"
             ],
             [
              1,
              "#f0f921"
             ]
            ],
            "type": "contour"
           }
          ],
          "contourcarpet": [
           {
            "colorbar": {
             "outlinewidth": 0,
             "ticks": ""
            },
            "type": "contourcarpet"
           }
          ],
          "heatmap": [
           {
            "colorbar": {
             "outlinewidth": 0,
             "ticks": ""
            },
            "colorscale": [
             [
              0,
              "#0d0887"
             ],
             [
              0.1111111111111111,
              "#46039f"
             ],
             [
              0.2222222222222222,
              "#7201a8"
             ],
             [
              0.3333333333333333,
              "#9c179e"
             ],
             [
              0.4444444444444444,
              "#bd3786"
             ],
             [
              0.5555555555555556,
              "#d8576b"
             ],
             [
              0.6666666666666666,
              "#ed7953"
             ],
             [
              0.7777777777777778,
              "#fb9f3a"
             ],
             [
              0.8888888888888888,
              "#fdca26"
             ],
             [
              1,
              "#f0f921"
             ]
            ],
            "type": "heatmap"
           }
          ],
          "heatmapgl": [
           {
            "colorbar": {
             "outlinewidth": 0,
             "ticks": ""
            },
            "colorscale": [
             [
              0,
              "#0d0887"
             ],
             [
              0.1111111111111111,
              "#46039f"
             ],
             [
              0.2222222222222222,
              "#7201a8"
             ],
             [
              0.3333333333333333,
              "#9c179e"
             ],
             [
              0.4444444444444444,
              "#bd3786"
             ],
             [
              0.5555555555555556,
              "#d8576b"
             ],
             [
              0.6666666666666666,
              "#ed7953"
             ],
             [
              0.7777777777777778,
              "#fb9f3a"
             ],
             [
              0.8888888888888888,
              "#fdca26"
             ],
             [
              1,
              "#f0f921"
             ]
            ],
            "type": "heatmapgl"
           }
          ],
          "histogram": [
           {
            "marker": {
             "pattern": {
              "fillmode": "overlay",
              "size": 10,
              "solidity": 0.2
             }
            },
            "type": "histogram"
           }
          ],
          "histogram2d": [
           {
            "colorbar": {
             "outlinewidth": 0,
             "ticks": ""
            },
            "colorscale": [
             [
              0,
              "#0d0887"
             ],
             [
              0.1111111111111111,
              "#46039f"
             ],
             [
              0.2222222222222222,
              "#7201a8"
             ],
             [
              0.3333333333333333,
              "#9c179e"
             ],
             [
              0.4444444444444444,
              "#bd3786"
             ],
             [
              0.5555555555555556,
              "#d8576b"
             ],
             [
              0.6666666666666666,
              "#ed7953"
             ],
             [
              0.7777777777777778,
              "#fb9f3a"
             ],
             [
              0.8888888888888888,
              "#fdca26"
             ],
             [
              1,
              "#f0f921"
             ]
            ],
            "type": "histogram2d"
           }
          ],
          "histogram2dcontour": [
           {
            "colorbar": {
             "outlinewidth": 0,
             "ticks": ""
            },
            "colorscale": [
             [
              0,
              "#0d0887"
             ],
             [
              0.1111111111111111,
              "#46039f"
             ],
             [
              0.2222222222222222,
              "#7201a8"
             ],
             [
              0.3333333333333333,
              "#9c179e"
             ],
             [
              0.4444444444444444,
              "#bd3786"
             ],
             [
              0.5555555555555556,
              "#d8576b"
             ],
             [
              0.6666666666666666,
              "#ed7953"
             ],
             [
              0.7777777777777778,
              "#fb9f3a"
             ],
             [
              0.8888888888888888,
              "#fdca26"
             ],
             [
              1,
              "#f0f921"
             ]
            ],
            "type": "histogram2dcontour"
           }
          ],
          "mesh3d": [
           {
            "colorbar": {
             "outlinewidth": 0,
             "ticks": ""
            },
            "type": "mesh3d"
           }
          ],
          "parcoords": [
           {
            "line": {
             "colorbar": {
              "outlinewidth": 0,
              "ticks": ""
             }
            },
            "type": "parcoords"
           }
          ],
          "pie": [
           {
            "automargin": true,
            "type": "pie"
           }
          ],
          "scatter": [
           {
            "fillpattern": {
             "fillmode": "overlay",
             "size": 10,
             "solidity": 0.2
            },
            "type": "scatter"
           }
          ],
          "scatter3d": [
           {
            "line": {
             "colorbar": {
              "outlinewidth": 0,
              "ticks": ""
             }
            },
            "marker": {
             "colorbar": {
              "outlinewidth": 0,
              "ticks": ""
             }
            },
            "type": "scatter3d"
           }
          ],
          "scattercarpet": [
           {
            "marker": {
             "colorbar": {
              "outlinewidth": 0,
              "ticks": ""
             }
            },
            "type": "scattercarpet"
           }
          ],
          "scattergeo": [
           {
            "marker": {
             "colorbar": {
              "outlinewidth": 0,
              "ticks": ""
             }
            },
            "type": "scattergeo"
           }
          ],
          "scattergl": [
           {
            "marker": {
             "colorbar": {
              "outlinewidth": 0,
              "ticks": ""
             }
            },
            "type": "scattergl"
           }
          ],
          "scattermapbox": [
           {
            "marker": {
             "colorbar": {
              "outlinewidth": 0,
              "ticks": ""
             }
            },
            "type": "scattermapbox"
           }
          ],
          "scatterpolar": [
           {
            "marker": {
             "colorbar": {
              "outlinewidth": 0,
              "ticks": ""
             }
            },
            "type": "scatterpolar"
           }
          ],
          "scatterpolargl": [
           {
            "marker": {
             "colorbar": {
              "outlinewidth": 0,
              "ticks": ""
             }
            },
            "type": "scatterpolargl"
           }
          ],
          "scatterternary": [
           {
            "marker": {
             "colorbar": {
              "outlinewidth": 0,
              "ticks": ""
             }
            },
            "type": "scatterternary"
           }
          ],
          "surface": [
           {
            "colorbar": {
             "outlinewidth": 0,
             "ticks": ""
            },
            "colorscale": [
             [
              0,
              "#0d0887"
             ],
             [
              0.1111111111111111,
              "#46039f"
             ],
             [
              0.2222222222222222,
              "#7201a8"
             ],
             [
              0.3333333333333333,
              "#9c179e"
             ],
             [
              0.4444444444444444,
              "#bd3786"
             ],
             [
              0.5555555555555556,
              "#d8576b"
             ],
             [
              0.6666666666666666,
              "#ed7953"
             ],
             [
              0.7777777777777778,
              "#fb9f3a"
             ],
             [
              0.8888888888888888,
              "#fdca26"
             ],
             [
              1,
              "#f0f921"
             ]
            ],
            "type": "surface"
           }
          ],
          "table": [
           {
            "cells": {
             "fill": {
              "color": "#EBF0F8"
             },
             "line": {
              "color": "white"
             }
            },
            "header": {
             "fill": {
              "color": "#C8D4E3"
             },
             "line": {
              "color": "white"
             }
            },
            "type": "table"
           }
          ]
         },
         "layout": {
          "annotationdefaults": {
           "arrowcolor": "#2a3f5f",
           "arrowhead": 0,
           "arrowwidth": 1
          },
          "autotypenumbers": "strict",
          "coloraxis": {
           "colorbar": {
            "outlinewidth": 0,
            "ticks": ""
           }
          },
          "colorscale": {
           "diverging": [
            [
             0,
             "#8e0152"
            ],
            [
             0.1,
             "#c51b7d"
            ],
            [
             0.2,
             "#de77ae"
            ],
            [
             0.3,
             "#f1b6da"
            ],
            [
             0.4,
             "#fde0ef"
            ],
            [
             0.5,
             "#f7f7f7"
            ],
            [
             0.6,
             "#e6f5d0"
            ],
            [
             0.7,
             "#b8e186"
            ],
            [
             0.8,
             "#7fbc41"
            ],
            [
             0.9,
             "#4d9221"
            ],
            [
             1,
             "#276419"
            ]
           ],
           "sequential": [
            [
             0,
             "#0d0887"
            ],
            [
             0.1111111111111111,
             "#46039f"
            ],
            [
             0.2222222222222222,
             "#7201a8"
            ],
            [
             0.3333333333333333,
             "#9c179e"
            ],
            [
             0.4444444444444444,
             "#bd3786"
            ],
            [
             0.5555555555555556,
             "#d8576b"
            ],
            [
             0.6666666666666666,
             "#ed7953"
            ],
            [
             0.7777777777777778,
             "#fb9f3a"
            ],
            [
             0.8888888888888888,
             "#fdca26"
            ],
            [
             1,
             "#f0f921"
            ]
           ],
           "sequentialminus": [
            [
             0,
             "#0d0887"
            ],
            [
             0.1111111111111111,
             "#46039f"
            ],
            [
             0.2222222222222222,
             "#7201a8"
            ],
            [
             0.3333333333333333,
             "#9c179e"
            ],
            [
             0.4444444444444444,
             "#bd3786"
            ],
            [
             0.5555555555555556,
             "#d8576b"
            ],
            [
             0.6666666666666666,
             "#ed7953"
            ],
            [
             0.7777777777777778,
             "#fb9f3a"
            ],
            [
             0.8888888888888888,
             "#fdca26"
            ],
            [
             1,
             "#f0f921"
            ]
           ]
          },
          "colorway": [
           "#636efa",
           "#EF553B",
           "#00cc96",
           "#ab63fa",
           "#FFA15A",
           "#19d3f3",
           "#FF6692",
           "#B6E880",
           "#FF97FF",
           "#FECB52"
          ],
          "font": {
           "color": "#2a3f5f"
          },
          "geo": {
           "bgcolor": "white",
           "lakecolor": "white",
           "landcolor": "white",
           "showlakes": true,
           "showland": true,
           "subunitcolor": "#C8D4E3"
          },
          "hoverlabel": {
           "align": "left"
          },
          "hovermode": "closest",
          "mapbox": {
           "style": "light"
          },
          "paper_bgcolor": "white",
          "plot_bgcolor": "white",
          "polar": {
           "angularaxis": {
            "gridcolor": "#EBF0F8",
            "linecolor": "#EBF0F8",
            "ticks": ""
           },
           "bgcolor": "white",
           "radialaxis": {
            "gridcolor": "#EBF0F8",
            "linecolor": "#EBF0F8",
            "ticks": ""
           }
          },
          "scene": {
           "xaxis": {
            "backgroundcolor": "white",
            "gridcolor": "#DFE8F3",
            "gridwidth": 2,
            "linecolor": "#EBF0F8",
            "showbackground": true,
            "ticks": "",
            "zerolinecolor": "#EBF0F8"
           },
           "yaxis": {
            "backgroundcolor": "white",
            "gridcolor": "#DFE8F3",
            "gridwidth": 2,
            "linecolor": "#EBF0F8",
            "showbackground": true,
            "ticks": "",
            "zerolinecolor": "#EBF0F8"
           },
           "zaxis": {
            "backgroundcolor": "white",
            "gridcolor": "#DFE8F3",
            "gridwidth": 2,
            "linecolor": "#EBF0F8",
            "showbackground": true,
            "ticks": "",
            "zerolinecolor": "#EBF0F8"
           }
          },
          "shapedefaults": {
           "line": {
            "color": "#2a3f5f"
           }
          },
          "ternary": {
           "aaxis": {
            "gridcolor": "#DFE8F3",
            "linecolor": "#A2B1C6",
            "ticks": ""
           },
           "baxis": {
            "gridcolor": "#DFE8F3",
            "linecolor": "#A2B1C6",
            "ticks": ""
           },
           "bgcolor": "white",
           "caxis": {
            "gridcolor": "#DFE8F3",
            "linecolor": "#A2B1C6",
            "ticks": ""
           }
          },
          "title": {
           "x": 0.05
          },
          "xaxis": {
           "automargin": true,
           "gridcolor": "#EBF0F8",
           "linecolor": "#EBF0F8",
           "ticks": "",
           "title": {
            "standoff": 15
           },
           "zerolinecolor": "#EBF0F8",
           "zerolinewidth": 2
          },
          "yaxis": {
           "automargin": true,
           "gridcolor": "#EBF0F8",
           "linecolor": "#EBF0F8",
           "ticks": "",
           "title": {
            "standoff": 15
           },
           "zerolinecolor": "#EBF0F8",
           "zerolinewidth": 2
          }
         }
        },
        "title": {
         "font": {
          "color": "Black",
          "size": 22
         },
         "text": "<b>Hierarchical Clustering</b>",
         "x": 0.5,
         "xanchor": "center",
         "yanchor": "top"
        },
        "width": 1000,
        "xaxis": {
         "mirror": "allticks",
         "rangemode": "tozero",
         "showgrid": false,
         "showline": true,
         "showticklabels": true,
         "ticks": "outside",
         "type": "linear",
         "zeroline": false
        },
        "yaxis": {
         "mirror": "allticks",
         "range": [
          -3520,
          0
         ],
         "rangemode": "tozero",
         "showgrid": false,
         "showline": true,
         "showticklabels": true,
         "tickmode": "array",
         "ticks": "outside",
         "ticktext": [
          "3_énergie_agriculture_écolo...",
          "89_marché_service_halle",
          "21_x92est_qu_x92",
          "2_école_élève_enfant",
          "1_commune_rural_communauté",
          "10_monsieur_président_vouloir",
          "45_monsieur_président_franç...",
          "41_français_pays_falloir",
          "12_français_langue_pays",
          "13_fiscal_fiscalité_évasion",
          "52_fiscal_fiscalité_impôt",
          "0_euro_retraite_pension",
          "8_kilomètre_route_vitesse",
          "272_coefficient_français_md",
          "235_monsieur_fiscal_impôt",
          "196_français_impôt_fiscal",
          "123_commune_français_commun...",
          "72_fiscal_évasion_fraude",
          "222_inflation_indexation_su...",
          "6_français_peuple_étranger",
          "109_monsieur_voter_président",
          "50_violence_jaune_gilet",
          "86_energie_français_référen...",
          "9_élection_vote_blanc",
          "121_élection_vote_république",
          "42_suppression_csg_diminution",
          "285_suppression_réduction_d...",
          "241_sénateur_député_abolition",
          "319_député_sénateur_privilège",
          "274_x95_privilège_député",
          "31_handicap_handicapé_handi...",
          "110_arranger_aller_chose",
          "19_revoir_falloir_salaire",
          "82_musique_danse_conservato...",
          "122_commerce_industrie_fin",
          "306_fraude_faux_milliard",
          "18_fiscal_évasion_fraude",
          "351_fiscal_justice_évasion",
          "155_immigration_migrant_nat...",
          "70_tribunal_justice_tiré",
          "260_produit_taxe_carburant",
          "203_assistant_formation_com...",
          "293_période_saisonnier_inju...",
          "332_écosystème_hydrolienne_...",
          "17_médecin_patient_médical",
          "30_femme_homme_enfant",
          "132_ct_falloir_travail",
          "192_retraité_retraite_petit",
          "218_euro_monsieur_mois",
          "25_message_postal_com",
          "7_commune_rural_maire",
          "101_aspiration_envoi_fondette",
          "185_anonyme_constructif_pou...",
          "220_monsieur_courrier_maire",
          "5_monsieur_président_macron",
          "55_monsieur_aérogénérateur_...",
          "118_plomelin_finistère_illu...",
          "204_réunion_participant_int...",
          "112_atelier_groupe_synthèse",
          "254_thème_pertinent_problém...",
          "281_débat_débattre_inviter",
          "223_débat_désigner_caserne",
          "81_consultation_thématique_...",
          "213_officiellement_thématiq...",
          "63_contribution_thème_souha...",
          "135_onglet_dépose_informé",
          "149_arrondissement_dysfonct...",
          "20_arrondissement_dysfoncti...",
          "349_arrondissement_approfon...",
          "58_mourir_légalisation_euth...",
          "256_mourir_légalisation_eut...",
          "78_mourir_légalisation_euth...",
          "243_légalisation_mourir_eut...",
          "23_mourir_légalisation_euth...",
          "157_mourir_euthanasie_légal...",
          "183_mourir_légalisation_actif",
          "206_mourir_actif_létal",
          "279_cmu_confondre_cumul",
          "232_cmu_cumul_confondre",
          "138_consulat_attestation_co...",
          "214_copain_pointage_réélu",
          "44_kilomètre_heure_route",
          "53_kilomètre_heure_vitesse",
          "40_euro_mois_retraite",
          "4_augmentation_retraite_csg",
          "347_humble_diminuer_ancien",
          "37_privilège_abolition_séna...",
          "71_femme_homme_enfant",
          "94_justice_prison_police",
          "75_jaune_gilet_jeune",
          "301_jamais_palliatits_passe...",
          "318_malaise_lumière_initier",
          "111_pesticide_glyphosate_in...",
          "134_animal_élevage_chasse",
          "144_cannabis_canna_légaliser",
          "161_toucher_irfm_élu",
          "151_culture_mobilité_embauche",
          "104_immigration_migrant_quota",
          "154_abrogation_châteal_redo...",
          "117_inaliénable_policier_main",
          "242_expulsion_gouvernant_vi...",
          "181_anti_préventive_cliniqu...",
          "148_indépendance_cliniqueme...",
          "43_préfecture_préfet_février",
          "98_monsieur_prier_fr",
          "114_fiche_pétitionnaire_con...",
          "178_préalablement_message_r...",
          "102_crise_illustre_exaction",
          "74_secrétariat_medoc_lesparre",
          "219_bruz_entrée_accueil",
          "334_revendication_média_prive",
          "208_épandage_exaspération_a...",
          "225_amrf_avenue_maires_rurau",
          "124_expression_maillon_modé...",
          "316_métropole_maire_saône",
          "113_modalité_intégration_ef...",
          "307_démocratie_évoluer_prat...",
          "200_organisation_exprimer_p...",
          "191_citoyenneté_transition_...",
          "336_thème_sablet_référant",
          "175_formulaire_https_départ...",
          "266_chelle_invite_débat",
          "182_donnée_recueil_montivil...",
          "211_donnée_montivillier_rec...",
          "280_fontenay_tableau_satisf...",
          "207_mouvement_présidence_in...",
          "236_colère_informé_idée",
          "237_grignoise_grignoi_grign...",
          "267_passionnément_trithoise...",
          "305_foyer_librement_questio...",
          "275_synthèse_parole_anonyme",
          "105_impatiemment_suggestion...",
          "162_rebâtir_accepter_penser",
          "174_électronique_contenu_co...",
          "251_expressif_revendicatif_...",
          "309_rubelle_travers_louvier",
          "261_noreply_20citoyen_ultime",
          "276_fiche_parisien_conférence",
          "125_contribution_injurieux_...",
          "303_piver_expédier_formulaire",
          "65_formulaire_solution_facu...",
          "331_thématique_facultatif_s...",
          "77_thématique_facultatif_so...",
          "271_cognac_facultatif_page",
          "46_q3_q4_adresser",
          "168_giberville_scanner_feui...",
          "344_soumettre_hélaine_770",
          "299_viroflay_lanlay_repondre",
          "91_neuilly_neuillyplaisance...",
          "59_paris_formulaire_backoff...",
          "302_fallavier_quentin_compl...",
          "103_hyeres_soumission_soume...",
          "88_hyeres_soumettre_soumiss...",
          "340_traiter_ordre_priorité",
          "39_date_traiter_ordre",
          "186_traiter_dampmart_amif",
          "296_amif_asso_secretariat",
          "93_amif_asso_secretariat",
          "327_sein_établissement_cart...",
          "180_million_sdi_acheminer",
          "269_administration_service_...",
          "167_administration_transpar...",
          "209_administration_identifi...",
          "85_évoluer_renoncer_positif",
          "284_évoluer_renoncer_complexe",
          "263_oui_erreur_foi",
          "90_erreur_oui_foi",
          "47_km_démarche_parcourir",
          "26_organisation_administrat...",
          "199_réponse_démarche_vou",
          "171_agent_chose_démarche",
          "92_agent_chose_démarche",
          "188_chose_mauvais_agent",
          "273_cofinancer_écologique_r...",
          "140_réponse_compétitif_écol...",
          "197_réponse_transition_écol...",
          "69_transition_écologique_éc...",
          "215_ore_chauffer_consommer",
          "335_chauffer_ore_consommer",
          "165_température_climat_chaude",
          "193_température_serre_chaude",
          "108_isoler_identifier_zéro",
          "304_pib_comparable_encourager",
          "326_éolien_sectoriel_euro",
          "176_redistribution_allocati...",
          "226_pib_élevé_dépense",
          "255_pib_élevé_dépense",
          "190_élevé_pib_dépense",
          "27_dépense_fiscalité_réponse",
          "36_dépense_domaine_réponse",
          "49_prêt_bénéfique_tabac",
          "325_dépense_réponse_59",
          "308_partager_contribuer_thème",
          "100_libre_expression_défi",
          "24_libre_expression_défi",
          "194_améliorer_décentralisat...",
          "270_vieux_concret_améliorer",
          "126_transition_biodiversité...",
          "277_représenta_xad_tion",
          "239_destin_réussir_insatisf...",
          "312_destin_réussir_interrog...",
          "216_destin_xad_réussir",
          "116_prive_utilement_contrac...",
          "198_questionnair_x92aide_xad",
          "348_pétition_identifiant_vo...",
          "314_phase_ème_pétition",
          "163_initiative_etape_article",
          "224_peuple_supposer_définit...",
          "248_traité_pétition_article",
          "143_traité_pétition_page",
          "217_référendum_constitution...",
          "11_vote_blanc_référendum",
          "231_vote_blanc_voter",
          "56_davantage_recours_oui",
          "34_déclenchement_initiative...",
          "28_oui_renouer_rôle",
          "29_migratoire_immigration_d...",
          "289_religion_réciproque_int...",
          "287_laïcité_nation_avenir",
          "329_laïcité_communau_nation",
          "68_laïcité_renforcer_récipr...",
          "350_laïcité_renforcer_intan...",
          "173_laïcité_gauche_tradition",
          "282_laïcité_tradition_princ...",
          "244_asile_million_laïcité",
          "322_institution_million_2nd",
          "152_institution_million_2nd",
          "169_asile_délivrer_progresser",
          "268_asile_délivrer_progresser",
          "202_chauffage_oui_comportem...",
          "139_chauffage_environnement...",
          "234_chauffage_environnement...",
          "129_alternatif_chauffage_co...",
          "229_alternatif_environnemen...",
          "32_climatique_environnement...",
          "153_alternatif_déplacement_...",
          "145_alternatif_mobilité_dép...",
          "283_alternatif_mobilité_sol...",
          "321_alternatif_covoiturage_...",
          "80_eaux_amand_les",
          "170_amand_les_saint",
          "320_ici_prénom_debraber",
          "156_actualité_avenue_tél",
          "338_soutien_rencontre_patron",
          "228_concitoyen_verbalement_...",
          "346_amrf_association_fédérer",
          "264_ville_centre_naval",
          "128_devillele_dignelesbains...",
          "310_poissy_nosideespourlafr...",
          "115_bonjour_joint_cordialem...",
          "313_réclamation_récépisser_...",
          "342_numéro_relatif_1978",
          "297_submission_displays_vau...",
          "87_marseille_mdegert_submis...",
          "298_réconcilier_postal_couv...",
          "146_2019_01_2018",
          "33_prénom_nom_date",
          "177_signature_pri_renseigner",
          "233_retourner_déposer_docum...",
          "333_retourner_facultatif_sy...",
          "189_facultatif_cocher_thème",
          "97_transmettre_préfecture_r...",
          "187_préfecture_sous_prefect...",
          "22_février_registre_clôturer",
          "290_arrondissement_ligré_ch...",
          "48_wanadoo_fr_mairie",
          "16_cahierscitoyens_granddeb...",
          "107_image_proposition_docum...",
          "106_document_transmettre_pr...",
          "345_document_transmettre_pr...",
          "142_cahier_citoyen_st",
          "79_cahier_débat_national",
          "62_cahier_débat_national",
          "247_préfet_porter_certifier",
          "141_préfet_porter_certifier",
          "238_républiqu_préfet_numéro",
          "159_rajout_rayer_cachet",
          "96_rajout_rayer_page",
          "294_incivilité_civique_comp...",
          "66_incivilité_civique_engag...",
          "51_discrimination_incivilit...",
          "195_fraternelle_annuité_ant...",
          "288_fraternelle_antisocial_...",
          "343_volaille_pétition_vaccin",
          "160_volaille_vaccin_conditi...",
          "99_handicapé_handicap_handi...",
          "73_observation_fanny_active",
          "245_assainissement_autosurv...",
          "158_éventuel_rencontre_bioc...",
          "257_bus_ticket_transport",
          "150_service_maintient_public",
          "317_pension_retraité_deçà",
          "136_médecin_patient_médecine",
          "240_vaccin_vaccination_vacc...",
          "120_club_poney_sport",
          "227_équestre_atypique_club",
          "83_jaune_gilet_soutenir",
          "311_liste_gilet_européen",
          "337_élite_tentative_blessé",
          "265_probablement_solaire_dé...",
          "291_contentieux_traité_claq...",
          "278_vétérinaire_sanitaire_p...",
          "315_baisse_tva_patronal",
          "324_trop_taxe_pouvoitr",
          "205_vivre_survivre_caron",
          "172_génome_semencière_nanop...",
          "339_etival_utf_charset",
          "300_nucléaire_corps_antidém...",
          "249_pseudo_jon_avatar",
          "246_difficulté_couverture_r...",
          "341_musicien_musique_salle",
          "323_charte_participant_diff...",
          "330_article_décembre_fondam...",
          "84_bnri_retard_calendrier",
          "252_retard_bnri_calendrier",
          "137_satisfaction_référent_r...",
          "179_tableau_satisfaction_me...",
          "164_tableau_texte_cahier",
          "35_écrire_page_fin",
          "230_suite_page_llisibl",
          "130_veuve_part_demi",
          "253_démission_macron_demiss...",
          "262_voisin_pareil_truelle",
          "210_texte_paragraphe_couper",
          "133_illisble_ix_bq",
          "14___",
          "259_illisible__",
          "258_st_germain_savin",
          "292_questionnaire_incompréh...",
          "147_image__",
          "295_donateur_image_gallium",
          "67_ric_mise_place",
          "212_ric_matière_matiere",
          "38_peine_détenu_exécution",
          "95_victime_relaxe_appel",
          "54_victime_relaxe_appel",
          "60_victime_relaxe_appel",
          "15_patron_collectif_petit",
          "131_entrepreneur_risque_div...",
          "61_patron_dividende_risque",
          "64_patron_entrepreneur_risque",
          "221_cautionner_doléance_rec...",
          "328_dividende_sarl_gérant",
          "250_dividende_gérant_sarl",
          "166_dividende_sarl_gérant",
          "184_dividende_sarl_cotisation",
          "57_dividende_soumettre_cahu...",
          "201_cahuzac_littéralement_s...",
          "76_dividende_cahuzac_littér...",
          "286_dividende_soumettre_lit...",
          "127_littéralement_cahuzac_p...",
          "119_cahuzac_confiscatoire_s..."
         ],
         "tickvals": [
          -5,
          -15,
          -25,
          -35,
          -45,
          -55,
          -65,
          -75,
          -85,
          -95,
          -105,
          -115,
          -125,
          -135,
          -145,
          -155,
          -165,
          -175,
          -185,
          -195,
          -205,
          -215,
          -225,
          -235,
          -245,
          -255,
          -265,
          -275,
          -285,
          -295,
          -305,
          -315,
          -325,
          -335,
          -345,
          -355,
          -365,
          -375,
          -385,
          -395,
          -405,
          -415,
          -425,
          -435,
          -445,
          -455,
          -465,
          -475,
          -485,
          -495,
          -505,
          -515,
          -525,
          -535,
          -545,
          -555,
          -565,
          -575,
          -585,
          -595,
          -605,
          -615,
          -625,
          -635,
          -645,
          -655,
          -665,
          -675,
          -685,
          -695,
          -705,
          -715,
          -725,
          -735,
          -745,
          -755,
          -765,
          -775,
          -785,
          -795,
          -805,
          -815,
          -825,
          -835,
          -845,
          -855,
          -865,
          -875,
          -885,
          -895,
          -905,
          -915,
          -925,
          -935,
          -945,
          -955,
          -965,
          -975,
          -985,
          -995,
          -1005,
          -1015,
          -1025,
          -1035,
          -1045,
          -1055,
          -1065,
          -1075,
          -1085,
          -1095,
          -1105,
          -1115,
          -1125,
          -1135,
          -1145,
          -1155,
          -1165,
          -1175,
          -1185,
          -1195,
          -1205,
          -1215,
          -1225,
          -1235,
          -1245,
          -1255,
          -1265,
          -1275,
          -1285,
          -1295,
          -1305,
          -1315,
          -1325,
          -1335,
          -1345,
          -1355,
          -1365,
          -1375,
          -1385,
          -1395,
          -1405,
          -1415,
          -1425,
          -1435,
          -1445,
          -1455,
          -1465,
          -1475,
          -1485,
          -1495,
          -1505,
          -1515,
          -1525,
          -1535,
          -1545,
          -1555,
          -1565,
          -1575,
          -1585,
          -1595,
          -1605,
          -1615,
          -1625,
          -1635,
          -1645,
          -1655,
          -1665,
          -1675,
          -1685,
          -1695,
          -1705,
          -1715,
          -1725,
          -1735,
          -1745,
          -1755,
          -1765,
          -1775,
          -1785,
          -1795,
          -1805,
          -1815,
          -1825,
          -1835,
          -1845,
          -1855,
          -1865,
          -1875,
          -1885,
          -1895,
          -1905,
          -1915,
          -1925,
          -1935,
          -1945,
          -1955,
          -1965,
          -1975,
          -1985,
          -1995,
          -2005,
          -2015,
          -2025,
          -2035,
          -2045,
          -2055,
          -2065,
          -2075,
          -2085,
          -2095,
          -2105,
          -2115,
          -2125,
          -2135,
          -2145,
          -2155,
          -2165,
          -2175,
          -2185,
          -2195,
          -2205,
          -2215,
          -2225,
          -2235,
          -2245,
          -2255,
          -2265,
          -2275,
          -2285,
          -2295,
          -2305,
          -2315,
          -2325,
          -2335,
          -2345,
          -2355,
          -2365,
          -2375,
          -2385,
          -2395,
          -2405,
          -2415,
          -2425,
          -2435,
          -2445,
          -2455,
          -2465,
          -2475,
          -2485,
          -2495,
          -2505,
          -2515,
          -2525,
          -2535,
          -2545,
          -2555,
          -2565,
          -2575,
          -2585,
          -2595,
          -2605,
          -2615,
          -2625,
          -2635,
          -2645,
          -2655,
          -2665,
          -2675,
          -2685,
          -2695,
          -2705,
          -2715,
          -2725,
          -2735,
          -2745,
          -2755,
          -2765,
          -2775,
          -2785,
          -2795,
          -2805,
          -2815,
          -2825,
          -2835,
          -2845,
          -2855,
          -2865,
          -2875,
          -2885,
          -2895,
          -2905,
          -2915,
          -2925,
          -2935,
          -2945,
          -2955,
          -2965,
          -2975,
          -2985,
          -2995,
          -3005,
          -3015,
          -3025,
          -3035,
          -3045,
          -3055,
          -3065,
          -3075,
          -3085,
          -3095,
          -3105,
          -3115,
          -3125,
          -3135,
          -3145,
          -3155,
          -3165,
          -3175,
          -3185,
          -3195,
          -3205,
          -3215,
          -3225,
          -3235,
          -3245,
          -3255,
          -3265,
          -3275,
          -3285,
          -3295,
          -3305,
          -3315,
          -3325,
          -3335,
          -3345,
          -3355,
          -3365,
          -3375,
          -3385,
          -3395,
          -3405,
          -3415,
          -3425,
          -3435,
          -3445,
          -3455,
          -3465,
          -3475,
          -3485,
          -3495,
          -3505,
          -3515
         ],
         "type": "linear",
         "zeroline": false
        }
       }
      }
     },
     "metadata": {},
     "output_type": "display_data"
    }
   ],
   "source": [
    "hierarchie.show()"
   ]
  },
  {
   "cell_type": "code",
   "execution_count": null,
   "metadata": {},
   "outputs": [],
   "source": []
  }
 ],
 "metadata": {
  "kernelspec": {
   "display_name": "my4env",
   "language": "python",
   "name": "python3"
  },
  "language_info": {
   "codemirror_mode": {
    "name": "ipython",
    "version": 3
   },
   "file_extension": ".py",
   "mimetype": "text/x-python",
   "name": "python",
   "nbconvert_exporter": "python",
   "pygments_lexer": "ipython3",
   "version": "3.10.10"
  },
  "orig_nbformat": 4
 },
 "nbformat": 4,
 "nbformat_minor": 2
}

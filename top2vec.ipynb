{
 "cells": [
  {
   "cell_type": "code",
   "execution_count": 23,
   "metadata": {},
   "outputs": [],
   "source": [
    "import pandas as pd\n",
    "# import spacy\n",
    "import torch\n",
    "\n",
    "\n",
    "df = pd.read_csv(\"contrib_from_csv.csv\", sep = \",\", dtype= str)\n",
    "\n",
    "# sample d'un très petit échantillon pour cet ordi\n",
    "df = df.sample(1000)"
   ]
  },
  {
   "cell_type": "code",
   "execution_count": 24,
   "metadata": {},
   "outputs": [],
   "source": [
    "# pour nettoyer les divers breakline marks et les mots notés illisibles\n",
    "\n",
    "join_breaklines = lambda x : x.replace(\"\\x0b\",\" \") \n",
    "join_breaklinesn = lambda x : x.replace(\"\\n\",\" \") \n",
    "kill_texte_illisible = lambda x : x.replace(\"texte illisible\", \"\")\n",
    "kill_illisible = lambda x : x.replace(\"illisible\", \"\")\n",
    "kill_illisible_plural = lambda x : x.replace(\"illisibles\", \"\")"
   ]
  },
  {
   "cell_type": "code",
   "execution_count": 25,
   "metadata": {},
   "outputs": [],
   "source": [
    "df[\"clean\"] = df[\"Contribution\"].apply(join_breaklines)\n",
    "df[\"clean\"] = df[\"clean\"].apply(join_breaklinesn)\n",
    "df[\"clean\"] = df[\"clean\"].apply(kill_texte_illisible)\n",
    "df[\"clean\"] = df[\"clean\"].apply(kill_illisible)\n",
    "df[\"clean\"] = df[\"clean\"].apply(kill_illisible_plural)"
   ]
  },
  {
   "cell_type": "code",
   "execution_count": 26,
   "metadata": {},
   "outputs": [
    {
     "data": {
      "text/html": [
       "<div>\n",
       "<style scoped>\n",
       "    .dataframe tbody tr th:only-of-type {\n",
       "        vertical-align: middle;\n",
       "    }\n",
       "\n",
       "    .dataframe tbody tr th {\n",
       "        vertical-align: top;\n",
       "    }\n",
       "\n",
       "    .dataframe thead th {\n",
       "        text-align: right;\n",
       "    }\n",
       "</style>\n",
       "<table border=\"1\" class=\"dataframe\">\n",
       "  <thead>\n",
       "    <tr style=\"text-align: right;\">\n",
       "      <th></th>\n",
       "      <th>Catégorie</th>\n",
       "      <th>Date de réception</th>\n",
       "      <th>Code postal</th>\n",
       "      <th>Code INSEE</th>\n",
       "      <th>Numéro d'ordre arbitraire</th>\n",
       "      <th>Type Graphie TT</th>\n",
       "      <th>Numéro de page</th>\n",
       "      <th>Numéro séquentiel</th>\n",
       "      <th>Contribution</th>\n",
       "      <th>joined_id</th>\n",
       "      <th>clean</th>\n",
       "    </tr>\n",
       "  </thead>\n",
       "  <tbody>\n",
       "    <tr>\n",
       "      <th>38229</th>\n",
       "      <td>CC</td>\n",
       "      <td>190225</td>\n",
       "      <td>85540</td>\n",
       "      <td>85206</td>\n",
       "      <td>07078</td>\n",
       "      <td>MD</td>\n",
       "      <td>11</td>\n",
       "      <td>5</td>\n",
       "      <td>Service des urgences: \u000b",
       "Établir des priorités pour les prises en charges: directions nationales \u000b",
       "ex: refuser de soigner dans [mot illisible]\u000b",
       "ou va notre argent?\u000b",
       "Qui coûte cher? \u000b",
       "mes parlementaires\u000b",
       "eu limiter le nombre\u000b",
       "nos hauts fonctionnaires\u000b",
       "nos retraités de l'armée\u000b",
       "nos anciens présidents de la République:\u000b",
       "ex: nos anciens Présidents à la retraite, même si depuis octobre 2016, institue la dégressivité des moyens dévolus à ,nos ex présidents\u000b",
       "Valéry Giscard d'Etaing: dépense de l'Etat 3,9 millions £/an \u000b",
       "Nicolas Larkazy: dépense de l'Etat 3,3 millions £/an\u000b",
       "Jacques Chirac: dépense de l'Etat 2,4 millions £/an \u000b",
       "9,6 millions £/an\u000b",
       "Que se passera t-il pour E. MACRON? il aura 44 ans dans 5 ans \u000b",
       "Le contribuable doit payer pendant de nombreux années!!!...</td>\n",
       "      <td>CC_85540_190225_85206_MD_07078</td>\n",
       "      <td>Service des urgences:  Établir des priorités pour les prises en charges: directions nationales  ex: refuser de soigner dans [mot ] ou va notre argent? Qui coûte cher?  mes parlementaires eu limiter le nombre nos hauts fonctionnaires nos retraités de l'armée nos anciens présidents de la République: ex: nos anciens Présidents à la retraite, même si depuis octobre 2016, institue la dégressivité des moyens dévolus à ,nos ex présidents Valéry Giscard d'Etaing: dépense de l'Etat 3,9 millions £/an  Nicolas Larkazy: dépense de l'Etat 3,3 millions £/an Jacques Chirac: dépense de l'Etat 2,4 millions £/an  9,6 millions £/an Que se passera t-il pour E. MACRON? il aura 44 ans dans 5 ans  Le contribuable doit payer pendant de nombreux années!!!...</td>\n",
       "    </tr>\n",
       "    <tr>\n",
       "      <th>89485</th>\n",
       "      <td>CC</td>\n",
       "      <td>190322</td>\n",
       "      <td>78850</td>\n",
       "      <td>78615</td>\n",
       "      <td>19644</td>\n",
       "      <td>MD</td>\n",
       "      <td>5</td>\n",
       "      <td>3</td>\n",
       "      <td>Le 11/01/2019\\nPuisqu'une famille peut très bien vivre alors que le mariage ne touche que le SMIC. Pourquoi nos Parlementaires ne seraient-ils pas rétribués ainsi ce qui ferait. Je pense de très importantes économies au lieu d'aller piocher dans la poche des retraites. D'autre part que l'on arrête un peu de rémunérer dans les guerres internationales. Depuis 1989, la France est en Guerre que l'un arrête un peu ces rémunérés, en attendant c'est le peuple qui paie.</td>\n",
       "      <td>CC_78850_190322_78615_MD_19644</td>\n",
       "      <td>Le 11/01/2019 Puisqu'une famille peut très bien vivre alors que le mariage ne touche que le SMIC. Pourquoi nos Parlementaires ne seraient-ils pas rétribués ainsi ce qui ferait. Je pense de très importantes économies au lieu d'aller piocher dans la poche des retraites. D'autre part que l'on arrête un peu de rémunérer dans les guerres internationales. Depuis 1989, la France est en Guerre que l'un arrête un peu ces rémunérés, en attendant c'est le peuple qui paie.</td>\n",
       "    </tr>\n",
       "    <tr>\n",
       "      <th>107664</th>\n",
       "      <td>CC</td>\n",
       "      <td>190228</td>\n",
       "      <td>07500</td>\n",
       "      <td>07102</td>\n",
       "      <td>15164</td>\n",
       "      <td>MD</td>\n",
       "      <td>24</td>\n",
       "      <td>4</td>\n",
       "      <td>Cahier de doléances :\\nMadame Oebanne Claude\\nJ'apporte ma « pierre à l'édifice » que devrait être ce débat.\\nIl ne peut en être autrement ayant toujours voté socialiste, milité et exercé avec passion mon rôle de professeur des collèges.\\nJe suis horrifiée par la violence, la haine qui ravage notre pays !\\nQue veulent ces « gilets jaunes ?» Le savent-ils ? Ont-ils conscience qu'ils sont des jouets entre les\\nmains d'extrémistes ?\\nPlus de justice sociale devant l'impôt : tout le monde devrait payer celui sur le revenu, même une somme symbolique pour les plus démunis.\\nLa CSG devrait être comprise dans l'IR pour plus de progressivité.\\nPlus de justice sociale en « mettant le paquet » sur l'école. Bravo pour le dédoublement de certains\\nCP ; mais je regrette beaucoup que Mr. Blanquer ait supprimé les rythmes scolaires du quinquennat\\nprécédent. Ils prenaient en compte l'intérêt de l'enfant : apprentissage le matin et surtout des\\nactivités culturelles, sportives et artistiques en 2'^™ partie de journée. Les communes n'ont pas joué le jeu, trop souvent par idéologie!!!Où est l'égalité entre celui qui peut offrir à ses enfants des cours au conservatoire, la licence de tennis ...et celui qui gagne le SMIC ????? sans parler de ceux qui dorment dans la rue I\\nPlus de justice sociale dans le logement :\\n-encadrement des loyers (très grande sévérité pour les marchands de sommeil)\\n-suppression de la taxe d'habitation pour tous\\n-accroître les aides pour l'aménagement thermique de l'habitat, mais en le soumettant à un plafond de ressources\\n-sécuriser l'habitat vétuste en finançant les travaux par un pourcentage de l'écotaxe ressource inévitable. A ce sujet, obtenir de Bruxelles, un dédommagement pour ta pollution provoquée par les\\nmilliers de camions venus de toute l'Europe qui traversent notre territoire.\\nAdapter les allocations familiales aux ressources du foyer fiscal.\\nÉCOLOGIE :\\nPromouvoir les énergies durables\\nFermer les centrales nucléaires les plus anciennes\\nEPR= ???? un gouffre financier ! sera-t-il rentable un jour ?</td>\n",
       "      <td>CC_07500_190228_07102_MD_15164</td>\n",
       "      <td>Cahier de doléances : Madame Oebanne Claude J'apporte ma « pierre à l'édifice » que devrait être ce débat. Il ne peut en être autrement ayant toujours voté socialiste, milité et exercé avec passion mon rôle de professeur des collèges. Je suis horrifiée par la violence, la haine qui ravage notre pays ! Que veulent ces « gilets jaunes ?» Le savent-ils ? Ont-ils conscience qu'ils sont des jouets entre les mains d'extrémistes ? Plus de justice sociale devant l'impôt : tout le monde devrait payer celui sur le revenu, même une somme symbolique pour les plus démunis. La CSG devrait être comprise dans l'IR pour plus de progressivité. Plus de justice sociale en « mettant le paquet » sur l'école. Bravo pour le dédoublement de certains CP ; mais je regrette beaucoup que Mr. Blanquer ait supprimé les rythmes scolaires du quinquennat précédent. Ils prenaient en compte l'intérêt de l'enfant : apprentissage le matin et surtout des activités culturelles, sportives et artistiques en 2'^™ partie de journée. Les communes n'ont pas joué le jeu, trop souvent par idéologie!!!Où est l'égalité entre celui qui peut offrir à ses enfants des cours au conservatoire, la licence de tennis ...et celui qui gagne le SMIC ????? sans parler de ceux qui dorment dans la rue I Plus de justice sociale dans le logement : -encadrement des loyers (très grande sévérité pour les marchands de sommeil) -suppression de la taxe d'habitation pour tous -accroître les aides pour l'aménagement thermique de l'habitat, mais en le soumettant à un plafond de ressources -sécuriser l'habitat vétuste en finançant les travaux par un pourcentage de l'écotaxe ressource inévitable. A ce sujet, obtenir de Bruxelles, un dédommagement pour ta pollution provoquée par les milliers de camions venus de toute l'Europe qui traversent notre territoire. Adapter les allocations familiales aux ressources du foyer fiscal. ÉCOLOGIE : Promouvoir les énergies durables Fermer les centrales nucléaires les plus anciennes EPR= ???? un gouffre financier ! sera-t-il rentable un jour ?</td>\n",
       "    </tr>\n",
       "    <tr>\n",
       "      <th>169246</th>\n",
       "      <td>CC</td>\n",
       "      <td>190325</td>\n",
       "      <td>31700</td>\n",
       "      <td>31069</td>\n",
       "      <td>16893</td>\n",
       "      <td>MD</td>\n",
       "      <td>227</td>\n",
       "      <td>176</td>\n",
       "      <td>GALAUP Elisabeth\\nDe: Dominique DIAS &lt;doredias@yahoo.fr&gt;\\nEnvoyé: samedi 12 janvier 2019 18:09\\nÀ: Cahier de doléances\\nObjet: Chômage des seniors\\nBonjour,\\nDans le cadre de la consultation lancée par le gouvernement, je souhaiterais que le problème du chômage des seniors soit mentionné et pris en considération.\\nEn effet, la part des chômeurs de longue durée qui s’établit à 45,3 %, est beaucoup plus élevée au sein des chômeurs seniors (64,1 %).\\nJe n'ai jamais entendu le président Macron mentionner le chômage des seniors ni durant sa campagne ni depuis son élection.\\nNous sommes les oubliés du chômage.\\nA pôle emploi, plus aucune formation ne sont proposées aux seniors. Les jeunes sont prioritaires.\\nMerci de bien vouloir faire remonter ce problème au plus haut niveau.\\nBien à vous,\\nDominique Dias\\n0625892801\\nEnvoyé depuis Yahoo Mail pour Android</td>\n",
       "      <td>CC_31700_190325_31069_MD_16893</td>\n",
       "      <td>GALAUP Elisabeth De: Dominique DIAS &lt;doredias@yahoo.fr&gt; Envoyé: samedi 12 janvier 2019 18:09 À: Cahier de doléances Objet: Chômage des seniors Bonjour, Dans le cadre de la consultation lancée par le gouvernement, je souhaiterais que le problème du chômage des seniors soit mentionné et pris en considération. En effet, la part des chômeurs de longue durée qui s’établit à 45,3 %, est beaucoup plus élevée au sein des chômeurs seniors (64,1 %). Je n'ai jamais entendu le président Macron mentionner le chômage des seniors ni durant sa campagne ni depuis son élection. Nous sommes les oubliés du chômage. A pôle emploi, plus aucune formation ne sont proposées aux seniors. Les jeunes sont prioritaires. Merci de bien vouloir faire remonter ce problème au plus haut niveau. Bien à vous, Dominique Dias 0625892801 Envoyé depuis Yahoo Mail pour Android</td>\n",
       "    </tr>\n",
       "    <tr>\n",
       "      <th>56497</th>\n",
       "      <td>CC</td>\n",
       "      <td>190315</td>\n",
       "      <td>10400</td>\n",
       "      <td>10268</td>\n",
       "      <td>17503</td>\n",
       "      <td>D</td>\n",
       "      <td>617</td>\n",
       "      <td>268</td>\n",
       "      <td>Connaissez-vous le « droit à l’erreur », c’est-à-dire le droit d’affirmer\u000b",
       "votre bonne foi lorsque vous faites une erreur dans vos déclarations ?\u000b",
       "□ Oui □ Non\u000b",
       "si oui, avez-vous déjà utilisé ce droit à l’erreur ?\u000b",
       "□ Oui □ Non\u000b",
       "Si oui, à quelle occasion en avez-vous fait usage ?\u000b",
       "Pouvez-vous identifier des règles que l’administration vous a déjà\u000b",
       "demandé d’appliquer et que vous avez jugées inutiles ou trop complexes ?\u000b",
       "Faut-il donner plus d’autonomie aux fonctionnaires de terrain ?\u000b",
       "Oui □ Non\u000b",
       "Si oui, comment ?\u000b",
       "Faut-il revoir le fonctionnement et la formation de l’administration ?\u000b",
       "□ Oui □ Non\u000b",
       "Si oui, comment ?\u000b",
       "Comment l’Etat et les collectivités territoriales peuvent-ils s’améliorer pour\u000b",
       "mieux répondre aux défis de nos territoires les plus en difficulté ?</td>\n",
       "      <td>CC_10400_190315_10268_MD_17503</td>\n",
       "      <td>Connaissez-vous le « droit à l’erreur », c’est-à-dire le droit d’affirmer votre bonne foi lorsque vous faites une erreur dans vos déclarations ? □ Oui □ Non si oui, avez-vous déjà utilisé ce droit à l’erreur ? □ Oui □ Non Si oui, à quelle occasion en avez-vous fait usage ? Pouvez-vous identifier des règles que l’administration vous a déjà demandé d’appliquer et que vous avez jugées inutiles ou trop complexes ? Faut-il donner plus d’autonomie aux fonctionnaires de terrain ? Oui □ Non Si oui, comment ? Faut-il revoir le fonctionnement et la formation de l’administration ? □ Oui □ Non Si oui, comment ? Comment l’Etat et les collectivités territoriales peuvent-ils s’améliorer pour mieux répondre aux défis de nos territoires les plus en difficulté ?</td>\n",
       "    </tr>\n",
       "  </tbody>\n",
       "</table>\n",
       "</div>"
      ],
      "text/plain": [
       "       Catégorie Date de réception Code postal Code INSEE  \\\n",
       "38229         CC            190225       85540      85206   \n",
       "89485         CC            190322       78850      78615   \n",
       "107664        CC            190228       07500      07102   \n",
       "169246        CC            190325       31700      31069   \n",
       "56497         CC            190315       10400      10268   \n",
       "\n",
       "       Numéro d'ordre arbitraire Type Graphie TT Numéro de page  \\\n",
       "38229                      07078              MD             11   \n",
       "89485                      19644              MD              5   \n",
       "107664                     15164              MD             24   \n",
       "169246                     16893              MD            227   \n",
       "56497                      17503               D            617   \n",
       "\n",
       "       Numéro séquentiel  \\\n",
       "38229                  5   \n",
       "89485                  3   \n",
       "107664                 4   \n",
       "169246               176   \n",
       "56497                268   \n",
       "\n",
       "                                                                                                                                                                                                                                                                                                                                                                                                                                                                                                                                                                                                                                                                                                                                                                                                                                                                                                                                                                                                                                                                                                                                                                                                                                                                                                                                                                                                                                                                                                                                                                                                                                                                                                                                                                                                                                                                                                                                                                                                                                                                                                                                      Contribution  \\\n",
       "38229                                                                                                                                                                                                                                                                                                                                                                                                                                                                                                                                                                                                                                                                                                                                                                                                                                                                                                                                                                                                                                                                                                                                                                                                                                                                                                                                                             Service des urgences: \n",
       "Établir des priorités pour les prises en charges: directions nationales \n",
       "ex: refuser de soigner dans [mot illisible]\n",
       "ou va notre argent?\n",
       "Qui coûte cher? \n",
       "mes parlementaires\n",
       "eu limiter le nombre\n",
       "nos hauts fonctionnaires\n",
       "nos retraités de l'armée\n",
       "nos anciens présidents de la République:\n",
       "ex: nos anciens Présidents à la retraite, même si depuis octobre 2016, institue la dégressivité des moyens dévolus à ,nos ex présidents\n",
       "Valéry Giscard d'Etaing: dépense de l'Etat 3,9 millions £/an \n",
       "Nicolas Larkazy: dépense de l'Etat 3,3 millions £/an\n",
       "Jacques Chirac: dépense de l'Etat 2,4 millions £/an \n",
       "9,6 millions £/an\n",
       "Que se passera t-il pour E. MACRON? il aura 44 ans dans 5 ans \n",
       "Le contribuable doit payer pendant de nombreux années!!!...   \n",
       "89485                                                                                                                                                                                                                                                                                                                                                                                                                                                                                                                                                                                                                                                                                                                                                                                                                                                                                                                                                                                                                                                                                                                                                                                                                                                                                                                                                                                                                                                                                                                                                                                                                                                           Le 11/01/2019\\nPuisqu'une famille peut très bien vivre alors que le mariage ne touche que le SMIC. Pourquoi nos Parlementaires ne seraient-ils pas rétribués ainsi ce qui ferait. Je pense de très importantes économies au lieu d'aller piocher dans la poche des retraites. D'autre part que l'on arrête un peu de rémunérer dans les guerres internationales. Depuis 1989, la France est en Guerre que l'un arrête un peu ces rémunérés, en attendant c'est le peuple qui paie.   \n",
       "107664  Cahier de doléances :\\nMadame Oebanne Claude\\nJ'apporte ma « pierre à l'édifice » que devrait être ce débat.\\nIl ne peut en être autrement ayant toujours voté socialiste, milité et exercé avec passion mon rôle de professeur des collèges.\\nJe suis horrifiée par la violence, la haine qui ravage notre pays !\\nQue veulent ces « gilets jaunes ?» Le savent-ils ? Ont-ils conscience qu'ils sont des jouets entre les\\nmains d'extrémistes ?\\nPlus de justice sociale devant l'impôt : tout le monde devrait payer celui sur le revenu, même une somme symbolique pour les plus démunis.\\nLa CSG devrait être comprise dans l'IR pour plus de progressivité.\\nPlus de justice sociale en « mettant le paquet » sur l'école. Bravo pour le dédoublement de certains\\nCP ; mais je regrette beaucoup que Mr. Blanquer ait supprimé les rythmes scolaires du quinquennat\\nprécédent. Ils prenaient en compte l'intérêt de l'enfant : apprentissage le matin et surtout des\\nactivités culturelles, sportives et artistiques en 2'^™ partie de journée. Les communes n'ont pas joué le jeu, trop souvent par idéologie!!!Où est l'égalité entre celui qui peut offrir à ses enfants des cours au conservatoire, la licence de tennis ...et celui qui gagne le SMIC ????? sans parler de ceux qui dorment dans la rue I\\nPlus de justice sociale dans le logement :\\n-encadrement des loyers (très grande sévérité pour les marchands de sommeil)\\n-suppression de la taxe d'habitation pour tous\\n-accroître les aides pour l'aménagement thermique de l'habitat, mais en le soumettant à un plafond de ressources\\n-sécuriser l'habitat vétuste en finançant les travaux par un pourcentage de l'écotaxe ressource inévitable. A ce sujet, obtenir de Bruxelles, un dédommagement pour ta pollution provoquée par les\\nmilliers de camions venus de toute l'Europe qui traversent notre territoire.\\nAdapter les allocations familiales aux ressources du foyer fiscal.\\nÉCOLOGIE :\\nPromouvoir les énergies durables\\nFermer les centrales nucléaires les plus anciennes\\nEPR= ???? un gouffre financier ! sera-t-il rentable un jour ?   \n",
       "169246                                                                                                                                                                                                                                                                                                                                                                                                                                                                                                                                                                                                                                                                                                                                                                                                                                                                                                                                                                                                                                                                                                                                                                                                                                              GALAUP Elisabeth\\nDe: Dominique DIAS <doredias@yahoo.fr>\\nEnvoyé: samedi 12 janvier 2019 18:09\\nÀ: Cahier de doléances\\nObjet: Chômage des seniors\\nBonjour,\\nDans le cadre de la consultation lancée par le gouvernement, je souhaiterais que le problème du chômage des seniors soit mentionné et pris en considération.\\nEn effet, la part des chômeurs de longue durée qui s’établit à 45,3 %, est beaucoup plus élevée au sein des chômeurs seniors (64,1 %).\\nJe n'ai jamais entendu le président Macron mentionner le chômage des seniors ni durant sa campagne ni depuis son élection.\\nNous sommes les oubliés du chômage.\\nA pôle emploi, plus aucune formation ne sont proposées aux seniors. Les jeunes sont prioritaires.\\nMerci de bien vouloir faire remonter ce problème au plus haut niveau.\\nBien à vous,\\nDominique Dias\\n0625892801\\nEnvoyé depuis Yahoo Mail pour Android   \n",
       "56497                                                                                                                                                                                                                                                                                                                                                                                                                                                                                                                                                                                                                                                                                                                                                                                                                                                                                                                                                                                                                                                                                                                                                                                                                                                                                                                                                           Connaissez-vous le « droit à l’erreur », c’est-à-dire le droit d’affirmer\n",
       "votre bonne foi lorsque vous faites une erreur dans vos déclarations ?\n",
       "□ Oui □ Non\n",
       "si oui, avez-vous déjà utilisé ce droit à l’erreur ?\n",
       "□ Oui □ Non\n",
       "Si oui, à quelle occasion en avez-vous fait usage ?\n",
       "Pouvez-vous identifier des règles que l’administration vous a déjà\n",
       "demandé d’appliquer et que vous avez jugées inutiles ou trop complexes ?\n",
       "Faut-il donner plus d’autonomie aux fonctionnaires de terrain ?\n",
       "Oui □ Non\n",
       "Si oui, comment ?\n",
       "Faut-il revoir le fonctionnement et la formation de l’administration ?\n",
       "□ Oui □ Non\n",
       "Si oui, comment ?\n",
       "Comment l’Etat et les collectivités territoriales peuvent-ils s’améliorer pour\n",
       "mieux répondre aux défis de nos territoires les plus en difficulté ?   \n",
       "\n",
       "                             joined_id  \\\n",
       "38229   CC_85540_190225_85206_MD_07078   \n",
       "89485   CC_78850_190322_78615_MD_19644   \n",
       "107664  CC_07500_190228_07102_MD_15164   \n",
       "169246  CC_31700_190325_31069_MD_16893   \n",
       "56497   CC_10400_190315_10268_MD_17503   \n",
       "\n",
       "                                                                                                                                                                                                                                                                                                                                                                                                                                                                                                                                                                                                                                                                                                                                                                                                                                                                                                                                                                                                                                                                                                                                                                                                                                                                                                                                                                                                                                                                                                                                                                                                                                                                                                                                                                                                                                                                                                                                                                                                                                                                                                                      clean  \n",
       "38229                                                                                                                                                                                                                                                                                                                                                                                                                                                                                                                                                                                                                                                                                                                                                                                                                                                                                                                                                                                                                                                                                                                                                                                                                                                                                                                                               Service des urgences:  Établir des priorités pour les prises en charges: directions nationales  ex: refuser de soigner dans [mot ] ou va notre argent? Qui coûte cher?  mes parlementaires eu limiter le nombre nos hauts fonctionnaires nos retraités de l'armée nos anciens présidents de la République: ex: nos anciens Présidents à la retraite, même si depuis octobre 2016, institue la dégressivité des moyens dévolus à ,nos ex présidents Valéry Giscard d'Etaing: dépense de l'Etat 3,9 millions £/an  Nicolas Larkazy: dépense de l'Etat 3,3 millions £/an Jacques Chirac: dépense de l'Etat 2,4 millions £/an  9,6 millions £/an Que se passera t-il pour E. MACRON? il aura 44 ans dans 5 ans  Le contribuable doit payer pendant de nombreux années!!!...  \n",
       "89485                                                                                                                                                                                                                                                                                                                                                                                                                                                                                                                                                                                                                                                                                                                                                                                                                                                                                                                                                                                                                                                                                                                                                                                                                                                                                                                                                                                                                                                                                                                                                                                                                                     Le 11/01/2019 Puisqu'une famille peut très bien vivre alors que le mariage ne touche que le SMIC. Pourquoi nos Parlementaires ne seraient-ils pas rétribués ainsi ce qui ferait. Je pense de très importantes économies au lieu d'aller piocher dans la poche des retraites. D'autre part que l'on arrête un peu de rémunérer dans les guerres internationales. Depuis 1989, la France est en Guerre que l'un arrête un peu ces rémunérés, en attendant c'est le peuple qui paie.  \n",
       "107664  Cahier de doléances : Madame Oebanne Claude J'apporte ma « pierre à l'édifice » que devrait être ce débat. Il ne peut en être autrement ayant toujours voté socialiste, milité et exercé avec passion mon rôle de professeur des collèges. Je suis horrifiée par la violence, la haine qui ravage notre pays ! Que veulent ces « gilets jaunes ?» Le savent-ils ? Ont-ils conscience qu'ils sont des jouets entre les mains d'extrémistes ? Plus de justice sociale devant l'impôt : tout le monde devrait payer celui sur le revenu, même une somme symbolique pour les plus démunis. La CSG devrait être comprise dans l'IR pour plus de progressivité. Plus de justice sociale en « mettant le paquet » sur l'école. Bravo pour le dédoublement de certains CP ; mais je regrette beaucoup que Mr. Blanquer ait supprimé les rythmes scolaires du quinquennat précédent. Ils prenaient en compte l'intérêt de l'enfant : apprentissage le matin et surtout des activités culturelles, sportives et artistiques en 2'^™ partie de journée. Les communes n'ont pas joué le jeu, trop souvent par idéologie!!!Où est l'égalité entre celui qui peut offrir à ses enfants des cours au conservatoire, la licence de tennis ...et celui qui gagne le SMIC ????? sans parler de ceux qui dorment dans la rue I Plus de justice sociale dans le logement : -encadrement des loyers (très grande sévérité pour les marchands de sommeil) -suppression de la taxe d'habitation pour tous -accroître les aides pour l'aménagement thermique de l'habitat, mais en le soumettant à un plafond de ressources -sécuriser l'habitat vétuste en finançant les travaux par un pourcentage de l'écotaxe ressource inévitable. A ce sujet, obtenir de Bruxelles, un dédommagement pour ta pollution provoquée par les milliers de camions venus de toute l'Europe qui traversent notre territoire. Adapter les allocations familiales aux ressources du foyer fiscal. ÉCOLOGIE : Promouvoir les énergies durables Fermer les centrales nucléaires les plus anciennes EPR= ???? un gouffre financier ! sera-t-il rentable un jour ?  \n",
       "169246                                                                                                                                                                                                                                                                                                                                                                                                                                                                                                                                                                                                                                                                                                                                                                                                                                                                                                                                                                                                                                                                                                                                                                                                                                      GALAUP Elisabeth De: Dominique DIAS <doredias@yahoo.fr> Envoyé: samedi 12 janvier 2019 18:09 À: Cahier de doléances Objet: Chômage des seniors Bonjour, Dans le cadre de la consultation lancée par le gouvernement, je souhaiterais que le problème du chômage des seniors soit mentionné et pris en considération. En effet, la part des chômeurs de longue durée qui s’établit à 45,3 %, est beaucoup plus élevée au sein des chômeurs seniors (64,1 %). Je n'ai jamais entendu le président Macron mentionner le chômage des seniors ni durant sa campagne ni depuis son élection. Nous sommes les oubliés du chômage. A pôle emploi, plus aucune formation ne sont proposées aux seniors. Les jeunes sont prioritaires. Merci de bien vouloir faire remonter ce problème au plus haut niveau. Bien à vous, Dominique Dias 0625892801 Envoyé depuis Yahoo Mail pour Android  \n",
       "56497                                                                                                                                                                                                                                                                                                                                                                                                                                                                                                                                                                                                                                                                                                                                                                                                                                                                                                                                                                                                                                                                                                                                                                                                                                                                                                                                    Connaissez-vous le « droit à l’erreur », c’est-à-dire le droit d’affirmer votre bonne foi lorsque vous faites une erreur dans vos déclarations ? □ Oui □ Non si oui, avez-vous déjà utilisé ce droit à l’erreur ? □ Oui □ Non Si oui, à quelle occasion en avez-vous fait usage ? Pouvez-vous identifier des règles que l’administration vous a déjà demandé d’appliquer et que vous avez jugées inutiles ou trop complexes ? Faut-il donner plus d’autonomie aux fonctionnaires de terrain ? Oui □ Non Si oui, comment ? Faut-il revoir le fonctionnement et la formation de l’administration ? □ Oui □ Non Si oui, comment ? Comment l’Etat et les collectivités territoriales peuvent-ils s’améliorer pour mieux répondre aux défis de nos territoires les plus en difficulté ?  "
      ]
     },
     "execution_count": 26,
     "metadata": {},
     "output_type": "execute_result"
    }
   ],
   "source": [
    "pd.set_option('display.max_colwidth', None)\n",
    "df.head()"
   ]
  },
  {
   "cell_type": "code",
   "execution_count": 27,
   "metadata": {},
   "outputs": [
    {
     "data": {
      "text/plain": [
       "\"Service des urgences:  Établir des priorités pour les prises en charges: directions nationales  ex: refuser de soigner dans [mot ] ou va notre argent? Qui coûte cher?  mes parlementaires eu limiter le nombre nos hauts fonctionnaires nos retraités de l'armée nos anciens présidents de la République: ex: nos anciens Présidents à la retraite, même si depuis octobre 2016, institue la dégressivité des moyens dévolus à ,nos ex présidents Valéry Giscard d'Etaing: dépense de l'Etat 3,9 millions £/an  Nicolas Larkazy: dépense de l'Etat 3,3 millions £/an Jacques Chirac: dépense de l'Etat 2,4 millions £/an  9,6 millions £/an Que se passera t-il pour E. MACRON? il aura 44 ans dans 5 ans  Le contribuable doit payer pendant de nombreux années!!!...\""
      ]
     },
     "execution_count": 27,
     "metadata": {},
     "output_type": "execute_result"
    }
   ],
   "source": [
    "documents = df.clean.tolist()\n",
    "documents[0]"
   ]
  },
  {
   "cell_type": "code",
   "execution_count": 28,
   "metadata": {},
   "outputs": [],
   "source": [
    "# sampling 0.1/1 for counting words without crashing the kernel : \n",
    "\n",
    "# out_serie = random_sample.str.split().str.len()\n",
    "# print(\"nb de mots par contribution en moyenne\", out_serie.sum()/out_serie.size)\n",
    "\n",
    "# nlp = spacy.load(\"fr_core_news_md\")\n",
    "# for_cell = lambda x : nlp(x)\n",
    "# df[\"data\"] = random_sample.apply(for_cell)\n",
    "# fait aussi crasher le kernel local"
   ]
  },
  {
   "cell_type": "code",
   "execution_count": 29,
   "metadata": {},
   "outputs": [],
   "source": [
    "from spacy.lang.fr.stop_words import STOP_WORDS as fr_stop\n",
    "from spacy.lang.en.stop_words import STOP_WORDS as en_stop\n",
    "\n",
    "final_stopwords_list = list(fr_stop) + list(en_stop) + [\"\\n\"]\n",
    "\n",
    "def remove_stopwords(text):\n",
    "    stopwords = final_stopwords_list\n",
    "    text = [word for word in text if word not in stopwords]\n",
    "    return text"
   ]
  },
  {
   "cell_type": "code",
   "execution_count": 30,
   "metadata": {},
   "outputs": [],
   "source": [
    "nostopword = remove_stopwords(documents)"
   ]
  },
  {
   "cell_type": "code",
   "execution_count": 31,
   "metadata": {},
   "outputs": [],
   "source": [
    "import spacy"
   ]
  },
  {
   "cell_type": "code",
   "execution_count": 32,
   "metadata": {},
   "outputs": [],
   "source": [
    "def lemmatize(docs, allowed_postags = [\"NOUN\", \"ADJ\", \"VERB\", \"ADV\"]):\n",
    "  '''\n",
    "  Performs lemmization of input documents.\n",
    "  Args:\n",
    "    - docs: list of strings with input documents\n",
    "    - allowed_postags: list of accepted Part of Speech (POS) types\n",
    "  Output:\n",
    "    - list of strings with lemmatized input\n",
    "  '''\n",
    "  nlp = spacy.load(\"fr_core_news_md\", disable = [\"parser\", \"ner\"])\n",
    "  nlp.max_length = 3000000 #this is possible as we're not using parser or ner.\n",
    "  lemmatized_docs = []\n",
    "  for doc in docs:\n",
    "    doc = nlp(doc)\n",
    "    tokens = []\n",
    "    for token in doc:\n",
    "      if token.pos_ in allowed_postags:\n",
    "        tokens.append(token.lemma_)\n",
    "    lemmatized_docs.append(\" \".join(tokens))\n",
    "  return (lemmatized_docs)"
   ]
  },
  {
   "cell_type": "code",
   "execution_count": 33,
   "metadata": {},
   "outputs": [],
   "source": [
    "datas = lemmatize(nostopword)"
   ]
  },
  {
   "cell_type": "code",
   "execution_count": 34,
   "metadata": {},
   "outputs": [],
   "source": [
    "from top2vec import Top2Vec"
   ]
  },
  {
   "cell_type": "code",
   "execution_count": 35,
   "metadata": {},
   "outputs": [
    {
     "name": "stderr",
     "output_type": "stream",
     "text": [
      "2023-04-12 02:31:00,241 - top2vec - INFO - Pre-processing documents for training\n",
      "2023-04-12 02:31:00,907 - top2vec - INFO - Creating joint document/word embedding\n",
      "2023-04-12 02:31:13,046 - top2vec - INFO - Creating lower dimension embedding of documents\n",
      "2023-04-12 02:31:19,452 - top2vec - INFO - Finding dense areas of documents\n",
      "2023-04-12 02:31:19,529 - top2vec - INFO - Finding topics\n"
     ]
    }
   ],
   "source": [
    "model = Top2Vec(datas)"
   ]
  },
  {
   "cell_type": "code",
   "execution_count": 36,
   "metadata": {},
   "outputs": [],
   "source": [
    "topic_words, word_scores, topic_nums = model.get_topics()"
   ]
  },
  {
   "cell_type": "code",
   "execution_count": 37,
   "metadata": {},
   "outputs": [
    {
     "name": "stdout",
     "output_type": "stream",
     "text": [
      "['effort' 'tout' 'passer' 'remettre' 'assurer' 'premier' 'vie' 'continuer'\n",
      " 'gouvernement' 'meilleur' 'autre' 'retour' 'temps' 'medical' 'moyen'\n",
      " 'instaurer' 'argent' 'meme' 'mme' 'zone' 'diminuer' 'point' 'fin' 'base'\n",
      " 'interet' 'servir' 'systeme' 'macron' 'haut' 'mettre' 'partir' 'ecole'\n",
      " 'reste' 'train' 'travail' 'moins' 'reduction' 'francais' 'soin' 'bien'\n",
      " 'justice' 'augmenter' 'prendre' 'vrai' 'seulement' 'etc' 'mesure'\n",
      " 'indemnite' 'campagne' 'compte']\n",
      "[0.8851685  0.8754102  0.86307204 0.8616712  0.8567029  0.85337496\n",
      " 0.85330933 0.84307563 0.8415454  0.83615816 0.8258957  0.82552654\n",
      " 0.82361317 0.81941414 0.81720454 0.8164168  0.8134489  0.8129446\n",
      " 0.8118741  0.8099179  0.8042088  0.80201554 0.80123055 0.80052793\n",
      " 0.7996493  0.79934967 0.7983122  0.79332    0.7922857  0.7913057\n",
      " 0.7911997  0.79107374 0.78910786 0.7883245  0.78767246 0.7864764\n",
      " 0.7861397  0.785542   0.78375804 0.7826498  0.7818991  0.7808412\n",
      " 0.7785379  0.7784716  0.778361   0.7776022  0.77541083 0.7750343\n",
      " 0.77407295 0.77275795]\n",
      "0\n",
      "['mairie' 'cahier' 'janvier' 'objet' 'fr' 'doleance' 'maire' 'nom' 'date'\n",
      " 'decembre' 'porter' 'revendication' 'devenir' 'patron' 'recevoir' 'tel'\n",
      " 'face' 'fevrier' 'monsieur' 'risque' 'parfois' 'regional' 'general'\n",
      " 'riche' 'habitant' 'cours' 'resultat' 'conseiller' 'part' 'travailleur'\n",
      " 'association' 'petit' 'commune' 'cadre' 'poste' 'venir' 'ordre' 'merci'\n",
      " 'dernier' 'reste' 'nouveau' 'sens' 'continuer' 'meilleur' 'fonction'\n",
      " 'notamment' 'ainsi' 'trouver' 'departement' 'municipal']\n",
      "[0.93277174 0.92999643 0.91718334 0.9091603  0.89907247 0.8882558\n",
      " 0.8507409  0.8470891  0.8283437  0.80390567 0.75666    0.7510629\n",
      " 0.7421416  0.7221349  0.7206875  0.7181063  0.6925154  0.683781\n",
      " 0.6826002  0.677395   0.6755448  0.65285605 0.64801925 0.6282655\n",
      " 0.6257962  0.6080226  0.60460126 0.60200965 0.5943688  0.59312475\n",
      " 0.58051175 0.5725401  0.56664747 0.5578005  0.55380315 0.552582\n",
      " 0.55071604 0.5505643  0.5436454  0.54278386 0.5407854  0.5404039\n",
      " 0.53174007 0.52812076 0.525819   0.5208108  0.5160218  0.51108253\n",
      " 0.50878066 0.5078487 ]\n",
      "1\n"
     ]
    }
   ],
   "source": [
    "for topic_word, word_score, topic_num in zip(topic_words, word_scores, topic_nums)  :\n",
    "    print(topic_word)\n",
    "    print(word_score)\n",
    "    print(topic_num)"
   ]
  },
  {
   "cell_type": "markdown",
   "metadata": {},
   "source": [
    "On souhaite relier les topics selon les lieux géographiques. \n",
    "valence et excitation pour les aspects des thèmes mais complexe à cartographier. \n",
    "En appliquant un modèle particulièrement souple pour les petits corpus sur chaque region / departement. \n",
    "Ou bien clustering des thèmes et sentiments + labellisation pour chaque contributions texte -> puis une localisation d'ensembles géographiques grâce aux INSEE associés.\n",
    "Les limites : beaucoup de clustering automatique => il faudrait faire une labellisation manuelle pour faire une évaluation des succès de ces clusterisation"
   ]
  },
  {
   "cell_type": "code",
   "execution_count": 22,
   "metadata": {},
   "outputs": [
    {
     "name": "stdout",
     "output_type": "stream",
     "text": [
      "Document  : 500, Score : 0.9881346821784973\n",
      "___________________\n",
      "j)jluyo^ rv\\a(x^ 7- o grand débat national reunion ï i. transition écologique i. dimanche mars 15h 18h maison ouvrir tout venir participer réunion minute - commonoufé réunion faire partie cyde organiser initiative groupe citoyen dernier réunion avoir lieu vendredi mars tence salle 20h porter ensemble thème ouvrir débat pouvoir retrouver info presse local grand débat national\n",
      "___________________\n",
      "Document  : 784, Score : 0.9878599047660828\n",
      "___________________\n",
      "m. chef oui augmentation prix carburant pas véhicule électrique vouloir moteur hydrogène savoir faire aide achat véhicule pouvoir parler transition énergétique défiscalisation heure supplémentaire mesure maintenir temps délai quinquennat\n",
      "___________________\n",
      "Document  : 270, Score : 0.9860568642616272\n",
      "___________________\n",
      "année université début année fréquence transport commun ne pas revoir hausse croissance population inciter gens déplacer voiture éloignement société susceptible employer contribuer aussi pollution passé avoir car scolaire aussi car ouvrier peut-être aussi utile inciter société région organiser télétravail éviter déplacement voiture particulier effet pollution ne pas uniquement devoir citoyen trop souvent forcer avoir attitude contraire intérêt tout\n",
      "___________________\n",
      "Document  : 667, Score : 0.9857381582260132\n",
      "___________________\n",
      "arrêter endetter pays aussi arrêter emprunter payer train vie mal organiser état supprimer décote calcul retraite verser retraiter proportion cotisation favoriser création retenu culinaire très artificiel mot remettre vitesse kilomètre par heure route national limiter vitesse camion peindre ligne blanc médian porte département\n",
      "___________________\n",
      "Document  : 933, Score : 0.9844643473625183\n",
      "___________________\n",
      "petiard transport commun proximité développer cf fin assainissement tout égout enfouissement ligne électrique\n",
      "___________________\n",
      "Document  : 538, Score : 0.9842244386672974\n",
      "___________________\n",
      "17-non rétablissement isf immobilier oui réforme macron bon sens taxation gafa chiffre affaire 18- défiscalisation heure supplémentaire plafonner heure delà employeur devoir créer cdd heure minimum exonérer charge patronal gratuiter transport commun salarié payer smic ar domicile - travail étudiant scolaire 20- transport commun électrique gaz devoir seul autoriser accéder centre ville 21- accélération transition énergétique refus collectivité installation parc éolienne ferme photovoltaïque devoir entraîner hausse taxation foncier prélever collectivité surtaxe reverser fonds développement énergie alternative rétablissement principe taxation routier transport poids lourd pollueur payeur 23- finir zone nombre logement social quartier devoir rester inférieur pourcent moyenne respecter pourcent légal club sportif communautaire religieux devoir interdire association devoir clairement déclarer objet valider statut\n",
      "___________________\n",
      "Document  : 252, Score : 0.9828694462776184\n",
      "___________________\n",
      "économie énergie mettre contraire bateau train grand distance rallier ville portuaire privilégier camion local moins kilomètre taxer poids - lourd étranger traverser pays long large traverser irrespectueux règle sécurité routier vitesse social valoriser temps travail social femme seul enfant ne pouvoir pas travailler garde enfant financièrement impossible exiger contrepartie travail traval ville échange rénumération social exiger apprentissage utilisation langue français ressortissant étranger bénéficier aide social français cmu égalité frais médical ne pas normal partie bénéficier cmu récupérer argent indemniser députer sénateur fonction temps présence actif arrêter financer famille emploi fictif Monsieur supprimer radar favoriser véhicule contrôle vitesse beaucoup moins occidental gêner coup frein brutal dernier moment radar fixe baisser salaire joueur foot autre sportif démesuré arrêter prendre salaire moyen favoriser plus démunir préférer accéder salaire bref salaire moyen survivre riche plus plus riche pauvre vivre mieux zéro taxe aide financier pourtant gratuit chercher erreur retraite établir montant pension réversion tenir compte année travail non delage complémentaire compte pénibilité travail âge retraite\n",
      "___________________\n",
      "Document  : 385, Score : 0.9822342991828918\n",
      "___________________\n",
      "merci indiquer nom prénom doléances/ proposition priorité lutter fraude fiscal fiscalité simplifier principe même revenu même contribution mettre fin exonération tout genre plafonner député représentation national pas trop écoute population répondre demande rendez-vous faire compte rendre action vote merci indiquer nom prénom proposition environnement/ écologie autre priorité mettre fin projet destructeur projet vasé pourquoi démolir murette peine pays abattre arbuste inutilement superbe camélia autre carburant fleur argent église\n",
      "___________________\n",
      "Document  : 220, Score : 0.9819430708885193\n",
      "___________________\n",
      "droit logement accès baisse général loyer contrat propriétaire respect mesure maintient baisse loyer baisse général loyer loyer fonction superficie m2 logement appartement maison pavillon location assez suppression augmentation abusiver loyer propriétaire ainsi agence - immobilier façon illégal montant loyer\n",
      "___________________\n",
      "Document  : 730, Score : 0.9808188676834106\n",
      "___________________\n",
      "apprentissage vocabulaire très pauvre proche onomatopée certain pub enfant utile exprimer clairement sentiment attente réduire train vie sénat tout niveau chauffeur bouffe= amaigrissement être santé * référendum quelque sujet informer conséquence oui non éviter vote émotionnel colère irresponsable inconséquent manipulation * transition écologique = profit règle différent pays faire rentrer fruit légume plein pesticide interdire monde mal contrôler urgence mettre ordre élevage bien animal poule copin maltraite truie horriblement maltraiter\n",
      "___________________\n"
     ]
    }
   ],
   "source": [
    "documents, document_score, document_id = model.search_documents_by_topic(topic_num = 0, num_docs = 10)\n",
    "for doc, score, doc_id in zip(documents, document_score, document_id) :\n",
    "    print(f\"Document  : {doc_id}, Score : {score}\")\n",
    "    print(\"___________________\")\n",
    "    print(doc)\n",
    "    print(\"___________________\")"
   ]
  },
  {
   "cell_type": "code",
   "execution_count": 10,
   "metadata": {},
   "outputs": [
    {
     "data": {
      "text/plain": [
       "array([[0.86361754, 0.85665566, 0.8444204 , 0.8398157 , 0.8367531 ,\n",
       "        0.82763207, 0.8225254 , 0.8090654 , 0.8054184 , 0.80409557,\n",
       "        0.7968753 , 0.79481846, 0.7884388 , 0.78179294, 0.77850837,\n",
       "        0.77790725, 0.7768027 , 0.77023965, 0.76532096, 0.76470566,\n",
       "        0.76081926, 0.7602687 , 0.7594579 , 0.7586243 , 0.75664234,\n",
       "        0.75634044, 0.75532186, 0.7540948 , 0.75344354, 0.75246894,\n",
       "        0.75152016, 0.75070286, 0.7504488 , 0.7498183 , 0.7488956 ,\n",
       "        0.7484929 , 0.74659777, 0.74609196, 0.7456746 , 0.7456562 ,\n",
       "        0.7450966 , 0.7433404 , 0.74332035, 0.74307644, 0.7419429 ,\n",
       "        0.73967916, 0.7381893 , 0.7377421 , 0.7376767 , 0.7367153 ],\n",
       "       [0.8790553 , 0.8694637 , 0.852141  , 0.84321046, 0.8355927 ,\n",
       "        0.8209332 , 0.8106538 , 0.8022459 , 0.7988946 , 0.77172977,\n",
       "        0.77035356, 0.7644616 , 0.7543482 , 0.74540514, 0.73439115,\n",
       "        0.731343  , 0.7240042 , 0.72203493, 0.7163697 , 0.7097341 ,\n",
       "        0.7031176 , 0.6780646 , 0.67707556, 0.67623955, 0.67572856,\n",
       "        0.6721958 , 0.66940594, 0.66139936, 0.6597243 , 0.65901107,\n",
       "        0.6574724 , 0.6475469 , 0.64648795, 0.63303757, 0.6330008 ,\n",
       "        0.6318076 , 0.62947524, 0.6259395 , 0.62306213, 0.62156844,\n",
       "        0.6199768 , 0.6181057 , 0.61715513, 0.6116739 , 0.6071033 ,\n",
       "        0.6026468 , 0.59740615, 0.59029645, 0.58584726, 0.5841596 ],\n",
       "       [0.9153363 , 0.89508975, 0.86183816, 0.8545949 , 0.84587777,\n",
       "        0.83267945, 0.797983  , 0.7899252 , 0.7700596 , 0.76695967,\n",
       "        0.75681126, 0.75483936, 0.7531506 , 0.74473137, 0.7285657 ,\n",
       "        0.72357666, 0.7118036 , 0.70475054, 0.68269885, 0.67857635,\n",
       "        0.67431504, 0.674255  , 0.66638833, 0.6647049 , 0.6628579 ,\n",
       "        0.6618587 , 0.66043717, 0.65952384, 0.6555468 , 0.6470185 ,\n",
       "        0.6466581 , 0.6397479 , 0.639068  , 0.6387202 , 0.63730437,\n",
       "        0.6313177 , 0.6299575 , 0.62776077, 0.62591714, 0.6236418 ,\n",
       "        0.62356794, 0.6202329 , 0.6176556 , 0.6174027 , 0.61561847,\n",
       "        0.6147615 , 0.6136641 , 0.6091824 , 0.6069815 , 0.6020773 ]],\n",
       "      dtype=float32)"
      ]
     },
     "execution_count": 10,
     "metadata": {},
     "output_type": "execute_result"
    }
   ],
   "source": [
    "word_scores"
   ]
  },
  {
   "cell_type": "code",
   "execution_count": 11,
   "metadata": {},
   "outputs": [
    {
     "data": {
      "text/plain": [
       "array([0, 1, 2])"
      ]
     },
     "execution_count": 11,
     "metadata": {},
     "output_type": "execute_result"
    }
   ],
   "source": [
    "topic_nums"
   ]
  },
  {
   "cell_type": "code",
   "execution_count": 39,
   "metadata": {},
   "outputs": [
    {
     "name": "stdout",
     "output_type": "stream",
     "text": [
      "[\"vraiment besoin pédagogie an infusion poudre autre concoction perlimpinpin laboratoire apprenti sorcier payer denier constater merde mettre ne comprendre doute pas grand chose finir vraiment demander avoir réellement chose compréhensible comprendre gestion finance public cours dernier année ne étonnant adduction théorème danaïde solliciter bien tonneau satisfaire infini besoin ne reste plus trou combler enfant énorme femme homme etat censé mériter légitimement respect haut niveau érudition science technicité savoir intelligence néanmoins amener milliard euro dette falloir aujourd'hui gérer encore mot gérer bien présomptueux digérer doute plus propos comment relancer partie monopoly arrivée stade impasse banque souverain etat exsangue vider caisse payant innombrable croupier emploi garantir tout partie injectant argent client système piper distribuer subside joueur\", 'image image j lettre ci joindre image', 'rattention Monsieur maire mardi janvier Monsieur maire demande évêque monseigneur réunir équipe synodal habitant lhomme retraité jeune mère famille nombreux smic mari percevoir seulement pension invalidité- échanger sujet trouble social connaître actuellement pays penser cause malaise actuel trouver pression fiscal sentiment injustice social ne parvenir pas exprimer contexte déshumaniser ailleurs aussi conscient démocratie représentatif supposer voter décision prendre représentant applicable efforcer décider fonction intérêt général ne pouvoir somme intérêt particulier ne pouvoir divergent cependant permettre citoyen exprimer point vue lors vote projet majeur faire doute sentir davantage partie prenant décision politique penser être falloir remonter proposition maillage essentiel démocratie falloir donc pérenniser principe cahier doléance mairie remerciement attention bien cordialement équipe', 'débat grand pays pays endetter sens politique européen système financier mettre place lutter dérèglement climatique forme bourse échange quota c02 entreprise journaliste écrire roman vrai intituler argent sang seuil 2018 raconter comment petit malfrat bien autre également pouvoir déjouer système plus grand escroquerie histoire mafia c02 détourner plus milliard euro nez barbe état dos droit environnement demande comment usine gaz cas dire concocter cerveau savoir faire pouvoir contourner délinquant comment différent service police rapidement informer malversation incapable réagir ensemble ne pouvoir enrayer arnaque enfin comment justice français mettre année commencer sanctionner coupable premier assassinat résulter incompréhensible pays construire droit toujours chapitre escroquerie niveau international pierucci ancien président filiale chaudière raconter livre intituler piège américain latte comment arrêter fbi enfermer an comment véritable chantage obliger payer plus gigantesque amende jamais infliger vendre général éléctric perte estimer milliard dollar incompréhensible grand démocratie ne pouvoir défendre face pays partenair capitulation rajouter abandon état industrie français métallurgi infrastructure vente autoroute aéroport privé libéralisation chemin fer pouvoir rajouter entêtement état poursuivre développement détriment énergie renouvelable alors tout monde savoir aller mur tout décision participer appauvrissement pays financer contribuable rue cidre', 'cahier doléance proposition faire cotisation social robot retraite suppression avantage ancien président suppression mairie sénateur président faire prendre transport tout français pas avion priver isf voiture électrique bridé main cherre transition énergétique', 'salarier droit cumuler allocation adulte handicapé revenue salarier', 'tout français concerner mesure loi passer etat mesure ne sens pas représenter élu aimer voter pourquoi pas vote internet réduction salaire privilège sénateur député frais obsèque logement voiture fonction prof fonctionnaire ne avoir droit tout moins important abattage loup éclater meute ne résoudre problème oui vente semence paysane stop loi dicter lobby non chasse dimanche garantir sécurité promeneur oui vrai engagement planète baisse coût transport commun favorisatier agriculture local sauvegarde forêt globe espèce danger abeille utilisation raisonner insecticide engrais grand mammifère', 'grand débat national liberté égalité registre recueil doléance république français fiche transmettre accueil mairie contact@ville-montivilliers.fr date 09 01 nom prénom courriel adresse postal rue cocher case confirmer donner consentement collecte donnée personnel cadre contexte exposé - cadre démarche citoyen transparence démocratique ville informe recueil traitement donnée personnel document exclusivement destiner transmission doléance cadre grand débat national donnée conserver ville montivlhler envoi service état organisateur grand débat national donnée posséder ville ensuite détruire échange cadre achever avoir possibilité exercer droit conformément article règlement général protection donnée pouvoir délégué protection donnée ville ville place montivillier formuler réclamation motiver auprès commission national informatique liberté souhaiter apporter contribution thème suivant fiche thème transition écologique fiscalité dépense public démocratie citoyenneté organisation état service public autre faire élection législatif proportionnelle intégral éviter hégémonie parti politique ne représenter pas majorité citoyen mode scrution obliger coalition parti politique représenter plus diversité avis citoyen', 'transition écologique devoir financer seul réponse possible budget général état devoir priorité concerner financement transition écologique réponse possible entreprise administration falloir faire protéger biodiversité climat tout maintenant activité agricole industriel compétitif rapport concurrent étranger notamment européen seul réponse possible plan investissement changer mode production taxer produit importer dégrader environnement pouvoir faire partager choix matière environnement niveau européen international monter exemple consommer local y autre point transition écologique souhaiter exprimer gros pollueur plus respectueux', 'faite idée contribution déposer urne disponible a cet effet demande ne déplacer vélo ville développer piste cyclable fin phrase illisible phrase illisible utiliser tout simplement parking réserver trottoir supprimer mot illisible publicitaire illisible paysage surtout zone fin phrase illisible lutter crotte chien proposition lutter plus sévèrement automobiliste laisser tourner moteur voiture fin phrase illisible verbaliser mot lisible automobiliste ne respecter pas feu tricolore stop phrase illisible mot illisible avoir fin phrase illisible éviter mot illisible raison inutile respecter fin phrase illisible']\n"
     ]
    }
   ],
   "source": [
    "random_sample = df[\"Contribution\"].sample(frac = 0.10)\n",
    "mots_liste = random_sample.tolist()\n",
    "# random_sample.to_csv(\"chunk_df.csv\", index=False)\n",
    "print(lemmatize(mots_liste[0:10]))"
   ]
  },
  {
   "cell_type": "code",
   "execution_count": 5,
   "metadata": {},
   "outputs": [
    {
     "name": "stdout",
     "output_type": "stream",
     "text": [
      "225\n"
     ]
    }
   ],
   "source": [
    "# possible batch\n",
    "rows, columns = df.shape\n",
    "print(rows//1000)\n"
   ]
  }
 ],
 "metadata": {
  "kernelspec": {
   "display_name": "Python 3 (ipykernel)",
   "language": "python",
   "name": "python3"
  },
  "language_info": {
   "codemirror_mode": {
    "name": "ipython",
    "version": 3
   },
   "file_extension": ".py",
   "mimetype": "text/x-python",
   "name": "python",
   "nbconvert_exporter": "python",
   "pygments_lexer": "ipython3",
   "version": "3.10.6"
  },
  "vscode": {
   "interpreter": {
    "hash": "bddc106268dee88c0f0131d02a8d68983533073d78e2eaa3f85be43499748497"
   }
  }
 },
 "nbformat": 4,
 "nbformat_minor": 2
}

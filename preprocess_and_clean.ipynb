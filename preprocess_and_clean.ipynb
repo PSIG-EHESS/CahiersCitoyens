{
 "cells": [
  {
   "cell_type": "code",
   "execution_count": 1,
   "metadata": {},
   "outputs": [
    {
     "name": "stdout",
     "output_type": "stream",
     "text": [
      "True\n"
     ]
    }
   ],
   "source": [
    "import time\n",
    "import pandas as pd\n",
    "# pour un ordi avec GPU :\n",
    "\n",
    "import GPUtil\n",
    "import torch\n",
    "\n",
    "print(torch.cuda.is_available())\n",
    "\n",
    "!set CUDA_PATH=C:\\Users\\ehess\\anaconda3\\Lib\\site-packages\\numba\\cuda\n",
    "\n",
    "import spacy"
   ]
  },
  {
   "cell_type": "code",
   "execution_count": 2,
   "metadata": {},
   "outputs": [],
   "source": [
    "df = pd.read_csv(\"contrib_from_csv.csv\", sep = \",\", encoding = \"utf-8\", dtype= str)"
   ]
  },
  {
   "cell_type": "code",
   "execution_count": 3,
   "metadata": {},
   "outputs": [],
   "source": [
    "# supprimer les fin de lignes (deux types de codages)\n",
    "join_breaklines = lambda x : x.replace(\"\\x0b\",\".\") \n",
    "join_breaklinesn = lambda x : x.replace(\"\\n\",\".\") \n",
    "join_breaklinesx92 = lambda x : x.replace(\"x92\", \"\")\n",
    "\n",
    "# supprimer les illisibles de ce corpus (plein de types de codages différents)\n",
    "kill_texte_illisible = lambda x : x.replace(\"texte illisible\", \"\")\n",
    "kill_illisible_mot = lambda x : x.replace(\"[mot ]\", \"\")\n",
    "soupir = lambda x : x.replace(\"[mot illisible]\", \"\")\n",
    "soupir2 = lambda x : x.replace(\"[mots illisibles]\", \"\")\n",
    "kill_mot_illisble = lambda x : x.replace(\"mot illisible\", \"\")\n",
    "kill_illisible = lambda x : x.replace(\"illisible\", \"\")\n",
    "kill_illisible_plural = lambda x : x.replace(\"illisibles\", \"\")\n",
    "kill_illisible_capslock = lambda x : x.replace(\"ILLISIBLE\", \"\")\n",
    "kill_illisibleS_capslock = lambda x : x.replace(\"ILLISIBLES\", \"\")\n",
    "kill_sbl = lambda x : x.replace(\"^il(?:l(?:(?:(?:isuble|sibil)|isubl)|sible)|lisible|ilsible|li?sble)$\", \"\")"
   ]
  },
  {
   "cell_type": "code",
   "execution_count": 4,
   "metadata": {},
   "outputs": [],
   "source": [
    "# application des fonctions de nettoyage\n",
    "df[\"clean\"] = df[\"Contribution\"].apply(join_breaklines)\n",
    "df[\"clean\"] = df[\"clean\"].apply(join_breaklinesn)\n",
    "df[\"clean\"] = df[\"clean\"].apply(join_breaklinesx92)\n",
    "\n",
    "df[\"clean\"] = df[\"clean\"].apply(kill_texte_illisible)\n",
    "df[\"clean\"] = df[\"clean\"].apply(kill_illisible_mot)\n",
    "df[\"clean\"] = df[\"clean\"].apply(soupir)\n",
    "df[\"clean\"] = df[\"clean\"].apply(soupir2)\n",
    "df[\"clean\"] = df[\"clean\"].apply(kill_mot_illisble)\n",
    "df[\"clean\"] = df[\"clean\"].apply(kill_illisible)\n",
    "df[\"clean\"] = df[\"clean\"].apply(kill_illisible_plural)\n",
    "df[\"clean\"] = df[\"clean\"].apply(kill_illisible_capslock)\n",
    "df[\"clean\"] = df[\"clean\"].apply(kill_illisibleS_capslock)\n",
    "df[\"clean\"] = df[\"clean\"].apply(kill_sbl)\n",
    "\n",
    "mots_a_clean = [\"fin page\", \"page écrire\", \"wanadoo\", \"vierge rayer\", \"page vierge\", \"text area\", \"gmail.com\", \"neuillyplaisance\"]\n",
    "for mot in mots_a_clean :\n",
    "    that = lambda x : x.replace(mot, \"\")\n",
    "    df[\"clean\"] = df[\"clean\"].apply(that)"
   ]
  },
  {
   "cell_type": "code",
   "execution_count": 5,
   "metadata": {},
   "outputs": [],
   "source": [
    "# écriture du résultat dans un csv\n",
    "df.to_csv(\"df_CC_cleaned.csv\", index = False)"
   ]
  },
  {
   "cell_type": "code",
   "execution_count": null,
   "metadata": {},
   "outputs": [],
   "source": []
  }
 ],
 "metadata": {
  "kernelspec": {
   "display_name": "projet_cahiers_citoyens",
   "language": "python",
   "name": "python3"
  },
  "language_info": {
   "codemirror_mode": {
    "name": "ipython",
    "version": 3
   },
   "file_extension": ".py",
   "mimetype": "text/x-python",
   "name": "python",
   "nbconvert_exporter": "python",
   "pygments_lexer": "ipython3",
   "version": "3.10.6"
  },
  "orig_nbformat": 4
 },
 "nbformat": 4,
 "nbformat_minor": 2
}

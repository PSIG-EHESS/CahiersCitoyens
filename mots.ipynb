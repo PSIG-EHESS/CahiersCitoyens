{
 "cells": [
  {
   "cell_type": "code",
   "execution_count": 16,
   "metadata": {},
   "outputs": [
    {
     "name": "stderr",
     "output_type": "stream",
     "text": [
      "[nltk_data] Downloading package punkt to\n",
      "[nltk_data]     C:\\Users\\ehess\\AppData\\Roaming\\nltk_data...\n",
      "[nltk_data]   Package punkt is already up-to-date!\n"
     ]
    },
    {
     "data": {
      "text/plain": [
       "True"
      ]
     },
     "execution_count": 16,
     "metadata": {},
     "output_type": "execute_result"
    }
   ],
   "source": [
    "import torch\n",
    "import nltk\n",
    "\n",
    "nltk.download('punkt')"
   ]
  },
  {
   "cell_type": "code",
   "execution_count": 17,
   "metadata": {},
   "outputs": [],
   "source": [
    "import pandas as pd\n",
    "# import spacy\n",
    "# import torch\n",
    "\n",
    "df = pd.read_csv(\"contrib_from_csv.csv\", sep = \",\", dtype= str)\n",
    "\n",
    "# echantillon de 10000 pour tester\n",
    "df = df.sample(10000)"
   ]
  },
  {
   "cell_type": "code",
   "execution_count": 18,
   "metadata": {},
   "outputs": [],
   "source": [
    "import spacy\n",
    "from spacy.lang.fr.examples import sentences"
   ]
  },
  {
   "cell_type": "code",
   "execution_count": 19,
   "metadata": {},
   "outputs": [
    {
     "data": {
      "text/plain": [
       "True"
      ]
     },
     "execution_count": 19,
     "metadata": {},
     "output_type": "execute_result"
    }
   ],
   "source": [
    "torch.cuda.is_available()"
   ]
  },
  {
   "cell_type": "code",
   "execution_count": 20,
   "metadata": {},
   "outputs": [],
   "source": [
    "xob_process_breakline = lambda x: x.replace(\"\\x0b\", \" \")\n",
    "n_processbreaklines = lambda x: x.replace(\"\\n\", \" \")"
   ]
  },
  {
   "cell_type": "code",
   "execution_count": 21,
   "metadata": {},
   "outputs": [],
   "source": [
    "df[\"clean_xob\"] = df[\"Contribution\"].apply(xob_process_breakline)\n",
    "df[\"clean_n\"] = df[\"clean_xob\"].apply(n_processbreaklines)"
   ]
  },
  {
   "cell_type": "code",
   "execution_count": 22,
   "metadata": {},
   "outputs": [
    {
     "data": {
      "text/plain": [
       "29088                                                                                                                                                                                                                                                                                                                                                                                                                                                                                                                                                                                                                                                                                                                                                                                                                                                                                                                                                                                                                                                                                                                                                                                                                                                                                                                                                                                                                                                                                                                                                                                                                                                                                                                                                                                                                                                                                                                                                                                                                                                                                                                                                                                                                                                                                                                                                                                                                                                                                                                                                                                     http://grandechampagne.cognac.local/mail/sgautier.nsf/($lnbox)/E873... De : Pascal Iffenecker <mairie@ville-cognac.fr> A : connnnunication@ville-cognac.fr Date : Vendredi 18 Janvier 2019 16:31 Objet : Pascal Iffenecker vous a écrit. Formulaire \"Cahier d'expression citoyenne\" posté le 18/01/2019 à 16:31:10. Depuis cette page. Nom (facultatif) : Iffenecker Prénom (facultatif) : Pascal Adresse (facultative) : 59 rue Chalais COGNAC Adresse e-mail (facultative, vous permet de recevoir un accusé de réception) : pascal.iffenecker@gmail.com Votre contribution : suppression des régimes spéciaux(tous) dans les 3 années à venir au maximum, sncf comprise et parlement, alignement complet du secteur public au secteur privé en terme de retraites, du montant des prélèvements des heures de travail réelles et du calcul des retraites , division par 3 du nombre des parlementaires, suppression des maires des villages de moins de 1000 habitants, suppression des niches fiscales, augmentation des tranches de l'impôt et suppression des allocations aux parents dont les enfants sont des délinquants...impôts sur tous les revenus quels qu'ils soient...CICE conditionné à de réelles embauches en France..suppression des avantages aux anciens ministres et présidents .. Case unique : Oui Envoi via le site Ville de Cognac Vous pouvez voir cette réponse sur cette page. Vous pouvez gérer l'ensemble des réponses sur cette page. 1 sur 21/01/2019 13:43\n",
       "119179                                                                                                                                                                                                                                                                                                                                                                                                                                                                                                                                                                                                                                                                                                                                                                                                                                                                                                                                                                                                                                                                                                                                                                                                                                                                                                                                                                                                                                                                                                                                                                                                                                                                                                                                                                                                                                                                                                                                                                                                                                                                                                                                                                                                                                                                                                                                                                                                                                                                                                                                                                                                                                                                                                                                                                                                                                                                                                                                                                                                                                                                                                                                                                                                                                                                                                                                                                                                               Le 22 janvier 2019. Géraldine Barrère Rétablissement de l'ISF. Renforcement du pouvoir d'achat pour les foyers les + modestes : une aide supplémentaire pouvait être versée aux personnes que ont un emploi afin de valoriser le travail. La différence de revenu entre une personne qui travaille et une personne bénéficiant de minimum sociaux doit être plus conséquente. Instaurer un montant de retraite minimum, au moins égal au SMIC. En contrepartie, fixer un plafond de retraite. Pour les étudiants : exonération de la taxe d'habitation les années d'étude doivent valider des trimestres pour les retraites. Suppression des privilèges des élus.\n",
       "21680                                                                                                                                                                                                                                                                                                                                                                                                                                                                                                                                                                                                                                                                                                                                                                                                                                                                                                                                                                                                                                                                                                                                                                                                                                                                                                                                                                                                                                                                                                                                                                                                                                                                                                                                                                                                                                                                                                                                                                                                                                                                                                                                                                                                                                                                                                                                                                                                                                                                                                                                                                                                                                                                                                                                                                                                                                                                                                                                                                                                                                                                                                      Stop au gaspillage de nos impôts directs ou indirects. Une fourchette à pour aider de porter les aliments de l’assiette à la bouche. En changer me donnera meilleur saveur qu’elle soit en or, en argent ou en inox. Notre patrimoine français vendu, bradé ou pillé. Privilège des hauts fonctionnaires et de leur famille à abolir après leur mandat ou par démission  Apprendre à coordonner les services publics et privés afin de ne pas gaspiller l’argent public (ex: ne pas ouvrir 10 fois les routes qui venait d’être goudronnées pour passer les fils, puis des tuyaux puis bien d’autres soit par oubli, soit par mauvaise coordination de budgets. Stop au scandale sanitaire (santé levothyrox)  Les hauts fonctionnaires doivent être compétents dans leur ministère et les intéressés financièrement. Aucun politique ne doit être attacher à un laboratoire pharmaceutique quelque soit sa fonction au sein de ce dernier. Nous ne sommes pas des cobayes.\n",
       "143875                                                                                                                                                                                                                                                                                                                                                                                                                                                                                                                                                                                                                                                                                                                                                                                                                                                                                                                                                                                                                                                                                                                                                                                                                                                                                                                                                                                                                                           Brigitte BLANC 347 rue de l'église 01390 TRAMOYES le 17 décembre 2018 Monsieur le Maire de Tramoyes Xavier Deloche 01390 TRAMOYES Objet : la réforme du cumul « emploi-chômage » en cas d'activité réduite. Monsieur le Maire, Je me permets de vous écrire en ma qualité d'assistante maternelle, afin de vous exposer mon inquiétude concernant le projet de loi de réforme de I assurance chômage. En effet, ce projet semble prévoir la révision des règles du cumul emploi-chômage et plus particulièrement des activités conservées qui concernent directement les multi-employeurs, dont les assistantes maternelles. Jusqu'à présent lorsque nous perdons un ou plusieurs contrats, une indemnité chômage (ARE) calculée à partir des contrats perdus, peut être cumulée avec les contrats toujours en cours (nos activités conservées). Ce qui est logique puisque les contrats conservés et les contrats perdus constituaient notre revenu global mensuel. Si ces règles de cumul étaient revues à la baisse, voire supprimées, ce serait profondément injuste pour nous. Nous perdons régulièrement un ou plusieurs contrats du fait de I entrée à l'école des enfants que nous gardons, déménagement des parents employeurs, changement d'avis intempestif des parents-employeurs... sans pour autant en retrouver de suite (dans notre métier, ce sont les parents qui nous contactent pour la garde de leur enfant et pas nous qui démarchons les familles). Si I indemnité chômage calculée à la suite de la perte d'un ou plusieurs contrats ne peut plus être cumulée avec les activités conservées, ce sera dramatique pour I ensemble des assistantes maternelles qui ont déjà un statut professionnel et financier suffisamment précaire ( taux horaire très bas env. 3 euro/h, des amplitudes horaires de 13h par jour, accueil des enfants très tôt pour certaines familles et très tard pour d'autres, la nuit et semaine et week-end inclus, tout en gardant plusieurs enfants en même temps afin d'obtenir un salaire décent) Par cette réforme vous souhaitez inciter les demandeurs d'emploi à reprendre un emploi ? Sachez que ce sera le contraire car bon nombre d'assistantes maternelles seront obligées d'arrêter leur activité et donc deviendront des demandeurs d'emploi indemnisées sur la totalité de leurs activités au lieu d'une partie.... Les assistantes maternelles sont des professionnelles passionnées par leur métier et sont une alternative nécessaire aux crèches, haltes-garderies et autres structures collectives qui sont très loin de comblées tous les besoins des parents.\n",
       "138667                                                                                                                                                                                                                                                                                                                                                                                                                                                                                                                                                                                                                                                                                                                                                                                                                                                                                                                                                                                                                                                                                                                                                                                                                                                                                                                                                                                                                                                                                                                                                                                                                                                                                                                                                                                                                                                                                                                                                                                                                                                                                                                                                                                                                                                                                                                                                                                                                                                                                                                                                                                                                                                                                                                                                6) Stop au manque de respect de notre président envers le peuple il nous méprise, ne nous aime pas, nous sommes des fainéants on ne respecte rien, on met de la mauvaise volonté etc..... Les seules personnes qu'il respecte sont les riches ses ILLISIBLE la question que je me pose est-ce un pion à la solde des riches 7) Il faudrait une baisse du train de vie de l'état-dépenses énormes de l'élysée pour confort personnel suivant ce que l'on entend par les médias. Diminution des Parlementaires quand on voit les salaires distribués pour certaines payés faire la sieste pendant les séances vu à la télé. Arrêtons ce gavage du gouvernement et pensons aux plus démunis et au peuple que galère. 8) Je suis contre les violences actuelles et à la détérioration de notre patrimoine nationale et humain. Je pense que c'est de la faute du Gouvernement qui ne veux rien écouter, il ne fait que souffles sur les baisses ce qui active toute cette violence en suivant les émissions à la télé on ne parle que de répression. A eux de prendre des mesures concrètes pour calmer cette haine qui monte la dictature c'est pas en France. J'espère que ce grand débat national ne sera pas un camouflet pour nous embobiner et faire ce qu'ils veulent toujours au détriment des classes moyennes et ILLISIBLE\n",
       "123808                                                                                                                                                                                                                                                                                                                                                                                                                                                                                                                                                                                                                                                                                                                                                                                                                                                                                                                                                                                                                                                                                                                                                                                                                                                                                                                                                                                                                                                                                                                                                                                                                                                                                                                                                                                                                                                                                                                                                                                                                                                                                                                                                                                                                                                                                                                                                                                                                                                                                                                                                                                                                                                                                                                                                                                                                                                                                                                                                                                                                                                                                                                                                                                                                                                                                                                                                                                                                                                                                                                                                                                                                                                                                                                                                                                                                                                                                                                                                                                                                                       La démission du gouvernement et de Macron\n",
       "196407    Voici mes idées qui participeront au débat national (je n'ai pas eu le temps de les classer par ordre de priorité, mais ne sont-elles pas toutes importantes et prioritaires !). Je vous narre ci-après, ce que des milliers de gens pensent comme moi et qui n'osent pas l'écrire. Je me fais leur Interprète pour certains d'entre eux. Faire la chasse aux faux chômeurs. Baisser les charges de nos petites entreprises, des agriculteurs .... Et aider nos jeunes français talentueux, qui ont de bonnes idées pour se développer en France et éviter ainsi la fuite de nos élites à l'étranger. Privilégier le MADE IN France,. Limiter l'immigration, Le fait d'accepter des arrivées massives de migrants peut être considérée comme de la non-assistance aux personnes puisque une fois implantés sur le continent, ils sont livrés à eux-mêmes vivant dans des conditions insalubres. La France n'a plus les moyens d'accueillir la misère de la terre entière. Il faut déjà régler le problème du chômage, du mal logement...chez nous avant d'être en mesure d'accepter quelques étrangers qui ont envie de s'intégrer et accepter nos us et coutumes. Proscrire le recrutement de hauts dirigeants (exemple : militaires...), lesquels une fois à la retraite sont embauchés sur des postes à responsabilité (dans le civil) occupant des emplois qui pourraient peut-être confiés à de jeunes cadres brillants. Ces anciens militaires cumulent donc une retraite plus que confortable avec un salaire non négligeable dans le civil. Durcir les contrôles pour lutter contre la fraude, de quelle que nature que ce soit : sécurité sociale, chômage, allpçations diverses,,,,,. S'attaquer à notre taux de natalité (et ce pour la planète entière). Nos ressources ne sont pas inépuisables et notre planète ne peut plus fournir les besoins primordiaux (eau, nourriture, travail, soins médicaux....). Quelqu'un se poserait 'il un jour cette question qui peut choquer de prime à bord mais qui ne doit pas pour autant être éludée ?. Justice : notre système pénal doit être repensé. On doit s'attaquer au sort des récidivistes (auteurs de crimes crapuleux formellement identifiés, sans oublier les auteurs d'attentats. Je pense à l'assassinat de la petite Maelys, mais pas que. Réinstaurés les TIG, rouvrir les camps pour ce type d'assassins. Leurs conditions de détentions doivent être à la hauteur des souffrances subies par leur victime. Aucun régime de faveur, même si les DROITS DE L'HOMME ne l'autorisent pas. Nous ferions des économies dans ce domaine. En ce qui concerne les auteurs d'attentats, leur ôter la nationalité française avec un retour dans leur pays d'origine et un jugement à la charge de son pays. Rétablir la peine de mort pour les cas cités supra. Le débat concernant la FIN DE VIE doit être relancé et débouché sur des décisions concrètes. La France est à la traîne dans ce domaine. Taxer les banques un maximum qui se font des bénéfices sur le dos de leur client. Gestion des autoroutes : l'Etat devrait limiter les bénéfices que font les autoroutes qui ne se privent pas d'appliquer des augmentations. .../... Favoriser le recrutement de personnel soignant notamment dans les EHPAD qui souffrent de sous-effectif, en instaurant des primes d'attractivité. Ce type de structures sont encore insuffisantes en France. Nous avons la chance de vivre de plus en plus vieux mais les structures d'accueil et le personnel compétent manquent cruellement. Limiter les dépenses publiques faites sur le dos des contribuables français . les réceptions dispendieuses (je pense à la réception des chefs d'états, des grands industriels... par notre chef d'Etat) ne devraient plus exister. Nous n'avons plus les moyens de le faire. C'est de la pure provocation, alors que le peuple français est en sôüffrâhcê et què nos caisses sont vidés. Oh hê pëüf pas sans cëSsê déiHâhdér aux français de faire des efforts et à côté voir comment l'argent public est dilapidé.\n",
       "127855                                                                                                                                                                                                                                                                                                                                                                                                                                                                                                                                                                                                                                                                                                                                                                                                                                                                                                                                                                                                                                                                                                                                                                                                                                                                                                                                                                                                                                                                                                                                                                                                                                                                                                                                                                                                                                                                                                                                                                                                                                                                                                                                                                                                                                                                                                                                                                                                                                                                   • Égalité : que tous les droits sociaux soient fiscalisés pour que chaque citoyen apporte sa contribution à la nation au lieu d'être simplement assisté • Énergie ; est-ce bien normal de faire croire au citoyen lambda qu'il est écologique en utilisant un moyen de locomotion à assistance électrique, quand on sait que 85 % de l'électricité produite en France est nucléaire. L'énergie atomique est loin cf être propre avec des déchets dont on ne sait que faire et des centrales que l'on ne sait pas fermer • Hypocrisie : le gouvernement s'était engagé à faire la guerre aux paradis fiscaux ;or le Luxembourg. pays membre de la CEE. poursuit ses activités illicites ; par ailleurs, c'est par le biais de FACEBOOK et GOOGLE que le mouvement des gilets jaunes s'est organisé avec pour conséquence au niveau du commerce une hausse de l'activité d'AMAZONE. il est aberrant de constater que ces 3 géants du numérique, sans oublier APPLE ne paient pas leurs impôts en France • Justice : profitons de l'occasion qui nous est (enfin) donnée pour adresser le message suivant à G. Colomb : M. Colomb, la mairie de Lyon ne vous appartient pas ! • Culture : le 1er pas vers la sagesse consiste à sortir de l'ignorance. Comment? Entre autres en se cultivant. Comment expliquer que les bibliothèques ne font jamais nocturne et qu'elles ferment plus tôt les week-ends et durant les vacances? • Abrutissement : des gens cultivés et responsables cesseraient peut-être d'aduler des sportifs payés à des niveaux indécents Elisabeth Sapin 40, rue des marroniers 57070 Metz\n",
       "97116                                                                                                                                                                                                                                                                                                                                                                                                                                                                                                                                                                                                                                                                                                                                                                                                                                                                                                                                                                                                                                                                                                                                                                                                                                                                                                                                                                                                                                                                                                                                                                                                                                                                                                                                                                                                                                                                                                                                                                                                                                                                                                                                                                                                                                                                                                                                                                                                                                                                                                                                                                                                                                                                                     La transition écologique Le gouvernement doit imposer aux constructeurs automobile français de produire au minimum 1 véhicule électrique de moins de 15000 euro de 4 places roulant au minimum à 110 km /h pendant 4 heures avant de parler de taxe sur les carburants. Nous ne fabriquons même pas une seule batterie en France. Le gouvernement doit dire vers quels énergies nous devons nous diriger pour le futur !!!! Le diesel augmente la pollution alors pourquoi ne pas supprimer les camions ,les bateaux porte container, les ferrys,les locomotives diesels,les bateaux croisières,les avions Les véhicules essences ne sont pas moins polluants ,alors pourquoi prendre un tel prétexte Le glyphosate est dangereux pour l'environnement pourquoi l'interdire aux commune et aux particuliers et le laisser aux agriculteurs. Les insecticides représentent un risque encore plus énorme pour l'environnement pourquoi l'état ne fait rien ,serais-ce les lobbies qui dictent nos cher député pour l'écologie. Tant qu'il y aura un profit quelconque à réaliser les grands groupe pétrolier vont continuer à polluer la planète ,alors pourquoi autoriser total à forer en Guyane Comment gérer le transport dans les campagnes,voila une bonne question pour notre député de l'eure !!!nous n'avons pas le métro ,les lignes sncf sont supprimées,nous ne sommes pas a PARIS\n",
       "51113                                                                                                                                                                                                                                                                                                                                                                                                                                                                                                                                                                                                                                                                                                                                                                                                                                                                                                                                                                                                                                                                                                                                                                                                                                                                                                                                                                                                                                                                                                                                                                                                                                                                                                                                                                                                                                                                                                                                                                                                                                                                                                                                                                                                                                                                                                                                                                                                                                                                                                                                                                                                                                                                                                                                                                                                                                                                                                                                                                                                                                                                                                                                                                                                                                                                                                                                                                                                                                                                                                                                      L'homme, 36 ans cité jardin Autres la pollution de toutes les eaux et des leurs  Contraindre les multinationales et plus petites entreprises à respecter notre planète serre à l'aide de lois et de référents Manger moins de viande (déjection d'animaux polluant la ma en Bretagne) Oui, par le prix exorbitant des fruits et lé gagnes de qualité (moins de certitudes métrologiques, plus de perte par les cultivateurs et hausse du prix des produits Supprimer les transports aériens et maritimes des containers c'est très polluant\n",
       "Name: clean_n, dtype: object"
      ]
     },
     "execution_count": 22,
     "metadata": {},
     "output_type": "execute_result"
    }
   ],
   "source": [
    "pd.set_option(\"display.max_colwidth\", None)\n",
    "df[\"clean_n\"][0:10]"
   ]
  },
  {
   "cell_type": "code",
   "execution_count": 23,
   "metadata": {},
   "outputs": [
    {
     "data": {
      "text/plain": [
       "'http://grandechampagne.cognac.local/mail/sgautier.nsf/($lnbox)/E873... De : Pascal Iffenecker <mairie@ville-cognac.fr> A : connnnunication@ville-cognac.fr Date : Vendredi 18 Janvier 2019 16:31 Objet : Pascal Iffenecker vous a écrit. Formulaire \"Cahier d\\'expression citoyenne\" posté le 18/01/2019 à 16:31:10. Depuis cette page. Nom (facultatif) : Iffenecker Prénom (facultatif) : Pascal Adresse (facultative) : 59 rue Chalais COGNAC Adresse e-mail (facultative, vous permet de recevoir un accusé de réception) : pascal.iffenecker@gmail.com Votre contribution : suppression des régimes spéciaux(tous) dans les 3 années à venir au maximum, sncf comprise et parlement, alignement complet du secteur public au secteur privé en terme de retraites, du montant des prélèvements des heures de travail réelles et du calcul des retraites , division par 3 du nombre des parlementaires, suppression des maires des villages de moins de 1000 habitants, suppression des niches fiscales, augmentation des tranches de l\\'impôt et suppression des allocations aux parents dont les enfants sont des délinquants...impôts sur tous les revenus quels qu\\'ils soient...CICE conditionné à de réelles embauches en France..suppression des avantages aux anciens ministres et présidents .. Case unique : Oui Envoi via le site Ville de Cognac Vous pouvez voir cette réponse sur cette page. Vous pouvez gérer l\\'ensemble des réponses sur cette page. 1 sur 21/01/2019 13:43'"
      ]
     },
     "execution_count": 23,
     "metadata": {},
     "output_type": "execute_result"
    }
   ],
   "source": [
    "# TODO remove \"illisible\"\n",
    "documents = df.clean_n.tolist()\n",
    "documents[0]"
   ]
  },
  {
   "cell_type": "code",
   "execution_count": 24,
   "metadata": {},
   "outputs": [],
   "source": [
    "from spacy.lang.fr.stop_words import STOP_WORDS as fr_stop\n",
    "from spacy.lang.en.stop_words import STOP_WORDS as en_stop\n",
    "\n",
    "final_stopwords_list = list(fr_stop) + list(en_stop) + [\"\\n\"]\n",
    "\n",
    "def remove_stopwords(text):\n",
    "    stopwords = final_stopwords_list\n",
    "    text = [word for word in text if word not in stopwords]\n",
    "    return text"
   ]
  },
  {
   "cell_type": "code",
   "execution_count": 25,
   "metadata": {},
   "outputs": [],
   "source": [
    "nostopword = remove_stopwords(documents)"
   ]
  },
  {
   "cell_type": "code",
   "execution_count": null,
   "metadata": {},
   "outputs": [],
   "source": [
    "pip"
   ]
  },
  {
   "cell_type": "code",
   "execution_count": 26,
   "metadata": {},
   "outputs": [],
   "source": [
    "def lemmatize(docs, allowed_postags = [\"NOUN\", \"ADJ\", \"VERB\", \"ADV\"]):\n",
    "  '''\n",
    "  Performs lemmization of input documents.\n",
    "  Args:\n",
    "    - docs: list of strings with input documents\n",
    "    - allowed_postags: list of accepted Part of Speech (POS) types\n",
    "  Output:\n",
    "    - list of strings with lemmatized input\n",
    "  '''\n",
    "  nlp = spacy.load(\"fr_core_news_md\", disable = [\"parser\", \"ner\"])\n",
    "  nlp.max_length = 3000000 #this is possible as we're not using parser or ner.\n",
    "  lemmatized_docs = []\n",
    "  for doc in docs:\n",
    "    doc = nlp(doc)\n",
    "    tokens = []\n",
    "    for token in doc:\n",
    "      if token.pos_ in allowed_postags:\n",
    "        tokens.append(token.lemma_)\n",
    "    lemmatized_docs.append(\" \".join(tokens))\n",
    "  return (lemmatized_docs)"
   ]
  },
  {
   "cell_type": "code",
   "execution_count": 27,
   "metadata": {},
   "outputs": [
    {
     "ename": "OSError",
     "evalue": "[E050] Can't find model 'fr_core_news_md'. It doesn't seem to be a Python package or a valid path to a data directory.",
     "output_type": "error",
     "traceback": [
      "\u001b[1;31m---------------------------------------------------------------------------\u001b[0m",
      "\u001b[1;31mOSError\u001b[0m                                   Traceback (most recent call last)",
      "Cell \u001b[1;32mIn[27], line 1\u001b[0m\n\u001b[1;32m----> 1\u001b[0m lemmatized \u001b[38;5;241m=\u001b[39m \u001b[43mlemmatize\u001b[49m\u001b[43m(\u001b[49m\u001b[43mnostopword\u001b[49m\u001b[43m)\u001b[49m\n\u001b[0;32m      2\u001b[0m lemmatized[\u001b[38;5;241m0\u001b[39m:\u001b[38;5;241m10\u001b[39m]\n",
      "Cell \u001b[1;32mIn[26], line 10\u001b[0m, in \u001b[0;36mlemmatize\u001b[1;34m(docs, allowed_postags)\u001b[0m\n\u001b[0;32m      1\u001b[0m \u001b[38;5;28;01mdef\u001b[39;00m \u001b[38;5;21mlemmatize\u001b[39m(docs, allowed_postags \u001b[38;5;241m=\u001b[39m [\u001b[38;5;124m\"\u001b[39m\u001b[38;5;124mNOUN\u001b[39m\u001b[38;5;124m\"\u001b[39m, \u001b[38;5;124m\"\u001b[39m\u001b[38;5;124mADJ\u001b[39m\u001b[38;5;124m\"\u001b[39m, \u001b[38;5;124m\"\u001b[39m\u001b[38;5;124mVERB\u001b[39m\u001b[38;5;124m\"\u001b[39m, \u001b[38;5;124m\"\u001b[39m\u001b[38;5;124mADV\u001b[39m\u001b[38;5;124m\"\u001b[39m]):\n\u001b[0;32m      2\u001b[0m   \u001b[38;5;124;03m'''\u001b[39;00m\n\u001b[0;32m      3\u001b[0m \u001b[38;5;124;03m  Performs lemmization of input documents.\u001b[39;00m\n\u001b[0;32m      4\u001b[0m \u001b[38;5;124;03m  Args:\u001b[39;00m\n\u001b[1;32m   (...)\u001b[0m\n\u001b[0;32m      8\u001b[0m \u001b[38;5;124;03m    - list of strings with lemmatized input\u001b[39;00m\n\u001b[0;32m      9\u001b[0m \u001b[38;5;124;03m  '''\u001b[39;00m\n\u001b[1;32m---> 10\u001b[0m   nlp \u001b[38;5;241m=\u001b[39m \u001b[43mspacy\u001b[49m\u001b[38;5;241;43m.\u001b[39;49m\u001b[43mload\u001b[49m\u001b[43m(\u001b[49m\u001b[38;5;124;43m\"\u001b[39;49m\u001b[38;5;124;43mfr_core_news_md\u001b[39;49m\u001b[38;5;124;43m\"\u001b[39;49m\u001b[43m,\u001b[49m\u001b[43m \u001b[49m\u001b[43mdisable\u001b[49m\u001b[43m \u001b[49m\u001b[38;5;241;43m=\u001b[39;49m\u001b[43m \u001b[49m\u001b[43m[\u001b[49m\u001b[38;5;124;43m\"\u001b[39;49m\u001b[38;5;124;43mparser\u001b[39;49m\u001b[38;5;124;43m\"\u001b[39;49m\u001b[43m,\u001b[49m\u001b[43m \u001b[49m\u001b[38;5;124;43m\"\u001b[39;49m\u001b[38;5;124;43mner\u001b[39;49m\u001b[38;5;124;43m\"\u001b[39;49m\u001b[43m]\u001b[49m\u001b[43m)\u001b[49m\n\u001b[0;32m     11\u001b[0m   nlp\u001b[38;5;241m.\u001b[39mmax_length \u001b[38;5;241m=\u001b[39m \u001b[38;5;241m3000000\u001b[39m \u001b[38;5;66;03m#this is possible as we're not using parser or ner.\u001b[39;00m\n\u001b[0;32m     12\u001b[0m   lemmatized_docs \u001b[38;5;241m=\u001b[39m []\n",
      "File \u001b[1;32m~\\anaconda3\\envs\\py310\\lib\\site-packages\\spacy\\__init__.py:54\u001b[0m, in \u001b[0;36mload\u001b[1;34m(name, vocab, disable, enable, exclude, config)\u001b[0m\n\u001b[0;32m     30\u001b[0m \u001b[38;5;28;01mdef\u001b[39;00m \u001b[38;5;21mload\u001b[39m(\n\u001b[0;32m     31\u001b[0m     name: Union[\u001b[38;5;28mstr\u001b[39m, Path],\n\u001b[0;32m     32\u001b[0m     \u001b[38;5;241m*\u001b[39m,\n\u001b[1;32m   (...)\u001b[0m\n\u001b[0;32m     37\u001b[0m     config: Union[Dict[\u001b[38;5;28mstr\u001b[39m, Any], Config] \u001b[38;5;241m=\u001b[39m util\u001b[38;5;241m.\u001b[39mSimpleFrozenDict(),\n\u001b[0;32m     38\u001b[0m ) \u001b[38;5;241m-\u001b[39m\u001b[38;5;241m>\u001b[39m Language:\n\u001b[0;32m     39\u001b[0m     \u001b[38;5;124;03m\"\"\"Load a spaCy model from an installed package or a local path.\u001b[39;00m\n\u001b[0;32m     40\u001b[0m \n\u001b[0;32m     41\u001b[0m \u001b[38;5;124;03m    name (str): Package name or model path.\u001b[39;00m\n\u001b[1;32m   (...)\u001b[0m\n\u001b[0;32m     52\u001b[0m \u001b[38;5;124;03m    RETURNS (Language): The loaded nlp object.\u001b[39;00m\n\u001b[0;32m     53\u001b[0m \u001b[38;5;124;03m    \"\"\"\u001b[39;00m\n\u001b[1;32m---> 54\u001b[0m     \u001b[38;5;28;01mreturn\u001b[39;00m \u001b[43mutil\u001b[49m\u001b[38;5;241;43m.\u001b[39;49m\u001b[43mload_model\u001b[49m\u001b[43m(\u001b[49m\n\u001b[0;32m     55\u001b[0m \u001b[43m        \u001b[49m\u001b[43mname\u001b[49m\u001b[43m,\u001b[49m\n\u001b[0;32m     56\u001b[0m \u001b[43m        \u001b[49m\u001b[43mvocab\u001b[49m\u001b[38;5;241;43m=\u001b[39;49m\u001b[43mvocab\u001b[49m\u001b[43m,\u001b[49m\n\u001b[0;32m     57\u001b[0m \u001b[43m        \u001b[49m\u001b[43mdisable\u001b[49m\u001b[38;5;241;43m=\u001b[39;49m\u001b[43mdisable\u001b[49m\u001b[43m,\u001b[49m\n\u001b[0;32m     58\u001b[0m \u001b[43m        \u001b[49m\u001b[43menable\u001b[49m\u001b[38;5;241;43m=\u001b[39;49m\u001b[43menable\u001b[49m\u001b[43m,\u001b[49m\n\u001b[0;32m     59\u001b[0m \u001b[43m        \u001b[49m\u001b[43mexclude\u001b[49m\u001b[38;5;241;43m=\u001b[39;49m\u001b[43mexclude\u001b[49m\u001b[43m,\u001b[49m\n\u001b[0;32m     60\u001b[0m \u001b[43m        \u001b[49m\u001b[43mconfig\u001b[49m\u001b[38;5;241;43m=\u001b[39;49m\u001b[43mconfig\u001b[49m\u001b[43m,\u001b[49m\n\u001b[0;32m     61\u001b[0m \u001b[43m    \u001b[49m\u001b[43m)\u001b[49m\n",
      "File \u001b[1;32m~\\anaconda3\\envs\\py310\\lib\\site-packages\\spacy\\util.py:449\u001b[0m, in \u001b[0;36mload_model\u001b[1;34m(name, vocab, disable, enable, exclude, config)\u001b[0m\n\u001b[0;32m    447\u001b[0m \u001b[38;5;28;01mif\u001b[39;00m name \u001b[38;5;129;01min\u001b[39;00m OLD_MODEL_SHORTCUTS:\n\u001b[0;32m    448\u001b[0m     \u001b[38;5;28;01mraise\u001b[39;00m \u001b[38;5;167;01mIOError\u001b[39;00m(Errors\u001b[38;5;241m.\u001b[39mE941\u001b[38;5;241m.\u001b[39mformat(name\u001b[38;5;241m=\u001b[39mname, full\u001b[38;5;241m=\u001b[39mOLD_MODEL_SHORTCUTS[name]))  \u001b[38;5;66;03m# type: ignore[index]\u001b[39;00m\n\u001b[1;32m--> 449\u001b[0m \u001b[38;5;28;01mraise\u001b[39;00m \u001b[38;5;167;01mIOError\u001b[39;00m(Errors\u001b[38;5;241m.\u001b[39mE050\u001b[38;5;241m.\u001b[39mformat(name\u001b[38;5;241m=\u001b[39mname))\n",
      "\u001b[1;31mOSError\u001b[0m: [E050] Can't find model 'fr_core_news_md'. It doesn't seem to be a Python package or a valid path to a data directory."
     ]
    }
   ],
   "source": [
    "lemmatized = lemmatize(nostopword)\n",
    "lemmatized[0:10]"
   ]
  },
  {
   "cell_type": "code",
   "execution_count": 6,
   "metadata": {},
   "outputs": [
    {
     "ename": "UnboundLocalError",
     "evalue": "local variable 'nlp' referenced before assignment",
     "output_type": "error",
     "traceback": [
      "\u001b[1;31m---------------------------------------------------------------------------\u001b[0m",
      "\u001b[1;31mUnboundLocalError\u001b[0m                         Traceback (most recent call last)",
      "Cell \u001b[1;32mIn[6], line 1\u001b[0m\n\u001b[1;32m----> 1\u001b[0m df[\u001b[38;5;124m\"\u001b[39m\u001b[38;5;124mcleaned\u001b[39m\u001b[38;5;124m\"\u001b[39m] \u001b[38;5;241m=\u001b[39m \u001b[43mdf\u001b[49m\u001b[43m[\u001b[49m\u001b[38;5;124;43m\"\u001b[39;49m\u001b[38;5;124;43mContribution\u001b[39;49m\u001b[38;5;124;43m\"\u001b[39;49m\u001b[43m]\u001b[49m\u001b[43m[\u001b[49m\u001b[38;5;241;43m0\u001b[39;49m\u001b[43m:\u001b[49m\u001b[38;5;241;43m10\u001b[39;49m\u001b[43m]\u001b[49m\u001b[38;5;241;43m.\u001b[39;49m\u001b[43mapply\u001b[49m\u001b[43m(\u001b[49m\u001b[43mpreprocess\u001b[49m\u001b[43m)\u001b[49m\n",
      "File \u001b[1;32m~\\anaconda3\\envs\\py310\\lib\\site-packages\\pandas\\core\\series.py:4631\u001b[0m, in \u001b[0;36mSeries.apply\u001b[1;34m(self, func, convert_dtype, args, **kwargs)\u001b[0m\n\u001b[0;32m   4521\u001b[0m \u001b[38;5;28;01mdef\u001b[39;00m \u001b[38;5;21mapply\u001b[39m(\n\u001b[0;32m   4522\u001b[0m     \u001b[38;5;28mself\u001b[39m,\n\u001b[0;32m   4523\u001b[0m     func: AggFuncType,\n\u001b[1;32m   (...)\u001b[0m\n\u001b[0;32m   4526\u001b[0m     \u001b[38;5;241m*\u001b[39m\u001b[38;5;241m*\u001b[39mkwargs,\n\u001b[0;32m   4527\u001b[0m ) \u001b[38;5;241m-\u001b[39m\u001b[38;5;241m>\u001b[39m DataFrame \u001b[38;5;241m|\u001b[39m Series:\n\u001b[0;32m   4528\u001b[0m     \u001b[38;5;124;03m\"\"\"\u001b[39;00m\n\u001b[0;32m   4529\u001b[0m \u001b[38;5;124;03m    Invoke function on values of Series.\u001b[39;00m\n\u001b[0;32m   4530\u001b[0m \n\u001b[1;32m   (...)\u001b[0m\n\u001b[0;32m   4629\u001b[0m \u001b[38;5;124;03m    dtype: float64\u001b[39;00m\n\u001b[0;32m   4630\u001b[0m \u001b[38;5;124;03m    \"\"\"\u001b[39;00m\n\u001b[1;32m-> 4631\u001b[0m     \u001b[38;5;28;01mreturn\u001b[39;00m \u001b[43mSeriesApply\u001b[49m\u001b[43m(\u001b[49m\u001b[38;5;28;43mself\u001b[39;49m\u001b[43m,\u001b[49m\u001b[43m \u001b[49m\u001b[43mfunc\u001b[49m\u001b[43m,\u001b[49m\u001b[43m \u001b[49m\u001b[43mconvert_dtype\u001b[49m\u001b[43m,\u001b[49m\u001b[43m \u001b[49m\u001b[43margs\u001b[49m\u001b[43m,\u001b[49m\u001b[43m \u001b[49m\u001b[43mkwargs\u001b[49m\u001b[43m)\u001b[49m\u001b[38;5;241;43m.\u001b[39;49m\u001b[43mapply\u001b[49m\u001b[43m(\u001b[49m\u001b[43m)\u001b[49m\n",
      "File \u001b[1;32m~\\anaconda3\\envs\\py310\\lib\\site-packages\\pandas\\core\\apply.py:1025\u001b[0m, in \u001b[0;36mSeriesApply.apply\u001b[1;34m(self)\u001b[0m\n\u001b[0;32m   1022\u001b[0m     \u001b[38;5;28;01mreturn\u001b[39;00m \u001b[38;5;28mself\u001b[39m\u001b[38;5;241m.\u001b[39mapply_str()\n\u001b[0;32m   1024\u001b[0m \u001b[38;5;66;03m# self.f is Callable\u001b[39;00m\n\u001b[1;32m-> 1025\u001b[0m \u001b[38;5;28;01mreturn\u001b[39;00m \u001b[38;5;28;43mself\u001b[39;49m\u001b[38;5;241;43m.\u001b[39;49m\u001b[43mapply_standard\u001b[49m\u001b[43m(\u001b[49m\u001b[43m)\u001b[49m\n",
      "File \u001b[1;32m~\\anaconda3\\envs\\py310\\lib\\site-packages\\pandas\\core\\apply.py:1076\u001b[0m, in \u001b[0;36mSeriesApply.apply_standard\u001b[1;34m(self)\u001b[0m\n\u001b[0;32m   1074\u001b[0m     \u001b[38;5;28;01melse\u001b[39;00m:\n\u001b[0;32m   1075\u001b[0m         values \u001b[38;5;241m=\u001b[39m obj\u001b[38;5;241m.\u001b[39mastype(\u001b[38;5;28mobject\u001b[39m)\u001b[38;5;241m.\u001b[39m_values\n\u001b[1;32m-> 1076\u001b[0m         mapped \u001b[38;5;241m=\u001b[39m \u001b[43mlib\u001b[49m\u001b[38;5;241;43m.\u001b[39;49m\u001b[43mmap_infer\u001b[49m\u001b[43m(\u001b[49m\n\u001b[0;32m   1077\u001b[0m \u001b[43m            \u001b[49m\u001b[43mvalues\u001b[49m\u001b[43m,\u001b[49m\n\u001b[0;32m   1078\u001b[0m \u001b[43m            \u001b[49m\u001b[43mf\u001b[49m\u001b[43m,\u001b[49m\n\u001b[0;32m   1079\u001b[0m \u001b[43m            \u001b[49m\u001b[43mconvert\u001b[49m\u001b[38;5;241;43m=\u001b[39;49m\u001b[38;5;28;43mself\u001b[39;49m\u001b[38;5;241;43m.\u001b[39;49m\u001b[43mconvert_dtype\u001b[49m\u001b[43m,\u001b[49m\n\u001b[0;32m   1080\u001b[0m \u001b[43m        \u001b[49m\u001b[43m)\u001b[49m\n\u001b[0;32m   1082\u001b[0m \u001b[38;5;28;01mif\u001b[39;00m \u001b[38;5;28mlen\u001b[39m(mapped) \u001b[38;5;129;01mand\u001b[39;00m \u001b[38;5;28misinstance\u001b[39m(mapped[\u001b[38;5;241m0\u001b[39m], ABCSeries):\n\u001b[0;32m   1083\u001b[0m     \u001b[38;5;66;03m# GH#43986 Need to do list(mapped) in order to get treated as nested\u001b[39;00m\n\u001b[0;32m   1084\u001b[0m     \u001b[38;5;66;03m#  See also GH#25959 regarding EA support\u001b[39;00m\n\u001b[0;32m   1085\u001b[0m     \u001b[38;5;28;01mreturn\u001b[39;00m obj\u001b[38;5;241m.\u001b[39m_constructor_expanddim(\u001b[38;5;28mlist\u001b[39m(mapped), index\u001b[38;5;241m=\u001b[39mobj\u001b[38;5;241m.\u001b[39mindex)\n",
      "File \u001b[1;32m~\\anaconda3\\envs\\py310\\lib\\site-packages\\pandas\\_libs\\lib.pyx:2834\u001b[0m, in \u001b[0;36mpandas._libs.lib.map_infer\u001b[1;34m()\u001b[0m\n",
      "Cell \u001b[1;32mIn[5], line 17\u001b[0m, in \u001b[0;36mpreprocess\u001b[1;34m(text)\u001b[0m\n\u001b[0;32m     14\u001b[0m \u001b[38;5;28;01mdef\u001b[39;00m \u001b[38;5;21mpreprocess\u001b[39m(text):\n\u001b[0;32m     15\u001b[0m   text \u001b[38;5;241m=\u001b[39m text\u001b[38;5;241m.\u001b[39mreplace(newline, \u001b[38;5;124m\"\u001b[39m\u001b[38;5;124m \u001b[39m\u001b[38;5;124m\"\u001b[39m)\n\u001b[1;32m---> 17\u001b[0m   tokens \u001b[38;5;241m=\u001b[39m \u001b[43mnlp\u001b[49m(text)\n\u001b[0;32m     18\u001b[0m   nlp \u001b[38;5;241m=\u001b[39m spacy\u001b[38;5;241m.\u001b[39mload(\u001b[38;5;124m\"\u001b[39m\u001b[38;5;124mfr_core_news_sm\u001b[39m\u001b[38;5;124m\"\u001b[39m, disable \u001b[38;5;241m=\u001b[39m [\u001b[38;5;124m\"\u001b[39m\u001b[38;5;124mparser\u001b[39m\u001b[38;5;124m\"\u001b[39m, \u001b[38;5;124m\"\u001b[39m\u001b[38;5;124mner\u001b[39m\u001b[38;5;124m\"\u001b[39m])\n\u001b[0;32m     19\u001b[0m   nlp\u001b[38;5;241m.\u001b[39mmax_length \u001b[38;5;241m=\u001b[39m \u001b[38;5;241m3000000\u001b[39m \u001b[38;5;66;03m#this is possible as we're not using parser or ner.\u001b[39;00m\n",
      "\u001b[1;31mUnboundLocalError\u001b[0m: local variable 'nlp' referenced before assignment"
     ]
    }
   ],
   "source": [
    "# df[\"cleaned\"] = df[\"Contribution\"][0:10].apply(preprocess)"
   ]
  },
  {
   "cell_type": "code",
   "execution_count": 91,
   "metadata": {},
   "outputs": [
    {
     "name": "stdout",
     "output_type": "stream",
     "text": [
      "142722    31.12.2018 . indexation retraites niveau infla...\n",
      "27066     révolte gilets jaunes mérite réveiller conscie...\n",
      "128861    10 janvier 2019 niggemann patrick 116 rue past...\n",
      "30479     objet : propositions sujets cadre grand débat ...\n",
      "125689    grand débat national \" debat éclairer décision...\n",
      "                                ...                        \n",
      "109900                                                  NaN\n",
      "222554                                                  NaN\n",
      "93436                                                   NaN\n",
      "214835                                                  NaN\n",
      "143696                                                  NaN\n",
      "Name: cleaned, Length: 10000, dtype: object\n"
     ]
    }
   ],
   "source": [
    "# print(df['cleaned'])"
   ]
  },
  {
   "cell_type": "code",
   "execution_count": 92,
   "metadata": {},
   "outputs": [],
   "source": [
    "from spacy.lang.fr.examples import sentences "
   ]
  },
  {
   "cell_type": "code",
   "execution_count": 6,
   "metadata": {},
   "outputs": [],
   "source": [
    "from top2vec import Top2Vec"
   ]
  },
  {
   "cell_type": "code",
   "execution_count": 5,
   "metadata": {},
   "outputs": [
    {
     "data": {
      "text/plain": [
       "\"personne ne parle de la fraude fiscale qui coûte à l'État : 5 milliards d'euros par an commerçants artisans PME qui touchent sur la TVA alors que nos salariés nous ne pouvons pas tricher pour l'impôt sur le revenu qui est tout déclaré. Plus d'évasion fiscale 68 milliards par an artistes, chanteurs etc. ISF : 4 milliards\""
      ]
     },
     "execution_count": 5,
     "metadata": {},
     "output_type": "execute_result"
    }
   ],
   "source": [
    "contribs = df.Contribution.tolist()\n",
    "contribs[0]"
   ]
  },
  {
   "cell_type": "code",
   "execution_count": 7,
   "metadata": {},
   "outputs": [
    {
     "name": "stderr",
     "output_type": "stream",
     "text": [
      "2023-04-07 12:17:29,705 - top2vec - INFO - Pre-processing documents for training\n",
      "2023-04-07 12:17:35,982 - top2vec - INFO - Creating joint document/word embedding\n",
      "2023-04-07 12:20:14,498 - top2vec - INFO - Creating lower dimension embedding of documents\n",
      "2023-04-07 12:20:49,618 - top2vec - INFO - Finding dense areas of documents\n",
      "2023-04-07 12:20:50,407 - top2vec - INFO - Finding topics\n"
     ]
    }
   ],
   "source": [
    "model = Top2Vec(contribs)"
   ]
  },
  {
   "cell_type": "code",
   "execution_count": 9,
   "metadata": {},
   "outputs": [],
   "source": [
    "topic_words, word_scores, topic_nums = model.get_topics()"
   ]
  },
  {
   "cell_type": "code",
   "execution_count": 10,
   "metadata": {},
   "outputs": [
    {
     "data": {
      "text/plain": [
       "array([['pesticides', 'production', 'biologique', ..., 'industrielles',\n",
       "        'polluantes', 'ecologiques'],\n",
       "       ['presidents', 'anciens', 'ministres', ..., 'commissions',\n",
       "        'salaires', 'remunerations'],\n",
       "       ['mon', 'mari', 'suis', ..., 'maison', 'heureusement', 'monsieur'],\n",
       "       ...,\n",
       "       ['comment', 'clamart', 'proposez', ..., 'definis', 'concretes',\n",
       "        'annuels'],\n",
       "       ['industrielles', 'concurrents', 'importes', ..., 'productions',\n",
       "        'fiscalite', 'quel'],\n",
       "       ['expulsion', 'marrakech', 'abrogation', ..., 'seniors',\n",
       "        'familial', 'loi']], dtype='<U15')"
      ]
     },
     "execution_count": 10,
     "metadata": {},
     "output_type": "execute_result"
    }
   ],
   "source": [
    "topic_words"
   ]
  },
  {
   "cell_type": "code",
   "execution_count": 5,
   "metadata": {},
   "outputs": [
    {
     "name": "stdout",
     "output_type": "stream",
     "text": [
      "225\n"
     ]
    }
   ],
   "source": [
    "rows, columns = df.shape\n",
    "print(rows//1000)\n"
   ]
  },
  {
   "cell_type": "code",
   "execution_count": 5,
   "metadata": {
    "collapsed": true
   },
   "outputs": [],
   "source": [
    "newline = \"\\n\"\n",
    "from spacy.lang.fr.stop_words import STOP_WORDS as fr_stop\n",
    "from spacy.lang.en.stop_words import STOP_WORDS as en_stop\n",
    "\n",
    "nlp = spacy.load(\"fr_core_news_sm\")\n",
    "\n",
    "final_stopwords_list = list(fr_stop) + list(en_stop)\n",
    "\n",
    "\n",
    "tokenize = lambda x : nlp(x)\n",
    "# out = random_sample.apply(tokenize)\n",
    "allowed_postags = [\"NOUN\", \"ADJ\", \"VERB\", \"ADV\"]\n",
    "\n",
    "def preprocess(text):\n",
    "  text = text.replace(newline, \" \")\n",
    "\n",
    "#   tokens = nlp(text)\n",
    "  nlp = spacy.load(\"fr_core_news_sm\", disable = [\"parser\", \"ner\"])\n",
    "  nlp.max_length = 3000000 #this is possible as we're not using parser or ner.\n",
    "#   tokens = nltk.word_tokenize(text); # Converts the text to a list of tokens (strings).\n",
    "  tokens = [token.lower_ for token in tokens] # Lowercases all tokens.\n",
    "  lemmatized_lines = []\n",
    "  for line in tokens :\n",
    "    listtokens = [token.lemma for token in line if token.pos_ in allowed_postag]\n",
    "    lemmatized_lines.append(listtokens)\n",
    "\n",
    "  print(tokens)\n",
    "  stopwords = final_stopwords_list\n",
    "  text = [word for word in tokens if word not in stopwords] #remove the stopwords\n",
    "  print(text)\n",
    "\n",
    "  \n",
    "  return \" \".join(text)"
   ]
  },
  {
   "cell_type": "code",
   "execution_count": 93,
   "metadata": {},
   "outputs": [
    {
     "ename": "ValueError",
     "evalue": "[E1041] Expected a string, Doc, or bytes as input, but got: <class 'float'>",
     "output_type": "error",
     "traceback": [
      "\u001b[1;31m---------------------------------------------------------------------------\u001b[0m",
      "\u001b[1;31mValueError\u001b[0m                                Traceback (most recent call last)",
      "Cell \u001b[1;32mIn[93], line 1\u001b[0m\n\u001b[1;32m----> 1\u001b[0m df[\u001b[38;5;124m\"\u001b[39m\u001b[38;5;124mcleaned\u001b[39m\u001b[38;5;124m\"\u001b[39m] \u001b[38;5;241m=\u001b[39m \u001b[43mlemmatize\u001b[49m\u001b[43m(\u001b[49m\u001b[43mdf\u001b[49m\u001b[43m[\u001b[49m\u001b[38;5;124;43m\"\u001b[39;49m\u001b[38;5;124;43mcleaned\u001b[39;49m\u001b[38;5;124;43m\"\u001b[39;49m\u001b[43m]\u001b[49m\u001b[43m)\u001b[49m\n",
      "Cell \u001b[1;32mIn[90], line 17\u001b[0m, in \u001b[0;36mlemmatize\u001b[1;34m(docs, allowed_postags)\u001b[0m\n\u001b[0;32m     13\u001b[0m   lemmatized_lines \u001b[38;5;241m=\u001b[39m []\n\u001b[0;32m     15\u001b[0m \u001b[38;5;66;03m#   listdocs = docs.tolist()\u001b[39;00m\n\u001b[0;32m     16\u001b[0m \u001b[38;5;66;03m#   for doc in listdocs:\u001b[39;00m\n\u001b[1;32m---> 17\u001b[0m   listoflines \u001b[38;5;241m=\u001b[39m [nlp(line) \u001b[38;5;28;01mfor\u001b[39;00m line \u001b[38;5;129;01min\u001b[39;00m docs]\n\u001b[0;32m     18\u001b[0m \u001b[38;5;66;03m#     docs = nlp(docs)\u001b[39;00m\n\u001b[0;32m     19\u001b[0m   tokens \u001b[38;5;241m=\u001b[39m []\n",
      "Cell \u001b[1;32mIn[90], line 17\u001b[0m, in \u001b[0;36m<listcomp>\u001b[1;34m(.0)\u001b[0m\n\u001b[0;32m     13\u001b[0m   lemmatized_lines \u001b[38;5;241m=\u001b[39m []\n\u001b[0;32m     15\u001b[0m \u001b[38;5;66;03m#   listdocs = docs.tolist()\u001b[39;00m\n\u001b[0;32m     16\u001b[0m \u001b[38;5;66;03m#   for doc in listdocs:\u001b[39;00m\n\u001b[1;32m---> 17\u001b[0m   listoflines \u001b[38;5;241m=\u001b[39m [\u001b[43mnlp\u001b[49m\u001b[43m(\u001b[49m\u001b[43mline\u001b[49m\u001b[43m)\u001b[49m \u001b[38;5;28;01mfor\u001b[39;00m line \u001b[38;5;129;01min\u001b[39;00m docs]\n\u001b[0;32m     18\u001b[0m \u001b[38;5;66;03m#     docs = nlp(docs)\u001b[39;00m\n\u001b[0;32m     19\u001b[0m   tokens \u001b[38;5;241m=\u001b[39m []\n",
      "File \u001b[1;32m~\\anaconda3\\envs\\py310\\lib\\site-packages\\spacy\\language.py:999\u001b[0m, in \u001b[0;36mLanguage.__call__\u001b[1;34m(self, text, disable, component_cfg)\u001b[0m\n\u001b[0;32m    978\u001b[0m \u001b[38;5;28;01mdef\u001b[39;00m \u001b[38;5;21m__call__\u001b[39m(\n\u001b[0;32m    979\u001b[0m     \u001b[38;5;28mself\u001b[39m,\n\u001b[0;32m    980\u001b[0m     text: Union[\u001b[38;5;28mstr\u001b[39m, Doc],\n\u001b[1;32m   (...)\u001b[0m\n\u001b[0;32m    983\u001b[0m     component_cfg: Optional[Dict[\u001b[38;5;28mstr\u001b[39m, Dict[\u001b[38;5;28mstr\u001b[39m, Any]]] \u001b[38;5;241m=\u001b[39m \u001b[38;5;28;01mNone\u001b[39;00m,\n\u001b[0;32m    984\u001b[0m ) \u001b[38;5;241m-\u001b[39m\u001b[38;5;241m>\u001b[39m Doc:\n\u001b[0;32m    985\u001b[0m     \u001b[38;5;124;03m\"\"\"Apply the pipeline to some text. The text can span multiple sentences,\u001b[39;00m\n\u001b[0;32m    986\u001b[0m \u001b[38;5;124;03m    and can contain arbitrary whitespace. Alignment into the original string\u001b[39;00m\n\u001b[0;32m    987\u001b[0m \u001b[38;5;124;03m    is preserved.\u001b[39;00m\n\u001b[1;32m   (...)\u001b[0m\n\u001b[0;32m    997\u001b[0m \u001b[38;5;124;03m    DOCS: https://spacy.io/api/language#call\u001b[39;00m\n\u001b[0;32m    998\u001b[0m \u001b[38;5;124;03m    \"\"\"\u001b[39;00m\n\u001b[1;32m--> 999\u001b[0m     doc \u001b[38;5;241m=\u001b[39m \u001b[38;5;28;43mself\u001b[39;49m\u001b[38;5;241;43m.\u001b[39;49m\u001b[43m_ensure_doc\u001b[49m\u001b[43m(\u001b[49m\u001b[43mtext\u001b[49m\u001b[43m)\u001b[49m\n\u001b[0;32m   1000\u001b[0m     \u001b[38;5;28;01mif\u001b[39;00m component_cfg \u001b[38;5;129;01mis\u001b[39;00m \u001b[38;5;28;01mNone\u001b[39;00m:\n\u001b[0;32m   1001\u001b[0m         component_cfg \u001b[38;5;241m=\u001b[39m {}\n",
      "File \u001b[1;32m~\\anaconda3\\envs\\py310\\lib\\site-packages\\spacy\\language.py:1093\u001b[0m, in \u001b[0;36mLanguage._ensure_doc\u001b[1;34m(self, doc_like)\u001b[0m\n\u001b[0;32m   1091\u001b[0m \u001b[38;5;28;01mif\u001b[39;00m \u001b[38;5;28misinstance\u001b[39m(doc_like, \u001b[38;5;28mbytes\u001b[39m):\n\u001b[0;32m   1092\u001b[0m     \u001b[38;5;28;01mreturn\u001b[39;00m Doc(\u001b[38;5;28mself\u001b[39m\u001b[38;5;241m.\u001b[39mvocab)\u001b[38;5;241m.\u001b[39mfrom_bytes(doc_like)\n\u001b[1;32m-> 1093\u001b[0m \u001b[38;5;28;01mraise\u001b[39;00m \u001b[38;5;167;01mValueError\u001b[39;00m(Errors\u001b[38;5;241m.\u001b[39mE1041\u001b[38;5;241m.\u001b[39mformat(\u001b[38;5;28mtype\u001b[39m\u001b[38;5;241m=\u001b[39m\u001b[38;5;28mtype\u001b[39m(doc_like)))\n",
      "\u001b[1;31mValueError\u001b[0m: [E1041] Expected a string, Doc, or bytes as input, but got: <class 'float'>"
     ]
    }
   ],
   "source": [
    "df[\"cleaned\"] = lemmatize(df[\"cleaned\"])"
   ]
  },
  {
   "cell_type": "code",
   "execution_count": 90,
   "metadata": {},
   "outputs": [],
   "source": [
    "def lemmatize(docs, allowed_postags = [\"NOUN\", \"ADJ\", \"VERB\", \"ADV\"]):\n",
    "  '''\n",
    "  Performs lemmization of input documents.\n",
    "  Args:\n",
    "    - docs: list of strings with input documents\n",
    "    - allowed_postags: list of accepted Part of Speech (POS) types\n",
    "  Output:\n",
    "    - list of strings with lemmatized input\n",
    "  '''\n",
    "  nlp = spacy.load(\"fr_core_news_sm\", disable = [\"parser\", \"ner\"])\n",
    "  nlp.max_length = 3000000 #this is possible as we're not using parser or ner.\n",
    "  lemmatized_docs = []\n",
    "  lemmatized_lines = []\n",
    "\n",
    "#   listdocs = docs.tolist()\n",
    "#   for doc in listdocs:\n",
    "  listoflines = [nlp(line) for line in docs]\n",
    "#     docs = nlp(docs)\n",
    "  tokens = []\n",
    "  for line in listoflines :\n",
    "    listtokens = [token.lemma for token in line if token.pos_ in allowed_postag]\n",
    "#       for token in doc:\n",
    "#         if token.pos_ in allowed_postags:\n",
    "#         tokens.append(token.lemma_)\n",
    "  lemmatized_lines.append(\" \".join(listtokens))\n",
    "\n",
    "  return (lemmatized_docs)"
   ]
  }
 ],
 "metadata": {
  "kernelspec": {
   "display_name": "Python 3 (ipykernel)",
   "language": "python",
   "name": "python3"
  },
  "language_info": {
   "codemirror_mode": {
    "name": "ipython",
    "version": 3
   },
   "file_extension": ".py",
   "mimetype": "text/x-python",
   "name": "python",
   "nbconvert_exporter": "python",
   "pygments_lexer": "ipython3",
   "version": "3.10.6"
  }
 },
 "nbformat": 4,
 "nbformat_minor": 2
}
